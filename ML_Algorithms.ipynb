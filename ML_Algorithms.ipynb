{
 "cells": [
  {
   "cell_type": "markdown",
   "metadata": {},
   "source": [
    "1. Linear Regression\n",
    " \n",
    " > The methodology for measuring the relationship between the two continuous variables is known as Linear Regression.\n",
    " \n",
    "* Independent - \"X\"\n",
    "\n",
    "* Dependent  - \"Y\"\n",
    "\n",
    "* Simple Linear regression  **y = mx + c**  m- slope, c - intercept\n",
    "\n",
    "* Multiple Linear regression **y = m1x1+m2x2+m3x3 + c**\n",
    "\n",
    "    > Least square Estimation/ Minimum sum of squares\n",
    "    \n",
    "    > SSR/SST/ R^2\n",
    "    \n",
    "    > Adjusted R^2\n",
    "    \n",
    "    > correlation coefficient"
   ]
  },
  {
   "cell_type": "markdown",
   "metadata": {},
   "source": [
    "2. Logistic Regression\n",
    " \n",
    " > Binary output\n",
    "\n",
    " > Sigmoid \"s\"\n",
    "    \n",
    " > formula for logistic regression.\n",
    "\n",
    " "
   ]
  },
  {
   "cell_type": "markdown",
   "metadata": {},
   "source": [
    "3. Decission Trees\n",
    "\n",
    " > It facilitates predection as well as classification. using this dt's we can make decissions with a given set of inputs.\n",
    " \n",
    " "
   ]
  },
  {
   "cell_type": "markdown",
   "metadata": {},
   "source": [
    "4. Naive Bayes\n",
    "\n",
    "> It is a class of conditional probability classifier that are based on the **bayes tHeorem**. They assume independence of assumptions between features.\n",
    "\n",
    "> posterior probability https://www.youtube.com/watch?v=F6cHOAhoJm4\n",
    "\n",
    "> prior probability"
   ]
  },
  {
   "cell_type": "markdown",
   "metadata": {},
   "source": [
    "5. K- Means Clustering:\n",
    "\n",
    "> Squared error function\n",
    "\n",
    "> confusion matrix\n",
    "\n",
    "> TPR(True posive rate)\n",
    "\n",
    "> TNR(True Nagative rate)\n",
    "\n",
    "> FPR(False posive rate)\n",
    "\n",
    "> FNR(False nagative rate)\n",
    "\n",
    "> Precission\n",
    "\n",
    "> Recall\n",
    "\n",
    "> F1 Score"
   ]
  },
  {
   "cell_type": "markdown",
   "metadata": {},
   "source": [
    "6. PCA:\n",
    "\n",
    "> Principal component analysis\n",
    "\n",
    "> To reduce the dimensionality"
   ]
  },
  {
   "cell_type": "markdown",
   "metadata": {},
   "source": [
    "7.SVM : \n",
    "\n",
    "> slack variable"
   ]
  },
  {
   "cell_type": "code",
   "execution_count": null,
   "metadata": {},
   "outputs": [],
   "source": [
    "1. Lasso Regression\n",
    "2. Ridge Regression\n",
    "3. Elastic-Net\n",
    "4. Random Forest\n",
    "5. Boosted Trees\n",
    "Standardization\n",
    "Gradient Descent:-"
   ]
  }
 ],
 "metadata": {
  "kernelspec": {
   "display_name": "Python 3",
   "language": "python",
   "name": "python3"
  },
  "language_info": {
   "codemirror_mode": {
    "name": "ipython",
    "version": 3
   },
   "file_extension": ".py",
   "mimetype": "text/x-python",
   "name": "python",
   "nbconvert_exporter": "python",
   "pygments_lexer": "ipython3",
   "version": "3.7.3"
  }
 },
 "nbformat": 4,
 "nbformat_minor": 2
}
