{
 "cells": [
  {
   "cell_type": "markdown",
   "metadata": {},
   "source": [
    "# Promutation and combination"
   ]
  },
  {
   "cell_type": "code",
   "execution_count": 19,
   "metadata": {},
   "outputs": [
    {
     "name": "stdout",
     "output_type": "stream",
     "text": [
      "1 ---> ('a', 'b', 'c', 'd')\n",
      "2 ---> ('a', 'b', 'd', 'c')\n",
      "3 ---> ('a', 'c', 'b', 'd')\n",
      "4 ---> ('a', 'c', 'd', 'b')\n",
      "5 ---> ('a', 'd', 'b', 'c')\n",
      "6 ---> ('a', 'd', 'c', 'b')\n",
      "7 ---> ('b', 'a', 'c', 'd')\n",
      "8 ---> ('b', 'a', 'd', 'c')\n",
      "9 ---> ('b', 'c', 'a', 'd')\n",
      "10 ---> ('b', 'c', 'd', 'a')\n",
      "11 ---> ('b', 'd', 'a', 'c')\n",
      "12 ---> ('b', 'd', 'c', 'a')\n",
      "13 ---> ('c', 'a', 'b', 'd')\n",
      "14 ---> ('c', 'a', 'd', 'b')\n",
      "15 ---> ('c', 'b', 'a', 'd')\n",
      "16 ---> ('c', 'b', 'd', 'a')\n",
      "17 ---> ('c', 'd', 'a', 'b')\n",
      "18 ---> ('c', 'd', 'b', 'a')\n",
      "19 ---> ('d', 'a', 'b', 'c')\n",
      "20 ---> ('d', 'a', 'c', 'b')\n",
      "21 ---> ('d', 'b', 'a', 'c')\n",
      "22 ---> ('d', 'b', 'c', 'a')\n",
      "23 ---> ('d', 'c', 'a', 'b')\n",
      "24 ---> ('d', 'c', 'b', 'a')\n",
      "Total Numbers of permutations----> 24\n"
     ]
    }
   ],
   "source": [
    "from itertools import permutations \n",
    "  \n",
    "# Get all permutations of [a,b,c,d] \n",
    "perm = permutations(['a','b','c','d']) \n",
    "\n",
    "  \n",
    "# Print the obtained permutations \n",
    "total=0\n",
    "for i in list(perm):\n",
    "    total+=1\n",
    "    print (total,'--->',i )\n",
    "print('Total Numbers of permutations---->',total)"
   ]
  },
  {
   "cell_type": "code",
   "execution_count": 22,
   "metadata": {},
   "outputs": [
    {
     "name": "stdout",
     "output_type": "stream",
     "text": [
      "1 ----> (1, 2, 3, 4)\n",
      "2 ----> (1, 2, 3, 5)\n",
      "3 ----> (1, 2, 4, 3)\n",
      "4 ----> (1, 2, 4, 5)\n",
      "5 ----> (1, 2, 5, 3)\n",
      "6 ----> (1, 2, 5, 4)\n",
      "7 ----> (1, 3, 2, 4)\n",
      "8 ----> (1, 3, 2, 5)\n",
      "9 ----> (1, 3, 4, 2)\n",
      "10 ----> (1, 3, 4, 5)\n",
      "11 ----> (1, 3, 5, 2)\n",
      "12 ----> (1, 3, 5, 4)\n",
      "13 ----> (1, 4, 2, 3)\n",
      "14 ----> (1, 4, 2, 5)\n",
      "15 ----> (1, 4, 3, 2)\n",
      "16 ----> (1, 4, 3, 5)\n",
      "17 ----> (1, 4, 5, 2)\n",
      "18 ----> (1, 4, 5, 3)\n",
      "19 ----> (1, 5, 2, 3)\n",
      "20 ----> (1, 5, 2, 4)\n",
      "21 ----> (1, 5, 3, 2)\n",
      "22 ----> (1, 5, 3, 4)\n",
      "23 ----> (1, 5, 4, 2)\n",
      "24 ----> (1, 5, 4, 3)\n",
      "25 ----> (2, 1, 3, 4)\n",
      "26 ----> (2, 1, 3, 5)\n",
      "27 ----> (2, 1, 4, 3)\n",
      "28 ----> (2, 1, 4, 5)\n",
      "29 ----> (2, 1, 5, 3)\n",
      "30 ----> (2, 1, 5, 4)\n",
      "31 ----> (2, 3, 1, 4)\n",
      "32 ----> (2, 3, 1, 5)\n",
      "33 ----> (2, 3, 4, 1)\n",
      "34 ----> (2, 3, 4, 5)\n",
      "35 ----> (2, 3, 5, 1)\n",
      "36 ----> (2, 3, 5, 4)\n",
      "37 ----> (2, 4, 1, 3)\n",
      "38 ----> (2, 4, 1, 5)\n",
      "39 ----> (2, 4, 3, 1)\n",
      "40 ----> (2, 4, 3, 5)\n",
      "41 ----> (2, 4, 5, 1)\n",
      "42 ----> (2, 4, 5, 3)\n",
      "43 ----> (2, 5, 1, 3)\n",
      "44 ----> (2, 5, 1, 4)\n",
      "45 ----> (2, 5, 3, 1)\n",
      "46 ----> (2, 5, 3, 4)\n",
      "47 ----> (2, 5, 4, 1)\n",
      "48 ----> (2, 5, 4, 3)\n",
      "49 ----> (3, 1, 2, 4)\n",
      "50 ----> (3, 1, 2, 5)\n",
      "51 ----> (3, 1, 4, 2)\n",
      "52 ----> (3, 1, 4, 5)\n",
      "53 ----> (3, 1, 5, 2)\n",
      "54 ----> (3, 1, 5, 4)\n",
      "55 ----> (3, 2, 1, 4)\n",
      "56 ----> (3, 2, 1, 5)\n",
      "57 ----> (3, 2, 4, 1)\n",
      "58 ----> (3, 2, 4, 5)\n",
      "59 ----> (3, 2, 5, 1)\n",
      "60 ----> (3, 2, 5, 4)\n",
      "61 ----> (3, 4, 1, 2)\n",
      "62 ----> (3, 4, 1, 5)\n",
      "63 ----> (3, 4, 2, 1)\n",
      "64 ----> (3, 4, 2, 5)\n",
      "65 ----> (3, 4, 5, 1)\n",
      "66 ----> (3, 4, 5, 2)\n",
      "67 ----> (3, 5, 1, 2)\n",
      "68 ----> (3, 5, 1, 4)\n",
      "69 ----> (3, 5, 2, 1)\n",
      "70 ----> (3, 5, 2, 4)\n",
      "71 ----> (3, 5, 4, 1)\n",
      "72 ----> (3, 5, 4, 2)\n",
      "73 ----> (4, 1, 2, 3)\n",
      "74 ----> (4, 1, 2, 5)\n",
      "75 ----> (4, 1, 3, 2)\n",
      "76 ----> (4, 1, 3, 5)\n",
      "77 ----> (4, 1, 5, 2)\n",
      "78 ----> (4, 1, 5, 3)\n",
      "79 ----> (4, 2, 1, 3)\n",
      "80 ----> (4, 2, 1, 5)\n",
      "81 ----> (4, 2, 3, 1)\n",
      "82 ----> (4, 2, 3, 5)\n",
      "83 ----> (4, 2, 5, 1)\n",
      "84 ----> (4, 2, 5, 3)\n",
      "85 ----> (4, 3, 1, 2)\n",
      "86 ----> (4, 3, 1, 5)\n",
      "87 ----> (4, 3, 2, 1)\n",
      "88 ----> (4, 3, 2, 5)\n",
      "89 ----> (4, 3, 5, 1)\n",
      "90 ----> (4, 3, 5, 2)\n",
      "91 ----> (4, 5, 1, 2)\n",
      "92 ----> (4, 5, 1, 3)\n",
      "93 ----> (4, 5, 2, 1)\n",
      "94 ----> (4, 5, 2, 3)\n",
      "95 ----> (4, 5, 3, 1)\n",
      "96 ----> (4, 5, 3, 2)\n",
      "97 ----> (5, 1, 2, 3)\n",
      "98 ----> (5, 1, 2, 4)\n",
      "99 ----> (5, 1, 3, 2)\n",
      "100 ----> (5, 1, 3, 4)\n",
      "101 ----> (5, 1, 4, 2)\n",
      "102 ----> (5, 1, 4, 3)\n",
      "103 ----> (5, 2, 1, 3)\n",
      "104 ----> (5, 2, 1, 4)\n",
      "105 ----> (5, 2, 3, 1)\n",
      "106 ----> (5, 2, 3, 4)\n",
      "107 ----> (5, 2, 4, 1)\n",
      "108 ----> (5, 2, 4, 3)\n",
      "109 ----> (5, 3, 1, 2)\n",
      "110 ----> (5, 3, 1, 4)\n",
      "111 ----> (5, 3, 2, 1)\n",
      "112 ----> (5, 3, 2, 4)\n",
      "113 ----> (5, 3, 4, 1)\n",
      "114 ----> (5, 3, 4, 2)\n",
      "115 ----> (5, 4, 1, 2)\n",
      "116 ----> (5, 4, 1, 3)\n",
      "117 ----> (5, 4, 2, 1)\n",
      "118 ----> (5, 4, 2, 3)\n",
      "119 ----> (5, 4, 3, 1)\n",
      "120 ----> (5, 4, 3, 2)\n",
      "Total Numbers of permutations---->  121\n"
     ]
    }
   ],
   "source": [
    "from itertools import permutations \n",
    "# Get all permutations of length 2 \n",
    "# and length 2 \n",
    "premo=permutations([1,2,3,4,5],4)\n",
    "x=1   \n",
    "for i in list(premo):\n",
    "    print(x,'---->',i)\n",
    "    x=x+1\n",
    "print('Total Numbers of permutations----> ',x)    \n",
    "    \n",
    "        \n",
    "    \n",
    "\n"
   ]
  },
  {
   "cell_type": "code",
   "execution_count": 4,
   "metadata": {},
   "outputs": [
    {
     "name": "stdout",
     "output_type": "stream",
     "text": [
      "(1, 2, 3, 4)\n",
      "(1, 2, 3, 5)\n",
      "(1, 2, 4, 5)\n",
      "(1, 3, 4, 5)\n",
      "(2, 3, 4, 5)\n"
     ]
    }
   ],
   "source": [
    "from itertools import combinations\n",
    "comp=combinations([1,2,3,4,5],4)\n",
    "for i in list(comp):\n",
    "    print(i)"
   ]
  },
  {
   "cell_type": "code",
   "execution_count": 49,
   "metadata": {},
   "outputs": [
    {
     "name": "stdout",
     "output_type": "stream",
     "text": [
      "('r', 'a', 'm')\n",
      "('r', 'a', 'u')\n",
      "('r', 'm', 'u')\n",
      "('a', 'm', 'u')\n"
     ]
    }
   ],
   "source": [
    "from itertools import combinations\n",
    "import math\n",
    "  \n",
    "# Get all combinations of [1, 2, 3] \n",
    "# and length 2 \n",
    "\n",
    "comb = combinations(['r','a','m','u'], 3) \n",
    "  \n",
    "# Print the obtained combinations \n",
    "for i in list(comb): \n",
    "    print (i )"
   ]
  },
  {
   "cell_type": "code",
   "execution_count": 46,
   "metadata": {},
   "outputs": [
    {
     "ename": "NameError",
     "evalue": "name 'ramu' is not defined",
     "output_type": "error",
     "traceback": [
      "\u001b[1;31m---------------------------------------------------------------------------\u001b[0m",
      "\u001b[1;31mNameError\u001b[0m                                 Traceback (most recent call last)",
      "\u001b[1;32m<ipython-input-46-5c4456065187>\u001b[0m in \u001b[0;36m<module>\u001b[1;34m\u001b[0m\n\u001b[0;32m      4\u001b[0m \u001b[1;33m\u001b[0m\u001b[0m\n\u001b[0;32m      5\u001b[0m \u001b[1;31m# Get all combinations of [1, 2, 3] and length 2\u001b[0m\u001b[1;33m\u001b[0m\u001b[1;33m\u001b[0m\u001b[1;33m\u001b[0m\u001b[0m\n\u001b[1;32m----> 6\u001b[1;33m \u001b[0mcomb\u001b[0m \u001b[1;33m=\u001b[0m \u001b[0mcombinations_with_replacement\u001b[0m\u001b[1;33m(\u001b[0m\u001b[1;33m[\u001b[0m\u001b[0mramu\u001b[0m\u001b[1;33m]\u001b[0m\u001b[1;33m,\u001b[0m \u001b[1;36m3\u001b[0m \u001b[1;33m)\u001b[0m\u001b[1;33m\u001b[0m\u001b[1;33m\u001b[0m\u001b[0m\n\u001b[0m\u001b[0;32m      7\u001b[0m \u001b[1;33m\u001b[0m\u001b[0m\n\u001b[0;32m      8\u001b[0m \u001b[1;31m# Print the obtained combinations\u001b[0m\u001b[1;33m\u001b[0m\u001b[1;33m\u001b[0m\u001b[1;33m\u001b[0m\u001b[0m\n",
      "\u001b[1;31mNameError\u001b[0m: name 'ramu' is not defined"
     ]
    }
   ],
   "source": [
    "\n",
    "  \n",
    "from itertools import combinations_with_replacement \n",
    "  \n",
    "# Get all combinations of [1, 2, 3] and length 2 \n",
    "comb = combinations_with_replacement([1,2,3], 3 )\n",
    "  \n",
    "# Print the obtained combinations \n",
    "for i in list(comb): \n",
    "    print (i )"
   ]
  },
  {
   "cell_type": "code",
   "execution_count": 11,
   "metadata": {},
   "outputs": [
    {
     "name": "stdout",
     "output_type": "stream",
     "text": [
      "3628800\n"
     ]
    }
   ],
   "source": [
    "import math\n",
    "print(math.factorial(10))\n"
   ]
  },
  {
   "cell_type": "code",
   "execution_count": 54,
   "metadata": {},
   "outputs": [
    {
     "data": {
      "text/plain": [
       "3125"
      ]
     },
     "execution_count": 54,
     "metadata": {},
     "output_type": "execute_result"
    }
   ],
   "source": [
    "5**5"
   ]
  },
  {
   "cell_type": "code",
   "execution_count": 44,
   "metadata": {},
   "outputs": [
    {
     "name": "stdout",
     "output_type": "stream",
     "text": [
      "welcome to nCr combination please enter n value: 4\n",
      " please enter r value: 3\n",
      "4.0\n"
     ]
    }
   ],
   "source": [
    "# nCr function in python\n",
    "\n",
    "import math\n",
    "\n",
    "def nCr(n,r):\n",
    "    f = math.factorial\n",
    "    return f(n) / f(r) / f(n-r)\n",
    "\n",
    "num1=int(input('welcome to nCr combination please enter n value: '))\n",
    "num2=int(input(' please enter r value: '))\n",
    "print (nCr(num1,num2))"
   ]
  },
  {
   "cell_type": "code",
   "execution_count": 52,
   "metadata": {},
   "outputs": [
    {
     "name": "stdout",
     "output_type": "stream",
     "text": [
      "120\n"
     ]
    }
   ],
   "source": [
    "import math\n",
    "f=math.factorial\n",
    "print(f(5))"
   ]
  },
  {
   "cell_type": "code",
   "execution_count": null,
   "metadata": {},
   "outputs": [],
   "source": []
  },
  {
   "cell_type": "code",
   "execution_count": null,
   "metadata": {},
   "outputs": [],
   "source": []
  },
  {
   "cell_type": "code",
   "execution_count": null,
   "metadata": {},
   "outputs": [],
   "source": []
  },
  {
   "cell_type": "code",
   "execution_count": null,
   "metadata": {},
   "outputs": [],
   "source": []
  },
  {
   "cell_type": "code",
   "execution_count": null,
   "metadata": {},
   "outputs": [],
   "source": []
  },
  {
   "cell_type": "code",
   "execution_count": null,
   "metadata": {},
   "outputs": [],
   "source": []
  },
  {
   "cell_type": "code",
   "execution_count": null,
   "metadata": {},
   "outputs": [],
   "source": []
  },
  {
   "cell_type": "code",
   "execution_count": null,
   "metadata": {},
   "outputs": [],
   "source": []
  },
  {
   "cell_type": "code",
   "execution_count": null,
   "metadata": {},
   "outputs": [],
   "source": []
  }
 ],
 "metadata": {
  "kernelspec": {
   "display_name": "Python 3",
   "language": "python",
   "name": "python3"
  },
  "language_info": {
   "codemirror_mode": {
    "name": "ipython",
    "version": 3
   },
   "file_extension": ".py",
   "mimetype": "text/x-python",
   "name": "python",
   "nbconvert_exporter": "python",
   "pygments_lexer": "ipython3",
   "version": "3.7.3"
  }
 },
 "nbformat": 4,
 "nbformat_minor": 2
}
