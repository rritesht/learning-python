{
 "cells": [
  {
   "cell_type": "code",
   "execution_count": 2,
   "metadata": {},
   "outputs": [],
   "source": [
    "with open('C:\\\\Users\\\\RITESH TIWARI\\\\Desktop\\\\fdf/brent.txt','r')as f:\n",
    "    brent = f.read().splitlines()\n",
    "with open('C:\\\\Users\\\\RITESH TIWARI\\\\Desktop\\\\fdf/camden.txt','r')as c:\n",
    "    camden = c.read().splitlines()    \n",
    "with open('C:\\\\Users\\\\RITESH TIWARI\\\\Desktop\\\\fdf/redbridge.txt','r')as r:\n",
    "    redbridge = r.read().splitlines() \n",
    "with open('C:\\\\Users\\\\RITESH TIWARI\\\\Desktop\\\\fdf/southwark.txt','r')as s:\n",
    "    southwark = s.read().splitlines() \n",
    "    \n",
    "    \n",
    "\n"
   ]
  },
  {
   "cell_type": "code",
   "execution_count": 3,
   "metadata": {},
   "outputs": [
    {
     "name": "stdout",
     "output_type": "stream",
     "text": [
      "['Brent Park', 'Church End', 'Dollis Hill', 'Harlesden', 'Kensal Green', 'Kingsbury', 'Neasden', 'Preston', \"Queen's Park\", 'Tokyngton', 'Wembley', 'Wembley Park', 'Willesden', 'Park Royal', 'Kenton', 'Kilburn', 'Sudbury', 'Brondesbury', 'Alperton']\n",
      "['Chalk Farm', 'Dartmouth Park', 'Fitzrovia', 'Frognal', 'Bloomsbury', 'Gospel Oak', 'Hampstead', 'Highgate', 'Holborn', 'Kentish Town', 'Gospel Oak', 'Primrose Hill', 'Somerstown', 'St Giles', 'St Pancras', 'Swiss Cottage', 'West Hampstead', \"King's Cross\", 'Somerstown', 'Belsize Park', 'Bloomsbury', 'Camden Town']\n",
      "['Chadwell Heath', 'Gants Hill', 'Goodmayes', 'Snaresbrook', 'Hainault', 'Ilford', 'Loxford', 'Newbury Park', 'Hainault', 'Redbridge', 'Seven Kings', 'South Woodford', 'Wanstead', 'Woodford', 'Woodford Green', 'Snaresbrook', 'Aldborough Hatch', 'Barkingside']\n",
      "['Denmark Hill', 'Dulwich', 'Surrey Quays', 'East Dulwich', 'Elephant and Castle', 'Newington', 'Nunhead', 'Peckham', 'Rotherhithe', 'Surrey Quays', 'Nunhead', 'Walworth', 'Bermondsey', 'Camberwell', 'Bankside']\n"
     ]
    }
   ],
   "source": [
    "print(brent)\n",
    "print(camden)\n",
    "print(redbridge)\n",
    "print(southwark)"
   ]
  },
  {
   "cell_type": "code",
   "execution_count": 3,
   "metadata": {},
   "outputs": [
    {
     "name": "stdout",
     "output_type": "stream",
     "text": [
      "['Brent Park', 'Church End', 'Dollis Hill', 'Harlesden']\n",
      "['Chalk Farm', 'Dartmouth Park', 'Fitzrovia', 'Frognal']\n",
      "['Chadwell Heath', 'Gants Hill', 'Goodmayes', 'Snaresbrook']\n",
      "['Denmark Hill', 'Dulwich', 'Surrey Quays', 'East Dulwich']\n"
     ]
    }
   ],
   "source": [
    "print(brent[0:4])\n",
    "print(camden[0:4])\n",
    "print(redbridge[0:4])\n",
    "print(southwark[0:4])\n"
   ]
  },
  {
   "cell_type": "code",
   "execution_count": 4,
   "metadata": {},
   "outputs": [
    {
     "name": "stdout",
     "output_type": "stream",
     "text": [
      "19\n",
      "22\n",
      "18\n",
      "15\n"
     ]
    }
   ],
   "source": [
    "print(len(brent))\n",
    "print(len(camden))\n",
    "print(len(redbridge))\n",
    "print(len(southwark))"
   ]
  },
  {
   "cell_type": "code",
   "execution_count": 5,
   "metadata": {},
   "outputs": [
    {
     "name": "stdout",
     "output_type": "stream",
     "text": [
      "yes available\n"
     ]
    }
   ],
   "source": [
    "if 'Newbury Park'in redbridge:\n",
    "    print('yes available')\n",
    "else:\n",
    "    print('not available')"
   ]
  },
  {
   "cell_type": "code",
   "execution_count": 6,
   "metadata": {},
   "outputs": [
    {
     "name": "stdout",
     "output_type": "stream",
     "text": [
      "not available\n"
     ]
    }
   ],
   "source": [
    "if 'Peckham'in brent:\n",
    "    print('yes available')\n",
    "else:\n",
    "    print('not available')"
   ]
  },
  {
   "cell_type": "code",
   "execution_count": 7,
   "metadata": {},
   "outputs": [
    {
     "name": "stdout",
     "output_type": "stream",
     "text": [
      "maximum value in brent list is:Willesden \n",
      " minimun valuein brent list is :Alperton\n",
      "maximum value in camden list is:West Hampstead \n",
      " minimun value in camden list is :Belsize Park\n",
      "maximum value in redbridge list is:Woodford Green \n",
      " minimun value in redbridge list is :Aldborough Hatch\n",
      "maximum value in southwark list is:Walworth \n",
      " minimun value in southwark list is :Bankside\n"
     ]
    }
   ],
   "source": [
    "print(f'maximum value in brent list is:{max(brent)} \\n minimun valuein brent list is :{min(brent)}')\n",
    "print(f'maximum value in camden list is:{max(camden)} \\n minimun value in camden list is :{min(camden)}')\n",
    "print(f'maximum value in redbridge list is:{max(redbridge)} \\n minimun value in redbridge list is :{min(redbridge)}')\n",
    "print(f'maximum value in southwark list is:{max(southwark)} \\n minimun value in southwark list is :{min(southwark)}')"
   ]
  },
  {
   "cell_type": "code",
   "execution_count": 8,
   "metadata": {},
   "outputs": [
    {
     "name": "stdout",
     "output_type": "stream",
     "text": [
      "['Brent Park', 'Church End', 'Dollis Hill', 'Harlesden', 'Kensal Green', 'Kingsbury', 'Neasden', 'Preston', \"Queen's Park\", 'Tokyngton', 'Wembley', 'Wembley Park', 'Willesden', 'Park Royal', 'Kenton', 'Kilburn', 'Sudbury', 'Brondesbury', 'Alperton']\n"
     ]
    }
   ],
   "source": [
    "with open('C:\\\\Users\\\\RITESH TIWARI\\\\Desktop\\\\fdf/brent.txt','r')as f:\n",
    "    brent = f.read().splitlines()\n",
    "print(brent)    "
   ]
  },
  {
   "cell_type": "code",
   "execution_count": 9,
   "metadata": {},
   "outputs": [
    {
     "name": "stdout",
     "output_type": "stream",
     "text": [
      "['B', 'r', 'e', 'n', 't', ' ', 'P', 'a', 'r', 'k', 'C', 'h', 'u', 'r', 'c', 'h', ' ', 'E', 'n', 'd', 'D', 'o', 'l', 'l', 'i', 's', ' ', 'H', 'i', 'l', 'l', 'H', 'a', 'r', 'l', 'e', 's', 'd', 'e', 'n', 'K', 'e', 'n', 's', 'a', 'l', ' ', 'G', 'r', 'e', 'e', 'n', 'K', 'i', 'n', 'g', 's', 'b', 'u', 'r', 'y', 'N', 'e', 'a', 's', 'd', 'e', 'n', 'P', 'r', 'e', 's', 't', 'o', 'n', 'Q', 'u', 'e', 'e', 'n', \"'\", 's', ' ', 'P', 'a', 'r', 'k', 'T', 'o', 'k', 'y', 'n', 'g', 't', 'o', 'n', 'W', 'e', 'm', 'b', 'l', 'e', 'y', 'W', 'e', 'm', 'b', 'l', 'e', 'y', ' ', 'P', 'a', 'r', 'k', 'W', 'i', 'l', 'l', 'e', 's', 'd', 'e', 'n', 'P', 'a', 'r', 'k', ' ', 'R', 'o', 'y', 'a', 'l', 'K', 'e', 'n', 't', 'o', 'n', 'K', 'i', 'l', 'b', 'u', 'r', 'n', 'S', 'u', 'd', 'b', 'u', 'r', 'y', 'B', 'r', 'o', 'n', 'd', 'e', 's', 'b', 'u', 'r', 'y', 'A', 'l', 'p', 'e', 'r', 't', 'o', 'n']\n"
     ]
    }
   ],
   "source": [
    "aifa=[]\n",
    "for i in brent:\n",
    "    if i==i:\n",
    "        aifa+=i\n",
    "print(aifa)\n",
    "    "
   ]
  },
  {
   "cell_type": "code",
   "execution_count": null,
   "metadata": {},
   "outputs": [],
   "source": []
  },
  {
   "cell_type": "code",
   "execution_count": 10,
   "metadata": {},
   "outputs": [
    {
     "name": "stdout",
     "output_type": "stream",
     "text": [
      "['Brent Park', 'Church End', 'Dollis Hill', 'Harlesden', 'Kensal Green', 'Kingsbury', 'Neasden', 'Preston', \"Queen's Park\", 'Tokyngton', 'Wembley', 'Wembley Park', 'Willesden', 'Park Royal', 'Kenton', 'Kilburn', 'Sudbury', 'Brondesbury', 'Alperton']\n",
      "For the given list no duplicates found\n"
     ]
    }
   ],
   "source": [
    "with open('C:\\\\Users\\\\RITESH TIWARI\\\\Desktop\\\\fdf/brent.txt','r')as f:\n",
    "    brent = f.read().splitlines()\n",
    "print(brent)   \n",
    "\n",
    "\n",
    "def duplicate(camden):\n",
    "    lis2=[]\n",
    "    dups=[]\n",
    "    count =0\n",
    "    for name in camden:\n",
    "        if name not in lis2:\n",
    "            lis2.append(name)\n",
    "        elif name in lis2:\n",
    "            dups.append(name)\n",
    "    dups_count = {i:dups.count(i) for i in dups}\n",
    "    \n",
    "    if len(dups)==0:\n",
    "        return (\"For the given list no duplicates found\")\n",
    "    else:\n",
    "        return (\"Please find the list of duplicates along with their counts:\",dups_count)\n",
    "print(duplicate(brent))\n",
    "    "
   ]
  },
  {
   "cell_type": "code",
   "execution_count": 11,
   "metadata": {},
   "outputs": [
    {
     "ename": "SyntaxError",
     "evalue": "invalid syntax (<ipython-input-11-c4b0a8f1b1b1>, line 33)",
     "output_type": "error",
     "traceback": [
      "\u001b[1;36m  File \u001b[1;32m\"<ipython-input-11-c4b0a8f1b1b1>\"\u001b[1;36m, line \u001b[1;32m33\u001b[0m\n\u001b[1;33m    for key, value\u001b[0m\n\u001b[1;37m                  ^\u001b[0m\n\u001b[1;31mSyntaxError\u001b[0m\u001b[1;31m:\u001b[0m invalid syntax\n"
     ]
    }
   ],
   "source": [
    "# Finding duplicates in all 3 regions\n",
    "\n",
    "dup_camden    = []\n",
    "dup_redbridge = []\n",
    "dup_southwark = []\n",
    "\n",
    "locs = [camden,redbridge,southwark]\n",
    "for lo in locs:\n",
    "        if lo==camden:\n",
    "            for c in lo:\n",
    "                if (lo.count(c))>1:\n",
    "                    vali = c in dup_camden\n",
    "                    if vali== False :\n",
    "                        dup_camden.append(c)                        \n",
    "               \n",
    "        if lo==redbridge:\n",
    "            for c in lo:\n",
    "                if (lo.count(c))>1:\n",
    "                    vali = c in dup_redbridge\n",
    "                    if vali== False :\n",
    "                        dup_redbridge.append(c)\n",
    "                        \n",
    "\n",
    "        if lo == southwark:\n",
    "            for c in lo:\n",
    "                if (lo.count(c))>1:\n",
    "                    vali = c in dup_southwark\n",
    "                    if vali== False :\n",
    "                        dup_southwark.append(c) \n",
    "                        \n",
    "# to print all duplicate locations            \n",
    "duplis = {'camden':dup_camden,'rb' : dup_redbridge,'sw' :dup_southwark}\n",
    "for key, value\n"
   ]
  },
  {
   "cell_type": "code",
   "execution_count": null,
   "metadata": {},
   "outputs": [],
   "source": [
    "print(brent)"
   ]
  },
  {
   "cell_type": "code",
   "execution_count": null,
   "metadata": {},
   "outputs": [],
   "source": [
    "print(duplicate(brent))"
   ]
  },
  {
   "cell_type": "code",
   "execution_count": 23,
   "metadata": {},
   "outputs": [
    {
     "name": "stdout",
     "output_type": "stream",
     "text": [
      "please enter your math marks100\n",
      "please enter your science marks100\n",
      "please enter your history marks100\n",
      "please enter your geography marks100\n",
      "400\n",
      "a\n"
     ]
    }
   ],
   "source": [
    "#math=100,science=100,history=100,geogrophy=100\n",
    "math=int(input('please enter your math marks' ))\n",
    "science=int(input('please enter your science marks' ))\n",
    "history=int(input('please enter your history marks' ))\n",
    "geography=int(input('please enter your geography marks' ))\n",
    "sum1=(math+science+history+geography)\n",
    "print(sum1)\n",
    "\n",
    "if 0<sum1<100:\n",
    "    print('fail')\n",
    "elif 100<sum1<250:\n",
    "    print('good')\n",
    "else:\n",
    "    print('a')\n",
    "    "
   ]
  },
  {
   "cell_type": "code",
   "execution_count": 4,
   "metadata": {},
   "outputs": [
    {
     "name": "stdout",
     "output_type": "stream",
     "text": [
      "['Brent Park', 'Church End', 'Dollis Hill', 'Harlesden', 'Kensal Green', 'Kingsbury', 'Neasden', 'Preston', \"Queen's Park\", 'Tokyngton', 'Wembley', 'Wembley Park', 'Willesden', 'Park Royal', 'Kenton', 'Kilburn', 'Sudbury', 'Brondesbury', 'Alperton']\n"
     ]
    }
   ],
   "source": [
    "with open('C:\\\\Users\\\\RITESH TIWARI\\\\Desktop\\\\fdf/brent.txt','r')as f:\n",
    "    brent = f.read().splitlines()\n",
    "with open('C:\\\\Users\\\\RITESH TIWARI\\\\Desktop\\\\fdf/camden.txt','r')as c:\n",
    "    camden = c.read().splitlines()    \n",
    "with open('C:\\\\Users\\\\RITESH TIWARI\\\\Desktop\\\\fdf/redbridge.txt','r')as r:\n",
    "    redbridge = r.read().splitlines() \n",
    "with open('C:\\\\Users\\\\RITESH TIWARI\\\\Desktop\\\\fdf/southwark.txt','r')as s:\n",
    "    southwark = s.read().splitlines()   "
   ]
  },
  {
   "cell_type": "code",
   "execution_count": 5,
   "metadata": {},
   "outputs": [
    {
     "name": "stdout",
     "output_type": "stream",
     "text": [
      "['Brent Park', 'Church End', 'Dollis Hill', 'Harlesden', 'Kensal Green', 'Kingsbury', 'Neasden', 'Preston', \"Queen's Park\", 'Tokyngton', 'Wembley', 'Wembley Park', 'Willesden', 'Park Royal', 'Kenton', 'Kilburn', 'Sudbury', 'Brondesbury', 'Alperton']\n"
     ]
    }
   ],
   "source": [
    "print(brent)"
   ]
  },
  {
   "cell_type": "code",
   "execution_count": 4,
   "metadata": {},
   "outputs": [
    {
     "name": "stdout",
     "output_type": "stream",
     "text": [
      "19\n",
      "22\n",
      "18\n",
      "15\n"
     ]
    }
   ],
   "source": [
    "print(len(brent))\n",
    "print(len(camden))\n",
    "print(len(redbridge))\n",
    "print(len(southwark))"
   ]
  },
  {
   "cell_type": "code",
   "execution_count": 6,
   "metadata": {},
   "outputs": [
    {
     "data": {
      "text/plain": [
       "False"
      ]
     },
     "execution_count": 6,
     "metadata": {},
     "output_type": "execute_result"
    }
   ],
   "source": [
    "len (camden)== len(list(set(camden)))"
   ]
  },
  {
   "cell_type": "code",
   "execution_count": null,
   "metadata": {},
   "outputs": [],
   "source": []
  },
  {
   "cell_type": "code",
   "execution_count": null,
   "metadata": {},
   "outputs": [],
   "source": []
  },
  {
   "cell_type": "code",
   "execution_count": 6,
   "metadata": {},
   "outputs": [
    {
     "name": "stdout",
     "output_type": "stream",
     "text": [
      "['Chalk Farm', 'Dartmouth Park', 'Fitzrovia', 'Frognal', 'Bloomsbury', 'Gospel Oak', 'Hampstead', 'Highgate', 'Holborn', 'Kentish Town', 'Gospel Oak', 'Primrose Hill', 'Somerstown', 'St Giles', 'St Pancras', 'Swiss Cottage', 'West Hampstead', \"King's Cross\", 'Somerstown', 'Belsize Park', 'Bloomsbury', 'Camden Town']\n"
     ]
    }
   ],
   "source": [
    "print(camden)"
   ]
  },
  {
   "cell_type": "code",
   "execution_count": 31,
   "metadata": {},
   "outputs": [
    {
     "name": "stdout",
     "output_type": "stream",
     "text": [
      "['Chalk Farm', 'Dartmouth Park', 'Fitzrovia', 'Frognal', 'Bloomsbury', 'Gospel Oak', 'Hampstead', 'Highgate', 'Holborn', 'Kentish Town', 'Primrose Hill', 'Somerstown', 'St Giles', 'St Pancras', 'Swiss Cottage', 'West Hampstead', \"King's Cross\", 'Belsize Park', 'Camden Town']\n",
      "19\n"
     ]
    }
   ],
   "source": [
    "#all=[brent,camden,redbridge,southwark]\n",
    "\n",
    "orignal=[]\n",
    "for i in camden:\n",
    "    if i not in orignal:\n",
    "        orignal.append(i)\n",
    "print(orignal)\n",
    "print(len(orignal))\n",
    "\n",
    "        "
   ]
  },
  {
   "cell_type": "code",
   "execution_count": 6,
   "metadata": {},
   "outputs": [
    {
     "name": "stdout",
     "output_type": "stream",
     "text": [
      "['Brent Park', 'Church End', 'Dollis Hill', 'Harlesden', 'Kensal Green', 'Kingsbury', 'Neasden', 'Preston', \"Queen's Park\", 'Tokyngton', 'Wembley', 'Wembley Park', 'Willesden', 'Park Royal', 'Kenton', 'Kilburn', 'Sudbury', 'Brondesbury', 'Alperton']\n",
      "19\n",
      "['Chalk Farm', 'Dartmouth Park', 'Fitzrovia', 'Frognal', 'Bloomsbury', 'Gospel Oak', 'Hampstead', 'Highgate', 'Holborn', 'Kentish Town', 'Primrose Hill', 'Somerstown', 'St Giles', 'St Pancras', 'Swiss Cottage', 'West Hampstead', \"King's Cross\", 'Belsize Park', 'Camden Town']\n",
      "19\n",
      "['Chadwell Heath', 'Gants Hill', 'Goodmayes', 'Snaresbrook', 'Hainault', 'Ilford', 'Loxford', 'Newbury Park', 'Redbridge', 'Seven Kings', 'South Woodford', 'Wanstead', 'Woodford', 'Woodford Green', 'Aldborough Hatch', 'Barkingside']\n",
      "16\n",
      "['Denmark Hill', 'Dulwich', 'Surrey Quays', 'East Dulwich', 'Elephant and Castle', 'Newington', 'Nunhead', 'Peckham', 'Rotherhithe', 'Walworth', 'Bermondsey', 'Camberwell', 'Bankside']\n",
      "13\n"
     ]
    }
   ],
   "source": [
    "def sam(d):\n",
    "    gaga=[]\n",
    "    for i in d:\n",
    "        if i not in gaga:\n",
    "            gaga.append(i)\n",
    "    return gaga      \n",
    "ali=[brent,camden,redbridge,southwark]\n",
    "for i in ali:\n",
    "    print(sam(i))\n",
    "    print(len(sam(i)))"
   ]
  },
  {
   "cell_type": "markdown",
   "metadata": {},
   "source": [
    "### Dictionary function and loop"
   ]
  },
  {
   "cell_type": "code",
   "execution_count": null,
   "metadata": {},
   "outputs": [],
   "source": [
    "# you need to add these below two into locations with the specified names\n",
    "\n",
    "# Inner_london  = camden + southwark\n",
    "# Outer_london  = brent + redbridge\n",
    "\n",
    "# number of locations in all 6 regions need to print with help of loop\n",
    "\n",
    "# by using conditional statment need to find from where i need to start my toure{more locs is my choice}"
   ]
  },
  {
   "cell_type": "code",
   "execution_count": 5,
   "metadata": {},
   "outputs": [
    {
     "name": "stdout",
     "output_type": "stream",
     "text": [
      "{'brent': ['Brent Park', 'Church End', 'Dollis Hill', 'Harlesden', 'Kensal Green', 'Kingsbury', 'Neasden', 'Preston', \"Queen's Park\", 'Tokyngton', 'Wembley', 'Wembley Park', 'Willesden', 'Park Royal', 'Kenton', 'Kilburn', 'Sudbury', 'Brondesbury', 'Alperton'], 'camden': ['Chalk Farm', 'Dartmouth Park', 'Fitzrovia', 'Frognal', 'Bloomsbury', 'Gospel Oak', 'Hampstead', 'Highgate', 'Holborn', 'Kentish Town', 'Gospel Oak', 'Primrose Hill', 'Somerstown', 'St Giles', 'St Pancras', 'Swiss Cottage', 'West Hampstead', \"King's Cross\", 'Somerstown', 'Belsize Park', 'Bloomsbury', 'Camden Town'], 'redbridge': ['Chadwell Heath', 'Gants Hill', 'Goodmayes', 'Snaresbrook', 'Hainault', 'Ilford', 'Loxford', 'Newbury Park', 'Hainault', 'Redbridge', 'Seven Kings', 'South Woodford', 'Wanstead', 'Woodford', 'Woodford Green', 'Snaresbrook', 'Aldborough Hatch', 'Barkingside'], 'southwark': ['Denmark Hill', 'Dulwich', 'Surrey Quays', 'East Dulwich', 'Elephant and Castle', 'Newington', 'Nunhead', 'Peckham', 'Rotherhithe', 'Surrey Quays', 'Nunhead', 'Walworth', 'Bermondsey', 'Camberwell', 'Bankside']}\n",
      "________________________________________________________________________________________________________________________\n",
      "dict_items([('brent', ['Brent Park', 'Church End', 'Dollis Hill', 'Harlesden', 'Kensal Green', 'Kingsbury', 'Neasden', 'Preston', \"Queen's Park\", 'Tokyngton', 'Wembley', 'Wembley Park', 'Willesden', 'Park Royal', 'Kenton', 'Kilburn', 'Sudbury', 'Brondesbury', 'Alperton']), ('camden', ['Chalk Farm', 'Dartmouth Park', 'Fitzrovia', 'Frognal', 'Bloomsbury', 'Gospel Oak', 'Hampstead', 'Highgate', 'Holborn', 'Kentish Town', 'Gospel Oak', 'Primrose Hill', 'Somerstown', 'St Giles', 'St Pancras', 'Swiss Cottage', 'West Hampstead', \"King's Cross\", 'Somerstown', 'Belsize Park', 'Bloomsbury', 'Camden Town']), ('redbridge', ['Chadwell Heath', 'Gants Hill', 'Goodmayes', 'Snaresbrook', 'Hainault', 'Ilford', 'Loxford', 'Newbury Park', 'Hainault', 'Redbridge', 'Seven Kings', 'South Woodford', 'Wanstead', 'Woodford', 'Woodford Green', 'Snaresbrook', 'Aldborough Hatch', 'Barkingside']), ('southwark', ['Denmark Hill', 'Dulwich', 'Surrey Quays', 'East Dulwich', 'Elephant and Castle', 'Newington', 'Nunhead', 'Peckham', 'Rotherhithe', 'Surrey Quays', 'Nunhead', 'Walworth', 'Bermondsey', 'Camberwell', 'Bankside'])])\n"
     ]
    }
   ],
   "source": [
    "dic={'brent':brent,'camden':camden,'redbridge':redbridge,'southwark':southwark}\n",
    "print(dic)\n",
    "print('________________________________________________________________________________________________________________________')\n",
    "print(dic.items())"
   ]
  },
  {
   "cell_type": "code",
   "execution_count": 37,
   "metadata": {},
   "outputs": [
    {
     "data": {
      "text/plain": [
       "dict_keys(['brent', 'camden', 'redbridge', 'southwark', 'Inner_london', 'Outer_london'])"
      ]
     },
     "execution_count": 37,
     "metadata": {},
     "output_type": "execute_result"
    }
   ],
   "source": [
    "dic ['Inner_london' ] = camden + southwark\n",
    "dic ['Outer_london']  = brent + redbridge\n",
    "dic.keys()"
   ]
  },
  {
   "cell_type": "code",
   "execution_count": 42,
   "metadata": {},
   "outputs": [
    {
     "name": "stdout",
     "output_type": "stream",
     "text": [
      "leanth of brent is :19\n",
      "leanth of camden is :22\n",
      "leanth of redbridge is :18\n",
      "leanth of southwark is :15\n",
      "leanth of Inner_london is :37\n",
      "leanth of Outer_london is :37\n"
     ]
    }
   ],
   "source": [
    "for a,b in dic.items():\n",
    "    print(f'leanth of {a} is :{len(b)}')"
   ]
  },
  {
   "cell_type": "code",
   "execution_count": 48,
   "metadata": {},
   "outputs": [
    {
     "name": "stdout",
     "output_type": "stream",
     "text": [
      "37\n",
      "37\n"
     ]
    }
   ],
   "source": [
    "print(len(dic['Inner_london']))\n",
    "print(len(dic['Outer_london']))"
   ]
  },
  {
   "cell_type": "code",
   "execution_count": 49,
   "metadata": {},
   "outputs": [
    {
     "name": "stdout",
     "output_type": "stream",
     "text": [
      "both have same numbers of location you can choise as your wish\n"
     ]
    }
   ],
   "source": [
    "inner=(len(dic['Inner_london']))\n",
    "outer=(len(dic['Outer_london']))\n",
    "if inner>outer:\n",
    "    print('you can start your tour from inner_london')\n",
    "elif outer>inner:\n",
    "    print('you can start your tour from outer_london')\n",
    "else:\n",
    "    print('both have same numbers of location you can choise as your wish')"
   ]
  },
  {
   "cell_type": "code",
   "execution_count": 64,
   "metadata": {},
   "outputs": [],
   "source": [
    "l=[brent,camden]\n",
    "for i in l:\n",
    "    if l.count(i)>1:\n",
    "        print(i)"
   ]
  },
  {
   "cell_type": "code",
   "execution_count": 71,
   "metadata": {},
   "outputs": [
    {
     "name": "stdout",
     "output_type": "stream",
     "text": [
      "{'a': 2, 'b': 4, 'c': 6, 'd': 8, 'e': 10}\n"
     ]
    }
   ],
   "source": [
    "#Double each value in dictionary\n",
    "dict1 = {'a': 1, 'b': 2, 'c': 3, 'd': 4, 'e': 5}\n",
    "double_dict1 = {k:v*2 for (k,v) in dict1.items()}\n",
    "print(double_dict1)"
   ]
  },
  {
   "cell_type": "code",
   "execution_count": 69,
   "metadata": {},
   "outputs": [
    {
     "data": {
      "text/plain": [
       "{'aa': 1, 'bb': 2, 'cc': 3, 'dd': 4, 'ee': 5}"
      ]
     },
     "execution_count": 69,
     "metadata": {},
     "output_type": "execute_result"
    }
   ],
   "source": [
    "#update key in dictionary\n",
    "keyupdate={k*2:y for k,y in dict1.items()}\n",
    "keyupdate"
   ]
  },
  {
   "cell_type": "code",
   "execution_count": 74,
   "metadata": {},
   "outputs": [
    {
     "name": "stdout",
     "output_type": "stream",
     "text": [
      "{0: 0, 1: 2, 2: 4, 3: 6, 4: 8, 5: 10, 6: 12, 7: 14, 8: 16, 9: 18}\n"
     ]
    }
   ],
   "source": [
    "#creat dictionary\n",
    "new={}\n",
    "for i in range(10):\n",
    "    new[i]=i*2\n",
    "print(new)    "
   ]
  },
  {
   "cell_type": "code",
   "execution_count": 78,
   "metadata": {},
   "outputs": [
    {
     "name": "stdout",
     "output_type": "stream",
     "text": [
      "{0: 0, 2: 4, 4: 16, 6: 36, 8: 64}\n"
     ]
    }
   ],
   "source": [
    "# to the power 2 in dictionary\n",
    "bb={}\n",
    "ranga=range(10)\n",
    "for i in ranga:\n",
    "    if i%2==0:\n",
    "        bb[i]=i**2\n",
    "print(bb)        "
   ]
  },
  {
   "cell_type": "code",
   "execution_count": 83,
   "metadata": {},
   "outputs": [
    {
     "data": {
      "text/plain": [
       "{0: 0, 2: 4, 4: 16, 6: 36, 8: 64}"
      ]
     },
     "execution_count": 83,
     "metadata": {},
     "output_type": "execute_result"
    }
   ],
   "source": [
    "# Use dictionary comprehension\n",
    "ba={}\n",
    "fr={r:r**2 for r in range(10) if r%2==0}\n",
    "fr\n"
   ]
  },
  {
   "cell_type": "code",
   "execution_count": 89,
   "metadata": {},
   "outputs": [
    {
     "data": {
      "text/plain": [
       "{'c': 3, 'd': 4, 'e': 5}"
      ]
     },
     "execution_count": 89,
     "metadata": {},
     "output_type": "execute_result"
    }
   ],
   "source": [
    "# greater value in divtinary\n",
    "greater={'a':1,'b':2,'c':3,'d':4,'e':5}\n",
    "final={g:l for g,l in greater.items() if l>2}\n",
    "final"
   ]
  },
  {
   "cell_type": "code",
   "execution_count": 90,
   "metadata": {},
   "outputs": [
    {
     "data": {
      "text/plain": [
       "{'d': 4}"
      ]
     },
     "execution_count": 90,
     "metadata": {},
     "output_type": "execute_result"
    }
   ],
   "source": [
    "greater={'a':1,'b':2,'c':3,'d':4,'e':5}\n",
    "final={g:l for g,l in greater.items() if l>2 if l%2==0}\n",
    "final"
   ]
  },
  {
   "cell_type": "raw",
   "metadata": {},
   "source": []
  },
  {
   "cell_type": "code",
   "execution_count": 92,
   "metadata": {},
   "outputs": [
    {
     "data": {
      "text/plain": [
       "{'a': 'odd', 'b': 'even', 'c': 'odd', 'd': 'even', 'e': 'odd'}"
      ]
     },
     "execution_count": 92,
     "metadata": {},
     "output_type": "execute_result"
    }
   ],
   "source": [
    "# fiind odd even in dictionary\n",
    "even={d:('even' if v%2==0 else 'odd') for d,v in greater.items() }\n",
    "even"
   ]
  },
  {
   "cell_type": "code",
   "execution_count": 101,
   "metadata": {},
   "outputs": [
    {
     "name": "stdout",
     "output_type": "stream",
     "text": [
      "{'first': {1.0}, 'second': {2.0}}\n"
     ]
    }
   ],
   "source": [
    "nested_dict = {'first':{'a':1}, 'second':{'b':2}}\n",
    "float_dict = {outer_k: {float(inner_v) for (inner_k, inner_v) in outer_v.items()} for (outer_k, outer_v) in nested_dict.items()}\n",
    "print(float_dict)"
   ]
  },
  {
   "cell_type": "code",
   "execution_count": 1,
   "metadata": {},
   "outputs": [
    {
     "name": "stdout",
     "output_type": "stream",
     "text": [
      "{'first': {'a': 1.0}, 'second': {'b': 2.0}}\n"
     ]
    }
   ],
   "source": [
    "nested_dict = {'first':{'a':1}, 'second':{'b':2}}\n",
    "\n",
    "for (outer_k, outer_v) in nested_dict.items():\n",
    "    for (inner_k, inner_v) in outer_v.items():\n",
    "        outer_v.update({inner_k: float(inner_v)})\n",
    "nested_dict.update({outer_k:outer_v})\n",
    "\n",
    "print(nested_dict)"
   ]
  },
  {
   "cell_type": "code",
   "execution_count": null,
   "metadata": {},
   "outputs": [],
   "source": []
  },
  {
   "cell_type": "code",
   "execution_count": 14,
   "metadata": {},
   "outputs": [],
   "source": [
    "pleasant_Sounding = ['Farm', 'Park', \"Hill\",\"Green\"]\n",
    "\n",
    "royal_Sounding = ['Royal','Queen','King']"
   ]
  },
  {
   "cell_type": "code",
   "execution_count": 7,
   "metadata": {},
   "outputs": [
    {
     "data": {
      "text/plain": [
       "dict_keys(['brent', 'camden', 'redbridge', 'southwark'])"
      ]
     },
     "execution_count": 7,
     "metadata": {},
     "output_type": "execute_result"
    }
   ],
   "source": [
    "dic.keys()"
   ]
  },
  {
   "cell_type": "code",
   "execution_count": 18,
   "metadata": {},
   "outputs": [
    {
     "name": "stdout",
     "output_type": "stream",
     "text": [
      "Brent Park ----pleasant_Sounding \n",
      "Dollis Hill ----pleasant_Sounding \n",
      "Kensal Green ----pleasant_Sounding \n",
      "Kingsbury ----royal_Sounding\n",
      "Queen's Park ----pleasant_Sounding \n",
      "Wembley Park ----pleasant_Sounding \n",
      "Park Royal ----pleasant_Sounding \n"
     ]
    }
   ],
   "source": [
    "for b in dic['brent']:\n",
    "    if any(i2 in b for i2 in pleasant_Sounding  ):\n",
    "        print(b,'----pleasant_Sounding ')\n",
    "    elif  any (i2 in b for i2 in royal_Sounding):\n",
    "            print(b,'----royal_Sounding')\n",
    "        \n",
    "    "
   ]
  },
  {
   "cell_type": "code",
   "execution_count": 21,
   "metadata": {},
   "outputs": [
    {
     "name": "stdout",
     "output_type": "stream",
     "text": [
      "Chalk Farm ------pleasant_sound\n",
      "Dartmouth Park ------pleasant_sound\n",
      "Primrose Hill ------pleasant_sound\n",
      "King's Cross ------royal_Sounding\n",
      "Belsize Park ------pleasant_sound\n"
     ]
    }
   ],
   "source": [
    "for e in dic['camden']:\n",
    "    if any(word in e for  word in pleasant_Sounding):\n",
    "        print(e,'------pleasant_sound')\n",
    "    elif any(word in e for word in royal_Sounding):\n",
    "        print(e,'------royal_Sounding')\n",
    "    "
   ]
  },
  {
   "cell_type": "code",
   "execution_count": 26,
   "metadata": {},
   "outputs": [
    {
     "name": "stdout",
     "output_type": "stream",
     "text": [
      "['Chalk Farm', 'Dartmouth Park', 'Primrose Hill', 'Belsize Park']\n"
     ]
    }
   ],
   "source": [
    "def ram(location_list,word_list):\n",
    "    return[a for a in location_list if any(word1 in a for word1 in word_list )]\n",
    "print(ram(dic['camden'],pleasant_Sounding))"
   ]
  },
  {
   "cell_type": "code",
   "execution_count": 47,
   "metadata": {},
   "outputs": [
    {
     "name": "stdout",
     "output_type": "stream",
     "text": [
      "['BRENT PARK', 'CHURCH END', 'DOLLIS HILL', 'HARLESDEN', 'KENSAL GREEN', 'KINGSBURY', 'NEASDEN', 'PRESTON', \"QUEEN'S PARK\", 'TOKYNGTON', 'WEMBLEY', 'WEMBLEY PARK', 'WILLESDEN', 'PARK ROYAL', 'KENTON', 'KILBURN', 'SUDBURY', 'BRONDESBURY', 'ALPERTON']\n"
     ]
    }
   ],
   "source": [
    "\n",
    "convert_to_string=str(brent)\n",
    "\n",
    "def upper(location):\n",
    "    return location.upper()\n",
    "print(upper(convert_to_string))"
   ]
  },
  {
   "cell_type": "code",
   "execution_count": 43,
   "metadata": {},
   "outputs": [
    {
     "data": {
      "text/plain": [
       "False"
      ]
     },
     "execution_count": 43,
     "metadata": {},
     "output_type": "execute_result"
    }
   ],
   "source": [
    "na='ritesh'\n",
    "na.isupper()"
   ]
  },
  {
   "cell_type": "code",
   "execution_count": 45,
   "metadata": {},
   "outputs": [
    {
     "data": {
      "text/plain": [
       "str"
      ]
     },
     "execution_count": 45,
     "metadata": {},
     "output_type": "execute_result"
    }
   ],
   "source": [
    "name=('ritesh')\n",
    "type(name)"
   ]
  },
  {
   "cell_type": "code",
   "execution_count": 39,
   "metadata": {},
   "outputs": [
    {
     "data": {
      "text/plain": [
       "numpy.ndarray"
      ]
     },
     "execution_count": 39,
     "metadata": {},
     "output_type": "execute_result"
    }
   ],
   "source": [
    "import numpy as np\n",
    "num=np.array([1,2,3,4,5,6])\n",
    "type(num)"
   ]
  },
  {
   "cell_type": "code",
   "execution_count": 42,
   "metadata": {},
   "outputs": [
    {
     "data": {
      "text/plain": [
       "numpy.ndarray"
      ]
     },
     "execution_count": 42,
     "metadata": {},
     "output_type": "execute_result"
    }
   ],
   "source": [
    "joy=np.array([7,8,9,10,11,12])\n",
    "type(joy)"
   ]
  },
  {
   "cell_type": "code",
   "execution_count": 7,
   "metadata": {},
   "outputs": [
    {
     "name": "stdout",
     "output_type": "stream",
     "text": [
      "1\n",
      "5\n",
      "6\n",
      "4\n",
      "[2 3]\n"
     ]
    }
   ],
   "source": [
    "print(num[0])\n",
    "print(num[4])\n",
    "print(num[-1])\n",
    "print(num[-3])\n",
    "print(num[1:3])\n"
   ]
  },
  {
   "cell_type": "code",
   "execution_count": 10,
   "metadata": {},
   "outputs": [
    {
     "ename": "AttributeError",
     "evalue": "'numpy.ndarray' object has no attribute 'append'",
     "output_type": "error",
     "traceback": [
      "\u001b[1;31m---------------------------------------------------------------------------\u001b[0m",
      "\u001b[1;31mAttributeError\u001b[0m                            Traceback (most recent call last)",
      "\u001b[1;32m<ipython-input-10-6021c8121939>\u001b[0m in \u001b[0;36m<module>\u001b[1;34m\u001b[0m\n\u001b[1;32m----> 1\u001b[1;33m \u001b[0mjoy\u001b[0m\u001b[1;33m.\u001b[0m\u001b[0mappend\u001b[0m\u001b[1;33m(\u001b[0m\u001b[1;36m13\u001b[0m\u001b[1;33m)\u001b[0m\u001b[1;33m\u001b[0m\u001b[1;33m\u001b[0m\u001b[0m\n\u001b[0m",
      "\u001b[1;31mAttributeError\u001b[0m: 'numpy.ndarray' object has no attribute 'append'"
     ]
    }
   ],
   "source": [
    "joy.append(13)"
   ]
  },
  {
   "cell_type": "code",
   "execution_count": 11,
   "metadata": {},
   "outputs": [
    {
     "data": {
      "text/plain": [
       "array([ 7,  8,  9, 10, 11, 12])"
      ]
     },
     "execution_count": 11,
     "metadata": {},
     "output_type": "execute_result"
    }
   ],
   "source": [
    "joy"
   ]
  },
  {
   "cell_type": "code",
   "execution_count": 43,
   "metadata": {},
   "outputs": [
    {
     "name": "stdout",
     "output_type": "stream",
     "text": [
      "[14 16 18 20 22 24]\n",
      "[1.75 2.   2.25 2.5  2.75 3.  ]\n",
      "[1 1 1 1 1 2]\n",
      "[1 0 1 0 1 0]\n",
      "[ 7 16 27 40 55 72]\n",
      "[7.  4.  3.  2.5 2.2 2. ]\n",
      "[7 4 3 2 2 2]\n",
      "[0 0 0 2 1 0]\n",
      "[ 7  8  9 10 11 12]\n",
      "[1 2 3 4 5 6]\n"
     ]
    }
   ],
   "source": [
    "print(joy*2)\n",
    "print(joy/4)\n",
    "print(joy//6)\n",
    "print(joy%2)\n",
    "print(joy*num)\n",
    "print(joy/num)\n",
    "print(joy//num)\n",
    "print(joy%num)\n",
    "print(joy)\n",
    "print(num)\n"
   ]
  },
  {
   "cell_type": "code",
   "execution_count": 21,
   "metadata": {},
   "outputs": [
    {
     "ename": "AttributeError",
     "evalue": "'numpy.ndarray' object has no attribute 'remove'",
     "output_type": "error",
     "traceback": [
      "\u001b[1;31m---------------------------------------------------------------------------\u001b[0m",
      "\u001b[1;31mAttributeError\u001b[0m                            Traceback (most recent call last)",
      "\u001b[1;32m<ipython-input-21-1012060e99c0>\u001b[0m in \u001b[0;36m<module>\u001b[1;34m\u001b[0m\n\u001b[1;32m----> 1\u001b[1;33m \u001b[0mjoy\u001b[0m\u001b[1;33m.\u001b[0m\u001b[0mremove\u001b[0m\u001b[1;33m(\u001b[0m\u001b[1;36m7\u001b[0m\u001b[1;33m)\u001b[0m\u001b[1;33m\u001b[0m\u001b[1;33m\u001b[0m\u001b[0m\n\u001b[0m",
      "\u001b[1;31mAttributeError\u001b[0m: 'numpy.ndarray' object has no attribute 'remove'"
     ]
    }
   ],
   "source": [
    "joy.remove(7)"
   ]
  },
  {
   "cell_type": "code",
   "execution_count": 22,
   "metadata": {},
   "outputs": [
    {
     "ename": "AttributeError",
     "evalue": "'numpy.ndarray' object has no attribute 'pop'",
     "output_type": "error",
     "traceback": [
      "\u001b[1;31m---------------------------------------------------------------------------\u001b[0m",
      "\u001b[1;31mAttributeError\u001b[0m                            Traceback (most recent call last)",
      "\u001b[1;32m<ipython-input-22-0c6ec37d2285>\u001b[0m in \u001b[0;36m<module>\u001b[1;34m\u001b[0m\n\u001b[1;32m----> 1\u001b[1;33m \u001b[0mjoy\u001b[0m\u001b[1;33m.\u001b[0m\u001b[0mpop\u001b[0m\u001b[1;33m(\u001b[0m\u001b[1;36m0\u001b[0m\u001b[1;33m)\u001b[0m\u001b[1;33m\u001b[0m\u001b[1;33m\u001b[0m\u001b[0m\n\u001b[0m",
      "\u001b[1;31mAttributeError\u001b[0m: 'numpy.ndarray' object has no attribute 'pop'"
     ]
    }
   ],
   "source": [
    "joy.pop(0)"
   ]
  },
  {
   "cell_type": "code",
   "execution_count": 23,
   "metadata": {},
   "outputs": [
    {
     "data": {
      "text/plain": [
       "array([ 7,  8,  9, 10, 11, 12])"
      ]
     },
     "execution_count": 23,
     "metadata": {},
     "output_type": "execute_result"
    }
   ],
   "source": [
    "joy"
   ]
  },
  {
   "cell_type": "code",
   "execution_count": 25,
   "metadata": {},
   "outputs": [
    {
     "ename": "AttributeError",
     "evalue": "'numpy.ndarray' object has no attribute 'count'",
     "output_type": "error",
     "traceback": [
      "\u001b[1;31m---------------------------------------------------------------------------\u001b[0m",
      "\u001b[1;31mAttributeError\u001b[0m                            Traceback (most recent call last)",
      "\u001b[1;32m<ipython-input-25-016a25302a19>\u001b[0m in \u001b[0;36m<module>\u001b[1;34m\u001b[0m\n\u001b[1;32m----> 1\u001b[1;33m \u001b[0mjoy\u001b[0m\u001b[1;33m.\u001b[0m\u001b[0mcount\u001b[0m\u001b[1;33m[\u001b[0m\u001b[1;36m7\u001b[0m\u001b[1;33m]\u001b[0m\u001b[1;33m\u001b[0m\u001b[1;33m\u001b[0m\u001b[0m\n\u001b[0m",
      "\u001b[1;31mAttributeError\u001b[0m: 'numpy.ndarray' object has no attribute 'count'"
     ]
    }
   ],
   "source": [
    "joy.count(7)"
   ]
  },
  {
   "cell_type": "code",
   "execution_count": 30,
   "metadata": {},
   "outputs": [
    {
     "ename": "ValueError",
     "evalue": "cannot delete array elements",
     "output_type": "error",
     "traceback": [
      "\u001b[1;31m---------------------------------------------------------------------------\u001b[0m",
      "\u001b[1;31mValueError\u001b[0m                                Traceback (most recent call last)",
      "\u001b[1;32m<ipython-input-30-b929d9274fa1>\u001b[0m in \u001b[0;36m<module>\u001b[1;34m\u001b[0m\n\u001b[1;32m----> 1\u001b[1;33m \u001b[1;32mdel\u001b[0m \u001b[0mjoy\u001b[0m\u001b[1;33m[\u001b[0m\u001b[1;36m0\u001b[0m\u001b[1;33m]\u001b[0m\u001b[1;33m\u001b[0m\u001b[1;33m\u001b[0m\u001b[0m\n\u001b[0m",
      "\u001b[1;31mValueError\u001b[0m: cannot delete array elements"
     ]
    }
   ],
   "source": [
    "del joy[0]\n"
   ]
  },
  {
   "cell_type": "code",
   "execution_count": 31,
   "metadata": {},
   "outputs": [
    {
     "data": {
      "text/plain": [
       "array([ 7,  8,  9, 10, 11, 12])"
      ]
     },
     "execution_count": 31,
     "metadata": {},
     "output_type": "execute_result"
    }
   ],
   "source": [
    "joy"
   ]
  },
  {
   "cell_type": "code",
   "execution_count": 33,
   "metadata": {},
   "outputs": [
    {
     "data": {
      "text/plain": [
       "array([ 2,  8,  9, 10, 11, 12])"
      ]
     },
     "execution_count": 33,
     "metadata": {},
     "output_type": "execute_result"
    }
   ],
   "source": [
    "#update value in array\n",
    "joy[0]=2\n",
    "joy"
   ]
  },
  {
   "cell_type": "code",
   "execution_count": 34,
   "metadata": {},
   "outputs": [
    {
     "ename": "AttributeError",
     "evalue": "'numpy.ndarray' object has no attribute 'extend'",
     "output_type": "error",
     "traceback": [
      "\u001b[1;31m---------------------------------------------------------------------------\u001b[0m",
      "\u001b[1;31mAttributeError\u001b[0m                            Traceback (most recent call last)",
      "\u001b[1;32m<ipython-input-34-9c94ea460300>\u001b[0m in \u001b[0;36m<module>\u001b[1;34m\u001b[0m\n\u001b[1;32m----> 1\u001b[1;33m \u001b[0mjoy\u001b[0m\u001b[1;33m.\u001b[0m\u001b[0mextend\u001b[0m\u001b[1;33m(\u001b[0m\u001b[0mnum\u001b[0m\u001b[1;33m)\u001b[0m\u001b[1;33m\u001b[0m\u001b[1;33m\u001b[0m\u001b[0m\n\u001b[0m",
      "\u001b[1;31mAttributeError\u001b[0m: 'numpy.ndarray' object has no attribute 'extend'"
     ]
    }
   ],
   "source": [
    "joy.extend(num)"
   ]
  },
  {
   "cell_type": "code",
   "execution_count": 36,
   "metadata": {},
   "outputs": [
    {
     "ename": "SyntaxError",
     "evalue": "invalid syntax (<ipython-input-36-7961fbe052cc>, line 1)",
     "output_type": "error",
     "traceback": [
      "\u001b[1;36m  File \u001b[1;32m\"<ipython-input-36-7961fbe052cc>\"\u001b[1;36m, line \u001b[1;32m1\u001b[0m\n\u001b[1;33m    add joy(99)\u001b[0m\n\u001b[1;37m          ^\u001b[0m\n\u001b[1;31mSyntaxError\u001b[0m\u001b[1;31m:\u001b[0m invalid syntax\n"
     ]
    }
   ],
   "source": []
  },
  {
   "cell_type": "code",
   "execution_count": 38,
   "metadata": {},
   "outputs": [
    {
     "ename": "SyntaxError",
     "evalue": "invalid syntax (<ipython-input-38-341535a38a48>, line 2)",
     "output_type": "error",
     "traceback": [
      "\u001b[1;36m  File \u001b[1;32m\"<ipython-input-38-341535a38a48>\"\u001b[1;36m, line \u001b[1;32m2\u001b[0m\n\u001b[1;33m    del\u001b[0m\n\u001b[1;37m       ^\u001b[0m\n\u001b[1;31mSyntaxError\u001b[0m\u001b[1;31m:\u001b[0m invalid syntax\n"
     ]
    }
   ],
   "source": [
    "del joy\n",
    "del"
   ]
  }
 ],
 "metadata": {
  "kernelspec": {
   "display_name": "Python 3",
   "language": "python",
   "name": "python3"
  },
  "language_info": {
   "codemirror_mode": {
    "name": "ipython",
    "version": 3
   },
   "file_extension": ".py",
   "mimetype": "text/x-python",
   "name": "python",
   "nbconvert_exporter": "python",
   "pygments_lexer": "ipython3",
   "version": "3.7.3"
  }
 },
 "nbformat": 4,
 "nbformat_minor": 2
}
