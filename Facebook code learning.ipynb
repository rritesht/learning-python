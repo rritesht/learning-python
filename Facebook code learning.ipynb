{
 "cells": [
  {
   "cell_type": "code",
   "execution_count": null,
   "metadata": {},
   "outputs": [],
   "source": [
    "# find all occurences of a substring in a string:\n",
    "string=input()\n",
    "substring=input()\n",
    "substring.lower()\n",
    "print(string.count(substring))"
   ]
  },
  {
   "cell_type": "code",
   "execution_count": 9,
   "metadata": {},
   "outputs": [
    {
     "name": "stdout",
     "output_type": "stream",
     "text": [
      "GOOGLE\n",
      "2 O\n"
     ]
    }
   ],
   "source": [
    "# find all occurences of  a string:\n",
    "stg=input()\n",
    "z=0\n",
    "for i in stg:\n",
    "    if i!=z:\n",
    "        z=i\n",
    "    elif i==z:\n",
    "        print(stg.count(i),i)\n",
    "        \n"
   ]
  },
  {
   "cell_type": "code",
   "execution_count": 8,
   "metadata": {},
   "outputs": [
    {
     "name": "stdout",
     "output_type": "stream",
     "text": [
      "aebfcgdh"
     ]
    }
   ],
   "source": [
    "# Give tow string by usr ,s1 and s2 return a new string made by aternating the charecter of each string\n",
    "a='abcd'\n",
    "b='efgh'\n",
    "joint=str()\n",
    "lenght=len(a)\n",
    "for i in range(lenght):\n",
    "    joint=a[i]+b[i]\n",
    "    print(joint,end='')"
   ]
  },
  {
   "cell_type": "code",
   "execution_count": 7,
   "metadata": {},
   "outputs": [
    {
     "name": "stdout",
     "output_type": "stream",
     "text": [
      "\n",
      "1\n",
      "22\n",
      "333\n",
      "4444\n",
      "55555\n",
      "666666\n"
     ]
    }
   ],
   "source": [
    "# You are given n positive integer . Print a numerical triangle of height n-1 like the one below:\n",
    "for i in range(7):\n",
    "    print(f'{i}'*i)"
   ]
  },
  {
   "cell_type": "code",
   "execution_count": 4,
   "metadata": {},
   "outputs": [
    {
     "name": "stdout",
     "output_type": "stream",
     "text": [
      "Enter the numbergg\n",
      "Invalid input.\n",
      "Enter the number5\n",
      "Enter the number7\n",
      "Enter the number8\n",
      "Enter the numberstop\n",
      "20.0 3 6.666666666666667\n"
     ]
    }
   ],
   "source": [
    "##Write a program which repeatedly reads numbers until the user enters \n",
    "#“stop”. Once “stop” is entered, print out the total, count, and average \n",
    "#of the numbers. If the user enters anything other than a number, detect \n",
    "#their mistake using try and except and print an error message and skip to \n",
    "#the next number. \n",
    "sum=0\n",
    "count=0\n",
    "avarage=0\n",
    "while True:\n",
    "    try:\n",
    "        data=input('Enter the number')\n",
    "        if (data=='stop'):\n",
    "            break\n",
    "        value=float(data)\n",
    "        sum+=value\n",
    "        count+=1\n",
    "        avarage=sum/count\n",
    "    except:\n",
    "        print(\"Invalid input.\")  \n",
    "print(sum,count,avarage)        "
   ]
  },
  {
   "cell_type": "code",
   "execution_count": 5,
   "metadata": {},
   "outputs": [
    {
     "name": "stdout",
     "output_type": "stream",
     "text": [
      "Enter a number: ww\n",
      "Invalid input.\n",
      "Enter a number: 1\n",
      "Enter a number: 2\n",
      "Enter a number: 3\n",
      "Enter a number: 3\n",
      "Enter a number: 4\n",
      "Enter a number: 5\n",
      "Enter a number: stop\n",
      "Invalid input.\n",
      "Enter a number: done\n",
      "18.0 6 3.0\n"
     ]
    }
   ],
   "source": [
    " sum = 0\n",
    "count = 0\n",
    "average = 0\n",
    "\n",
    "while True:\n",
    "  try:\n",
    "    x = input(\"Enter a number: \")\n",
    "    if (x == \"done\"): \n",
    "     break\n",
    "    value = float(x)\n",
    "    sum = value + sum\n",
    "    count = count + 1\n",
    "    average = sum / count\n",
    "  except:\n",
    "    print(\"Invalid input.\")\n",
    "print (sum, count, average )                              "
   ]
  },
  {
   "cell_type": "code",
   "execution_count": 6,
   "metadata": {},
   "outputs": [
    {
     "name": "stdout",
     "output_type": "stream",
     "text": [
      "Yes\n"
     ]
    }
   ],
   "source": [
    "# Function to check if string2 is  \n",
    "# obtained by string 1 \n",
    "def isRotated(str1, str2): \n",
    "  \n",
    "    if (len(str1) != len(str2)): \n",
    "        return False\n",
    "  \n",
    "    clock_rot = \"\" \n",
    "    anticlock_rot = \"\" \n",
    "    l = len(str2) \n",
    "  \n",
    "    # Initialize string as anti-clockwise rotation \n",
    "    anticlock_rot = (anticlock_rot + str2[l - 2:] + \n",
    "                                     str2[0: l - 2]) \n",
    "      \n",
    "    # Initialize string as clock wise rotation \n",
    "    clock_rot = clock_rot + str2[2:] + str2[0:2] \n",
    "  \n",
    "    # check if any of them is equal to string1 \n",
    "    return (str1 == clock_rot or\n",
    "            str1 == anticlock_rot) \n",
    "  \n",
    "# Driver code \n",
    "if __name__ == \"__main__\": \n",
    "      \n",
    "    str1 = \"geeks\"\n",
    "    str2 = \"eksge\"\n",
    "if isRotated(str1, str2): \n",
    "    print(\"Yes\")   \n",
    "else: \n",
    "    print(\"No\") \n",
    "  "
   ]
  },
  {
   "cell_type": "code",
   "execution_count": 54,
   "metadata": {},
   "outputs": [],
   "source": [
    "def pen(*value):\n",
    "    if value[::-1]==value:\n",
    "        return True\n",
    "    else:\n",
    "        return False"
   ]
  },
  {
   "cell_type": "code",
   "execution_count": 57,
   "metadata": {},
   "outputs": [
    {
     "data": {
      "text/plain": [
       "True"
      ]
     },
     "execution_count": 57,
     "metadata": {},
     "output_type": "execute_result"
    }
   ],
   "source": [
    "pen(1,4,3,4,1)"
   ]
  },
  {
   "cell_type": "code",
   "execution_count": 50,
   "metadata": {},
   "outputs": [
    {
     "name": "stdout",
     "output_type": "stream",
     "text": [
      "yes\n"
     ]
    }
   ],
   "source": [
    "#pedinomal value\n",
    "r=1,4,3,4,1\n",
    "if r[::-1]==r:\n",
    "    print('yes')\n",
    "else:\n",
    "    print('no')"
   ]
  },
  {
   "cell_type": "code",
   "execution_count": 58,
   "metadata": {},
   "outputs": [
    {
     "ename": "TypeError",
     "evalue": "'float' object is not callable",
     "output_type": "error",
     "traceback": [
      "\u001b[1;31m---------------------------------------------------------------------------\u001b[0m",
      "\u001b[1;31mTypeError\u001b[0m                                 Traceback (most recent call last)",
      "\u001b[1;32m<ipython-input-58-f1b59a7c6242>\u001b[0m in \u001b[0;36m<module>\u001b[1;34m\u001b[0m\n\u001b[0;32m      4\u001b[0m \u001b[1;32mfor\u001b[0m \u001b[0mi\u001b[0m \u001b[1;32min\u001b[0m \u001b[0mone\u001b[0m\u001b[1;33m:\u001b[0m\u001b[1;33m\u001b[0m\u001b[1;33m\u001b[0m\u001b[0m\n\u001b[0;32m      5\u001b[0m     \u001b[0mfinal\u001b[0m\u001b[1;33m.\u001b[0m\u001b[0mappend\u001b[0m\u001b[1;33m(\u001b[0m\u001b[0mi\u001b[0m\u001b[1;33m)\u001b[0m\u001b[1;33m\u001b[0m\u001b[1;33m\u001b[0m\u001b[0m\n\u001b[1;32m----> 6\u001b[1;33m     \u001b[1;32mif\u001b[0m \u001b[0msum\u001b[0m\u001b[1;33m(\u001b[0m\u001b[0mfinal\u001b[0m\u001b[1;33m)\u001b[0m\u001b[1;33m==\u001b[0m\u001b[1;36m9\u001b[0m\u001b[1;33m:\u001b[0m\u001b[1;33m\u001b[0m\u001b[1;33m\u001b[0m\u001b[0m\n\u001b[0m\u001b[0;32m      7\u001b[0m         \u001b[1;32mbreak\u001b[0m\u001b[1;33m\u001b[0m\u001b[1;33m\u001b[0m\u001b[0m\n\u001b[0;32m      8\u001b[0m \u001b[1;33m\u001b[0m\u001b[0m\n",
      "\u001b[1;31mTypeError\u001b[0m: 'float' object is not callable"
     ]
    }
   ],
   "source": [
    "one=[1,2,3,4,5]\n",
    "k=9\n",
    "final=[]\n",
    "for i in one:\n",
    "    final.append(i) \n",
    "    if sum(final)==9:\n",
    "        break\n",
    "    "
   ]
  },
  {
   "cell_type": "code",
   "execution_count": 71,
   "metadata": {},
   "outputs": [
    {
     "data": {
      "text/plain": [
       "int"
      ]
     },
     "execution_count": 71,
     "metadata": {},
     "output_type": "execute_result"
    }
   ],
   "source": [
    "type(k)"
   ]
  },
  {
   "cell_type": "code",
   "execution_count": 70,
   "metadata": {},
   "outputs": [
    {
     "ename": "TypeError",
     "evalue": "'float' object is not callable",
     "output_type": "error",
     "traceback": [
      "\u001b[1;31m---------------------------------------------------------------------------\u001b[0m",
      "\u001b[1;31mTypeError\u001b[0m                                 Traceback (most recent call last)",
      "\u001b[1;32m<ipython-input-70-f36275ef73ba>\u001b[0m in \u001b[0;36m<module>\u001b[1;34m\u001b[0m\n\u001b[0;32m      1\u001b[0m \u001b[0mm\u001b[0m\u001b[1;33m=\u001b[0m\u001b[1;33m[\u001b[0m\u001b[1;36m1\u001b[0m\u001b[1;33m,\u001b[0m\u001b[1;36m2\u001b[0m\u001b[1;33m,\u001b[0m\u001b[1;36m3\u001b[0m\u001b[1;33m,\u001b[0m\u001b[1;36m4\u001b[0m\u001b[1;33m]\u001b[0m\u001b[1;33m\u001b[0m\u001b[1;33m\u001b[0m\u001b[0m\n\u001b[1;32m----> 2\u001b[1;33m \u001b[0msum\u001b[0m\u001b[1;33m(\u001b[0m\u001b[0mm\u001b[0m\u001b[1;33m)\u001b[0m\u001b[1;33m\u001b[0m\u001b[1;33m\u001b[0m\u001b[0m\n\u001b[0m",
      "\u001b[1;31mTypeError\u001b[0m: 'float' object is not callable"
     ]
    }
   ],
   "source": []
  },
  {
   "cell_type": "code",
   "execution_count": 5,
   "metadata": {},
   "outputs": [
    {
     "name": "stdout",
     "output_type": "stream",
     "text": [
      "guess my age23\n",
      "guess again\n",
      "guess my age34\n",
      "you win you tried 1 times\n"
     ]
    }
   ],
   "source": [
    "# guessing age game\n",
    "time=0\n",
    "while True:\n",
    "    age=int(input('guess my age'))\n",
    "    if age==34:\n",
    "        print('you win','you tried',time,'times')\n",
    "        break\n",
    "    else:\n",
    "        print('guess again')\n",
    "        time+=1\n",
    "        \n",
    "    \n",
    "    "
   ]
  },
  {
   "cell_type": "code",
   "execution_count": 15,
   "metadata": {},
   "outputs": [
    {
     "name": "stdout",
     "output_type": "stream",
     "text": [
      "Enter  : ggdddd\n",
      "d "
     ]
    }
   ],
   "source": [
    "#program for finding maximum repeated letter/sentense\n",
    "#for eg: ip  ddooosstt\n",
    "#        op  o\n",
    "import operator\n",
    "\n",
    "a=[]\n",
    "b=[]\n",
    "\n",
    "lst=input('Enter  : ')\n",
    "for i in lst:\n",
    "    a.append(i)\n",
    "#print(a)\n",
    "\n",
    "for i2 in a:\n",
    "    d=0\n",
    "    for i3 in a:\n",
    "        if i2==i3:\n",
    "            d+=1\n",
    "    b.append(d) \n",
    "    dic=dict(zip(a,b))\n",
    "#max(dic.items(), key=operator.itemgetter(1))[0]\n",
    "#max(dic,key=dic.get)\n",
    "x=[key for m in [max(dic.values())] for key,val in dic.items() if val==m]\n",
    "for i4 in x:\n",
    "    print(i4, end=\" \")"
   ]
  },
  {
   "cell_type": "code",
   "execution_count": 25,
   "metadata": {},
   "outputs": [
    {
     "name": "stdout",
     "output_type": "stream",
     "text": [
      "Enter  : ggoooee\n",
      "['g', 'g', 'o', 'o', 'o', 'e', 'e']\n",
      "[2, 2, 3, 3, 3, 2, 2]\n",
      "{'g': 2, 'o': 3, 'e': 2}\n",
      "o "
     ]
    }
   ],
   "source": [
    "a=[]\n",
    "b=[]\n",
    "\n",
    "lst=input('Enter  : ')\n",
    "for i in lst:\n",
    "    a.append(i)\n",
    "print(a)\n",
    "for i2 in a:\n",
    "    d=0\n",
    "    for i3 in a:\n",
    "        if i2==i3:\n",
    "            d+=1\n",
    "    b.append(d) \n",
    "print(b)\n",
    "dic=dict(zip(a,b))\n",
    "print(dic)\n",
    "x=[key for m in [max(dic.values())] for key,val in dic.items() if val==m]\n",
    "for i4 in x:\n",
    "    print(i4, end=\" \")"
   ]
  },
  {
   "cell_type": "code",
   "execution_count": 24,
   "metadata": {},
   "outputs": [
    {
     "data": {
      "text/plain": [
       "dict_items([('g', 2), ('r', 3)])"
      ]
     },
     "execution_count": 24,
     "metadata": {},
     "output_type": "execute_result"
    }
   ],
   "source": [
    "dic.items()"
   ]
  },
  {
   "cell_type": "code",
   "execution_count": 37,
   "metadata": {},
   "outputs": [
    {
     "name": "stdout",
     "output_type": "stream",
     "text": [
      "codepark\n",
      "a\n",
      "a\n",
      "a\n",
      "a\n",
      "a\n",
      "a\n",
      "a\n"
     ]
    }
   ],
   "source": [
    "my_string='codepark'\n",
    "for i in my_string:\n",
    "    print(my_string)\n",
    "    my_string='a'\n",
    "    "
   ]
  },
  {
   "cell_type": "code",
   "execution_count": 40,
   "metadata": {},
   "outputs": [
    {
     "data": {
      "text/plain": [
       "8"
      ]
     },
     "execution_count": 40,
     "metadata": {},
     "output_type": "execute_result"
    }
   ],
   "source": [
    "i=7\n",
    "if isinstance(i,int):\n",
    "    i+=1\n",
    "elif  isinstance(i,str): \n",
    "    i=int(i)\n",
    "\n",
    "i"
   ]
  },
  {
   "cell_type": "code",
   "execution_count": 41,
   "metadata": {},
   "outputs": [
    {
     "data": {
      "text/plain": [
       "int"
      ]
     },
     "execution_count": 41,
     "metadata": {},
     "output_type": "execute_result"
    }
   ],
   "source": [
    "type(i)"
   ]
  },
  {
   "cell_type": "code",
   "execution_count": null,
   "metadata": {},
   "outputs": [],
   "source": []
  },
  {
   "cell_type": "code",
   "execution_count": null,
   "metadata": {},
   "outputs": [],
   "source": []
  },
  {
   "cell_type": "code",
   "execution_count": null,
   "metadata": {},
   "outputs": [],
   "source": []
  }
 ],
 "metadata": {
  "kernelspec": {
   "display_name": "Python 3",
   "language": "python",
   "name": "python3"
  },
  "language_info": {
   "codemirror_mode": {
    "name": "ipython",
    "version": 3
   },
   "file_extension": ".py",
   "mimetype": "text/x-python",
   "name": "python",
   "nbconvert_exporter": "python",
   "pygments_lexer": "ipython3",
   "version": "3.7.3"
  }
 },
 "nbformat": 4,
 "nbformat_minor": 2
}
