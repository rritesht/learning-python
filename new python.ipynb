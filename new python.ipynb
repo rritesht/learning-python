{
 "cells": [
  {
   "cell_type": "markdown",
   "metadata": {},
   "source": [
    "# string formating "
   ]
  },
  {
   "cell_type": "code",
   "execution_count": 4,
   "metadata": {
    "scrolled": false
   },
   "outputs": [
    {
     "name": "stdout",
     "output_type": "stream",
     "text": [
      "your name is Ritesh and your age is 36\n"
     ]
    }
   ],
   "source": [
    "name='Ritesh'\n",
    "age=36\n",
    "print(f'your name is {name} and your age is {age}')"
   ]
  },
  {
   "cell_type": "raw",
   "metadata": {},
   "source": [
    "ask user to give 3 numbers and you have to print average of this three numbers using string formating "
   ]
  },
  {
   "cell_type": "code",
   "execution_count": 7,
   "metadata": {},
   "outputs": [
    {
     "name": "stdout",
     "output_type": "stream",
     "text": [
      "pls enter your date of birth month and year comma separated:2,2,1990\n",
      "all three number average is 691\n"
     ]
    }
   ],
   "source": [
    "date,month,year=input('pls enter your date of birth month and year comma separated:').split(',')\n",
    "print(f'all three number average is {int(date)+int(month)+int(year)//3}')\n"
   ]
  },
  {
   "cell_type": "raw",
   "metadata": {},
   "source": [
    "string indexing "
   ]
  },
  {
   "cell_type": "code",
   "execution_count": 10,
   "metadata": {},
   "outputs": [
    {
     "name": "stdout",
     "output_type": "stream",
     "text": [
      "t\n",
      "t\n"
     ]
    }
   ],
   "source": [
    "language='python'\n",
    "# p=0=-6\n",
    "# y=1=-5\n",
    "# t=2=-4\n",
    "# h=3=-3\n",
    "# o=2=-2\n",
    "# n=1=-1\n",
    "#if we want to print t\n",
    "print(language[2])\n",
    "print(language[-4])\n"
   ]
  },
  {
   "cell_type": "raw",
   "metadata": {},
   "source": [
    "string slicing"
   ]
  },
  {
   "cell_type": "code",
   "execution_count": 13,
   "metadata": {},
   "outputs": [
    {
     "name": "stdout",
     "output_type": "stream",
     "text": [
      "py\n",
      "pyt\n"
     ]
    }
   ],
   "source": [
    "lang='python'\n",
    "#if we want to print multiple words like py\n",
    "print(lang[0:2])\n",
    "#if we want to print pyt\n",
    "print(lang[0:3])\n",
    "\n"
   ]
  },
  {
   "cell_type": "raw",
   "metadata": {},
   "source": [
    "step argument "
   ]
  },
  {
   "cell_type": "code",
   "execution_count": 15,
   "metadata": {},
   "outputs": [
    {
     "name": "stdout",
     "output_type": "stream",
     "text": [
      "Rites\n"
     ]
    }
   ],
   "source": [
    "name='Ritesh'\n",
    "print(name[0:5])"
   ]
  },
  {
   "cell_type": "code",
   "execution_count": 18,
   "metadata": {},
   "outputs": [
    {
     "name": "stdout",
     "output_type": "stream",
     "text": [
      "Rts\n"
     ]
    }
   ],
   "source": [
    "#if we want to print Rts\n",
    "print(name[0:6:2])#-----it will skip one step"
   ]
  },
  {
   "cell_type": "code",
   "execution_count": 40,
   "metadata": {},
   "outputs": [
    {
     "name": "stdout",
     "output_type": "stream",
     "text": [
      "hsetiR\n",
      "stR\n",
      "hsetiR\n"
     ]
    }
   ],
   "source": [
    "#if we want reverse of name than\n",
    "print(name[6::-1])\n",
    "print(name[4::-2])\n",
    "print(name[-1::-1])"
   ]
  },
  {
   "cell_type": "raw",
   "metadata": {},
   "source": [
    "ask user name and print back user name in reverse order."
   ]
  },
  {
   "cell_type": "code",
   "execution_count": 42,
   "metadata": {},
   "outputs": [
    {
     "name": "stdout",
     "output_type": "stream",
     "text": [
      "please enter your name Ritesh Tiwari\n",
      "your reverse name is irawiT hsetiR\n"
     ]
    }
   ],
   "source": [
    "user=input('please enter your name ')\n",
    "print(f'your reverse name is {user[-1::-1]}')"
   ]
  },
  {
   "cell_type": "raw",
   "metadata": {},
   "source": [
    "String method"
   ]
  },
  {
   "cell_type": "code",
   "execution_count": 43,
   "metadata": {},
   "outputs": [
    {
     "name": "stdout",
     "output_type": "stream",
     "text": [
      "5\n"
     ]
    }
   ],
   "source": [
    "#len function\n",
    "name='Rohan'\n",
    "print(len(name))"
   ]
  },
  {
   "cell_type": "code",
   "execution_count": 46,
   "metadata": {},
   "outputs": [
    {
     "name": "stdout",
     "output_type": "stream",
     "text": [
      "rohan\n"
     ]
    }
   ],
   "source": [
    "#lower method\n",
    "print(name.lower())"
   ]
  },
  {
   "cell_type": "code",
   "execution_count": 47,
   "metadata": {},
   "outputs": [
    {
     "name": "stdout",
     "output_type": "stream",
     "text": [
      "ROHAN\n"
     ]
    }
   ],
   "source": [
    "#upper method\n",
    "print(name.upper())"
   ]
  },
  {
   "cell_type": "code",
   "execution_count": 48,
   "metadata": {},
   "outputs": [
    {
     "name": "stdout",
     "output_type": "stream",
     "text": [
      "Rohan\n"
     ]
    }
   ],
   "source": [
    "#title method\n",
    "print(name.title())"
   ]
  },
  {
   "cell_type": "code",
   "execution_count": null,
   "metadata": {},
   "outputs": [],
   "source": [
    "#count method\n",
    "nam='Ritesh Tiwari'\n",
    "print(nam.count('i'))"
   ]
  },
  {
   "cell_type": "raw",
   "metadata": {},
   "source": [
    "take user name input\n",
    "(1)user name lenth\n",
    "(2)count the char "
   ]
  },
  {
   "cell_type": "code",
   "execution_count": 3,
   "metadata": {},
   "outputs": [
    {
     "name": "stdout",
     "output_type": "stream",
     "text": [
      "please enter your name and charriteshhh h\n",
      "user name lenth is 8 count of the char 3\n"
     ]
    }
   ],
   "source": [
    "user,char=input('please enter your name and char').split()\n",
    "print(f'user name lenth is {len(user)} count of the char {user.count(char)}')\n"
   ]
  },
  {
   "cell_type": "raw",
   "metadata": {},
   "source": [
    "strip method"
   ]
  },
  {
   "cell_type": "code",
   "execution_count": 4,
   "metadata": {},
   "outputs": [
    {
     "name": "stdout",
     "output_type": "stream",
     "text": [
      "ramesh\n"
     ]
    }
   ],
   "source": [
    "name='    ramesh      '# so many space is there so if want to remove that space we use strip method\n",
    "print(name.strip())"
   ]
  },
  {
   "cell_type": "code",
   "execution_count": 21,
   "metadata": {},
   "outputs": [
    {
     "name": "stdout",
     "output_type": "stream",
     "text": [
      "rahuls\n"
     ]
    }
   ],
   "source": [
    "#center method\n",
    "\n",
    "name='rahul'\n",
    "print(name.center(6,\"s\"))\n"
   ]
  },
  {
   "cell_type": "raw",
   "metadata": {},
   "source": [
    "operators"
   ]
  },
  {
   "cell_type": "code",
   "execution_count": 30,
   "metadata": {},
   "outputs": [
    {
     "name": "stdout",
     "output_type": "stream",
     "text": [
      "syamtiwari\n"
     ]
    },
    {
     "data": {
      "text/plain": [
       "25"
      ]
     },
     "execution_count": 30,
     "metadata": {},
     "output_type": "execute_result"
    }
   ],
   "source": [
    "#add\n",
    "name='syam'\n",
    "name=name+'tiwari'\n",
    "print(name)\n",
    "age=24\n",
    "age=age+1\n",
    "age\n"
   ]
  },
  {
   "cell_type": "raw",
   "metadata": {},
   "source": [
    "#and ,or operator"
   ]
  },
  {
   "cell_type": "code",
   "execution_count": 38,
   "metadata": {},
   "outputs": [
    {
     "name": "stdout",
     "output_type": "stream",
     "text": [
      "false\n"
     ]
    }
   ],
   "source": [
    "name=\"rohit\"\n",
    "age=26\n",
    "if name=='rohit'and age==27:\n",
    "    print('true')\n",
    "else:\n",
    "    print('false')\n"
   ]
  },
  {
   "cell_type": "code",
   "execution_count": 39,
   "metadata": {},
   "outputs": [
    {
     "name": "stdout",
     "output_type": "stream",
     "text": [
      "true\n"
     ]
    }
   ],
   "source": [
    "name=\"rohit\"\n",
    "age=26\n",
    "if name=='rohit'or age==27:\n",
    "    print('true')\n",
    "else:\n",
    "    print('false')"
   ]
  },
  {
   "cell_type": "code",
   "execution_count": null,
   "metadata": {},
   "outputs": [],
   "source": [
    "exercise: Ask users name and age.If user name start with (a or A)and age is above 10 then \n",
    "    print 'you are eligible for watch this movie'\n",
    "    else print 'you are not eligible for watch this movie'\n",
    "    "
   ]
  },
  {
   "cell_type": "code",
   "execution_count": 43,
   "metadata": {},
   "outputs": [
    {
     "name": "stdout",
     "output_type": "stream",
     "text": [
      "pls enter your nameAmit\n",
      "pls enter your age2\n",
      "you are not eligible for watch this movie\n"
     ]
    }
   ],
   "source": [
    "name=input('pls enter your name'  )\n",
    "age=input('pls enter your age')\n",
    "age=int(age)\n",
    "if age>10 and (name[0]=='a' or name[0]=='A'):\n",
    "    print('you are eligible for watch this movie')\n",
    "else:\n",
    "    print('you are not eligible for watch this movie')\n"
   ]
  },
  {
   "cell_type": "markdown",
   "metadata": {},
   "source": [
    "# list"
   ]
  },
  {
   "cell_type": "code",
   "execution_count": null,
   "metadata": {},
   "outputs": [],
   "source": [
    "number=[1,2,3,4,5]\n",
    "print(number,type(number))"
   ]
  },
  {
   "cell_type": "code",
   "execution_count": null,
   "metadata": {},
   "outputs": [],
   "source": [
    "number.append('mango')\n",
    "print(number)"
   ]
  },
  {
   "cell_type": "code",
   "execution_count": 51,
   "metadata": {},
   "outputs": [
    {
     "name": "stdout",
     "output_type": "stream",
     "text": [
      "[1, 2, 3, 4, 5, 'mango', 'mango', 'mango', 'mango', 'mango', 'mango']\n"
     ]
    }
   ],
   "source": [
    "print(number)"
   ]
  },
  {
   "cell_type": "code",
   "execution_count": 54,
   "metadata": {},
   "outputs": [
    {
     "data": {
      "text/plain": [
       "['ram']"
      ]
     },
     "execution_count": 54,
     "metadata": {},
     "output_type": "execute_result"
    }
   ],
   "source": [
    "fruits=[]\n",
    "fruits.append('ram')\n",
    "fruits"
   ]
  },
  {
   "cell_type": "code",
   "execution_count": 57,
   "metadata": {},
   "outputs": [
    {
     "name": "stdout",
     "output_type": "stream",
     "text": [
      "['sohan', 'ram', 'rohit', 'sunil']\n",
      "['sohan', 'syam', 'ram', 'rohit', 'sunil']\n"
     ]
    }
   ],
   "source": [
    "name=['ram','rohit','sunil']\n",
    "#if we want add \"sohan \" in first position\n",
    "name.insert(0,'sohan')\n",
    "print(name)\n",
    "name.insert(1,'syam')\n",
    "print(name)"
   ]
  },
  {
   "cell_type": "code",
   "execution_count": 58,
   "metadata": {},
   "outputs": [
    {
     "name": "stdout",
     "output_type": "stream",
     "text": [
      "['mango', 'orange', 'graps', 'apple']\n"
     ]
    }
   ],
   "source": [
    "# How to joint two list \n",
    "fruits1=['mango','orange']\n",
    "fruits2=['graps','apple']\n",
    "fruits=fruits1+fruits2\n",
    "print(fruits)\n"
   ]
  },
  {
   "cell_type": "code",
   "execution_count": 60,
   "metadata": {},
   "outputs": [
    {
     "name": "stdout",
     "output_type": "stream",
     "text": [
      "['sohan', 'rohan', 'ram', 'rahim']\n",
      "['ram', 'rahim']\n"
     ]
    }
   ],
   "source": [
    "#extend method in list\n",
    "user1=['sohan','rohan']\n",
    "user2=['ram','rahim']\n",
    "user1.extend(user2)\n",
    "print(user1)\n",
    "print(user2)\n"
   ]
  },
  {
   "cell_type": "code",
   "execution_count": 61,
   "metadata": {},
   "outputs": [
    {
     "name": "stdout",
     "output_type": "stream",
     "text": [
      "['sohan', 'rohan', 'ram', 'rahim', ['ram', 'rahim']]\n"
     ]
    }
   ],
   "source": [
    "user1.append(user2)\n",
    "print(user1)"
   ]
  },
  {
   "cell_type": "code",
   "execution_count": 65,
   "metadata": {},
   "outputs": [
    {
     "name": "stdout",
     "output_type": "stream",
     "text": [
      "['harsh', 'syam']\n",
      "harsit\n",
      "sunil\n"
     ]
    }
   ],
   "source": [
    "#pop data from list\n",
    "name=['harsit','harsh','syam','sunil']\n",
    "pop=name.pop(0)\n",
    "pop1=name.pop(2)\n",
    "print(name)\n",
    "print(pop)\n",
    "print(pop1)\n"
   ]
  },
  {
   "cell_type": "code",
   "execution_count": 81,
   "metadata": {},
   "outputs": [
    {
     "data": {
      "text/plain": [
       "['harsit', 'harsh', 'sunil']"
      ]
     },
     "execution_count": 81,
     "metadata": {},
     "output_type": "execute_result"
    }
   ],
   "source": [
    "#delete operator in list\n",
    "name=['harsit','harsh','syam','sunil']\n",
    "del name[2]\n",
    "name\n"
   ]
  },
  {
   "cell_type": "code",
   "execution_count": 82,
   "metadata": {},
   "outputs": [
    {
     "data": {
      "text/plain": [
       "['harsit', 'harsh', 'sunil']"
      ]
     },
     "execution_count": 82,
     "metadata": {},
     "output_type": "execute_result"
    }
   ],
   "source": [
    "#if we don't know the position of data than we remove method\n",
    "name=['harsit','harsh','syam','sunil']\n",
    "name.remove(\"syam\")\n",
    "name\n"
   ]
  },
  {
   "cell_type": "code",
   "execution_count": 85,
   "metadata": {},
   "outputs": [
    {
     "name": "stdout",
     "output_type": "stream",
     "text": [
      "harshit is present\n"
     ]
    }
   ],
   "source": [
    "#(in keyword in list)if we want to check data is available or not in our list\n",
    "name=['harsit','harsh','syam','sunil']\n",
    "if 'harsit' in name:\n",
    "    print('harshit is present')\n",
    "else:\n",
    "    print('not present')\n"
   ]
  },
  {
   "cell_type": "code",
   "execution_count": 100,
   "metadata": {},
   "outputs": [
    {
     "name": "stdout",
     "output_type": "stream",
     "text": [
      "2\n"
     ]
    }
   ],
   "source": [
    "#count method Return the number of times the value \"harsh\" appears int the name list:\n",
    "name=['harsit','harsh','harsh','syam','sunil']\n",
    "x=name.count('harsh')\n",
    "print(x)\n",
    "\n",
    "\n"
   ]
  },
  {
   "cell_type": "code",
   "execution_count": 102,
   "metadata": {},
   "outputs": [
    {
     "data": {
      "text/plain": [
       "['apple', 'banana', 'cherry']"
      ]
     },
     "execution_count": 102,
     "metadata": {},
     "output_type": "execute_result"
    }
   ],
   "source": [
    "#sort method in list\n",
    "fruits = [\"apple\",\"cherry\",'banana']\n",
    "fruits.sort()\n",
    "fruits\n"
   ]
  },
  {
   "cell_type": "code",
   "execution_count": 103,
   "metadata": {},
   "outputs": [
    {
     "data": {
      "text/plain": [
       "[]"
      ]
     },
     "execution_count": 103,
     "metadata": {},
     "output_type": "execute_result"
    }
   ],
   "source": [
    "#clear method in list:\n",
    "name=['harsit','harsh','harsh','syam','sunil']\n",
    "name.clear()\n",
    "name\n"
   ]
  },
  {
   "cell_type": "code",
   "execution_count": 105,
   "metadata": {},
   "outputs": [
    {
     "data": {
      "text/plain": [
       "['harsit', 'harsh', 'harsh', 'syam', 'sunil']"
      ]
     },
     "execution_count": 105,
     "metadata": {},
     "output_type": "execute_result"
    }
   ],
   "source": [
    "#copy method\n",
    "name=['harsit','harsh','harsh','syam','sunil']\n",
    "copy=name.copy()\n",
    "copy"
   ]
  },
  {
   "cell_type": "code",
   "execution_count": 109,
   "metadata": {},
   "outputs": [
    {
     "name": "stdout",
     "output_type": "stream",
     "text": [
      "['ritesh', '36'] <class 'list'>\n"
     ]
    }
   ],
   "source": [
    "#split method in list\n",
    "user='ritesh,36'.split(',')\n",
    "print(user,type(user))"
   ]
  },
  {
   "cell_type": "code",
   "execution_count": 111,
   "metadata": {},
   "outputs": [
    {
     "name": "stdout",
     "output_type": "stream",
     "text": [
      "harsit,harsh <class 'str'>\n"
     ]
    }
   ],
   "source": [
    "#join method if we want to convert list to string\n",
    "name=['harsit','harsh']\n",
    "x=(','.join(name))\n",
    "print(x,type(x))"
   ]
  },
  {
   "cell_type": "code",
   "execution_count": 117,
   "metadata": {},
   "outputs": [
    {
     "name": "stdout",
     "output_type": "stream",
     "text": [
      "[1, 2, 3]\n",
      "3\n"
     ]
    }
   ],
   "source": [
    "#list inside list\n",
    "matrix=[[1,2,3],[4,5,6],[7,8,9]]\n",
    "print(matrix[0])\n",
    "print(matrix[0][2])\n"
   ]
  },
  {
   "cell_type": "code",
   "execution_count": 121,
   "metadata": {},
   "outputs": [
    {
     "name": "stdout",
     "output_type": "stream",
     "text": [
      "1\n",
      "2\n",
      "3\n",
      "4\n",
      "5\n",
      "6\n",
      "7\n",
      "8\n",
      "9\n"
     ]
    }
   ],
   "source": [
    "for num in matrix:\n",
    "    for i in num:\n",
    "         print(i)"
   ]
  },
  {
   "cell_type": "code",
   "execution_count": 122,
   "metadata": {},
   "outputs": [
    {
     "data": {
      "text/plain": [
       "[1, 2, 3, 4, 5, 6, 7, 8, 9, 10]"
      ]
     },
     "execution_count": 122,
     "metadata": {},
     "output_type": "execute_result"
    }
   ],
   "source": [
    "num=list(range(1,11))\n",
    "num"
   ]
  },
  {
   "cell_type": "code",
   "execution_count": 124,
   "metadata": {},
   "outputs": [
    {
     "name": "stdout",
     "output_type": "stream",
     "text": [
      "2\n"
     ]
    }
   ],
   "source": [
    "#min function in list\n",
    "number=[2,3,4,5,6,7,8]\n",
    "print(min(number))"
   ]
  },
  {
   "cell_type": "code",
   "execution_count": null,
   "metadata": {},
   "outputs": [],
   "source": [
    "#max function in list\n",
    "print(max(number))"
   ]
  },
  {
   "cell_type": "raw",
   "metadata": {},
   "source": [
    "# Nested list comprehention\n",
    "Nested list means list inside list"
   ]
  },
  {
   "cell_type": "code",
   "execution_count": 49,
   "metadata": {},
   "outputs": [
    {
     "name": "stdout",
     "output_type": "stream",
     "text": [
      "[[1, 2, 3], [1, 2, 3], [1, 2, 3], [1, 2, 3]]\n"
     ]
    }
   ],
   "source": [
    "\n",
    "new=[]\n",
    "for i in range (4):\n",
    "    new.append([1,2,3])\n",
    "print(new)    "
   ]
  },
  {
   "cell_type": "code",
   "execution_count": 61,
   "metadata": {},
   "outputs": [
    {
     "data": {
      "text/plain": [
       "[[1, 2, 3], [1, 2, 3], [1, 2, 3]]"
      ]
     },
     "execution_count": 61,
     "metadata": {},
     "output_type": "execute_result"
    }
   ],
   "source": [
    "e=[[i for i in range (1,4)] for j in range (3)]\n",
    "e"
   ]
  },
  {
   "cell_type": "code",
   "execution_count": null,
   "metadata": {},
   "outputs": [],
   "source": []
  },
  {
   "cell_type": "code",
   "execution_count": 125,
   "metadata": {},
   "outputs": [
    {
     "name": "stdout",
     "output_type": "stream",
     "text": [
      "8\n"
     ]
    }
   ],
   "source": []
  },
  {
   "cell_type": "markdown",
   "metadata": {},
   "source": [
    "# Tuple"
   ]
  },
  {
   "cell_type": "code",
   "execution_count": 1,
   "metadata": {},
   "outputs": [
    {
     "name": "stdout",
     "output_type": "stream",
     "text": [
      "ritersh\n"
     ]
    }
   ],
   "source": [
    "#Tuple unpacking \n",
    "user=('ritersh','rohan','sohan')\n",
    "\n",
    "a,b,c=(user)\n",
    "print(a)\n"
   ]
  },
  {
   "cell_type": "code",
   "execution_count": 2,
   "metadata": {},
   "outputs": [
    {
     "data": {
      "text/plain": [
       "('hamant', 123, [123, 456, 'i am ritesh'])"
      ]
     },
     "execution_count": 2,
     "metadata": {},
     "output_type": "execute_result"
    }
   ],
   "source": [
    "#List inside tuple\n",
    "name=('hamant',123,[123,456])\n",
    "name[2].append('i am ritesh')\n",
    "name"
   ]
  },
  {
   "cell_type": "code",
   "execution_count": 3,
   "metadata": {},
   "outputs": [
    {
     "data": {
      "text/plain": [
       "21"
      ]
     },
     "execution_count": 3,
     "metadata": {},
     "output_type": "execute_result"
    }
   ],
   "source": [
    "#sum number in tuple\n",
    "number=(1,2,3,4,5,6)\n",
    "sum=sum(number)\n",
    "sum\n"
   ]
  },
  {
   "cell_type": "code",
   "execution_count": 4,
   "metadata": {},
   "outputs": [
    {
     "data": {
      "text/plain": [
       "[1, 2, 3, 4, 5, 6]"
      ]
     },
     "execution_count": 4,
     "metadata": {},
     "output_type": "execute_result"
    }
   ],
   "source": [
    "#Tuple to list \n",
    "num=(1,2,3,4,5,6)\n",
    "num=list(num)\n",
    "num"
   ]
  },
  {
   "cell_type": "code",
   "execution_count": 111,
   "metadata": {},
   "outputs": [
    {
     "data": {
      "text/plain": [
       "(1, 2, 3, 4, [909, 6, 7])"
      ]
     },
     "execution_count": 111,
     "metadata": {},
     "output_type": "execute_result"
    }
   ],
   "source": [
    "num=(1,2,3,4,[5,6,7])\n",
    "num[4][0]=909\n",
    "num"
   ]
  },
  {
   "cell_type": "code",
   "execution_count": 114,
   "metadata": {},
   "outputs": [
    {
     "ename": "NameError",
     "evalue": "name 'num' is not defined",
     "output_type": "error",
     "traceback": [
      "\u001b[1;31m---------------------------------------------------------------------------\u001b[0m",
      "\u001b[1;31mNameError\u001b[0m                                 Traceback (most recent call last)",
      "\u001b[1;32m<ipython-input-114-ccdce7af60a1>\u001b[0m in \u001b[0;36m<module>\u001b[1;34m\u001b[0m\n\u001b[0;32m      1\u001b[0m \u001b[0mnum\u001b[0m\u001b[1;33m=\u001b[0m\u001b[1;33m(\u001b[0m\u001b[1;36m1\u001b[0m\u001b[1;33m,\u001b[0m\u001b[1;36m2\u001b[0m\u001b[1;33m,\u001b[0m\u001b[1;36m3\u001b[0m\u001b[1;33m)\u001b[0m\u001b[1;33m\u001b[0m\u001b[1;33m\u001b[0m\u001b[0m\n\u001b[0;32m      2\u001b[0m \u001b[1;32mdel\u001b[0m\u001b[1;33m(\u001b[0m\u001b[0mnum\u001b[0m\u001b[1;33m)\u001b[0m\u001b[1;33m\u001b[0m\u001b[1;33m\u001b[0m\u001b[0m\n\u001b[1;32m----> 3\u001b[1;33m \u001b[0mnum\u001b[0m\u001b[1;33m\u001b[0m\u001b[1;33m\u001b[0m\u001b[0m\n\u001b[0m",
      "\u001b[1;31mNameError\u001b[0m: name 'num' is not defined"
     ]
    }
   ],
   "source": [
    "num=(1,2,3)\n",
    "del(num)\n",
    "num"
   ]
  },
  {
   "cell_type": "code",
   "execution_count": null,
   "metadata": {},
   "outputs": [],
   "source": []
  },
  {
   "cell_type": "code",
   "execution_count": null,
   "metadata": {},
   "outputs": [],
   "source": []
  },
  {
   "cell_type": "markdown",
   "metadata": {},
   "source": [
    "# Dictionaries"
   ]
  },
  {
   "cell_type": "code",
   "execution_count": 24,
   "metadata": {},
   "outputs": [
    {
     "name": "stdout",
     "output_type": "stream",
     "text": [
      "Ritesh\n",
      "36\n",
      "dict_values(['Ritesh', 36])\n",
      "dict_keys(['name', 'age'])\n"
     ]
    }
   ],
   "source": [
    "user={'name':'Ritesh','age':36}\n",
    "print(user['name'])\n",
    "print(user['age'])\n",
    "a=user.keys()\n",
    "b=user.values()\n",
    "print(b)\n",
    "print(a)"
   ]
  },
  {
   "cell_type": "code",
   "execution_count": 35,
   "metadata": {},
   "outputs": [
    {
     "name": "stdout",
     "output_type": "stream",
     "text": [
      "dict_items([('name', 'Ritesh'), ('age', 36), ('movie', 'DDLJ'), ('song', 'DHKMN')])\n",
      "your key is nameand your value is Ritesh\n",
      "your key is ageand your value is 36\n",
      "your key is movieand your value is DDLJ\n",
      "your key is songand your value is DHKMN\n"
     ]
    }
   ],
   "source": [
    "user={'name':'Ritesh','age':36,'movie':'DDLJ','song':'DHKMN'}\n",
    "user_item=user.items()\n",
    "print(user_item)\n",
    "for i,j in user.items():\n",
    "    print(f'your key is {i}and your value is {j}')"
   ]
  },
  {
   "cell_type": "code",
   "execution_count": 38,
   "metadata": {},
   "outputs": [
    {
     "name": "stdout",
     "output_type": "stream",
     "text": [
      "dict_items([('name', 'Ritesh'), ('age', 36), ('movie', 'DDLJ'), ('song', 'DHKMN')])\n",
      "your key is nameand your value is Ritesh\n",
      "your key is ageand your value is 36\n",
      "your key is movieand your value is DDLJ\n",
      "your key is songand your value is DHKMN\n"
     ]
    }
   ],
   "source": [
    "aa={'name':'Ritesh','age':36,'movie':'DDLJ','song':'DHKMN'}\n",
    "mm=aa.items()\n",
    "print(mm)\n",
    "for i,k in mm:\n",
    "    print(f'your key is {i}and your value is {k}')"
   ]
  },
  {
   "cell_type": "code",
   "execution_count": 39,
   "metadata": {},
   "outputs": [
    {
     "data": {
      "text/plain": [
       "{'name': 'Ritesh',\n",
       " 'age': 36,\n",
       " 'movie': 'DDLJ',\n",
       " 'song': 'DHKMN',\n",
       " 'fav_book': ['pilot', 'nirogdham']}"
      ]
     },
     "execution_count": 39,
     "metadata": {},
     "output_type": "execute_result"
    }
   ],
   "source": [
    "#Add & delete data from dictionaries:\n",
    "#Add data\n",
    "aa={'name':'Ritesh','age':36,'movie':'DDLJ','song':'DHKMN'}\n",
    "aa['fav_book']=['pilot','nirogdham']\n",
    "aa"
   ]
  },
  {
   "cell_type": "code",
   "execution_count": 42,
   "metadata": {},
   "outputs": [
    {
     "name": "stdout",
     "output_type": "stream",
     "text": [
      "{'name': 'Ritesh', 'movie': 'DDLJ', 'song': 'DHKMN'}\n",
      "36\n"
     ]
    }
   ],
   "source": [
    "#pop method:\n",
    "aa={'name':'Ritesh','age':36,'movie':'DDLJ','song':'DHKMN'}\n",
    "m=aa.pop('age')\n",
    "print(aa)\n",
    "print(m)\n"
   ]
  },
  {
   "cell_type": "code",
   "execution_count": 44,
   "metadata": {},
   "outputs": [
    {
     "data": {
      "text/plain": [
       "{'name': 'Ritesh',\n",
       " 'age': 36,\n",
       " 'movie': 'DDLJ',\n",
       " 'song': 'DHKMN',\n",
       " 'school': 'LLPUVM',\n",
       " 'town': 'Rampur'}"
      ]
     },
     "execution_count": 44,
     "metadata": {},
     "output_type": "execute_result"
    }
   ],
   "source": [
    "#update mathod:\n",
    "user={'name':'Ritesh','age':36,'movie':'DDLJ','song':'DHKMN'}\n",
    "name={'school':'LLPUVM','town':'Rampur'}\n",
    "user.update(name)\n",
    "user\n",
    "\n"
   ]
  },
  {
   "cell_type": "code",
   "execution_count": 1,
   "metadata": {},
   "outputs": [
    {
     "name": "stdout",
     "output_type": "stream",
     "text": [
      "None\n"
     ]
    }
   ],
   "source": [
    "#clear method\n",
    "user={'name':'Ritesh','age':36,'movie':'DDLJ','song':'DHKMN'}\n",
    "\n",
    "print(user.clear())\n",
    "\n",
    "\n"
   ]
  },
  {
   "cell_type": "code",
   "execution_count": 2,
   "metadata": {},
   "outputs": [
    {
     "name": "stdout",
     "output_type": "stream",
     "text": [
      "{'name': 'Ritesh', 'age': 36, 'movie': 'DDLJ', 'song': 'DHKMN'}\n"
     ]
    }
   ],
   "source": [
    "#copy method\n",
    "user={'name':'Ritesh','age':36,'movie':'DDLJ','song':'DHKMN'}\n",
    "d1=user.copy()\n",
    "print(d1)"
   ]
  },
  {
   "cell_type": "code",
   "execution_count": 6,
   "metadata": {},
   "outputs": [
    {
     "name": "stdout",
     "output_type": "stream",
     "text": [
      "enter your nameRitesh\n",
      "enter your age36\n",
      "what is fav movieDDLJ\n",
      "{'name': 'Ritesh', 'age': '36', 'movie': 'DDLJ'}\n"
     ]
    }
   ],
   "source": [
    "#How to make dictionary\n",
    "user={}\n",
    "name=input('enter your name')\n",
    "age=input('enter your age')\n",
    "movie=input('what is fav movie')\n",
    "user['name']=name\n",
    "user['age']=age\n",
    "user['movie']=movie\n",
    "print(user)\n",
    "\n"
   ]
  },
  {
   "cell_type": "code",
   "execution_count": 62,
   "metadata": {},
   "outputs": [
    {
     "name": "stdout",
     "output_type": "stream",
     "text": [
      "name:Ritesh\n",
      "age:36\n",
      "movie:DDLJ\n"
     ]
    }
   ],
   "source": [
    "for key,value in user.items():\n",
    "    print(f'{key}:{value}')"
   ]
  },
  {
   "cell_type": "markdown",
   "metadata": {},
   "source": [
    "### Dictionary comprehention"
   ]
  },
  {
   "cell_type": "code",
   "execution_count": 63,
   "metadata": {},
   "outputs": [
    {
     "data": {
      "text/plain": [
       "{1: 1, 2: 4, 3: 9, 4: 16, 5: 25, 6: 36, 7: 49, 8: 64, 9: 81, 10: 100}"
      ]
     },
     "execution_count": 63,
     "metadata": {},
     "output_type": "execute_result"
    }
   ],
   "source": [
    "s={num:num**2 for num in range (1,11)}\n",
    "s"
   ]
  },
  {
   "cell_type": "code",
   "execution_count": 67,
   "metadata": {},
   "outputs": [
    {
     "data": {
      "text/plain": [
       "{'square of 1 is ': 1,\n",
       " 'square of 2 is ': 4,\n",
       " 'square of 3 is ': 9,\n",
       " 'square of 4 is ': 16,\n",
       " 'square of 5 is ': 25,\n",
       " 'square of 6 is ': 36,\n",
       " 'square of 7 is ': 49,\n",
       " 'square of 8 is ': 64,\n",
       " 'square of 9 is ': 81,\n",
       " 'square of 10 is ': 100}"
      ]
     },
     "execution_count": 67,
     "metadata": {},
     "output_type": "execute_result"
    }
   ],
   "source": [
    "f={f'square of {num} is ':num**2 for num in range (1,11)}\n",
    "f"
   ]
  },
  {
   "cell_type": "code",
   "execution_count": 70,
   "metadata": {},
   "outputs": [
    {
     "data": {
      "text/plain": [
       "{'R': 1, 'i': 1, 't': 1, 'e': 1, 's': 1, 'h': 2}"
      ]
     },
     "execution_count": 70,
     "metadata": {},
     "output_type": "execute_result"
    }
   ],
   "source": [
    "string='Riteshh'\n",
    "word={char:string.count(char) for char in string}\n",
    "word"
   ]
  },
  {
   "cell_type": "code",
   "execution_count": null,
   "metadata": {},
   "outputs": [],
   "source": []
  },
  {
   "cell_type": "code",
   "execution_count": null,
   "metadata": {},
   "outputs": [],
   "source": []
  },
  {
   "cell_type": "code",
   "execution_count": null,
   "metadata": {},
   "outputs": [],
   "source": []
  },
  {
   "cell_type": "code",
   "execution_count": 7,
   "metadata": {},
   "outputs": [
    {
     "name": "stdout",
     "output_type": "stream",
     "text": [
      "name:Ritesh\n",
      "age:36\n",
      "movie:DDLJ\n"
     ]
    }
   ],
   "source": []
  },
  {
   "cell_type": "markdown",
   "metadata": {},
   "source": [
    "# set"
   ]
  },
  {
   "cell_type": "code",
   "execution_count": 12,
   "metadata": {},
   "outputs": [
    {
     "name": "stdout",
     "output_type": "stream",
     "text": [
      "{1, 2, 3, 4, 5, 6, 7, 8, 9, 10} <class 'set'>\n"
     ]
    }
   ],
   "source": [
    "#its not repeat same items.\n",
    "number={1,2,2,3,4,5,5,6,7,7,7,7,8,9,10}\n",
    "print(number,type(number))\n",
    "\n"
   ]
  },
  {
   "cell_type": "code",
   "execution_count": 10,
   "metadata": {},
   "outputs": [
    {
     "name": "stdout",
     "output_type": "stream",
     "text": [
      "[1, 2, 3, 4, 5, 6, 7, 8, 9, 10]\n"
     ]
    }
   ],
   "source": [
    "#set to list \n",
    "S2=list(number)\n",
    "print(S2)"
   ]
  },
  {
   "cell_type": "code",
   "execution_count": 13,
   "metadata": {},
   "outputs": [
    {
     "data": {
      "text/plain": [
       "{1, 2, 3, 4, 5, 6}"
      ]
     },
     "execution_count": 13,
     "metadata": {},
     "output_type": "execute_result"
    }
   ],
   "source": [
    "#add method in set\n",
    "s={1,2,3,4,5}\n",
    "s.add(6)\n",
    "s"
   ]
  },
  {
   "cell_type": "code",
   "execution_count": 15,
   "metadata": {},
   "outputs": [
    {
     "data": {
      "text/plain": [
       "{1, 2, 3}"
      ]
     },
     "execution_count": 15,
     "metadata": {},
     "output_type": "execute_result"
    }
   ],
   "source": [
    "#Remove method in set \n",
    "r={1,2,3,4}\n",
    "r.remove(4)\n",
    "r"
   ]
  },
  {
   "cell_type": "code",
   "execution_count": 16,
   "metadata": {},
   "outputs": [
    {
     "data": {
      "text/plain": [
       "set()"
      ]
     },
     "execution_count": 16,
     "metadata": {},
     "output_type": "execute_result"
    }
   ],
   "source": [
    "# clear method in set\n",
    "S={1,2,3,4,5}\n",
    "s.clear()\n",
    "s"
   ]
  },
  {
   "cell_type": "code",
   "execution_count": null,
   "metadata": {},
   "outputs": [],
   "source": [
    "# copy method in set\n",
    "\n",
    "w=S.copy()\n",
    "w"
   ]
  },
  {
   "cell_type": "code",
   "execution_count": 25,
   "metadata": {},
   "outputs": [
    {
     "name": "stdout",
     "output_type": "stream",
     "text": [
      "[-1, -2, -3, -4, -5, -6, -7, -8, -9, -10, -11]\n"
     ]
    }
   ],
   "source": [
    "# simple way for nagative number 1 to 11\n",
    "nagative=[]\n",
    "for i in range (0,12)"
   ]
  },
  {
   "cell_type": "code",
   "execution_count": 26,
   "metadata": {},
   "outputs": [
    {
     "name": "stdout",
     "output_type": "stream",
     "text": [
      "[-1, -2, -3, -4, -5, -6, -7, -8, -9, -10]\n"
     ]
    }
   ],
   "source": [
    "#list comprehension\n",
    "nag=[-i for i in range(1,11)]\n",
    "print(nag)"
   ]
  },
  {
   "cell_type": "code",
   "execution_count": 29,
   "metadata": {},
   "outputs": [
    {
     "name": "stdout",
     "output_type": "stream",
     "text": [
      "['R', 'm', 's']\n"
     ]
    }
   ],
   "source": [
    "name=['Ritesh','mupesh','sakesh']\n",
    "f=[]\n",
    "for i in name:\n",
    "    f.append(i[0])\n",
    "print(f)\n"
   ]
  },
  {
   "cell_type": "code",
   "execution_count": 30,
   "metadata": {},
   "outputs": [
    {
     "data": {
      "text/plain": [
       "['R', 'm', 's']"
      ]
     },
     "execution_count": 30,
     "metadata": {},
     "output_type": "execute_result"
    }
   ],
   "source": [
    "m=[i[0] for i in name ]\n",
    "m"
   ]
  },
  {
   "cell_type": "code",
   "execution_count": null,
   "metadata": {},
   "outputs": [],
   "source": [
    "# list comprehension with if statment "
   ]
  },
  {
   "cell_type": "code",
   "execution_count": 32,
   "metadata": {},
   "outputs": [
    {
     "name": "stdout",
     "output_type": "stream",
     "text": [
      "[2, 4, 6, 8, 10]\n"
     ]
    }
   ],
   "source": [
    "even=[]\n",
    "num=[1,2,3,4,5,6,7,8,9,10]\n",
    "for i in num:\n",
    "    if i%2==0:\n",
    "        even.append(i)\n",
    "print(even)        \n",
    "       "
   ]
  },
  {
   "cell_type": "code",
   "execution_count": 45,
   "metadata": {},
   "outputs": [
    {
     "name": "stdout",
     "output_type": "stream",
     "text": [
      "[-1, 4, -3, 16, -5, 36, -7, 64, -9, 100]\n"
     ]
    }
   ],
   "source": [
    "num=[1,2,3,4,5,6,7,8,9,10]\n",
    "evnag=[]\n",
    "for i in num:\n",
    "    if i%2==0:\n",
    "        evnag.append(i**2)\n",
    "    else :\n",
    "        evnag.append(-i)\n",
    "print(evnag)       "
   ]
  },
  {
   "cell_type": "code",
   "execution_count": 47,
   "metadata": {},
   "outputs": [
    {
     "name": "stdout",
     "output_type": "stream",
     "text": [
      "[-1, 4, -3, 16, -5, 36, -7, 64, -9, 100]\n"
     ]
    }
   ],
   "source": [
    "#same program in list comprehention\n",
    "we=[i**2 if i%2==0 else -i for i in num]\n",
    "print()"
   ]
  },
  {
   "cell_type": "markdown",
   "metadata": {},
   "source": [
    "# union and intersection"
   ]
  },
  {
   "cell_type": "code",
   "execution_count": 19,
   "metadata": {},
   "outputs": [
    {
     "data": {
      "text/plain": [
       "{1, 2, 3, 4, 5, 6, 7, 8, 9, 10}"
      ]
     },
     "execution_count": 19,
     "metadata": {},
     "output_type": "execute_result"
    }
   ],
   "source": [
    "#for union we use | pipe\n",
    "s1={1,2,3,4,5,6,7}\n",
    "s2={1,2,3,4,5,6,7,8,9,10}\n",
    "q=s1|s2\n",
    "q"
   ]
  },
  {
   "cell_type": "code",
   "execution_count": 20,
   "metadata": {},
   "outputs": [
    {
     "data": {
      "text/plain": [
       "{1, 2, 3, 4, 5, 6, 7}"
      ]
     },
     "execution_count": 20,
     "metadata": {},
     "output_type": "execute_result"
    }
   ],
   "source": [
    "# for intersection we use &\n",
    "s1={1,2,3,4,5,6,7}\n",
    "s2={1,2,3,4,5,6,7,8,9,10}\n",
    "w=s1&s2\n",
    "w\n"
   ]
  },
  {
   "cell_type": "code",
   "execution_count": 75,
   "metadata": {},
   "outputs": [
    {
     "name": "stdout",
     "output_type": "stream",
     "text": [
      "615\n"
     ]
    }
   ],
   "source": [
    "abc=123\n",
    "print(123*5)"
   ]
  },
  {
   "cell_type": "code",
   "execution_count": 76,
   "metadata": {},
   "outputs": [
    {
     "name": "stdout",
     "output_type": "stream",
     "text": [
      "40\n"
     ]
    }
   ],
   "source": [
    "print(int(40.4))"
   ]
  },
  {
   "cell_type": "code",
   "execution_count": 77,
   "metadata": {},
   "outputs": [
    {
     "name": "stdout",
     "output_type": "stream",
     "text": [
      "40.0\n"
     ]
    }
   ],
   "source": [
    "print(float(40))"
   ]
  },
  {
   "cell_type": "code",
   "execution_count": 83,
   "metadata": {},
   "outputs": [
    {
     "name": "stdout",
     "output_type": "stream",
     "text": [
      "\u0004\n"
     ]
    }
   ],
   "source": [
    "print(chr(4))"
   ]
  },
  {
   "cell_type": "code",
   "execution_count": 84,
   "metadata": {},
   "outputs": [
    {
     "ename": "TypeError",
     "evalue": "integer argument expected, got float",
     "output_type": "error",
     "traceback": [
      "\u001b[1;31m---------------------------------------------------------------------------\u001b[0m",
      "\u001b[1;31mTypeError\u001b[0m                                 Traceback (most recent call last)",
      "\u001b[1;32m<ipython-input-84-935225eb3292>\u001b[0m in \u001b[0;36m<module>\u001b[1;34m\u001b[0m\n\u001b[1;32m----> 1\u001b[1;33m \u001b[0mprint\u001b[0m\u001b[1;33m(\u001b[0m\u001b[0mchr\u001b[0m\u001b[1;33m(\u001b[0m\u001b[1;36m40.4\u001b[0m\u001b[1;33m)\u001b[0m\u001b[1;33m)\u001b[0m\u001b[1;33m\u001b[0m\u001b[1;33m\u001b[0m\u001b[0m\n\u001b[0m",
      "\u001b[1;31mTypeError\u001b[0m: integer argument expected, got float"
     ]
    }
   ],
   "source": [
    "print(chr(40.4))"
   ]
  },
  {
   "cell_type": "code",
   "execution_count": 129,
   "metadata": {},
   "outputs": [
    {
     "name": "stdout",
     "output_type": "stream",
     "text": [
      "0\n",
      "1\n",
      "2\n",
      "3\n",
      "4\n",
      "5\n",
      "6\n",
      "7\n",
      "8\n",
      "9\n",
      "10\n"
     ]
    }
   ],
   "source": [
    "x=range(0,11)\n",
    "for i in x:\n",
    "        print(i)\n"
   ]
  },
  {
   "cell_type": "code",
   "execution_count": 108,
   "metadata": {},
   "outputs": [
    {
     "data": {
      "text/plain": [
       "['ritesh']"
      ]
     },
     "execution_count": 108,
     "metadata": {},
     "output_type": "execute_result"
    }
   ],
   "source": [
    "a=[]\n",
    "a.append('ritesh')\n",
    "a"
   ]
  },
  {
   "cell_type": "code",
   "execution_count": 110,
   "metadata": {},
   "outputs": [
    {
     "name": "stdout",
     "output_type": "stream",
     "text": [
      "6\n"
     ]
    }
   ],
   "source": [
    "a=[1,2,3,4,5,8]\n",
    "s=len(a)\n",
    "print(s)\n"
   ]
  },
  {
   "cell_type": "code",
   "execution_count": 121,
   "metadata": {},
   "outputs": [
    {
     "name": "stdout",
     "output_type": "stream",
     "text": [
      "True\n",
      "True\n",
      "False\n",
      "True\n",
      "False\n"
     ]
    }
   ],
   "source": [
    "print(bool(123))\n",
    "print(bool(13.3))\n",
    "print(bool(0))\n",
    "print(bool('char'))\n",
    "print(bool())"
   ]
  },
  {
   "cell_type": "markdown",
   "metadata": {},
   "source": [
    "### if elif eise"
   ]
  },
  {
   "cell_type": "code",
   "execution_count": 154,
   "metadata": {},
   "outputs": [
    {
     "name": "stdout",
     "output_type": "stream",
     "text": [
      "faiild\n"
     ]
    }
   ],
   "source": [
    "#if statment \n",
    "mark=90\n",
    "if 100<mark<350:\n",
    "    print('you passed')\n",
    "else:\n",
    "    print('faiild')\n",
    "       \n",
    "      \n",
    "    "
   ]
  },
  {
   "cell_type": "code",
   "execution_count": 159,
   "metadata": {},
   "outputs": [
    {
     "name": "stdout",
     "output_type": "stream",
     "text": [
      "rr\n"
     ]
    }
   ],
   "source": [
    "mark1=560\n",
    "if 500<mark1>550:\n",
    "    print('rr')"
   ]
  },
  {
   "cell_type": "code",
   "execution_count": 8,
   "metadata": {},
   "outputs": [
    {
     "name": "stdout",
     "output_type": "stream",
     "text": [
      "Enter your marks:\n",
      "223\n",
      "you got D grade\n",
      "2\n",
      "4\n",
      "7\n"
     ]
    }
   ],
   "source": [
    "#if elif else\n",
    "student_mark=int(input('Enter your marks:\\n'))\n",
    "if 550<student_mark<=600:\n",
    "    print('you got A grade')\n",
    "elif 500<student_mark<=550:\n",
    "    print('you got B grade')\n",
    "elif 450<student_mark<=500:\n",
    "    print('you got C grade')\n",
    "elif 400<student_mark<=450:\n",
    "    print('you got D grade')\n",
    "elif 0<student_mark<=400:\n",
    "    print('you got D grade')  \n",
    "else:\n",
    "    print('Enter the correct marks')\n",
    "student_mark=str(student_mark)\n",
    "total=0\n",
    "i=0\n",
    "while i <len(student_mark):\n",
    "    total+=int(student_mark[i])\n",
    "    i+=1\n",
    "    print(total)    \n",
    "    "
   ]
  },
  {
   "cell_type": "code",
   "execution_count": 20,
   "metadata": {},
   "outputs": [
    {
     "name": "stdout",
     "output_type": "stream",
     "text": [
      "2\n",
      "4\n",
      "7\n"
     ]
    }
   ],
   "source": [
    "student_mark=str(student_mark)\n",
    "total=0\n",
    "i=0\n",
    "while i <len(student_mark):\n",
    "    total+=int(student_mark[i])\n",
    "    i+=1\n",
    "    print(total)"
   ]
  },
  {
   "cell_type": "code",
   "execution_count": 176,
   "metadata": {},
   "outputs": [
    {
     "name": "stdout",
     "output_type": "stream",
     "text": [
      "Number of integers with multiples of 12 :  67\n",
      "Number of integers with multiples of 15 :  40\n",
      "Number of integers with multiples of 20 :  26\n",
      "Number of integers with multiples of 30 :  0\n",
      "Number of remaining :  667\n",
      "800\n"
     ]
    }
   ],
   "source": [
    "# For and if elif along with append functionality\n",
    "limit=range(800)\n",
    "num_divided_12=[]\n",
    "num_divided_15=[]\n",
    "num_divided_20=[]\n",
    "num_divided_30=[]\n",
    "num_remain=[]\n",
    "for num in limit:\n",
    "    if num%12==0:\n",
    "        num_divided_12.append(num)\n",
    "    elif num%15==0:\n",
    "        num_divided_15.append(num)\n",
    "    elif num%20==0:\n",
    "        num_divided_20.append(num)\n",
    "    elif num%30==0:\n",
    "        num_divided_30.append(num)\n",
    "    else:\n",
    "        num_remain.append(num)\n",
    "    \n",
    "print(\"Number of integers with multiples of 12 : \",len(num_divided_12)) \n",
    "print(\"Number of integers with multiples of 15 : \",len(num_divided_15))\n",
    "print(\"Number of integers with multiples of 20 : \",len(num_divided_20))\n",
    "print(\"Number of integers with multiples of 30 : \",len(num_divided_30))\n",
    "print(\"Number of remaining : \",len(num_remain))\n",
    "        \n",
    "print(len(num_divided_12)+len(num_divided_15)+len(num_divided_20)+len(num_divided_30)+len(num_remain))        \n",
    "    \n",
    "    \n",
    "         \n",
    "    "
   ]
  },
  {
   "cell_type": "code",
   "execution_count": 178,
   "metadata": {},
   "outputs": [
    {
     "name": "stdout",
     "output_type": "stream",
     "text": [
      "[0, 37, 74, 111, 148, 185, 222, 259, 296, 333, 370, 407, 444, 481, 518, 555, 592, 629, 666, 703, 740, 777, 814, 851, 888, 925, 962, 999]\n",
      "length 28\n"
     ]
    }
   ],
   "source": [
    "number_div_by_39 = [num for num in range(1000) if num%37==0]\n",
    "print(number_div_by_39)\n",
    "print(\"length\",len(number_div_by_39))"
   ]
  },
  {
   "cell_type": "code",
   "execution_count": 21,
   "metadata": {},
   "outputs": [
    {
     "name": "stdout",
     "output_type": "stream",
     "text": [
      "['num22', 'not required', 'not required', 'not required', 'not required', 'not required', 'not required', 'not required', 'not required', 'not required', 'not required', 'not required', 'not required', 'not required', 'not required', 'not required', 'not required', 'not required', 'not required', 'not required', 'not required', 'not required', 'not required', 'not required', 'not required', 'not required', 'not required', 'not required', 'not required', 'not required', 'not required', 'not required', 'not required', 'not required', 'not required', 'not required', 'not required', 'not required', 'not required', 'not required', 'not required', 'not required', 'not required', 'not required', 'not required', 'not required', 'not required', 'not required', 'not required', 'not required', 'not required', 'not required', 'not required', 'not required', 'not required', 'not required', 'not required', 'not required', 'not required', 'not required', 'not required', 'not required', 'not required', 'not required', 'not required', 'not required', 'not required', 'not required', 'not required', 'not required', 'not required', 'not required', 'not required', 'not required', 'not required', 'not required', 'not required', 'not required', 'not required', 'not required', 'not required', 'not required', 'not required', 'not required', 'not required', 'not required', 'not required', 'not required', 'not required', 'not required', 'not required', 'not required', 'not required', 'not required', 'not required', 'not required', 'not required', 'not required', 'not required', 'not required', 'not required', 'not required', 'not required', 'not required', 'not required', 'not required', 'not required', 'not required', 'not required', 'not required', 'not required', 'not required', 'not required', 'not required', 'not required', 'not required', 'not required', 'not required', 'not required', 'not required', 'not required', 'not required', 'num22', 'not required', 'not required', 'not required', 'not required', 'not required', 'not required', 'not required', 'not required', 'not required', 'not required', 'not required', 'not required', 'not required', 'not required', 'not required', 'not required', 'not required', 'not required', 'not required', 'not required', 'not required', 'not required', 'not required', 'not required', 'not required', 'not required', 'not required', 'not required', 'not required', 'not required', 'not required', 'not required', 'not required', 'not required', 'not required', 'not required', 'not required', 'not required', 'not required', 'not required', 'not required', 'not required', 'not required', 'not required', 'not required', 'not required', 'not required', 'not required', 'not required', 'not required', 'not required', 'not required', 'not required', 'not required', 'not required', 'not required', 'not required', 'not required', 'not required', 'not required', 'not required', 'not required', 'not required', 'not required', 'not required', 'not required', 'not required', 'not required', 'not required', 'not required', 'not required', 'not required', 'not required', 'not required', 'not required', 'not required', 'not required', 'not required', 'not required', 'not required', 'not required', 'not required', 'not required', 'not required', 'not required', 'not required', 'not required', 'not required', 'not required', 'not required', 'not required', 'not required', 'not required', 'not required', 'not required', 'not required', 'not required', 'not required', 'not required', 'not required', 'not required', 'not required', 'not required', 'not required', 'not required', 'not required', 'not required', 'not required', 'not required', 'not required', 'not required', 'not required', 'not required', 'not required', 'not required', 'not required', 'not required', 'not required', 'not required', 'not required', 'not required', 'num22', 'not required', 'not required', 'not required', 'not required', 'not required', 'not required', 'not required', 'not required', 'not required', 'not required', 'not required', 'not required', 'not required', 'not required', 'not required', 'not required', 'not required', 'not required', 'not required', 'not required', 'not required', 'not required', 'not required', 'not required', 'not required', 'not required', 'not required', 'not required', 'not required', 'not required', 'not required', 'not required', 'not required', 'not required', 'not required', 'not required', 'not required', 'not required', 'not required', 'not required', 'not required', 'not required', 'not required', 'not required', 'not required', 'not required', 'not required', 'not required', 'not required', 'not required', 'not required', 'not required', 'not required', 'not required', 'not required', 'not required', 'not required', 'not required', 'not required', 'not required', 'not required', 'not required', 'not required', 'not required', 'not required', 'not required', 'not required', 'not required', 'not required', 'not required', 'not required', 'not required', 'not required', 'not required', 'not required', 'not required', 'not required', 'not required', 'not required', 'not required', 'not required', 'not required', 'not required', 'not required', 'not required', 'not required', 'not required', 'not required', 'not required', 'not required', 'not required', 'not required', 'not required', 'not required', 'not required', 'not required', 'not required', 'not required', 'not required', 'not required', 'not required', 'not required', 'not required', 'not required', 'not required', 'not required', 'not required', 'not required', 'not required', 'not required', 'not required', 'not required', 'not required', 'not required', 'not required', 'not required', 'not required', 'not required', 'not required', 'not required', 'not required', 'num22', 'not required', 'not required', 'not required', 'not required', 'not required', 'not required', 'not required', 'not required', 'not required', 'not required', 'not required', 'not required', 'not required', 'not required', 'not required', 'not required', 'not required', 'not required', 'not required', 'not required', 'not required', 'not required', 'not required', 'not required', 'not required', 'not required', 'not required', 'not required', 'not required', 'not required', 'not required', 'not required', 'not required', 'not required', 'not required', 'not required', 'not required', 'not required', 'not required', 'not required', 'not required', 'not required', 'not required', 'not required', 'not required', 'not required', 'not required', 'not required', 'not required', 'not required', 'not required', 'not required', 'not required', 'not required', 'not required', 'not required', 'not required', 'not required', 'not required', 'not required', 'not required', 'not required', 'not required', 'not required', 'not required', 'not required', 'not required', 'not required', 'not required', 'not required', 'not required', 'not required', 'not required', 'not required', 'not required', 'not required', 'not required', 'not required', 'not required', 'not required', 'not required', 'not required', 'not required', 'not required', 'not required', 'not required', 'not required', 'not required', 'not required', 'not required', 'not required', 'not required', 'not required', 'not required', 'not required', 'not required', 'not required', 'not required', 'not required', 'not required', 'not required', 'not required', 'not required', 'not required', 'not required', 'not required', 'not required', 'not required', 'not required', 'not required', 'not required', 'not required', 'not required', 'not required', 'not required', 'not required', 'not required', 'not required', 'not required', 'not required', 'not required', 'num22', 'not required', 'not required', 'not required', 'not required', 'not required', 'not required', 'not required', 'not required', 'not required', 'not required', 'not required', 'not required', 'not required', 'not required', 'not required', 'not required', 'not required', 'not required', 'not required', 'not required', 'not required', 'not required', 'not required', 'not required', 'not required', 'not required', 'not required', 'not required', 'not required', 'not required', 'not required', 'not required', 'not required', 'not required', 'not required', 'not required', 'not required', 'not required', 'not required', 'not required', 'not required', 'not required', 'not required', 'not required', 'not required', 'not required', 'not required', 'not required', 'not required', 'not required', 'not required', 'not required', 'not required', 'not required', 'not required', 'not required', 'not required', 'not required', 'not required', 'not required', 'not required', 'not required', 'not required', 'not required', 'not required', 'not required', 'not required', 'not required', 'not required', 'not required', 'not required', 'not required', 'not required', 'not required', 'not required', 'not required', 'not required', 'not required', 'not required', 'not required', 'not required', 'not required', 'not required', 'not required', 'not required', 'not required', 'not required', 'not required', 'not required', 'not required', 'not required', 'not required', 'not required', 'not required', 'not required', 'not required', 'not required', 'not required', 'not required', 'not required', 'not required', 'not required', 'not required', 'not required', 'not required', 'not required', 'not required', 'not required', 'not required', 'not required', 'not required', 'not required', 'not required', 'not required', 'not required', 'not required', 'not required', 'not required', 'not required', 'not required', 'not required', 'num22', 'not required', 'not required', 'not required', 'not required', 'not required', 'not required', 'not required', 'not required', 'not required', 'not required', 'not required', 'not required', 'not required', 'not required', 'not required', 'not required', 'not required', 'not required', 'not required', 'not required', 'not required', 'not required', 'not required', 'not required', 'not required', 'not required', 'not required', 'not required', 'not required', 'not required', 'not required', 'not required', 'not required', 'not required', 'not required', 'not required', 'not required', 'not required', 'not required', 'not required', 'not required', 'not required', 'not required', 'not required', 'not required', 'not required', 'not required', 'not required', 'not required', 'not required', 'not required', 'not required', 'not required', 'not required', 'not required', 'not required', 'not required', 'not required', 'not required', 'not required', 'not required', 'not required', 'not required', 'not required', 'not required', 'not required', 'not required', 'not required', 'not required', 'not required', 'not required', 'not required', 'not required', 'not required', 'not required', 'not required', 'not required', 'not required', 'not required', 'not required', 'not required', 'not required', 'not required', 'not required', 'not required', 'not required', 'not required', 'not required', 'not required', 'not required', 'not required', 'not required', 'not required', 'not required', 'not required', 'not required', 'not required', 'not required', 'not required', 'not required', 'not required', 'not required', 'not required', 'not required', 'not required', 'not required', 'not required', 'not required', 'not required', 'not required', 'not required', 'not required', 'not required', 'not required', 'not required', 'not required', 'not required', 'not required', 'not required', 'not required', 'not required', 'num22', 'not required', 'not required', 'not required', 'not required', 'not required', 'not required', 'not required', 'not required', 'not required', 'not required', 'not required', 'not required', 'not required', 'not required', 'not required', 'not required', 'not required', 'not required', 'not required', 'not required', 'not required', 'not required', 'not required', 'not required', 'not required', 'not required', 'not required', 'not required', 'not required', 'not required', 'not required', 'not required', 'not required', 'not required', 'not required', 'not required', 'not required', 'not required', 'not required', 'not required', 'not required', 'not required', 'not required', 'not required', 'not required', 'not required', 'not required', 'not required', 'not required', 'not required', 'not required', 'not required', 'not required', 'not required', 'not required', 'not required', 'not required', 'not required', 'not required', 'not required', 'not required', 'not required', 'not required', 'not required', 'not required', 'not required', 'not required', 'not required', 'not required', 'not required', 'not required', 'not required', 'not required', 'not required', 'not required', 'not required', 'not required', 'not required', 'not required', 'not required', 'not required', 'not required', 'not required', 'not required', 'not required', 'not required', 'not required', 'not required', 'not required', 'not required', 'not required', 'not required', 'not required', 'not required', 'not required', 'not required', 'not required', 'not required', 'not required', 'not required', 'not required', 'not required', 'not required', 'not required', 'not required', 'not required', 'not required', 'not required', 'not required', 'not required', 'not required', 'not required', 'not required', 'not required', 'not required', 'not required', 'not required', 'not required', 'not required', 'not required', 'not required', 'num22', 'not required', 'not required', 'not required', 'not required', 'not required', 'not required', 'not required', 'not required', 'not required', 'not required', 'not required', 'not required', 'not required', 'not required', 'not required', 'not required', 'not required', 'not required', 'not required', 'not required', 'not required', 'not required', 'not required', 'not required', 'not required', 'not required', 'not required', 'not required', 'not required', 'not required', 'not required', 'not required', 'not required', 'not required', 'not required', 'not required', 'not required', 'not required', 'not required', 'not required', 'not required', 'not required', 'not required', 'not required', 'not required', 'not required', 'not required', 'not required', 'not required', 'not required', 'not required', 'not required', 'not required', 'not required', 'not required', 'not required', 'not required', 'not required', 'not required', 'not required', 'not required', 'not required', 'not required', 'not required', 'not required', 'not required', 'not required', 'not required', 'not required', 'not required', 'not required', 'not required', 'not required', 'not required', 'not required', 'not required', 'not required', 'not required', 'not required', 'not required', 'not required', 'not required', 'not required', 'not required', 'not required', 'not required', 'not required', 'not required', 'not required', 'not required', 'not required', 'not required', 'not required', 'not required', 'not required', 'not required', 'not required', 'not required', 'not required', 'not required', 'not required', 'not required', 'not required', 'not required', 'not required', 'not required', 'not required', 'not required', 'not required', 'not required', 'not required', 'not required', 'not required', 'not required', 'not required', 'not required', 'not required', 'not required', 'not required', 'not required', 'not required', 'num22', 'not required', 'not required', 'not required', 'not required', 'not required', 'not required', 'not required', 'not required', 'not required', 'not required', 'not required', 'not required', 'not required', 'not required', 'not required', 'not required', 'not required', 'not required', 'not required', 'not required', 'not required', 'not required', 'not required']\n"
     ]
    }
   ],
   "source": [
    "num2=['num22'if i%122==0 else 'not required'for i in  range (1000)]\n",
    "print(num2)\n"
   ]
  },
  {
   "cell_type": "code",
   "execution_count": 186,
   "metadata": {},
   "outputs": [
    {
     "name": "stdout",
     "output_type": "stream",
     "text": [
      "9\n"
     ]
    }
   ],
   "source": [
    "num2_only=[]\n",
    "for i in num2:\n",
    "    if i=='num22':\n",
    "        num2_only.append(i)\n",
    "print(len(num2_only))"
   ]
  },
  {
   "cell_type": "raw",
   "metadata": {},
   "source": [
    "making show ticket pricing python\n",
    "1 to 3 age(free)\n",
    "4 to 10 age (100)\n",
    "11 to 60 age (150)\n",
    "60 above(200)\n"
   ]
  },
  {
   "cell_type": "code",
   "execution_count": 192,
   "metadata": {},
   "outputs": [
    {
     "name": "stdout",
     "output_type": "stream",
     "text": [
      "Please enter your age for ticket rate:\n",
      "61\n",
      "your ticket cost is 200\n"
     ]
    }
   ],
   "source": [
    "user=int(input('Please enter your age for ticket rate:\\n'))\n",
    "if 1<user<=3:\n",
    "    print(' woww your ticket cost is free')\n",
    "elif 3<user<=10:\n",
    "    print(' your ticket cost is 100rs') \n",
    "elif 10<user<=60:\n",
    "    print('your ticket cost is 150')\n",
    "else:\n",
    "    print('your ticket cost is 200')    \n",
    "    "
   ]
  },
  {
   "cell_type": "raw",
   "metadata": {},
   "source": [
    "Ask user name and age,if user name start from a or A and age is above 10 than print 'you can watch DDLJ movie'.else print'sorry 'you can't watch DDLJ movie'"
   ]
  },
  {
   "cell_type": "code",
   "execution_count": 198,
   "metadata": {},
   "outputs": [
    {
     "name": "stdout",
     "output_type": "stream",
     "text": [
      "please enter your NameAmit\n",
      "please enter your age9\n",
      "you can't watch DDLJ movie\n"
     ]
    }
   ],
   "source": [
    "name=input('please enter your Name')\n",
    "age=input('please enter your age')\n",
    "age=int(age)\n",
    "if  age>10 and (name[0]=='a' or name[0]=='A'):\n",
    "    print('you can watch DDLJ movie')\n",
    "else:\n",
    "    print('you can\\'t watch DDLJ movie')\n"
   ]
  },
  {
   "cell_type": "code",
   "execution_count": 199,
   "metadata": {},
   "outputs": [
    {
     "name": "stdout",
     "output_type": "stream",
     "text": [
      "i is present in your name\n"
     ]
    }
   ],
   "source": [
    "# in keyword\n",
    "name='Ritesh'\n",
    "if 'i'in name:\n",
    "    print('i is present in your name')\n",
    "else:\n",
    "    print('not present')\n"
   ]
  },
  {
   "cell_type": "code",
   "execution_count": 203,
   "metadata": {},
   "outputs": [
    {
     "name": "stdout",
     "output_type": "stream",
     "text": [
      "please enter your name\n",
      "you did not enter your name\n"
     ]
    }
   ],
   "source": [
    "# check input empty or not\n",
    "a=input('please enter your name')\n",
    "if a:\n",
    "    print(f'your name is {a}')\n",
    "else:\n",
    "    print('you did not enter your name')"
   ]
  },
  {
   "cell_type": "code",
   "execution_count": 22,
   "metadata": {},
   "outputs": [
    {
     "name": "stdout",
     "output_type": "stream",
     "text": [
      "0\n",
      "1\n",
      "2\n",
      "3\n",
      "4\n",
      "5\n",
      "6\n",
      "7\n",
      "8\n",
      "9\n",
      "10\n"
     ]
    }
   ],
   "source": [
    "for i in range(11):\n",
    "    print(i)"
   ]
  },
  {
   "cell_type": "code",
   "execution_count": 15,
   "metadata": {},
   "outputs": [
    {
     "name": "stdout",
     "output_type": "stream",
     "text": [
      "enter some number that you want  to calculate33\n",
      "3\n",
      "6\n"
     ]
    }
   ],
   "source": [
    "num=input('enter some number that you want  to calculate')\n",
    "total=0\n",
    "i=0\n",
    "while i< len(num):\n",
    "    total+=int(num[i])\n",
    "    i+=1\n",
    "    print(total)\n",
    "    "
   ]
  },
  {
   "cell_type": "code",
   "execution_count": 19,
   "metadata": {},
   "outputs": [
    {
     "name": "stdout",
     "output_type": "stream",
     "text": [
      "enter some number that you want  to calculate12\n",
      "1\n",
      "3\n"
     ]
    }
   ],
   "source": [
    "# same program in for loop\n",
    "n=input('enter some number that you want  to calculate')\n",
    "n=str(n)\n",
    "total=0\n",
    "for i in range(0,len(n)):\n",
    "    total+=int(n[i])\n",
    "    print(total)\n",
    "    "
   ]
  },
  {
   "cell_type": "code",
   "execution_count": 1,
   "metadata": {},
   "outputs": [
    {
     "name": "stdout",
     "output_type": "stream",
     "text": [
      "how r u\n"
     ]
    }
   ],
   "source": [
    "print('how r u')"
   ]
  },
  {
   "cell_type": "code",
   "execution_count": null,
   "metadata": {},
   "outputs": [],
   "source": [
    "dafsdfdsfdsfdsf"
   ]
  },
  {
   "cell_type": "code",
   "execution_count": null,
   "metadata": {},
   "outputs": [],
   "source": [
    "asdasdasdfdasfdfdfdsfdfsadasdasdfasdf"
   ]
  },
  {
   "cell_type": "code",
   "execution_count": null,
   "metadata": {},
   "outputs": [],
   "source": [
    "sdadasfasfasfasfasfasfascxzczxcxzczx"
   ]
  },
  {
   "cell_type": "code",
   "execution_count": 6,
   "metadata": {},
   "outputs": [
    {
     "name": "stdout",
     "output_type": "stream",
     "text": [
      "[1, 2, 8, 9, 6, 7, 8, 5, 6, 7]\n"
     ]
    },
    {
     "data": {
      "text/plain": [
       "[1, 2, 8, 9, 6, 7, 8]"
      ]
     },
     "execution_count": 6,
     "metadata": {},
     "output_type": "execute_result"
    }
   ],
   "source": [
    "a=[1,2,34,4,5,6,7,8]\n",
    "b=[5,6,7]\n",
    "#slicing\n",
    "a.remove(34)\n",
    "a\n",
    "a[2:5]=[8,9,6]\n",
    "print(a+b)\n",
    "a"
   ]
  },
  {
   "cell_type": "code",
   "execution_count": 28,
   "metadata": {},
   "outputs": [
    {
     "name": "stdout",
     "output_type": "stream",
     "text": [
      "[0, 12, 24, 36, 48, 60, 72, 84, 96]\n",
      "9\n"
     ]
    }
   ],
   "source": [
    "limit=range(100)\n",
    "num=[]\n",
    "for i in limit:\n",
    "    if (i%12==0):\n",
    "        num.append(i)     \n",
    "print(num)\n",
    "print(len(num))\n",
    "           "
   ]
  },
  {
   "cell_type": "code",
   "execution_count": 30,
   "metadata": {},
   "outputs": [
    {
     "name": "stdout",
     "output_type": "stream",
     "text": [
      "enter 4 number1,2,3,4\n"
     ]
    },
    {
     "ename": "ValueError",
     "evalue": "not enough values to unpack (expected 4, got 1)",
     "output_type": "error",
     "traceback": [
      "\u001b[1;31m---------------------------------------------------------------------------\u001b[0m",
      "\u001b[1;31mValueError\u001b[0m                                Traceback (most recent call last)",
      "\u001b[1;32m<ipython-input-30-56e19a0842f5>\u001b[0m in \u001b[0;36m<module>\u001b[1;34m\u001b[0m\n\u001b[1;32m----> 1\u001b[1;33m \u001b[0ma\u001b[0m\u001b[1;33m,\u001b[0m\u001b[0mb\u001b[0m\u001b[1;33m,\u001b[0m\u001b[0mc\u001b[0m\u001b[1;33m,\u001b[0m\u001b[0md\u001b[0m\u001b[1;33m=\u001b[0m\u001b[0minput\u001b[0m\u001b[1;33m(\u001b[0m\u001b[1;34m'enter 4 number'\u001b[0m\u001b[1;33m)\u001b[0m\u001b[1;33m.\u001b[0m\u001b[0msplit\u001b[0m\u001b[1;33m(\u001b[0m\u001b[1;33m)\u001b[0m\u001b[1;33m\u001b[0m\u001b[1;33m\u001b[0m\u001b[0m\n\u001b[0m",
      "\u001b[1;31mValueError\u001b[0m: not enough values to unpack (expected 4, got 1)"
     ]
    }
   ],
   "source": [
    "a,b,c,d=input('enter 4 number').split()\n"
   ]
  },
  {
   "cell_type": "code",
   "execution_count": 1,
   "metadata": {},
   "outputs": [
    {
     "data": {
      "text/plain": [
       "'C:\\\\Users\\\\RITESH TIWARI'"
      ]
     },
     "execution_count": 1,
     "metadata": {},
     "output_type": "execute_result"
    }
   ],
   "source": [
    "pwd"
   ]
  },
  {
   "cell_type": "raw",
   "metadata": {},
   "source": [
    "2+3"
   ]
  },
  {
   "cell_type": "code",
   "execution_count": 1,
   "metadata": {},
   "outputs": [
    {
     "data": {
      "text/plain": [
       "5"
      ]
     },
     "execution_count": 1,
     "metadata": {},
     "output_type": "execute_result"
    }
   ],
   "source": [
    "2+3"
   ]
  },
  {
   "cell_type": "code",
   "execution_count": 2,
   "metadata": {},
   "outputs": [
    {
     "data": {
      "text/plain": [
       "7"
      ]
     },
     "execution_count": 2,
     "metadata": {},
     "output_type": "execute_result"
    }
   ],
   "source": [
    "2+5"
   ]
  },
  {
   "cell_type": "code",
   "execution_count": 3,
   "metadata": {},
   "outputs": [
    {
     "data": {
      "text/plain": [
       "8"
      ]
     },
     "execution_count": 3,
     "metadata": {},
     "output_type": "execute_result"
    }
   ],
   "source": [
    "3+5"
   ]
  },
  {
   "cell_type": "code",
   "execution_count": 4,
   "metadata": {},
   "outputs": [
    {
     "data": {
      "text/plain": [
       "4"
      ]
     },
     "execution_count": 4,
     "metadata": {},
     "output_type": "execute_result"
    }
   ],
   "source": [
    "2+2"
   ]
  },
  {
   "cell_type": "code",
   "execution_count": 5,
   "metadata": {},
   "outputs": [
    {
     "ename": "SyntaxError",
     "evalue": "can't assign to literal (<ipython-input-5-eb82872aa69b>, line 1)",
     "output_type": "error",
     "traceback": [
      "\u001b[1;36m  File \u001b[1;32m\"<ipython-input-5-eb82872aa69b>\"\u001b[1;36m, line \u001b[1;32m1\u001b[0m\n\u001b[1;33m    1=ram\u001b[0m\n\u001b[1;37m         ^\u001b[0m\n\u001b[1;31mSyntaxError\u001b[0m\u001b[1;31m:\u001b[0m can't assign to literal\n"
     ]
    }
   ],
   "source": [
    "1=ram\n",
    "1"
   ]
  },
  {
   "cell_type": "code",
   "execution_count": null,
   "metadata": {},
   "outputs": [],
   "source": []
  },
  {
   "cell_type": "code",
   "execution_count": 13,
   "metadata": {},
   "outputs": [
    {
     "ename": "SyntaxError",
     "evalue": "invalid syntax (<ipython-input-13-00c8163110dc>, line 13)",
     "output_type": "error",
     "traceback": [
      "\u001b[1;36m  File \u001b[1;32m\"<ipython-input-13-00c8163110dc>\"\u001b[1;36m, line \u001b[1;32m13\u001b[0m\n\u001b[1;33m    6ritesh=\"its a not posible\" #its a not posible combination\u001b[0m\n\u001b[1;37m          ^\u001b[0m\n\u001b[1;31mSyntaxError\u001b[0m\u001b[1;31m:\u001b[0m invalid syntax\n"
     ]
    }
   ],
   "source": [
    "\n",
    "ritesh_1=\"what is your name\" #its a posible combination \n",
    "\n",
    "ritesh1=2+3 #its a posible combination \n",
    "\n",
    "_Ritesh=\"how are you\" #its a posible combination \n",
    "\n",
    "Ritesh2=\"basic of python\"#its a posible combination \n",
    "Ritesh34=5+3 #its a posible combination \n",
    "\n",
    " \n",
    "6ritesh=\"its a not posible\" #its a not posible combination \n",
    "&ritesh=\"ram\"  #its a not posible combination \n",
    "%ritesh=\"syam\"  #its a not posible combination \n",
    "@ritesh=\"rohit\" #its a not posible combination \n",
    "&ritesh=\"sohan\" #its a not posible combination \n",
    "        "
   ]
  },
  {
   "cell_type": "code",
   "execution_count": 9,
   "metadata": {},
   "outputs": [
    {
     "ename": "NameError",
     "evalue": "name '_Ritesh' is not defined",
     "output_type": "error",
     "traceback": [
      "\u001b[1;31m---------------------------------------------------------------------------\u001b[0m",
      "\u001b[1;31mNameError\u001b[0m                                 Traceback (most recent call last)",
      "\u001b[1;32m<ipython-input-9-13d584cb29f0>\u001b[0m in \u001b[0;36m<module>\u001b[1;34m\u001b[0m\n\u001b[0;32m      1\u001b[0m \u001b[0m_Ritesh34\u001b[0m\u001b[1;33m=\u001b[0m\u001b[1;34m'ram'\u001b[0m\u001b[1;33m\u001b[0m\u001b[1;33m\u001b[0m\u001b[0m\n\u001b[1;32m----> 2\u001b[1;33m \u001b[0m_Ritesh\u001b[0m\u001b[1;33m\u001b[0m\u001b[1;33m\u001b[0m\u001b[0m\n\u001b[0m",
      "\u001b[1;31mNameError\u001b[0m: name '_Ritesh' is not defined"
     ]
    }
   ],
   "source": [
    "_Ritesh34='ram'\n",
    "_Ritesh"
   ]
  },
  {
   "cell_type": "code",
   "execution_count": null,
   "metadata": {},
   "outputs": [],
   "source": []
  },
  {
   "cell_type": "code",
   "execution_count": 15,
   "metadata": {},
   "outputs": [
    {
     "name": "stdout",
     "output_type": "stream",
     "text": [
      "5\n"
     ]
    }
   ],
   "source": [
    "s=2+3\n",
    "print(sum)\n",
    "division=4/2\n",
    "floor_division=6//2\n",
    "multi=4*20\n",
    "modu=(20%2)\n",
    "sum_multi=(2+3)*6"
   ]
  },
  {
   "cell_type": "code",
   "execution_count": 14,
   "metadata": {},
   "outputs": [
    {
     "data": {
      "text/plain": [
       "2.0"
      ]
     },
     "execution_count": 14,
     "metadata": {},
     "output_type": "execute_result"
    }
   ],
   "source": [
    "4/2"
   ]
  },
  {
   "cell_type": "code",
   "execution_count": 16,
   "metadata": {},
   "outputs": [
    {
     "name": "stdout",
     "output_type": "stream",
     "text": [
      "5\n",
      "2.0\n",
      "3\n",
      "8\n"
     ]
    }
   ],
   "source": [
    "a=2\n",
    "b=3\n",
    "print(a+b)\n",
    "ram=4\n",
    "syam=2\n",
    "print(ram/syam)\n",
    "s=6\n",
    "d=2\n",
    "print(s//d)\n",
    "rohit=4\n",
    "sohan=2\n",
    "print(rohit*sohan)"
   ]
  },
  {
   "cell_type": "code",
   "execution_count": 17,
   "metadata": {},
   "outputs": [
    {
     "data": {
      "text/plain": [
       "5"
      ]
     },
     "execution_count": 17,
     "metadata": {},
     "output_type": "execute_result"
    }
   ],
   "source": [
    "12%7"
   ]
  },
  {
   "cell_type": "code",
   "execution_count": null,
   "metadata": {},
   "outputs": [],
   "source": []
  },
  {
   "cell_type": "code",
   "execution_count": null,
   "metadata": {},
   "outputs": [],
   "source": []
  },
  {
   "cell_type": "code",
   "execution_count": null,
   "metadata": {},
   "outputs": [],
   "source": []
  },
  {
   "cell_type": "code",
   "execution_count": 10,
   "metadata": {},
   "outputs": [
    {
     "data": {
      "text/plain": [
       "'ram'"
      ]
     },
     "execution_count": 10,
     "metadata": {},
     "output_type": "execute_result"
    }
   ],
   "source": [
    "_rite=\"ram\"\n",
    "_rite"
   ]
  },
  {
   "cell_type": "code",
   "execution_count": 6,
   "metadata": {},
   "outputs": [
    {
     "ename": "NameError",
     "evalue": "name 'w' is not defined",
     "output_type": "error",
     "traceback": [
      "\u001b[1;31m---------------------------------------------------------------------------\u001b[0m",
      "\u001b[1;31mNameError\u001b[0m                                 Traceback (most recent call last)",
      "\u001b[1;32m<ipython-input-6-4e361b78093b>\u001b[0m in \u001b[0;36m<module>\u001b[1;34m\u001b[0m\n\u001b[1;32m----> 1\u001b[1;33m \u001b[0m_\u001b[0m\u001b[1;33m=\u001b[0m\u001b[0mw\u001b[0m\u001b[1;33m\u001b[0m\u001b[1;33m\u001b[0m\u001b[0m\n\u001b[0m\u001b[0;32m      2\u001b[0m \u001b[0m_\u001b[0m\u001b[1;33m\u001b[0m\u001b[1;33m\u001b[0m\u001b[0m\n",
      "\u001b[1;31mNameError\u001b[0m: name 'w' is not defined"
     ]
    }
   ],
   "source": [
    "_=w\n",
    "_\n"
   ]
  },
  {
   "cell_type": "code",
   "execution_count": null,
   "metadata": {},
   "outputs": [],
   "source": []
  },
  {
   "cell_type": "code",
   "execution_count": null,
   "metadata": {},
   "outputs": [],
   "source": [
    "a,b=2,3\n",
    "\n"
   ]
  },
  {
   "cell_type": "code",
   "execution_count": 19,
   "metadata": {},
   "outputs": [
    {
     "data": {
      "text/plain": [
       "False"
      ]
     },
     "execution_count": 19,
     "metadata": {},
     "output_type": "execute_result"
    }
   ],
   "source": [
    "a>b"
   ]
  },
  {
   "cell_type": "code",
   "execution_count": 22,
   "metadata": {},
   "outputs": [
    {
     "data": {
      "text/plain": [
       "True"
      ]
     },
     "execution_count": 22,
     "metadata": {},
     "output_type": "execute_result"
    }
   ],
   "source": [
    "a<b"
   ]
  },
  {
   "cell_type": "code",
   "execution_count": 23,
   "metadata": {},
   "outputs": [
    {
     "data": {
      "text/plain": [
       "False"
      ]
     },
     "execution_count": 23,
     "metadata": {},
     "output_type": "execute_result"
    }
   ],
   "source": [
    "a==b"
   ]
  },
  {
   "cell_type": "code",
   "execution_count": 25,
   "metadata": {},
   "outputs": [
    {
     "data": {
      "text/plain": [
       "True"
      ]
     },
     "execution_count": 25,
     "metadata": {},
     "output_type": "execute_result"
    }
   ],
   "source": [
    "a!=b"
   ]
  },
  {
   "cell_type": "code",
   "execution_count": 26,
   "metadata": {},
   "outputs": [
    {
     "ename": "NameError",
     "evalue": "name 'c' is not defined",
     "output_type": "error",
     "traceback": [
      "\u001b[1;31m---------------------------------------------------------------------------\u001b[0m",
      "\u001b[1;31mNameError\u001b[0m                                 Traceback (most recent call last)",
      "\u001b[1;32m<ipython-input-26-9f4a33f5c792>\u001b[0m in \u001b[0;36m<module>\u001b[1;34m\u001b[0m\n\u001b[1;32m----> 1\u001b[1;33m \u001b[0ma\u001b[0m\u001b[1;33m<=\u001b[0m\u001b[0mc\u001b[0m\u001b[1;33m\u001b[0m\u001b[1;33m\u001b[0m\u001b[0m\n\u001b[0m",
      "\u001b[1;31mNameError\u001b[0m: name 'c' is not defined"
     ]
    }
   ],
   "source": [
    "a<=c"
   ]
  },
  {
   "cell_type": "code",
   "execution_count": 35,
   "metadata": {},
   "outputs": [
    {
     "data": {
      "text/plain": [
       "'rohitkumar'"
      ]
     },
     "execution_count": 35,
     "metadata": {},
     "output_type": "execute_result"
    }
   ],
   "source": [
    "a='rohitkumar'\n",
    "a\n"
   ]
  },
  {
   "cell_type": "code",
   "execution_count": 36,
   "metadata": {},
   "outputs": [
    {
     "data": {
      "text/plain": [
       "'mynameritesh'"
      ]
     },
     "execution_count": 36,
     "metadata": {},
     "output_type": "execute_result"
    }
   ],
   "source": [
    "q='mynameritesh'\n",
    "\n",
    "q"
   ]
  },
  {
   "cell_type": "code",
   "execution_count": 41,
   "metadata": {},
   "outputs": [
    {
     "name": "stdout",
     "output_type": "stream",
     "text": [
      "True\n",
      "False\n",
      "True\n"
     ]
    }
   ],
   "source": [
    "print(a>q)\n",
    "print(q>a)\n",
    "print(a>=q)\n"
   ]
  },
  {
   "cell_type": "code",
   "execution_count": 38,
   "metadata": {},
   "outputs": [
    {
     "data": {
      "text/plain": [
       "False"
      ]
     },
     "execution_count": 38,
     "metadata": {},
     "output_type": "execute_result"
    }
   ],
   "source": [
    "q>a"
   ]
  },
  {
   "cell_type": "code",
   "execution_count": null,
   "metadata": {},
   "outputs": [],
   "source": []
  },
  {
   "cell_type": "code",
   "execution_count": null,
   "metadata": {},
   "outputs": [],
   "source": []
  },
  {
   "cell_type": "code",
   "execution_count": null,
   "metadata": {},
   "outputs": [],
   "source": []
  },
  {
   "cell_type": "code",
   "execution_count": null,
   "metadata": {},
   "outputs": [],
   "source": []
  },
  {
   "cell_type": "code",
   "execution_count": null,
   "metadata": {},
   "outputs": [],
   "source": []
  },
  {
   "cell_type": "code",
   "execution_count": 4,
   "metadata": {},
   "outputs": [
    {
     "ename": "NameError",
     "evalue": "name 'i' is not defined",
     "output_type": "error",
     "traceback": [
      "\u001b[1;31m---------------------------------------------------------------------------\u001b[0m",
      "\u001b[1;31mNameError\u001b[0m                                 Traceback (most recent call last)",
      "\u001b[1;32m<ipython-input-4-b72781ef5eba>\u001b[0m in \u001b[0;36m<module>\u001b[1;34m\u001b[0m\n\u001b[0;32m      1\u001b[0m \u001b[1;33m\u001b[0m\u001b[0m\n\u001b[0;32m      2\u001b[0m \u001b[0mb\u001b[0m\u001b[1;33m=\u001b[0m\u001b[1;36m0\u001b[0m\u001b[1;33m\u001b[0m\u001b[1;33m\u001b[0m\u001b[0m\n\u001b[1;32m----> 3\u001b[1;33m \u001b[1;32mwhile\u001b[0m \u001b[0mi\u001b[0m \u001b[1;32min\u001b[0m \u001b[0mrange\u001b[0m\u001b[1;33m(\u001b[0m\u001b[1;36m1\u001b[0m\u001b[1;33m,\u001b[0m\u001b[1;36m10\u001b[0m\u001b[1;33m)\u001b[0m\u001b[1;33m:\u001b[0m\u001b[1;33m\u001b[0m\u001b[1;33m\u001b[0m\u001b[0m\n\u001b[0m\u001b[0;32m      4\u001b[0m     \u001b[0mb\u001b[0m\u001b[1;33m+=\u001b[0m\u001b[0mint\u001b[0m\u001b[1;33m(\u001b[0m\u001b[0mi\u001b[0m\u001b[1;33m)\u001b[0m\u001b[1;33m\u001b[0m\u001b[1;33m\u001b[0m\u001b[0m\n\u001b[0;32m      5\u001b[0m     \u001b[0ma\u001b[0m\u001b[1;33m+=\u001b[0m\u001b[1;36m1\u001b[0m\u001b[1;33m\u001b[0m\u001b[1;33m\u001b[0m\u001b[0m\n",
      "\u001b[1;31mNameError\u001b[0m: name 'i' is not defined"
     ]
    }
   ],
   "source": [
    "\n",
    "b=0\n",
    "while i in range(1,10):\n",
    "    b+=int(i)\n",
    "    a+=1\n",
    "    print(b)\n"
   ]
  },
  {
   "cell_type": "code",
   "execution_count": 8,
   "metadata": {},
   "outputs": [
    {
     "name": "stdout",
     "output_type": "stream",
     "text": [
      "True\n",
      "False\n",
      "False\n",
      "True\n"
     ]
    }
   ],
   "source": [
    "a=\"ritesh\"\n",
    "b='kumar tiwari'\n",
    "print(a>b)\n",
    "print(b>a)\n",
    "print(a==b)\n",
    "print(a!=b)\n"
   ]
  },
  {
   "cell_type": "code",
   "execution_count": 17,
   "metadata": {
    "collapsed": true
   },
   "outputs": [
    {
     "name": "stdout",
     "output_type": "stream",
     "text": [
      "6\n",
      "-4\n",
      "3\n",
      "3.0\n",
      "24\n",
      "0\n",
      "32\n",
      "14\n"
     ]
    }
   ],
   "source": [
    "a=2\n",
    "b=4\n",
    "c=6\n",
    "print(a+b)\n",
    "print(a-c)\n",
    "print(c//a)\n",
    "print(c/a)\n",
    "print(c*b)\n",
    "print(c%a)\n",
    "print((a+c)*b)\n",
    "print((a*b)+c)"
   ]
  },
  {
   "cell_type": "code",
   "execution_count": 42,
   "metadata": {},
   "outputs": [
    {
     "name": "stdout",
     "output_type": "stream",
     "text": [
      "rohitrohitrohitrohitrohitrohitrohitrohitrohitrohitrohitrohitrohitrohitrohitrohitrohitrohitrohitrohitrohitrohitrohitrohitrohitrohitrohitrohitrohitrohitrohitrohitrohitrohitrohitrohitrohitrohitrohitrohitrohitrohitrohitrohitrohitrohitrohitrohitrohitrohitrohitrohitrohitrohitrohitrohitrohitrohitrohitrohitrohitrohitrohitrohitrohitrohitrohitrohitrohitrohitrohitrohitrohitrohitrohitrohitrohitrohitrohitrohitrohitrohitrohitrohitrohitrohitrohitrohitrohitrohitrohitrohitrohitrohitrohitrohitrohitrohitrohitrohitrohitrohitrohitrohitrohitrohitrohitrohitrohitrohitrohitrohitrohitrohitrohitrohitrohitrohitrohitrohitrohitrohitrohit\n"
     ]
    }
   ],
   "source": [
    "a=123\n",
    "b='rohit'\n",
    "print(a*b)\n"
   ]
  },
  {
   "cell_type": "code",
   "execution_count": 44,
   "metadata": {},
   "outputs": [
    {
     "name": "stdout",
     "output_type": "stream",
     "text": [
      "108\n",
      "90\n",
      "891\n",
      "11.0\n",
      "11\n",
      "0\n",
      "913517247483640899\n"
     ]
    }
   ],
   "source": [
    "print(99+9)\n",
    "print(99-9)\n",
    "print(99*9)\n",
    "print(99/9)\n",
    "print(99//9)\n",
    "print(99%9)\n",
    "print(99**9)\n",
    "\n"
   ]
  },
  {
   "cell_type": "code",
   "execution_count": 45,
   "metadata": {},
   "outputs": [
    {
     "name": "stdout",
     "output_type": "stream",
     "text": [
      "6.5\n",
      "-2.5\n",
      "6.5\n",
      "2.5\n",
      "15625\n",
      "64\n"
     ]
    }
   ],
   "source": [
    "\n",
    "a=2\n",
    "b=4.5\n",
    "c=5\n",
    "d=6\n",
    "print(a+b)# addition of int and float\n",
    "print(a-b)# substraction of int and float\n",
    "print(b+a)# addition of float and int\n",
    "print(b-a)# substraction of float and int\n",
    "print(c**d)#exponent of two ints\n",
    "print(a**d)#exponent of int and float\n",
    "\n"
   ]
  },
  {
   "cell_type": "code",
   "execution_count": 48,
   "metadata": {},
   "outputs": [
    {
     "name": "stdout",
     "output_type": "stream",
     "text": [
      "sum of 2 & 4.5 ::6.5\n",
      "substraction of 2 & 4.5 ::-2.5\n",
      "sum of 4.5 & 2 ::6.5\n",
      "substraction of 4.5 & 2 ::2.5\n",
      "exponent of 5 & 6 ::15625\n",
      "exponent of 4.5 & 5 ::1845.28125\n",
      "division of 2 & 6 ::0.3333333333333333\n",
      "modulo of 2 & 5 ::2\n",
      "floor division of 2 & 6 ::0\n",
      "multiplication of 2 & 4.5 ::9.0\n",
      "multiplication of 5 & 6 ::30\n"
     ]
    }
   ],
   "source": [
    "a=2\n",
    "b=4.5\n",
    "c=5\n",
    "d=6\n",
    "print('sum of {} & {} ::{}'.format(a,b,a+b))\n",
    "print('substraction of {} & {} ::{}'.format(a,b,a-b))\n",
    "print('sum of {} & {} ::{}'.format(b,a,b+a))\n",
    "print('substraction of {} & {} ::{}'.format(b,a,b-a))\n",
    "print('exponent of {} & {} ::{}'.format(c,d,c**d))\n",
    "print('exponent of {} & {} ::{}'.format(b,c,b**c))\n",
    "print('division of {} & {} ::{}'.format(a,d,a/d)) \n",
    "print('modulo of {} & {} ::{}'.format(a,c,a%c)) \n",
    "print('floor division of {} & {} ::{}'.format(a,d,a//d))\n",
    "print('multiplication of {} & {} ::{}'.format(a,b,a*b))\n",
    "print('multiplication of {} & {} ::{}'.format(c,d,c*d))      \n",
    "      \n",
    "      \n"
   ]
  },
  {
   "cell_type": "code",
   "execution_count": 51,
   "metadata": {},
   "outputs": [
    {
     "name": "stdout",
     "output_type": "stream",
     "text": [
      "if we add 9 to 11 times its output is 99 means this two value division is 11.0 \n"
     ]
    }
   ],
   "source": [
    "a=9\n",
    "b=99\n",
    "print('if we add {} to 11 times its output is {} means this two value division is {} '.format(a,b,b/a))\n"
   ]
  },
  {
   "cell_type": "code",
   "execution_count": 58,
   "metadata": {},
   "outputs": [
    {
     "name": "stdout",
     "output_type": "stream",
     "text": [
      "2  is greater then 3 ?:: False\n",
      "3  is greater then 2 ?:: True\n",
      "-5  is less then 2.4 ?:: True\n",
      "2.4  is less then -5 ?:: False\n",
      "2  is equals to 3 ?:: False\n",
      "2  is equals to 2 ?:: True\n",
      "2  is not equals to 2 ?:: False\n",
      "2  is not equals to 2 ?:: False\n",
      "2.4  is greater than equals to 10 ?:: False\n",
      "10  is greater than equals to 2.4 ?:: True\n",
      "2.4  is less than equals to 10 ?:: True\n",
      "10  is less than equals to 2.4 ?:: False\n"
     ]
    }
   ],
   "source": [
    "a,b,c,d,e=2,3,-5,2.4,10\n",
    "#found greater number\n",
    "print('{}  is greater then {} ?:: {}'.format(a,b,(a>b)))\n",
    "      \n",
    "#found greater number      \n",
    "print('{}  is greater then {} ?:: {}'.format(b,a,(b>a)))\n",
    "      \n",
    "#found less number      \n",
    "print('{}  is less then {} ?:: {}'.format(c,d,(c<d)))\n",
    "      \n",
    "#found less number      \n",
    "print('{}  is less then {} ?:: {}'.format(d,c,(d<c)))\n",
    "      \n",
    " #found equals number     \n",
    "print('{}  is equals to {} ?:: {}'.format(a,b,(a==b)))\n",
    "      \n",
    "#found equals number       \n",
    "print('{}  is equals to {} ?:: {}'.format(a,a,(a==a))) \n",
    "      \n",
    " #found not equals number      \n",
    "print('{}  is not equals to {} ?:: {}'.format(a,a,(a!=a)))\n",
    "      \n",
    "#found equals number       \n",
    "print('{}  is not equals to {} ?:: {}'.format(a,a,(a!=a)))\n",
    "      \n",
    "#found greater than equals to number       \n",
    "print('{}  is greater than equals to {} ?:: {}'.format(d,e,(d>=e)))\n",
    "      \n",
    "#found greater than equals to number       \n",
    "print('{}  is greater than equals to {} ?:: {}'.format(e,d,(e>=d)))\n",
    "      \n",
    "#found less than equals to number       \n",
    "print('{}  is less than equals to {} ?:: {}'.format(d,e,(d<=e)))\n",
    "      \n",
    "#found less than equals to number       \n",
    "print('{}  is less than equals to {} ?:: {}'.format(e,d,(e<=d)))  \n",
    "      \n",
    "      "
   ]
  },
  {
   "cell_type": "code",
   "execution_count": 67,
   "metadata": {},
   "outputs": [
    {
     "ename": "NameError",
     "evalue": "name 'list_1' is not defined",
     "output_type": "error",
     "traceback": [
      "\u001b[1;31m---------------------------------------------------------------------------\u001b[0m",
      "\u001b[1;31mNameError\u001b[0m                                 Traceback (most recent call last)",
      "\u001b[1;32m<ipython-input-67-5aaca474fb15>\u001b[0m in \u001b[0;36m<module>\u001b[1;34m\u001b[0m\n\u001b[0;32m      1\u001b[0m \u001b[0mlis_1\u001b[0m \u001b[1;33m=\u001b[0m \u001b[1;33m[\u001b[0m\u001b[1;36m1\u001b[0m\u001b[1;33m,\u001b[0m\u001b[1;36m2\u001b[0m\u001b[1;33m,\u001b[0m\u001b[1;36m3\u001b[0m\u001b[1;33m,\u001b[0m\u001b[1;36m4\u001b[0m\u001b[1;33m,\u001b[0m\u001b[1;36m5\u001b[0m\u001b[1;33m,\u001b[0m\u001b[1;36m6\u001b[0m\u001b[1;33m,\u001b[0m\u001b[1;36m7\u001b[0m\u001b[1;33m,\u001b[0m\u001b[1;36m1\u001b[0m\u001b[1;33m,\u001b[0m\u001b[1;36m2\u001b[0m\u001b[1;33m,\u001b[0m\u001b[1;36m3\u001b[0m\u001b[1;33m,\u001b[0m\u001b[1;36m4\u001b[0m\u001b[1;33m,\u001b[0m\u001b[1;36m5\u001b[0m\u001b[1;33m,\u001b[0m\u001b[1;36m12.4\u001b[0m\u001b[1;33m,\u001b[0m \u001b[1;32mTrue\u001b[0m\u001b[1;33m,\u001b[0m \u001b[1;32mFalse\u001b[0m\u001b[1;33m,\u001b[0m \u001b[1;34m\"String\"\u001b[0m\u001b[1;33m,\u001b[0m \u001b[1;34m'Python'\u001b[0m\u001b[1;33m,\u001b[0m\u001b[1;33m[\u001b[0m\u001b[1;36m11\u001b[0m\u001b[1;33m,\u001b[0m\u001b[1;36m22\u001b[0m\u001b[1;33m,\u001b[0m\u001b[1;36m33\u001b[0m\u001b[1;33m]\u001b[0m\u001b[1;33m,\u001b[0m\u001b[1;33m(\u001b[0m\u001b[1;36m1\u001b[0m\u001b[1;33m,\u001b[0m\u001b[1;36m11\u001b[0m\u001b[1;33m,\u001b[0m\u001b[1;36m12\u001b[0m\u001b[1;33m,\u001b[0m\u001b[1;36m13\u001b[0m\u001b[1;33m)\u001b[0m\u001b[1;33m,\u001b[0m\u001b[1;33m{\u001b[0m\u001b[1;36m1\u001b[0m\u001b[1;33m:\u001b[0m\u001b[1;34m'one'\u001b[0m\u001b[1;33m,\u001b[0m\u001b[1;36m2\u001b[0m\u001b[1;33m:\u001b[0m\u001b[1;34m'two'\u001b[0m\u001b[1;33m}\u001b[0m\u001b[1;33m]\u001b[0m\u001b[1;33m\u001b[0m\u001b[1;33m\u001b[0m\u001b[0m\n\u001b[1;32m----> 2\u001b[1;33m \u001b[0mprint\u001b[0m\u001b[1;33m(\u001b[0m\u001b[0mlist_1\u001b[0m\u001b[1;33m)\u001b[0m\u001b[1;33m\u001b[0m\u001b[1;33m\u001b[0m\u001b[0m\n\u001b[0m",
      "\u001b[1;31mNameError\u001b[0m: name 'list_1' is not defined"
     ]
    }
   ],
   "source": [
    "lis_1 = [1,2,3,4,5,6,7,1,2,3,4,5,12.4, True, False, \"String\", 'Python',[11,22,33],(1,11,12,13),{1:'one',2:'two'}]\n",
    "print(list_1)\n"
   ]
  },
  {
   "cell_type": "code",
   "execution_count": 60,
   "metadata": {},
   "outputs": [
    {
     "ename": "NameError",
     "evalue": "name 'list_1' is not defined",
     "output_type": "error",
     "traceback": [
      "\u001b[1;31m---------------------------------------------------------------------------\u001b[0m",
      "\u001b[1;31mNameError\u001b[0m                                 Traceback (most recent call last)",
      "\u001b[1;32m<ipython-input-60-b529e2d0ade4>\u001b[0m in \u001b[0;36m<module>\u001b[1;34m\u001b[0m\n\u001b[1;32m----> 1\u001b[1;33m \u001b[0mprint\u001b[0m\u001b[1;33m(\u001b[0m\u001b[0mlist_1\u001b[0m\u001b[1;33m[\u001b[0m\u001b[1;36m17\u001b[0m\u001b[1;33m]\u001b[0m\u001b[1;33m[\u001b[0m\u001b[1;36m1\u001b[0m\u001b[1;33m]\u001b[0m\u001b[1;33m)\u001b[0m\u001b[1;33m\u001b[0m\u001b[1;33m\u001b[0m\u001b[0m\n\u001b[0m",
      "\u001b[1;31mNameError\u001b[0m: name 'list_1' is not defined"
     ]
    }
   ],
   "source": [
    "print(list_1[17][1])"
   ]
  },
  {
   "cell_type": "code",
   "execution_count": 80,
   "metadata": {},
   "outputs": [
    {
     "name": "stdout",
     "output_type": "stream",
     "text": [
      "22\n",
      "12\n",
      "two\n"
     ]
    }
   ],
   "source": [
    "list2=[1,2,3,4,5,6,7,1,2,3,4,5,12.4, True, False, \"String\", 'Python',[11,22,33],(1,11,12,13),{1:'one',2:'two'}]\n",
    "print(list2[17][1])\n",
    "print(list2[18][2])\n",
    "print(list2[19][2])"
   ]
  },
  {
   "cell_type": "code",
   "execution_count": 122,
   "metadata": {},
   "outputs": [
    {
     "name": "stdout",
     "output_type": "stream",
     "text": [
      "[1, 2, 3, 4, 5, 6, 7]\n",
      "[True, False, 'String', 'Python', [11, 22, 33], (1, 11, 12, 13), {1: 'one', 2: 'two'}]\n",
      "[1, 2, 3, 4, 5, 6, 7, 1, 2, 3, 4, 5, 12.4]\n",
      "[1, 2, 3, 4, 5, 6, 7, 1, 2, 3, 4, 5, 12.4, True, False, 'String', 'Python', [11, 22, 33], (1, 11, 12, 13), {1: 'one', 2: 'two'}]\n",
      "[1, 2, 3, 4, 5, 6, 7, 1, 2, 3, 4, 5, 12.4, True, False, 'String', 'Python', [11, 22, 33], (1, 11, 12, 13), {1: 'one', 2: 'two'}]\n",
      "[True, False]\n",
      "Python\n",
      "[1, 2, 3, 4, 5, 6, 7, 1, 2, 3, 4, 5, 12.4, True, False, 'String', 'Python', [11, 22, 33], (1, 11, 12, 13), {1: 'one', 2: 'two'}]\n",
      "[1, 3, 5, 7, 2, 4, 12.4, False, 'Python', (1, 11, 12, 13)]\n",
      "[1, 4, 7, 3, 12.4]\n"
     ]
    }
   ],
   "source": [
    "list2=[1,2,3,4,5,6,7,1,2,3,4,5,12.4, True, False, \"String\", 'Python',[11,22,33],(1,11,12,13),{1:'one',2:'two'}]\n",
    "print(list2[0:7])\n",
    "print(list2[13:])\n",
    "print(list2[0:13])\n",
    "print(list2[0:])\n",
    "print(list2[:20])\n",
    "print(list2[13:15])\n",
    "print(list2[16])\n",
    "print(list2[0:20:1])\n",
    "print(list2[0:20:2])\n",
    "print(list2[0:13:3])"
   ]
  },
  {
   "cell_type": "code",
   "execution_count": 57,
   "metadata": {},
   "outputs": [
    {
     "name": "stdout",
     "output_type": "stream",
     "text": [
      "2\n",
      "22\n",
      "two\n",
      "8\n",
      "(1, 2, 3, 4, 5, 6, 7, 8, 9, 11.3, 12.5, True, False, (11, 22, 33), [9, 9, 9, 19], {1: 'one', 2: 'two'})\n",
      "(1, 2, 3, 4, 5, 6, 7, 8, 9, 11.3, 12.5, True, False, (11, 22, 33), [9, 9, 9, 19], {1: 'one', 2: 'two'})\n",
      "(1, 2, 3, 4, 5, 6, 7, 8, 9, 11.3, 12.5, True, False, (11, 22, 33), [9, 9, 9, 19])\n",
      "(1, 2, 3, 4, 5, 6)\n",
      "(1, 3, 5, 7, 9, 12.5, False, [9, 9, 9, 19])\n",
      "(1, 4, 7, 11.3, False, {1: 'one', 2: 'two'})\n"
     ]
    }
   ],
   "source": [
    "# Creating Tuple\n",
    "\n",
    "tup_1 = (1,2,3,4,5,6,7,8,9,11.3,12.5,True,False, (11,22,33,),[9,9,9,19],{1:'one',2:'two'})\n",
    "print(tup_1[1])\n",
    "print(tup_1[13][1])\n",
    "print(tup_1[15][2])\n",
    "print(tup_1[7])\n",
    "print(tup_1[0:])\n",
    "print(tup_1[:16])\n",
    "print(tup_1[0:15])\n",
    "print(tup_1[0:6])\n",
    "print(tup_1[0:19:2])\n",
    "print(tup_1[0:19:3])\n",
    "\n"
   ]
  },
  {
   "cell_type": "code",
   "execution_count": 81,
   "metadata": {},
   "outputs": [
    {
     "name": "stdout",
     "output_type": "stream",
     "text": [
      "{1, 2, 3, 4, 5, 6, 7, 8, 9, 'naven', (11, 22, 33), 'ritesh', 'mohan'}\n",
      "{1, 2, 3, 4, 5, 6, 7, 8, 9, (11, 22, 33), 'ritesh', 'mohan'}\n",
      "[1, 2, 3, 4, 5, 6, 7, 8, 9, (11, 22, 33), 'ritesh', 'mohan']\n"
     ]
    },
    {
     "ename": "AttributeError",
     "evalue": "'set' object has no attribute 'index'",
     "output_type": "error",
     "traceback": [
      "\u001b[1;31m---------------------------------------------------------------------------\u001b[0m",
      "\u001b[1;31mAttributeError\u001b[0m                            Traceback (most recent call last)",
      "\u001b[1;32m<ipython-input-81-1a4c864ff4fa>\u001b[0m in \u001b[0;36m<module>\u001b[1;34m\u001b[0m\n\u001b[0;32m     13\u001b[0m \u001b[0mset2\u001b[0m\u001b[1;33m=\u001b[0m\u001b[0mlist\u001b[0m\u001b[1;33m(\u001b[0m\u001b[0mset_1\u001b[0m\u001b[1;33m)\u001b[0m\u001b[1;33m\u001b[0m\u001b[1;33m\u001b[0m\u001b[0m\n\u001b[0;32m     14\u001b[0m \u001b[0mprint\u001b[0m\u001b[1;33m(\u001b[0m\u001b[0mset2\u001b[0m\u001b[1;33m)\u001b[0m\u001b[1;33m\u001b[0m\u001b[1;33m\u001b[0m\u001b[0m\n\u001b[1;32m---> 15\u001b[1;33m \u001b[0mprint\u001b[0m\u001b[1;33m(\u001b[0m\u001b[0mset_1\u001b[0m\u001b[1;33m.\u001b[0m\u001b[0mindex\u001b[0m\u001b[1;33m(\u001b[0m\u001b[1;34m'm'\u001b[0m\u001b[1;33m)\u001b[0m\u001b[1;33m)\u001b[0m\u001b[1;33m\u001b[0m\u001b[1;33m\u001b[0m\u001b[0m\n\u001b[0m",
      "\u001b[1;31mAttributeError\u001b[0m: 'set' object has no attribute 'index'"
     ]
    }
   ],
   "source": [
    "# Creating Set\n",
    "# note:\n",
    "# 1. We are not able to inclue list inside to set\n",
    "# 2. We can not include set inside set \n",
    "# 3. We can not include dictionary inside set \n",
    "\n",
    "set_1 = {1,1,1,2,2,3,3,4,5,6,7,7,7,7,8,9,'mohan','naven',(11,22,33)}\n",
    "set_1.add('ritesh')\n",
    "print(set_1)\n",
    "set_1.remove('naven')\n",
    "print(set_1)\n",
    "#in set indexing not posible\n",
    "set2=list(set_1)\n",
    "print(set2)\n",
    "print(set_1.index('m'))"
   ]
  },
  {
   "cell_type": "code",
   "execution_count": 80,
   "metadata": {},
   "outputs": [
    {
     "name": "stdout",
     "output_type": "stream",
     "text": [
      "t\n",
      "this\n",
      "this is \n",
      "this is python\n",
      " python\n",
      "ti spto\n",
      "this is python\n",
      "this is python\n",
      "8\n",
      "25\n"
     ]
    }
   ],
   "source": [
    "\n",
    "# Creating string\n",
    "\n",
    "str_1 = \"this is python\"\n",
    "\n",
    "str_2 = 'This is data sceince and machine learning'\n",
    "print(str_1[0])\n",
    "print(str_1[0:4])\n",
    "print(str_1[0:8])\n",
    "print(str_1[0:14])\n",
    "print(str_1[7:14])\n",
    "print(str_1[0:14:2])\n",
    "print(str_1[0:])\n",
    "print(str_1[:14])\n",
    "print(str_1.index('p'))\n",
    "print(str_2.index('machine'))\n",
    "\n"
   ]
  },
  {
   "cell_type": "code",
   "execution_count": 108,
   "metadata": {},
   "outputs": [
    {
     "name": "stdout",
     "output_type": "stream",
     "text": [
      "one\n",
      "[1, 11, 21, 31, 41, 51]\n",
      "{1: 'Naveen', 2: 'ritesh', 3: 'Anil'}\n",
      "(22, 33, 44, 55, 66)\n",
      "dict_keys([1, 'two', 'lis_2', 'tup_2', 'dic_2'])\n",
      "dict_values(['one', 2, [1, 11, 21, 31, 41, 51], (22, 33, 44, 55, 66), {1: 'Naveen', 2: 'ritesh', 3: 'Anil'}])\n",
      "dict_items([(1, 'one'), ('two', 2), ('lis_2', [1, 11, 21, 31, 41, 51]), ('tup_2', (22, 33, 44, 55, 66)), ('dic_2', {1: 'Naveen', 2: 'ritesh', 3: 'Anil'})])\n",
      "1\n",
      "two\n",
      "lis_2\n",
      "tup_2\n",
      "dic_2\n",
      "one\n",
      "2\n",
      "[1, 11, 21, 31, 41, 51]\n",
      "(22, 33, 44, 55, 66)\n",
      "{1: 'Naveen', 2: 'ritesh', 3: 'Anil'}\n"
     ]
    }
   ],
   "source": [
    "\n",
    "\n",
    "# Creating Dictionay {key : Value}  -> if it is a string it shoudl be with quotes\n",
    "\n",
    "dict_1 = {1 : 'one', 'two' : 2, 'lis_2': [1,11,21,31,41,51], 'tup_2': (22,33,44,55,66),'dic_2' :{1: 'Naveen',2:'ritesh', 3:'Anil'}}\n",
    "print(dict_1[1])\n",
    "print(dict_1['lis_2'])\n",
    "print(dict_1['dic_2'])\n",
    "print(dict_1['tup_2'])\n",
    "print(dict_1.keys())\n",
    "print(dict_1.values())\n",
    "dict2=dict_1.items()\n",
    "print(dict2)\n",
    "for i in dict2:\n",
    "    print(i[0])\n",
    "for i in dict2:\n",
    "    print(i[1])\n"
   ]
  },
  {
   "cell_type": "code",
   "execution_count": 24,
   "metadata": {},
   "outputs": [
    {
     "name": "stdout",
     "output_type": "stream",
     "text": [
      "[2, 5, 1, 4, True, 'Python', {1: 'one', 2: 'two'}]\n",
      "[2, 5, 1, 4, True, 'Python', {1: 'one', 2: 'two'}]\n",
      "[2, 5, 1, 4]\n",
      "16\n",
      "0\n",
      "12\n",
      "6\n",
      "13\n",
      "18\n"
     ]
    }
   ],
   "source": [
    "#indexing in list\n",
    "lis_4 = [2,3,4,5,6,7,1,2,3,4,5,12.4, True, False, \"String\", 'Python',[11,22,33,22],(1,11,12,13),{1:'one',2:'two'} ]       \n",
    "lis_4.index(True)\n",
    "print(lis_4[::3])\n",
    "print(lis_4[0::3])\n",
    "print(lis_4[0:10:3])\n",
    "print(lis_4.index([11,22,33,22]))\n",
    "print(lis_4[17].count(22))\n",
    "print(lis_4[17][2])\n",
    "print(lis_4.index(True))\n",
    "print(lis_4.index(False))\n",
    "print(lis_4.index({1:'one',2:'two'}))\n",
    "\n",
    "    \n"
   ]
  },
  {
   "cell_type": "code",
   "execution_count": 23,
   "metadata": {},
   "outputs": [
    {
     "data": {
      "text/plain": [
       "[4, 5, 6]"
      ]
     },
     "execution_count": 23,
     "metadata": {},
     "output_type": "execute_result"
    }
   ],
   "source": [
    "l=[1,2,3,4,5,6,7,8,9]\n",
    "len(l)\n",
    "l[-6:-3]"
   ]
  },
  {
   "cell_type": "code",
   "execution_count": 40,
   "metadata": {},
   "outputs": [
    {
     "data": {
      "text/plain": [
       "{1, 2, 3, 4, 5}"
      ]
     },
     "execution_count": 40,
     "metadata": {},
     "output_type": "execute_result"
    }
   ],
   "source": [
    "s={1,1,1,2,2,3,4,5}\n",
    "s"
   ]
  },
  {
   "cell_type": "code",
   "execution_count": 55,
   "metadata": {},
   "outputs": [
    {
     "name": "stdout",
     "output_type": "stream",
     "text": [
      "2\n",
      "[1, 2, 3, 4, 5]\n",
      "[1, 3, 5, 'ram', 8]\n",
      "[8, 9]\n",
      "[1, 3, 4, 5, 'Ritesh', 'ram', 7, 8, 9, (1, 1, 2, 3, 4, 5), {1, 2, 8, 9, 'harish'}, {'name': 'Ritesh', 'age': 26, 'fav_song': 'DHKMN'}]\n",
      "[1, 3, 4, 'Ritesh', 'ram', 7, 8, 9, (1, 1, 2, 3, 4, 5), {1, 2, 8, 9, 'harish'}, {'name': 'Ritesh', 'age': 26, 'fav_song': 'DHKMN'}]\n",
      "3\n",
      "2\n",
      "[1, 3, 4, 'Ritesh', 'ram', 7, 8, 9, (1, 1, 2, 3, 4, 5), {1, 2, 8, 9, 'harish'}, {'name': 'Ritesh', 'age': 26, 'fav_song': 'DHKMN'}]\n",
      "[1, 3, 4, 'ram', 7, 8, 9, (1, 1, 2, 3, 4, 5), {1, 2, 8, 9, 'harish'}, {'name': 'Ritesh', 'age': 26, 'fav_song': 'DHKMN'}]\n"
     ]
    }
   ],
   "source": [
    "#all list function\n",
    "lis_3=[1,2,3,4,5,'Ritesh','ram',7,8,9,(1,1,2,3,4,5),{1,2,8,9,'harish'},{'name':'Ritesh','age':26,'fav_song':'DHKMN'}]\n",
    "\n",
    "#Accessing elements from a list with index (Positive/Negetive)\n",
    "print(lis_3[0:5])\n",
    "print(lis_3[0:10:2])\n",
    "print(lis_3[-5:-3])\n",
    "lis_3.remove(2)\n",
    "print(lis_3)\n",
    "lis_3.remove(5)\n",
    "print(lis_3)\n",
    "print(lis_3[8][3])\n",
    "print(lis_3[8].count(1))\n",
    "\n",
    "# How to delete/remove an element from list\n",
    "print(lis_3)\n",
    "del lis_3[3]\n",
    "print(lis_3)\n",
    "\n",
    "\n"
   ]
  },
  {
   "cell_type": "code",
   "execution_count": 50,
   "metadata": {},
   "outputs": [
    {
     "name": "stdout",
     "output_type": "stream",
     "text": [
      "key:name , value : ritesh\n",
      "key:age , value : 36\n"
     ]
    }
   ],
   "source": [
    "f={'name':'ritesh','age':36}\n",
    "s=f.items()\n",
    "for i in s:\n",
    "    print(f'key:{i[0]} , value : {i[1]}')\n",
    "   "
   ]
  },
  {
   "cell_type": "code",
   "execution_count": 65,
   "metadata": {},
   "outputs": [
    {
     "name": "stdout",
     "output_type": "stream",
     "text": [
      "[22, 33, 44, 'rohit name updated', 'rohit name updated', 7, 8, 9, (1, 1, 2, 3, 4, 5), {1, 2, 8, 9, 'harish'}, {'name': 'Ritesh', 'age': 26, 'fav_song': 'DHKMN'}]\n",
      "[22, 33, 44, 'rohit name updated', 'rohit name updated', 7, 8, 9, (1, 1, 2, 3, 4, 5), {1, 2, 8, 9, 'harish'}, {'name': 'Ritesh', 'age': 26, 'fav_song': 'DHKMN'}]\n",
      "[22, 33, 44, 'rohit name updated', 'rohit name updated', 7, 8, 9, (1, 1, 2, 3, 4, 5), {1, 2, 8, 9, 'harish'}, {'name': 'Ritesh', 'age': 26, 'fav_song': 'DHKMN'}]\n"
     ]
    }
   ],
   "source": [
    "#update element in list\n",
    "print(lis_3)\n",
    "lis_3[3]='rohit name updated'\n",
    "print(lis_3)\n",
    "\n",
    "#update entire slice\n",
    "lis_2=[22,33,44]\n",
    "lis_3[:3]=lis_2\n",
    "print(lis_3)"
   ]
  },
  {
   "cell_type": "code",
   "execution_count": 68,
   "metadata": {},
   "outputs": [
    {
     "name": "stdout",
     "output_type": "stream",
     "text": [
      "[22, 33, 44, 'rohit name updated', 'rohit name updated', 7, 8, 9, (1, 1, 2, 3, 4, 5), {1, 2, 8, 9, 'harish'}, {'name': 'Ritesh', 'age': 26, 'fav_song': 'DHKMN'}, 333]\n",
      "[22, 33, 44, 'rohit name updated', 'rohit name updated', 7, 8, 9, (1, 1, 2, 3, 4, 5), {1, 2, 8, 9, 'harish'}, {'name': 'Ritesh', 'age': 26, 'fav_song': 'DHKMN'}, 333, 333]\n",
      "[22, 33, 44, 'rohit name updated', 'rohit name updated', 7, 8, 9, (1, 1, 2, 3, 4, 5), {1, 2, 8, 9, 'harish'}, {'name': 'Ritesh', 'age': 26, 'fav_song': 'DHKMN'}, 333, 333, [55, 66, 77]]\n"
     ]
    }
   ],
   "source": [
    "#Add new element in list\n",
    "print(lis_3)\n",
    "h=333\n",
    "lis_3.append(h)\n",
    "print(lis_3)\n",
    "hh=[55,66,77]\n",
    "lis_3.append(hh)\n",
    "print(lis_3)"
   ]
  },
  {
   "cell_type": "code",
   "execution_count": 72,
   "metadata": {},
   "outputs": [
    {
     "name": "stdout",
     "output_type": "stream",
     "text": [
      "[22, 33, 'rohit name updated', 'rohit name updated', 7, 8, 9, (1, 1, 2, 3, 4, 5), {1, 2, 8, 9, 'harish'}, {'name': 'Ritesh', 'age': 26, 'fav_song': 'DHKMN'}, 333, 333, [55, 66, 77]]\n",
      "[22, 'rohit name updated', 'rohit name updated', 7, 8, 9, (1, 1, 2, 3, 4, 5), {1, 2, 8, 9, 'harish'}, {'name': 'Ritesh', 'age': 26, 'fav_song': 'DHKMN'}, 333, 333, [55, 66, 77]]\n"
     ]
    }
   ],
   "source": [
    "# remove will remove the element not index\n",
    "print(lis_3)\n",
    "lis_3.remove(33)\n",
    "print(lis_3)"
   ]
  },
  {
   "cell_type": "code",
   "execution_count": 80,
   "metadata": {},
   "outputs": [
    {
     "name": "stdout",
     "output_type": "stream",
     "text": [
      "[(1, 1, 2, 3, 4, 5), {1, 2, 8, 9, 'harish'}, {'name': 'Ritesh', 'age': 26, 'fav_song': 'DHKMN'}, 333, 333, [55, 66, 77]]\n",
      "(1, 1, 2, 3, 4, 5)\n",
      "[{1, 2, 8, 9, 'harish'}, {'name': 'Ritesh', 'age': 26, 'fav_song': 'DHKMN'}, 333, 333, [55, 66, 77]]\n"
     ]
    }
   ],
   "source": [
    "# delete items using pop method\n",
    "print(lis_3)\n",
    "print(lis_3.pop(0))\n",
    "print(lis_3)\n",
    "\n"
   ]
  },
  {
   "cell_type": "code",
   "execution_count": 82,
   "metadata": {},
   "outputs": [
    {
     "name": "stdout",
     "output_type": "stream",
     "text": [
      "[{1, 2, 8, 9, 'harish'}, {'name': 'Ritesh', 'age': 26, 'fav_song': 'DHKMN'}, 333, 333, [55, 66, 77], [1, 2, 3, 4, 5, 6], (1, 2, 3, 4, 5, 6)]\n"
     ]
    }
   ],
   "source": [
    "lis5=1,2,3,4,5,6\n",
    "lis_3.append(lis5)\n",
    "print(lis_3)"
   ]
  },
  {
   "cell_type": "code",
   "execution_count": 83,
   "metadata": {},
   "outputs": [
    {
     "data": {
      "text/plain": [
       "3"
      ]
     },
     "execution_count": 83,
     "metadata": {},
     "output_type": "execute_result"
    }
   ],
   "source": [
    "# find index of the value\n",
    "y=[1,2,3,4,56,6]\n",
    "y.index(4)\n"
   ]
  },
  {
   "cell_type": "code",
   "execution_count": 21,
   "metadata": {},
   "outputs": [
    {
     "name": "stdout",
     "output_type": "stream",
     "text": [
      "<class 'tuple'>\n",
      "17\n"
     ]
    }
   ],
   "source": [
    "#using all function and mathod in tuple\n",
    "tup_1 = (1,1,2,3,4,5,6,7,8,9,11.3,12.5,True,False, (11,22,33,),[9,9,9,19],{1:'one',2:'two'})\n",
    "print(type(tup_1))\n",
    "\n",
    "#len function in tuple\n",
    "print(len(tup_1)) #len function is working in tuple\n",
    "\n",
    "\n",
    "\n"
   ]
  },
  {
   "cell_type": "code",
   "execution_count": 12,
   "metadata": {},
   "outputs": [
    {
     "name": "stdout",
     "output_type": "stream",
     "text": [
      "3\n",
      "(1, 2, 3, 4, 5, 6, 7, 8, 9, 11.3, 12.5, True, False, (11, 22, 33), [9, 9, 9, 19], {1: 'one', 2: 'two'})\n",
      "(True, False, (11, 22, 33))\n",
      "(1, 3, 5, 7, 9)\n"
     ]
    }
   ],
   "source": [
    "#indexing in tuple\n",
    "print(tup_1[2])\n",
    "print(tup_1[0:])\n",
    "print(tup_1[-5:-2])\n",
    "print(tup_1[0:10:2])"
   ]
  },
  {
   "cell_type": "code",
   "execution_count": 9,
   "metadata": {},
   "outputs": [
    {
     "ename": "AttributeError",
     "evalue": "'tuple' object has no attribute 'append'",
     "output_type": "error",
     "traceback": [
      "\u001b[1;31m---------------------------------------------------------------------------\u001b[0m",
      "\u001b[1;31mAttributeError\u001b[0m                            Traceback (most recent call last)",
      "\u001b[1;32m<ipython-input-9-a5964bfae500>\u001b[0m in \u001b[0;36m<module>\u001b[1;34m\u001b[0m\n\u001b[0;32m      1\u001b[0m \u001b[1;31m#append method in tuple\u001b[0m\u001b[1;33m\u001b[0m\u001b[1;33m\u001b[0m\u001b[1;33m\u001b[0m\u001b[0m\n\u001b[1;32m----> 2\u001b[1;33m \u001b[0mprint\u001b[0m\u001b[1;33m(\u001b[0m\u001b[0mtup_1\u001b[0m\u001b[1;33m.\u001b[0m\u001b[0mappend\u001b[0m\u001b[1;33m(\u001b[0m\u001b[1;36m100\u001b[0m\u001b[1;33m)\u001b[0m\u001b[1;33m)\u001b[0m\u001b[1;33m\u001b[0m\u001b[1;33m\u001b[0m\u001b[0m\n\u001b[0m",
      "\u001b[1;31mAttributeError\u001b[0m: 'tuple' object has no attribute 'append'"
     ]
    }
   ],
   "source": [
    "#append method in tuple\n",
    "print(tup_1.append(100))"
   ]
  },
  {
   "cell_type": "code",
   "execution_count": 13,
   "metadata": {},
   "outputs": [
    {
     "ename": "AttributeError",
     "evalue": "'tuple' object has no attribute 'remove'",
     "output_type": "error",
     "traceback": [
      "\u001b[1;31m---------------------------------------------------------------------------\u001b[0m",
      "\u001b[1;31mAttributeError\u001b[0m                            Traceback (most recent call last)",
      "\u001b[1;32m<ipython-input-13-28addd335527>\u001b[0m in \u001b[0;36m<module>\u001b[1;34m\u001b[0m\n\u001b[0;32m      1\u001b[0m \u001b[1;31m#remove element from tuple\u001b[0m\u001b[1;33m\u001b[0m\u001b[1;33m\u001b[0m\u001b[1;33m\u001b[0m\u001b[0m\n\u001b[1;32m----> 2\u001b[1;33m \u001b[0mtup_1\u001b[0m\u001b[1;33m.\u001b[0m\u001b[0mremove\u001b[0m\u001b[1;33m(\u001b[0m\u001b[1;36m5\u001b[0m\u001b[1;33m)\u001b[0m\u001b[1;33m\u001b[0m\u001b[1;33m\u001b[0m\u001b[0m\n\u001b[0m",
      "\u001b[1;31mAttributeError\u001b[0m: 'tuple' object has no attribute 'remove'"
     ]
    }
   ],
   "source": [
    "#remove element from tuple\n",
    "tup_1.remove(5)"
   ]
  },
  {
   "cell_type": "code",
   "execution_count": 15,
   "metadata": {},
   "outputs": [
    {
     "ename": "TypeError",
     "evalue": "'tuple' object doesn't support item deletion",
     "output_type": "error",
     "traceback": [
      "\u001b[1;31m---------------------------------------------------------------------------\u001b[0m",
      "\u001b[1;31mTypeError\u001b[0m                                 Traceback (most recent call last)",
      "\u001b[1;32m<ipython-input-15-193db7a16d3d>\u001b[0m in \u001b[0;36m<module>\u001b[1;34m\u001b[0m\n\u001b[0;32m      1\u001b[0m \u001b[1;31m#delete item from tuple\u001b[0m\u001b[1;33m\u001b[0m\u001b[1;33m\u001b[0m\u001b[1;33m\u001b[0m\u001b[0m\n\u001b[1;32m----> 2\u001b[1;33m \u001b[1;32mdel\u001b[0m \u001b[0mtup_1\u001b[0m\u001b[1;33m[\u001b[0m\u001b[1;36m2\u001b[0m\u001b[1;33m]\u001b[0m\u001b[1;33m\u001b[0m\u001b[1;33m\u001b[0m\u001b[0m\n\u001b[0m",
      "\u001b[1;31mTypeError\u001b[0m: 'tuple' object doesn't support item deletion"
     ]
    }
   ],
   "source": [
    "#delete item from tuple\n",
    "del tup_1[2]"
   ]
  },
  {
   "cell_type": "code",
   "execution_count": 16,
   "metadata": {},
   "outputs": [
    {
     "ename": "AttributeError",
     "evalue": "'tuple' object has no attribute 'pop'",
     "output_type": "error",
     "traceback": [
      "\u001b[1;31m---------------------------------------------------------------------------\u001b[0m",
      "\u001b[1;31mAttributeError\u001b[0m                            Traceback (most recent call last)",
      "\u001b[1;32m<ipython-input-16-efbff3ac48b3>\u001b[0m in \u001b[0;36m<module>\u001b[1;34m\u001b[0m\n\u001b[1;32m----> 1\u001b[1;33m \u001b[0mtup_1\u001b[0m\u001b[1;33m.\u001b[0m\u001b[0mpop\u001b[0m\u001b[1;33m(\u001b[0m\u001b[1;36m3\u001b[0m\u001b[1;33m)\u001b[0m\u001b[1;33m\u001b[0m\u001b[1;33m\u001b[0m\u001b[0m\n\u001b[0m",
      "\u001b[1;31mAttributeError\u001b[0m: 'tuple' object has no attribute 'pop'"
     ]
    }
   ],
   "source": [
    "tup_1.pop(3)"
   ]
  },
  {
   "cell_type": "code",
   "execution_count": 18,
   "metadata": {},
   "outputs": [
    {
     "ename": "TypeError",
     "evalue": "'tuple' object does not support item assignment",
     "output_type": "error",
     "traceback": [
      "\u001b[1;31m---------------------------------------------------------------------------\u001b[0m",
      "\u001b[1;31mTypeError\u001b[0m                                 Traceback (most recent call last)",
      "\u001b[1;32m<ipython-input-18-bf685358d802>\u001b[0m in \u001b[0;36m<module>\u001b[1;34m\u001b[0m\n\u001b[1;32m----> 1\u001b[1;33m \u001b[0mtup_1\u001b[0m\u001b[1;33m[\u001b[0m\u001b[1;36m3\u001b[0m\u001b[1;33m]\u001b[0m\u001b[1;33m=\u001b[0m\u001b[1;36m33\u001b[0m\u001b[1;33m\u001b[0m\u001b[1;33m\u001b[0m\u001b[0m\n\u001b[0m\u001b[0;32m      2\u001b[0m \u001b[0mprint\u001b[0m\u001b[1;33m(\u001b[0m\u001b[0mtup_1\u001b[0m\u001b[1;33m)\u001b[0m\u001b[1;33m\u001b[0m\u001b[1;33m\u001b[0m\u001b[0m\n",
      "\u001b[1;31mTypeError\u001b[0m: 'tuple' object does not support item assignment"
     ]
    }
   ],
   "source": [
    "tup_1[3]=33\n",
    "print(tup_1)"
   ]
  },
  {
   "cell_type": "code",
   "execution_count": 19,
   "metadata": {},
   "outputs": [
    {
     "data": {
      "text/plain": [
       "2"
      ]
     },
     "execution_count": 19,
     "metadata": {},
     "output_type": "execute_result"
    }
   ],
   "source": [
    "tup_1.count(1)\n"
   ]
  },
  {
   "cell_type": "code",
   "execution_count": 20,
   "metadata": {},
   "outputs": [
    {
     "ename": "SyntaxError",
     "evalue": "invalid syntax (<ipython-input-20-3ad0ee0abc9e>, line 1)",
     "output_type": "error",
     "traceback": [
      "\u001b[1;36m  File \u001b[1;32m\"<ipython-input-20-3ad0ee0abc9e>\"\u001b[1;36m, line \u001b[1;32m1\u001b[0m\n\u001b[1;33m    1.type(tup_1)\u001b[0m\n\u001b[1;37m         ^\u001b[0m\n\u001b[1;31mSyntaxError\u001b[0m\u001b[1;31m:\u001b[0m invalid syntax\n"
     ]
    }
   ],
   "source": [
    "1.type(tup_1)"
   ]
  },
  {
   "cell_type": "code",
   "execution_count": null,
   "metadata": {},
   "outputs": [],
   "source": [
    "type is aplicable\n",
    "len is aplicable\n",
    "append is not applicable\n",
    "indexing is aplicable\n",
    "slicing is aplicable\n",
    "remove is not aplicable\n",
    "delete is not aplicable\n",
    "pop is not aplicable\n",
    "update is not aplicable\n",
    "count is aplicable\n",
    "ritesh=[y,y,n,y,y,n,n,n,n,y]"
   ]
  },
  {
   "cell_type": "code",
   "execution_count": 32,
   "metadata": {},
   "outputs": [
    {
     "name": "stdout",
     "output_type": "stream",
     "text": [
      "{1: 'Ritesh', 'two': 'Ram', 'sohan': [11, 12, 13, 14], 'rohan': (55, 66, 77, 88, 99), 'hemant': {1: 'radhe', 2: 'syam', 3: 'trivedi'}}\n",
      "dict_keys([1, 'two', 'sohan', 'rohan', 'hemant'])\n",
      "dict_values(['Ritesh', 'Ram', [11, 12, 13, 14], (55, 66, 77, 88, 99), {1: 'radhe', 2: 'syam', 3: 'trivedi'}])\n",
      "dict_items([(1, 'Ritesh'), ('two', 'Ram'), ('sohan', [11, 12, 13, 14]), ('rohan', (55, 66, 77, 88, 99)), ('hemant', {1: 'radhe', 2: 'syam', 3: 'trivedi'})])\n",
      "{1: 'Ritesh', 'two': 'Ram', 'sohan': [11, 12, 13, 14], 'rohan': (55, 66, 77, 88, 99), 'hemant': {1: 'radhe', 2: 'syam', 3: 'trivedi'}, 'fav_song': 'DHKMN'}\n"
     ]
    }
   ],
   "source": [
    "dict_5 = {1 : 'Ritesh', 'two' : 'Ram', 'sohan': [11,12,13,14], 'rohan': (55,66,77,88,99),'hemant' :{1: 'radhe',2:'syam', 3:'trivedi'}}\n",
    "print(dict_5)\n",
    "print(dict_5.keys())\n",
    "print(dict_5.values())\n",
    "print(dict_5.items())\n",
    "dict_5['fav_song']='DHKMN'\n",
    "print(dict_5)"
   ]
  },
  {
   "cell_type": "code",
   "execution_count": 56,
   "metadata": {},
   "outputs": [
    {
     "name": "stdout",
     "output_type": "stream",
     "text": [
      "{1, 2, 7, 24, 25, 26, 27, 28, 29, 30, 32, 36, ('ritesh', 'ram'), 'sohasn', 77, 78, 88, 99, 'Ram'}\n",
      "19\n"
     ]
    }
   ],
   "source": [
    "s1 = {25,1,1,26,2,7,7,27,28,29,30,32,36,78,99,24,77,88,99,99,'Ram','sohasn',('ritesh','ram'),('ritesh','ram')}\n",
    "print(s1)\n",
    "print(len(s1))\n",
    "\n"
   ]
  },
  {
   "cell_type": "code",
   "execution_count": 57,
   "metadata": {},
   "outputs": [
    {
     "ename": "AttributeError",
     "evalue": "'set' object has no attribute 'count'",
     "output_type": "error",
     "traceback": [
      "\u001b[1;31m---------------------------------------------------------------------------\u001b[0m",
      "\u001b[1;31mAttributeError\u001b[0m                            Traceback (most recent call last)",
      "\u001b[1;32m<ipython-input-57-34252e653acb>\u001b[0m in \u001b[0;36m<module>\u001b[1;34m\u001b[0m\n\u001b[1;32m----> 1\u001b[1;33m \u001b[0ms1\u001b[0m\u001b[1;33m.\u001b[0m\u001b[0mcount\u001b[0m\u001b[1;33m(\u001b[0m\u001b[1;36m1\u001b[0m\u001b[1;33m)\u001b[0m\u001b[1;33m\u001b[0m\u001b[1;33m\u001b[0m\u001b[0m\n\u001b[0m",
      "\u001b[1;31mAttributeError\u001b[0m: 'set' object has no attribute 'count'"
     ]
    }
   ],
   "source": [
    "s1.count(1)"
   ]
  },
  {
   "cell_type": "code",
   "execution_count": 58,
   "metadata": {},
   "outputs": [
    {
     "ename": "TypeError",
     "evalue": "'set' object is not subscriptable",
     "output_type": "error",
     "traceback": [
      "\u001b[1;31m---------------------------------------------------------------------------\u001b[0m",
      "\u001b[1;31mTypeError\u001b[0m                                 Traceback (most recent call last)",
      "\u001b[1;32m<ipython-input-58-7087e83d753a>\u001b[0m in \u001b[0;36m<module>\u001b[1;34m\u001b[0m\n\u001b[1;32m----> 1\u001b[1;33m \u001b[0ms1\u001b[0m\u001b[1;33m[\u001b[0m\u001b[1;36m2\u001b[0m\u001b[1;33m]\u001b[0m\u001b[1;33m\u001b[0m\u001b[1;33m\u001b[0m\u001b[0m\n\u001b[0m",
      "\u001b[1;31mTypeError\u001b[0m: 'set' object is not subscriptable"
     ]
    }
   ],
   "source": [
    "s1[2]"
   ]
  },
  {
   "cell_type": "code",
   "execution_count": 60,
   "metadata": {},
   "outputs": [
    {
     "ename": "SyntaxError",
     "evalue": "can't delete function call (<ipython-input-60-d8716f7d254e>, line 1)",
     "output_type": "error",
     "traceback": [
      "\u001b[1;36m  File \u001b[1;32m\"<ipython-input-60-d8716f7d254e>\"\u001b[1;36m, line \u001b[1;32m1\u001b[0m\n\u001b[1;33m    del s1(2)\u001b[0m\n\u001b[1;37m       ^\u001b[0m\n\u001b[1;31mSyntaxError\u001b[0m\u001b[1;31m:\u001b[0m can't delete function call\n"
     ]
    }
   ],
   "source": [
    "del s1[2]"
   ]
  },
  {
   "cell_type": "code",
   "execution_count": 64,
   "metadata": {},
   "outputs": [
    {
     "data": {
      "text/plain": [
       "{('ritesh', 'ram'),\n",
       " 1,\n",
       " 24,\n",
       " 25,\n",
       " 26,\n",
       " 27,\n",
       " 28,\n",
       " 29,\n",
       " 30,\n",
       " 32,\n",
       " 36,\n",
       " 7,\n",
       " 77,\n",
       " 78,\n",
       " 88,\n",
       " 99,\n",
       " 'Ram',\n",
       " 'sohasn'}"
      ]
     },
     "execution_count": 64,
     "metadata": {},
     "output_type": "execute_result"
    }
   ],
   "source": [
    "s1"
   ]
  },
  {
   "cell_type": "code",
   "execution_count": null,
   "metadata": {},
   "outputs": [],
   "source": [
    "2+2"
   ]
  },
  {
   "cell_type": "code",
   "execution_count": null,
   "metadata": {},
   "outputs": [],
   "source": [
    "#if elif else\n",
    "1 . Take 6 inputs from keyboard, Telgu , Hindi , English, Mathematics, \n",
    "Sceince, Social\n",
    "\n",
    "\n",
    "2. 100 marks each exam \n",
    "\n",
    "Grades\n",
    "\n",
    "500 -600   - A+\n",
    "\n",
    "400 - 500  - A\n",
    "\n",
    "300 - 400  - B\n",
    "\n",
    "Below 300  - Fail\n",
    "\n",
    "if marks <0 or Grater than 600 need to print \"Enter valid marks message\"\n",
    "\n",
    "Yo need to tell the marks ubtained by the student are even or odd."
   ]
  },
  {
   "cell_type": "code",
   "execution_count": 1,
   "metadata": {},
   "outputs": [
    {
     "name": "stdout",
     "output_type": "stream",
     "text": [
      "Enter the marks in Telugu : 40\n",
      "Enter the marks in Hindi : 90\n",
      "Enter the marks in English : 89\n",
      "Enter the marks in Maths : 83\n",
      "Enter the marks in Sceince : 91\n",
      "Enter the marks in Social : 85\n",
      "Total Marks :  478\n",
      "Congratulation you are getting A grade\n",
      "the marks obtained by you is an even number\n"
     ]
    }
   ],
   "source": [
    "# we are taking inputs from student \n",
    "\n",
    "Telugu = int(input(\"Enter the marks in Telugu : \"))\n",
    "\n",
    "Hindi =  int(input(\"Enter the marks in Hindi : \"))\n",
    "\n",
    "English =  int(input(\"Enter the marks in English : \"))\n",
    "\n",
    "Maths =  int(input(\"Enter the marks in Maths : \"))\n",
    "\n",
    "Science =  int(input(\"Enter the marks in Sceince : \"))\n",
    "\n",
    "Social =  int(input(\"Enter the marks in Social : \"))\n",
    "\n",
    "# calculating the total marks \n",
    "total_Marks = Telugu  + Hindi  +English + Maths + Science + Social\n",
    "\n",
    "# Displaying total Marks after Taken all 6 inputs\n",
    "print(\"Total Marks : \", total_Marks)\n",
    "\n",
    "# Greading system condition\n",
    "if 0<=total_Marks<300:\n",
    "    print('so sorry you are failed!')\n",
    "elif 300<=total_Marks<400:\n",
    "    print('Congratulation you are getting B grade')\n",
    "elif 400<=total_Marks<500:\n",
    "    print('Congratulation you are getting A grade') \n",
    "elif 500<=total_Marks<=600:\n",
    "    print('Congratulation you are getting A+ grade' )\n",
    "else:\n",
    "    print('Enter valid marks')\n",
    "\n",
    "# Find the number sudent entered are odd or even    \n",
    "odd_even=total_Marks%2==0\n",
    "if odd_even:\n",
    "    print('the marks obtained by you is an even number')\n",
    "else:\n",
    "    print('the marks obtained by you is an odd number')    \n",
    "   \n",
    "\n",
    "    "
   ]
  },
  {
   "cell_type": "code",
   "execution_count": 8,
   "metadata": {},
   "outputs": [
    {
     "name": "stdout",
     "output_type": "stream",
     "text": [
      "1\n",
      "2.0\n",
      "True\n",
      "[1, 1, 1, 2]\n",
      "(1, 2, 3)\n",
      "(1, 2, 3)\n",
      "[1, 1, 1, 2]\n",
      "True\n",
      "2.0\n",
      "[1]\n",
      "[1, 2.0]\n",
      "[1, 2.0, True]\n",
      "[1, 2.0, True, [1, 1, 1, 2]]\n",
      "[2.0]\n",
      "[2.0, True]\n",
      "[2.0, True, [1, 1, 1, 2]]\n",
      "[True]\n",
      "[True, [1, 1, 1, 2]]\n",
      "[[1, 1, 1, 2]]\n",
      "[(1, 2, 3)]\n",
      "[[1, 1, 1, 2], (1, 2, 3)]\n",
      "[True, [1, 1, 1, 2], (1, 2, 3)]\n",
      "[2.0, True, [1, 1, 1, 2], (1, 2, 3)]\n",
      "[[1, 1, 1, 2]]\n",
      "[True, [1, 1, 1, 2]]\n",
      "[2.0, True, [1, 1, 1, 2]]\n"
     ]
    }
   ],
   "source": [
    "#List indexing\n",
    "# LIST\n",
    "lis_1 =[1,2.,True, [1,1,1,2],(1,2,3)]\n",
    "print(lis_1[0])\n",
    "print(lis_1[1])\n",
    "print(lis_1[2])\n",
    "print(lis_1[3])\n",
    "print(lis_1[4])\n",
    "print(lis_1[-1])\n",
    "print(lis_1[-2])\n",
    "print(lis_1[-3])\n",
    "print(lis_1[-4])\n",
    "print(lis_1[0:1])\n",
    "print(lis_1[0:2])\n",
    "print(lis_1[0:3])\n",
    "print(lis_1[0:4])\n",
    "print(lis_1[1:2])\n",
    "print(lis_1[1:3])\n",
    "print(lis_1[1:4])\n",
    "print(lis_1[2:3])\n",
    "print(lis_1[2:4])\n",
    "print(lis_1[3:4])\n",
    "print(lis_1[-1:])\n",
    "print(lis_1[-2:])\n",
    "print(lis_1[-3:])\n",
    "print(lis_1[-4:])\n",
    "print(lis_1[-2:-1])\n",
    "print(lis_1[-3:-1])\n",
    "print(lis_1[-4:-1])\n"
   ]
  },
  {
   "cell_type": "code",
   "execution_count": 16,
   "metadata": {},
   "outputs": [
    {
     "data": {
      "text/plain": [
       "[(1, 2, 3), 1]"
      ]
     },
     "execution_count": 16,
     "metadata": {},
     "output_type": "execute_result"
    }
   ],
   "source": [
    "lis_1 =[1,2.,True, [1,1,1,2],(1,2,3)]\n",
    "lis_1[0::4]\n",
    "lis_1[-1::-4]\n",
    "\n"
   ]
  },
  {
   "cell_type": "code",
   "execution_count": 1,
   "metadata": {},
   "outputs": [
    {
     "name": "stdout",
     "output_type": "stream",
     "text": [
      "Number of people:9\n",
      "Total age  of people:444\n",
      "average of people(Mean):49.333333333333336\n"
     ]
    }
   ],
   "source": [
    "#Mean\n",
    "total=[9,12,45,66,74,88,90,24,36]\n",
    "sum1=sum(total)\n",
    "mean=sum1/len(total)\n",
    "print(f'Number of people:{len(total)}')\n",
    "print(f'Total age  of people:{sum1}')\n",
    "print(f'average of people(Mean):{mean}')"
   ]
  },
  {
   "cell_type": "code",
   "execution_count": 13,
   "metadata": {},
   "outputs": [
    {
     "name": "stdout",
     "output_type": "stream",
     "text": [
      "[1, 1, 1, 2, 3, 4, 5, 6, 7, 8, 9]\n",
      "{1, 2, 3, 4, 5, 6, 7, 8, 9}\n",
      "[1, 2, 3, 4, 5, 6, 7, 8, 9]\n"
     ]
    }
   ],
   "source": [
    "#How to remove duplicate numbers using set..\n",
    "\n",
    "ram=[1,1,1,2,3,4,5,6,7,8,9]\n",
    "print(ram)\n",
    "s=set(ram)\n",
    "print(s)\n",
    "r=list(s)\n",
    "print(r)"
   ]
  },
  {
   "cell_type": "code",
   "execution_count": 20,
   "metadata": {},
   "outputs": [
    {
     "name": "stdout",
     "output_type": "stream",
     "text": [
      "(5, 4, 3, 2, 1)\n"
     ]
    }
   ],
   "source": [
    "num=(1,2,3,4,5)\n",
    "print(num[::-1])"
   ]
  },
  {
   "cell_type": "code",
   "execution_count": 6,
   "metadata": {},
   "outputs": [
    {
     "ename": "SyntaxError",
     "evalue": "invalid syntax (<ipython-input-6-1340240e6e0b>, line 6)",
     "output_type": "error",
     "traceback": [
      "\u001b[1;36m  File \u001b[1;32m\"<ipython-input-6-1340240e6e0b>\"\u001b[1;36m, line \u001b[1;32m6\u001b[0m\n\u001b[1;33m    for i not in lis:\u001b[0m\n\u001b[1;37m            ^\u001b[0m\n\u001b[1;31mSyntaxError\u001b[0m\u001b[1;31m:\u001b[0m invalid syntax\n"
     ]
    }
   ],
   "source": [
    "lis=[1,2,3,4,5]\n",
    "\n",
    "inpu=int(input('enr'))\n",
    "for i in lis:\n",
    "    print('tt')\n",
    "for i not in lis:\n",
    "    lis.append(i)"
   ]
  },
  {
   "cell_type": "code",
   "execution_count": 19,
   "metadata": {},
   "outputs": [
    {
     "name": "stdout",
     "output_type": "stream",
     "text": [
      "enter a numbers3\n",
      "[]\n",
      "[3]\n"
     ]
    }
   ],
   "source": [
    "inp=int(input('enter a numbers'))\n",
    "r=[]\n",
    "e=[]\n",
    "if inp%2==0:\n",
    "    r.append(inp)\n",
    "else:    \n",
    "    e.append(inp)\n",
    "print(r)\n",
    "print(e)"
   ]
  },
  {
   "cell_type": "code",
   "execution_count": 22,
   "metadata": {},
   "outputs": [
    {
     "name": "stdout",
     "output_type": "stream",
     "text": [
      "0\n",
      "1\n",
      "2\n",
      "3\n",
      "4\n",
      "5\n",
      "6\n",
      "7\n",
      "8\n",
      "9\n"
     ]
    }
   ],
   "source": [
    "for num in range(10):\n",
    "    print(num)"
   ]
  },
  {
   "cell_type": "code",
   "execution_count": null,
   "metadata": {},
   "outputs": [],
   "source": []
  },
  {
   "cell_type": "code",
   "execution_count": null,
   "metadata": {},
   "outputs": [],
   "source": []
  },
  {
   "cell_type": "code",
   "execution_count": null,
   "metadata": {},
   "outputs": [],
   "source": []
  }
 ],
 "metadata": {
  "kernelspec": {
   "display_name": "Python 3",
   "language": "python",
   "name": "python3"
  },
  "language_info": {
   "codemirror_mode": {
    "name": "ipython",
    "version": 3
   },
   "file_extension": ".py",
   "mimetype": "text/x-python",
   "name": "python",
   "nbconvert_exporter": "python",
   "pygments_lexer": "ipython3",
   "version": "3.7.3"
  }
 },
 "nbformat": 4,
 "nbformat_minor": 2
}
