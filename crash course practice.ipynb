{
 "cells": [
  {
   "cell_type": "markdown",
   "metadata": {},
   "source": [
    "### PLANING PROCESS\n"
   ]
  },
  {
   "cell_type": "code",
   "execution_count": 3,
   "metadata": {},
   "outputs": [],
   "source": [
    "with open('D:\\\\python class arja mohan\\\\numpy data file/brent.txt','r') as f:\n",
    "    brent = f.read().splitlines()\n",
    "with open('D:\\\\python class arja mohan\\\\numpy data file/camden.txt','r') as f:\n",
    "    camden = f.read().splitlines()\n",
    "with open('D:\\\\python class arja mohan\\\\numpy data file/redbridge.txt','r') as f:\n",
    "    redbridge = f.read().splitlines()\n",
    "with open('D:\\\\python class arja mohan\\\\numpy data file/southwark.txt','r') as f:\n",
    "    southwark = f.read().splitlines()\n",
    "\n",
    "    "
   ]
  },
  {
   "cell_type": "code",
   "execution_count": 4,
   "metadata": {},
   "outputs": [
    {
     "name": "stdout",
     "output_type": "stream",
     "text": [
      "['Brent Park', 'Church End', 'Dollis Hill', 'Harlesden', 'Kensal Green', 'Kingsbury', 'Neasden', 'Preston', \"Queen's Park\", 'Tokyngton', 'Wembley', 'Wembley Park', 'Willesden', 'Park Royal', 'Kenton', 'Kilburn', 'Sudbury', 'Brondesbury', 'Alperton']\n"
     ]
    }
   ],
   "source": [
    "print(brent)"
   ]
  },
  {
   "cell_type": "code",
   "execution_count": 62,
   "metadata": {},
   "outputs": [
    {
     "data": {
      "text/plain": [
       "19"
      ]
     },
     "execution_count": 62,
     "metadata": {},
     "output_type": "execute_result"
    }
   ],
   "source": [
    "len(brent)"
   ]
  },
  {
   "cell_type": "code",
   "execution_count": 6,
   "metadata": {},
   "outputs": [
    {
     "data": {
      "text/plain": [
       "list"
      ]
     },
     "execution_count": 6,
     "metadata": {},
     "output_type": "execute_result"
    }
   ],
   "source": [
    "type(brent)"
   ]
  },
  {
   "cell_type": "code",
   "execution_count": 7,
   "metadata": {},
   "outputs": [
    {
     "name": "stdout",
     "output_type": "stream",
     "text": [
      "Total location in brent: 19\n",
      "Total location in camden: 22\n",
      "Total location in redbridge: 18\n",
      "Total location in southwark: 15\n"
     ]
    }
   ],
   "source": [
    "print(f'Total location in brent: {len(brent)}')\n",
    "print(f'Total location in camden: {len(camden)}')\n",
    "print(f'Total location in redbridge: {len(redbridge)}')\n",
    "print(f'Total location in southwark: {len(southwark)}')"
   ]
  },
  {
   "cell_type": "code",
   "execution_count": 8,
   "metadata": {},
   "outputs": [
    {
     "data": {
      "text/plain": [
       "74"
      ]
     },
     "execution_count": 8,
     "metadata": {},
     "output_type": "execute_result"
    }
   ],
   "source": [
    "19+22+18+15"
   ]
  },
  {
   "cell_type": "code",
   "execution_count": 9,
   "metadata": {},
   "outputs": [
    {
     "name": "stdout",
     "output_type": "stream",
     "text": [
      "['Chadwell Heath', 'Gants Hill', 'Goodmayes', 'Snaresbrook', 'Hainault', 'Ilford', 'Loxford', 'Newbury Park', 'Hainault', 'Redbridge', 'Seven Kings', 'South Woodford', 'Wanstead', 'Woodford', 'Woodford Green', 'Snaresbrook', 'Aldborough Hatch', 'Barkingside']\n"
     ]
    }
   ],
   "source": [
    "print(redbridge)"
   ]
  },
  {
   "cell_type": "code",
   "execution_count": 10,
   "metadata": {},
   "outputs": [
    {
     "name": "stdout",
     "output_type": "stream",
     "text": [
      "True\n"
     ]
    }
   ],
   "source": [
    "print('Newbury Park' in redbridge)"
   ]
  },
  {
   "cell_type": "code",
   "execution_count": 11,
   "metadata": {},
   "outputs": [
    {
     "name": "stdout",
     "output_type": "stream",
     "text": [
      "False\n"
     ]
    }
   ],
   "source": [
    "print('peckham' in brent)"
   ]
  },
  {
   "cell_type": "code",
   "execution_count": 12,
   "metadata": {},
   "outputs": [
    {
     "name": "stdout",
     "output_type": "stream",
     "text": [
      "five sample location of brent ['Brent Park', 'Church End', 'Dollis Hill', 'Harlesden', 'Kensal Green']\n",
      "five sample location of camden ['Chalk Farm', 'Dartmouth Park', 'Fitzrovia', 'Frognal', 'Bloomsbury']\n",
      "five sample location of redbridge ['Chadwell Heath', 'Gants Hill', 'Goodmayes', 'Snaresbrook', 'Hainault']\n",
      "five sample location of southwark ['Denmark Hill', 'Dulwich', 'Surrey Quays', 'East Dulwich', 'Elephant and Castle']\n"
     ]
    }
   ],
   "source": [
    "# print five sample location in each and every locagtion .\n",
    "print(f'five sample location of brent {brent[:5]}')\n",
    "print(f'five sample location of camden {camden[:5]}')\n",
    "print(f'five sample location of redbridge {redbridge[:5]}')\n",
    "print(f'five sample location of southwark {southwark[:5]}')"
   ]
  },
  {
   "cell_type": "code",
   "execution_count": 13,
   "metadata": {},
   "outputs": [
    {
     "name": "stdout",
     "output_type": "stream",
     "text": [
      "Alperton\n",
      "Willesden\n",
      "Belsize Park\n",
      "West Hampstead\n",
      "Aldborough Hatch\n",
      "Woodford Green\n",
      "Bankside\n",
      "Walworth\n"
     ]
    }
   ],
   "source": [
    "# what are the min and max value in all the four locations.\n",
    "locations=[brent,camden,redbridge,southwark]\n",
    "for loc in locations:\n",
    "        print(min(loc))\n",
    "        print(max(loc))"
   ]
  },
  {
   "cell_type": "code",
   "execution_count": 34,
   "metadata": {},
   "outputs": [
    {
     "name": "stdout",
     "output_type": "stream",
     "text": [
      "[10, 10, 11, 9, 12, 9, 7, 7, 12, 9, 7, 12, 9, 10, 6, 7, 7, 11, 8, 10, 14, 9, 7, 10, 10, 9, 8, 7, 12, 10, 13, 10, 8, 10, 13, 14, 12, 10, 12, 10, 11, 14, 10, 9, 11, 8, 6, 7, 12, 8, 9, 11, 14, 8, 8, 14, 11, 16, 11, 12, 7, 12, 12, 19, 9, 7, 7, 11, 12, 7, 8, 10, 10, 8]\n"
     ]
    }
   ],
   "source": [
    "#what are the long and sort name in each and every locations.\n",
    "\n",
    "locations = [brent,camden,redbridge,southwark]\n",
    "len_list = []\n",
    "for loca in locations:\n",
    "    for loc in loca:\n",
    "        len_list.append(len(loc))\n",
    "        \n",
    "print(len_list)\n"
   ]
  },
  {
   "cell_type": "code",
   "execution_count": 35,
   "metadata": {},
   "outputs": [
    {
     "name": "stdout",
     "output_type": "stream",
     "text": [
      "['Brent Park', 'Church End', 'Dollis Hill', 'Harlesden', 'Kensal Green', 'Kingsbury', 'Neasden', 'Preston', \"Queen's Park\", 'Tokyngton', 'Wembley', 'Wembley Park', 'Willesden', 'Park Royal', 'Kenton', 'Kilburn', 'Sudbury', 'Brondesbury', 'Alperton']\n"
     ]
    }
   ],
   "source": [
    "print(brent)\n"
   ]
  },
  {
   "cell_type": "code",
   "execution_count": 36,
   "metadata": {},
   "outputs": [
    {
     "data": {
      "text/plain": [
       "6"
      ]
     },
     "execution_count": 36,
     "metadata": {},
     "output_type": "execute_result"
    }
   ],
   "source": [
    "min(len_list[:74])"
   ]
  },
  {
   "cell_type": "code",
   "execution_count": 37,
   "metadata": {},
   "outputs": [
    {
     "data": {
      "text/plain": [
       "0"
      ]
     },
     "execution_count": 37,
     "metadata": {},
     "output_type": "execute_result"
    }
   ],
   "source": [
    "len_list.count(22)"
   ]
  },
  {
   "cell_type": "code",
   "execution_count": 38,
   "metadata": {},
   "outputs": [
    {
     "data": {
      "text/plain": [
       "1"
      ]
     },
     "execution_count": 38,
     "metadata": {},
     "output_type": "execute_result"
    }
   ],
   "source": [
    "len_list[:20].count(6)"
   ]
  },
  {
   "cell_type": "code",
   "execution_count": 39,
   "metadata": {},
   "outputs": [
    {
     "data": {
      "text/plain": [
       "12"
      ]
     },
     "execution_count": 39,
     "metadata": {},
     "output_type": "execute_result"
    }
   ],
   "source": [
    "max(len_list[:20])"
   ]
  },
  {
   "cell_type": "code",
   "execution_count": 41,
   "metadata": {},
   "outputs": [
    {
     "name": "stdout",
     "output_type": "stream",
     "text": [
      "4\n",
      "4\n",
      "4\n"
     ]
    }
   ],
   "source": [
    "for i in len_list[:20]:\n",
    "    if i==12:\n",
    "        print(len_list.index(i))"
   ]
  },
  {
   "cell_type": "code",
   "execution_count": 45,
   "metadata": {},
   "outputs": [
    {
     "name": "stdout",
     "output_type": "stream",
     "text": [
      "Kensal Green\n",
      "Queen's Park\n",
      "Wembley Park\n"
     ]
    }
   ],
   "source": [
    "for i in brent :\n",
    "    if len(i)==12:\n",
    "        print(i)\n",
    "    "
   ]
  },
  {
   "cell_type": "code",
   "execution_count": 51,
   "metadata": {},
   "outputs": [
    {
     "data": {
      "text/plain": [
       "'Alperton'"
      ]
     },
     "execution_count": 51,
     "metadata": {},
     "output_type": "execute_result"
    }
   ],
   "source": [
    "min(brent)"
   ]
  },
  {
   "cell_type": "code",
   "execution_count": 53,
   "metadata": {},
   "outputs": [
    {
     "data": {
      "text/plain": [
       "19"
      ]
     },
     "execution_count": 53,
     "metadata": {},
     "output_type": "execute_result"
    }
   ],
   "source": [
    "len(brent)"
   ]
  },
  {
   "cell_type": "code",
   "execution_count": 54,
   "metadata": {},
   "outputs": [
    {
     "name": "stdout",
     "output_type": "stream",
     "text": [
      "['Brent Park', 'Church End', 'Dollis Hill', 'Harlesden', 'Kensal Green', 'Kingsbury', 'Neasden', 'Preston', \"Queen's Park\", 'Tokyngton', 'Wembley', 'Wembley Park', 'Willesden', 'Park Royal', 'Kenton', 'Kilburn', 'Sudbury', 'Brondesbury', 'Alperton']\n"
     ]
    }
   ],
   "source": [
    "print(brent)"
   ]
  },
  {
   "cell_type": "code",
   "execution_count": 67,
   "metadata": {},
   "outputs": [
    {
     "data": {
      "text/plain": [
       "[10, 10, 11, 9, 12, 9, 7, 7, 12, 9, 7, 12, 9, 10, 6, 7, 7, 11, 8]"
      ]
     },
     "execution_count": 67,
     "metadata": {},
     "output_type": "execute_result"
    }
   ],
   "source": [
    "brent_total=[]\n",
    "for i in brent:\n",
    "    brent_total.append(len(i))\n",
    "brent_total"
   ]
  },
  {
   "cell_type": "code",
   "execution_count": 69,
   "metadata": {},
   "outputs": [
    {
     "data": {
      "text/plain": [
       "6"
      ]
     },
     "execution_count": 69,
     "metadata": {},
     "output_type": "execute_result"
    }
   ],
   "source": [
    "min(brent_total)"
   ]
  },
  {
   "cell_type": "code",
   "execution_count": 70,
   "metadata": {},
   "outputs": [
    {
     "data": {
      "text/plain": [
       "12"
      ]
     },
     "execution_count": 70,
     "metadata": {},
     "output_type": "execute_result"
    }
   ],
   "source": [
    "max(brent_total)"
   ]
  },
  {
   "cell_type": "code",
   "execution_count": 76,
   "metadata": {},
   "outputs": [
    {
     "name": "stdout",
     "output_type": "stream",
     "text": [
      "brent has duplicates? Ans: False\n",
      "brent has duplicates? Ans: True\n"
     ]
    }
   ],
   "source": [
    "print(f'brent has duplicates? Ans: {len(brent)>len(set(brent))}')\n",
    "print(f'brent has duplicates? Ans: {len(redbridge)>len(set(redbridge))}')\n",
    "print(f'brent has duplicates? Ans: {len(camden)>len(set(camden))}')\n",
    "print(f'brent has duplicates? Ans: {len(southwark)>len(set(redbridge))}')"
   ]
  },
  {
   "cell_type": "code",
   "execution_count": 80,
   "metadata": {},
   "outputs": [
    {
     "name": "stdout",
     "output_type": "stream",
     "text": [
      "brent has duplicates? Ans: 0\n",
      "brent has duplicates? Ans: 2\n",
      "brent has duplicates? Ans: 3\n",
      "brent has duplicates? Ans: 2\n"
     ]
    }
   ],
   "source": [
    "print(f'brent has duplicates? Ans: {len(brent)-len(set(brent))}')\n",
    "print(f'brent has duplicates? Ans: {len(redbridge)-len(set(redbridge))}')\n",
    "print(f'brent has duplicates? Ans: {len(camden)-len(set(camden))}')\n",
    "print(f'brent has duplicates? Ans: {len(southwark)-len(set(southwark))}')"
   ]
  },
  {
   "cell_type": "code",
   "execution_count": 148,
   "metadata": {},
   "outputs": [],
   "source": [
    "# Duplicate values from redbridge\n",
    "def Repeat(x): \n",
    "    _size = len(x) \n",
    "    repeated = [] \n",
    "    for i in range(_size): \n",
    "        k = i + 1\n",
    "        for j in range(k,_size): \n",
    "            if x[i] == x[j] and x[i] not in repeated: \n",
    "                repeated.append(x[i]) \n",
    "    return repeated \n",
    "    "
   ]
  },
  {
   "cell_type": "code",
   "execution_count": 149,
   "metadata": {},
   "outputs": [
    {
     "data": {
      "text/plain": [
       "['Snaresbrook', 'Hainault']"
      ]
     },
     "execution_count": 149,
     "metadata": {},
     "output_type": "execute_result"
    }
   ],
   "source": [
    "Repeat(redbridge)"
   ]
  },
  {
   "cell_type": "code",
   "execution_count": 152,
   "metadata": {},
   "outputs": [],
   "source": [
    "y=len(redbridge)"
   ]
  },
  {
   "cell_type": "code",
   "execution_count": 154,
   "metadata": {},
   "outputs": [
    {
     "data": {
      "text/plain": [
       "range(18, 18)"
      ]
     },
     "execution_count": 154,
     "metadata": {},
     "output_type": "execute_result"
    }
   ],
   "source": [
    "\n",
    "range(k,y)"
   ]
  },
  {
   "cell_type": "code",
   "execution_count": 155,
   "metadata": {},
   "outputs": [
    {
     "data": {
      "text/plain": [
       "range(0, 18)"
      ]
     },
     "execution_count": 155,
     "metadata": {},
     "output_type": "execute_result"
    }
   ],
   "source": [
    "range(y)"
   ]
  },
  {
   "cell_type": "code",
   "execution_count": 179,
   "metadata": {},
   "outputs": [],
   "source": [
    "brent=list(set(brent))\n",
    "camden=list(set(camden))\n",
    "redbridge=list(set(redbridge))\n",
    "southwark=list(set(southwark))"
   ]
  },
  {
   "cell_type": "code",
   "execution_count": null,
   "metadata": {},
   "outputs": [],
   "source": []
  },
  {
   "cell_type": "code",
   "execution_count": null,
   "metadata": {},
   "outputs": [],
   "source": []
  },
  {
   "cell_type": "code",
   "execution_count": 181,
   "metadata": {},
   "outputs": [],
   "source": [
    "all_locations={'brent':brent,'camden':camden,'southwark':southwark,'redbridge':redbridge}"
   ]
  },
  {
   "cell_type": "code",
   "execution_count": 182,
   "metadata": {},
   "outputs": [
    {
     "data": {
      "text/plain": [
       "dict_keys(['brent', 'camden', 'southwark', 'redbridge'])"
      ]
     },
     "execution_count": 182,
     "metadata": {},
     "output_type": "execute_result"
    }
   ],
   "source": [
    "all_locations.keys()"
   ]
  },
  {
   "cell_type": "code",
   "execution_count": 183,
   "metadata": {},
   "outputs": [],
   "source": [
    "# All location divided into 2 locations\n",
    "all_locations['inner_locatoon']=all_locations['camden'] + all_locations['southwark']"
   ]
  },
  {
   "cell_type": "code",
   "execution_count": 184,
   "metadata": {},
   "outputs": [
    {
     "data": {
      "text/plain": [
       "dict_keys(['brent', 'camden', 'southwark', 'redbridge', 'inner_locatoon'])"
      ]
     },
     "execution_count": 184,
     "metadata": {},
     "output_type": "execute_result"
    }
   ],
   "source": [
    "all_locations.keys()"
   ]
  },
  {
   "cell_type": "code",
   "execution_count": 185,
   "metadata": {},
   "outputs": [],
   "source": [
    "all_locations['outer_locatoon']=all_locations['brent'] + all_locations['redbridge']"
   ]
  },
  {
   "cell_type": "code",
   "execution_count": 186,
   "metadata": {},
   "outputs": [
    {
     "data": {
      "text/plain": [
       "dict_keys(['brent', 'camden', 'southwark', 'redbridge', 'inner_locatoon', 'outer_locatoon'])"
      ]
     },
     "execution_count": 186,
     "metadata": {},
     "output_type": "execute_result"
    }
   ],
   "source": [
    "all_locations.keys()"
   ]
  },
  {
   "cell_type": "code",
   "execution_count": 187,
   "metadata": {},
   "outputs": [
    {
     "name": "stdout",
     "output_type": "stream",
     "text": [
      "brent has 19 locations\n",
      "camden has 19 locations\n",
      "southwark has 13 locations\n",
      "redbridge has 16 locations\n",
      "inner_locatoon has 32 locations\n",
      "outer_locatoon has 35 locations\n"
     ]
    }
   ],
   "source": [
    "for i,j in all_locations.items():\n",
    "    print(f'{i} has {len(j)} locations')\n"
   ]
  },
  {
   "cell_type": "code",
   "execution_count": 189,
   "metadata": {},
   "outputs": [
    {
     "name": "stdout",
     "output_type": "stream",
     "text": [
      "Kingsbury ----------> grand_sounde\n",
      "Kensal Green ----------> pleasent_sounded\n",
      "Wembley Park ----------> pleasent_sounded\n",
      "Queen's Park ----------> pleasent_sounded\n",
      "Dollis Hill ----------> pleasent_sounded\n",
      "Brent Park ----------> pleasent_sounded\n",
      "Park Royal ----------> pleasent_sounded\n"
     ]
    }
   ],
   "source": [
    "pleasent_sounded = ['Farm', 'Park', 'Hill','Green']\n",
    "\n",
    "grand_sounded    = ['Royal', 'Queen', 'King']\n",
    "\n",
    "\n",
    "for i in all_locations['brent']:\n",
    "    if any(word in i  for word in pleasent_sounded ):\n",
    "        print(i,'----------> pleasent_sounded')\n",
    "    \n",
    "    elif any(word in i  for word in grand_sounded ):\n",
    "        print(i,'----------> grand_sounde')   \n",
    "    \n",
    "    "
   ]
  },
  {
   "cell_type": "code",
   "execution_count": 198,
   "metadata": {},
   "outputs": [
    {
     "name": "stdout",
     "output_type": "stream",
     "text": [
      "False\n",
      "True\n",
      "False\n",
      "True\n",
      "False\n",
      "True\n",
      "False\n",
      "True\n",
      "False\n"
     ]
    }
   ],
   "source": [
    "for i in range(1,10):\n",
    "    print(i %2 ==0)"
   ]
  },
  {
   "cell_type": "code",
   "execution_count": 201,
   "metadata": {},
   "outputs": [],
   "source": [
    "even_list=[number %2==0  for number in range(1,10)]"
   ]
  },
  {
   "cell_type": "code",
   "execution_count": 202,
   "metadata": {},
   "outputs": [
    {
     "data": {
      "text/plain": [
       "[False, True, False, True, False, True, False, True, False]"
      ]
     },
     "execution_count": 202,
     "metadata": {},
     "output_type": "execute_result"
    }
   ],
   "source": [
    "even_list"
   ]
  },
  {
   "cell_type": "code",
   "execution_count": null,
   "metadata": {},
   "outputs": [],
   "source": []
  },
  {
   "cell_type": "code",
   "execution_count": 218,
   "metadata": {},
   "outputs": [
    {
     "name": "stdout",
     "output_type": "stream",
     "text": [
      "Kingsbury ----------> grand_sounde\n"
     ]
    },
    {
     "ename": "TypeError",
     "evalue": "unsupported operand type(s) for +=: '_io.TextIOWrapper' and 'int'",
     "output_type": "error",
     "traceback": [
      "\u001b[1;31m---------------------------------------------------------------------------\u001b[0m",
      "\u001b[1;31mTypeError\u001b[0m                                 Traceback (most recent call last)",
      "\u001b[1;32m<ipython-input-218-6974b3bd409b>\u001b[0m in \u001b[0;36m<module>\u001b[1;34m\u001b[0m\n\u001b[0;32m     13\u001b[0m     \u001b[1;32melif\u001b[0m \u001b[0many\u001b[0m\u001b[1;33m(\u001b[0m\u001b[0mword\u001b[0m \u001b[1;32min\u001b[0m \u001b[0mi\u001b[0m  \u001b[1;32mfor\u001b[0m \u001b[0mword\u001b[0m \u001b[1;32min\u001b[0m \u001b[0mgrand_sounded\u001b[0m \u001b[1;33m)\u001b[0m\u001b[1;33m:\u001b[0m\u001b[1;33m\u001b[0m\u001b[1;33m\u001b[0m\u001b[0m\n\u001b[0;32m     14\u001b[0m         \u001b[0mprint\u001b[0m\u001b[1;33m(\u001b[0m\u001b[0mi\u001b[0m\u001b[1;33m,\u001b[0m\u001b[1;34m'----------> grand_sounde'\u001b[0m\u001b[1;33m)\u001b[0m\u001b[1;33m\u001b[0m\u001b[1;33m\u001b[0m\u001b[0m\n\u001b[1;32m---> 15\u001b[1;33m         \u001b[0mf\u001b[0m\u001b[1;33m+=\u001b[0m\u001b[1;36m1\u001b[0m\u001b[1;33m\u001b[0m\u001b[1;33m\u001b[0m\u001b[0m\n\u001b[0m",
      "\u001b[1;31mTypeError\u001b[0m: unsupported operand type(s) for +=: '_io.TextIOWrapper' and 'int'"
     ]
    }
   ],
   "source": [
    "pleasent_sounded = ['Farm', 'Park', 'Hill','Green']\n",
    "\n",
    "grand_sounded    = ['Royal', 'Queen', 'King']\n",
    "\n",
    "\n",
    "for i in all_locations['brent']:\n",
    "    if any(word in i  for word in pleasent_sounded ):\n",
    "        print(i,'----------> pleasent_sounded')\n",
    "        \n",
    "        \n",
    "        \n",
    "    \n",
    "    elif any(word in i  for word in grand_sounded ):\n",
    "        print(i,'----------> grand_sounde')\n",
    "        f+=1"
   ]
  },
  {
   "cell_type": "code",
   "execution_count": null,
   "metadata": {},
   "outputs": [],
   "source": []
  },
  {
   "cell_type": "code",
   "execution_count": null,
   "metadata": {},
   "outputs": [],
   "source": []
  },
  {
   "cell_type": "code",
   "execution_count": null,
   "metadata": {},
   "outputs": [],
   "source": []
  },
  {
   "cell_type": "code",
   "execution_count": null,
   "metadata": {},
   "outputs": [],
   "source": []
  },
  {
   "cell_type": "code",
   "execution_count": null,
   "metadata": {},
   "outputs": [],
   "source": []
  },
  {
   "cell_type": "code",
   "execution_count": null,
   "metadata": {},
   "outputs": [],
   "source": []
  },
  {
   "cell_type": "code",
   "execution_count": null,
   "metadata": {},
   "outputs": [],
   "source": []
  }
 ],
 "metadata": {
  "kernelspec": {
   "display_name": "Python 3",
   "language": "python",
   "name": "python3"
  },
  "language_info": {
   "codemirror_mode": {
    "name": "ipython",
    "version": 3
   },
   "file_extension": ".py",
   "mimetype": "text/x-python",
   "name": "python",
   "nbconvert_exporter": "python",
   "pygments_lexer": "ipython3",
   "version": "3.7.3"
  }
 },
 "nbformat": 4,
 "nbformat_minor": 2
}
