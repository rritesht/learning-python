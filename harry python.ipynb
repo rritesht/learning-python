{
 "cells": [
  {
   "cell_type": "markdown",
   "metadata": {},
   "source": [
    "### make dictionary for serching some subject ."
   ]
  },
  {
   "cell_type": "code",
   "execution_count": null,
   "metadata": {},
   "outputs": [],
   "source": [
    "\n",
    "\n",
    "dic={'set':\"A set is a well-defined collection of distinct objects, considered as an object in its own right\",'tuple':\"A tuple is a collection which is ordered and unchangeable. In Python tuples are written with round brackets\"}\n",
    "user=input() \n",
    "for i,j in dic.items():\n",
    "    if user==i:\n",
    "        print(j)"
   ]
  },
  {
   "cell_type": "code",
   "execution_count": null,
   "metadata": {},
   "outputs": [],
   "source": [
    "d = {\"Harry\":\"A genius man\", \"Google\":\"A search engine\", \"Grandmother\":\"The mother of our father\", \"Python\":\"A programing language\", \"Misfortune\":\"Bad luck\"}\n",
    "print(\"Enter the word-\")\n",
    "print(d.get(input()))"
   ]
  },
  {
   "cell_type": "code",
   "execution_count": null,
   "metadata": {},
   "outputs": [],
   "source": [
    "# set\n",
    "set1=set()\n",
    "set1.add(2)\n",
    "\n",
    "set1.add(3)\n",
    "set1\n",
    "set1.remove(3)\n",
    "set1"
   ]
  },
  {
   "cell_type": "code",
   "execution_count": null,
   "metadata": {},
   "outputs": [],
   "source": [
    "# if else \n",
    "list1=[2,3,4,5,6,7,8,9]\n",
    "if 2  in list1:\n",
    "    print('yes it is')\n",
    "else:\n",
    "    print('No try again')"
   ]
  },
  {
   "cell_type": "code",
   "execution_count": null,
   "metadata": {},
   "outputs": [],
   "source": [
    "# if else \n",
    "list1=[2,3,4,5,6,7,8,9]\n",
    "print(15 not in list1)\n",
    "if 15 not in list1:\n",
    "    print('No its not in list')\n",
    "else:\n",
    "    print('yes it is')"
   ]
  },
  {
   "cell_type": "code",
   "execution_count": null,
   "metadata": {},
   "outputs": [],
   "source": [
    "# if elif else (Driving licence program)\n",
    "\n",
    "age= int(input('Enter your age'))\n",
    "\n",
    "\n",
    "if age > 100 :\n",
    "    print('You entered invalid number pls correct it')\n",
    "\n",
    "elif 100 >= age > 18  :\n",
    "    print('U are eligible for licence')\n",
    "    \n",
    "    \n",
    "elif age == 18 :\n",
    "    print('u need to come our office for varification')\n",
    "    \n",
    "    \n",
    "else:\n",
    "    print('U are not eligible for licence')\n"
   ]
  },
  {
   "cell_type": "markdown",
   "metadata": {},
   "source": [
    "### Design a calculator which will corectly solve all the problem exept the following ones:\n",
    "### 45*3= 555 , 56+9= 77, 65/6= 4\n",
    "### Your program should take operator and the two numbers as a input from user and then return the result ."
   ]
  },
  {
   "cell_type": "code",
   "execution_count": null,
   "metadata": {},
   "outputs": [],
   "source": [
    "\n",
    "\n",
    "operator = input('which operator you want to use ?')\n",
    "\n",
    "            \n",
    "\n",
    "while True:    \n",
    "\n",
    "    if operator == 'sum':\n",
    "               a=int(input('enter first number   '))\n",
    "               b=int(input('enter second number  '))\n",
    "               if a==56 and b ==9:\n",
    "                print(77)  \n",
    "               else:\n",
    "                print(a+b)\n",
    "                \n",
    "                break\n",
    "                \n",
    "\n",
    "\n",
    "    elif operator == 'multiply':    \n",
    "               c=int(input('enter first number'))\n",
    "               d=int(input('enter second number'))\n",
    "               if c==45 and d ==3:\n",
    "                print(555)  \n",
    "               else:\n",
    "                print(c*d)\n",
    "                break\n",
    "               \n",
    "\n",
    "            \n",
    "            \n",
    "    elif operator == 'divition':    \n",
    "               e=int(input('enter first number'))\n",
    "               f=int(input('enter second number'))\n",
    "               if e==65 and f ==6:\n",
    "                    \n",
    "                    print(4)  \n",
    "               else:\n",
    "                   print(e/f)\n",
    "                   break\n",
    "                 \n",
    "                \n",
    "    else:\n",
    "        \n",
    "        print('select right operator')\n",
    "        \n",
    "        operator = input('which operator you want to use ?')\n",
    "    \n",
    "         \n"
   ]
  },
  {
   "cell_type": "code",
   "execution_count": null,
   "metadata": {},
   "outputs": [],
   "source": [
    "dict={'ram':6 ,'syam':8, 'rohan':3}\n",
    "for i,j in dict.items():\n",
    "    print(i,j)"
   ]
  },
  {
   "cell_type": "code",
   "execution_count": 1,
   "metadata": {},
   "outputs": [
    {
     "name": "stdout",
     "output_type": "stream",
     "text": [
      "7\n",
      "8\n",
      "9\n"
     ]
    }
   ],
   "source": [
    "list2=[2,4,6,7,8,9,'ram','rahim']\n",
    "for item in list2:\n",
    "    if str(item). isnumeric() and item > 6 :\n",
    "        print(item)\n",
    "    "
   ]
  },
  {
   "cell_type": "code",
   "execution_count": null,
   "metadata": {},
   "outputs": [],
   "source": [
    "i=0\n",
    "while (i<45):\n",
    "    print(i+1, end=' ')\n",
    "    i+=1"
   ]
  },
  {
   "cell_type": "code",
   "execution_count": null,
   "metadata": {},
   "outputs": [],
   "source": [
    "#break\n",
    "i=0\n",
    "while (True):\n",
    "    print(i+1, end=' ')\n",
    "    if i == 59:\n",
    "        break\n",
    "    i+=1"
   ]
  },
  {
   "cell_type": "code",
   "execution_count": null,
   "metadata": {},
   "outputs": [],
   "source": [
    "# continue\n",
    "i=0\n",
    "\n",
    "while (1):\n",
    "    if i+1<5:\n",
    "        i+=1\n",
    "        continue\n",
    "    print(i+1, end=' ')\n",
    "    if i==60:\n",
    "        break\n",
    "    i+=1    \n",
    "\n",
    "    \n",
    "\n",
    "    "
   ]
  },
  {
   "cell_type": "code",
   "execution_count": null,
   "metadata": {},
   "outputs": [],
   "source": [
    "## guessing number game \n",
    "\n",
    "\n",
    "\n",
    "while (True):\n",
    "    num=int(input('please enter the number\\n'))\n",
    "    if num >100:\n",
    "        print('Congratulation you guessing number is correct its greater then 100\\n')\n",
    "        break\n",
    "    else:\n",
    "        continue\n",
    "        \n"
   ]
  },
  {
   "cell_type": "code",
   "execution_count": null,
   "metadata": {},
   "outputs": [],
   "source": [
    "time=1\n",
    "num=60\n",
    "while (True):\n",
    "    a=input('Guess the number  \\n')\n",
    "    a=int(a)\n",
    "    if a==num:\n",
    "        print(f'you won----you try it {time} times')\n",
    "        break\n",
    "    elif a>60:\n",
    "        print('You have entered a large number you loss guess time',time)\n",
    "    elif a<60:\n",
    "        print('You have entered a small number you loss guess time',time)\n",
    "   \n",
    "   \n",
    "    time+=1\n",
    "    if time>9:\n",
    "        \n",
    "        print('game over----sorry you loss this game')\n",
    "        break\n",
    "    \n",
    "      \n",
    " \n"
   ]
  },
  {
   "cell_type": "code",
   "execution_count": null,
   "metadata": {},
   "outputs": [],
   "source": [
    "# doc string inside function\n",
    "\n",
    "def average(a,b):\n",
    "    '''This is a function which will will calculate average of two numbers'''\n",
    "    ave=(a+b)/2\n",
    "    return ave\n",
    "\n",
    "print(average(5,7))\n",
    "print(average.__doc__)\n",
    "    "
   ]
  },
  {
   "cell_type": "code",
   "execution_count": 3,
   "metadata": {},
   "outputs": [
    {
     "name": "stdout",
     "output_type": "stream",
     "text": [
      "enter first number\n",
      "2\n",
      "enter second number\n",
      "fdg\n",
      "invalid literal for int() with base 10: 'fdg'\n",
      "it is next code that we want to print \n"
     ]
    }
   ],
   "source": [
    "# Try except exception handling . if we run some code and it has some error but we need to run next code \n",
    "\n",
    "a=input ('enter first number\\n')\n",
    "b=input ('enter second number\\n')\n",
    "try:\n",
    "    print('sum of two number is ',int(a)+int(b))\n",
    "except Exception as e:\n",
    "    print(e)\n",
    "\n",
    "    \n",
    "print('it is next code that we want to print ')    "
   ]
  },
  {
   "cell_type": "code",
   "execution_count": null,
   "metadata": {},
   "outputs": [],
   "source": [
    "'''File io basic\n",
    "'r'----open file for reading--its a defualt mode\n",
    "'w'----open a file for writing \n",
    "'x'----creat file if not exists\n",
    "'a'----Add more content in file\n",
    "'t'----Text mode------its a defualt mode\n",
    "'b'----binary mode\n",
    "'+'----Read and write\n",
    "\n",
    "'''\n",
    "\n",
    "file=open('Ritesh.txt','rt')\n",
    "contant=file.read()\n",
    "print(contant)\n",
    "file.close()"
   ]
  },
  {
   "cell_type": "code",
   "execution_count": null,
   "metadata": {},
   "outputs": [],
   "source": [
    "# for loop in file \n",
    "file=open('Ritesh.txt','rt')\n",
    "for line in file:\n",
    "    print(line)"
   ]
  },
  {
   "cell_type": "code",
   "execution_count": null,
   "metadata": {},
   "outputs": [],
   "source": [
    "# readline function in file\n",
    "file=open('Ritesh.txt','rt')\n",
    "# print(file.readline())\n",
    "# print(file.readline())\n",
    "# print(file.readline())\n",
    "print(file.readlines())"
   ]
  },
  {
   "cell_type": "code",
   "execution_count": null,
   "metadata": {},
   "outputs": [],
   "source": [
    "# writing in file \n",
    "file=open('Ritesh.txt','w')#--------it will replace the contant of file \n",
    "file.write('one day Ritesh will become a very rich man')\n",
    "# file.close()"
   ]
  },
  {
   "cell_type": "code",
   "execution_count": null,
   "metadata": {},
   "outputs": [],
   "source": [
    "file=open('Ritesh.txt','rt')\n",
    "for i in file:\n",
    "    print(i)\n",
    "file.close()    "
   ]
  },
  {
   "cell_type": "code",
   "execution_count": null,
   "metadata": {},
   "outputs": [],
   "source": [
    "# if we want to append data in the same file \n",
    "file=open('Ritesh.txt','a')\n",
    "file.write('\\nHe is very good data scienctist\\n')"
   ]
  },
  {
   "cell_type": "code",
   "execution_count": null,
   "metadata": {},
   "outputs": [],
   "source": [
    "# for read and write the file\n",
    "file=open('Ritesh.txt','r+')\n",
    "print(file.read())\n",
    "file.write('Thank you')\n",
    "print(file.read())"
   ]
  },
  {
   "cell_type": "code",
   "execution_count": null,
   "metadata": {},
   "outputs": [],
   "source": [
    "#if we want to know file pointer\n",
    "file=open('Ritesh.txt','rt')\n",
    "print(file.readline())\n",
    "print(file.tell())\n",
    "\n",
    "print(file.readline())\n",
    "print(file.tell())\n",
    "\n"
   ]
  },
  {
   "cell_type": "code",
   "execution_count": null,
   "metadata": {},
   "outputs": [],
   "source": [
    "# if you dont want to close file its automaticly closed the file \n",
    "with open ('Ritesh.txt') as file:\n",
    "    a=file.read()\n",
    "    print(a)"
   ]
  },
  {
   "cell_type": "code",
   "execution_count": null,
   "metadata": {},
   "outputs": [],
   "source": [
    "print(contant)"
   ]
  },
  {
   "cell_type": "markdown",
   "metadata": {},
   "source": [
    "# Factorial function"
   ]
  },
  {
   "cell_type": "code",
   "execution_count": 7,
   "metadata": {},
   "outputs": [
    {
     "data": {
      "text/plain": [
       "120"
      ]
     },
     "execution_count": 7,
     "metadata": {},
     "output_type": "execute_result"
    }
   ],
   "source": [
    "def factorial(number):\n",
    "    fact=1\n",
    "    for i in range(number) :\n",
    "        fact=fact*(i+1)\n",
    "    return fact\n",
    "factorial(5)    "
   ]
  },
  {
   "cell_type": "code",
   "execution_count": 11,
   "metadata": {},
   "outputs": [
    {
     "ename": "RecursionError",
     "evalue": "maximum recursion depth exceeded in comparison",
     "output_type": "error",
     "traceback": [
      "\u001b[1;31m---------------------------------------------------------------------------\u001b[0m",
      "\u001b[1;31mRecursionError\u001b[0m                            Traceback (most recent call last)",
      "\u001b[1;32m<ipython-input-11-057747a861b3>\u001b[0m in \u001b[0;36m<module>\u001b[1;34m\u001b[0m\n\u001b[0;32m      6\u001b[0m \u001b[1;33m\u001b[0m\u001b[0m\n\u001b[0;32m      7\u001b[0m \u001b[1;33m\u001b[0m\u001b[0m\n\u001b[1;32m----> 8\u001b[1;33m \u001b[0mfactorial_recursive\u001b[0m\u001b[1;33m(\u001b[0m\u001b[1;36m5\u001b[0m\u001b[1;33m)\u001b[0m\u001b[1;33m\u001b[0m\u001b[1;33m\u001b[0m\u001b[0m\n\u001b[0m\u001b[0;32m      9\u001b[0m \u001b[1;33m\u001b[0m\u001b[0m\n\u001b[0;32m     10\u001b[0m \u001b[1;33m\u001b[0m\u001b[0m\n",
      "\u001b[1;32m<ipython-input-11-057747a861b3>\u001b[0m in \u001b[0;36mfactorial_recursive\u001b[1;34m(num)\u001b[0m\n\u001b[0;32m      3\u001b[0m         \u001b[1;32mreturn\u001b[0m \u001b[1;36m1\u001b[0m\u001b[1;33m\u001b[0m\u001b[1;33m\u001b[0m\u001b[0m\n\u001b[0;32m      4\u001b[0m     \u001b[1;32melse\u001b[0m\u001b[1;33m:\u001b[0m\u001b[1;33m\u001b[0m\u001b[1;33m\u001b[0m\u001b[0m\n\u001b[1;32m----> 5\u001b[1;33m         \u001b[1;32mreturn\u001b[0m \u001b[0mnum\u001b[0m \u001b[1;33m*\u001b[0m \u001b[0mfactorial_recursive\u001b[0m\u001b[1;33m(\u001b[0m\u001b[0mnum\u001b[0m\u001b[1;33m)\u001b[0m\u001b[1;33m\u001b[0m\u001b[1;33m\u001b[0m\u001b[0m\n\u001b[0m\u001b[0;32m      6\u001b[0m \u001b[1;33m\u001b[0m\u001b[0m\n\u001b[0;32m      7\u001b[0m \u001b[1;33m\u001b[0m\u001b[0m\n",
      "... last 1 frames repeated, from the frame below ...\n",
      "\u001b[1;32m<ipython-input-11-057747a861b3>\u001b[0m in \u001b[0;36mfactorial_recursive\u001b[1;34m(num)\u001b[0m\n\u001b[0;32m      3\u001b[0m         \u001b[1;32mreturn\u001b[0m \u001b[1;36m1\u001b[0m\u001b[1;33m\u001b[0m\u001b[1;33m\u001b[0m\u001b[0m\n\u001b[0;32m      4\u001b[0m     \u001b[1;32melse\u001b[0m\u001b[1;33m:\u001b[0m\u001b[1;33m\u001b[0m\u001b[1;33m\u001b[0m\u001b[0m\n\u001b[1;32m----> 5\u001b[1;33m         \u001b[1;32mreturn\u001b[0m \u001b[0mnum\u001b[0m \u001b[1;33m*\u001b[0m \u001b[0mfactorial_recursive\u001b[0m\u001b[1;33m(\u001b[0m\u001b[0mnum\u001b[0m\u001b[1;33m)\u001b[0m\u001b[1;33m\u001b[0m\u001b[1;33m\u001b[0m\u001b[0m\n\u001b[0m\u001b[0;32m      6\u001b[0m \u001b[1;33m\u001b[0m\u001b[0m\n\u001b[0;32m      7\u001b[0m \u001b[1;33m\u001b[0m\u001b[0m\n",
      "\u001b[1;31mRecursionError\u001b[0m: maximum recursion depth exceeded in comparison"
     ]
    }
   ],
   "source": [
    "def factorial_recursive(num):\n",
    "    if num==1:\n",
    "        return 1\n",
    "    else:\n",
    "        return num * factorial_recursive(num)\n",
    "\n",
    "\n",
    "factorial_recursive(5)    \n",
    " \n",
    "\n",
    "\n"
   ]
  },
  {
   "cell_type": "markdown",
   "metadata": {},
   "source": [
    "# Fibonacci"
   ]
  },
  {
   "cell_type": "code",
   "execution_count": 14,
   "metadata": {},
   "outputs": [
    {
     "name": "stdout",
     "output_type": "stream",
     "text": [
      "please enter a positive number for fibonacci \n",
      "6\n",
      "5\n"
     ]
    }
   ],
   "source": [
    "def fibonacci(num):\n",
    "    if num==1:\n",
    "        return 0\n",
    "    elif num==2:\n",
    "        return 1\n",
    "    else:\n",
    "        return fibonacci(num-1) + fibonacci(num-2)\n",
    "       \n",
    "num=int(input('please enter a positive number for fibonacci \\n'))\n",
    "print(fibonacci(num))\n",
    "\n"
   ]
  },
  {
   "cell_type": "markdown",
   "metadata": {},
   "source": [
    "# Lambda or anonymouse function"
   ]
  },
  {
   "cell_type": "code",
   "execution_count": null,
   "metadata": {},
   "outputs": [],
   "source": [
    "minus= lambda x,y : x-y\n",
    "\n",
    "minus(4,3)"
   ]
  },
  {
   "cell_type": "code",
   "execution_count": null,
   "metadata": {},
   "outputs": [],
   "source": [
    "a=[[30,50],[40,12],[50,1]]\n",
    "a.sort(key=lambda x:x[1])\n",
    "print(a)"
   ]
  },
  {
   "cell_type": "markdown",
   "metadata": {},
   "source": [
    "## Using python built in and external modual"
   ]
  },
  {
   "cell_type": "code",
   "execution_count": null,
   "metadata": {},
   "outputs": [],
   "source": [
    "import random\n",
    "\n",
    "random_int = random.randint(0,10)\n",
    "\n",
    "random_int"
   ]
  },
  {
   "cell_type": "code",
   "execution_count": null,
   "metadata": {},
   "outputs": [],
   "source": [
    "random_num = random.random() *20\n",
    "\n",
    "random_num"
   ]
  },
  {
   "cell_type": "code",
   "execution_count": null,
   "metadata": {},
   "outputs": [],
   "source": [
    "list3=['star plus','DD national','Aajtak',' Zee news']\n",
    "rand = random.choice(list3)\n",
    "rand"
   ]
  },
  {
   "cell_type": "code",
   "execution_count": null,
   "metadata": {},
   "outputs": [],
   "source": [
    "\n",
    "import platform\n",
    "x = platform.system()\n",
    "print(x)\n",
    "\n",
    "\n",
    "\n",
    "\n"
   ]
  },
  {
   "cell_type": "code",
   "execution_count": null,
   "metadata": {},
   "outputs": [],
   "source": [
    "import math\n",
    "square = math.sqrt(25)\n",
    "print(square)"
   ]
  },
  {
   "cell_type": "code",
   "execution_count": null,
   "metadata": {},
   "outputs": [],
   "source": [
    "\n",
    "import datetime\n",
    "time = datetime.datetime.now()\n",
    "print(time)"
   ]
  },
  {
   "cell_type": "markdown",
   "metadata": {},
   "source": [
    "# Converting text in to audio"
   ]
  },
  {
   "cell_type": "code",
   "execution_count": null,
   "metadata": {},
   "outputs": [],
   "source": [
    "pip install gtts"
   ]
  },
  {
   "cell_type": "code",
   "execution_count": null,
   "metadata": {},
   "outputs": [],
   "source": [
    "pip install playsound"
   ]
  },
  {
   "cell_type": "code",
   "execution_count": null,
   "metadata": {},
   "outputs": [],
   "source": [
    "\n",
    "from gtts import gTTS\n",
    "from playsound import playsound\n",
    "def play_audio(path_of_audio):\n",
    "    playsound(path_of_audio)\n",
    "def conver_to_audio(text):\n",
    "    my_audio=gTTS(text)\n",
    "    my_audio.save(\"Ram.mp3\")\n",
    "    play_audio(\"Ram.mp3\")\n",
    "conver_to_audio(\"rishi ek acha bacha hai or wo pdhai bahut acha se karta hai or puja bhi karta hai or dadi ke sath sota hai\")"
   ]
  },
  {
   "cell_type": "code",
   "execution_count": null,
   "metadata": {},
   "outputs": [],
   "source": [
    "play_audio(\"Rishi.mp3\")"
   ]
  },
  {
   "cell_type": "markdown",
   "metadata": {},
   "source": [
    "# F string"
   ]
  },
  {
   "cell_type": "code",
   "execution_count": null,
   "metadata": {},
   "outputs": [],
   "source": [
    "import math\n",
    "ram='Ram is a good boy '\n",
    "shoes='he has 2 nos of shoes'\n",
    "all=(f'{ram} {shoes}  {math.tan(60)}')\n",
    "all"
   ]
  },
  {
   "cell_type": "markdown",
   "metadata": {},
   "source": [
    "# Snake water gun Game"
   ]
  },
  {
   "cell_type": "code",
   "execution_count": null,
   "metadata": {},
   "outputs": [],
   "source": [
    "import random\n",
    "number_of_chance=0\n",
    "chance=10\n",
    "rank=0\n",
    "computer=0\n",
    "while number_of_chance < chance:\n",
    "   \n",
    "    all=['snake','water','gun']\n",
    "    rand=random.choice(all)\n",
    "    print('welcome to snake water Gun game ')\n",
    "    choice=input('Please select in between snake,water,gun ')\n",
    "    if choice==rand:\n",
    "        print('Tie both 0 point to each \\n'')   \n",
    "        \n",
    "    elif rand=='water' and choice == 'snake'\n",
    "                \n",
    "        print(f'you loss this roud try again: computer score is {computer} ')     \n",
    "            \n",
    "    no_of_chance = no_of_chance + 1\n",
    "    print(f\"{number_of_chance} is left out of {chance} \\n\")\n",
    "\n",
    "print(\"Game over\")\n",
    "\n",
    "if computer > rank:\n",
    "    print(\"Computer wins and you loose\")\n",
    "\n",
    "if computer < rank:\n",
    "    print(\"you win and computer loose\")\n",
    "\n",
    "print(f\"your point is {rank} and computer point is {computer}\")\n",
    "\n",
    "      \n",
    "        "
   ]
  },
  {
   "cell_type": "code",
   "execution_count": null,
   "metadata": {},
   "outputs": [],
   "source": [
    "# Snake water gun\n",
    "\n",
    "import random\n",
    "lst = ['s','w','g']\n",
    "\n",
    "chance = 10\n",
    "no_of_chance = 0\n",
    "computer_point = 0\n",
    "human_point = 0\n",
    "\n",
    "print(\" \\t \\t \\t \\t Snake,Water,Gun Game\\n \\n\")\n",
    "print(\"s for snake \\nw for water \\ng for gun \\n\")\n",
    "\n",
    "# making the game in while\n",
    "while no_of_chance < chance:\n",
    "    _input = input('Snake,Water,Gun:')\n",
    "    _random = random.choice(lst)\n",
    "\n",
    "    if _input == _random:\n",
    "        print(\"Tie Both 0 point to each \\n \")\n",
    "\n",
    "    # if user enter s\n",
    "    elif _input == \"s\" and _random == \"g\":\n",
    "        computer_point = computer_point + 1\n",
    "        print(f\"your guess {_input} and computer guess is {_random} \\n\")\n",
    "        print(\"computer wins 1 point \\n\")\n",
    "        print(f\"computer_point is {computer_point} and your point is {human_point} \\n \")\n",
    "\n",
    "    elif _input == \"s\" and _random == \"w\":\n",
    "        human_point = human_point + 1\n",
    "        print(f\"your guess {_input} and computer guess is {_random} \\n\")\n",
    "        print(\"Human wins 1 point \\n\")\n",
    "        print(f\"computer_point is {computer_point} and your point is {human_point} \\n\")\n",
    "\n",
    "    # if user enter w\n",
    "    elif _input == \"w\" and _random == \"s\":\n",
    "        computer_point = computer_point + 1\n",
    "        print(f\"your guess {_input} and computer guess is {_random} \\n\")\n",
    "        print(\"computer wins 1 point \\n\")\n",
    "        print(f\"computer_point is {computer_point} and your point is {human_point} \\n \")\n",
    "\n",
    "    elif _input == \"w\" and _random == \"g\":\n",
    "        human_point = human_point + 1\n",
    "        print(f\"your guess {_input} and computer guess is {_random} \\n\")\n",
    "        print(\"Human wins 1 point \\n\")\n",
    "        print(f\"computer_point is {computer_point} and your point is {human_point} \\n\")\n",
    "\n",
    "    # if user enter g\n",
    "\n",
    "    elif _input == \"g\" and _random == \"s\":\n",
    "        human_point = human_point + 1\n",
    "        print(f\"your guess {_input} and computer guess is {_random} \\n\")\n",
    "        print(\"Human wins 1 point \\n\")\n",
    "        print(f\"computer_point is {computer_point} and your point is {human_point} \\n\")\n",
    "\n",
    "\n",
    "    elif _input == \"g\" and _random == \"w\":\n",
    "        computer_point = computer_point + 1\n",
    "        print(f\"your guess {_input} and computer guess is {_random} \\n\")\n",
    "        print(\"computer wins 1 point \\n\")\n",
    "        print(f\"computer_point is {computer_point} and your point is {human_point} \\n \")\n",
    "\n",
    "    else:\n",
    "        print(\"you have input wrong \\n\")\n",
    "\n",
    "    no_of_chance = no_of_chance + 1\n",
    "    print(f\"{chance - no_of_chance} is left out of {chance} \\n\")\n",
    "\n",
    "print(\"Game over\")\n",
    "\n",
    "if computer_point==human_point:\n",
    "    print(\"Tie\")\n",
    "\n",
    "elif computer_point > human_point:\n",
    "    print(\"Computer wins and you loose\")\n",
    "\n",
    "else:\n",
    "    print(\"you win and computer loose\")\n",
    "\n",
    "print(f\"your point is {human_point} and computer point is {computer_point}\")"
   ]
  },
  {
   "cell_type": "markdown",
   "metadata": {},
   "source": [
    "# *args"
   ]
  },
  {
   "cell_type": "code",
   "execution_count": null,
   "metadata": {},
   "outputs": [],
   "source": [
    "def funargs(normal,*args):#-------  it's necessary to pass normal argument first and then we pass *args and then **kwargs\n",
    "    print(normal)\n",
    "    for i in args:\n",
    "        print(i)\n",
    "        \n",
    "        \n",
    "normal1=\"These peoples are our super heroes\\n\" \n",
    "\n",
    "list1=['Ritesh','Atish','Manoj','Hamant','Susant','Fansar']#--Hare we can add data as much as we want    \n",
    "\n",
    "print(funargs(normal1,*list1))\n",
    "    "
   ]
  },
  {
   "cell_type": "markdown",
   "metadata": {},
   "source": [
    "# **kwargs"
   ]
  },
  {
   "cell_type": "code",
   "execution_count": null,
   "metadata": {},
   "outputs": [],
   "source": [
    "def funargs(normal,*args,**kwargs):#-------  it's necessary to pass normal argument first and then we pass *args and then **kwargs\n",
    "    print(normal)\n",
    "    for i in args:\n",
    "        print(i)\n",
    "    print(\"\\nOur School Some Details\\n\")\n",
    "    \n",
    "    for key,value in kwargs.items():\n",
    "        print(f'{key} is a {value}')\n",
    "        \n",
    "nor=\"These peoples are our super heroes\\n\" \n",
    "\n",
    "list1=['Ritesh','Atish','Manoj','Hamant','Susant','Fansar']  \n",
    "class1={'Rohan':\"class Teacher\",'Sridhar':'Monitor',\"susan\":\"Head Master\",'Rupesh':'Topper'} #--Hare we can add data as much as we want \n",
    "\n",
    "print(funargs(nor,*list1,**class1))"
   ]
  },
  {
   "cell_type": "code",
   "execution_count": null,
   "metadata": {},
   "outputs": [],
   "source": [
    "# def function_name_print(a, b, c, d, e):\n",
    "#     print(a, b, c, d, e)\n",
    "\n",
    "def funargs(normal, *argsrohan, **kwargsbala):\n",
    "    print(normal)\n",
    "    for item in argsrohan:\n",
    "        print(item)\n",
    "    print(\"\\nNow I would Like to introduce some of our heroes\")\n",
    "    for key, value in kwargsbala.items():\n",
    "        print(f\"{key} is a {value}\")\n",
    "\n",
    "\n",
    "# function_name_print(\"Harry\", \"Rohan\", \"Skillf\", \"Hammad\", \"Shivam\")\n",
    "\n",
    "har = [\"Harry\", \"Rohan\", \"Skillf\", \"Hammad\",\n",
    "       \"Shivam\", \"The programmer\"]\n",
    "normal = \"I am a normal Argument and the students are:\"\n",
    "kw = {\"Rohan\":\"Monitor\", \"Harry\":\"Fitness Instructor\",\n",
    "      \"The Programmer\": \"Coordinator\", \"Shivam\":\"Cook\"}\n",
    "funargs(normal, *har, **kw)\n",
    "  "
   ]
  },
  {
   "cell_type": "markdown",
   "metadata": {},
   "source": [
    "# Time Modual in Python"
   ]
  },
  {
   "cell_type": "code",
   "execution_count": null,
   "metadata": {},
   "outputs": [],
   "source": [
    "# if we want to know which program run fastly then we use time modual\n",
    "\n",
    "import time\n",
    "initial = time.time()\n",
    "k=0\n",
    "while (k<45):\n",
    "    print('Ritesh is a good Data scientist',k)\n",
    "    k+=1\n",
    "print('while loop ran in ',initial - time.time(),'seconds')\n",
    "\n",
    "\n",
    "initial2 = time.time()\n",
    "for i in range(45):\n",
    "    print('Ritesh is a good Data scientist',i)\n",
    "print('For loop ran in ',initial2 - time.time(),'seconds')    "
   ]
  },
  {
   "cell_type": "code",
   "execution_count": null,
   "metadata": {},
   "outputs": [],
   "source": [
    "import time\n",
    "localtime=time.asctime(time.localtime(time.time()))\n",
    "localtime"
   ]
  },
  {
   "cell_type": "code",
   "execution_count": null,
   "metadata": {},
   "outputs": [],
   "source": [
    "# Time.sleep \n",
    "import time\n",
    "initial = time.time()\n",
    "k=0\n",
    "while (k<45):\n",
    "    time.sleep(2)#--------it will print data in every 2 sec\n",
    "    print('Ritesh is a good Data scientist',k)\n",
    "    k+=1"
   ]
  },
  {
   "cell_type": "markdown",
   "metadata": {},
   "source": [
    "# Virtual Environment & Requirements.txt"
   ]
  },
  {
   "cell_type": "code",
   "execution_count": null,
   "metadata": {},
   "outputs": [],
   "source": [
    "# learn VEN in d drive harry holder"
   ]
  },
  {
   "cell_type": "markdown",
   "metadata": {},
   "source": [
    "# Enumerate function\n"
   ]
  },
  {
   "cell_type": "code",
   "execution_count": null,
   "metadata": {},
   "outputs": [],
   "source": [
    "vegetable=['aalo','tomato','onion','geera']\n",
    "\n",
    "i=1\n",
    "for item in vegetable:\n",
    "    if i%2 is not 0:\n",
    "        print(item)\n",
    "    i+=1\n",
    "    \n",
    "    "
   ]
  },
  {
   "cell_type": "code",
   "execution_count": null,
   "metadata": {},
   "outputs": [],
   "source": [
    "vegetable=['aalo','tomato','onion','geera']\n",
    "\n",
    "for index,items in enumerate(vegetable) :\n",
    "    if index % 2 ==0 :\n",
    "        \n",
    "        print(items)\n",
    "    "
   ]
  },
  {
   "cell_type": "markdown",
   "metadata": {},
   "source": [
    "# Scope, Global Variables and Global Keyword"
   ]
  },
  {
   "cell_type": "code",
   "execution_count": null,
   "metadata": {},
   "outputs": [],
   "source": [
    "# l = 10 # Global\n",
    "#\n",
    "# def function1(n):\n",
    "#     # l = 5 #Local\n",
    "#     m = 8 #Local\n",
    "#     global l\n",
    "#     l = l + 45\n",
    "#     print(l, m)\n",
    "#     print(n, \"I have printed\")\n",
    "#\n",
    "# function1(\"This is me\")\n",
    "# # print(m)\n",
    "\n",
    "x = 89\n",
    "def harry():\n",
    "    x = 20\n",
    "    def rohan():\n",
    "        global x\n",
    "        x = 88\n",
    "    # print(\"before calling rohan()\", x)\n",
    "    rohan()\n",
    "    print(\"after calling rohan()\", x)\n",
    "\n",
    "harry()\n",
    "print(x)"
   ]
  },
  {
   "cell_type": "markdown",
   "metadata": {},
   "source": [
    "# How Import Works In Python?"
   ]
  },
  {
   "cell_type": "code",
   "execution_count": null,
   "metadata": {},
   "outputs": [],
   "source": [
    "import sklearn as sk\n",
    "\n",
    "print(sk.__version__)#--------it will show sklearn version"
   ]
  },
  {
   "cell_type": "code",
   "execution_count": null,
   "metadata": {},
   "outputs": [],
   "source": [
    "import sys\n",
    "print(sys.path)#-------------python import modual from here,it is a path of all moduals"
   ]
  },
  {
   "cell_type": "code",
   "execution_count": null,
   "metadata": {},
   "outputs": [],
   "source": [
    "from sklearn.ensemble import RandomForestClassifier\n",
    "print(RandomForestClassifier())\n",
    "\n",
    "\n",
    "\n"
   ]
  },
  {
   "cell_type": "markdown",
   "metadata": {},
   "source": [
    "# If __name__==__main__ usage & necessity"
   ]
  },
  {
   "cell_type": "code",
   "execution_count": null,
   "metadata": {},
   "outputs": [],
   "source": [
    "https://www.youtube.com/watch?v=Gy74MjEpnYw&list=PLu0W_9lII9agICnT8t4iYVSZ3eykIAOME&index=47 go though in this link and watch"
   ]
  },
  {
   "cell_type": "markdown",
   "metadata": {},
   "source": [
    "# Join Function In Python\n"
   ]
  },
  {
   "cell_type": "code",
   "execution_count": null,
   "metadata": {},
   "outputs": [],
   "source": [
    "join_list=['Jon','Shahrukh','Salman','Himesh','Govinda','Hrithik','ajay']\n",
    "\n",
    "for name in join_list:\n",
    "    print(name , 'bollywoodstar',end=\" \")\n",
    "print('these are superb actors*************')    "
   ]
  },
  {
   "cell_type": "code",
   "execution_count": null,
   "metadata": {},
   "outputs": [],
   "source": [
    "join_list=['Jon','Shahrukh','Salman','Himesh','Govinda','Hrithik','ajay']\n",
    "\n",
    "a=\" bollywoodstar \".join(join_list)\n",
    "print(a)\n",
    "print('these are superb actors*************')"
   ]
  },
  {
   "cell_type": "markdown",
   "metadata": {},
   "source": [
    "# Map, Filter & Reduce"
   ]
  },
  {
   "cell_type": "code",
   "execution_count": null,
   "metadata": {},
   "outputs": [],
   "source": [
    "number = ['23','25','27','45']\n",
    "for i in range (len(number)): \n",
    "     number[i] = int(number[i])\n",
    "\n",
    "number[2] = number[2] + 3\n",
    "\n",
    "number[2]\n",
    "    \n",
    "    "
   ]
  },
  {
   "cell_type": "code",
   "execution_count": null,
   "metadata": {},
   "outputs": [],
   "source": [
    "#Map\n",
    "\n",
    "number = ['23','25','27','45']\n",
    "\n",
    "number= list(map(int,number))\n",
    "\n",
    "number[3] = number[3] + 3\n",
    "\n",
    "number[3]"
   ]
  },
  {
   "cell_type": "code",
   "execution_count": null,
   "metadata": {},
   "outputs": [],
   "source": [
    "# Map using def function\n",
    "\n",
    "def squre(s):\n",
    "    return s*s \n",
    "\n",
    "number = [2,4,5,3,4,6,7,8,9,21,23]\n",
    "sq = list(map(squre,number))\n",
    "\n",
    "sq    "
   ]
  },
  {
   "cell_type": "code",
   "execution_count": null,
   "metadata": {},
   "outputs": [],
   "source": [
    "# Map using lamda\n",
    "\n",
    "number2 = [2,4,5,3,4,6,7,8,9,21,23]\n",
    "sqr = list(map(lambda x:x*x,number2))\n",
    "sqr\n"
   ]
  },
  {
   "cell_type": "code",
   "execution_count": null,
   "metadata": {},
   "outputs": [],
   "source": [
    "3*3*3"
   ]
  },
  {
   "cell_type": "code",
   "execution_count": null,
   "metadata": {},
   "outputs": [],
   "source": [
    "# it will print all list numbers squre and cube\n",
    "\n",
    "\n",
    "def squre(a):\n",
    "    return a*a\n",
    "\n",
    "def cube(b):\n",
    "    return b*b*b\n",
    "\n",
    "fun=[squre,cube]\n",
    "\n",
    "number5 = [0,2,4,5,3,4,6,7,8,9,21,23]\n",
    "\n",
    "for i in number5:\n",
    "    final=list(map(lambda x:x(i),fun))\n",
    "    print(final)\n",
    "\n"
   ]
  },
  {
   "cell_type": "code",
   "execution_count": null,
   "metadata": {},
   "outputs": [],
   "source": [
    "# Filter function\n",
    "\n",
    "list3=[1,2,3,4,5,6,7,89,7,87,8,3,4,56,71]\n",
    "\n",
    "def number_5(g):\n",
    "    return g > 5\n",
    "\n",
    "file = list(filter(number_5,list3))\n",
    "print(file)\n"
   ]
  },
  {
   "cell_type": "code",
   "execution_count": null,
   "metadata": {},
   "outputs": [],
   "source": [
    "lis=[1,2,3,4,6,7,8]\n",
    "sum(lis)\n",
    "\n"
   ]
  },
  {
   "cell_type": "code",
   "execution_count": null,
   "metadata": {},
   "outputs": [],
   "source": [
    "lis=[1,2,3,4,6,7,8]\n",
    "\n",
    "total=0\n",
    "\n",
    "for i in lis:\n",
    "    total+=i\n",
    "print(total)    \n",
    "    \n",
    "    "
   ]
  },
  {
   "cell_type": "code",
   "execution_count": null,
   "metadata": {},
   "outputs": [],
   "source": [
    "## Use reduce function\n",
    "\n",
    "from functools import reduce \n",
    "\n",
    "ls=[1,2,3,4,6,7,8]\n",
    "\n",
    "summ =reduce(lambda x,y :(x+y),ls)\n",
    "summ"
   ]
  },
  {
   "cell_type": "markdown",
   "metadata": {},
   "source": [
    "\n",
    "### Exercise----Healthy Programmer\n",
    "### 9am - 5pm\n",
    "### Water - water.mp3 (3.5 litres) - Drank - log\n",
    "### Eyes - eyes.mp3 - every 30 min - EyDone - log\n",
    "### Physical activity - physical.mp3 every - 45 min - ExDone - log\n",
    "\n",
    "### Rules\n",
    "### Pygame module to play audio\n",
    "\n"
   ]
  },
  {
   "cell_type": "code",
   "execution_count": null,
   "metadata": {},
   "outputs": [],
   "source": [
    "import pygame\n",
    "from pygame import mixer\n",
    "from datetime import datetime\n",
    "from time import time\n",
    "\n",
    "def musiconlopp(file,stopper):\n",
    "    mixer.init()\n",
    "    mixer.music.load(file)\n",
    "    mixer.music.play()\n",
    "    while True:\n",
    "        a=input()\n",
    "        if a==stopper:\n",
    "            mixer.music.stop()\n",
    "            break\n",
    "\n",
    "def log_now(massage):\n",
    "    with open('mylog.txt','a') as f:\n",
    "        f.write(f'{massage} {datetime.now()}\\n')\n",
    "                \n",
    "if __name__ == \"__main__\":\n",
    "                \n",
    "                init_water = time()\n",
    "                init_eye = time()\n",
    "                init_exercise = time()\n",
    "                watersecs=5\n",
    "                eyesecs=20\n",
    "                exsecs=15\n",
    "                \n",
    "                while True:\n",
    "                    if time() - init_water >  watersecs:\n",
    "                        print('Water Drinking time .Enter drank to stop the alarm')\n",
    "                        musiconlopp('water2.mp3','drank')\n",
    "                        init_water = time()\n",
    "                        log_now('Drank water at')\n",
    "                        \n",
    "                    if time() - init_eye >  eyesecs:\n",
    "                        print('Eye Exercise time .Enter doneeyes to stop the alarm')\n",
    "                        musiconlopp('eye.mp3','doneeyes')\n",
    "                        init_eye = time()\n",
    "                        log_now('Eye relaxed at')  \n",
    "                        \n",
    "                        \n",
    "                    if time() - init_exercise >  exsecs:\n",
    "                        print('Physical Activity time .Enter donephy to stop the alarm')\n",
    "                        musiconlopp('exercise.mp3','donephy')\n",
    "                        init_exercise = time()\n",
    "                        log_now('Physical Activity done at')   \n",
    "                           \n",
    "                 \n",
    "                                          \n",
    "    \n",
    "    \n",
    "                \n",
    "  \n"
   ]
  },
  {
   "cell_type": "code",
   "execution_count": null,
   "metadata": {},
   "outputs": [],
   "source": [
    "import datetime\n",
    "import pygame\n",
    "\n",
    "pygame.init()\n",
    "\n",
    "# costmizable variables\n",
    "water = 'water.mp3'\n",
    "eyes = 'eyes.mp3'\n",
    "physical = 'physical.mp3'\n",
    "\n",
    "input_name = input(\"Please input your name:\")\n",
    "\n",
    "print(f\"{input_name.capitalize()} welecome to the office\")\n",
    "\n",
    "file = input_name\n",
    "\n",
    "water_alarm = 1 # minutes\n",
    "eyes_alarm = 1.5 # minutes\n",
    "physical_alarm = 2 # minutes\n",
    "\n",
    "\n",
    "# non-costimizable variables\n",
    "ex = True\n",
    "d = datetime.datetime.now()\n",
    "water_timer = d.minute + water_alarm\n",
    "eyes_timer = d.minute + eyes_alarm\n",
    "physical_timer = d.minute + physical_alarm\n",
    "\n",
    "_file = open(file,'a')\n",
    "\n",
    "print(d)\n",
    "while ex!= False:\n",
    "    new_d = datetime.datetime.now()\n",
    "\n",
    "    if water_timer >= 60 or eyes_timer >= 60 or physical_timer >= 60:\n",
    "        if water_timer >= 60:\n",
    "            water_timer = water_timer - 60\n",
    "            d = datetime.datetime.now()\n",
    "            minute = d.minute\n",
    "\n",
    "        if eyes_timer >= 60:\n",
    "            eyes_timer = eyes_timer - 60\n",
    "            d = datetime.datetime.now()\n",
    "            minute = d.minute\n",
    "\n",
    "        if physical_timer >= 60:\n",
    "            physical_timer = physical_timer - 60\n",
    "            d = datetime.datetime.now()\n",
    "            minute = d.minute\n",
    "    else:\n",
    "        if new_d.minute == physical_timer and new_d.minute == water_timer:\n",
    "            print(\"Drink water and then do physical\",new_d)\n",
    "\n",
    "            pygame.mixer.music.load(water)\n",
    "            pygame.mixer.music.play()\n",
    "\n",
    "            _input4 = input()\n",
    "\n",
    "            if _input4.lower() == \"drank\":\n",
    "                _file.write(f\"Drank Water at {datetime.datetime.now()} \\n \\n\")\n",
    "                pygame.mixer.music.stop()\n",
    "\n",
    "            pygame.mixer.music.load(physical)\n",
    "            pygame.mixer.music.play()\n",
    "\n",
    "            _input5 = input()\n",
    "            if _input5.lower() == \"pydone\":\n",
    "                pygame.mixer.music.stop()\n",
    "                _file.write(f\"Physical Exercise done at {datetime.datetime.now()} \\n \\n\")\n",
    "                d = datetime.datetime.now()\n",
    "                eyes_timer = d.minute + eyes_alarm\n",
    "                water_timer = d.minute + water_alarm\n",
    "                physical_timer = d.minute + physical_alarm\n",
    "\n",
    "\n",
    "        elif new_d.minute == physical_timer and new_d.minute == eyes_timer:\n",
    "            print(\"First do eyes exercise and then do physical\")\n",
    "\n",
    "            pygame.mixer.music.load(water)\n",
    "            pygame.mixer.music.play()\n",
    "\n",
    "            _input6 = input()\n",
    "\n",
    "            if _input6.lower() == \"eydone\":\n",
    "                _file.write(f\"Eye Exercise done at {datetime.datetime.now()} \\n \\n \")\n",
    "                pygame.mixer.music.stop()\n",
    "\n",
    "            pygame.mixer.music.load(physical)\n",
    "            pygame.mixer.music.play()\n",
    "\n",
    "            _input7 = input()\n",
    "            if _input7.lower() == \"pydone\":\n",
    "                pygame.mixer.music.stop()\n",
    "                _file.write(f\"Physical Exercise done at {datetime.datetime.now()} \\n \\n\")\n",
    "\n",
    "                d = datetime.datetime.now()\n",
    "                eyes_timer = d.minute + eyes_alarm\n",
    "                water_timer = d.minute + water_alarm\n",
    "                physical_timer = d.minute + physical_alarm\n",
    "\n",
    "\n",
    "\n",
    "        elif new_d.minute == water_timer and new_d.minute == eyes_timer:\n",
    "            print(\"Drink water and then do eyes exercise\")\n",
    "\n",
    "            pygame.mixer.music.load(water)\n",
    "            pygame.mixer.music.play()\n",
    "\n",
    "            _input8 = input()\n",
    "\n",
    "            if _input8.lower() == \"eydone\":\n",
    "                _file.write(f\"Eye Exercise done at {datetime.datetime.now()} \\n \\n\")\n",
    "                pygame.mixer.music.stop()\n",
    "\n",
    "            pygame.mixer.music.load(physical)\n",
    "            pygame.mixer.music.play()\n",
    "\n",
    "            _input9 = input()\n",
    "            if _input9.lower() == \"drank\":\n",
    "                pygame.mixer.music.stop()\n",
    "                _file.write(f\"Drank Water at {datetime.datetime.now()} \\n \\n \")\n",
    "                d = datetime.datetime.now()\n",
    "                eyes_timer = d.minute + eyes_alarm\n",
    "                water_timer = d.minute + water_alarm\n",
    "                physical_timer = d.minute + physical_alarm\n",
    "\n",
    "        elif new_d.minute == water_timer:\n",
    "            print(\"Please drank water\",new_d)\n",
    "            pygame.mixer.music.load(water)\n",
    "            pygame.mixer.music.play()\n",
    "\n",
    "            _input = input()\n",
    "\n",
    "            if _input.lower() == \"drank\":\n",
    "                pygame.mixer.music.stop()\n",
    "                _file.write(f\"Drank Water at {datetime.datetime.now()} \\n \\n\")\n",
    "                water_timer = d.minute + water_alarm\n",
    "\n",
    "        elif new_d.minute == eyes_timer:\n",
    "            print(\"Please do eyes exercise\",new_d)\n",
    "            pygame.mixer.music.load(eyes)\n",
    "            pygame.mixer.music.play()\n",
    "\n",
    "            _input2 = input()\n",
    "\n",
    "            if _input2.lower() == \"eydone\":\n",
    "                pygame.mixer.music.stop()\n",
    "                _file.write(f\"Eye Exercise done at {datetime.datetime.now()} \\n \\n\")\n",
    "                eyes_timer = d.minute + eyes_alarm\n",
    "\n",
    "        elif new_d.minute == physical_timer:\n",
    "            print(\"Please do physical exercise\",new_d)\n",
    "            pygame.mixer.music.load(physical)\n",
    "            pygame.mixer.music.play()\n",
    "\n",
    "            _input3 = input()\n",
    "\n",
    "            if _input3.lower() == \"pydone\":\n",
    "                pygame.mixer.music.stop()\n",
    "                _file.write(f\"Physical Exercise done at {datetime.datetime.now()} \\n \\n\")\n",
    "                d = datetime.datetime.now()\n",
    "                eyes_timer = d.minute + eyes_alarm\n",
    "                water_timer = d.minute + water_alarm\n",
    "                physical_timer = d.minute + physical_alarm\n",
    "\n",
    "\n",
    "\n",
    "_file.close()"
   ]
  },
  {
   "cell_type": "markdown",
   "metadata": {},
   "source": [
    "# Decorators In Python"
   ]
  },
  {
   "cell_type": "code",
   "execution_count": null,
   "metadata": {},
   "outputs": [],
   "source": [
    "def function():\n",
    "    return 'decorator'\n",
    "\n",
    "fuction2=function\n",
    "\n",
    "del function\n",
    "fuction2()"
   ]
  },
  {
   "cell_type": "code",
   "execution_count": null,
   "metadata": {},
   "outputs": [],
   "source": [
    "def funcreat(num):\n",
    "    if num==0:\n",
    "        return print\n",
    "    if num==1:\n",
    "        return sum\n",
    "\n",
    "funcreat(1)    "
   ]
  },
  {
   "cell_type": "code",
   "execution_count": null,
   "metadata": {},
   "outputs": [],
   "source": [
    "def executor(func):\n",
    "    return func('this')\n",
    "\n",
    "executor(print)\n"
   ]
  },
  {
   "cell_type": "code",
   "execution_count": null,
   "metadata": {},
   "outputs": [],
   "source": [
    "# Decorator\n",
    "\n",
    "def dec1(func1):\n",
    "    def nowexec():\n",
    "        print('Executing now')\n",
    "        func1()\n",
    "        print('Executed')\n",
    "    return nowexec\n",
    "    \n",
    "@dec1    \n",
    "def who():\n",
    "    print('Ritesh is a good boy') \n",
    "    \n",
    "# who = dec1(who) \n",
    "who()\n",
    "\n",
    "    \n"
   ]
  },
  {
   "cell_type": "code",
   "execution_count": null,
   "metadata": {},
   "outputs": [],
   "source": [
    "def dec1(func1):\n",
    "    def nowexec():\n",
    "        print(\"Executing now\")\n",
    "        func1()\n",
    "        print(\"Executed\")\n",
    "    return nowexec\n",
    "\n",
    "\n",
    "def who_is_harry():\n",
    "    print(\"Harry is a good boy\")\n",
    "\n",
    "who_is_harry = dec1(who_is_harry)\n",
    "\n",
    "who_is_harry()"
   ]
  },
  {
   "cell_type": "code",
   "execution_count": null,
   "metadata": {},
   "outputs": [],
   "source": [
    "def who_is_Ritesh():\n",
    "    print('Ritesh is a good boy') \n",
    "    \n",
    "    \n",
    "who_is_Ritesh()    "
   ]
  },
  {
   "cell_type": "markdown",
   "metadata": {},
   "source": [
    "# OOP(Object Oriented Programing )"
   ]
  },
  {
   "cell_type": "code",
   "execution_count": null,
   "metadata": {},
   "outputs": [],
   "source": [
    "# classes--Template\n",
    "# object -- Instance of class\n",
    "# DRY --- Do not Repeat yourself"
   ]
  },
  {
   "cell_type": "code",
   "execution_count": null,
   "metadata": {},
   "outputs": [],
   "source": [
    "class student:\n",
    "    pass\n",
    "Ritesh=student()\n",
    "Manoj=student()\n",
    "\n",
    "print(Ritesh,Manoj)#------both are have diffrent address"
   ]
  },
  {
   "cell_type": "code",
   "execution_count": null,
   "metadata": {},
   "outputs": [],
   "source": [
    "class student:\n",
    "    pass\n",
    "Ritesh=student() #-------instance of class\n",
    "Manoj=student() #-------instance of class\n",
    "\n",
    "Ritesh.name='Ritesh'    #------------instance variable\n",
    "Ritesh.std = '12th'      #------------instance variable\n",
    "Ritesh.subject = 'Math'  #------------instance variable\n",
    "Manoj.subject = ['Math','History','Science']  #------------instance variable\n",
    "print(Ritesh.name,Manoj.subject)"
   ]
  },
  {
   "cell_type": "markdown",
   "metadata": {},
   "source": [
    "# Instance & Class Variables"
   ]
  },
  {
   "cell_type": "code",
   "execution_count": null,
   "metadata": {},
   "outputs": [],
   "source": [
    "class Employee:\n",
    "    no_of_leave = 8 #------------------class variable\n",
    "    \n",
    "   \n",
    "    \n",
    "Harry=Employee()\n",
    "Rohan=Employee()\n",
    "\n",
    "Harry.name = 'Harry'\n",
    "Harry.salary = '40000'\n",
    "Harry.role ='Engineer'\n",
    "\n",
    "Rohan.name = 'Rohan'\n",
    "Rohan.salary = '50000'\n",
    "Rohan.role ='Sr.Engineer'\n",
    "\n",
    "print(Employee.no_of_leave)\n",
    "Harry.no_of_leave =20         #---------you can't change class variable through Instance\n",
    "print(Employee.no_of_leave)\n",
    "\n",
    "\n"
   ]
  },
  {
   "cell_type": "code",
   "execution_count": null,
   "metadata": {},
   "outputs": [],
   "source": [
    "# if you want to change class variable \n",
    "\n",
    "# class Employee:\n",
    "#     no_of_leave = 8  #------------------class variable\n",
    "    \n",
    "   \n",
    "    \n",
    "# Harry=Employee()\n",
    "# Rohan=Employee()\n",
    "\n",
    "# Harry.name = 'Harry'\n",
    "# Harry.salary = '40000'\n",
    "# Harry.role ='Engineer'\n",
    "\n",
    "# Rohan.name = 'Rohan'\n",
    "# Rohan.salary = '50000'\n",
    "# Rohan.role ='Sr.Engineer'\n",
    "\n",
    "# print(Employee.no_of_leave)\n",
    "# Employee.no_of_leave =20         #---------though Employee only you can change class variable \n",
    "# print(Employee.no_of_leave)\n",
    "# print(Harry.no_of_leave)\n",
    "\n"
   ]
  },
  {
   "cell_type": "markdown",
   "metadata": {},
   "source": [
    "# Self & __init__() (Constructors) "
   ]
  },
  {
   "cell_type": "code",
   "execution_count": null,
   "metadata": {},
   "outputs": [],
   "source": [
    "# self constructor\n",
    "\n",
    "class Employee:\n",
    "    leave = 8\n",
    "    \n",
    "    def printdetailsin(self):\n",
    "        return f'Name is {self.name}. salary is {self.salary} and role is {self.role}'\n",
    "    \n",
    "    \n",
    "Harry=Employee()\n",
    "Rohan=Employee()\n",
    "\n",
    "Harry.name = 'Harry'\n",
    "Harry.salary = '40000'\n",
    "Harry.role ='Engineer'\n",
    "\n",
    "Rohan.name = 'Rohan'\n",
    "Rohan.salary = '50000'\n",
    "Rohan.role ='Sr.Engineer'\n",
    "\n",
    "print(Rohan.printdetailsin())\n",
    "    "
   ]
  },
  {
   "cell_type": "code",
   "execution_count": null,
   "metadata": {},
   "outputs": [],
   "source": [
    "# __init__ constructor\n",
    "\n",
    "class Employee:\n",
    "    no_of_leaves = 8\n",
    "\n",
    "    def __init__(self, aname, asalary, arole):\n",
    "        self.name = aname\n",
    "        self.salary = asalary\n",
    "        self.role = arole\n",
    "\n",
    "    def printdetails(self):\n",
    "        return f\"The Name is {self.name}. Salary is {self.salary} and role is {self.role}\"\n",
    "\n",
    "\n",
    "harry = Employee(\"Harry\", 255, \"Instructor\")\n",
    "\n",
    "# rohan = Employee()\n",
    "# harry.name = \"Harry\"\n",
    "# harry.salary = 455\n",
    "# harry.role = \"Instructor\"\n",
    "#\n",
    "# rohan.name = \"Rohan\"\n",
    "# rohan.salary = 4554\n",
    "# rohan.role = \"Student\"\n",
    "\n",
    "print(harry.salary)"
   ]
  },
  {
   "cell_type": "code",
   "execution_count": null,
   "metadata": {},
   "outputs": [],
   "source": [
    "class Employee:\n",
    "    no_of_leave = 8\n",
    "    \n",
    "    def __init__(self,aname,asalary,arole):\n",
    "        \n",
    "        self.name = aname\n",
    "        self.salary = asalary\n",
    "        self.role = arole\n",
    "        \n",
    "    def Printdetails(self):\n",
    "        return f\"Name is {self.name}. salary is {self.salary}  and role is {self.role}\"\n",
    "\n",
    "harry= Employee(\"Harry\",4000,\"Engineer\")\n",
    "\n",
    "rohan = Employee(\"Rohan\",20000,\"Sr.Engineer\")\n",
    "\n",
    "print(rohan.role)\n",
    " \n"
   ]
  },
  {
   "cell_type": "markdown",
   "metadata": {},
   "source": [
    "# Classmethod"
   ]
  },
  {
   "cell_type": "code",
   "execution_count": null,
   "metadata": {},
   "outputs": [],
   "source": [
    "class Employee:\n",
    "    no_of_leave = 8\n",
    "    \n",
    "    def __init__(self,aname,asalary,arole):\n",
    "        \n",
    "        self.name = aname\n",
    "        self.salary = asalary\n",
    "        self.role = arole\n",
    "        \n",
    "    def Printdetails(self):\n",
    "        return f\"Name is {self.name}. salary is {self.salary}  and role is {self.role}\"\n",
    "    \n",
    "    @classmethod\n",
    "    def change_leaves(cls,newleave): # --- with classmethod we can chanege leave data through instance\n",
    "        cls.no_of_leave = newleave\n",
    "        \n",
    "      \n",
    "    \n",
    "harry= Employee(\"Harry\",4000,\"Engineer\")\n",
    "\n",
    "rohan = Employee(\"Rohan\",20000,\"Sr.Engineer\")\n",
    "\n",
    "\n",
    "\n",
    "\n",
    "harry.change_leaves(39)\n",
    "print(rohan.no_of_leave)\n",
    "print(rohan.__dict__)\n",
    "print(harry.__dict__)\n",
    "print(Employee.__dict__)\n"
   ]
  },
  {
   "cell_type": "code",
   "execution_count": null,
   "metadata": {},
   "outputs": [],
   "source": [
    "def hange_leaves(cls,newleave):\n",
    "       return cls == newleave\n",
    "        \n",
    "        \n",
    "a=hange_leaves(4,4)\n",
    "\n",
    "print(a)\n"
   ]
  },
  {
   "cell_type": "markdown",
   "metadata": {},
   "source": [
    "# Class Methods As Alternative Constructors"
   ]
  },
  {
   "cell_type": "code",
   "execution_count": null,
   "metadata": {},
   "outputs": [],
   "source": []
  },
  {
   "cell_type": "code",
   "execution_count": null,
   "metadata": {},
   "outputs": [],
   "source": [
    "ram='Ram-is-very-good-boy '\n",
    "ram=str(ram)\n",
    "\n",
    "ram.split(\"-\")\n"
   ]
  },
  {
   "cell_type": "code",
   "execution_count": null,
   "metadata": {},
   "outputs": [],
   "source": [
    " class Employee:\n",
    "    no_of_leave = 8\n",
    "    \n",
    "    def __init__(self,aname,asalary,arole):\n",
    "        \n",
    "        self.name = aname\n",
    "        self.salary = asalary\n",
    "        self.role = arole\n",
    "        \n",
    "    #def Printdetails(self):\n",
    "        #return f\"Name is {self.name}. salary is {self.salary}  and role is {self.role}\"\n",
    "    \n",
    "    @classmethod\n",
    "    def change_leaves(cls,newleave): # --- with classmethod we can chanege leave data through instance\n",
    "        cls.no_of_leave = newleave\n",
    "        \n",
    "    @classmethod\n",
    "    def from_dash(cls,string):\n",
    "        params = string.split(\"-\")\n",
    "        return cls(params[0],params[1],params[2])\n",
    "    \n",
    "        \n",
    "      \n",
    "    \n",
    "harry= Employee(\"Harry\",4000,\"Engineer\")\n",
    "\n",
    "rohan = Employee(\"Rohan\",20000,\"Sr.Engineer\")\n",
    "\n",
    "karan = Employee.from_dash('karan-9000-helper')\n",
    "\n",
    "\n",
    "print(karan.salary)\n",
    "\n",
    "# harry.change_leaves(39)\n",
    "# print(rohan.no_of_leave)\n",
    "# print(rohan.__dict__)\n",
    "# print(harry.__dict__)\n",
    "# print(Employee.__dict__)\n"
   ]
  },
  {
   "cell_type": "code",
   "execution_count": null,
   "metadata": {
    "scrolled": true
   },
   "outputs": [],
   "source": [
    "class Employee:\n",
    "    no_of_leave = 8\n",
    "    \n",
    "    def __init__(self,aname,asalary,arole):\n",
    "        \n",
    "        self.name = aname\n",
    "        self.salary = asalary\n",
    "        self.role = arole\n",
    "        \n",
    "    #def Printdetails(self):\n",
    "        #return f\"Name is {self.name}. salary is {self.salary}  and role is {self.role}\"\n",
    "    \n",
    "    @classmethod\n",
    "    def change_leaves(cls,newleave): # --- with classmethod we can chanege leave data through instance\n",
    "        cls.no_of_leave = newleave\n",
    "        \n",
    "    @classmethod\n",
    "    def from_dash(cls,string):\n",
    "#         params = string.split(\"-\")\n",
    "#         return cls(params[0],params[1],params[2])\n",
    "          return cls(*string.split(\"-\"))\n",
    "          \n",
    "         \n",
    "        \n",
    "    \n",
    "        \n",
    "      \n",
    "    \n",
    "harry= Employee(\"Harry\",4000,\"Engineer\")\n",
    "\n",
    "rohan = Employee(\"Rohan\",20000,\"Sr.Engineer\")\n",
    "\n",
    "karan = Employee.from_dash('karan-9000-helper')\n",
    "\n",
    "\n",
    "print(karan.name)\n",
    "\n",
    "# harry.change_leaves(39)\n",
    "# print(rohan.no_of_leave)\n",
    "# print(rohan.__dict__)\n",
    "# print(harry.__dict__)\n",
    "# print(Employee.__dict__)\n"
   ]
  },
  {
   "cell_type": "code",
   "execution_count": null,
   "metadata": {},
   "outputs": [],
   "source": [
    "def Ritesh(*args):\n",
    "    for i in args:\n",
    "        print (i)\n",
    "    \n",
    "    \n",
    "w=['ram','rahim','wndjkfndsjnfdsklfn',213412412,421324132434,314132413241322131]    \n",
    "\n",
    "Ritesh(w)\n",
    "    "
   ]
  },
  {
   "cell_type": "markdown",
   "metadata": {},
   "source": [
    "## Static Methods In Python "
   ]
  },
  {
   "cell_type": "code",
   "execution_count": null,
   "metadata": {},
   "outputs": [],
   "source": [
    "class Employee:\n",
    "    no_of_leave = 8\n",
    "    \n",
    "    def __init__(self,aname,asalary,arole):\n",
    "        \n",
    "        self.name = aname\n",
    "        self.salary = asalary\n",
    "        self.role = arole\n",
    "        \n",
    "    #def Printdetails(self):\n",
    "        #return f\"Name is {self.name}. salary is {self.salary}  and role is {self.role}\"\n",
    "    \n",
    "    @classmethod\n",
    "    def change_leaves(cls,newleave): # --- with classmethod we can chanege leave data through instance\n",
    "        cls.no_of_leave = newleave\n",
    "        \n",
    "    @classmethod\n",
    "    def from_dash(cls,string):\n",
    "#         params = string.split(\"-\")\n",
    "#         return cls(params[0],params[1],params[2])\n",
    "          return cls(*string.split(\"-\"))\n",
    "          \n",
    "    @staticmethod\n",
    "    def goodman(string):\n",
    "        print(string  + 'is very good data scientist')\n",
    "        \n",
    "    \n",
    "        \n",
    "      \n",
    "    \n",
    "harry= Employee(\"Harry\",4000,\"Engineer\")\n",
    "\n",
    "rohan = Employee(\"Rohan\",20000,\"Sr.Engineer\")\n",
    "\n",
    "karan = Employee.from_dash('karan-9000-helper')\n",
    "\n",
    "\n",
    "print(karan.goodman('Karan '))\n",
    "\n",
    "# harry.change_leaves(39)\n",
    "# print(rohan.no_of_leave)\n",
    "# print(rohan.__dict__)\n",
    "# print(harry.__dict__)\n",
    "# print(Employee.__dict__)\n"
   ]
  },
  {
   "cell_type": "markdown",
   "metadata": {},
   "source": [
    "# Abstraction & Encapsulation"
   ]
  },
  {
   "cell_type": "code",
   "execution_count": null,
   "metadata": {},
   "outputs": [],
   "source": [
    "https://www.youtube.com/watch?v=wySW_E4XsvE&list=PLu0W_9lII9agICnT8t4iYVSZ3eykIAOME&index=60\n",
    "    \n",
    "    # --pls listen this video carefully it's very importent "
   ]
  },
  {
   "cell_type": "code",
   "execution_count": null,
   "metadata": {},
   "outputs": [],
   "source": [
    "ram = {'name':'Sanjay' , 'class' : 10 , 'Sub' : 'Math'}\n",
    "      "
   ]
  },
  {
   "cell_type": "code",
   "execution_count": null,
   "metadata": {},
   "outputs": [],
   "source": [
    "for key,value in ram.items():\n",
    "    print(f'{key} is {value}')\n",
    "    \n"
   ]
  },
  {
   "cell_type": "code",
   "execution_count": null,
   "metadata": {},
   "outputs": [],
   "source": [
    "ram.values()"
   ]
  },
  {
   "cell_type": "code",
   "execution_count": null,
   "metadata": {},
   "outputs": [],
   "source": [
    "a = range(1,10)\n",
    "print(type(a))"
   ]
  },
  {
   "cell_type": "code",
   "execution_count": null,
   "metadata": {},
   "outputs": [],
   "source": [
    "len(a)"
   ]
  },
  {
   "cell_type": "code",
   "execution_count": null,
   "metadata": {},
   "outputs": [],
   "source": [
    "for i in a:\n",
    "    print(i)"
   ]
  },
  {
   "cell_type": "code",
   "execution_count": null,
   "metadata": {},
   "outputs": [],
   "source": [
    "c = [1,2,3,4,5]\n",
    "\n"
   ]
  },
  {
   "cell_type": "code",
   "execution_count": null,
   "metadata": {},
   "outputs": [],
   "source": [
    "del(c[-1])"
   ]
  },
  {
   "cell_type": "code",
   "execution_count": null,
   "metadata": {},
   "outputs": [],
   "source": [
    "c"
   ]
  },
  {
   "cell_type": "code",
   "execution_count": null,
   "metadata": {},
   "outputs": [],
   "source": [
    "s = [1,3,4,2,6,9,8,5,3,11]"
   ]
  },
  {
   "cell_type": "code",
   "execution_count": null,
   "metadata": {},
   "outputs": [],
   "source": [
    "w= []\n",
    "for i in s :\n",
    "    w.append(i)\n",
    "w.sort()\n",
    "w\n",
    "    "
   ]
  },
  {
   "cell_type": "code",
   "execution_count": null,
   "metadata": {},
   "outputs": [],
   "source": [
    "s.sort()\n",
    "s"
   ]
  },
  {
   "cell_type": "code",
   "execution_count": null,
   "metadata": {},
   "outputs": [],
   "source": [
    "import numpy as np"
   ]
  },
  {
   "cell_type": "code",
   "execution_count": null,
   "metadata": {},
   "outputs": [],
   "source": [
    "ww = np.array(range(1,100))"
   ]
  },
  {
   "cell_type": "code",
   "execution_count": null,
   "metadata": {},
   "outputs": [],
   "source": [
    "ww.min()"
   ]
  },
  {
   "cell_type": "code",
   "execution_count": null,
   "metadata": {},
   "outputs": [],
   "source": [
    "from scipy.spatial import distance\n",
    "p1 = (1,2,3)\n",
    "p2 = (4,5,6)\n",
    "d = distance.euclidean(p1, p2)\n",
    "print(\"Euclidean distance: \",d)"
   ]
  },
  {
   "cell_type": "code",
   "execution_count": null,
   "metadata": {},
   "outputs": [],
   "source": [
    "import matplotlib.pyplot as plt"
   ]
  },
  {
   "cell_type": "code",
   "execution_count": null,
   "metadata": {},
   "outputs": [],
   "source": [
    "fig = plt.figure()\n",
    "ax = fig.add_subplot(111, projection='3d')\n",
    "ax.scatter(p1,p2,c='r',marker = 'o')"
   ]
  },
  {
   "cell_type": "code",
   "execution_count": null,
   "metadata": {},
   "outputs": [],
   "source": [
    "from mpl_toolkits.mplot3d import Axes3D\n",
    "import matplotlib.pyplot as plt\n",
    "\n",
    "\n",
    "\n",
    "fig = plt.figure()\n",
    "ax = fig.add_subplot(111, projection='3d')\n",
    "\n",
    "x =[1]\n",
    "y =[4]\n",
    "z =[7]\n",
    "\n",
    "\n",
    "\n",
    "ax.scatter(x, y, z,c='r',marker = 'o')\n",
    "\n",
    "# ax.set_xlabel('X Label')\n",
    "# ax.set_ylabel('Y Label')\n",
    "# ax.set_zlabel('Z Label')\n",
    "\n",
    "plt.show()"
   ]
  },
  {
   "cell_type": "markdown",
   "metadata": {},
   "source": [
    "\n",
    "## Public, Private & Protected Access Specifiers"
   ]
  },
  {
   "cell_type": "code",
   "execution_count": null,
   "metadata": {},
   "outputs": [],
   "source": [
    "# Public -\n",
    "# Protected -\n",
    "# Private -\n",
    "\n",
    "class Employee:\n",
    "    no_of_leaves = 8\n",
    "    var = 8\n",
    "    _protec = 9 #------it is Protected\n",
    "    __pr = 98   #------it is private\n",
    "\n",
    "    def __init__(self, aname, asalary, arole):\n",
    "        self.name = aname\n",
    "        self.salary = asalary\n",
    "        self.role = arole\n",
    "\n",
    "    def printdetails(self):\n",
    "        return f\"The Name is {self.name}. Salary is {self.salary} and role is {self.role}\"\n",
    "\n",
    "    @classmethod\n",
    "    def change_leaves(cls, newleaves):\n",
    "        cls.no_of_leaves = newleaves\n",
    "\n",
    "    @classmethod\n",
    "    def from_dash(cls, string):\n",
    "        return cls(*string.split(\"-\"))\n",
    "\n",
    "    @staticmethod\n",
    "    def printgood(string):\n",
    "        print(\"This is good \" + string)\n",
    "\n",
    "emp = Employee(\"harry\", 343, \"Programmer\")\n",
    "print(emp._Employee__pr)"
   ]
  },
  {
   "cell_type": "markdown",
   "metadata": {},
   "source": [
    "## Diamond Shape Problem In Multiple Inheritance"
   ]
  },
  {
   "cell_type": "code",
   "execution_count": null,
   "metadata": {},
   "outputs": [],
   "source": [
    "class A:\n",
    "    def met(self):\n",
    "        print(\"This is a method from class A\")\n",
    "\n",
    "class B(A):\n",
    "    def met(self):\n",
    "        print(\"This is a method from class B\")\n",
    "\n",
    "class C(A):\n",
    "    def met(self):\n",
    "        print(\"This is a method from class C\")\n",
    "\n",
    "class D(C, B):\n",
    "    def met(self):\n",
    "        print(\"This is a method from class D\")\n",
    "\n",
    "\n",
    "a = A()\n",
    "b = B()\n",
    "c = C()\n",
    "d = D()\n",
    "\n",
    "d.met()"
   ]
  },
  {
   "cell_type": "markdown",
   "metadata": {},
   "source": [
    "## Abstract Base Class & @abstractmethod"
   ]
  },
  {
   "cell_type": "code",
   "execution_count": null,
   "metadata": {},
   "outputs": [],
   "source": [
    "# from abc import ABCMeta, abstractmethod\n",
    "from abc import ABC, abstractmethod\n",
    "\n",
    "class Shape(ABC):\n",
    "    @abstractmethod\n",
    "    def printarea(self):\n",
    "        return 0\n",
    "\n",
    "class Rectangle(Shape):\n",
    "    type = \"Rectangle\"\n",
    "    sides = 4\n",
    "    def __init__(self):\n",
    "        self.length = 6\n",
    "        self.breadth = 7\n",
    "\n",
    "    def printarea(self):\n",
    "        return self.length * self.breadth\n",
    "\n",
    "    rect1 = Rectangle()\n",
    "print(rect1.printarea())"
   ]
  },
  {
   "cell_type": "code",
   "execution_count": null,
   "metadata": {},
   "outputs": [],
   "source": [
    "class Employee:\n",
    "    def __init__(self,fname,lname):  \n",
    "        self.fname = fname\n",
    "        self.lname = lname\n",
    "        #self.email = f'{fname}.{lname}@gmail.comm'\n",
    "    \n",
    "    def explain(self):\n",
    "        return f'This Employee is {self.fname} {self.lname}'\n",
    "    \n",
    "    @property  #-----------its a dacorator no need to call function \n",
    "    def email(self):\n",
    "        return f'{self.fname}.{self.lname}@gmail.comm'\n",
    "    \n",
    "q = Employee('Ritesh',\"Tiwari\")   \n",
    "\n",
    "q.email\n",
    "q.fname = 'us'\n",
    "\n",
    "q.email\n",
    "    "
   ]
  },
  {
   "cell_type": "markdown",
   "metadata": {},
   "source": [
    "## Setters & Property Decorators "
   ]
  },
  {
   "cell_type": "code",
   "execution_count": null,
   "metadata": {},
   "outputs": [],
   "source": [
    "\n",
    "class Employee:\n",
    "    def __init__(self, fname, lname):\n",
    "        self.fname = fname\n",
    "        self.lname = lname\n",
    "        # self.email = f\"{fname}.{lname}@codewithharry.com\"\n",
    "\n",
    "    def explain(self):\n",
    "        return f\"This employee is {self.fname} {self.lname}\"\n",
    "\n",
    "    @property\n",
    "    def email(self):\n",
    "        if self.fname==None or self.lname == None:\n",
    "            return \"Email is not set. Please set it using setter\"\n",
    "        return f\"{self.fname}.{self.lname}@codewithharry.com\"\n",
    "\n",
    "    @email.setter\n",
    "    def email(self, string):\n",
    "        print(\"Setting now...\")\n",
    "        names = string.split(\"@\")[0]\n",
    "        self.fname = names.split(\".\")[0]\n",
    "        self.lname = names.split(\".\")[1]\n",
    "\n",
    "    @email.deleter\n",
    "    def email(self):\n",
    "        self.fname = None\n",
    "        self.lname = None\n",
    "\n",
    "\n",
    "hindustani_supporter = Employee(\"Hindustani\", \"Supporter\")\n",
    "# nikhil_raj_pandey = Employee(\"Nikhil\", \"Raj\")\n",
    "\n",
    "print(hindustani_supporter.email)\n",
    "\n",
    "hindustani_supporter.fname = \"US\"\n",
    "\n",
    "print(hindustani_supporter.email)\n",
    "hindustani_supporter.email = \"this.that@codewithharry.com\"\n",
    "print(hindustani_supporter.fname)\n",
    "\n",
    "del hindustani_supporter.email\n",
    "print(hindustani_supporter.email)\n",
    "hindustani_supporter.email = \"Harry.Perry@codewithharry.com\"\n",
    "print(hindustani_supporter.email)\n"
   ]
  },
  {
   "cell_type": "markdown",
   "metadata": {},
   "source": [
    "## Object Introspection"
   ]
  },
  {
   "cell_type": "code",
   "execution_count": null,
   "metadata": {},
   "outputs": [],
   "source": [
    "integer = 'Ritesh_tiwari'\n",
    "print(type(integer))\n",
    "print(id(integer))\n",
    "print(dir(integer))"
   ]
  },
  {
   "cell_type": "code",
   "execution_count": null,
   "metadata": {},
   "outputs": [],
   "source": [
    "\n",
    "class Library():\n",
    "    def __init__(self,list_of_books,Library_name):\n",
    "        # creating a dictionary of all books keys\n",
    "        self.lend_data = {}\n",
    "        self.list_of_books = list_of_books\n",
    "        self.library_name = Library_name\n",
    "\n",
    "        # adding books to dictionary\n",
    "        for books in self.list_of_books:\n",
    "            # none means No author have lend this book\n",
    "            self.lend_data[books] = None\n",
    "\n",
    "    def display_books(self):\n",
    "        for index,books in enumerate(self.list_of_books):\n",
    "            print(f\"{index}){books}\")\n",
    "\n",
    "    def lend_book(self,book,author):\n",
    "        if book in self.list_of_books:\n",
    "            if self.lend_data[book] is None:\n",
    "                self.lend_data[book] = author\n",
    "            else:\n",
    "                print(f\"Sorry This book is lend by {self.lend_data[book]}\")\n",
    "        else:\n",
    "            print(\"You have written wrong book name\")\n",
    "\n",
    "    def return_book(self,book,author):\n",
    "        if book in self.list_of_books:\n",
    "            if self.lend_data[book] is not None:\n",
    "                self.lend_data.pop(book)\n",
    "            else:\n",
    "                print(\"Sorry but This book is not Lend\")\n",
    "        else:\n",
    "            print(\"You have written wrong book name\")\n",
    "\n",
    "    def add_book(self,book_name):\n",
    "        self.list_of_books.append(book_name)\n",
    "        self.lend_data[book_name] = None\n",
    "\n",
    "    def delete_book(self,book_name):\n",
    "        self.list_of_books.remove(book_name)\n",
    "        self.lend_data.pop(book_name)\n",
    "\n",
    "def main():\n",
    "    # By deafault variables\n",
    "    list_books = ['Cookbook','Motu Patlu','Chacha_chaudhary','Rich Dad and Poor Dad']\n",
    "    Library_name = 'Harry'\n",
    "    secret_key = 123456\n",
    "\n",
    "    Harry = Library(list_books,Library_name)\n",
    "\n",
    "    print(f\"Welecome To {Harry.library_name} library\\n\\nq for exit \\nDisplay Book Using 'd' and add lend book using 'l' and Return a Book using 'r' \\nAdd Book Using 'a' and Delete Book using 'del' \\n \")\n",
    "\n",
    "    Exit = False\n",
    "    while (Exit is not True):\n",
    "        _input = input(\"option:\")\n",
    "        print(\"\\n\")\n",
    "        \n",
    "        if _input == \"q\":\n",
    "            Exit = True\n",
    "\n",
    "        elif _input == \"d\":\n",
    "            Harry.display_books()\n",
    "\n",
    "        elif _input == \"l\":\n",
    "            _input2 = input(\"What is your name:\")\n",
    "            _input3 = input(\"Which Book Do you want to lend:\")\n",
    "            print(\"\\n Book Lend \\n\")\n",
    "            Harry.lend_book(_input3,_input2)\n",
    "\n",
    "        elif _input == \"a\":\n",
    "            _input2 = input(\"Book name:\")\n",
    "            Harry.add_book(_input2)\n",
    "\n",
    "        elif _input == \"del\":\n",
    "            _input_secret = int(input(\"Write the secret key to delete:\"))\n",
    "            if (_input_secret == secret_key):\n",
    "                _input2 = input(\"Book Which you want to delete:\")\n",
    "                Harry.delete_book(_input2)\n",
    "            else:\n",
    "                print(\"Sorry We can't Delete the Book\")\n",
    "\n",
    "        elif _input == \"r\":\n",
    "            _input2 = input(\"What is your name:\")\n",
    "            _input3 = input(\"Which Book Do you want to return:\")\n",
    "            Harry.return_book(_input3,_input2)\n",
    "\n",
    "if __name__ == \"__main__\":\n",
    "    main()"
   ]
  },
  {
   "cell_type": "markdown",
   "metadata": {},
   "source": [
    "## Generators In Python"
   ]
  },
  {
   "cell_type": "code",
   "execution_count": null,
   "metadata": {},
   "outputs": [],
   "source": [
    "Iterable - __iter__() or __getitem__()\n",
    "Iterator - __next__()\n",
    "Iteration -\n",
    "\n",
    "\"\"\"\n",
    "\n",
    "def gen(n):\n",
    "    for i in range(n):\n",
    "        yield i\n",
    "\n",
    "g = gen(3)\n",
    "# print(g.__next__())\n",
    "# print(g.__next__())\n",
    "# print(g.__next__())\n",
    "# print(g.__next__())\n",
    "\n",
    "\n",
    "# for i in g:\n",
    "#     print(i)\n",
    "\n",
    "h = 546546\n",
    "ier = iter(h)\n",
    "print(ier.__next__())\n",
    "print(ier.__next__())\n",
    "print(ier.__next__())\n",
    "# for c in h:\n",
    "#     print(c)"
   ]
  },
  {
   "cell_type": "markdown",
   "metadata": {},
   "source": [
    "## Python Comprehensions"
   ]
  },
  {
   "cell_type": "code",
   "execution_count": null,
   "metadata": {},
   "outputs": [],
   "source": [
    "# List comprehensions\n",
    "ww = [i for i in range(100) if i % 3 ==0]\n",
    "print(ww)"
   ]
  },
  {
   "cell_type": "code",
   "execution_count": null,
   "metadata": {},
   "outputs": [],
   "source": [
    "# Dict comprehensions\n",
    "\n",
    "w = {i:'sunder' for i in range(100) if i % 2 ==0}\n",
    "\n",
    "print(w)"
   ]
  },
  {
   "cell_type": "code",
   "execution_count": null,
   "metadata": {},
   "outputs": [],
   "source": [
    "# ls = []\n",
    "# for i in range(100):\n",
    "#     if i%3==0:\n",
    "#         ls.append(i)\n",
    "\n",
    "# ls = [i for i in range(100) if i%3==0]\n",
    "#\n",
    "# print(ls)\n",
    "\n",
    "\n",
    "# dict1 = {i:f\"item {i}\" for i in range(1, 10001) if i%100==0}\n",
    "# dict1 = {i:f\"Item {i}\" for i in range(5)}\n",
    "#\n",
    "# dict2 = {value:key for key,value in dict1.items()}\n",
    "# print(dict1,\"\\n\", dict2)\n",
    "\n",
    "# dresses = [dress for dress in [\"dress1\", \"dress2\",\"dress1\",\n",
    "#                                \"dress2\",\"dress1\", \"dress2\"]]\n",
    "# print(type(dresses))\n",
    "\n",
    "evens = (i for i in range(100) if i%2==0)\n",
    "# print(evens.__next__())\n",
    "\n",
    "# for item in evens:\n",
    "#     print(item)"
   ]
  },
  {
   "cell_type": "code",
   "execution_count": null,
   "metadata": {},
   "outputs": [],
   "source": [
    "\n",
    "\n",
    "no_of_list = int(input(\"How many items add in a list: \"))\n",
    "input_string = input(\"Enter a list element separated by space \")\n",
    "list = input_string.split()\n",
    "t = int(input(\"Which type of comprehension you use 1. List Comprehension 2.Dictionary Comprehension 3. Set Comprehension \"))\n",
    "if t==1:\n",
    "    ls = [i for i in list]\n",
    "    print(ls)\n",
    "    print(type(ls))\n",
    "elif t==2:\n",
    "    dict1 = {f'item{i}': i for i in list}\n",
    "    print(dict1)\n",
    "    print(type(dict1))\n",
    "elif t==3:\n",
    "    s ={i for i in list}\n",
    "    print(s)\n",
    "    print(type(s))\n",
    "\n"
   ]
  },
  {
   "cell_type": "markdown",
   "metadata": {},
   "source": [
    "## Using Else With For Loops "
   ]
  },
  {
   "cell_type": "code",
   "execution_count": null,
   "metadata": {},
   "outputs": [],
   "source": [
    "sabji = ['paneer','chicken','motton','channa']\n",
    "\n",
    "for i in sabji:\n",
    "    print(i)\n",
    "    \n",
    "else:\n",
    "    print('your loop was finised')"
   ]
  },
  {
   "cell_type": "code",
   "execution_count": null,
   "metadata": {},
   "outputs": [],
   "source": [
    "sabji = ['paneer','chicken','motton','channa']\n",
    "\n",
    "for i in sabji:\n",
    "    if i == 'dalma':\n",
    "        break\n",
    "    \n",
    "else:\n",
    "    print('your item was not found')"
   ]
  },
  {
   "cell_type": "markdown",
   "metadata": {},
   "source": [
    "## Coroutines In Python"
   ]
  },
  {
   "cell_type": "code",
   "execution_count": null,
   "metadata": {},
   "outputs": [],
   "source": [
    "\n",
    "def searcher():\n",
    "    import time\n",
    "    # Some 4 seconds time consuming task\n",
    "    book = \"This is a book on harry and code with harry and good\"\n",
    "    time.sleep(4)\n",
    "\n",
    "    while True:\n",
    "        text = (yield)\n",
    "        if text in book:\n",
    "            print(\"Your text is in the book\")\n",
    "        else:\n",
    "            print(\"Text is not in the book\")\n",
    "\n",
    "search = searcher()\n",
    "print(\"search started\")\n",
    "next(search)\n",
    "print(\"Next method run\")\n",
    "search.send(\"and\")\n",
    "\n",
    "#search.close()\n",
    "# search.send(\"harry\")\n",
    "# input(\"press any key\")\n",
    "# search.send(\"harry and\")\n",
    "# input(\"press any key\")\n",
    "# search.send(\"thi si\")\n",
    "# input(\"press any key\")\n",
    "# search.send(\"joker\")\n",
    "# input(\"press any key\")\n",
    "# search.send(\"like this video\")"
   ]
  },
  {
   "cell_type": "markdown",
   "metadata": {},
   "source": [
    "## Os Module "
   ]
  },
  {
   "cell_type": "code",
   "execution_count": null,
   "metadata": {},
   "outputs": [],
   "source": [
    "\n",
    "import os\n",
    "# print(dir(os))\n",
    "# print(os.getcwd())\n",
    "# os.chdir(\"C://\")\n",
    "# print(os.getcwd())\n",
    "# f = open(\"harry.txt\")\n",
    "# print(os.listdir(\"C://\"))\n",
    "# os.makedirs(\"This/that\")\n",
    "# os.rename(\"harry.txt\", \"codewithharry.txt\")\n",
    "# print(os.environ.get('Path'))\n",
    "# print(os.path.join(\"C:/\", \"/harry.txt\"))\n",
    "\n",
    "# print(os.path.exists(\"C://Program Files2\"))\n",
    "print(os.path.isfile(\"C://Program Files\"))"
   ]
  },
  {
   "cell_type": "code",
   "execution_count": null,
   "metadata": {},
   "outputs": [],
   "source": [
    "d= (os.chdir(\"d:\\\\\"))"
   ]
  },
  {
   "cell_type": "code",
   "execution_count": null,
   "metadata": {},
   "outputs": [],
   "source": [
    "d"
   ]
  },
  {
   "cell_type": "code",
   "execution_count": null,
   "metadata": {},
   "outputs": [],
   "source": [
    "os.mkdir('Tis')"
   ]
  },
  {
   "cell_type": "code",
   "execution_count": null,
   "metadata": {},
   "outputs": [],
   "source": [
    "# Oh soldier Prettify my Folder\n",
    "\n",
    "# path, dictionary file, format\n",
    "\n",
    "# def soldier(\"C://\", \"harry.txt\", \"jpg\")\n",
    "\n",
    "import os\n",
    "def soldier(path, file, format):\n",
    "    os.chdir(path)\n",
    "    i = 1\n",
    "    files = os.listdir(path)\n",
    "    with open(file) as f:\n",
    "        filelist = f.read().split(\"\\n\")\n",
    "\n",
    "    for file in files:\n",
    "        if file not in filelist:\n",
    "            os.rename(file, file.capitalize())\n",
    "\n",
    "        if os.path.splitext(file)[1] == format:\n",
    "            os.rename(file, f\"{i}{format}\")\n",
    "            i +=1\n",
    "\n",
    "soldier(r\"C:\\Users\\Haris\\Desktop\\testing\",\n",
    "        r\"C:\\Users\\Haris\\PycharmProjects\\PythonTuts\\ext.txt\", \".png\" )"
   ]
  },
  {
   "cell_type": "markdown",
   "metadata": {},
   "source": [
    "## Raise In Python "
   ]
  },
  {
   "cell_type": "code",
   "execution_count": null,
   "metadata": {},
   "outputs": [],
   "source": [
    "# a = input(\"What is your name\")\n",
    "# b = input(\"How much do you earn\")\n",
    "# if int(b)==0:\n",
    "#     raise ZeroDivisionError(\"b is 0 so stopping the program\")\n",
    "# if a.isnumeric():\n",
    "#     raise Exception(\"Numbers are not allowed\")\n",
    "#\n",
    "# print(f\"Hello {a}\")\n",
    "# 1000 lines taking 1 hour\n",
    "\n",
    "# Task - Write about 2 built in exception\n",
    "\n",
    "c = input(\"Enter your name\")\n",
    "try:\n",
    "    print(a)\n",
    "\n",
    "except Exception as e:\n",
    "\n",
    "    if c ==\"harry\":\n",
    "        raise ValueError(\"Harry is blocked he is not allowed\")\n",
    "\n",
    "    print(\"Exception handled\")"
   ]
  },
  {
   "cell_type": "markdown",
   "metadata": {},
   "source": [
    "## Requests Module For HTTP Requests "
   ]
  },
  {
   "cell_type": "code",
   "execution_count": null,
   "metadata": {},
   "outputs": [],
   "source": [
    "import requests\n",
    "r = requests.get(\"https://financialmodelingprep.com/api/company/price/AAPL\")\n",
    "print(r.text)\n",
    "print(r.status_code)\n",
    "\n",
    "# url = \"www.something.com\"\n",
    "# data = {\n",
    "#     \"p1\":4,\n",
    "#     \"p2\":8\n",
    "# }\n",
    "# r2 = requests.post(url=url, data=data)"
   ]
  },
  {
   "cell_type": "markdown",
   "metadata": {},
   "source": [
    "## Json Module \n"
   ]
  },
  {
   "cell_type": "code",
   "execution_count": null,
   "metadata": {},
   "outputs": [],
   "source": [
    "import json\n",
    "\n",
    "data = '{\"var1\":\"harry\", \"var2\":56}'\n",
    "print(data)\n",
    "\n",
    "parsed = json.loads(data)\n",
    "print(type(parsed))\n",
    "\n",
    "#Task 1 - json.load?\n",
    "\n",
    "\n",
    "data2 = {\n",
    "    \"channel_name\": \"CodeWithHarry\",\n",
    "    \"cars\": ['bmw', 'audi a8', 'ferrari'],\n",
    "    \"fridge\": ('roti', 540),\n",
    "    \"isbad\": False\n",
    "}\n",
    "\n",
    "jscomp = json.dumps(data2)\n",
    "print(jscomp)\n",
    "\n",
    "# Task 2 = what is sort_keys parameter in dumps"
   ]
  },
  {
   "cell_type": "markdown",
   "metadata": {},
   "source": [
    "## Pickling Iris with Requests Module For HTTP Requests"
   ]
  },
  {
   "cell_type": "code",
   "execution_count": null,
   "metadata": {},
   "outputs": [],
   "source": [
    "# Load data from website\n",
    "import requests\n",
    "import pickle\n",
    "data = requests.get(\"https://archive.ics.uci.edu/ml/machine-learning-databases/iris/iris.data\").text\n",
    "print(r)"
   ]
  },
  {
   "cell_type": "code",
   "execution_count": null,
   "metadata": {},
   "outputs": [],
   "source": [
    "# split data in a list\n",
    "l1 = data.split('\\n')\n",
    "l1"
   ]
  },
  {
   "cell_type": "code",
   "execution_count": null,
   "metadata": {},
   "outputs": [],
   "source": [
    "#split data list inside list\n",
    "l2 = [i .split(',') for i in l1 if len(i)!=0]\n",
    "l2"
   ]
  },
  {
   "cell_type": "code",
   "execution_count": null,
   "metadata": {},
   "outputs": [],
   "source": [
    "# we use pickle for store data in a binary format which is encoded(Now our data store in iris.pkl)\n",
    "with open('iris.pkl','wb') as f:\n",
    "    pickle.dump(l2,f)"
   ]
  },
  {
   "cell_type": "code",
   "execution_count": null,
   "metadata": {},
   "outputs": [],
   "source": [
    "# for reading my pickle file\n",
    "with open('iris.pkl','rb') as f:\n",
    "    print(pickle.load(f))\n"
   ]
  },
  {
   "cell_type": "markdown",
   "metadata": {},
   "source": [
    "## Regular Expressions "
   ]
  },
  {
   "cell_type": "code",
   "execution_count": null,
   "metadata": {},
   "outputs": [],
   "source": [
    "import re\n",
    "mystr = '''Tata Limited\n",
    "Dr. David Landsman, executive director\n",
    "18, Grosvenor Place\n",
    "London SW1X 7HSc\n",
    "Phone: +44 (20) 7235 8281\n",
    "Fax: +44 (20) 7235 8727\n",
    "Email: tata@tata.co.uk\n",
    "Website: www.europe.tata.com\n",
    "Directions: View map\n",
    "\n",
    "Tata Sons, North America\n",
    "1700 North Moore St, Suite 1520\n",
    "Arlington, VA 22209-1911\n",
    "USA\n",
    "Phone: +1 (703) 243 9787\n",
    "Fax: +1 (703) 243 9791\n",
    "66-66\n",
    "455-4545\n",
    "Email: northamerica@tata.com \n",
    "Website: www.northamerica.tata.com\n",
    "Directions: View map fass\n",
    "harry bhai lekin\n",
    "bahut hi badia aadmi haiaiinaiiiiiiiiiiii'''\n",
    "\n",
    "# findall, search, split, sub, finditer\n",
    "# patt = re.compile(r'fass')\n",
    "# patt = re.compile(r'.adm')\n",
    "# patt = re.compile(r'^Tata')\n",
    "# patt = re.compile(r'iin$')\n",
    "# patt = re.compile(r'ai{2}')\n",
    "# patt = re.compile(r'(ai){1}')\n",
    "# patt = re.compile(r'ai{1}|Fax')\n",
    "\n",
    "\n",
    "# Special Sequences\n",
    "# patt = re.compile(r'Fax\\b')\n",
    "# patt = re.compile(r'27\\b')\n",
    "patt = re.compile(r'\\d{5}-\\d{4}')\n",
    "# Task\n",
    "# Given a string with a lot of indian phone numbers starting from +91\n",
    "\n",
    "matches = patt.finditer(mystr)\n",
    "for match in matches:\n",
    "    print(match)"
   ]
  },
  {
   "cell_type": "code",
   "execution_count": null,
   "metadata": {},
   "outputs": [],
   "source": [
    "# Oh soldier Prettify my Folder\n",
    "\n",
    "# path, dictionary file, format\n",
    "\n",
    "# def soldier(\"C://\", \"harry.txt\", \"jpg\")\n",
    "\n",
    "import os\n",
    "def soldier(path, file, format):\n",
    "    os.chdir(path)\n",
    "    i = 1\n",
    "    files = os.listdir(path)\n",
    "    with open(file) as f:\n",
    "        filelist = f.read().split(\"\\n\")\n",
    "\n",
    "    for file in files:\n",
    "        if file not in filelist:\n",
    "            os.rename(file, file.capitalize())\n",
    "\n",
    "        if os.path.splitext(file)[1] == format:\n",
    "            os.rename(file, f\"{i}{format}\")\n",
    "            i +=1\n",
    "\n",
    "soldier(r\"C:\\Users\\Haris\\Desktop\\testing\",\n",
    "        r\"C:\\Users\\Haris\\PycharmProjects\\PythonTuts\\ext.txt\", \".png\" )"
   ]
  },
  {
   "cell_type": "markdown",
   "metadata": {},
   "source": [
    "## Raise In Python"
   ]
  },
  {
   "cell_type": "code",
   "execution_count": null,
   "metadata": {},
   "outputs": [],
   "source": [
    "# a = input(\"What is your name\")\n",
    "# b = input(\"How much do you earn\")\n",
    "# if int(b)==0:\n",
    "#     raise ZeroDivisionError(\"b is 0 so stopping the program\")\n",
    "# if a.isnumeric():\n",
    "#     raise Exception(\"Numbers are not allowed\")\n",
    "#\n",
    "# print(f\"Hello {a}\")\n",
    "# 1000 lines taking 1 hour\n",
    "\n",
    "# Task - Write about 2 built in exception\n",
    "\n",
    "c = input(\"Enter your name\")\n",
    "try:\n",
    "    print(a)\n",
    "\n",
    "except Exception as e:\n",
    "\n",
    "    if c ==\"harry\":\n",
    "        raise ValueError(\"Harry is blocked he is not allowed\")\n",
    "\n",
    "    print(\"Exception handled\")"
   ]
  },
  {
   "cell_type": "markdown",
   "metadata": {},
   "source": [
    "## Akhbaar Padhke Sunaao "
   ]
  },
  {
   "cell_type": "code",
   "execution_count": null,
   "metadata": {},
   "outputs": [],
   "source": [
    "# Akhbaar padhke sunaao\n",
    "import requests\n",
    "import json\n",
    "\n",
    "def speak(str):\n",
    "    from win32com.client import Dispatch\n",
    "    speak = Dispatch(\"SAPI.SpVoice\")\n",
    "    speak.Speak(str)\n",
    "\n",
    "if __name__ == '__main__':\n",
    "    speak(\"News for today.. Lets begin\")\n",
    "    url = \"http://newsapi.org/v2/top-headlines?country=in&apiKey=ce5eb2555d4f474884cf61881471dfcc\"\n",
    "\n",
    "    news = requests.get(url).text\n",
    "    news_dict = json.loads(news)\n",
    "    arts = news_dict['articles']\n",
    "    for article in arts:\n",
    "        speak(article['title'])\n",
    "        print(article['title'])\n",
    "        speak(\"Moving on to the next news..Listen Carefully\")\n",
    "\n",
    "    speak(\"Thanks for listening...\")\n"
   ]
  },
  {
   "cell_type": "markdown",
   "metadata": {},
   "source": [
    "## Creating a Command Line Utility In Python"
   ]
  },
  {
   "cell_type": "code",
   "execution_count": null,
   "metadata": {},
   "outputs": [],
   "source": [
    "import argparse\n",
    "import sys\n",
    "\n",
    "def calc(args):\n",
    "    if args.o == 'add':\n",
    "        return args.x + args.y\n",
    "\n",
    "    elif args.o == 'mul':\n",
    "        return args.x * args.y\n",
    "\n",
    "    elif args.o == 'sub':\n",
    "        return args.x - args.y\n",
    "\n",
    "    elif args.o == 'div':\n",
    "        return args.x / args.y\n",
    "\n",
    "    else:\n",
    "        return \"Something went wrong\"\n",
    "\n",
    "if __name__ == '__main__':\n",
    "    parser = argparse.ArgumentParser()\n",
    "    parser.add_argument('--x', type=float, default=1.0,\n",
    "                        help=\"Enter first number. This is a utility for calculation. Please contact harry bhai\")\n",
    "\n",
    "    parser.add_argument('--y', type=float, default=3.0,\n",
    "                        help=\"Enter second number. This is a utility for calculation. Please contact harry bhai\")\n",
    "\n",
    "    parser.add_argument('--o', type=str, default=\"add\",\n",
    "                        help=\"This is a utility for calculation. Please contact harry bhai for more\")\n",
    "\n",
    "    args = parser.parse_args()\n",
    "    sys.stdout.write(str(calc(args)))"
   ]
  },
  {
   "cell_type": "markdown",
   "metadata": {},
   "source": [
    "## Regex Email Extractor "
   ]
  },
  {
   "cell_type": "code",
   "execution_count": null,
   "metadata": {},
   "outputs": [],
   "source": [
    "import re\n",
    "str1='''\n",
    "\n",
    "Hello bro, my name is deepak tiwari and my email id is deepak@gmail.com,\n",
    "And I am learning programming on code with harry youtube channel and I have one more\n",
    "email:\"deepak@dt.com\"\n",
    "and some more\n",
    "email id:<dt@codewithharry.com>\n",
    "\n",
    "email:\"deepak@dt.com.in\" and I have one more harrybhai@codewithharry.com.\n",
    "\n",
    "'''\n",
    "list1=re.findall(r'\\w+@\\S+\\w',str1)\n",
    "\n",
    "op=open(\"email_store.txt\",\"a\")\n",
    "\n",
    "j=1\n",
    "for i in list1:\n",
    "    op.write(f\"Email{j}:{i}\\n\")\n",
    "    j=j+1\n",
    "op.close()\n",
    "\n",
    "print(f\"Email's are:{list1}\")\n",
    "print(f\"Total Email's are:{j-1}\")"
   ]
  },
  {
   "cell_type": "code",
   "execution_count": null,
   "metadata": {},
   "outputs": [],
   "source": [
    "list1"
   ]
  },
  {
   "cell_type": "code",
   "execution_count": null,
   "metadata": {},
   "outputs": [],
   "source": [
    "!pip install \"tensorflow_hub>=0.6.0\"\n",
    "!pip install \"tensorflow>=2.0.0\"\n",
    "\n",
    "import tensorflow as tf\n",
    "import tensorflow_hub as hub\n",
    "\n",
    "module_url = \"https://tfhub.dev/google/nnlm-en-dim128/2\"\n",
    "embed = hub.KerasLayer(module_url)\n",
    "embeddings = embed([\"A long sentence.\", \"single-word\",\n",
    "                      \"http://example.com\"])\n",
    "print(embeddings.shape)  #(3,128\n"
   ]
  },
  {
   "cell_type": "code",
   "execution_count": null,
   "metadata": {},
   "outputs": [],
   "source": []
  },
  {
   "cell_type": "code",
   "execution_count": null,
   "metadata": {},
   "outputs": [],
   "source": [
    "dict = {}\n",
    "dict.update(dict2)\n",
    "dict2 = {'ram':1}"
   ]
  },
  {
   "cell_type": "code",
   "execution_count": null,
   "metadata": {},
   "outputs": [],
   "source": [
    "dic ={'lakhan':2}\n",
    "dic2 = {'ram':1}\n",
    "dic3 ={'bharat'}\n",
    "dic.update(dic2)\n",
    "dic\n",
    "if dic.key('lakhan') not in dic:\n",
    "    dic.update"
   ]
  },
  {
   "cell_type": "code",
   "execution_count": null,
   "metadata": {},
   "outputs": [],
   "source": [
    "d = {}\n",
    "d1 = {2: \"two\"}\n",
    "\n",
    "# updates the value of key 2\n",
    "d.update(d1)\n",
    "print(d)"
   ]
  },
  {
   "cell_type": "code",
   "execution_count": null,
   "metadata": {},
   "outputs": [],
   "source": [
    "dic3 ={2:'lakhan'}\n",
    "dic23 = {}\n",
    "dic33 ={1:'ram'}\n",
    "\n",
    "if dic33[1] not in dic23:\n",
    "    dic23.update(dic33)\n",
    "else:\n",
    "    print('a/a')\n"
   ]
  },
  {
   "cell_type": "markdown",
   "metadata": {},
   "source": [
    "## Mini Project 1 (OOPs Library) Solution "
   ]
  },
  {
   "cell_type": "code",
   "execution_count": null,
   "metadata": {},
   "outputs": [],
   "source": [
    "# Create a library class\n",
    "# display book\n",
    "# lend book - (who owns the book if not present)\n",
    "# add book\n",
    "# return book\n",
    "\n",
    "# HarryLibrary = Library(listofbooks, library_name)\n",
    "\n",
    "\n",
    "#dictionary (books-nameofperson)\n",
    "\n",
    "# create a main function and run an infinite while loop asking\n",
    "# users for their input\n",
    "\n",
    "\n",
    "class Library:\n",
    "    def __init__(self, list, name):\n",
    "        self.booksList = list\n",
    "        self.name = name\n",
    "        self.lendDict = {}\n",
    "\n",
    "    def displayBooks(self):\n",
    "        print(f\"We have following books in our library: {self.name}\")\n",
    "        for book in self.booksList:\n",
    "            print(book)\n",
    "\n",
    "    def lendBook(self, user, book):\n",
    "        if book not in self.lendDict.keys():\n",
    "            self.lendDict.update({book:user})\n",
    "            print(\"Lender-Book database has been updated. You can take the book now\")\n",
    "        else:\n",
    "            print(f\"Book is already being used by {self.lendDict[book]}\")\n",
    "\n",
    "    def addBook(self, book):\n",
    "        self.booksList.append(book)\n",
    "        print(\"Book has been added to the book list\")\n",
    "\n",
    "    def returnBook(self, book):\n",
    "        self.lendDict.pop(book)\n",
    "        print('Thanks for returning the book')\n",
    "\n",
    "if __name__ == '__main__':\n",
    "    harry = Library(['Python', 'Rich Daddy Poor Daddy', 'Harry Potter', 'C++ Basics', 'Algorithms by CLRS'], \"CodeWithHarry\")\n",
    "\n",
    "    while(True):\n",
    "        print(f\"Welcome to the {harry.name} library. Enter your choice to continue\")\n",
    "        print(\"1. Display Books\")\n",
    "        print(\"2. Lend a Book\")\n",
    "        print(\"3. Add a Book\")\n",
    "        print(\"4. Return a Book\")\n",
    "        print('5.for exit')\n",
    "        user_choice = input()\n",
    "        if user_choice not in ['1','2','3','4','5']:\n",
    "            print(\"Please enter a valid option\")\n",
    "            continue\n",
    "\n",
    "        else:\n",
    "            user_choice = int(user_choice)\n",
    "\n",
    "\n",
    "        if user_choice == 1:\n",
    "            harry.displayBooks()\n",
    "\n",
    "        elif user_choice == 2:\n",
    "            book = input(\"Enter the name of the book you want to lend:\")\n",
    "            user = input(\"Enter your name\")\n",
    "            harry.lendBook(user, book)\n",
    "\n",
    "        elif user_choice == 3:\n",
    "            book = input(\"Enter the name of the book you want to add:\")\n",
    "            harry.addBook(book)\n",
    "\n",
    "        elif user_choice == 4:\n",
    "            book = input(\"Enter the name of the book you want to return:\")\n",
    "            harry.returnBook(book)\n",
    "        elif user_choice ==5 :\n",
    "            break\n",
    "     \n",
    "        else:\n",
    "            print(\"Not a valid option\")\n",
    "\n",
    "\n",
    "        print(\"Press q to quit and c to continue\")\n",
    "        user_choice2 = \"\"\n",
    "        while(user_choice2!=\"c\" and user_choice2!=\"q\"):\n",
    "            user_choice2 = input()\n",
    "            if user_choice2 == \"q\":\n",
    "                exit()\n",
    "\n",
    "            elif user_choice2 == \"c\":\n",
    "                continue\n"
   ]
  },
  {
   "cell_type": "markdown",
   "metadata": {},
   "source": [
    "### Question-1\n",
    "Take age or year or birth as an input from the user and tell them when they will turn 100 years old.(5 points) Don’t use any type of module like datetime or dateutils(-5 points).\n",
    "\n",
    "They can then optionally provide a year and your program must tell their age in that particular year. (3 points) You should be handling all sorts of errors like (2 points):\n",
    "You are not yet born\n",
    "You seem to be the oldest person alive\n",
    "You can also handle any other error if possible!"
   ]
  },
  {
   "cell_type": "code",
   "execution_count": null,
   "metadata": {},
   "outputs": [],
   "source": [
    "print(\"press 1 for knowing when your are getting 100 years.\")\n",
    "print(\"press 2 for what your age will be in following year.\")\n",
    " \n",
    "data = int(input())\n",
    "\n",
    "if data==1:\n",
    "    \n",
    "    \n",
    "\n",
    "    \n",
    "  \n"
   ]
  },
  {
   "cell_type": "code",
   "execution_count": null,
   "metadata": {},
   "outputs": [],
   "source": [
    "yearAge = int(input(\"What is your Age/Year of birth\\n\"))\n",
    "isAge = False\n",
    "isYear = False\n",
    "\n",
    "if len(str(yearAge)) == 4:\n",
    "    isYear = True\n",
    "\n",
    "else:\n",
    "    isAge = True\n",
    "\n",
    "if(yearAge<1900 and isYear):\n",
    "    print(\"You seem to be the oldest person alive\")\n",
    "    exit()\n",
    "\n",
    "if(yearAge>2019):\n",
    "    print(\"You are not yet born\")\n",
    "    exit()\n",
    "\n",
    "if isAge:\n",
    "    yearAge = 2019 - yearAge  \n",
    "\n",
    "print(f\"You will be 100 years old in {yearAge + 100}\")\n",
    "\n",
    "interestedYear = int(input(\"Enter the year you want to know your age in\\n\"))\n",
    "\n",
    "print(f\"You will be {interestedYear - yearAge} years old in {interestedYear}\")\n"
   ]
  },
  {
   "cell_type": "code",
   "execution_count": null,
   "metadata": {},
   "outputs": [],
   "source": [
    "yearAge = int(input(\"What is your Age/Year of birth\\n\"))\n",
    "isAge = False\n",
    "isYear = False\n",
    "\n",
    "if yearAge <100:\n",
    "    isAge=True\n",
    "\n",
    "elif yearAge > 1900:\n",
    "    isYear = True\n",
    "\n",
    "\n",
    "if isAge:\n",
    "    print(f'in {2020+100-yearAge} your age will be 100')\n",
    "    ask32= int(input('for knowing youur age in that perticular year write full year '))\n",
    "    print(f'your age in {ask32} you will be {ask32-2020+yearAge}')\n",
    "    \n",
    "    \n",
    "if isYear:\n",
    "    print(f'in {yearAge+100} your age will be 100')\n",
    "    ask33= int(input('for knowing youur age in that perticular year write full year '))\n",
    "    print(f'your age in {ask33} you will be {ask33-yearAge}')\n",
    "      \n",
    "\n",
    "\n",
    "    \n",
    "\n",
    "    \n",
    "    \n",
    "\n",
    "    \n",
    "   "
   ]
  },
  {
   "cell_type": "markdown",
   "metadata": {},
   "source": [
    "### Question-2\n",
    "Problem Statement:\n",
    "Harry potter has got n number of apples. Harry has some students among whom, he wants to distribute the apples. These n number of apples are provided to harry by his friends and he can request for few more or few less apples.\n",
    "\n",
    "You need to print whether a number in range mn to mx is a divisor of n or not.\n",
    "\n",
    "Input:\n",
    "Take input n, mn and mx from the user\n",
    "\n",
    "Output:\n",
    "Print whether the numbers between mn and mx are divisor of n or not. If mn = mx, show that this is not a range and mn is equal to mx. Show the result for that number\n",
    "\n",
    "Example:\n",
    "If n is 20 and mn=2 and mx = 5\n",
    "\n",
    "2 is a divisor of 20\n",
    "\n",
    "3 is not a divisor of 20\n",
    "\n",
    "…\n",
    "\n",
    "5 is a divisor of 20\n"
   ]
  },
  {
   "cell_type": "code",
   "execution_count": null,
   "metadata": {},
   "outputs": [],
   "source": [
    "new = []\n",
    "harry = int(input('How many apple harry has got'))\n",
    "rang2 = input('Please Enter the range with comma seperated').split(',')\n",
    "rang = rang2\n",
    "for i in rang :\n",
    "    new.append(int(i))  \n",
    "\n",
    "if new[0]==new[1]:\n",
    "    print('this is not a range both are equal')\n",
    "    \n",
    "    \n",
    "for i in range(new[0],(new[1]+1)):\n",
    "    \n",
    "    if harry%i==0:\n",
    "        print(f'{i} is divided by {harry}')\n",
    "    \n",
    "    elif harry%i!=0:\n",
    "        print(f'{i} is not divided by {harry}')\n",
    "        \n",
    "        \n",
    "        \n"
   ]
  },
  {
   "cell_type": "code",
   "execution_count": null,
   "metadata": {},
   "outputs": [],
   "source": [
    "apples = int(input(\"Enter the number of apples\\n\"))\n",
    "mn = int(input(\"Enter the minimum number to check\\n\"))\n",
    "mx = int(input(\"Enter the maximum number to check\\n\"))\n",
    "\n",
    "for i in range(mn, mx+1):\n",
    "    if apples%i == 0:\n",
    "        print(f\"{i} is a divisor of {apples}\")\n",
    "    else:\n",
    "        print(f\"{i} is not a divisor of {apples}\")"
   ]
  },
  {
   "cell_type": "markdown",
   "metadata": {},
   "source": [
    "### Python Practice- 3 \n",
    "You visit a restaurant called CodeWithHarry and food items in this restaurant are sorted based on their amount of calories. You have to reverse this list of food items containing their calories.\n",
    "\n",
    "You have to use following three methods to reverse a list:\n",
    "\n",
    "• Inbuilt method of python\n",
    "• Listname[::-1] slicing trick\n",
    "• Swapping first element with last one and second element with second last one and so on….\n",
    "Input:\n",
    "Take a list as an input from the user.\n",
    "[5,4,1]\n",
    "\n",
    "Output:\n",
    "[1,4,5]\n",
    "[1,4,5]\n",
    "[1,4,5]\n",
    "All the three methods give same results!"
   ]
  },
  {
   "cell_type": "code",
   "execution_count": null,
   "metadata": {},
   "outputs": [],
   "source": [
    "data = []\n",
    "user = input('Please Enter the calories numbers with comma seperated').split(',')\n",
    "for i in user:\n",
    "    data.append(int(i))\n",
    "\n",
    "print(f'my first reversed list of{data}is{data[::-1]}')\n",
    "rev = list(reversed(data))\n",
    "print(f'my second reversed list of{data}is{rev}')\n",
    "\n",
    "reverse = data[:]\n",
    "for i in range(len(reverse)//2):\n",
    "    reverse[i], reverse[len(data) -i -1] = reverse[len(data) -i -1], reverse[i] \n",
    "    \n",
    "print(reverse )\n",
    "print(data)\n"
   ]
  },
  {
   "cell_type": "code",
   "execution_count": null,
   "metadata": {},
   "outputs": [],
   "source": [
    "reverse"
   ]
  },
  {
   "cell_type": "code",
   "execution_count": null,
   "metadata": {},
   "outputs": [],
   "source": [
    "range(12345)"
   ]
  },
  {
   "cell_type": "code",
   "execution_count": null,
   "metadata": {},
   "outputs": [],
   "source": [
    "print(\"Enter the numbers of the list one by one\\n\")\n",
    "size = int(input(\"Enter size of list\\n\"))\n",
    "\n",
    "# Initialize a blank list\n",
    "mylist = []\n",
    "\n",
    "# Take the input from the user one by one\n",
    "for i in range(size):\n",
    "    mylist.append(int(input(\"Enter list element\\n\")))\n",
    "\n",
    "# mylist = [7,3,2, 34, 1,0]\n",
    "print(f\"Your list is {mylist}\\n\")\n",
    "\n",
    "reverse1 = mylist[:]\n",
    "reverse1.reverse()\n",
    "\n",
    "reverse2 = mylist[::-1]\n",
    "print(reverse2)\n",
    "print(f\"My First reversed list of {mylist} is {reverse1}\")\n",
    "print(f\"My Second reversed list of {mylist} is {reverse2}\")\n",
    "\n",
    "reverse3 = mylist[:]\n",
    "for i in range(len(reverse3)//2):\n",
    "    reverse3[i], reverse3[len(reverse3) -i -1] = reverse3[len(reverse3) -i -1], reverse3[i] "
   ]
  },
  {
   "cell_type": "code",
   "execution_count": null,
   "metadata": {},
   "outputs": [],
   "source": [
    "food_calories=list(map(int,input(\"Enter The Calories:\").split()))\n",
    "print(food_calories)\n",
    "\n",
    "l2=list(reversed(food_calories))\n",
    "l3=food_calories[::-1]\n",
    "\n",
    "length=len(food_calories)\n",
    "\n",
    "for i in range(length//2):\n",
    "    temp=food_calories[i]\n",
    "    food_calories[i]=food_calories[-1+-i]\n",
    "    food_calories[-i+-1]=temp\n",
    "print(l2)\n",
    "print(l2)\n",
    "print(food_calories)\n",
    "if(l2==l3==food_calories):\n",
    "    print(\"Same\")"
   ]
  },
  {
   "cell_type": "code",
   "execution_count": null,
   "metadata": {},
   "outputs": [],
   "source": [
    "a =[1,2,3,4,6,7]\n",
    "b=len(a)\n",
    "c= a[:]\n",
    "\n",
    "for i in range(b):\n",
    "    c[i] = b-i\n",
    "c"
   ]
  },
  {
   "cell_type": "code",
   "execution_count": null,
   "metadata": {},
   "outputs": [],
   "source": [
    "# Factorial\n",
    "data = int(input('Please Enter the number whom you want Factorial'))\n",
    "fact = 1\n",
    "while (data>0):\n",
    "    fact=fact*data\n",
    "    data = data - 1\n",
    "print(fact)   \n",
    "    \n",
    "    \n",
    "    \n"
   ]
  },
  {
   "cell_type": "code",
   "execution_count": null,
   "metadata": {},
   "outputs": [],
   "source": [
    "ss =int(input())\n",
    "war = 1\n",
    "for i in range(1,ss+1):\n",
    "    war = war*i\n",
    "    \n",
    "    \n",
    "    \n",
    "print(war)    \n",
    " "
   ]
  },
  {
   "cell_type": "code",
   "execution_count": null,
   "metadata": {},
   "outputs": [],
   "source": [
    "\n",
    "\n",
    "num = int(input(\"enter a number: \"))\n",
    " \n",
    "fac = 1\n",
    " \n",
    "for i in range( 1,num +1):\n",
    "\tfac = fac * i\n",
    " \n",
    "\n",
    "\n",
    "print(\"factorial of \", num, \" is \", fac)\n",
    " "
   ]
  },
  {
   "cell_type": "markdown",
   "metadata": {},
   "source": [
    "### Python Practice problem 4 (Easy, 10 points)\n",
    "\n",
    "The Next Palindrome\n",
    "\n",
    "Problem Statement\n",
    "\n",
    "A palindrome is a string which when reversed is equal to itself:\n",
    "\n",
    "Examples of palindrome includes 616, mom, 676, 100001\n",
    "\n",
    "You have to take a number as an input from the user. You have to find the next palindrome corresponding to that number. Your first input should be ‘number of test cases’ and then take all the cases as input from the user"
   ]
  },
  {
   "cell_type": "code",
   "execution_count": null,
   "metadata": {},
   "outputs": [],
   "source": [
    "# Author: Ritesh Tiwari\n",
    "# Date: 2 May 2020\n",
    "# Purpose: Practice Problem \n",
    "\n",
    "\n",
    "\n",
    "def next_palindrome(n):\n",
    "    n = n+1\n",
    "    while not is_palindrome(n):\n",
    "        n += 1\n",
    "    return n\n",
    "\n",
    "\n",
    "def is_palindrome(n):\n",
    "    return str(n) == str(n)[::-1]\n",
    "\n",
    "\n",
    "if __name__ == \"__main__\":\n",
    "    n = int(input(\"Enter the number of test cases\\n\"))\n",
    "    numbers = []\n",
    "    for i in range(n):\n",
    "        number = int(input(\"Enter the number:\\n\"))\n",
    "        numbers.append(number)\n",
    "\n",
    "    for i in range(n):\n",
    "        print(\n",
    "            f\"Next palindrome for {numbers[i]} is {next_palindrome(numbers[i])}\")"
   ]
  },
  {
   "cell_type": "code",
   "execution_count": null,
   "metadata": {},
   "outputs": [],
   "source": [
    "def real_pelindrome(n):\n",
    "    n=n+1\n",
    "    while not pelindrome(n):\n",
    "        n+=1\n",
    "    return n\n",
    "    \n",
    "def pelindrome(n):\n",
    "    return str(n)== str(n)[::-1]\n",
    "\n",
    "total = int(input('Please Enter the number of test cash \\n'))\n",
    "lis = []\n",
    "for i in range(total):\n",
    "    num = int(input('Enter the number \\n'))\n",
    "    lis.append(num)\n",
    "for i in range(total):\n",
    "    print(f'Next pelindrome for {lis[i]} is {real_pelindrome(lis[i])}')"
   ]
  },
  {
   "cell_type": "markdown",
   "metadata": {},
   "source": [
    "###  <font color = Red>Python Practice problem 5 (Easy, 10 points)<font/>\n",
    "Palindromify The List\n",
    "You are given a list which contains some numbers. You have to print a list of next palindromes only if the number is greater than 10 otherwise you will print that number.\n",
    "\n",
    "Input:\n",
    "\n",
    "[1, 6, 87, 43]\n",
    "\n",
    "Output:\n",
    "\n",
    "[1, 6, 88, 44]"
   ]
  },
  {
   "cell_type": "code",
   "execution_count": null,
   "metadata": {},
   "outputs": [],
   "source": [
    "# Author: Ritesh Tiwari\n",
    "# Date: 2 amy 2020\n",
    "# Purpose: Practice Problem \n",
    "\n",
    "\n",
    "def greate(n):    \n",
    "    if n < 10:\n",
    "        return n\n",
    "    n=n+1\n",
    "    while not peli(n):\n",
    "        n+=1\n",
    "    return n    \n",
    "        \n",
    "\n",
    "def peli(n):\n",
    "    return str(n)==str(n)[::-1]\n",
    "\n",
    "\n",
    "data = int(input('Enter the number of test cash \\n'))\n",
    "listo = []\n",
    "for i in range(data):\n",
    "    listo.append(int(input('Enter the number \\n')))\n",
    "print(f'you have entered{listo}')    \n",
    "\n",
    "new =[]\n",
    "for i in range(data):\n",
    "    w = greate(listo[i])\n",
    "    new.append(w)           \n",
    "#     print(f'Greater than 10 numbers pelindrome is {greate(listo[i])}')#---it is also working \n",
    "print(f'your updated list {new}')   \n",
    "    \n",
    "    "
   ]
  },
  {
   "cell_type": "code",
   "execution_count": null,
   "metadata": {},
   "outputs": [],
   "source": [
    "def next_palindrome(n):\n",
    "    n = n+1\n",
    "    while not is_palindrome(n):\n",
    "        n += 1\n",
    "    return n\n",
    "\n",
    "\n",
    "def is_palindrome(n):\n",
    "    return str(n) == str(n)[::-1]\n",
    "\n",
    "if __name__ == \"__main__\":\n",
    "    size = int(input(\"Enter the size of your list\\n\"))\n",
    "    num_list = []\n",
    "    for i in range(size):\n",
    "        num_list.append(int(input(\"Enter the number of the list\\n\")))\n",
    "    print(f\"You have entered {num_list}\")\n",
    "\n",
    "    print(f\"Output List: {[num_list[i] if num_list[i] < 10 else next_palindrome(num_list[i] ) for i in range(size)]}\")\n",
    "\n",
    "\n",
    "#     new_list = []\n",
    "#     for element in num_list:\n",
    "#         if element >10:\n",
    "#             n = next_palindrome(element)\n",
    "#             new_list.append(n)\n",
    "\n",
    "#         else:\n",
    "#             new_list.append(element)   \n",
    "#     print(f\"Output List: {new_list}\")"
   ]
  },
  {
   "cell_type": "code",
   "execution_count": null,
   "metadata": {},
   "outputs": [],
   "source": [
    "import random\n",
    "a = int(input('Enter the value of A \\n'))\n",
    "b = int(input('Enter the value of B \\n'))\n",
    "\n",
    "    \n",
    "w =random.randint(a,b) \n",
    "guess = int(input(f'Please guess the number between{a} to {b}'))\n",
    "   \n",
    "n=1     \n",
    "while True:\n",
    "    w =random.randint(a,b) \n",
    "    if guess == w :        \n",
    "        print(f'congratulation you win .you guess this number in {n} trial')\n",
    "        n=n+1\n",
    "        break\n",
    "        \n",
    "    else:\n",
    "        print('sorry worng answer pls try again')\n",
    "        guess = int(input(f'Please guess the number and you have loss {n} chances for gussing the number  '))\n",
    "        n=n+1\n",
    "        \n",
    "        \n",
    "\n",
    "    \n",
    "\n",
    "    \n",
    "        \n",
    "    \n",
    "    \n"
   ]
  },
  {
   "cell_type": "markdown",
   "metadata": {},
   "source": [
    "Guess The number\n",
    "Generate a random integer from a to b. You and your friend have to guess a number between two numbers a and b. a and b are inputs taken from the user. Your friend is player 1 and plays first. He will have to keep choosing the number and your program must tell whether the number is greater than the actual number or less than the actual number. Log the number of trials it took your friend to arrive at the number. You play the same game and then the person with minimum number of trials wins!\n",
    "\n",
    "Randomly generate a number after taking a and b as input and don’t show that to the user (say 6)"
   ]
  },
  {
   "cell_type": "code",
   "execution_count": null,
   "metadata": {},
   "outputs": [],
   "source": [
    "import random\n",
    "\n",
    "def guessGame(a, b, actual):\n",
    "    guess = int(input(f\"Guess a number between {a} and {b}\\n\"))\n",
    "    nguess = 1\n",
    "    while guess != actual:\n",
    "        if guess< actual:\n",
    "            guess = int(input(f\"Enter a bigger number\\n\"))\n",
    "            nguess += 1\n",
    "        else: \n",
    "            guess = int(input(f\"Enter a smaller number\\n\"))   \n",
    "            nguess += 1\n",
    "\n",
    "    print(f\"You guessed the number in {nguess} guesses\\n\")\n",
    "    return nguess\n",
    "\n",
    "\n",
    "if __name__ == \"__main__\":\n",
    "    a = int(input(\"Enter the value of a\\n\"))    \n",
    "    b = int(input(\"Enter the value of b\\n\"))\n",
    "    actual1 = random.randint(a, b)  \n",
    "    print(\"Player 1's turn\\n\")\n",
    "    g1 = guessGame(a, b, actual1)\n",
    "    print(\"Player 2's turn\\n\")\n",
    "    actual2 = random.randint(a, b)  \n",
    "    g2 = guessGame(a, b, actual2)\n",
    "\n",
    "    if g1 < g2:\n",
    "        print(\"Player 1 won the match!\\n\")\n",
    "\n",
    "    elif g1 > g2:\n",
    "        print(\"Player 2 won the match!\\n\")    \n",
    "    \n",
    "    else:\n",
    "        print(\"Its a Tie!\\n\")\n",
    "    \n",
    "    print(f\"The number for player 1 was {actual1} and for player 2 was {actual2}\")\n",
    "    \n"
   ]
  },
  {
   "cell_type": "code",
   "execution_count": 12,
   "metadata": {},
   "outputs": [
    {
     "name": "stdout",
     "output_type": "stream",
     "text": [
      "Enter the value of A1\n",
      "Enter the value of B8\n",
      "Rishi's turn\n",
      "\n",
      "Guess anumber between 1 and 8 \n",
      "4\n",
      "Please Enter lesser number \n",
      " 3\n",
      "Please Enter lesser number \n",
      " 2\n",
      "Please Enter lesser number \n",
      " 1\n",
      "you guess this number in 4 times \n",
      "\n",
      "sivams's turn\n",
      "\n",
      "Guess anumber between 1 and 8 \n",
      "5\n",
      "Please Enter lesser number \n",
      " 3\n",
      "Please Enter lesser number \n",
      " 2\n",
      "you guess this number in 3 times \n",
      "\n",
      "Sivam win this game\n"
     ]
    }
   ],
   "source": [
    "import random\n",
    "def game(a,b,actual):\n",
    "    guess =int(input(f'Guess anumber between {a} and {b} \\n'))\n",
    "    num =1\n",
    "    while guess!= actual:\n",
    "        \n",
    "        if guess > actual:\n",
    "            guess= int(input('Please Enter lesser number \\n '))\n",
    "            num += 1       \n",
    "        else:\n",
    "            guess= int(input('Please Enter bigger number  \\n'))\n",
    "            num += 1       \n",
    "    print(f'you guess this number in {num} times \\n') \n",
    "    return num               \n",
    "                                                       \n",
    "        \n",
    "\n",
    "\n",
    "    \n",
    "a =int(input('Enter the value of A'))\n",
    "b = int(input('Enter the value of B'))\n",
    "actual1 = random.randint(a,b)  \n",
    "print(\"Rishi's turn\\n\")\n",
    "rishi = game(a, b, actual1)\n",
    "print(\"sivams's turn\\n\")\n",
    "actual2 = random.randint(a,b)  \n",
    "sivam= game(a, b, actual2)\n",
    "    \n",
    "if rishi > sivam:\n",
    "    print('Sivam win this game')\n",
    "elif sivam > rishi:\n",
    "    print('Rishi win this game')\n",
    "    \n",
    "else:\n",
    "    print('Game is tie')\n",
    "    \n",
    "\n",
    "\n",
    "\n",
    "\n",
    "\n"
   ]
  },
  {
   "cell_type": "code",
   "execution_count": 15,
   "metadata": {},
   "outputs": [
    {
     "name": "stdout",
     "output_type": "stream",
     "text": [
      "[3 3]\n"
     ]
    }
   ],
   "source": [
    "from sklearn.naive_bayes import GaussianNB\n",
    "import numpy as np\n",
    "a = np.array([[-2,7], [1,2], [1,5], [2,3], [1,-1], [-2,0], [-4,0], [-2,2], [3,7], [1,1], [-4,1], [-3,7],[4,9]])\n",
    "b = np.array([3, 3, 3, 3, 4, 3, 4, 3, 3, 3, 4, 4, 4])\n",
    "md = GaussianNB()\n",
    "md.fit (a, b)\n",
    "prediction = md.predict ([[1, 5], [1, 5]])\n",
    "print (prediction)"
   ]
  },
  {
   "cell_type": "code",
   "execution_count": null,
   "metadata": {},
   "outputs": [],
   "source": []
  },
  {
   "cell_type": "code",
   "execution_count": null,
   "metadata": {},
   "outputs": [],
   "source": []
  },
  {
   "cell_type": "code",
   "execution_count": null,
   "metadata": {},
   "outputs": [],
   "source": []
  },
  {
   "cell_type": "code",
   "execution_count": null,
   "metadata": {},
   "outputs": [],
   "source": []
  },
  {
   "cell_type": "code",
   "execution_count": null,
   "metadata": {},
   "outputs": [],
   "source": []
  },
  {
   "cell_type": "code",
   "execution_count": null,
   "metadata": {},
   "outputs": [],
   "source": []
  },
  {
   "cell_type": "code",
   "execution_count": null,
   "metadata": {},
   "outputs": [],
   "source": []
  },
  {
   "cell_type": "code",
   "execution_count": null,
   "metadata": {},
   "outputs": [],
   "source": []
  },
  {
   "cell_type": "code",
   "execution_count": null,
   "metadata": {},
   "outputs": [],
   "source": []
  },
  {
   "cell_type": "code",
   "execution_count": null,
   "metadata": {},
   "outputs": [],
   "source": []
  }
 ],
 "metadata": {
  "kernelspec": {
   "display_name": "Python 3",
   "language": "python",
   "name": "python3"
  },
  "language_info": {
   "codemirror_mode": {
    "name": "ipython",
    "version": 3
   },
   "file_extension": ".py",
   "mimetype": "text/x-python",
   "name": "python",
   "nbconvert_exporter": "python",
   "pygments_lexer": "ipython3",
   "version": "3.7.3"
  }
 },
 "nbformat": 4,
 "nbformat_minor": 2
}
