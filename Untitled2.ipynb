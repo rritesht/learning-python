{
 "cells": [
  {
   "cell_type": "code",
   "execution_count": 2,
   "metadata": {},
   "outputs": [
    {
     "name": "stdout",
     "output_type": "stream",
     "text": [
      "write god name for ditals ram\n",
      "maryada pursotam ram ji\n"
     ]
    }
   ],
   "source": [
    "dict = {'ram':'maryada pursotam ram ji','hanuman':'pawan putra hanuman'}\n",
    "ask = input('write god name for ditals ')\n",
    "for i,j in dict.items():\n",
    "    if i == ask:\n",
    "        print(j)\n",
    "  "
   ]
  },
  {
   "cell_type": "code",
   "execution_count": 11,
   "metadata": {},
   "outputs": [
    {
     "name": "stdout",
     "output_type": "stream",
     "text": [
      "ritesh tiwari is a great data scientist\n"
     ]
    }
   ],
   "source": [
    "file = open('fifa.txt','rt')\n",
    "contant = file.read()\n",
    "print(contant)\n",
    "file.close()"
   ]
  },
  {
   "cell_type": "code",
   "execution_count": 16,
   "metadata": {},
   "outputs": [],
   "source": [
    "file = open('fifa.txt','w')\n",
    "file.write('i am very hard working person one day i wll achive my goal')\n",
    "file.close()"
   ]
  },
  {
   "cell_type": "code",
   "execution_count": 17,
   "metadata": {},
   "outputs": [
    {
     "name": "stdout",
     "output_type": "stream",
     "text": [
      "i am very hard working person one day i wll achive my goal\n"
     ]
    }
   ],
   "source": [
    "file = open('fifa.txt','rt')\n",
    "contant = file.read()\n",
    "print(contant)\n",
    "file.close()"
   ]
  },
  {
   "cell_type": "code",
   "execution_count": 19,
   "metadata": {},
   "outputs": [
    {
     "name": "stdout",
     "output_type": "stream",
     "text": [
      "i am very hard working person one day i wll achive my goal\n"
     ]
    }
   ],
   "source": [
    "file = open('fifa.txt','rt')\n",
    "for i in file:\n",
    "    print(i)"
   ]
  },
  {
   "cell_type": "code",
   "execution_count": 24,
   "metadata": {},
   "outputs": [
    {
     "data": {
      "text/plain": [
       "45"
      ]
     },
     "execution_count": 24,
     "metadata": {},
     "output_type": "execute_result"
    }
   ],
   "source": [
    "file = open('fifa.txt','a')\n",
    "file.write('\\n Ritesh Tiwari is a very good data scientist')"
   ]
  },
  {
   "cell_type": "code",
   "execution_count": 25,
   "metadata": {},
   "outputs": [
    {
     "name": "stdout",
     "output_type": "stream",
     "text": [
      "i am very hard working person one day i wll achive my goalRitesh Tiwari is a very good data scientist\n",
      "\n",
      " Ritesh Tiwari is a very good data scientist\n"
     ]
    }
   ],
   "source": [
    "file = open('fifa.txt','rt')\n",
    "for i in file:\n",
    "    print(i)"
   ]
  },
  {
   "cell_type": "code",
   "execution_count": 28,
   "metadata": {},
   "outputs": [
    {
     "name": "stdout",
     "output_type": "stream",
     "text": [
      "i am very hard working person one day i wll achive my goalRitesh Tiwari is a very good data scientist\n",
      " Ritesh Tiwari is a very good data scientist\n"
     ]
    }
   ],
   "source": [
    "file = open('fifa.txt','rt')\n",
    "print(file.read())"
   ]
  },
  {
   "cell_type": "code",
   "execution_count": 30,
   "metadata": {},
   "outputs": [
    {
     "name": "stdout",
     "output_type": "stream",
     "text": [
      "i am very hard working person one day i wll achive my goalRitesh Tiwari is a very good data scientist\n",
      "\n",
      "103\n",
      " Ritesh Tiwari is a very good data scientist\n",
      "147\n"
     ]
    }
   ],
   "source": [
    "file=open('fifa.txt','rt')\n",
    "print(file.readline())\n",
    "print(file.tell())\n",
    "\n",
    "print(file.readline())\n",
    "print(file.tell())\n"
   ]
  },
  {
   "cell_type": "code",
   "execution_count": 34,
   "metadata": {},
   "outputs": [],
   "source": [
    "file.close()"
   ]
  },
  {
   "cell_type": "code",
   "execution_count": 37,
   "metadata": {},
   "outputs": [
    {
     "name": "stdout",
     "output_type": "stream",
     "text": [
      "i am very hard working person one day i wll achive my goalRitesh Tiwari is a very good data scientist\n",
      " Ritesh Tiwari is a very good data scientist\n"
     ]
    }
   ],
   "source": [
    "with open ('fifa.txt','rt') as file:\n",
    "    \n",
    "    print(file.read())"
   ]
  },
  {
   "cell_type": "code",
   "execution_count": null,
   "metadata": {},
   "outputs": [],
   "source": []
  },
  {
   "cell_type": "code",
   "execution_count": null,
   "metadata": {},
   "outputs": [],
   "source": []
  },
  {
   "cell_type": "code",
   "execution_count": null,
   "metadata": {},
   "outputs": [],
   "source": []
  },
  {
   "cell_type": "code",
   "execution_count": null,
   "metadata": {},
   "outputs": [],
   "source": []
  },
  {
   "cell_type": "code",
   "execution_count": null,
   "metadata": {},
   "outputs": [],
   "source": []
  },
  {
   "cell_type": "code",
   "execution_count": null,
   "metadata": {},
   "outputs": [],
   "source": []
  },
  {
   "cell_type": "code",
   "execution_count": null,
   "metadata": {},
   "outputs": [],
   "source": []
  },
  {
   "cell_type": "code",
   "execution_count": null,
   "metadata": {},
   "outputs": [],
   "source": []
  },
  {
   "cell_type": "code",
   "execution_count": null,
   "metadata": {},
   "outputs": [],
   "source": []
  },
  {
   "cell_type": "code",
   "execution_count": null,
   "metadata": {},
   "outputs": [],
   "source": []
  }
 ],
 "metadata": {
  "kernelspec": {
   "display_name": "Python 3",
   "language": "python",
   "name": "python3"
  },
  "language_info": {
   "codemirror_mode": {
    "name": "ipython",
    "version": 3
   },
   "file_extension": ".py",
   "mimetype": "text/x-python",
   "name": "python",
   "nbconvert_exporter": "python",
   "pygments_lexer": "ipython3",
   "version": "3.7.3"
  }
 },
 "nbformat": 4,
 "nbformat_minor": 2
}
