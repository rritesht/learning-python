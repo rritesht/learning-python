{
 "cells": [
  {
   "cell_type": "code",
   "execution_count": null,
   "metadata": {},
   "outputs": [],
   "source": [
    "dict_1 = {\"Price\": 3000}"
   ]
  },
  {
   "cell_type": "code",
   "execution_count": 2,
   "metadata": {},
   "outputs": [
    {
     "ename": "SyntaxError",
     "evalue": "invalid syntax (<ipython-input-2-46311b54ea00>, line 4)",
     "output_type": "error",
     "traceback": [
      "\u001b[1;36m  File \u001b[1;32m\"<ipython-input-2-46311b54ea00>\"\u001b[1;36m, line \u001b[1;32m4\u001b[0m\n\u001b[1;33m    print((price*100)/discount))\u001b[0m\n\u001b[1;37m        ^\u001b[0m\n\u001b[1;31mSyntaxError\u001b[0m\u001b[1;31m:\u001b[0m invalid syntax\n"
     ]
    }
   ],
   "source": [
    "price  = 3000\n",
    "\n",
    "discount = int(inp(\"Please enter the discount\")\n",
    "print(price*100)/discount)"
   ]
  },
  {
   "cell_type": "code",
   "execution_count": 20,
   "metadata": {},
   "outputs": [],
   "source": [
    "\n",
    "def final_price(price,discount):\n",
    "    return ((price * (100-discount)/100))"
   ]
  },
  {
   "cell_type": "code",
   "execution_count": 21,
   "metadata": {},
   "outputs": [
    {
     "data": {
      "text/plain": [
       "1500.0"
      ]
     },
     "execution_count": 21,
     "metadata": {},
     "output_type": "execute_result"
    }
   ],
   "source": [
    "final_price(2000,25)"
   ]
  },
  {
   "cell_type": "code",
   "execution_count": 22,
   "metadata": {},
   "outputs": [
    {
     "data": {
      "text/plain": [
       "8300.0"
      ]
     },
     "execution_count": 22,
     "metadata": {},
     "output_type": "execute_result"
    }
   ],
   "source": [
    "final_price(10000,17)"
   ]
  },
  {
   "cell_type": "markdown",
   "metadata": {},
   "source": [
    "# Numpy"
   ]
  },
  {
   "cell_type": "markdown",
   "metadata": {},
   "source": [
    "it is famous for it provides a new data structure thats optimized for calculation of arrays"
   ]
  },
  {
   "cell_type": "markdown",
   "metadata": {},
   "source": [
    "## Numpy Arrays"
   ]
  },
  {
   "cell_type": "markdown",
   "metadata": {},
   "source": [
    "Numpy arrays are tables of elements that all share the same data type(numeric)"
   ]
  },
  {
   "cell_type": "code",
   "execution_count": 1,
   "metadata": {},
   "outputs": [],
   "source": [
    "# to call this library\n",
    "\n",
    "import numpy as np\n",
    "\n",
    "# data type : numpy.ndarray (ND - n-dimensional)"
   ]
  },
  {
   "cell_type": "code",
   "execution_count": 2,
   "metadata": {},
   "outputs": [],
   "source": [
    "# creating arry of intergers\n",
    "\n",
    "ar_int = np.array([0,1,2,3,4,5,6,7,8,9])"
   ]
  },
  {
   "cell_type": "code",
   "execution_count": 3,
   "metadata": {},
   "outputs": [
    {
     "data": {
      "text/plain": [
       "numpy.ndarray"
      ]
     },
     "execution_count": 3,
     "metadata": {},
     "output_type": "execute_result"
    }
   ],
   "source": [
    "# type\n",
    "\n",
    "type(ar_int)"
   ]
  },
  {
   "cell_type": "code",
   "execution_count": 4,
   "metadata": {},
   "outputs": [
    {
     "data": {
      "text/plain": [
       "10"
      ]
     },
     "execution_count": 4,
     "metadata": {},
     "output_type": "execute_result"
    }
   ],
   "source": [
    "# length \n",
    "\n",
    "len(ar_int)"
   ]
  },
  {
   "cell_type": "code",
   "execution_count": 5,
   "metadata": {},
   "outputs": [],
   "source": [
    "# checking for the hetrogenious creating\n",
    "\n",
    "arr_hetro = np.array(['one',True,0,1,2,3,3.6])"
   ]
  },
  {
   "cell_type": "code",
   "execution_count": 6,
   "metadata": {},
   "outputs": [
    {
     "data": {
      "text/plain": [
       "array(['one', 'True', '0', '1', '2', '3', '3.6'], dtype='<U4')"
      ]
     },
     "execution_count": 6,
     "metadata": {},
     "output_type": "execute_result"
    }
   ],
   "source": [
    "arr_hetro"
   ]
  },
  {
   "cell_type": "markdown",
   "metadata": {},
   "source": [
    "int,float,str,boolean"
   ]
  },
  {
   "cell_type": "markdown",
   "metadata": {},
   "source": [
    " 1.Bool     2.int     3.float     4.Str"
   ]
  },
  {
   "cell_type": "code",
   "execution_count": 9,
   "metadata": {},
   "outputs": [
    {
     "data": {
      "text/plain": [
       "array([0. , 1. , 2. , 3. , 3.6])"
      ]
     },
     "execution_count": 9,
     "metadata": {},
     "output_type": "execute_result"
    }
   ],
   "source": [
    "arr_hetro = np.array([0,1,2,3,3.6])\n",
    "arr_hetro"
   ]
  },
  {
   "cell_type": "code",
   "execution_count": 10,
   "metadata": {},
   "outputs": [
    {
     "data": {
      "text/plain": [
       "array([0. , 1. , 2. , 3. , 3.6, 1. ])"
      ]
     },
     "execution_count": 10,
     "metadata": {},
     "output_type": "execute_result"
    }
   ],
   "source": [
    "arr_hetro = np.array([0,1,2,3,3.6,True])\n",
    "arr_hetro"
   ]
  },
  {
   "cell_type": "code",
   "execution_count": 11,
   "metadata": {},
   "outputs": [
    {
     "data": {
      "text/plain": [
       "array([0, 1, 2, 3, 1])"
      ]
     },
     "execution_count": 11,
     "metadata": {},
     "output_type": "execute_result"
    }
   ],
   "source": [
    "arr_hetro = np.array([0,1,2,3,True])\n",
    "arr_hetro"
   ]
  },
  {
   "cell_type": "code",
   "execution_count": 12,
   "metadata": {},
   "outputs": [
    {
     "data": {
      "text/plain": [
       "(5,)"
      ]
     },
     "execution_count": 12,
     "metadata": {},
     "output_type": "execute_result"
    }
   ],
   "source": [
    "# shape\n",
    "\n",
    "arr_hetro.shape"
   ]
  },
  {
   "cell_type": "code",
   "execution_count": 13,
   "metadata": {},
   "outputs": [
    {
     "data": {
      "text/plain": [
       "array([0, 2, 4, 6, 2])"
      ]
     },
     "execution_count": 13,
     "metadata": {},
     "output_type": "execute_result"
    }
   ],
   "source": [
    "arr_hetro*2"
   ]
  },
  {
   "cell_type": "markdown",
   "metadata": {},
   "source": [
    "## Axis and dimensions:\n",
    "\n",
    "\n",
    "1. You can think an axis means , its a direction in the coordinate plane.\n",
    "2. Line ->1 Axis\n",
    "3. Square -> 2 Axix\n",
    "4. Cube -> 3 Axis\n",
    "\n",
    "\n",
    "\n",
    "5. The number of elements in the tuple is the number of axis.\n",
    "6. Elements value is length of the axis."
   ]
  },
  {
   "cell_type": "markdown",
   "metadata": {},
   "source": [
    "# Numpy testing operations\n",
    "\n",
    "1. Positive indexing\n",
    "2. Negitive indexing\n",
    "3. +,-,*,/ (a) with another array. b) With scalar)\n",
    "4. Adding /deleting/updating\n"
   ]
  },
  {
   "cell_type": "markdown",
   "metadata": {},
   "source": [
    "## Missing data"
   ]
  },
  {
   "cell_type": "code",
   "execution_count": 14,
   "metadata": {},
   "outputs": [],
   "source": [
    "# NAN (Not a number)\n",
    "arr_hetro = np.array([True,0,1,2,np.nan,3.6])"
   ]
  },
  {
   "cell_type": "code",
   "execution_count": 15,
   "metadata": {},
   "outputs": [
    {
     "data": {
      "text/plain": [
       "array([1. , 0. , 1. , 2. , nan, 3.6])"
      ]
     },
     "execution_count": 15,
     "metadata": {},
     "output_type": "execute_result"
    }
   ],
   "source": [
    "arr_hetro"
   ]
  },
  {
   "cell_type": "code",
   "execution_count": 42,
   "metadata": {},
   "outputs": [
    {
     "data": {
      "text/plain": [
       "dtype('float64')"
      ]
     },
     "execution_count": 42,
     "metadata": {},
     "output_type": "execute_result"
    }
   ],
   "source": [
    "arr_hetro.dtype"
   ]
  },
  {
   "cell_type": "code",
   "execution_count": 53,
   "metadata": {},
   "outputs": [
    {
     "name": "stdout",
     "output_type": "stream",
     "text": [
      "No\n"
     ]
    }
   ],
   "source": [
    "\n",
    "if 'xyz'>'yvw':\n",
    "    print(\"yes\")\n",
    "else:\n",
    "    print(\"No\")"
   ]
  },
  {
   "cell_type": "code",
   "execution_count": 54,
   "metadata": {},
   "outputs": [
    {
     "data": {
      "text/plain": [
       "str"
      ]
     },
     "execution_count": 54,
     "metadata": {},
     "output_type": "execute_result"
    }
   ],
   "source": [
    "type(\"X\")"
   ]
  },
  {
   "cell_type": "code",
   "execution_count": 55,
   "metadata": {},
   "outputs": [
    {
     "data": {
      "text/plain": [
       "False"
      ]
     },
     "execution_count": 55,
     "metadata": {},
     "output_type": "execute_result"
    }
   ],
   "source": [
    "\"joy\"==\"ritesh\""
   ]
  },
  {
   "cell_type": "code",
   "execution_count": 56,
   "metadata": {},
   "outputs": [
    {
     "data": {
      "text/plain": [
       "True"
      ]
     },
     "execution_count": 56,
     "metadata": {},
     "output_type": "execute_result"
    }
   ],
   "source": [
    "type(\"joy\")==type(\"ritesh\")"
   ]
  },
  {
   "cell_type": "code",
   "execution_count": 57,
   "metadata": {},
   "outputs": [
    {
     "data": {
      "text/plain": [
       "False"
      ]
     },
     "execution_count": 57,
     "metadata": {},
     "output_type": "execute_result"
    }
   ],
   "source": [
    "\"joy\">\"ritesh\""
   ]
  },
  {
   "cell_type": "code",
   "execution_count": 58,
   "metadata": {},
   "outputs": [
    {
     "data": {
      "text/plain": [
       "False"
      ]
     },
     "execution_count": 58,
     "metadata": {},
     "output_type": "execute_result"
    }
   ],
   "source": [
    "'A'>'B'"
   ]
  },
  {
   "cell_type": "code",
   "execution_count": 59,
   "metadata": {},
   "outputs": [
    {
     "data": {
      "text/plain": [
       "True"
      ]
     },
     "execution_count": 59,
     "metadata": {},
     "output_type": "execute_result"
    }
   ],
   "source": [
    "'B'>'A'"
   ]
  },
  {
   "cell_type": "code",
   "execution_count": 60,
   "metadata": {},
   "outputs": [
    {
     "data": {
      "text/plain": [
       "False"
      ]
     },
     "execution_count": 60,
     "metadata": {},
     "output_type": "execute_result"
    }
   ],
   "source": [
    "\"AB\">\"BA\""
   ]
  },
  {
   "cell_type": "code",
   "execution_count": 61,
   "metadata": {},
   "outputs": [
    {
     "data": {
      "text/plain": [
       "True"
      ]
     },
     "execution_count": 61,
     "metadata": {},
     "output_type": "execute_result"
    }
   ],
   "source": [
    "\"Z\"> \"ABCDEF\""
   ]
  },
  {
   "cell_type": "code",
   "execution_count": 62,
   "metadata": {},
   "outputs": [
    {
     "data": {
      "text/plain": [
       "True"
      ]
     },
     "execution_count": 62,
     "metadata": {},
     "output_type": "execute_result"
    }
   ],
   "source": [
    "\"a\">\"A\""
   ]
  },
  {
   "cell_type": "code",
   "execution_count": 63,
   "metadata": {},
   "outputs": [
    {
     "data": {
      "text/plain": [
       "65"
      ]
     },
     "execution_count": 63,
     "metadata": {},
     "output_type": "execute_result"
    }
   ],
   "source": [
    "ord(\"A\")"
   ]
  },
  {
   "cell_type": "code",
   "execution_count": 64,
   "metadata": {},
   "outputs": [],
   "source": [
    "# 1700 branches \"id\"\n",
    "\n",
    "business_ids = np.array(range(1,1701))"
   ]
  },
  {
   "cell_type": "code",
   "execution_count": 65,
   "metadata": {},
   "outputs": [
    {
     "data": {
      "text/plain": [
       "(1700,)"
      ]
     },
     "execution_count": 65,
     "metadata": {},
     "output_type": "execute_result"
    }
   ],
   "source": [
    "business_ids.shape"
   ]
  },
  {
   "cell_type": "code",
   "execution_count": 67,
   "metadata": {},
   "outputs": [
    {
     "data": {
      "text/plain": [
       "array([ 1,  2,  3,  4,  5,  6,  7,  8,  9, 10])"
      ]
     },
     "execution_count": 67,
     "metadata": {},
     "output_type": "execute_result"
    }
   ],
   "source": [
    "# Access 10 ids from first and last\n",
    "\n",
    "business_ids[:10]"
   ]
  },
  {
   "cell_type": "code",
   "execution_count": 68,
   "metadata": {},
   "outputs": [
    {
     "data": {
      "text/plain": [
       "array([1691, 1692, 1693, 1694, 1695, 1696, 1697, 1698, 1699, 1700])"
      ]
     },
     "execution_count": 68,
     "metadata": {},
     "output_type": "execute_result"
    }
   ],
   "source": [
    "business_ids[-10:]"
   ]
  },
  {
   "cell_type": "code",
   "execution_count": 69,
   "metadata": {},
   "outputs": [],
   "source": [
    "# creating one matrix by reshaping all this 1700 elements.\n",
    "\n",
    "\n",
    "id_matrix = business_ids.reshape(170,10)"
   ]
  },
  {
   "cell_type": "code",
   "execution_count": 70,
   "metadata": {},
   "outputs": [
    {
     "data": {
      "text/plain": [
       "(170, 10)"
      ]
     },
     "execution_count": 70,
     "metadata": {},
     "output_type": "execute_result"
    }
   ],
   "source": [
    "id_matrix.shape"
   ]
  },
  {
   "cell_type": "code",
   "execution_count": 71,
   "metadata": {},
   "outputs": [
    {
     "data": {
      "text/plain": [
       "array([[   1,    2,    3, ...,    8,    9,   10],\n",
       "       [  11,   12,   13, ...,   18,   19,   20],\n",
       "       [  21,   22,   23, ...,   28,   29,   30],\n",
       "       ...,\n",
       "       [1671, 1672, 1673, ..., 1678, 1679, 1680],\n",
       "       [1681, 1682, 1683, ..., 1688, 1689, 1690],\n",
       "       [1691, 1692, 1693, ..., 1698, 1699, 1700]])"
      ]
     },
     "execution_count": 71,
     "metadata": {},
     "output_type": "execute_result"
    }
   ],
   "source": [
    "id_matrix"
   ]
  },
  {
   "cell_type": "code",
   "execution_count": 72,
   "metadata": {},
   "outputs": [
    {
     "data": {
      "text/plain": [
       "array([   1,   11,   21,   31,   41,   51,   61,   71,   81,   91,  101,\n",
       "        111,  121,  131,  141,  151,  161,  171,  181,  191,  201,  211,\n",
       "        221,  231,  241,  251,  261,  271,  281,  291,  301,  311,  321,\n",
       "        331,  341,  351,  361,  371,  381,  391,  401,  411,  421,  431,\n",
       "        441,  451,  461,  471,  481,  491,  501,  511,  521,  531,  541,\n",
       "        551,  561,  571,  581,  591,  601,  611,  621,  631,  641,  651,\n",
       "        661,  671,  681,  691,  701,  711,  721,  731,  741,  751,  761,\n",
       "        771,  781,  791,  801,  811,  821,  831,  841,  851,  861,  871,\n",
       "        881,  891,  901,  911,  921,  931,  941,  951,  961,  971,  981,\n",
       "        991, 1001, 1011, 1021, 1031, 1041, 1051, 1061, 1071, 1081, 1091,\n",
       "       1101, 1111, 1121, 1131, 1141, 1151, 1161, 1171, 1181, 1191, 1201,\n",
       "       1211, 1221, 1231, 1241, 1251, 1261, 1271, 1281, 1291, 1301, 1311,\n",
       "       1321, 1331, 1341, 1351, 1361, 1371, 1381, 1391, 1401, 1411, 1421,\n",
       "       1431, 1441, 1451, 1461, 1471, 1481, 1491, 1501, 1511, 1521, 1531,\n",
       "       1541, 1551, 1561, 1571, 1581, 1591, 1601, 1611, 1621, 1631, 1641,\n",
       "       1651, 1661, 1671, 1681, 1691])"
      ]
     },
     "execution_count": 72,
     "metadata": {},
     "output_type": "execute_result"
    }
   ],
   "source": [
    "# column\n",
    "id_matrix[:,0]"
   ]
  },
  {
   "cell_type": "code",
   "execution_count": 73,
   "metadata": {},
   "outputs": [
    {
     "data": {
      "text/plain": [
       "array([ 1,  2,  3,  4,  5,  6,  7,  8,  9, 10])"
      ]
     },
     "execution_count": 73,
     "metadata": {},
     "output_type": "execute_result"
    }
   ],
   "source": [
    "# Row\n",
    "id_matrix[0,:]"
   ]
  },
  {
   "cell_type": "code",
   "execution_count": 75,
   "metadata": {},
   "outputs": [
    {
     "data": {
      "text/plain": [
       "array([[ 1,  2,  3,  4,  5,  6,  7,  8,  9, 10],\n",
       "       [11, 12, 13, 14, 15, 16, 17, 18, 19, 20],\n",
       "       [21, 22, 23, 24, 25, 26, 27, 28, 29, 30],\n",
       "       [31, 32, 33, 34, 35, 36, 37, 38, 39, 40],\n",
       "       [41, 42, 43, 44, 45, 46, 47, 48, 49, 50]])"
      ]
     },
     "execution_count": 75,
     "metadata": {},
     "output_type": "execute_result"
    }
   ],
   "source": [
    "id_matrix[0:5]"
   ]
  },
  {
   "cell_type": "code",
   "execution_count": 76,
   "metadata": {},
   "outputs": [
    {
     "data": {
      "text/plain": [
       "array([[ 1,  2,  3,  4,  5],\n",
       "       [11, 12, 13, 14, 15],\n",
       "       [21, 22, 23, 24, 25],\n",
       "       [31, 32, 33, 34, 35],\n",
       "       [41, 42, 43, 44, 45]])"
      ]
     },
     "execution_count": 76,
     "metadata": {},
     "output_type": "execute_result"
    }
   ],
   "source": [
    "# access a specific part\n",
    "\n",
    "id_matrix[:5,:5]"
   ]
  },
  {
   "cell_type": "code",
   "execution_count": 77,
   "metadata": {},
   "outputs": [
    {
     "data": {
      "text/plain": [
       "(170, 10)"
      ]
     },
     "execution_count": 77,
     "metadata": {},
     "output_type": "execute_result"
    }
   ],
   "source": [
    "id_matrix.shape\n",
    "\n",
    "# 170 rows \n",
    "# 10 columns\n",
    "# 2 dimensions(number of elements in the tuple)"
   ]
  },
  {
   "cell_type": "code",
   "execution_count": 79,
   "metadata": {},
   "outputs": [
    {
     "data": {
      "text/plain": [
       "array([ 1,  2,  3,  4,  5,  6,  7,  8,  9, 10])"
      ]
     },
     "execution_count": 79,
     "metadata": {},
     "output_type": "execute_result"
    }
   ],
   "source": [
    "# minimum in each and every column\n",
    "\n",
    "col_min = np.min(id_matrix, axis = 0)\n",
    "col_min"
   ]
  },
  {
   "cell_type": "code",
   "execution_count": 80,
   "metadata": {},
   "outputs": [
    {
     "data": {
      "text/plain": [
       "array([1691, 1692, 1693, 1694, 1695, 1696, 1697, 1698, 1699, 1700])"
      ]
     },
     "execution_count": 80,
     "metadata": {},
     "output_type": "execute_result"
    }
   ],
   "source": [
    "# minimum in each and every column\n",
    "\n",
    "col_max = np.max(id_matrix, axis = 0)\n",
    "col_max"
   ]
  },
  {
   "cell_type": "code",
   "execution_count": 82,
   "metadata": {},
   "outputs": [
    {
     "name": "stdout",
     "output_type": "stream",
     "text": [
      "170\n"
     ]
    },
    {
     "data": {
      "text/plain": [
       "array([   1,   11,   21,   31,   41,   51,   61,   71,   81,   91,  101,\n",
       "        111,  121,  131,  141,  151,  161,  171,  181,  191,  201,  211,\n",
       "        221,  231,  241,  251,  261,  271,  281,  291,  301,  311,  321,\n",
       "        331,  341,  351,  361,  371,  381,  391,  401,  411,  421,  431,\n",
       "        441,  451,  461,  471,  481,  491,  501,  511,  521,  531,  541,\n",
       "        551,  561,  571,  581,  591,  601,  611,  621,  631,  641,  651,\n",
       "        661,  671,  681,  691,  701,  711,  721,  731,  741,  751,  761,\n",
       "        771,  781,  791,  801,  811,  821,  831,  841,  851,  861,  871,\n",
       "        881,  891,  901,  911,  921,  931,  941,  951,  961,  971,  981,\n",
       "        991, 1001, 1011, 1021, 1031, 1041, 1051, 1061, 1071, 1081, 1091,\n",
       "       1101, 1111, 1121, 1131, 1141, 1151, 1161, 1171, 1181, 1191, 1201,\n",
       "       1211, 1221, 1231, 1241, 1251, 1261, 1271, 1281, 1291, 1301, 1311,\n",
       "       1321, 1331, 1341, 1351, 1361, 1371, 1381, 1391, 1401, 1411, 1421,\n",
       "       1431, 1441, 1451, 1461, 1471, 1481, 1491, 1501, 1511, 1521, 1531,\n",
       "       1541, 1551, 1561, 1571, 1581, 1591, 1601, 1611, 1621, 1631, 1641,\n",
       "       1651, 1661, 1671, 1681, 1691])"
      ]
     },
     "execution_count": 82,
     "metadata": {},
     "output_type": "execute_result"
    }
   ],
   "source": [
    "# minimum in each and every Row\n",
    "\n",
    "row_min = np.min(id_matrix, axis = 1)\n",
    "print(len(row_min))\n",
    "row_min"
   ]
  },
  {
   "cell_type": "code",
   "execution_count": 84,
   "metadata": {},
   "outputs": [
    {
     "name": "stdout",
     "output_type": "stream",
     "text": [
      "170\n"
     ]
    },
    {
     "data": {
      "text/plain": [
       "array([  10,   20,   30,   40,   50,   60,   70,   80,   90,  100,  110,\n",
       "        120,  130,  140,  150,  160,  170,  180,  190,  200,  210,  220,\n",
       "        230,  240,  250,  260,  270,  280,  290,  300,  310,  320,  330,\n",
       "        340,  350,  360,  370,  380,  390,  400,  410,  420,  430,  440,\n",
       "        450,  460,  470,  480,  490,  500,  510,  520,  530,  540,  550,\n",
       "        560,  570,  580,  590,  600,  610,  620,  630,  640,  650,  660,\n",
       "        670,  680,  690,  700,  710,  720,  730,  740,  750,  760,  770,\n",
       "        780,  790,  800,  810,  820,  830,  840,  850,  860,  870,  880,\n",
       "        890,  900,  910,  920,  930,  940,  950,  960,  970,  980,  990,\n",
       "       1000, 1010, 1020, 1030, 1040, 1050, 1060, 1070, 1080, 1090, 1100,\n",
       "       1110, 1120, 1130, 1140, 1150, 1160, 1170, 1180, 1190, 1200, 1210,\n",
       "       1220, 1230, 1240, 1250, 1260, 1270, 1280, 1290, 1300, 1310, 1320,\n",
       "       1330, 1340, 1350, 1360, 1370, 1380, 1390, 1400, 1410, 1420, 1430,\n",
       "       1440, 1450, 1460, 1470, 1480, 1490, 1500, 1510, 1520, 1530, 1540,\n",
       "       1550, 1560, 1570, 1580, 1590, 1600, 1610, 1620, 1630, 1640, 1650,\n",
       "       1660, 1670, 1680, 1690, 1700])"
      ]
     },
     "execution_count": 84,
     "metadata": {},
     "output_type": "execute_result"
    }
   ],
   "source": [
    "# Maximum in each and every Row\n",
    "\n",
    "row_max = np.max(id_matrix, axis = 1)\n",
    "print(len(row_max))\n",
    "row_max"
   ]
  },
  {
   "cell_type": "code",
   "execution_count": 90,
   "metadata": {},
   "outputs": [
    {
     "data": {
      "text/plain": [
       "10"
      ]
     },
     "execution_count": 90,
     "metadata": {},
     "output_type": "execute_result"
    }
   ],
   "source": [
    "id_matrix.shape[1]"
   ]
  },
  {
   "cell_type": "code",
   "execution_count": 88,
   "metadata": {},
   "outputs": [
    {
     "data": {
      "text/plain": [
       "1"
      ]
     },
     "execution_count": 88,
     "metadata": {},
     "output_type": "execute_result"
    }
   ],
   "source": [
    "(1,2,3,4)[0]"
   ]
  },
  {
   "cell_type": "code",
   "execution_count": 1,
   "metadata": {},
   "outputs": [
    {
     "ename": "NameError",
     "evalue": "name 'id_matrix' is not defined",
     "output_type": "error",
     "traceback": [
      "\u001b[1;31m---------------------------------------------------------------------------\u001b[0m",
      "\u001b[1;31mNameError\u001b[0m                                 Traceback (most recent call last)",
      "\u001b[1;32m<ipython-input-1-5ea326c05ce0>\u001b[0m in \u001b[0;36m<module>\u001b[1;34m\u001b[0m\n\u001b[0;32m      1\u001b[0m \u001b[1;31m# i want you to select 5 any numburs randomly from 10 columns\u001b[0m\u001b[1;33m\u001b[0m\u001b[1;33m\u001b[0m\u001b[1;33m\u001b[0m\u001b[0m\n\u001b[0;32m      2\u001b[0m \u001b[1;33m\u001b[0m\u001b[0m\n\u001b[1;32m----> 3\u001b[1;33m \u001b[1;32mfor\u001b[0m \u001b[0mgroup\u001b[0m \u001b[1;32min\u001b[0m \u001b[0mrange\u001b[0m\u001b[1;33m(\u001b[0m\u001b[0mid_matrix\u001b[0m\u001b[1;33m.\u001b[0m\u001b[0mshape\u001b[0m\u001b[1;33m[\u001b[0m\u001b[1;36m1\u001b[0m\u001b[1;33m]\u001b[0m\u001b[1;33m)\u001b[0m\u001b[1;33m:\u001b[0m\u001b[1;33m\u001b[0m\u001b[1;33m\u001b[0m\u001b[0m\n\u001b[0m\u001b[0;32m      4\u001b[0m     \u001b[0mprint\u001b[0m\u001b[1;33m(\u001b[0m\u001b[1;34m\"Group {}: {}\"\u001b[0m\u001b[1;33m.\u001b[0m\u001b[0mformat\u001b[0m\u001b[1;33m(\u001b[0m\u001b[0mgroup\u001b[0m\u001b[1;33m+\u001b[0m\u001b[1;36m1\u001b[0m\u001b[1;33m,\u001b[0m\u001b[0mnp\u001b[0m\u001b[1;33m.\u001b[0m\u001b[0mrandom\u001b[0m\u001b[1;33m.\u001b[0m\u001b[0mchoice\u001b[0m\u001b[1;33m(\u001b[0m\u001b[0mid_matrix\u001b[0m\u001b[1;33m[\u001b[0m\u001b[1;33m:\u001b[0m\u001b[1;33m,\u001b[0m\u001b[0mgroup\u001b[0m\u001b[1;33m]\u001b[0m\u001b[1;33m,\u001b[0m\u001b[0mreplace\u001b[0m \u001b[1;33m=\u001b[0m \u001b[1;32mFalse\u001b[0m\u001b[1;33m)\u001b[0m\u001b[1;33m)\u001b[0m\u001b[1;33m)\u001b[0m\u001b[1;33m\u001b[0m\u001b[1;33m\u001b[0m\u001b[0m\n",
      "\u001b[1;31mNameError\u001b[0m: name 'id_matrix' is not defined"
     ]
    }
   ],
   "source": [
    "# i want you to select 5 any numburs randomly from 10 columns \n",
    "\n",
    "for group in range(id_matrix.shape[1]):\n",
    "    print(\"Group {}: {}\".format(group+1,np.random.choice(id_matrix[:,group],replace = False)))"
   ]
  },
  {
   "cell_type": "code",
   "execution_count": 94,
   "metadata": {},
   "outputs": [
    {
     "name": "stdout",
     "output_type": "stream",
     "text": [
      "0\n",
      "1\n",
      "2\n",
      "3\n",
      "4\n",
      "5\n",
      "6\n",
      "7\n",
      "8\n",
      "9\n"
     ]
    }
   ],
   "source": [
    "for var in range(id_matrix.shape[1]):\n",
    "    print(var)"
   ]
  },
  {
   "cell_type": "code",
   "execution_count": null,
   "metadata": {},
   "outputs": [],
   "source": [
    "np.random.choice"
   ]
  },
  {
   "cell_type": "code",
   "execution_count": null,
   "metadata": {},
   "outputs": [],
   "source": [
    "np.random.choice()"
   ]
  }
 ],
 "metadata": {
  "kernelspec": {
   "display_name": "Python 3",
   "language": "python",
   "name": "python3"
  },
  "language_info": {
   "codemirror_mode": {
    "name": "ipython",
    "version": 3
   },
   "file_extension": ".py",
   "mimetype": "text/x-python",
   "name": "python",
   "nbconvert_exporter": "python",
   "pygments_lexer": "ipython3",
   "version": "3.7.3"
  }
 },
 "nbformat": 4,
 "nbformat_minor": 2
}
