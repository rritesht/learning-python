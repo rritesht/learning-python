{
 "cells": [
  {
   "cell_type": "markdown",
   "metadata": {},
   "source": [
    "* Real Estate Company:\n",
    "\n",
    "    * Exact good Price/ benfit for both customer and for the business.\n",
    "    \n",
    "  * You Want to buy a house ?\n",
    "  \n",
    "          * Locality(Location)/city\n",
    "          * Type of house\n",
    "          * Budget\n",
    "          * Schools/Colleges\n",
    "          * Hospitals\n",
    "          * Amusment/Enter/ Shoping/ groces/\n",
    "          * Aminities\n",
    "          * community of people living\n"
   ]
  },
  {
   "cell_type": "markdown",
   "metadata": {},
   "source": [
    "* Deliverable:                Trained model file\n",
    "* Machine learning task:      Regression\n",
    "* Target variable:            Transaction Price\n",
    "* Win condition:              Avg. prediction error < $70,000"
   ]
  },
  {
   "cell_type": "markdown",
   "metadata": {},
   "source": [
    "* Navigation:\n",
    "    * 1.Exploratory Data Analysis\n",
    "    * 2.Data Cleaning\n",
    "    * 3.Feature Engineering\n",
    "    * 4.Regression Algorithms\n",
    "    * 5.Model Training"
   ]
  },
  {
   "cell_type": "markdown",
   "metadata": {},
   "source": [
    "## 1.Exploratory Data Analysis\n",
    "\n",
    "* 1.Basic Information\n",
    "* 2.Numaric Distribution\n",
    "* 3.Categorical Distributions\n",
    "* 4.Segmentations\n",
    "* 5.Correlations"
   ]
  },
  {
   "cell_type": "markdown",
   "metadata": {},
   "source": [
    "# 1.Basic Information"
   ]
  },
  {
   "cell_type": "code",
   "execution_count": null,
   "metadata": {},
   "outputs": [],
   "source": [
    "# Importing libraries\n",
    "\n",
    "# NumPy(Numarical Python) for Numarical Computing\n",
    "import numpy as np\n",
    "\n",
    "# Pandas for DaataFrame\n",
    "import pandas as pd\n",
    "\n",
    "# to display 100 columns by rewriting the deafult behaviour\n",
    "pd.set_option('display.max_columns',100)\n",
    "\n",
    "# to display 25 rows by rewriting the deafult behaviour\n",
    "pd.set_option('display.max_rows',25)\n",
    "\n",
    "# Matplotlib for visualizations\n",
    "import matplotlib\n",
    "from matplotlib import pyplot as plt\n",
    "\n",
    "# display plots in the same notebook\n",
    "%matplotlib inline\n",
    "\n",
    "# Seaborn for easier visulization\n",
    "import seaborn as sns"
   ]
  },
  {
   "cell_type": "code",
   "execution_count": null,
   "metadata": {},
   "outputs": [],
   "source": [
    "# Loading the data\n",
    "df = pd.read_csv(r\"C:\\Users\\Mohan\\DATA_SCIENTIST\\06_MACHINE LEARNING\\End_TO_End_Projects/real_estate_data.csv\")"
   ]
  },
  {
   "cell_type": "code",
   "execution_count": null,
   "metadata": {},
   "outputs": [],
   "source": [
    "# DataFrame Dimesnions\n",
    "df.shape # (rows,columns)"
   ]
  },
  {
   "cell_type": "code",
   "execution_count": null,
   "metadata": {},
   "outputs": [],
   "source": [
    "# DataFrame Column Datatypes\n",
    "\n",
    "# df.dtypes.unique() #(int64,object,float64)\n",
    "df.dtypes"
   ]
  },
  {
   "cell_type": "code",
   "execution_count": null,
   "metadata": {},
   "outputs": [],
   "source": [
    "# Display last 7 records\n",
    "df.tail(7)"
   ]
  },
  {
   "cell_type": "code",
   "execution_count": null,
   "metadata": {},
   "outputs": [],
   "source": [
    "# FIlter and Display only datatypes that are \"objects\"\n",
    "df.dtypes[df.dtypes=='object']"
   ]
  },
  {
   "cell_type": "code",
   "execution_count": null,
   "metadata": {},
   "outputs": [],
   "source": [
    "df.dtypes[df.dtypes=='object'].index"
   ]
  },
  {
   "cell_type": "code",
   "execution_count": null,
   "metadata": {},
   "outputs": [],
   "source": [
    "# Loop through categorical features names and print each one\n",
    "for feat in df.dtypes[df.dtypes=='object'].index:\n",
    "    print(feat)"
   ]
  },
  {
   "cell_type": "code",
   "execution_count": null,
   "metadata": {},
   "outputs": [],
   "source": [
    "# display first 10 rows\n",
    "df.head(10)"
   ]
  },
  {
   "cell_type": "markdown",
   "metadata": {},
   "source": [
    "# Observations:\n",
    "\n",
    "* we can know rows and columns count.\n",
    "\n",
    "* .dtypes will help us to know what category it belongs to in int, float and object.\n",
    "\n",
    "* By knowing data types we can cross check every thing is meaning full or any further more understanding required?\n",
    "\n",
    "* If we use the filter the observation and findings of dtypes is very easy.\n",
    "\n",
    "* Example Observations uses?\n",
    "\n",
    "    * For Qualitative feel.\n",
    "    * Do the columns make sense?\n",
    "    * Do the values in those columns make sense?\n",
    "    * Are the values on the right scale?\n",
    "    * Is missing data going to be a big problem based on a quick eyeball test?\n",
    "    * What type of classe in categorical featueres.\n"
   ]
  },
  {
   "cell_type": "markdown",
   "metadata": {},
   "source": [
    "## 2.Numaric Distribution of features"
   ]
  },
  {
   "cell_type": "markdown",
   "metadata": {},
   "source": [
    "* Un-expected behavour in the data.\n",
    "* Potential outliers dont make any sense, need to understand those.\n",
    "* Sparse data.\n",
    "* Features which are in binary are meaning full?\n",
    "* the boundaries that make any sense?\n",
    "* Is there any Potential measurments?\n"
   ]
  },
  {
   "cell_type": "code",
   "execution_count": null,
   "metadata": {},
   "outputs": [],
   "source": [
    "# To Plot the histogram grid\n",
    "df.hist(figsize=(14,25),xrot=-45,layout=(8,3))\n",
    "\n",
    "# To clear the text Residue\n",
    "plt.show()"
   ]
  },
  {
   "cell_type": "code",
   "execution_count": null,
   "metadata": {},
   "outputs": [],
   "source": [
    "df.describe()"
   ]
  },
  {
   "cell_type": "markdown",
   "metadata": {},
   "source": [
    "## 3. Distributions of categorical features"
   ]
  },
  {
   "cell_type": "code",
   "execution_count": null,
   "metadata": {},
   "outputs": [],
   "source": [
    "# Summarize categorical features\n",
    "df.describe(include ='object')"
   ]
  },
  {
   "cell_type": "code",
   "execution_count": null,
   "metadata": {},
   "outputs": [],
   "source": [
    "# Seaborn --> countplot()/ alternative to barplot\n",
    "\n",
    "sns.countplot(y ='property_type',data = df);"
   ]
  },
  {
   "cell_type": "code",
   "execution_count": null,
   "metadata": {},
   "outputs": [],
   "source": [
    "# barplot for Exterior_walls\n",
    "sns.countplot(y ='exterior_walls',data = df);"
   ]
  },
  {
   "cell_type": "code",
   "execution_count": null,
   "metadata": {},
   "outputs": [],
   "source": [
    "df['exterior_walls'].unique()"
   ]
  },
  {
   "cell_type": "markdown",
   "metadata": {},
   "source": [
    "* Observations:\n",
    "    * Brick\n",
    "    * Siding(Alum/vinyl)\n",
    "    * Metal\n",
    "    * Combination\n",
    "    * Wood \n",
    "    * wood siding\n",
    "    * Brick veneer\n",
    "    * stucoo\n",
    "    * others    \n",
    "    \n",
    "    Sparse classess(we dont have many observations)\n",
    "    \n",
    "    * concrete             \n",
    "    * concrete block      \n",
    "    * Block\n",
    "    * Asbestos shingle\n",
    "    * Rock, Stone\n",
    "    * Wood Shingle\n",
    "    * Masonry\n"
   ]
  },
  {
   "cell_type": "code",
   "execution_count": null,
   "metadata": {},
   "outputs": [],
   "source": [
    "# barplot for roof\n",
    "sns.countplot(y ='roof',data = df);"
   ]
  },
  {
   "cell_type": "code",
   "execution_count": null,
   "metadata": {},
   "outputs": [],
   "source": [
    "* Observations:\n",
    "    * Composition shingle\n",
    "    * Asphalt\n",
    "    * Shake Shingle\n",
    "    * Other\n",
    "    * Gravel/rock\n",
    "    * wood shake/shingle      \n",
    "    \n",
    "Sparse classess(we dont have many observations)\n",
    "    \n",
    "    \n"
   ]
  },
  {
   "cell_type": "code",
   "execution_count": null,
   "metadata": {},
   "outputs": [],
   "source": [
    "# plot bar plot for each categorical features.\n",
    "for feat in df.dtypes[df.dtypes=='object'].index:\n",
    "    sns.countplot(y =feat,data = df)\n",
    "    plt.show()"
   ]
  },
  {
   "cell_type": "code",
   "execution_count": null,
   "metadata": {},
   "outputs": [],
   "source": [
    "# plot bar plot for each categorical features.\n",
    "for feat in df.dtypes[df.dtypes=='int64'].index:\n",
    "    sns.countplot(y =feat,data = df)\n",
    "    plt.show()"
   ]
  },
  {
   "cell_type": "code",
   "execution_count": null,
   "metadata": {},
   "outputs": [],
   "source": [
    "# plot bar plot for each categorical features.\n",
    "for feat in df.dtypes[df.dtypes=='float64'].index:\n",
    "    sns.countplot(y =feat,data = df)\n",
    "    plt.show()"
   ]
  },
  {
   "cell_type": "markdown",
   "metadata": {},
   "source": [
    "# 4. Segmentations "
   ]
  },
  {
   "cell_type": "code",
   "execution_count": null,
   "metadata": {},
   "outputs": [],
   "source": [
    "# Segment tx_price by property_type and plot distributions\n",
    "\n",
    "sns.boxplot(x ='tx_price',y ='property_type', data = df);"
   ]
  },
  {
   "cell_type": "code",
   "execution_count": null,
   "metadata": {},
   "outputs": [],
   "source": [
    "sns.boxplot(x ='median_age',y ='property_type', data = df);"
   ]
  },
  {
   "cell_type": "code",
   "execution_count": null,
   "metadata": {},
   "outputs": [],
   "source": [
    "df.groupby('property_type').mean()"
   ]
  },
  {
   "cell_type": "code",
   "execution_count": null,
   "metadata": {},
   "outputs": [],
   "source": [
    "df.groupby('property_type').agg(['mean','std'])"
   ]
  },
  {
   "cell_type": "markdown",
   "metadata": {},
   "source": [
    "# 5. Correlations"
   ]
  },
  {
   "cell_type": "markdown",
   "metadata": {},
   "source": [
    "* relationship between Numarical features.\n",
    "* It is a value between -1 and 1 that represents how closely values for to seperate features move in same direction.\n",
    "\n",
    "* positive correlation : (0+......<=1) --> one feature increases , other also increases.\n",
    "* Negetive correlation : (-1<=..... <=-0.X)  --> one feature increases other decreses.\n",
    "* 0( Zero)  : Indicates no relationship."
   ]
  },
  {
   "cell_type": "code",
   "execution_count": null,
   "metadata": {},
   "outputs": [],
   "source": [
    "# calculation of correlations between numeric features\n",
    "correlations = df.corr()"
   ]
  },
  {
   "cell_type": "code",
   "execution_count": null,
   "metadata": {},
   "outputs": [],
   "source": [
    "correlations"
   ]
  },
  {
   "cell_type": "code",
   "execution_count": null,
   "metadata": {},
   "outputs": [],
   "source": [
    "# adjusting the figure size\n",
    "\n",
    "plt.figure(figsize=(9,9))\n",
    "\n",
    "# ploting correlations/ Heatmap\n",
    "sns.heatmap(correlations);"
   ]
  },
  {
   "cell_type": "code",
   "execution_count": null,
   "metadata": {},
   "outputs": [],
   "source": [
    "# adjusting the figure size\n",
    "plt.figure(figsize=(12,12))\n",
    "\n",
    "# ploting correlations/ Heatmap\n",
    "sns.heatmap(correlations*100 , annot = True, fmt='.0f');"
   ]
  },
  {
   "cell_type": "code",
   "execution_count": null,
   "metadata": {},
   "outputs": [],
   "source": [
    "# designing filter for Unpper triangle\n",
    "mask = np.zeros_like(correlations,dtype=np.bool)\n",
    "mask[np.triu_indices_from(mask)] = True\n",
    "\n",
    "# adjusting the figure size\n",
    "plt.figure(figsize=(12,12))\n",
    "\n",
    "# ploting correlations/ Heatmap\n",
    "sns.heatmap(correlations*100 , annot = True, fmt='.0f',mask = mask);"
   ]
  },
  {
   "cell_type": "code",
   "execution_count": null,
   "metadata": {},
   "outputs": [],
   "source": [
    "# designing filter for Lower triangle\n",
    "mask = np.zeros_like(correlations,dtype=np.bool)\n",
    "mask[np.tril_indices_from(mask)] = True\n",
    "\n",
    "# adjusting the figure size\n",
    "plt.figure(figsize=(12,12))\n",
    "\n",
    "# ploting correlations/ Heatmap\n",
    "sns.heatmap(correlations*100 , annot = True, fmt='.0f',mask = mask);\n"
   ]
  },
  {
   "cell_type": "markdown",
   "metadata": {},
   "source": [
    "# 2.Data Cleaning"
   ]
  },
  {
   "cell_type": "markdown",
   "metadata": {},
   "source": [
    "* 1. Unwanted Observations\n",
    "* 2. Structural Errors\n",
    "* 3. Unwanted Outliers\n",
    "* 4. Missing categorical values\n",
    "* 5. Missing Numarical Values\n"
   ]
  },
  {
   "cell_type": "markdown",
   "metadata": {},
   "source": [
    "## 1. Unwanted Observations"
   ]
  },
  {
   "cell_type": "markdown",
   "metadata": {},
   "source": [
    "* Duplicates obsertvations : mostly in the stage of data collectin/ combiuniing multiple datasets/scrpe data/ receving data from clinetes/ otherdepartment.\n",
    "* Irrelevent Obsetrvatinos:"
   ]
  },
  {
   "cell_type": "code",
   "execution_count": null,
   "metadata": {},
   "outputs": [],
   "source": [
    "df.shape"
   ]
  },
  {
   "cell_type": "code",
   "execution_count": null,
   "metadata": {},
   "outputs": [],
   "source": [
    "df_rd = df.drop_duplicates()"
   ]
  },
  {
   "cell_type": "code",
   "execution_count": null,
   "metadata": {},
   "outputs": [],
   "source": [
    "df_rd.shape"
   ]
  },
  {
   "cell_type": "markdown",
   "metadata": {},
   "source": [
    "## Result : In our data frame there are no duplicates"
   ]
  },
  {
   "cell_type": "code",
   "execution_count": null,
   "metadata": {},
   "outputs": [],
   "source": [
    "26 \n",
    "\n",
    "1 - 25( 0)"
   ]
  },
  {
   "cell_type": "markdown",
   "metadata": {},
   "source": [
    "#  2. Structural Errors"
   ]
  },
  {
   "cell_type": "markdown",
   "metadata": {},
   "source": [
    "### indicator variables"
   ]
  },
  {
   "cell_type": "code",
   "execution_count": null,
   "metadata": {},
   "outputs": [],
   "source": [
    "# display the unique values\n",
    "\n",
    "df['basement'].unique()"
   ]
  },
  {
   "cell_type": "code",
   "execution_count": null,
   "metadata": {},
   "outputs": [],
   "source": [
    "# Count of classess in basement\n",
    "df['basement'].value_counts()"
   ]
  },
  {
   "cell_type": "code",
   "execution_count": null,
   "metadata": {},
   "outputs": [],
   "source": [
    "1883-1657"
   ]
  },
  {
   "cell_type": "code",
   "execution_count": null,
   "metadata": {},
   "outputs": [],
   "source": [
    "# missing values replacment in the basement feature\n",
    "df['basement']= df['basement'].fillna(0)"
   ]
  },
  {
   "cell_type": "code",
   "execution_count": null,
   "metadata": {},
   "outputs": [],
   "source": [
    "df['basement'].value_counts()"
   ]
  },
  {
   "cell_type": "markdown",
   "metadata": {},
   "source": [
    "## Typos and Capitalization"
   ]
  },
  {
   "cell_type": "code",
   "execution_count": null,
   "metadata": {},
   "outputs": [],
   "source": [
    "df.dtypes[df.dtypes=='object'].index"
   ]
  },
  {
   "cell_type": "code",
   "execution_count": null,
   "metadata": {},
   "outputs": [],
   "source": [
    "## 'property_type', 'exterior_walls', 'roof'"
   ]
  },
  {
   "cell_type": "code",
   "execution_count": null,
   "metadata": {},
   "outputs": [],
   "source": [
    "# roof\n",
    "plt.figure(figsize=(9,9))\n",
    "sns.countplot(y = 'roof', data = df)\n",
    "plt.show()"
   ]
  },
  {
   "cell_type": "markdown",
   "metadata": {},
   "source": [
    "* Observations:\n",
    "    1. Composition/composition\n",
    "    2. Shake-shingle/ Shake Shingle/asphalt,Shake-Shingle\n",
    "    3. asphatl/Asphalt"
   ]
  },
  {
   "cell_type": "code",
   "execution_count": null,
   "metadata": {},
   "outputs": [],
   "source": [
    "# compositon should be 'Composition'\n",
    "df.roof.replace('composition', 'Composition', inplace =True)\n",
    "\n",
    "# or\n",
    "\n",
    "# df['roof'] = df.roof.replace('composition', 'Composition')\n",
    "\n",
    "# Shake-shingle/ asphalt,Shake-Shingle sholud be Shake Shingle\n",
    "df.roof.replace(['shake-shingle', 'asphalt,shake-shingle'],'Shake Shingle', inplace =True)\n",
    "\n",
    "# asphalt should  be Asphalt\n",
    "df.roof.replace('asphalt', 'Asphalt', inplace =True)"
   ]
  },
  {
   "cell_type": "code",
   "execution_count": null,
   "metadata": {},
   "outputs": [],
   "source": [
    "# roof\n",
    "plt.figure(figsize=(9,9))\n",
    "sns.countplot(y = 'roof', data = df)\n",
    "plt.show()"
   ]
  },
  {
   "cell_type": "markdown",
   "metadata": {},
   "source": [
    "## Misslabeled classess"
   ]
  },
  {
   "cell_type": "code",
   "execution_count": null,
   "metadata": {},
   "outputs": [],
   "source": [
    "sns.countplot(y = 'exterior_walls',data = df);"
   ]
  },
  {
   "cell_type": "markdown",
   "metadata": {},
   "source": [
    "* Observations:\n",
    " 1. concrete and block should be repalced with Concrete Block\n",
    " 2. Rock,Stone should be replaced with Masonry"
   ]
  },
  {
   "cell_type": "code",
   "execution_count": null,
   "metadata": {},
   "outputs": [],
   "source": [
    "# concrete and block should be repalced with Concrete Block\n",
    "df.exterior_walls.replace(['Concrete', 'Block'],'Concrete Block', inplace =True)\n",
    "\n",
    "#Rock,Stone should be replaced with Masonry\n",
    "df.exterior_walls.replace('Rock, Stone','Masonry', inplace =True)"
   ]
  },
  {
   "cell_type": "code",
   "execution_count": null,
   "metadata": {},
   "outputs": [],
   "source": [
    "df.exterior_walls.unique()"
   ]
  },
  {
   "cell_type": "code",
   "execution_count": null,
   "metadata": {},
   "outputs": [],
   "source": [
    "sns.countplot(y = 'exterior_walls',data = df);"
   ]
  },
  {
   "cell_type": "markdown",
   "metadata": {},
   "source": [
    "# 3. Unwanted Outliers"
   ]
  },
  {
   "cell_type": "markdown",
   "metadata": {},
   "source": [
    "* Outliers can cause problems with certain type of models. /Linear regression models are less effect to outliers compared to decission tree models.\n",
    "\n",
    "* You need to have very strong reason to remove an outlier because it will help to your model to perform well, in those situations if you remove with out consideration the performance will decrease.\n",
    "\n",
    "* you should never remove an outlier because of just a \"big number\"\n",
    "\n",
    "* The big number could be very informative in your model.\n",
    "\n",
    "* Good reasons:\n",
    "    * 1. Suspecious measurmeents that are unlikely to be real data.\n",
    "            * 1860  transaction\n",
    "            * house price/ tx_price is 0$\n",
    "            \n",
    "    * 2. Outliers that belong in different population.\n",
    "    \n",
    "    "
   ]
  },
  {
   "cell_type": "code",
   "execution_count": null,
   "metadata": {},
   "outputs": [],
   "source": [
    "df.columns"
   ]
  },
  {
   "cell_type": "code",
   "execution_count": null,
   "metadata": {},
   "outputs": [],
   "source": [
    "df['tx_year']\n",
    "df['tx_year'].min()  # 1993\n",
    "df['tx_year'].max()  # 2016"
   ]
  },
  {
   "cell_type": "code",
   "execution_count": null,
   "metadata": {},
   "outputs": [],
   "source": [
    "df.describe()"
   ]
  },
  {
   "cell_type": "markdown",
   "metadata": {},
   "source": [
    "## Boxplot\n"
   ]
  },
  {
   "cell_type": "code",
   "execution_count": null,
   "metadata": {},
   "outputs": [],
   "source": [
    "# boxpliot for \"tx_price\"\n",
    "sns.boxplot(df.tx_price);"
   ]
  },
  {
   "cell_type": "markdown",
   "metadata": {},
   "source": [
    "### observations:\n",
    "* price is distributed from 200K to 800K\n",
    "* Q2 is short range or distribution\n",
    "* Q4 is long range or distribution\n",
    "* vertical bar in shaded area - Median\n",
    "* Boxplot is showing summary statistics, median, IQR's, outliers.....\n"
   ]
  },
  {
   "cell_type": "code",
   "execution_count": null,
   "metadata": {},
   "outputs": [],
   "source": [
    "# summary statistics of a column\n",
    "df.tx_price.describe()"
   ]
  },
  {
   "cell_type": "code",
   "execution_count": null,
   "metadata": {},
   "outputs": [],
   "source": [
    "# Q1. Probability Distribution?"
   ]
  },
  {
   "cell_type": "code",
   "execution_count": null,
   "metadata": {},
   "outputs": [],
   "source": [
    "#Violin plot of tx_price to observe the probability distribution of the data.\n",
    "sns.violinplot(df.tx_price);\n",
    "plt.show()"
   ]
  },
  {
   "cell_type": "code",
   "execution_count": null,
   "metadata": {},
   "outputs": [],
   "source": [
    "# boxpliot for \"tx_price\"\n",
    "sns.boxplot(df.tx_price);\n",
    "#plt.xlim(0,100000)\n",
    "#plt.show()\n",
    "\n",
    "#Violin plot of tx_price to observe the probability distribution of the data.\n",
    "sns.violinplot(df.tx_price);\n",
    "plt.show()"
   ]
  },
  {
   "cell_type": "markdown",
   "metadata": {},
   "source": [
    "### Obserations:\n",
    "\n",
    "* Violin plot show the entire probabiolity distribution of the data\n",
    "\n",
    "* . is nothing but median.\n",
    "\n",
    "* Thick line is IQR\n",
    "\n",
    "* Thikness of plot represents the estimated probability density.\n",
    "    "
   ]
  },
  {
   "cell_type": "code",
   "execution_count": null,
   "metadata": {},
   "outputs": [],
   "source": [
    "# violin plot for \"beds\"\n",
    "sns.violinplot(df.beds);\n",
    "plt.show()\n",
    "# boxpliot for \"tx_price\"\n",
    "sns.boxplot(df.tx_price);\n",
    "plt.show()"
   ]
  },
  {
   "cell_type": "code",
   "execution_count": null,
   "metadata": {},
   "outputs": [],
   "source": [
    "# 1,2,3,4,5 - beds\n",
    "for n in df.beds.value_counts(sort =True).index:\n",
    "    df_temp = df[df.beds==n]\n",
    "    sns.boxplot(x =df_temp.beds, y =df_temp.tx_price)\n",
    "    #sns.violinplot(x =df_temp.beds, y =df_temp.tx_price)\n",
    "    plt.show()"
   ]
  },
  {
   "cell_type": "code",
   "execution_count": null,
   "metadata": {},
   "outputs": [],
   "source": [
    "# violin plot for \"sqft\"\n",
    "\n",
    "sns.violinplot(df.sqft);\n",
    "plt.show()\n"
   ]
  },
  {
   "cell_type": "code",
   "execution_count": null,
   "metadata": {},
   "outputs": [],
   "source": [
    "# violin plot for \"lot_size\"\n",
    "\n",
    "sns.violinplot(df.lot_size);\n",
    "plt.show()"
   ]
  },
  {
   "cell_type": "code",
   "execution_count": null,
   "metadata": {},
   "outputs": [],
   "source": [
    "df.lot_size.describe()"
   ]
  },
  {
   "cell_type": "code",
   "execution_count": null,
   "metadata": {},
   "outputs": [],
   "source": [
    "df.lot_size.value_counts(sort=True)\n",
    "df.lot_size.sort_values(ascending=False).head(10)"
   ]
  },
  {
   "cell_type": "code",
   "execution_count": null,
   "metadata": {},
   "outputs": [],
   "source": [
    "sns.boxplot(df.lot_size);"
   ]
  },
  {
   "cell_type": "code",
   "execution_count": null,
   "metadata": {},
   "outputs": [],
   "source": [
    "# removing the outlier and over writting the dataframe.\n",
    "\n",
    "df = df[df.lot_size <=500000]"
   ]
  },
  {
   "cell_type": "markdown",
   "metadata": {},
   "source": [
    "# 4. label missings for categorical data"
   ]
  },
  {
   "cell_type": "code",
   "execution_count": null,
   "metadata": {},
   "outputs": [],
   "source": [
    "# sum of null values in categorical variables\n",
    "df.select_dtypes(include= 'object').isnull().sum()"
   ]
  },
  {
   "cell_type": "code",
   "execution_count": null,
   "metadata": {},
   "outputs": [],
   "source": [
    "# fill the missing values with class Missing\n",
    "\n",
    "for col in df.select_dtypes(include= 'object'):\n",
    "    df[col]=df[col].fillna('Missing')"
   ]
  },
  {
   "cell_type": "code",
   "execution_count": null,
   "metadata": {},
   "outputs": [],
   "source": [
    "# sum of null values in categorical variables\n",
    "df.select_dtypes(include= 'object').isnull().sum()"
   ]
  },
  {
   "cell_type": "code",
   "execution_count": null,
   "metadata": {},
   "outputs": [],
   "source": [
    "# identifying the missing values in numaric features\n",
    "df.select_dtypes(exclude= 'object').isnull().sum()"
   ]
  },
  {
   "cell_type": "code",
   "execution_count": null,
   "metadata": {},
   "outputs": [],
   "source": [
    "# Importing libraries\n",
    "\n",
    "# NumPy(Numarical Python) for Numarical Computing\n",
    "import numpy as np\n",
    "\n",
    "# Pandas for DaataFrame\n",
    "import pandas as pd\n",
    "\n",
    "# to display 100 columns by rewriting the deafult behaviour\n",
    "pd.set_option('display.max_columns',100)\n",
    "\n",
    "# to display 25 rows by rewriting the deafult behaviour\n",
    "pd.set_option('display.max_rows',25)\n",
    "\n",
    "# Matplotlib for visualizations\n",
    "import matplotlib\n",
    "from matplotlib import pyplot as plt\n",
    "\n",
    "# display plots in the same notebook\n",
    "%matplotlib inline\n",
    "\n",
    "# Seaborn for easier visulization\n",
    "import seaborn as sns\n",
    "\n",
    "# Loading the data\n",
    "df = pd.read_csv(r\"C:\\Users\\Mohan\\DATA_SCIENTIST\\06_MACHINE LEARNING\\End_TO_End_Projects/real_estate_data.csv\")\n",
    "\n",
    "# missing values replacment in the basement feature\n",
    "df['basement']= df['basement'].fillna(0)\n",
    "\n",
    "# compositon should be 'Composition'\n",
    "df.roof.replace('composition', 'Composition', inplace =True)\n",
    "\n",
    "# Shake-shingle/ asphalt,Shake-Shingle sholud be Shake Shingle\n",
    "df.roof.replace(['shake-shingle', 'asphalt,shake-shingle'],'Shake Shingle', inplace =True)\n",
    "\n",
    "# asphalt should  be Asphalt\n",
    "df.roof.replace('asphalt', 'Asphalt', inplace =True)\n",
    "\n",
    "# concrete and block should be repalced with Concrete Block\n",
    "df.exterior_walls.replace(['Concrete', 'Block'],'Concrete Block', inplace =True)\n",
    "\n",
    "#Rock,Stone should be replaced with Masonry\n",
    "df.exterior_walls.replace('Rock, Stone','Masonry', inplace =True)\n",
    "\n",
    "# removing the outlier and over writting the dataframe.\n",
    "df = df[df.lot_size <=500000]\n",
    "\n",
    "# fill the missing values with class Missing\n",
    "for col in df.select_dtypes(include= 'object'):\n",
    "    df[col]=df[col].fillna('Missing')"
   ]
  },
  {
   "cell_type": "code",
   "execution_count": null,
   "metadata": {},
   "outputs": [],
   "source": [
    "df.head()"
   ]
  },
  {
   "cell_type": "markdown",
   "metadata": {},
   "source": [
    "# 5. label missings for Numarical Variables data"
   ]
  },
  {
   "cell_type": "code",
   "execution_count": null,
   "metadata": {},
   "outputs": [],
   "source": [
    "\n",
    "df.select_dtypes(exclude = 'object').isnull().sum()"
   ]
  },
  {
   "cell_type": "markdown",
   "metadata": {},
   "source": [
    "# 3. Feature Engineering"
   ]
  },
  {
   "cell_type": "markdown",
   "metadata": {},
   "source": [
    "* 1.Domain Knowledge\n",
    "* 2.Intraction features\n",
    "* 3.Sparse Classes\n",
    "* 4.Dummy variables\n",
    "* 5.Remove the unused features/columns"
   ]
  },
  {
   "cell_type": "code",
   "execution_count": null,
   "metadata": {},
   "outputs": [],
   "source": [
    "# Bed rooms with count\n",
    "df.beds.value_counts()"
   ]
  },
  {
   "cell_type": "code",
   "execution_count": null,
   "metadata": {},
   "outputs": [],
   "source": [
    "# Number of bathroom\n",
    "\n",
    "df.baths.value_counts()"
   ]
  },
  {
   "cell_type": "code",
   "execution_count": null,
   "metadata": {},
   "outputs": [],
   "source": [
    "df.beds.index"
   ]
  },
  {
   "cell_type": "code",
   "execution_count": null,
   "metadata": {},
   "outputs": [],
   "source": [
    "for a in df.beds.value_counts(sort= False).index:\n",
    "    print(\"Number of Bed Rooms {}\".format(a))\n",
    "    print(df[df.beds==a].baths.value_counts())"
   ]
  },
  {
   "cell_type": "code",
   "execution_count": null,
   "metadata": {},
   "outputs": [],
   "source": [
    "total_equal_records = []\n",
    "for a in df.beds.value_counts(sort= False).index:\n",
    "    for b in df.baths.value_counts(sort= False).index:\n",
    "        if a==b:            \n",
    "            print(\"bed {}, baths{}\".format(a,b))\n",
    "            s = len(df[(df.beds==a) & (df.baths==b)])\n",
    "            total_equal_records.append(s)\n",
    "            print(s)\n",
    "\n",
    "print(sum(total_equal_records)/len(df))\n"
   ]
  },
  {
   "cell_type": "code",
   "execution_count": null,
   "metadata": {},
   "outputs": [],
   "source": [
    "del sum"
   ]
  },
  {
   "cell_type": "code",
   "execution_count": null,
   "metadata": {},
   "outputs": [],
   "source": [
    "sum(total_equal_records)"
   ]
  },
  {
   "cell_type": "code",
   "execution_count": null,
   "metadata": {},
   "outputs": [],
   "source": [
    "df[df.beds==3].baths.value_counts()"
   ]
  },
  {
   "cell_type": "code",
   "execution_count": null,
   "metadata": {},
   "outputs": [],
   "source": [
    "for a in df.beds.value_counts().index:\n",
    "    print(a)"
   ]
  },
  {
   "cell_type": "code",
   "execution_count": null,
   "metadata": {},
   "outputs": [],
   "source": [
    "df.columns"
   ]
  },
  {
   "cell_type": "code",
   "execution_count": null,
   "metadata": {},
   "outputs": [],
   "source": [
    "df_bb = df[['tx_price','beds','baths','sqft','tx_year']]"
   ]
  },
  {
   "cell_type": "code",
   "execution_count": null,
   "metadata": {},
   "outputs": [],
   "source": [
    "df_bb.head()"
   ]
  },
  {
   "cell_type": "code",
   "execution_count": null,
   "metadata": {},
   "outputs": [],
   "source": []
  },
  {
   "cell_type": "code",
   "execution_count": null,
   "metadata": {},
   "outputs": [],
   "source": [
    "for a in df_bb.beds.value_counts(sort= False).index:\n",
    "    for b in df_bb.baths.value_counts(sort= False).index:        \n",
    "        if len(df_bb[(df_bb.beds==a) & (df_bb.baths == b)])>0:\n",
    "            print(\"Number of Bed Rooms {} and Bathrooms {}\".format(a,b))\n",
    "            print(df_bb[(df_bb.beds==a) & (df_bb.baths == b)].describe())\n",
    "        else:\n",
    "            print(\"Number of Bed Rooms {} and Bathrooms {} combination is not avilable.\".format(a,b))"
   ]
  },
  {
   "cell_type": "code",
   "execution_count": null,
   "metadata": {},
   "outputs": [],
   "source": [
    "df[(df.beds==1) & (df.baths == 2)].describe()"
   ]
  },
  {
   "cell_type": "code",
   "execution_count": null,
   "metadata": {},
   "outputs": [],
   "source": [
    "# creating an indicator for equal number of beds and baths\n",
    "df['ob_ob'] = ((df.beds==1) & (df.baths==1)).astype(int)\n",
    "df['2b_2b'] = ((df.beds==2) & (df.baths==2)).astype(int)\n",
    "df['3b_3b'] = ((df.beds==3) & (df.baths==3)).astype(int)\n",
    "df['4b_4b'] = ((df.beds==4) & (df.baths==4)).astype(int)\n",
    "df['5b_5b'] = ((df.beds==5) & (df.baths==5)).astype(int)"
   ]
  },
  {
   "cell_type": "code",
   "execution_count": null,
   "metadata": {},
   "outputs": [],
   "source": [
    "df.columns"
   ]
  },
  {
   "cell_type": "code",
   "execution_count": null,
   "metadata": {},
   "outputs": [],
   "source": [
    "df.head()"
   ]
  },
  {
   "cell_type": "code",
   "execution_count": null,
   "metadata": {},
   "outputs": [],
   "source": [
    "df.ob_ob.mean()"
   ]
  },
  {
   "cell_type": "code",
   "execution_count": null,
   "metadata": {},
   "outputs": [],
   "source": [
    "df['2b_2b'].mean()"
   ]
  },
  {
   "cell_type": "code",
   "execution_count": null,
   "metadata": {},
   "outputs": [],
   "source": [
    "df['3b_3b'].mean()"
   ]
  },
  {
   "cell_type": "code",
   "execution_count": null,
   "metadata": {},
   "outputs": [],
   "source": [
    "df['4b_4b'].mean()"
   ]
  },
  {
   "cell_type": "code",
   "execution_count": null,
   "metadata": {},
   "outputs": [],
   "source": [
    "df['5b_5b'].mean()"
   ]
  },
  {
   "cell_type": "markdown",
   "metadata": {},
   "source": [
    "# Housing Market Ression"
   ]
  },
  {
   "cell_type": "code",
   "execution_count": null,
   "metadata": {},
   "outputs": [],
   "source": [
    "# Need to create a indicator which will show the transactions happned in between the 2010 abnd 2013\n",
    "df['during_recession']=((df.tx_year>=2010) & (df.tx_year<=2013)).astype(int)"
   ]
  },
  {
   "cell_type": "code",
   "execution_count": null,
   "metadata": {},
   "outputs": [],
   "source": [
    "df.during_recession.mean()"
   ]
  },
  {
   "cell_type": "code",
   "execution_count": null,
   "metadata": {},
   "outputs": [],
   "source": [
    "df.columns"
   ]
  },
  {
   "cell_type": "code",
   "execution_count": null,
   "metadata": {},
   "outputs": [],
   "source": [
    "one_way = ((df.tx_year>=2010) & (df.tx_year<=2013)).astype(int)\n",
    "way_2 = df.tx_year.between(2010,2013).astype(int)"
   ]
  },
  {
   "cell_type": "code",
   "execution_count": null,
   "metadata": {},
   "outputs": [],
   "source": [
    "all(one_way==way_2)"
   ]
  },
  {
   "cell_type": "markdown",
   "metadata": {},
   "source": [
    "# 2.Intraction features\n",
    "* Intraction features are operations between two or more features."
   ]
  },
  {
   "cell_type": "code",
   "execution_count": null,
   "metadata": {},
   "outputs": [],
   "source": [
    "df.columns"
   ]
  },
  {
   "cell_type": "code",
   "execution_count": null,
   "metadata": {},
   "outputs": [],
   "source": [
    "# Creating Property age\n",
    "df['property_age']=df.tx_year-df.year_built"
   ]
  },
  {
   "cell_type": "code",
   "execution_count": null,
   "metadata": {},
   "outputs": [],
   "source": [
    "df['property_age'].describe()"
   ]
  },
  {
   "cell_type": "code",
   "execution_count": null,
   "metadata": {},
   "outputs": [],
   "source": [
    "sum(df['property_age']<0)"
   ]
  },
  {
   "cell_type": "code",
   "execution_count": null,
   "metadata": {},
   "outputs": [],
   "source": [
    "df[['tx_year','year_built']][df['property_age']<0]"
   ]
  },
  {
   "cell_type": "code",
   "execution_count": null,
   "metadata": {},
   "outputs": [],
   "source": [
    "df.shape"
   ]
  },
  {
   "cell_type": "code",
   "execution_count": null,
   "metadata": {},
   "outputs": [],
   "source": [
    "# remove the records of houses which are not avialble for the time of trasaction \n",
    "df = df[df.property_age>=0]"
   ]
  },
  {
   "cell_type": "code",
   "execution_count": null,
   "metadata": {},
   "outputs": [],
   "source": [
    "# sanity checks\n",
    "df[df.property_age>=0].property_age.min()"
   ]
  },
  {
   "cell_type": "code",
   "execution_count": null,
   "metadata": {},
   "outputs": [],
   "source": [
    "1882-19"
   ]
  },
  {
   "cell_type": "code",
   "execution_count": null,
   "metadata": {},
   "outputs": [],
   "source": [
    "df.shape"
   ]
  },
  {
   "cell_type": "code",
   "execution_count": null,
   "metadata": {},
   "outputs": [],
   "source": [
    "df.columns"
   ]
  },
  {
   "cell_type": "code",
   "execution_count": null,
   "metadata": {},
   "outputs": [],
   "source": [
    "# Creating Scholl_score column\n",
    "df['school_score']= df['median_school']* df['num_schools']"
   ]
  },
  {
   "cell_type": "code",
   "execution_count": null,
   "metadata": {},
   "outputs": [],
   "source": [
    "df['school_score'].describe()"
   ]
  },
  {
   "cell_type": "markdown",
   "metadata": {},
   "source": [
    "# 3. Grouping Sparse classes\n",
    "* These are defined as very few observations compared to remining...!"
   ]
  },
  {
   "cell_type": "code",
   "execution_count": null,
   "metadata": {},
   "outputs": [],
   "source": [
    "# barplot for exterior_walls\n",
    "\n",
    "sns.countplot(y = 'exterior_walls', data =df);"
   ]
  },
  {
   "cell_type": "code",
   "execution_count": null,
   "metadata": {},
   "outputs": [],
   "source": [
    "# replace 'Wood Siding','Wood Shingle' sparse classes with \"Wood\"\n",
    "df.exterior_walls.replace(['Wood Siding','Wood Shingle'],'Wood',inplace = True)\n"
   ]
  },
  {
   "cell_type": "code",
   "execution_count": null,
   "metadata": {},
   "outputs": [],
   "source": [
    "\n",
    "sns.countplot(y = 'exterior_walls', data =df);"
   ]
  },
  {
   "cell_type": "code",
   "execution_count": null,
   "metadata": {},
   "outputs": [],
   "source": [
    "other_walls = ['Stucco','Concrete Block', 'Masonry','Asbestos shingle', 'Other']\n",
    "\n",
    "# replace 'Wood Siding','Wood Shingle' sparse classes with \"Wood\"\n",
    "df.exterior_walls.replace(other_walls,'Others',inplace = True)"
   ]
  },
  {
   "cell_type": "code",
   "execution_count": null,
   "metadata": {},
   "outputs": [],
   "source": [
    "sns.countplot(y = 'exterior_walls', data =df);"
   ]
  },
  {
   "cell_type": "markdown",
   "metadata": {},
   "source": [
    "* There is no rule avilable to check if there any class is sparse or not.\n",
    "* it depends on the size of the dataset which you are working.\n",
    "* 50 records is bench mark (not must and should)"
   ]
  },
  {
   "cell_type": "code",
   "execution_count": null,
   "metadata": {},
   "outputs": [],
   "source": [
    "sns.countplot(y = 'roof', data = df);"
   ]
  },
  {
   "cell_type": "code",
   "execution_count": null,
   "metadata": {},
   "outputs": [],
   "source": [
    "# Summinig up the roof sparse classes\n",
    "\n",
    "df.roof.replace(['Composition', 'Wood Shake/ Shingles'],'Composition Shingle', inplace = True)\n",
    "others_roof = ['Other','Gravel/Rock','Roll Composition','Slate','Built-up','Asbestos','Metal']\n",
    "df.roof.replace(others_roof,'Others', inplace = True)"
   ]
  },
  {
   "cell_type": "code",
   "execution_count": null,
   "metadata": {},
   "outputs": [],
   "source": [
    "sns.countplot(y = 'roof', data = df)"
   ]
  },
  {
   "cell_type": "code",
   "execution_count": null,
   "metadata": {},
   "outputs": [],
   "source": [
    "df.info()"
   ]
  },
  {
   "cell_type": "markdown",
   "metadata": {},
   "source": [
    "# 4. Encoding Dummy variables"
   ]
  },
  {
   "cell_type": "code",
   "execution_count": null,
   "metadata": {},
   "outputs": [],
   "source": [
    "1,2 - binary 0,1 --> 1 bit\n",
    "\n",
    "1 -0\n",
    "2 -1\n",
    "\n",
    "0/1\n",
    "\n",
    "rohit   santosh   pranja  natraj  karthik\n",
    "1         0         0       0        0\n",
    "\n",
    "0          0        1        0       0"
   ]
  },
  {
   "cell_type": "code",
   "execution_count": null,
   "metadata": {},
   "outputs": [],
   "source": [
    "# Creating Dummy vaariables\n",
    "\n",
    "df = pd.get_dummies(df, columns=['exterior_walls', 'roof', 'property_type'])"
   ]
  },
  {
   "cell_type": "code",
   "execution_count": null,
   "metadata": {},
   "outputs": [],
   "source": []
  },
  {
   "cell_type": "code",
   "execution_count": null,
   "metadata": {},
   "outputs": [],
   "source": [
    "df.shape"
   ]
  },
  {
   "cell_type": "code",
   "execution_count": null,
   "metadata": {},
   "outputs": [],
   "source": [
    "df.to_csv(r'C:\\Users\\Mohan\\DATA_SCIENTIST\\06_MACHINE LEARNING\\End_TO_End_Projects/finaldf.csv')"
   ]
  },
  {
   "cell_type": "markdown",
   "metadata": {},
   "source": [
    "# All The Code \n"
   ]
  },
  {
   "cell_type": "code",
   "execution_count": 4,
   "metadata": {},
   "outputs": [],
   "source": [
    "# Importing libraries\n",
    "\n",
    "# NumPy(Numarical Python) for Numarical Computing\n",
    "import numpy as np\n",
    "\n",
    "# Pandas for DaataFrame\n",
    "import pandas as pd\n",
    "\n",
    "# to display 100 columns by rewriting the deafult behaviour\n",
    "pd.set_option('display.max_columns',100)\n",
    "\n",
    "# to display 25 rows by rewriting the deafult behaviour\n",
    "pd.set_option('display.max_rows',25)\n",
    "\n",
    "# Matplotlib for visualizations\n",
    "import matplotlib\n",
    "from matplotlib import pyplot as plt\n",
    "\n",
    "# display plots in the same notebook\n",
    "%matplotlib inline\n",
    "\n",
    "# Seaborn for easier visulization\n",
    "import seaborn as sns\n",
    "\n",
    "# Loading the data\n",
    "df = pd.read_csv(r\"C:\\Users\\Mohan\\DATA_SCIENTIST\\06_MACHINE LEARNING\\End_TO_End_Projects/real_estate_data.csv\")\n",
    "\n",
    "# missing values replacment in the basement feature\n",
    "df['basement']= df['basement'].fillna(0)\n",
    "\n",
    "# compositon should be 'Composition'\n",
    "df.roof.replace('composition', 'Composition', inplace =True)\n",
    "\n",
    "# Shake-shingle/ asphalt,Shake-Shingle sholud be Shake Shingle\n",
    "df.roof.replace(['shake-shingle', 'asphalt,shake-shingle'],'Shake Shingle', inplace =True)\n",
    "\n",
    "# asphalt should  be Asphalt\n",
    "df.roof.replace('asphalt', 'Asphalt', inplace =True)\n",
    "\n",
    "# concrete and block should be repalced with Concrete Block\n",
    "df.exterior_walls.replace(['Concrete', 'Block'],'Concrete Block', inplace =True)\n",
    "\n",
    "#Rock,Stone should be replaced with Masonry\n",
    "df.exterior_walls.replace('Rock, Stone','Masonry', inplace =True)\n",
    "\n",
    "# removing the outlier and over writting the dataframe.\n",
    "df = df[df.lot_size <=500000]\n",
    "\n",
    "# fill the missing values with class Missing\n",
    "for col in df.select_dtypes(include= 'object'):\n",
    "    df[col]=df[col].fillna('Missing')\n",
    "    \n",
    "# creating an indicator for equal number of beds and baths\n",
    "df['ob_ob'] = ((df.beds==1) & (df.baths==1)).astype(int)\n",
    "df['2b_2b'] = ((df.beds==2) & (df.baths==2)).astype(int)\n",
    "df['3b_3b'] = ((df.beds==3) & (df.baths==3)).astype(int)\n",
    "df['4b_4b'] = ((df.beds==4) & (df.baths==4)).astype(int)\n",
    "df['5b_5b'] = ((df.beds==5) & (df.baths==5)).astype(int)\n",
    "\n",
    "# Need to create a indicator which will show the transactions happned in between the 2010 abnd 2013\n",
    "df['during_recession']=((df.tx_year>=2010) & (df.tx_year<=2013)).astype(int)\n",
    "\n",
    "# Creating Property age\n",
    "df['property_age']=df.tx_year-df.year_built\n",
    "\n",
    "# remove the records of houses which are not avialble for the time of trasaction \n",
    "df = df[df.property_age>=0]\n",
    "\n",
    "# Creating Scholl_score column\n",
    "df['school_score']= df['median_school']* df['num_schools']\n",
    "\n",
    "# replace 'Wood Siding','Wood Shingle' sparse classes with \"Wood\"\n",
    "df.exterior_walls.replace(['Wood Siding','Wood Shingle'],'Wood',inplace = True)\n",
    "\n",
    "other_walls = ['Stucco','Concrete Block', 'Masonry','Asbestos shingle', 'Other']\n",
    "# replace 'Wood Siding','Wood Shingle' sparse classes with \"Wood\"\n",
    "df.exterior_walls.replace(other_walls,'Others',inplace = True)\n",
    "\n",
    "# Summinig up the roof sparse classes\n",
    "df.roof.replace(['Composition', 'Wood Shake/ Shingles'],'Composition Shingle', inplace = True)\n",
    "others_roof = ['Other','Gravel/Rock','Roll Composition','Slate','Built-up','Asbestos','Metal']\n",
    "df.roof.replace(others_roof,'Others', inplace = True)\n",
    "\n",
    "# Creating Dummy vaariables\n",
    "df = pd.get_dummies(df, columns=['exterior_walls', 'roof', 'property_type'])\n",
    "\n",
    "# exporting the processed data frame \n",
    "df.to_csv(r'C:\\Users\\Mohan\\DATA_SCIENTIST\\06_MACHINE LEARNING\\End_TO_End_Projects/finaldf.csv',index = False)\n",
    "\n"
   ]
  },
  {
   "cell_type": "code",
   "execution_count": 5,
   "metadata": {},
   "outputs": [],
   "source": [
    "df_1 = pd.read_csv(r'C:\\Users\\Mohan\\DATA_SCIENTIST\\06_MACHINE LEARNING\\End_TO_End_Projects/finaldf.csv')"
   ]
  },
  {
   "cell_type": "code",
   "execution_count": 6,
   "metadata": {},
   "outputs": [
    {
     "data": {
      "text/html": [
       "<div>\n",
       "<style scoped>\n",
       "    .dataframe tbody tr th:only-of-type {\n",
       "        vertical-align: middle;\n",
       "    }\n",
       "\n",
       "    .dataframe tbody tr th {\n",
       "        vertical-align: top;\n",
       "    }\n",
       "\n",
       "    .dataframe thead th {\n",
       "        text-align: right;\n",
       "    }\n",
       "</style>\n",
       "<table border=\"1\" class=\"dataframe\">\n",
       "  <thead>\n",
       "    <tr style=\"text-align: right;\">\n",
       "      <th></th>\n",
       "      <th>tx_price</th>\n",
       "      <th>beds</th>\n",
       "      <th>baths</th>\n",
       "      <th>sqft</th>\n",
       "      <th>year_built</th>\n",
       "      <th>lot_size</th>\n",
       "      <th>basement</th>\n",
       "      <th>restaurants</th>\n",
       "      <th>groceries</th>\n",
       "      <th>nightlife</th>\n",
       "      <th>cafes</th>\n",
       "      <th>shopping</th>\n",
       "      <th>arts_entertainment</th>\n",
       "      <th>beauty_spas</th>\n",
       "      <th>active_life</th>\n",
       "      <th>median_age</th>\n",
       "      <th>married</th>\n",
       "      <th>college_grad</th>\n",
       "      <th>property_tax</th>\n",
       "      <th>insurance</th>\n",
       "      <th>median_school</th>\n",
       "      <th>num_schools</th>\n",
       "      <th>tx_year</th>\n",
       "      <th>ob_ob</th>\n",
       "      <th>2b_2b</th>\n",
       "      <th>3b_3b</th>\n",
       "      <th>4b_4b</th>\n",
       "      <th>5b_5b</th>\n",
       "      <th>during_recession</th>\n",
       "      <th>property_age</th>\n",
       "      <th>school_score</th>\n",
       "      <th>exterior_walls_Brick</th>\n",
       "      <th>exterior_walls_Brick veneer</th>\n",
       "      <th>exterior_walls_Combination</th>\n",
       "      <th>exterior_walls_Metal</th>\n",
       "      <th>exterior_walls_Missing</th>\n",
       "      <th>exterior_walls_Others</th>\n",
       "      <th>exterior_walls_Siding (Alum/Vinyl)</th>\n",
       "      <th>exterior_walls_Wood</th>\n",
       "      <th>roof_Asphalt</th>\n",
       "      <th>roof_Composition Shingle</th>\n",
       "      <th>roof_Missing</th>\n",
       "      <th>roof_Others</th>\n",
       "      <th>roof_Shake Shingle</th>\n",
       "      <th>property_type_Apartment / Condo / Townhouse</th>\n",
       "      <th>property_type_Single-Family</th>\n",
       "    </tr>\n",
       "  </thead>\n",
       "  <tbody>\n",
       "    <tr>\n",
       "      <th>0</th>\n",
       "      <td>295850</td>\n",
       "      <td>1</td>\n",
       "      <td>1</td>\n",
       "      <td>584</td>\n",
       "      <td>2013</td>\n",
       "      <td>0</td>\n",
       "      <td>0.0</td>\n",
       "      <td>107</td>\n",
       "      <td>9</td>\n",
       "      <td>30</td>\n",
       "      <td>19</td>\n",
       "      <td>89</td>\n",
       "      <td>6</td>\n",
       "      <td>47</td>\n",
       "      <td>58</td>\n",
       "      <td>33.0</td>\n",
       "      <td>65.0</td>\n",
       "      <td>84.0</td>\n",
       "      <td>234.0</td>\n",
       "      <td>81.0</td>\n",
       "      <td>9.0</td>\n",
       "      <td>3.0</td>\n",
       "      <td>2013</td>\n",
       "      <td>1</td>\n",
       "      <td>0</td>\n",
       "      <td>0</td>\n",
       "      <td>0</td>\n",
       "      <td>0</td>\n",
       "      <td>1</td>\n",
       "      <td>0</td>\n",
       "      <td>27.0</td>\n",
       "      <td>0</td>\n",
       "      <td>0</td>\n",
       "      <td>0</td>\n",
       "      <td>0</td>\n",
       "      <td>0</td>\n",
       "      <td>0</td>\n",
       "      <td>0</td>\n",
       "      <td>1</td>\n",
       "      <td>0</td>\n",
       "      <td>0</td>\n",
       "      <td>1</td>\n",
       "      <td>0</td>\n",
       "      <td>0</td>\n",
       "      <td>1</td>\n",
       "      <td>0</td>\n",
       "    </tr>\n",
       "    <tr>\n",
       "      <th>1</th>\n",
       "      <td>216500</td>\n",
       "      <td>1</td>\n",
       "      <td>1</td>\n",
       "      <td>612</td>\n",
       "      <td>1965</td>\n",
       "      <td>0</td>\n",
       "      <td>1.0</td>\n",
       "      <td>105</td>\n",
       "      <td>15</td>\n",
       "      <td>6</td>\n",
       "      <td>13</td>\n",
       "      <td>87</td>\n",
       "      <td>2</td>\n",
       "      <td>26</td>\n",
       "      <td>14</td>\n",
       "      <td>39.0</td>\n",
       "      <td>73.0</td>\n",
       "      <td>69.0</td>\n",
       "      <td>169.0</td>\n",
       "      <td>51.0</td>\n",
       "      <td>3.0</td>\n",
       "      <td>3.0</td>\n",
       "      <td>2006</td>\n",
       "      <td>1</td>\n",
       "      <td>0</td>\n",
       "      <td>0</td>\n",
       "      <td>0</td>\n",
       "      <td>0</td>\n",
       "      <td>0</td>\n",
       "      <td>41</td>\n",
       "      <td>9.0</td>\n",
       "      <td>1</td>\n",
       "      <td>0</td>\n",
       "      <td>0</td>\n",
       "      <td>0</td>\n",
       "      <td>0</td>\n",
       "      <td>0</td>\n",
       "      <td>0</td>\n",
       "      <td>0</td>\n",
       "      <td>0</td>\n",
       "      <td>1</td>\n",
       "      <td>0</td>\n",
       "      <td>0</td>\n",
       "      <td>0</td>\n",
       "      <td>1</td>\n",
       "      <td>0</td>\n",
       "    </tr>\n",
       "    <tr>\n",
       "      <th>2</th>\n",
       "      <td>279900</td>\n",
       "      <td>1</td>\n",
       "      <td>1</td>\n",
       "      <td>615</td>\n",
       "      <td>1963</td>\n",
       "      <td>0</td>\n",
       "      <td>0.0</td>\n",
       "      <td>183</td>\n",
       "      <td>13</td>\n",
       "      <td>31</td>\n",
       "      <td>30</td>\n",
       "      <td>101</td>\n",
       "      <td>10</td>\n",
       "      <td>74</td>\n",
       "      <td>62</td>\n",
       "      <td>28.0</td>\n",
       "      <td>15.0</td>\n",
       "      <td>86.0</td>\n",
       "      <td>216.0</td>\n",
       "      <td>74.0</td>\n",
       "      <td>8.0</td>\n",
       "      <td>3.0</td>\n",
       "      <td>2012</td>\n",
       "      <td>1</td>\n",
       "      <td>0</td>\n",
       "      <td>0</td>\n",
       "      <td>0</td>\n",
       "      <td>0</td>\n",
       "      <td>1</td>\n",
       "      <td>49</td>\n",
       "      <td>24.0</td>\n",
       "      <td>0</td>\n",
       "      <td>0</td>\n",
       "      <td>0</td>\n",
       "      <td>0</td>\n",
       "      <td>0</td>\n",
       "      <td>0</td>\n",
       "      <td>0</td>\n",
       "      <td>1</td>\n",
       "      <td>0</td>\n",
       "      <td>0</td>\n",
       "      <td>1</td>\n",
       "      <td>0</td>\n",
       "      <td>0</td>\n",
       "      <td>1</td>\n",
       "      <td>0</td>\n",
       "    </tr>\n",
       "    <tr>\n",
       "      <th>3</th>\n",
       "      <td>379900</td>\n",
       "      <td>1</td>\n",
       "      <td>1</td>\n",
       "      <td>618</td>\n",
       "      <td>2000</td>\n",
       "      <td>33541</td>\n",
       "      <td>0.0</td>\n",
       "      <td>198</td>\n",
       "      <td>9</td>\n",
       "      <td>38</td>\n",
       "      <td>25</td>\n",
       "      <td>127</td>\n",
       "      <td>11</td>\n",
       "      <td>72</td>\n",
       "      <td>83</td>\n",
       "      <td>36.0</td>\n",
       "      <td>25.0</td>\n",
       "      <td>91.0</td>\n",
       "      <td>265.0</td>\n",
       "      <td>92.0</td>\n",
       "      <td>9.0</td>\n",
       "      <td>3.0</td>\n",
       "      <td>2005</td>\n",
       "      <td>1</td>\n",
       "      <td>0</td>\n",
       "      <td>0</td>\n",
       "      <td>0</td>\n",
       "      <td>0</td>\n",
       "      <td>0</td>\n",
       "      <td>5</td>\n",
       "      <td>27.0</td>\n",
       "      <td>0</td>\n",
       "      <td>0</td>\n",
       "      <td>0</td>\n",
       "      <td>0</td>\n",
       "      <td>0</td>\n",
       "      <td>0</td>\n",
       "      <td>0</td>\n",
       "      <td>1</td>\n",
       "      <td>0</td>\n",
       "      <td>0</td>\n",
       "      <td>1</td>\n",
       "      <td>0</td>\n",
       "      <td>0</td>\n",
       "      <td>1</td>\n",
       "      <td>0</td>\n",
       "    </tr>\n",
       "    <tr>\n",
       "      <th>4</th>\n",
       "      <td>340000</td>\n",
       "      <td>1</td>\n",
       "      <td>1</td>\n",
       "      <td>634</td>\n",
       "      <td>1992</td>\n",
       "      <td>0</td>\n",
       "      <td>0.0</td>\n",
       "      <td>149</td>\n",
       "      <td>7</td>\n",
       "      <td>22</td>\n",
       "      <td>20</td>\n",
       "      <td>83</td>\n",
       "      <td>10</td>\n",
       "      <td>50</td>\n",
       "      <td>73</td>\n",
       "      <td>37.0</td>\n",
       "      <td>20.0</td>\n",
       "      <td>75.0</td>\n",
       "      <td>88.0</td>\n",
       "      <td>30.0</td>\n",
       "      <td>9.0</td>\n",
       "      <td>3.0</td>\n",
       "      <td>2002</td>\n",
       "      <td>1</td>\n",
       "      <td>0</td>\n",
       "      <td>0</td>\n",
       "      <td>0</td>\n",
       "      <td>0</td>\n",
       "      <td>0</td>\n",
       "      <td>10</td>\n",
       "      <td>27.0</td>\n",
       "      <td>1</td>\n",
       "      <td>0</td>\n",
       "      <td>0</td>\n",
       "      <td>0</td>\n",
       "      <td>0</td>\n",
       "      <td>0</td>\n",
       "      <td>0</td>\n",
       "      <td>0</td>\n",
       "      <td>0</td>\n",
       "      <td>0</td>\n",
       "      <td>1</td>\n",
       "      <td>0</td>\n",
       "      <td>0</td>\n",
       "      <td>1</td>\n",
       "      <td>0</td>\n",
       "    </tr>\n",
       "  </tbody>\n",
       "</table>\n",
       "</div>"
      ],
      "text/plain": [
       "   tx_price  beds  baths  sqft  year_built  lot_size  basement  restaurants  \\\n",
       "0    295850     1      1   584        2013         0       0.0          107   \n",
       "1    216500     1      1   612        1965         0       1.0          105   \n",
       "2    279900     1      1   615        1963         0       0.0          183   \n",
       "3    379900     1      1   618        2000     33541       0.0          198   \n",
       "4    340000     1      1   634        1992         0       0.0          149   \n",
       "\n",
       "   groceries  nightlife  cafes  shopping  arts_entertainment  beauty_spas  \\\n",
       "0          9         30     19        89                   6           47   \n",
       "1         15          6     13        87                   2           26   \n",
       "2         13         31     30       101                  10           74   \n",
       "3          9         38     25       127                  11           72   \n",
       "4          7         22     20        83                  10           50   \n",
       "\n",
       "   active_life  median_age  married  college_grad  property_tax  insurance  \\\n",
       "0           58        33.0     65.0          84.0         234.0       81.0   \n",
       "1           14        39.0     73.0          69.0         169.0       51.0   \n",
       "2           62        28.0     15.0          86.0         216.0       74.0   \n",
       "3           83        36.0     25.0          91.0         265.0       92.0   \n",
       "4           73        37.0     20.0          75.0          88.0       30.0   \n",
       "\n",
       "   median_school  num_schools  tx_year  ob_ob  2b_2b  3b_3b  4b_4b  5b_5b  \\\n",
       "0            9.0          3.0     2013      1      0      0      0      0   \n",
       "1            3.0          3.0     2006      1      0      0      0      0   \n",
       "2            8.0          3.0     2012      1      0      0      0      0   \n",
       "3            9.0          3.0     2005      1      0      0      0      0   \n",
       "4            9.0          3.0     2002      1      0      0      0      0   \n",
       "\n",
       "   during_recession  property_age  school_score  exterior_walls_Brick  \\\n",
       "0                 1             0          27.0                     0   \n",
       "1                 0            41           9.0                     1   \n",
       "2                 1            49          24.0                     0   \n",
       "3                 0             5          27.0                     0   \n",
       "4                 0            10          27.0                     1   \n",
       "\n",
       "   exterior_walls_Brick veneer  exterior_walls_Combination  \\\n",
       "0                            0                           0   \n",
       "1                            0                           0   \n",
       "2                            0                           0   \n",
       "3                            0                           0   \n",
       "4                            0                           0   \n",
       "\n",
       "   exterior_walls_Metal  exterior_walls_Missing  exterior_walls_Others  \\\n",
       "0                     0                       0                      0   \n",
       "1                     0                       0                      0   \n",
       "2                     0                       0                      0   \n",
       "3                     0                       0                      0   \n",
       "4                     0                       0                      0   \n",
       "\n",
       "   exterior_walls_Siding (Alum/Vinyl)  exterior_walls_Wood  roof_Asphalt  \\\n",
       "0                                   0                    1             0   \n",
       "1                                   0                    0             0   \n",
       "2                                   0                    1             0   \n",
       "3                                   0                    1             0   \n",
       "4                                   0                    0             0   \n",
       "\n",
       "   roof_Composition Shingle  roof_Missing  roof_Others  roof_Shake Shingle  \\\n",
       "0                         0             1            0                   0   \n",
       "1                         1             0            0                   0   \n",
       "2                         0             1            0                   0   \n",
       "3                         0             1            0                   0   \n",
       "4                         0             1            0                   0   \n",
       "\n",
       "   property_type_Apartment / Condo / Townhouse  property_type_Single-Family  \n",
       "0                                            1                            0  \n",
       "1                                            1                            0  \n",
       "2                                            1                            0  \n",
       "3                                            1                            0  \n",
       "4                                            1                            0  "
      ]
     },
     "execution_count": 6,
     "metadata": {},
     "output_type": "execute_result"
    }
   ],
   "source": [
    "df_1.head()"
   ]
  },
  {
   "cell_type": "code",
   "execution_count": 7,
   "metadata": {},
   "outputs": [
    {
     "data": {
      "text/plain": [
       "count      1863.000000\n",
       "mean      12522.044552\n",
       "std       35040.992371\n",
       "min           0.000000\n",
       "25%        1540.000000\n",
       "50%        5846.000000\n",
       "75%       11325.000000\n",
       "max      436471.000000\n",
       "Name: lot_size, dtype: float64"
      ]
     },
     "execution_count": 7,
     "metadata": {},
     "output_type": "execute_result"
    }
   ],
   "source": [
    "df_1.lot_size.describe()"
   ]
  },
  {
   "cell_type": "markdown",
   "metadata": {},
   "source": [
    "# Regression Algorithms"
   ]
  },
  {
   "cell_type": "code",
   "execution_count": 1,
   "metadata": {},
   "outputs": [],
   "source": [
    "# loading required libraries\n",
    "import numpy as np \n",
    "import pandas as pd"
   ]
  },
  {
   "cell_type": "code",
   "execution_count": 2,
   "metadata": {},
   "outputs": [],
   "source": [
    "df = pd.read_csv(r'C:\\Users\\Mohan\\DATA_SCIENTIST\\06_MACHINE LEARNING\\End_TO_End_Projects/finaldf.csv')"
   ]
  },
  {
   "cell_type": "code",
   "execution_count": 3,
   "metadata": {},
   "outputs": [
    {
     "data": {
      "text/plain": [
       "(1863, 46)"
      ]
     },
     "execution_count": 3,
     "metadata": {},
     "output_type": "execute_result"
    }
   ],
   "source": [
    "df.shape"
   ]
  },
  {
   "cell_type": "code",
   "execution_count": 4,
   "metadata": {},
   "outputs": [
    {
     "name": "stdout",
     "output_type": "stream",
     "text": [
      "<class 'pandas.core.frame.DataFrame'>\n",
      "RangeIndex: 1863 entries, 0 to 1862\n",
      "Data columns (total 46 columns):\n",
      "tx_price                                       1863 non-null int64\n",
      "beds                                           1863 non-null int64\n",
      "baths                                          1863 non-null int64\n",
      "sqft                                           1863 non-null int64\n",
      "year_built                                     1863 non-null int64\n",
      "lot_size                                       1863 non-null int64\n",
      "basement                                       1863 non-null float64\n",
      "restaurants                                    1863 non-null int64\n",
      "groceries                                      1863 non-null int64\n",
      "nightlife                                      1863 non-null int64\n",
      "cafes                                          1863 non-null int64\n",
      "shopping                                       1863 non-null int64\n",
      "arts_entertainment                             1863 non-null int64\n",
      "beauty_spas                                    1863 non-null int64\n",
      "active_life                                    1863 non-null int64\n",
      "median_age                                     1863 non-null float64\n",
      "married                                        1863 non-null float64\n",
      "college_grad                                   1863 non-null float64\n",
      "property_tax                                   1863 non-null float64\n",
      "insurance                                      1863 non-null float64\n",
      "median_school                                  1863 non-null float64\n",
      "num_schools                                    1863 non-null float64\n",
      "tx_year                                        1863 non-null int64\n",
      "ob_ob                                          1863 non-null int64\n",
      "2b_2b                                          1863 non-null int64\n",
      "3b_3b                                          1863 non-null int64\n",
      "4b_4b                                          1863 non-null int64\n",
      "5b_5b                                          1863 non-null int64\n",
      "during_recession                               1863 non-null int64\n",
      "property_age                                   1863 non-null int64\n",
      "school_score                                   1863 non-null float64\n",
      "exterior_walls_Brick                           1863 non-null int64\n",
      "exterior_walls_Brick veneer                    1863 non-null int64\n",
      "exterior_walls_Combination                     1863 non-null int64\n",
      "exterior_walls_Metal                           1863 non-null int64\n",
      "exterior_walls_Missing                         1863 non-null int64\n",
      "exterior_walls_Others                          1863 non-null int64\n",
      "exterior_walls_Siding (Alum/Vinyl)             1863 non-null int64\n",
      "exterior_walls_Wood                            1863 non-null int64\n",
      "roof_Asphalt                                   1863 non-null int64\n",
      "roof_Composition Shingle                       1863 non-null int64\n",
      "roof_Missing                                   1863 non-null int64\n",
      "roof_Others                                    1863 non-null int64\n",
      "roof_Shake Shingle                             1863 non-null int64\n",
      "property_type_Apartment / Condo / Townhouse    1863 non-null int64\n",
      "property_type_Single-Family                    1863 non-null int64\n",
      "dtypes: float64(9), int64(37)\n",
      "memory usage: 669.6 KB\n"
     ]
    }
   ],
   "source": [
    "df.info()"
   ]
  },
  {
   "cell_type": "markdown",
   "metadata": {},
   "source": [
    "## Model Complexity"
   ]
  },
  {
   "cell_type": "markdown",
   "metadata": {},
   "source": [
    "* It is also called as Model Flexibility.\n",
    "* Model Complexity is a model's inherent freedom to represent complex relationships between input features and target feature/variable."
   ]
  },
  {
   "cell_type": "markdown",
   "metadata": {},
   "source": [
    "y = sin(x) +C"
   ]
  },
  {
   "cell_type": "markdown",
   "metadata": {},
   "source": [
    "* What is machine learning?/classification/regression/supervised/un-supervised/semi suprevised\n",
    "\n",
    "* overfitting\n",
    "\n",
    "* Underfitting\n",
    "\n",
    "* Regularization\n",
    "\n",
    "* Confusion Matrix\n",
    "\n",
    "* Precission\n",
    "\n",
    "* Accuracy\n",
    "\n",
    "* ROC curve\n",
    "\n",
    "* Bias\n",
    "\n",
    "* variance\n",
    "\n",
    "* Standard deviation\n",
    "\n",
    "* hypothesis\n",
    "\n",
    "* Null Hypothesis\n",
    "\n",
    "* Student test/ t-test\n",
    "\n",
    "* root mean square\n",
    "\n",
    "* r_2 score\n",
    "\n",
    "* f_1 Score\n",
    "\n",
    "* binomial distribution\n",
    "\n",
    "* Bayes theorm\n",
    "\n",
    "* regressior\n",
    "\n",
    "* classifier\n",
    "\n",
    "* target variable\n",
    "\n",
    "* Input features\n",
    "\n",
    "* Dummy variables\n",
    "\n",
    "* One hot encoding\n",
    "\n",
    "* imputations {if you want to replace the existing data/ missing data with the situation}\n",
    "\n",
    "* Distance between 2 poins in a coordinate plane\n",
    "\n",
    "* piont slope form.\n",
    "\n",
    "* Probability distribution\n",
    "\n",
    "* Probability density function\n",
    "\n"
   ]
  },
  {
   "cell_type": "code",
   "execution_count": 4,
   "metadata": {},
   "outputs": [],
   "source": [
    "# loading required libraries\n",
    "import numpy as np \n",
    "import pandas as pd\n",
    "\n",
    "df = pd.read_csv(r'C:\\Users\\Mohan\\DATA_SCIENTIST\\06_MACHINE LEARNING\\End_TO_End_Projects/finaldf.csv')"
   ]
  },
  {
   "cell_type": "code",
   "execution_count": null,
   "metadata": {},
   "outputs": [],
   "source": [
    "# Simple/Linear Regression"
   ]
  },
  {
   "cell_type": "code",
   "execution_count": 5,
   "metadata": {},
   "outputs": [
    {
     "data": {
      "text/html": [
       "<div>\n",
       "<style scoped>\n",
       "    .dataframe tbody tr th:only-of-type {\n",
       "        vertical-align: middle;\n",
       "    }\n",
       "\n",
       "    .dataframe tbody tr th {\n",
       "        vertical-align: top;\n",
       "    }\n",
       "\n",
       "    .dataframe thead th {\n",
       "        text-align: right;\n",
       "    }\n",
       "</style>\n",
       "<table border=\"1\" class=\"dataframe\">\n",
       "  <thead>\n",
       "    <tr style=\"text-align: right;\">\n",
       "      <th></th>\n",
       "      <th>tx_price</th>\n",
       "      <th>beds</th>\n",
       "      <th>baths</th>\n",
       "      <th>sqft</th>\n",
       "      <th>year_built</th>\n",
       "      <th>lot_size</th>\n",
       "      <th>basement</th>\n",
       "      <th>restaurants</th>\n",
       "      <th>groceries</th>\n",
       "      <th>nightlife</th>\n",
       "      <th>...</th>\n",
       "      <th>exterior_walls_Others</th>\n",
       "      <th>exterior_walls_Siding (Alum/Vinyl)</th>\n",
       "      <th>exterior_walls_Wood</th>\n",
       "      <th>roof_Asphalt</th>\n",
       "      <th>roof_Composition Shingle</th>\n",
       "      <th>roof_Missing</th>\n",
       "      <th>roof_Others</th>\n",
       "      <th>roof_Shake Shingle</th>\n",
       "      <th>property_type_Apartment / Condo / Townhouse</th>\n",
       "      <th>property_type_Single-Family</th>\n",
       "    </tr>\n",
       "  </thead>\n",
       "  <tbody>\n",
       "    <tr>\n",
       "      <th>0</th>\n",
       "      <td>295850</td>\n",
       "      <td>1</td>\n",
       "      <td>1</td>\n",
       "      <td>584</td>\n",
       "      <td>2013</td>\n",
       "      <td>0</td>\n",
       "      <td>0.0</td>\n",
       "      <td>107</td>\n",
       "      <td>9</td>\n",
       "      <td>30</td>\n",
       "      <td>...</td>\n",
       "      <td>0</td>\n",
       "      <td>0</td>\n",
       "      <td>1</td>\n",
       "      <td>0</td>\n",
       "      <td>0</td>\n",
       "      <td>1</td>\n",
       "      <td>0</td>\n",
       "      <td>0</td>\n",
       "      <td>1</td>\n",
       "      <td>0</td>\n",
       "    </tr>\n",
       "    <tr>\n",
       "      <th>1</th>\n",
       "      <td>216500</td>\n",
       "      <td>1</td>\n",
       "      <td>1</td>\n",
       "      <td>612</td>\n",
       "      <td>1965</td>\n",
       "      <td>0</td>\n",
       "      <td>1.0</td>\n",
       "      <td>105</td>\n",
       "      <td>15</td>\n",
       "      <td>6</td>\n",
       "      <td>...</td>\n",
       "      <td>0</td>\n",
       "      <td>0</td>\n",
       "      <td>0</td>\n",
       "      <td>0</td>\n",
       "      <td>1</td>\n",
       "      <td>0</td>\n",
       "      <td>0</td>\n",
       "      <td>0</td>\n",
       "      <td>1</td>\n",
       "      <td>0</td>\n",
       "    </tr>\n",
       "    <tr>\n",
       "      <th>2</th>\n",
       "      <td>279900</td>\n",
       "      <td>1</td>\n",
       "      <td>1</td>\n",
       "      <td>615</td>\n",
       "      <td>1963</td>\n",
       "      <td>0</td>\n",
       "      <td>0.0</td>\n",
       "      <td>183</td>\n",
       "      <td>13</td>\n",
       "      <td>31</td>\n",
       "      <td>...</td>\n",
       "      <td>0</td>\n",
       "      <td>0</td>\n",
       "      <td>1</td>\n",
       "      <td>0</td>\n",
       "      <td>0</td>\n",
       "      <td>1</td>\n",
       "      <td>0</td>\n",
       "      <td>0</td>\n",
       "      <td>1</td>\n",
       "      <td>0</td>\n",
       "    </tr>\n",
       "    <tr>\n",
       "      <th>3</th>\n",
       "      <td>379900</td>\n",
       "      <td>1</td>\n",
       "      <td>1</td>\n",
       "      <td>618</td>\n",
       "      <td>2000</td>\n",
       "      <td>33541</td>\n",
       "      <td>0.0</td>\n",
       "      <td>198</td>\n",
       "      <td>9</td>\n",
       "      <td>38</td>\n",
       "      <td>...</td>\n",
       "      <td>0</td>\n",
       "      <td>0</td>\n",
       "      <td>1</td>\n",
       "      <td>0</td>\n",
       "      <td>0</td>\n",
       "      <td>1</td>\n",
       "      <td>0</td>\n",
       "      <td>0</td>\n",
       "      <td>1</td>\n",
       "      <td>0</td>\n",
       "    </tr>\n",
       "    <tr>\n",
       "      <th>4</th>\n",
       "      <td>340000</td>\n",
       "      <td>1</td>\n",
       "      <td>1</td>\n",
       "      <td>634</td>\n",
       "      <td>1992</td>\n",
       "      <td>0</td>\n",
       "      <td>0.0</td>\n",
       "      <td>149</td>\n",
       "      <td>7</td>\n",
       "      <td>22</td>\n",
       "      <td>...</td>\n",
       "      <td>0</td>\n",
       "      <td>0</td>\n",
       "      <td>0</td>\n",
       "      <td>0</td>\n",
       "      <td>0</td>\n",
       "      <td>1</td>\n",
       "      <td>0</td>\n",
       "      <td>0</td>\n",
       "      <td>1</td>\n",
       "      <td>0</td>\n",
       "    </tr>\n",
       "  </tbody>\n",
       "</table>\n",
       "<p>5 rows × 46 columns</p>\n",
       "</div>"
      ],
      "text/plain": [
       "   tx_price  beds  baths  sqft  year_built  lot_size  basement  restaurants  \\\n",
       "0    295850     1      1   584        2013         0       0.0          107   \n",
       "1    216500     1      1   612        1965         0       1.0          105   \n",
       "2    279900     1      1   615        1963         0       0.0          183   \n",
       "3    379900     1      1   618        2000     33541       0.0          198   \n",
       "4    340000     1      1   634        1992         0       0.0          149   \n",
       "\n",
       "   groceries  nightlife  ...  exterior_walls_Others  \\\n",
       "0          9         30  ...                      0   \n",
       "1         15          6  ...                      0   \n",
       "2         13         31  ...                      0   \n",
       "3          9         38  ...                      0   \n",
       "4          7         22  ...                      0   \n",
       "\n",
       "   exterior_walls_Siding (Alum/Vinyl)  exterior_walls_Wood  roof_Asphalt  \\\n",
       "0                                   0                    1             0   \n",
       "1                                   0                    0             0   \n",
       "2                                   0                    1             0   \n",
       "3                                   0                    1             0   \n",
       "4                                   0                    0             0   \n",
       "\n",
       "   roof_Composition Shingle  roof_Missing  roof_Others  roof_Shake Shingle  \\\n",
       "0                         0             1            0                   0   \n",
       "1                         1             0            0                   0   \n",
       "2                         0             1            0                   0   \n",
       "3                         0             1            0                   0   \n",
       "4                         0             1            0                   0   \n",
       "\n",
       "   property_type_Apartment / Condo / Townhouse  property_type_Single-Family  \n",
       "0                                            1                            0  \n",
       "1                                            1                            0  \n",
       "2                                            1                            0  \n",
       "3                                            1                            0  \n",
       "4                                            1                            0  \n",
       "\n",
       "[5 rows x 46 columns]"
      ]
     },
     "execution_count": 5,
     "metadata": {},
     "output_type": "execute_result"
    }
   ],
   "source": [
    "df.head()"
   ]
  },
  {
   "cell_type": "code",
   "execution_count": null,
   "metadata": {},
   "outputs": [],
   "source": [
    "Data -  Train(approx..80) and Test(approxi..20)\n",
    "\n",
    "1. a b c d e f    tv    80\n",
    "..\n",
    "...\n",
    "...\n",
    "\n",
    "\n",
    "X_train   |   y_train\n",
    "-------------------------------\n",
    "1. a b c d e f tv\n",
    "..                    20\n",
    "\n",
    "\n",
    "X_test  | \n"
   ]
  },
  {
   "cell_type": "code",
   "execution_count": 6,
   "metadata": {},
   "outputs": [],
   "source": [
    "from sklearn.model_selection import train_test_split"
   ]
  },
  {
   "cell_type": "code",
   "execution_count": 7,
   "metadata": {},
   "outputs": [
    {
     "name": "stdout",
     "output_type": "stream",
     "text": [
      "<class 'pandas.core.frame.DataFrame'>\n",
      "RangeIndex: 1863 entries, 0 to 1862\n",
      "Data columns (total 46 columns):\n",
      "tx_price                                       1863 non-null int64\n",
      "beds                                           1863 non-null int64\n",
      "baths                                          1863 non-null int64\n",
      "sqft                                           1863 non-null int64\n",
      "year_built                                     1863 non-null int64\n",
      "lot_size                                       1863 non-null int64\n",
      "basement                                       1863 non-null float64\n",
      "restaurants                                    1863 non-null int64\n",
      "groceries                                      1863 non-null int64\n",
      "nightlife                                      1863 non-null int64\n",
      "cafes                                          1863 non-null int64\n",
      "shopping                                       1863 non-null int64\n",
      "arts_entertainment                             1863 non-null int64\n",
      "beauty_spas                                    1863 non-null int64\n",
      "active_life                                    1863 non-null int64\n",
      "median_age                                     1863 non-null float64\n",
      "married                                        1863 non-null float64\n",
      "college_grad                                   1863 non-null float64\n",
      "property_tax                                   1863 non-null float64\n",
      "insurance                                      1863 non-null float64\n",
      "median_school                                  1863 non-null float64\n",
      "num_schools                                    1863 non-null float64\n",
      "tx_year                                        1863 non-null int64\n",
      "ob_ob                                          1863 non-null int64\n",
      "2b_2b                                          1863 non-null int64\n",
      "3b_3b                                          1863 non-null int64\n",
      "4b_4b                                          1863 non-null int64\n",
      "5b_5b                                          1863 non-null int64\n",
      "during_recession                               1863 non-null int64\n",
      "property_age                                   1863 non-null int64\n",
      "school_score                                   1863 non-null float64\n",
      "exterior_walls_Brick                           1863 non-null int64\n",
      "exterior_walls_Brick veneer                    1863 non-null int64\n",
      "exterior_walls_Combination                     1863 non-null int64\n",
      "exterior_walls_Metal                           1863 non-null int64\n",
      "exterior_walls_Missing                         1863 non-null int64\n",
      "exterior_walls_Others                          1863 non-null int64\n",
      "exterior_walls_Siding (Alum/Vinyl)             1863 non-null int64\n",
      "exterior_walls_Wood                            1863 non-null int64\n",
      "roof_Asphalt                                   1863 non-null int64\n",
      "roof_Composition Shingle                       1863 non-null int64\n",
      "roof_Missing                                   1863 non-null int64\n",
      "roof_Others                                    1863 non-null int64\n",
      "roof_Shake Shingle                             1863 non-null int64\n",
      "property_type_Apartment / Condo / Townhouse    1863 non-null int64\n",
      "property_type_Single-Family                    1863 non-null int64\n",
      "dtypes: float64(9), int64(37)\n",
      "memory usage: 669.6 KB\n"
     ]
    }
   ],
   "source": [
    "df.info()"
   ]
  },
  {
   "cell_type": "code",
   "execution_count": 13,
   "metadata": {},
   "outputs": [
    {
     "data": {
      "text/plain": [
       "pandas.core.frame.DataFrame"
      ]
     },
     "execution_count": 13,
     "metadata": {},
     "output_type": "execute_result"
    }
   ],
   "source": [
    "# target variable Tx_price\n",
    "y = df[['tx_price']]\n",
    "type(y)"
   ]
  },
  {
   "cell_type": "code",
   "execution_count": 11,
   "metadata": {},
   "outputs": [],
   "source": [
    "# independent features\n",
    "X = df.drop(['tx_price'],axis=1) "
   ]
  },
  {
   "cell_type": "code",
   "execution_count": 15,
   "metadata": {},
   "outputs": [
    {
     "data": {
      "text/plain": [
       "pandas.core.frame.DataFrame"
      ]
     },
     "execution_count": 15,
     "metadata": {},
     "output_type": "execute_result"
    }
   ],
   "source": [
    "type(X)"
   ]
  },
  {
   "cell_type": "code",
   "execution_count": 16,
   "metadata": {},
   "outputs": [],
   "source": [
    "# To split data into train and test\n",
    "X_train, X_test, y_train, y_test = train_test_split(X, y, test_size=0.20, random_state=99)"
   ]
  },
  {
   "cell_type": "code",
   "execution_count": 17,
   "metadata": {},
   "outputs": [
    {
     "data": {
      "text/plain": [
       "(1490, 45)"
      ]
     },
     "execution_count": 17,
     "metadata": {},
     "output_type": "execute_result"
    }
   ],
   "source": [
    "X_train.shape"
   ]
  },
  {
   "cell_type": "code",
   "execution_count": 18,
   "metadata": {},
   "outputs": [
    {
     "data": {
      "text/plain": [
       "(1490, 1)"
      ]
     },
     "execution_count": 18,
     "metadata": {},
     "output_type": "execute_result"
    }
   ],
   "source": [
    "y_train.shape"
   ]
  },
  {
   "cell_type": "code",
   "execution_count": 19,
   "metadata": {},
   "outputs": [
    {
     "data": {
      "text/plain": [
       "(373, 45)"
      ]
     },
     "execution_count": 19,
     "metadata": {},
     "output_type": "execute_result"
    }
   ],
   "source": [
    "X_test.shape"
   ]
  },
  {
   "cell_type": "code",
   "execution_count": 20,
   "metadata": {},
   "outputs": [
    {
     "data": {
      "text/plain": [
       "(373, 1)"
      ]
     },
     "execution_count": 20,
     "metadata": {},
     "output_type": "execute_result"
    }
   ],
   "source": [
    "y_test.shape"
   ]
  },
  {
   "cell_type": "code",
   "execution_count": 23,
   "metadata": {},
   "outputs": [],
   "source": [
    "# importing linear regression algorithm\n",
    "from sklearn.linear_model import LinearRegression\n"
   ]
  },
  {
   "cell_type": "code",
   "execution_count": 25,
   "metadata": {},
   "outputs": [],
   "source": [
    "regr=LinearRegression()"
   ]
  },
  {
   "cell_type": "code",
   "execution_count": 26,
   "metadata": {},
   "outputs": [
    {
     "data": {
      "text/plain": [
       "LinearRegression(copy_X=True, fit_intercept=True, n_jobs=None, normalize=False)"
      ]
     },
     "execution_count": 26,
     "metadata": {},
     "output_type": "execute_result"
    }
   ],
   "source": [
    "regr.fit(X_train,y_train)"
   ]
  },
  {
   "cell_type": "code",
   "execution_count": 27,
   "metadata": {},
   "outputs": [
    {
     "data": {
      "text/plain": [
       "array([-27148035.3661338])"
      ]
     },
     "execution_count": 27,
     "metadata": {},
     "output_type": "execute_result"
    }
   ],
   "source": [
    "regr.intercept_"
   ]
  },
  {
   "cell_type": "code",
   "execution_count": 31,
   "metadata": {},
   "outputs": [
    {
     "data": {
      "text/plain": [
       "array([[-1.26434833e+03, -4.07415339e+03,  1.86404462e+01,\n",
       "         4.84847295e+03,  2.25565921e-01, -2.01407294e+03,\n",
       "        -3.33610442e+01,  1.45317304e+03,  4.03030343e+02,\n",
       "         9.23085918e+02, -1.56222302e+01,  1.31583204e+03,\n",
       "        -4.94628119e+02,  2.82833431e+02, -1.47994394e+01,\n",
       "        -7.24968245e+00,  1.41060542e+03,  2.73453787e+02,\n",
       "         4.21156225e+02,  8.89098905e+03,  2.46400901e+04,\n",
       "         8.72039152e+03, -5.44655816e+04, -2.10674064e+04,\n",
       "         2.64605893e+03,  1.70838081e+04, -3.76936685e+04,\n",
       "        -5.41497217e+04,  3.87191856e+03, -3.34250895e+03,\n",
       "         7.29985604e+03,  3.01082213e+04, -6.70634996e+03,\n",
       "         4.42334879e+03, -2.88475038e+04, -7.12831771e+03,\n",
       "         5.13296281e+02,  3.37449085e+02,  1.57556135e+03,\n",
       "         2.17799244e+03, -2.74752213e+03, -1.32430909e+04,\n",
       "         1.22370593e+04, -1.58058978e+04,  1.58058978e+04]])"
      ]
     },
     "execution_count": 31,
     "metadata": {},
     "output_type": "execute_result"
    }
   ],
   "source": [
    "regr.coef_"
   ]
  },
  {
   "cell_type": "code",
   "execution_count": 33,
   "metadata": {},
   "outputs": [],
   "source": [
    "y_predicted = regr.predict(X_test)"
   ]
  },
  {
   "cell_type": "code",
   "execution_count": 34,
   "metadata": {},
   "outputs": [
    {
     "ename": "NameError",
     "evalue": "name 'linear_model' is not defined",
     "output_type": "error",
     "traceback": [
      "\u001b[1;31m---------------------------------------------------------------------------\u001b[0m",
      "\u001b[1;31mNameError\u001b[0m                                 Traceback (most recent call last)",
      "\u001b[1;32m<ipython-input-34-0de391d9d9bb>\u001b[0m in \u001b[0;36m<module>\u001b[1;34m\u001b[0m\n\u001b[0;32m      1\u001b[0m \u001b[1;31m#Linear regression object\u001b[0m\u001b[1;33m\u001b[0m\u001b[1;33m\u001b[0m\u001b[1;33m\u001b[0m\u001b[0m\n\u001b[1;32m----> 2\u001b[1;33m \u001b[0mregr\u001b[0m\u001b[1;33m=\u001b[0m\u001b[0mlinear_model\u001b[0m\u001b[1;33m.\u001b[0m\u001b[0mLinearRegression\u001b[0m\u001b[1;33m(\u001b[0m\u001b[1;33m)\u001b[0m\u001b[1;33m\u001b[0m\u001b[1;33m\u001b[0m\u001b[0m\n\u001b[0m\u001b[0;32m      3\u001b[0m \u001b[0mregr\u001b[0m\u001b[1;33m.\u001b[0m\u001b[0mfit\u001b[0m\u001b[1;33m(\u001b[0m\u001b[0mdiabetes_X_train\u001b[0m\u001b[1;33m,\u001b[0m\u001b[0mdiabetes_y_train\u001b[0m\u001b[1;33m)\u001b[0m\u001b[1;33m\u001b[0m\u001b[1;33m\u001b[0m\u001b[0m\n\u001b[0;32m      4\u001b[0m \u001b[1;33m\u001b[0m\u001b[0m\n\u001b[0;32m      5\u001b[0m \u001b[0my_predicted\u001b[0m\u001b[1;33m\u001b[0m\u001b[1;33m\u001b[0m\u001b[0m\n",
      "\u001b[1;31mNameError\u001b[0m: name 'linear_model' is not defined"
     ]
    }
   ],
   "source": [
    "#Linear regression object\n",
    "regr=linear_model.LinearRegression() \n",
    "regr.fit(diabetes_X_train,diabetes_y_train)\n",
    "\n"
   ]
  },
  {
   "cell_type": "code",
   "execution_count": 36,
   "metadata": {},
   "outputs": [
    {
     "name": "stdout",
     "output_type": "stream",
     "text": [
      "[511177.14190915]\n",
      "[415867.06476079]\n",
      "[418480.04056967]\n",
      "[634145.18733898]\n",
      "[312305.24997827]\n",
      "[508008.68798601]\n",
      "[383779.91785909]\n",
      "[319716.81972973]\n",
      "[501393.83878874]\n",
      "[589257.85151842]\n",
      "[434898.10291022]\n",
      "[359223.60764022]\n",
      "[481157.75128383]\n",
      "[649445.12365476]\n",
      "[555997.40291552]\n",
      "[305297.72699848]\n",
      "[314258.4048695]\n",
      "[465931.91336717]\n",
      "[594150.44900887]\n",
      "[478834.41007957]\n",
      "[318038.80921827]\n",
      "[501500.40725041]\n",
      "[551131.85005048]\n",
      "[278854.59075733]\n",
      "[476857.86002694]\n",
      "[268440.37182722]\n",
      "[403536.00447034]\n",
      "[494456.56259941]\n",
      "[372652.47436821]\n",
      "[379115.21649067]\n",
      "[796126.2736186]\n",
      "[394439.35447061]\n",
      "[436928.93227591]\n",
      "[415545.10071054]\n",
      "[424286.22987918]\n",
      "[448855.4470636]\n",
      "[611117.87620396]\n",
      "[401573.00084357]\n",
      "[496826.51136089]\n",
      "[432636.957401]\n",
      "[403152.01360258]\n",
      "[282627.34351178]\n",
      "[608895.28091455]\n",
      "[286740.26540034]\n",
      "[433546.28397887]\n",
      "[389902.06463527]\n",
      "[476023.56910902]\n",
      "[322532.7842686]\n",
      "[376252.83523489]\n",
      "[300702.0111889]\n",
      "[378452.59992339]\n",
      "[539622.04886257]\n",
      "[450651.24654792]\n",
      "[364778.78522401]\n",
      "[426876.51644344]\n",
      "[547352.15698773]\n",
      "[475365.30991997]\n",
      "[413753.74359014]\n",
      "[430767.59716986]\n",
      "[325473.2931856]\n",
      "[435805.14192269]\n",
      "[486822.69323494]\n",
      "[509315.25958383]\n",
      "[525761.02491193]\n",
      "[389947.66085274]\n",
      "[411509.04046434]\n",
      "[309492.12016305]\n",
      "[329349.2150769]\n",
      "[414136.99009474]\n",
      "[381215.31513302]\n",
      "[346145.04041484]\n",
      "[601321.61122636]\n",
      "[482212.6923245]\n",
      "[576255.81525024]\n",
      "[445894.56089193]\n",
      "[393226.63940016]\n",
      "[299554.19227996]\n",
      "[468634.75158264]\n",
      "[435512.75206891]\n",
      "[409082.17004631]\n",
      "[348805.25469929]\n",
      "[369807.99881653]\n",
      "[502645.35250629]\n",
      "[505163.35408389]\n",
      "[481426.00592597]\n",
      "[294771.68870255]\n",
      "[494566.0366944]\n",
      "[615848.86115199]\n",
      "[340730.38860559]\n",
      "[420219.43016369]\n",
      "[468287.3893462]\n",
      "[416256.03252131]\n",
      "[334642.85016889]\n",
      "[1140178.53675003]\n",
      "[389252.0454809]\n",
      "[427804.20687268]\n",
      "[395413.69253145]\n",
      "[398396.08659399]\n",
      "[492802.98388882]\n",
      "[359729.08215926]\n",
      "[355334.86856239]\n",
      "[470842.03229852]\n",
      "[498762.2345524]\n",
      "[306336.62424104]\n",
      "[351170.08701515]\n",
      "[272326.11306032]\n",
      "[353026.41497276]\n",
      "[454007.78910123]\n",
      "[454065.40576062]\n",
      "[498625.14786232]\n",
      "[356857.82896933]\n",
      "[599961.38667853]\n",
      "[683163.19568365]\n",
      "[283065.18998373]\n",
      "[277992.04655688]\n",
      "[498149.85217218]\n",
      "[360530.31242126]\n",
      "[471222.91326562]\n",
      "[579295.40350526]\n",
      "[505491.42917422]\n",
      "[375265.70180247]\n",
      "[402885.13790848]\n",
      "[403481.05768522]\n",
      "[342597.05645556]\n",
      "[438377.56995673]\n",
      "[254912.64036447]\n",
      "[455433.68754089]\n",
      "[411432.05518127]\n",
      "[2033542.52668814]\n",
      "[353751.12028476]\n",
      "[374092.84753957]\n",
      "[404557.0409935]\n",
      "[463592.4155225]\n",
      "[388562.98736254]\n",
      "[347286.42387567]\n",
      "[522741.63568997]\n",
      "[496933.32924153]\n",
      "[611358.08828554]\n",
      "[296009.02766291]\n",
      "[329979.12491614]\n",
      "[389125.65847571]\n",
      "[368788.09629532]\n",
      "[349797.42891707]\n",
      "[680112.09593904]\n",
      "[351901.77821615]\n",
      "[315488.1291496]\n",
      "[428052.40110087]\n",
      "[328441.44219312]\n",
      "[370563.28711537]\n",
      "[533899.97789781]\n",
      "[412208.51206541]\n",
      "[526160.09755583]\n",
      "[603334.76149296]\n",
      "[490574.69949623]\n",
      "[442914.14384107]\n",
      "[460810.91072512]\n",
      "[271878.12168803]\n",
      "[374622.92896966]\n",
      "[286420.36012762]\n",
      "[391263.00925706]\n",
      "[313163.38474947]\n",
      "[751687.6943157]\n",
      "[472232.41075054]\n",
      "[460480.35989329]\n",
      "[350632.57830027]\n",
      "[508759.1633833]\n",
      "[373368.57692532]\n",
      "[388693.8926721]\n",
      "[554743.19799865]\n",
      "[506323.52790517]\n",
      "[590009.68276073]\n",
      "[214768.53822952]\n",
      "[394078.52516325]\n",
      "[321121.76171613]\n",
      "[341492.15045926]\n",
      "[205503.33171797]\n",
      "[419334.64318898]\n",
      "[754601.33730379]\n",
      "[274652.95916222]\n",
      "[523786.91120221]\n",
      "[392027.78401553]\n",
      "[569724.84384365]\n",
      "[349328.98133289]\n",
      "[411935.03203724]\n",
      "[274808.35286871]\n",
      "[282227.95946618]\n",
      "[493510.46588676]\n",
      "[333454.86904777]\n",
      "[324950.95751398]\n",
      "[349501.36680349]\n",
      "[564770.7366792]\n",
      "[351382.49053123]\n",
      "[382303.09171774]\n",
      "[380768.0050066]\n",
      "[361434.24642653]\n",
      "[297721.95516457]\n",
      "[339778.54422398]\n",
      "[289428.05044992]\n",
      "[356938.12760383]\n",
      "[508227.07608393]\n",
      "[864002.80043382]\n",
      "[606074.78895342]\n",
      "[547816.95461395]\n",
      "[536711.79292328]\n",
      "[330285.23692838]\n",
      "[448413.94510471]\n",
      "[992291.24350946]\n",
      "[611945.64724571]\n",
      "[256936.47262377]\n",
      "[407349.81532585]\n",
      "[1047292.72401546]\n",
      "[536788.6662596]\n",
      "[488763.91953737]\n",
      "[311956.87250432]\n",
      "[276773.46310924]\n",
      "[578289.8074821]\n",
      "[387775.81010901]\n",
      "[496338.95593578]\n",
      "[412797.95882671]\n",
      "[357892.8032418]\n",
      "[586105.18119918]\n",
      "[478585.22152965]\n",
      "[398898.623007]\n",
      "[303903.58955921]\n",
      "[924448.16955565]\n",
      "[378599.61882195]\n",
      "[316466.96246943]\n",
      "[382876.6232846]\n",
      "[517729.55946875]\n",
      "[456679.38735968]\n",
      "[562486.24911749]\n",
      "[395950.98681781]\n",
      "[482577.73492201]\n",
      "[441114.58888089]\n",
      "[403867.36769209]\n",
      "[427339.55544259]\n",
      "[615009.57771409]\n",
      "[430723.71624704]\n",
      "[253724.13816505]\n",
      "[252276.82790671]\n",
      "[399610.98929503]\n",
      "[494399.57220482]\n",
      "[618105.54365947]\n",
      "[372173.29028292]\n",
      "[370354.65312238]\n",
      "[480149.76449002]\n",
      "[336394.89768444]\n",
      "[329739.33557182]\n",
      "[705029.63413889]\n",
      "[404573.6762994]\n",
      "[382546.84148363]\n",
      "[467708.89128807]\n",
      "[341185.39343568]\n",
      "[322341.04216797]\n",
      "[506059.0909256]\n",
      "[446320.30920548]\n",
      "[364795.82573687]\n",
      "[422685.95303564]\n",
      "[662583.68193483]\n",
      "[351192.95699112]\n",
      "[442767.96676984]\n",
      "[618127.50796546]\n",
      "[470963.7649962]\n",
      "[418058.14943336]\n",
      "[337917.0901095]\n",
      "[447713.44855881]\n",
      "[470181.59414403]\n",
      "[247418.94687958]\n",
      "[521338.40094808]\n",
      "[268017.57764738]\n",
      "[494658.42689548]\n",
      "[345806.4617805]\n",
      "[389114.89130406]\n",
      "[559371.31674464]\n",
      "[319921.52949599]\n",
      "[304735.16309762]\n",
      "[438952.20071789]\n",
      "[341219.76473681]\n",
      "[546142.48685551]\n",
      "[380931.42710677]\n",
      "[227778.83917884]\n",
      "[630684.25537941]\n",
      "[414642.11519232]\n",
      "[370730.24779978]\n",
      "[494363.01934513]\n",
      "[696210.19381165]\n",
      "[229983.22088148]\n",
      "[481174.29774332]\n",
      "[440205.81469511]\n",
      "[471344.3054095]\n",
      "[455395.82460311]\n",
      "[401882.16484077]\n",
      "[464205.14914826]\n",
      "[493457.88414938]\n",
      "[363524.52293494]\n",
      "[379216.44919217]\n",
      "[504264.46415602]\n",
      "[472336.43705286]\n",
      "[371823.89988806]\n",
      "[421317.90475412]\n",
      "[323013.67010319]\n",
      "[296658.81373909]\n",
      "[309943.73356159]\n",
      "[299049.18685503]\n",
      "[508386.39183833]\n",
      "[339895.23957548]\n",
      "[747696.79312879]\n",
      "[425155.17723742]\n",
      "[350881.86447601]\n",
      "[251293.85940742]\n",
      "[295873.22476396]\n",
      "[574617.03369829]\n",
      "[334972.31813556]\n",
      "[348905.75595498]\n",
      "[501351.88105008]\n",
      "[467664.81650813]\n",
      "[492909.63064081]\n",
      "[440642.60362837]\n",
      "[291584.5025023]\n",
      "[394438.33258491]\n",
      "[402985.25187378]\n",
      "[272112.58717773]\n",
      "[550305.75232542]\n",
      "[317914.53884441]\n",
      "[363117.6832743]\n",
      "[459362.84545891]\n",
      "[406750.68337224]\n",
      "[339047.10564278]\n",
      "[333206.36300328]\n",
      "[333519.53814067]\n",
      "[309922.47904567]\n",
      "[540259.23447389]\n",
      "[414442.16264252]\n",
      "[314737.88424191]\n",
      "[492326.29047195]\n",
      "[383279.5379107]\n",
      "[320691.54559953]\n",
      "[365247.61811295]\n",
      "[373445.02241015]\n",
      "[486313.86578454]\n",
      "[273184.42341382]\n",
      "[576772.68478499]\n",
      "[505996.47117619]\n",
      "[321941.90710295]\n",
      "[434098.99826455]\n",
      "[307397.15279216]\n",
      "[564629.87433723]\n",
      "[296193.24440588]\n",
      "[277965.26102398]\n",
      "[783611.85839693]\n",
      "[498024.29879701]\n",
      "[155843.27633482]\n",
      "[319080.44415841]\n",
      "[329876.53299]\n",
      "[364399.85334011]\n",
      "[572963.15933114]\n",
      "[397016.5672088]\n",
      "[456959.96622273]\n",
      "[568976.74143209]\n",
      "[390878.47728398]\n",
      "[498272.43612687]\n",
      "[270644.56834222]\n",
      "[361104.38046491]\n",
      "[399440.85525549]\n",
      "[258399.48341556]\n",
      "[444158.67927678]\n",
      "[320892.41373421]\n",
      "[726565.94261964]\n",
      "[268794.41324277]\n",
      "[383746.18656759]\n",
      "[449925.17093193]\n",
      "[350888.7077329]\n",
      "[475668.64479215]\n"
     ]
    }
   ],
   "source": [
    "for a in y_predicted:\n",
    "    print(a)"
   ]
  },
  {
   "cell_type": "code",
   "execution_count": 43,
   "metadata": {},
   "outputs": [
    {
     "name": "stdout",
     "output_type": "stream",
     "text": [
      "585000\n",
      "468000\n",
      "326500\n",
      "500000\n",
      "209480\n",
      "655000\n",
      "269900\n",
      "319500\n",
      "368500\n",
      "702325\n",
      "470000\n",
      "500000\n",
      "585000\n",
      "755000\n",
      "439000\n",
      "279900\n",
      "305000\n",
      "418000\n",
      "550000\n",
      "450000\n",
      "201953\n",
      "375000\n",
      "412500\n",
      "290000\n",
      "345000\n",
      "249000\n",
      "209900\n",
      "650000\n",
      "400000\n",
      "271000\n",
      "525000\n",
      "250000\n",
      "578324\n",
      "330000\n",
      "425000\n",
      "336500\n",
      "550000\n",
      "353140\n",
      "440000\n",
      "499900\n",
      "475000\n",
      "212000\n",
      "746559\n",
      "206000\n",
      "427000\n",
      "593046\n",
      "700000\n",
      "258000\n",
      "250000\n",
      "444000\n",
      "303000\n",
      "734235\n",
      "534000\n",
      "339000\n",
      "334000\n",
      "463003\n",
      "400000\n",
      "485000\n",
      "428000\n",
      "330000\n",
      "480000\n",
      "574000\n",
      "582499\n",
      "675000\n",
      "427000\n",
      "305500\n",
      "210000\n",
      "320000\n",
      "459990\n",
      "370000\n",
      "359000\n",
      "785000\n",
      "400000\n",
      "760000\n",
      "480000\n",
      "390000\n",
      "335000\n",
      "375000\n",
      "382000\n",
      "399900\n",
      "290000\n",
      "250000\n",
      "650000\n",
      "610000\n",
      "420000\n",
      "240000\n",
      "540000\n",
      "507000\n",
      "320000\n",
      "520000\n",
      "445000\n",
      "397400\n",
      "440000\n",
      "763812\n",
      "299000\n",
      "580000\n",
      "485000\n",
      "349900\n",
      "565962\n",
      "290000\n",
      "310000\n",
      "261250\n",
      "550000\n",
      "218000\n",
      "414000\n",
      "285000\n",
      "365000\n",
      "239000\n",
      "589900\n",
      "497415\n",
      "255000\n",
      "507500\n",
      "690000\n",
      "370000\n",
      "336873\n",
      "502000\n",
      "435000\n",
      "526000\n",
      "500000\n",
      "370000\n",
      "311370\n",
      "350000\n",
      "401195\n",
      "291000\n",
      "350000\n",
      "270900\n",
      "445000\n",
      "200000\n",
      "430000\n",
      "374900\n",
      "284857\n",
      "325000\n",
      "350165\n",
      "255000\n",
      "378000\n",
      "440000\n",
      "420000\n",
      "630000\n",
      "215000\n",
      "330000\n",
      "254400\n",
      "210000\n",
      "289500\n",
      "545500\n",
      "265000\n",
      "247640\n",
      "560000\n",
      "224950\n",
      "415000\n",
      "790000\n",
      "622500\n",
      "535000\n",
      "549000\n",
      "246677\n",
      "616700\n",
      "430965\n",
      "301000\n",
      "529600\n",
      "261000\n",
      "295000\n",
      "299940\n",
      "235000\n",
      "528000\n",
      "405000\n",
      "235000\n",
      "420000\n",
      "359000\n",
      "392235\n",
      "578000\n",
      "610000\n",
      "570000\n",
      "248000\n",
      "399600\n",
      "410000\n",
      "379900\n",
      "251489\n",
      "250000\n",
      "535000\n",
      "425000\n",
      "642500\n",
      "519900\n",
      "591000\n",
      "475000\n",
      "469335\n",
      "295990\n",
      "318000\n",
      "526275\n",
      "279537\n",
      "395000\n",
      "515000\n",
      "750000\n",
      "351500\n",
      "225000\n",
      "379862\n",
      "237500\n",
      "229500\n",
      "296000\n",
      "215000\n",
      "385000\n",
      "550000\n",
      "640000\n",
      "475000\n",
      "635000\n",
      "562500\n",
      "226000\n",
      "375050\n",
      "751000\n",
      "670000\n",
      "271000\n",
      "350000\n",
      "735000\n",
      "620000\n",
      "717900\n",
      "402500\n",
      "250000\n",
      "509000\n",
      "440000\n",
      "455000\n",
      "397000\n",
      "325000\n",
      "675000\n",
      "495900\n",
      "559900\n",
      "238600\n",
      "708000\n",
      "459000\n",
      "299000\n",
      "370000\n",
      "575000\n",
      "300000\n",
      "590000\n",
      "296000\n",
      "750000\n",
      "336000\n",
      "252000\n",
      "381000\n",
      "490000\n",
      "448000\n",
      "245000\n",
      "214900\n",
      "496700\n",
      "307310\n",
      "750000\n",
      "389900\n",
      "275000\n",
      "467000\n",
      "319990\n",
      "300000\n",
      "675000\n",
      "320890\n",
      "363700\n",
      "486460\n",
      "276840\n",
      "218000\n",
      "399126\n",
      "310000\n",
      "281990\n",
      "329000\n",
      "649900\n",
      "290000\n",
      "403000\n",
      "749990\n",
      "550000\n",
      "435000\n",
      "328150\n",
      "653931\n",
      "480000\n",
      "398000\n",
      "524048\n",
      "216250\n",
      "617000\n",
      "310000\n",
      "200000\n",
      "689900\n",
      "225870\n",
      "428000\n",
      "460000\n",
      "335000\n",
      "300000\n",
      "560000\n",
      "318500\n",
      "540000\n",
      "290000\n",
      "380000\n",
      "400000\n",
      "789000\n",
      "295000\n",
      "384900\n",
      "526000\n",
      "430000\n",
      "466000\n",
      "524000\n",
      "461825\n",
      "575000\n",
      "343000\n",
      "324999\n",
      "335000\n",
      "367925\n",
      "315000\n",
      "216500\n",
      "280000\n",
      "243000\n",
      "305000\n",
      "267500\n",
      "495000\n",
      "275000\n",
      "653888\n",
      "465000\n",
      "290000\n",
      "242000\n",
      "209000\n",
      "395000\n",
      "435000\n",
      "289000\n",
      "543000\n",
      "485000\n",
      "450000\n",
      "332271\n",
      "389990\n",
      "270585\n",
      "482413\n",
      "300000\n",
      "714000\n",
      "210000\n",
      "540000\n",
      "435000\n",
      "280000\n",
      "350000\n",
      "375000\n",
      "377400\n",
      "221940\n",
      "510000\n",
      "630765\n",
      "232200\n",
      "399900\n",
      "325000\n",
      "265000\n",
      "452145\n",
      "225000\n",
      "710000\n",
      "256500\n",
      "745000\n",
      "515000\n",
      "231525\n",
      "401000\n",
      "247000\n",
      "570000\n",
      "219900\n",
      "245000\n",
      "655600\n",
      "280000\n",
      "240000\n",
      "274500\n",
      "379900\n",
      "325000\n",
      "775000\n",
      "300000\n",
      "500000\n",
      "715000\n",
      "409610\n",
      "590000\n",
      "299990\n",
      "247437\n",
      "339400\n",
      "239900\n",
      "632500\n",
      "265000\n",
      "800000\n",
      "244800\n",
      "487500\n",
      "290000\n",
      "225000\n",
      "446151\n"
     ]
    }
   ],
   "source": [
    "for a in y_test['tx_price']:\n",
    "    print(a)"
   ]
  },
  {
   "cell_type": "code",
   "execution_count": 45,
   "metadata": {},
   "outputs": [],
   "source": [
    "importing metric r2_score\n",
    "from sklearn.metrics import r2_score"
   ]
  },
  {
   "cell_type": "code",
   "execution_count": 46,
   "metadata": {},
   "outputs": [
    {
     "data": {
      "text/plain": [
       "0.18162919011152112"
      ]
     },
     "execution_count": 46,
     "metadata": {},
     "output_type": "execute_result"
    }
   ],
   "source": [
    "# Variance score ? what it is  how can you know the performance of our model?\n",
    "r2_score(y_test,y_predicted) "
   ]
  },
  {
   "cell_type": "code",
   "execution_count": 53,
   "metadata": {},
   "outputs": [],
   "source": [
    "from sklearn.metrics import accuracy_score"
   ]
  },
  {
   "cell_type": "code",
   "execution_count": 55,
   "metadata": {},
   "outputs": [
    {
     "ename": "ValueError",
     "evalue": "Classification metrics can't handle a mix of multiclass and continuous targets",
     "output_type": "error",
     "traceback": [
      "\u001b[1;31m---------------------------------------------------------------------------\u001b[0m",
      "\u001b[1;31mValueError\u001b[0m                                Traceback (most recent call last)",
      "\u001b[1;32m<ipython-input-55-d2f57642bdb7>\u001b[0m in \u001b[0;36m<module>\u001b[1;34m\u001b[0m\n\u001b[1;32m----> 1\u001b[1;33m \u001b[0maccuracy_score\u001b[0m\u001b[1;33m(\u001b[0m\u001b[0my_test\u001b[0m\u001b[1;33m,\u001b[0m \u001b[0my_predicted\u001b[0m\u001b[1;33m,\u001b[0m \u001b[0mnormalize\u001b[0m\u001b[1;33m=\u001b[0m\u001b[1;32mTrue\u001b[0m\u001b[1;33m,\u001b[0m \u001b[0msample_weight\u001b[0m\u001b[1;33m=\u001b[0m\u001b[1;32mNone\u001b[0m\u001b[1;33m)\u001b[0m\u001b[1;33m\u001b[0m\u001b[1;33m\u001b[0m\u001b[0m\n\u001b[0m",
      "\u001b[1;32mG:\\Anaconda_3\\lib\\site-packages\\sklearn\\metrics\\_classification.py\u001b[0m in \u001b[0;36maccuracy_score\u001b[1;34m(y_true, y_pred, normalize, sample_weight)\u001b[0m\n\u001b[0;32m    183\u001b[0m \u001b[1;33m\u001b[0m\u001b[0m\n\u001b[0;32m    184\u001b[0m     \u001b[1;31m# Compute accuracy for each possible representation\u001b[0m\u001b[1;33m\u001b[0m\u001b[1;33m\u001b[0m\u001b[1;33m\u001b[0m\u001b[0m\n\u001b[1;32m--> 185\u001b[1;33m     \u001b[0my_type\u001b[0m\u001b[1;33m,\u001b[0m \u001b[0my_true\u001b[0m\u001b[1;33m,\u001b[0m \u001b[0my_pred\u001b[0m \u001b[1;33m=\u001b[0m \u001b[0m_check_targets\u001b[0m\u001b[1;33m(\u001b[0m\u001b[0my_true\u001b[0m\u001b[1;33m,\u001b[0m \u001b[0my_pred\u001b[0m\u001b[1;33m)\u001b[0m\u001b[1;33m\u001b[0m\u001b[1;33m\u001b[0m\u001b[0m\n\u001b[0m\u001b[0;32m    186\u001b[0m     \u001b[0mcheck_consistent_length\u001b[0m\u001b[1;33m(\u001b[0m\u001b[0my_true\u001b[0m\u001b[1;33m,\u001b[0m \u001b[0my_pred\u001b[0m\u001b[1;33m,\u001b[0m \u001b[0msample_weight\u001b[0m\u001b[1;33m)\u001b[0m\u001b[1;33m\u001b[0m\u001b[1;33m\u001b[0m\u001b[0m\n\u001b[0;32m    187\u001b[0m     \u001b[1;32mif\u001b[0m \u001b[0my_type\u001b[0m\u001b[1;33m.\u001b[0m\u001b[0mstartswith\u001b[0m\u001b[1;33m(\u001b[0m\u001b[1;34m'multilabel'\u001b[0m\u001b[1;33m)\u001b[0m\u001b[1;33m:\u001b[0m\u001b[1;33m\u001b[0m\u001b[1;33m\u001b[0m\u001b[0m\n",
      "\u001b[1;32mG:\\Anaconda_3\\lib\\site-packages\\sklearn\\metrics\\_classification.py\u001b[0m in \u001b[0;36m_check_targets\u001b[1;34m(y_true, y_pred)\u001b[0m\n\u001b[0;32m     88\u001b[0m     \u001b[1;32mif\u001b[0m \u001b[0mlen\u001b[0m\u001b[1;33m(\u001b[0m\u001b[0my_type\u001b[0m\u001b[1;33m)\u001b[0m \u001b[1;33m>\u001b[0m \u001b[1;36m1\u001b[0m\u001b[1;33m:\u001b[0m\u001b[1;33m\u001b[0m\u001b[1;33m\u001b[0m\u001b[0m\n\u001b[0;32m     89\u001b[0m         raise ValueError(\"Classification metrics can't handle a mix of {0} \"\n\u001b[1;32m---> 90\u001b[1;33m                          \"and {1} targets\".format(type_true, type_pred))\n\u001b[0m\u001b[0;32m     91\u001b[0m \u001b[1;33m\u001b[0m\u001b[0m\n\u001b[0;32m     92\u001b[0m     \u001b[1;31m# We can't have more than one value on y_type => The set is no more needed\u001b[0m\u001b[1;33m\u001b[0m\u001b[1;33m\u001b[0m\u001b[1;33m\u001b[0m\u001b[0m\n",
      "\u001b[1;31mValueError\u001b[0m: Classification metrics can't handle a mix of multiclass and continuous targets"
     ]
    }
   ],
   "source": [
    "accuracy_score(y_test, y_predicted, normalize=True, sample_weight=None)"
   ]
  },
  {
   "cell_type": "code",
   "execution_count": null,
   "metadata": {},
   "outputs": [],
   "source": [
    "100 --records\n",
    "\n",
    "50  --- 0\n",
    "50 -- 1\n"
   ]
  },
  {
   "cell_type": "code",
   "execution_count": null,
   "metadata": {},
   "outputs": [],
   "source": [
    "              predicted\n",
    "              0       1\n",
    "        \n",
    "          0  30      20   == 50\n",
    "actual \n",
    "          1  10      40   == 50\n",
    "    \n",
    "    --------------------------\n",
    "             40      60    | 100|"
   ]
  },
  {
   "cell_type": "code",
   "execution_count": null,
   "metadata": {},
   "outputs": [],
   "source": []
  },
  {
   "cell_type": "code",
   "execution_count": 56,
   "metadata": {},
   "outputs": [],
   "source": [
    "# What is the difference between R^2 and Adjusted R^2 ? "
   ]
  },
  {
   "cell_type": "markdown",
   "metadata": {},
   "source": [
    "# Ridge Rergression"
   ]
  },
  {
   "cell_type": "code",
   "execution_count": null,
   "metadata": {},
   "outputs": [],
   "source": [
    "# What is Correlation and Covariance ? and explain difference between these two?"
   ]
  },
  {
   "cell_type": "code",
   "execution_count": null,
   "metadata": {},
   "outputs": [],
   "source": [
    "# What is OLS?(Oridiunary Least Squares Estimate)"
   ]
  },
  {
   "cell_type": "code",
   "execution_count": null,
   "metadata": {},
   "outputs": [],
   "source": [
    "# Bias and Variance ?"
   ]
  },
  {
   "cell_type": "code",
   "execution_count": null,
   "metadata": {},
   "outputs": [],
   "source": [
    "Training Phase / Testing Phase\n",
    "    \n",
    "Divide the data into 2 part (70 30), (75 25) (80 20)\n",
    "\n",
    "            Training             Testing         underfitting\n",
    "Bad fit  :  High Bias         High Variance     \n",
    "    \n",
    "         :  Exctly fitted     High Variance      overfitting\n",
    "            Low Bias        \n",
    "            \n",
    "Good Fit :  Low Bias          Low variance       fit"
   ]
  },
  {
   "cell_type": "markdown",
   "metadata": {},
   "source": [
    "If you Observe the highly correlation between independent features this phenomena is called multi collinearity, when multicollinearity exists in the data or Data Sufferes with this problem redge regression Technique Will give the best results.\n",
    "\n"
   ]
  },
  {
   "cell_type": "markdown",
   "metadata": {},
   "source": [
    "y = MX + C   ---- sinle feature\n",
    "\n",
    "y = A + BX = A + B1*X1 +B2*X2 +B3*X3 ............... for multiple independent features\n",
    "\n",
    "\n",
    "Prediction Error = Bias + Variance \n",
    "\n",
    "\n"
   ]
  },
  {
   "cell_type": "code",
   "execution_count": null,
   "metadata": {},
   "outputs": [],
   "source": [
    "1 +2 +3 +4 =  Answer\n",
    "    \n",
    "0.3 *1 + "
   ]
  },
  {
   "cell_type": "markdown",
   "metadata": {},
   "source": [
    "# Ridge regression"
   ]
  },
  {
   "cell_type": "code",
   "execution_count": 57,
   "metadata": {},
   "outputs": [],
   "source": [
    "# loading required libraries\n",
    "import numpy as np \n",
    "import pandas as pd\n",
    "\n",
    "# Data\n",
    "df = pd.read_csv(r'C:\\Users\\Mohan\\DATA_SCIENTIST\\06_MACHINE LEARNING\\End_TO_End_Projects/finaldf.csv')"
   ]
  },
  {
   "cell_type": "code",
   "execution_count": null,
   "metadata": {},
   "outputs": [],
   "source": [
    "# Independet features / Dependent features \n",
    "# Divide the Traing and testing data\n",
    "# Need to call the algorithm from SKLEARN\n",
    "# fit the trining data\n",
    "# prediction on Testing data\n",
    "# evalution/ metrics/ how it is performing"
   ]
  },
  {
   "cell_type": "code",
   "execution_count": 62,
   "metadata": {},
   "outputs": [],
   "source": [
    "# Independet features / Dependent features \n",
    "df.head()\n",
    "\n",
    "X=df.drop(['tx_price'],axis =1)\n",
    "\n",
    "Y=df['tx_price']"
   ]
  },
  {
   "cell_type": "code",
   "execution_count": 67,
   "metadata": {},
   "outputs": [],
   "source": [
    "# Divide the Traing and testing data\n",
    "\n",
    "from sklearn.model_selection import train_test_split\n",
    "X_train, X_test, Y_train, Y_test = train_test_split(X, Y, test_size=0.30, random_state=7)"
   ]
  },
  {
   "cell_type": "code",
   "execution_count": 69,
   "metadata": {},
   "outputs": [
    {
     "name": "stdout",
     "output_type": "stream",
     "text": [
      "X_train : (1304, 45) \n",
      "X_test :(559, 45)  \n",
      "Y_train:(1304,) \n",
      "Y_test:(559,)\n"
     ]
    }
   ],
   "source": [
    "print(f'X_train : {X_train.shape} \\nX_test :{X_test.shape}  \\nY_train:{Y_train.shape} \\nY_test:{Y_test.shape}')"
   ]
  },
  {
   "cell_type": "code",
   "execution_count": 91,
   "metadata": {},
   "outputs": [],
   "source": [
    "from sklearn.linear_model import Ridge\n",
    "regr = Ridge()\n",
    "regr.fit(X_train,Y_train)\n",
    "Y_predi = regr.predict(X_test)"
   ]
  },
  {
   "cell_type": "code",
   "execution_count": 92,
   "metadata": {},
   "outputs": [],
   "source": [
    "# regression metric\n",
    "# importing metric r2_score\n",
    "from sklearn.metrics import r2_score"
   ]
  },
  {
   "cell_type": "code",
   "execution_count": 93,
   "metadata": {},
   "outputs": [
    {
     "data": {
      "text/plain": [
       "0.5087381196273714"
      ]
     },
     "execution_count": 93,
     "metadata": {},
     "output_type": "execute_result"
    }
   ],
   "source": [
    "r2_score(Y_test, Y_predi)"
   ]
  },
  {
   "cell_type": "markdown",
   "metadata": {},
   "source": [
    "# Lasso Regression"
   ]
  },
  {
   "cell_type": "code",
   "execution_count": 107,
   "metadata": {},
   "outputs": [
    {
     "name": "stderr",
     "output_type": "stream",
     "text": [
      "G:\\Anaconda_3\\lib\\site-packages\\sklearn\\linear_model\\_coordinate_descent.py:476: ConvergenceWarning: Objective did not converge. You might want to increase the number of iterations. Duality gap: 7243672286232.8545, tolerance: 2984006322.810378\n",
      "  positive)\n"
     ]
    }
   ],
   "source": [
    "from sklearn.linear_model import Lasso\n",
    "regr = Lasso(alpha=2,max_iter=100)\n",
    "regr.fit(X_train,Y_train)\n",
    "Y_predi = regr.predict(X_test)"
   ]
  },
  {
   "cell_type": "code",
   "execution_count": 108,
   "metadata": {},
   "outputs": [
    {
     "data": {
      "text/plain": [
       "0.5076645604750736"
      ]
     },
     "execution_count": 108,
     "metadata": {},
     "output_type": "execute_result"
    }
   ],
   "source": [
    "r2_score(Y_test, Y_predi)"
   ]
  },
  {
   "cell_type": "markdown",
   "metadata": {},
   "source": [
    "# Elastic Net"
   ]
  },
  {
   "cell_type": "code",
   "execution_count": 96,
   "metadata": {},
   "outputs": [
    {
     "name": "stderr",
     "output_type": "stream",
     "text": [
      "G:\\Anaconda_3\\lib\\site-packages\\sklearn\\linear_model\\_coordinate_descent.py:476: ConvergenceWarning: Objective did not converge. You might want to increase the number of iterations. Duality gap: 7827268258490.302, tolerance: 2984006322.810378\n",
      "  positive)\n"
     ]
    },
    {
     "data": {
      "text/plain": [
       "0.5049124534943562"
      ]
     },
     "execution_count": 96,
     "metadata": {},
     "output_type": "execute_result"
    }
   ],
   "source": [
    "from sklearn.linear_model import ElasticNet\n",
    "regr = ElasticNet()\n",
    "regr.fit(X_train,Y_train)\n",
    "Y_predi = regr.predict(X_test)\n",
    "r2_score(Y_test, Y_predi)"
   ]
  },
  {
   "cell_type": "code",
   "execution_count": null,
   "metadata": {},
   "outputs": [],
   "source": []
  }
 ],
 "metadata": {
  "kernelspec": {
   "display_name": "Python 3",
   "language": "python",
   "name": "python3"
  },
  "language_info": {
   "codemirror_mode": {
    "name": "ipython",
    "version": 3
   },
   "file_extension": ".py",
   "mimetype": "text/x-python",
   "name": "python",
   "nbconvert_exporter": "python",
   "pygments_lexer": "ipython3",
   "version": "3.7.3"
  }
 },
 "nbformat": 4,
 "nbformat_minor": 2
}
