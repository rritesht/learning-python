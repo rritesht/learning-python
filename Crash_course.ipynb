{
 "cells": [
  {
   "cell_type": "markdown",
   "metadata": {},
   "source": [
    "    -> Revise the consepts\n",
    "\n",
    "    -> Business executive , you need to visit different loaction in london and        meet people and share your view and take inputs."
   ]
  },
  {
   "cell_type": "code",
   "execution_count": 1,
   "metadata": {},
   "outputs": [
    {
     "name": "stdout",
     "output_type": "stream",
     "text": [
      "concatination : 1 2 3\n"
     ]
    }
   ],
   "source": [
    "# print concatination\n",
    "print(\"concatination :\", 1,2,3)"
   ]
  },
  {
   "cell_type": "code",
   "execution_count": 2,
   "metadata": {},
   "outputs": [
    {
     "name": "stdout",
     "output_type": "stream",
     "text": [
      "123.45\n"
     ]
    }
   ],
   "source": [
    "# BODMAS (Braket of division multiuplication Addition Substraction )\n",
    "#float\n",
    "\n",
    "print(123.45)"
   ]
  },
  {
   "cell_type": "code",
   "execution_count": 3,
   "metadata": {},
   "outputs": [
    {
     "data": {
      "text/plain": [
       "float"
      ]
     },
     "execution_count": 3,
     "metadata": {},
     "output_type": "execute_result"
    }
   ],
   "source": [
    "type(123.45)"
   ]
  },
  {
   "cell_type": "code",
   "execution_count": 4,
   "metadata": {},
   "outputs": [
    {
     "data": {
      "text/plain": [
       "123"
      ]
     },
     "execution_count": 4,
     "metadata": {},
     "output_type": "execute_result"
    }
   ],
   "source": [
    "# int () -> Trims the decimal part\n",
    "\n",
    "int(123.45)"
   ]
  },
  {
   "cell_type": "code",
   "execution_count": 5,
   "metadata": {},
   "outputs": [
    {
     "data": {
      "text/plain": [
       "123.0"
      ]
     },
     "execution_count": 5,
     "metadata": {},
     "output_type": "execute_result"
    }
   ],
   "source": [
    "# float() ->  Adds decimal part (defaultly zero)\n",
    "\n",
    "float(123)"
   ]
  },
  {
   "cell_type": "code",
   "execution_count": null,
   "metadata": {},
   "outputs": [],
   "source": [
    "# Round off\n",
    "123.567\n",
    "345.789\n",
    "12341.1234\n",
    "123.456"
   ]
  },
  {
   "cell_type": "code",
   "execution_count": 6,
   "metadata": {},
   "outputs": [
    {
     "data": {
      "text/plain": [
       "124"
      ]
     },
     "execution_count": 6,
     "metadata": {},
     "output_type": "execute_result"
    }
   ],
   "source": [
    "round(123.567)"
   ]
  },
  {
   "cell_type": "code",
   "execution_count": 7,
   "metadata": {},
   "outputs": [
    {
     "name": "stdout",
     "output_type": "stream",
     "text": [
      "124\n"
     ]
    }
   ],
   "source": [
    "print(round(123.567))"
   ]
  },
  {
   "cell_type": "code",
   "execution_count": 8,
   "metadata": {},
   "outputs": [
    {
     "data": {
      "text/plain": [
       "124"
      ]
     },
     "execution_count": 8,
     "metadata": {},
     "output_type": "execute_result"
    }
   ],
   "source": [
    "int(round(123.567))"
   ]
  },
  {
   "cell_type": "code",
   "execution_count": 9,
   "metadata": {},
   "outputs": [
    {
     "data": {
      "text/plain": [
       "123"
      ]
     },
     "execution_count": 9,
     "metadata": {},
     "output_type": "execute_result"
    }
   ],
   "source": [
    "round(123.12345)"
   ]
  },
  {
   "cell_type": "code",
   "execution_count": 10,
   "metadata": {},
   "outputs": [
    {
     "data": {
      "text/plain": [
       "123"
      ]
     },
     "execution_count": 10,
     "metadata": {},
     "output_type": "execute_result"
    }
   ],
   "source": [
    "round(123.45)"
   ]
  },
  {
   "cell_type": "code",
   "execution_count": 11,
   "metadata": {},
   "outputs": [
    {
     "data": {
      "text/plain": [
       "124"
      ]
     },
     "execution_count": 11,
     "metadata": {},
     "output_type": "execute_result"
    }
   ],
   "source": [
    "round(123.5)"
   ]
  },
  {
   "cell_type": "code",
   "execution_count": null,
   "metadata": {},
   "outputs": [],
   "source": [
    "# Business trip planning for London"
   ]
  },
  {
   "cell_type": "markdown",
   "metadata": {},
   "source": [
    "### Puzzle :1 \n",
    "\n",
    "#### I have total 3 bottles h= 16 cm r = 4cm   -> ANS :  2411.52\n",
    "\n",
    "\n",
    "### Puzzle :2 \n",
    "#### If i want to carry 5000 cm ^3 of water what are the maximum number of bottles i need to carry   -> Ans : 6"
   ]
  },
  {
   "cell_type": "code",
   "execution_count": 12,
   "metadata": {},
   "outputs": [
    {
     "data": {
      "text/plain": [
       "'555555555555'"
      ]
     },
     "execution_count": 12,
     "metadata": {},
     "output_type": "execute_result"
    }
   ],
   "source": [
    "'5'* 12"
   ]
  },
  {
   "cell_type": "code",
   "execution_count": 13,
   "metadata": {},
   "outputs": [
    {
     "ename": "TypeError",
     "evalue": "unsupported operand type(s) for /: 'str' and 'str'",
     "output_type": "error",
     "traceback": [
      "\u001b[1;31m---------------------------------------------------------------------------\u001b[0m",
      "\u001b[1;31mTypeError\u001b[0m                                 Traceback (most recent call last)",
      "\u001b[1;32m<ipython-input-13-98187604502f>\u001b[0m in \u001b[0;36m<module>\u001b[1;34m\u001b[0m\n\u001b[1;32m----> 1\u001b[1;33m \u001b[1;34m'5'\u001b[0m\u001b[1;33m/\u001b[0m\u001b[1;34m'5'\u001b[0m\u001b[1;33m\u001b[0m\u001b[1;33m\u001b[0m\u001b[0m\n\u001b[0m",
      "\u001b[1;31mTypeError\u001b[0m: unsupported operand type(s) for /: 'str' and 'str'"
     ]
    }
   ],
   "source": [
    "'5'/'5'"
   ]
  },
  {
   "cell_type": "code",
   "execution_count": 14,
   "metadata": {},
   "outputs": [
    {
     "name": "stdout",
     "output_type": "stream",
     "text": [
      "111 + 222 = 333\n"
     ]
    }
   ],
   "source": [
    "print('{} + {} = {}'.format(111,222, 111+222))"
   ]
  },
  {
   "cell_type": "markdown",
   "metadata": {},
   "source": [
    "# Data structures\n",
    "     -> List\n",
    "     -> Tuples\n",
    "     -> Sets\n",
    "     -> Dictionaries"
   ]
  },
  {
   "cell_type": "markdown",
   "metadata": {},
   "source": [
    "# Planing Process"
   ]
  },
  {
   "cell_type": "code",
   "execution_count": 30,
   "metadata": {},
   "outputs": [],
   "source": [
    "# Loading the data\n",
    "\n",
    "\n",
    "\n",
    "with open('D:\\Online classess_Material\\Trip Planing/brent.txt','r') as f:\n",
    "    brent = f.read().splitlines()\n",
    "\n",
    "with open('D:\\Online classess_Material\\Trip Planing/camden.txt','r') as f:\n",
    "    camden = f.read().splitlines()\n",
    "\n",
    "with open('D:\\Online classess_Material\\Trip Planing/redbridge.txt','r') as f:\n",
    "    redbridge = f.read().splitlines()\n",
    "\n",
    "with open('D:\\Online classess_Material\\Trip Planing/southwark.txt','r') as f:\n",
    "    southwark = f.read().splitlines()\n",
    "        "
   ]
  },
  {
   "cell_type": "code",
   "execution_count": 31,
   "metadata": {},
   "outputs": [
    {
     "ename": "TypeError",
     "evalue": "object of type 'NoneType' has no len()",
     "output_type": "error",
     "traceback": [
      "\u001b[1;31m---------------------------------------------------------------------------\u001b[0m",
      "\u001b[1;31mTypeError\u001b[0m                                 Traceback (most recent call last)",
      "\u001b[1;32m<ipython-input-31-bbd9430ff9ac>\u001b[0m in \u001b[0;36m<module>\u001b[1;34m\u001b[0m\n\u001b[1;32m----> 1\u001b[1;33m \u001b[0mlen\u001b[0m\u001b[1;33m(\u001b[0m\u001b[0mbrent\u001b[0m\u001b[1;33m)\u001b[0m\u001b[1;33m\u001b[0m\u001b[1;33m\u001b[0m\u001b[0m\n\u001b[0m",
      "\u001b[1;31mTypeError\u001b[0m: object of type 'NoneType' has no len()"
     ]
    }
   ],
   "source": [
    "len(brent)"
   ]
  },
  {
   "cell_type": "code",
   "execution_count": 27,
   "metadata": {},
   "outputs": [
    {
     "data": {
      "text/plain": [
       "list"
      ]
     },
     "execution_count": 27,
     "metadata": {},
     "output_type": "execute_result"
    }
   ],
   "source": [
    "type(brent)"
   ]
  },
  {
   "cell_type": "code",
   "execution_count": 31,
   "metadata": {},
   "outputs": [
    {
     "name": "stdout",
     "output_type": "stream",
     "text": [
      "Total Locations in brent : 19\n",
      "Total Locations in camden : 22\n",
      "Total Locations in redbridge : 18\n",
      "Total Locations in southwark : 15\n",
      "total Locations : 74\n"
     ]
    }
   ],
   "source": [
    "# I need Locations in each and every loaction\n",
    "\n",
    "print('Total Locations in brent : {}'.format(len(brent)))\n",
    "print('Total Locations in camden : {}'.format(len(camden)))\n",
    "print('Total Locations in redbridge : {}'.format(len(redbridge)))\n",
    "print('Total Locations in southwark : {}'.format(len(southwark)))\n",
    "\n",
    "print('Total Locations : {}'.format(len(brent)+len(camden)+len(redbridge)+len(southwark)))"
   ]
  },
  {
   "cell_type": "code",
   "execution_count": 32,
   "metadata": {},
   "outputs": [
    {
     "name": "stdout",
     "output_type": "stream",
     "text": [
      "True\n"
     ]
    }
   ],
   "source": [
    "# 'Newbury park' in redbridge ?\n",
    "\n",
    "print( 'Newbury Park' in redbridge)"
   ]
  },
  {
   "cell_type": "code",
   "execution_count": 33,
   "metadata": {},
   "outputs": [
    {
     "name": "stdout",
     "output_type": "stream",
     "text": [
      "False\n"
     ]
    }
   ],
   "source": [
    "# peckham in brent ?\n",
    "print('Peckham' in brent)"
   ]
  },
  {
   "cell_type": "code",
   "execution_count": null,
   "metadata": {},
   "outputs": [],
   "source": []
  },
  {
   "cell_type": "code",
   "execution_count": 44,
   "metadata": {},
   "outputs": [
    {
     "name": "stdout",
     "output_type": "stream",
     "text": [
      "brent :  ['Brent Park', 'Church End', 'Dollis Hill', 'Harlesden', 'Kensal Green']\n",
      "camden :  ['Chalk Farm', 'Dartmouth Park', 'Fitzrovia', 'Frognal', 'Bloomsbury']\n",
      "redbridge : ['Chadwell Heath', 'Gants Hill', 'Goodmayes', 'Snaresbrook', 'Hainault']\n",
      "southwark : ['Denmark Hill', 'Dulwich', 'Surrey Quays', 'East Dulwich', 'Elephant and Castle']\n"
     ]
    }
   ],
   "source": [
    "# print 5 sample locations in each and every location\n",
    "\n",
    "print(\"brent : \", brent[:5])\n",
    "\n",
    "print(\"camden : \",camden[:5])\n",
    "\n",
    "print('redbridge :',redbridge[:5])\n",
    "\n",
    "print('southwark :', southwark[:5])"
   ]
  },
  {
   "cell_type": "code",
   "execution_count": 67,
   "metadata": {},
   "outputs": [
    {
     "name": "stdout",
     "output_type": "stream",
     "text": [
      "Alperton\n",
      "Willesden\n",
      "Belsize Park\n",
      "West Hampstead\n",
      "Aldborough Hatch\n",
      "Woodford Green\n",
      "Bankside\n",
      "Walworth\n"
     ]
    }
   ],
   "source": [
    "# What are the min and max values in all the four locations \n",
    "\n",
    "locations = [brent,camden,redbridge,southwark]\n",
    "for loca in locations:    \n",
    "    print(min(loca))\n",
    "    print(max(loca))"
   ]
  },
  {
   "cell_type": "code",
   "execution_count": 68,
   "metadata": {},
   "outputs": [
    {
     "name": "stdout",
     "output_type": "stream",
     "text": [
      "74\n"
     ]
    }
   ],
   "source": [
    "# what are all the long & short names in each and every 4 locations\n",
    "locations = [brent,camden,redbridge,southwark]\n",
    "len_list = []\n",
    "for loca in locations:\n",
    "    for loc in loca:\n",
    "        len_list.append(len(loc))\n",
    "        \n",
    "print(len(len_list))\n",
    "        \n",
    "   \n"
   ]
  },
  {
   "cell_type": "code",
   "execution_count": null,
   "metadata": {},
   "outputs": [],
   "source": [
    "# identifying the min & max lenth locations in brent"
   ]
  },
  {
   "cell_type": "code",
   "execution_count": 51,
   "metadata": {},
   "outputs": [
    {
     "data": {
      "text/plain": [
       "6"
      ]
     },
     "execution_count": 51,
     "metadata": {},
     "output_type": "execute_result"
    }
   ],
   "source": [
    "min(len_list[:20])"
   ]
  },
  {
   "cell_type": "code",
   "execution_count": 54,
   "metadata": {},
   "outputs": [
    {
     "data": {
      "text/plain": [
       "2"
      ]
     },
     "execution_count": 54,
     "metadata": {},
     "output_type": "execute_result"
    }
   ],
   "source": [
    "len_list.count(6)"
   ]
  },
  {
   "cell_type": "code",
   "execution_count": 55,
   "metadata": {},
   "outputs": [
    {
     "data": {
      "text/plain": [
       "1"
      ]
     },
     "execution_count": 55,
     "metadata": {},
     "output_type": "execute_result"
    }
   ],
   "source": [
    "len_list[:20].count(6)"
   ]
  },
  {
   "cell_type": "code",
   "execution_count": 53,
   "metadata": {},
   "outputs": [
    {
     "data": {
      "text/plain": [
       "14"
      ]
     },
     "execution_count": 53,
     "metadata": {},
     "output_type": "execute_result"
    }
   ],
   "source": [
    "len_list.index(6)"
   ]
  },
  {
   "cell_type": "code",
   "execution_count": 56,
   "metadata": {},
   "outputs": [
    {
     "data": {
      "text/plain": [
       "'Kenton'"
      ]
     },
     "execution_count": 56,
     "metadata": {},
     "output_type": "execute_result"
    }
   ],
   "source": [
    "brent[14]"
   ]
  },
  {
   "cell_type": "code",
   "execution_count": 52,
   "metadata": {},
   "outputs": [
    {
     "data": {
      "text/plain": [
       "12"
      ]
     },
     "execution_count": 52,
     "metadata": {},
     "output_type": "execute_result"
    }
   ],
   "source": [
    "max(len_list[:20])"
   ]
  },
  {
   "cell_type": "code",
   "execution_count": 57,
   "metadata": {},
   "outputs": [
    {
     "data": {
      "text/plain": [
       "3"
      ]
     },
     "execution_count": 57,
     "metadata": {},
     "output_type": "execute_result"
    }
   ],
   "source": [
    "len_list[:20].count(12)"
   ]
  },
  {
   "cell_type": "code",
   "execution_count": 58,
   "metadata": {},
   "outputs": [
    {
     "name": "stdout",
     "output_type": "stream",
     "text": [
      "4\n",
      "4\n",
      "4\n"
     ]
    }
   ],
   "source": [
    "for l in len_list[:20]:\n",
    "    if l==12:\n",
    "        print(len_list.index(l))"
   ]
  },
  {
   "cell_type": "code",
   "execution_count": 61,
   "metadata": {},
   "outputs": [],
   "source": [
    "lis_12 = []\n",
    "for l in len_list[:20]:\n",
    "    if l==12:\n",
    "        lis_12.append(len_list.index(l))"
   ]
  },
  {
   "cell_type": "code",
   "execution_count": 65,
   "metadata": {},
   "outputs": [
    {
     "name": "stdout",
     "output_type": "stream",
     "text": [
      "10\n",
      "10\n",
      "11\n",
      "9\n",
      "12\n",
      "9\n",
      "7\n",
      "7\n",
      "12\n",
      "9\n",
      "7\n",
      "12\n",
      "9\n",
      "10\n",
      "6\n",
      "7\n",
      "7\n",
      "11\n",
      "8\n",
      "10\n"
     ]
    }
   ],
   "source": [
    "a = len_list[:20]\n",
    "for ele in a:\n",
    "    print(ele)"
   ]
  },
  {
   "cell_type": "code",
   "execution_count": 66,
   "metadata": {},
   "outputs": [
    {
     "name": "stdout",
     "output_type": "stream",
     "text": [
      "Kensal Green\n",
      "Queen's Park\n",
      "Wembley Park\n"
     ]
    }
   ],
   "source": [
    "# The name of locations in brent with maximum length\n",
    "for br in brent:\n",
    "    if len(br)==12:\n",
    "        print(br)"
   ]
  },
  {
   "cell_type": "code",
   "execution_count": 62,
   "metadata": {},
   "outputs": [
    {
     "data": {
      "text/plain": [
       "[4, 4, 4]"
      ]
     },
     "execution_count": 62,
     "metadata": {},
     "output_type": "execute_result"
    }
   ],
   "source": [
    "lis_12"
   ]
  },
  {
   "cell_type": "code",
   "execution_count": 60,
   "metadata": {},
   "outputs": [
    {
     "data": {
      "text/plain": [
       "'Kensal Green'"
      ]
     },
     "execution_count": 60,
     "metadata": {},
     "output_type": "execute_result"
    }
   ],
   "source": [
    "brent[4]"
   ]
  },
  {
   "cell_type": "code",
   "execution_count": null,
   "metadata": {},
   "outputs": [],
   "source": [
    "# identifying the min & max lenth locations in brent"
   ]
  },
  {
   "cell_type": "code",
   "execution_count": null,
   "metadata": {},
   "outputs": [],
   "source": [
    "# brent :\n",
    "\n",
    "minimum lenght    : \n",
    "how many locations:\n",
    "Name of locations :\n",
    "    \n",
    "maximum lenght    : \n",
    "how many locations:\n",
    "Name of locations :\n",
    "    \n",
    "# camden :\n",
    "\n",
    "minimum lenght    : \n",
    "how many locations:\n",
    "Name of locations :\n",
    "    \n",
    "maximum lenght    : \n",
    "how many locations:\n",
    "Name of locations :\n",
    "    \n",
    "# redbridge :\n",
    "\n",
    "minimum lenght    : \n",
    "how many locations:\n",
    "Name of locations :\n",
    "    \n",
    "maximum lenght    : \n",
    "how many locations:\n",
    "Name of locations :\n",
    "    \n",
    "# southwark :\n",
    "\n",
    "minimum lenght    : \n",
    "how many locations:\n",
    "Name of locations :\n",
    "\n",
    "maximum lenght    : \n",
    "how many locations:\n",
    "Name of locations :\n"
   ]
  },
  {
   "cell_type": "code",
   "execution_count": 2,
   "metadata": {},
   "outputs": [
    {
     "name": "stdout",
     "output_type": "stream",
     "text": [
      "enter an operation to execute from below add/sub/mul/div/exp:sub\n",
      "enter the first number:3\n",
      "enter the second number to sub from first number:4\n",
      "3-4= -1\n"
     ]
    }
   ],
   "source": [
    "# Operations Assignment by selecting our required operation\n",
    "operation=str(input(\"enter an operation to execute from below add/sub/mul/div/exp:\"))\n",
    "operation_case=operation.lower()\n",
    "oper_type=operation.isalpha()\n",
    "#valid_ip_check\n",
    "if oper_type==True:\n",
    "    if operation_case=='add':\n",
    "        num1=int(input(\"enter the first number to add:\"))\n",
    "        num2=int(input(\"enter the second number to add:\"))\n",
    "        num_add=num1+num2\n",
    "        print(\"{}+{}= {}\".format(num1,num2,num_add))\n",
    "    elif operation_case=='sub':\n",
    "        num3=int(input(\"enter the first number:\"))\n",
    "        num4=int(input(\"enter the second number to sub from first number:\"))\n",
    "        num_sub=num3-num4\n",
    "        print(\"{}-{}= {}\".format(num3,num4,num_sub))\n",
    "    elif operation_case=='mul':\n",
    "        num5=int(input(\"enter the first number:\"))\n",
    "        num6=int(input(\"enter the second number to multiply with first number:\"))\n",
    "        num_mul=num5*num6\n",
    "        print(\"{}*{}= {}\".format(num5,num6,num_mul))\n",
    "    elif operation_case=='div':\n",
    "        num7=int(input(\"enter the first number:\"))\n",
    "        num8=int(input(\"enter the number to divide first number:\"))\n",
    "        num_div=num7/num8\n",
    "        print(\"{}/{}= {}\".format(num7,num8,num_div))\n",
    "    elif operation_case=='exp':\n",
    "        num9=int(input(\"enter the base number:\"))\n",
    "        num10=int(input(\"enter the exponent number:\"))\n",
    "        num_exp=num9**num10\n",
    "        print(\"{}^{}= {}\".format(num9,num10,num_exp))\n",
    "    else:\n",
    "        print(\"Please choose one of the operation- add/sub/mul/div/exp\")\n",
    "    \n",
    "else:\n",
    "    print(\"Please enter a valid string input\")"
   ]
  },
  {
   "cell_type": "code",
   "execution_count": 72,
   "metadata": {},
   "outputs": [
    {
     "name": "stdout",
     "output_type": "stream",
     "text": [
      "enter a name to find numerological sum:zzzzzzzzzzzzzzzzzzzzzzzzzzzzzzzzzzzzzz\n",
      "[26, 26, 26, 26, 26, 26, 26, 26, 26, 26, 26, 26, 26, 26, 26, 26, 26, 26, 26, 26, 26, 26, 26, 26, 26, 26, 26, 26, 26, 26, 26, 26, 26, 26, 26, 26, 26, 26]\n",
      "Numerolgical sum of the name: zzzzzzzzzzzzzzzzzzzzzzzzzzzzzzzzzzzzzz= 25\n"
     ]
    }
   ],
   "source": [
    "# find a luckky number based on name by assigning equalent number to alphabets\n",
    "\n",
    "reg_alpha=[('a', 1), ('b', 2), ('c', 3), ('d', 4), ('e', 5), ('f', 6), ('g', 7), ('h', 8), ('i', 9), ('j', 10), ('k', 11), ('l', 12), ('m', 13), ('n', 14), ('o', 15), ('p', 16), ('q', 17), ('r', 18), ('s', 19), ('t', 20), ('u', 21), ('v', 22), ('w', 23), ('x', 24), ('y', 25), ('z', 26)]\n",
    "name=str(input(\"enter a name to find numerological sum:\"))\n",
    "#name='reddypalli sai manoj'\n",
    "operation_nospace=name.replace(\" \", \"\") \n",
    "operation_case=operation_nospace.lower()\n",
    "initial_nums=[]\n",
    "initial_key=[]\n",
    "type_check=operation_case.isalpha()\n",
    "name_sum=0\n",
    "total_sum=0\n",
    "a=0\n",
    "#valid_ip_check\n",
    "if type_check==True:\n",
    "    for chars in name:\n",
    "        for key,value in reg_alpha:\n",
    "            if chars!=key:\n",
    "                a=a+1\n",
    "            else:\n",
    "                initial_nums.append(value)\n",
    "                initial_key.append(key)\n",
    "                break\n",
    "else:\n",
    "    print(\"Please enter a valid string\")\n",
    "    \n",
    "for sums in initial_nums: \n",
    "    name_sum=sums+name_sum \n",
    "#iterate till sum is one digit\n",
    "if name_sum>9:\n",
    "    str_num=str(name_sum)\n",
    "    for one_vl in str_num: \n",
    "        int_num=int(one_vl)\n",
    "        total_sum=total_sum+int_num\n",
    "else:\n",
    "    total_sum=name_sum\n",
    "print(initial_nums)\n",
    "#print(initial_key)\n",
    "print(\"Numerolgical sum of the name: {}= {}\".format(name,total_sum))"
   ]
  },
  {
   "cell_type": "code",
   "execution_count": null,
   "metadata": {},
   "outputs": [],
   "source": []
  },
  {
   "cell_type": "code",
   "execution_count": 69,
   "metadata": {},
   "outputs": [
    {
     "name": "stdout",
     "output_type": "stream",
     "text": [
      "Brent Has Duplicates ? ANS :False\n",
      "camden Has Duplicates ? ANS :True\n",
      "redbridge Has Duplicates ? ANS :True\n",
      "southwark Has Duplicates ? ANS :True\n"
     ]
    }
   ],
   "source": [
    "# Checking the duplicates?\n",
    "\n",
    "# set -> it will capture only unique values \n",
    "\n",
    "print(\"Brent Has Duplicates ? ANS :{}\".format(len(brent)>len(set(brent))))\n",
    "\n",
    "print(\"camden Has Duplicates ? ANS :{}\".format(len(camden)>len(set(camden))))\n",
    "\n",
    "print(\"redbridge Has Duplicates ? ANS :{}\".format(len(redbridge)>len(set(redbridge))))\n",
    "\n",
    "print(\"southwark Has Duplicates ? ANS :{}\".format(len(southwark)>len(set(southwark))))"
   ]
  },
  {
   "cell_type": "markdown",
   "metadata": {},
   "source": [
    "## Observation\n",
    "\n",
    "### 1. After observations only brent does not contain duplicates"
   ]
  },
  {
   "cell_type": "code",
   "execution_count": 70,
   "metadata": {},
   "outputs": [
    {
     "name": "stdout",
     "output_type": "stream",
     "text": [
      "camden Has Duplicates ? ANS :3\n",
      "redbridge Has Duplicates ? ANS :2\n",
      "southwark Has Duplicates ? ANS :2\n"
     ]
    }
   ],
   "source": [
    "# To know the count of duplicates\n",
    "\n",
    "print(\"camden Has Duplicates ? ANS :{}\".format(len(camden)-len(set(camden))))\n",
    "\n",
    "print(\"redbridge Has Duplicates ? ANS :{}\".format(len(redbridge)-len(set(redbridge))))\n",
    "\n",
    "print(\"southwark Has Duplicates ? ANS :{}\".format(len(southwark)-len(set(southwark))))"
   ]
  },
  {
   "cell_type": "code",
   "execution_count": null,
   "metadata": {},
   "outputs": [],
   "source": []
  },
  {
   "cell_type": "code",
   "execution_count": 80,
   "metadata": {},
   "outputs": [
    {
     "name": "stdout",
     "output_type": "stream",
     "text": [
      "camden Has Duplicates ? ANS :['Kentish Town', \"King's Cross\", 'Highgate', 'Somerstown', 'Bloomsbury', 'Holborn', 'Camden Town', 'St Pancras', 'Hampstead', 'Chalk Farm', 'Gospel Oak', 'Swiss Cottage', 'West Hampstead', 'Primrose Hill', 'Dartmouth Park', 'Belsize Park', 'St Giles', 'Frognal', 'Fitzrovia']\n"
     ]
    }
   ],
   "source": [
    "# To know the duplicate elements\n",
    "\n",
    "print(\"camden Has Duplicates ? ANS :{}\".format(list(set(camden))))\n",
    "\n",
    "#print(\"redbridge Has Duplicates ? ANS :{}\".format\n",
    "\n",
    "#print(\"southwark Has Duplicates ? ANS :{}\".format"
   ]
  },
  {
   "cell_type": "code",
   "execution_count": 73,
   "metadata": {},
   "outputs": [
    {
     "data": {
      "text/plain": [
       "['Chalk Farm',\n",
       " 'Dartmouth Park',\n",
       " 'Fitzrovia',\n",
       " 'Frognal',\n",
       " 'Bloomsbury',\n",
       " 'Gospel Oak',\n",
       " 'Hampstead',\n",
       " 'Highgate',\n",
       " 'Holborn',\n",
       " 'Kentish Town',\n",
       " 'Gospel Oak',\n",
       " 'Primrose Hill',\n",
       " 'Somerstown',\n",
       " 'St Giles',\n",
       " 'St Pancras',\n",
       " 'Swiss Cottage',\n",
       " 'West Hampstead',\n",
       " \"King's Cross\",\n",
       " 'Somerstown',\n",
       " 'Belsize Park',\n",
       " 'Bloomsbury',\n",
       " 'Camden Town']"
      ]
     },
     "execution_count": 73,
     "metadata": {},
     "output_type": "execute_result"
    }
   ],
   "source": [
    "camden"
   ]
  },
  {
   "cell_type": "code",
   "execution_count": 8,
   "metadata": {},
   "outputs": [
    {
     "data": {
      "text/plain": [
       "['Chadwell Heath',\n",
       " 'Gants Hill',\n",
       " 'Goodmayes',\n",
       " 'Snaresbrook',\n",
       " 'Hainault',\n",
       " 'Ilford',\n",
       " 'Loxford',\n",
       " 'Newbury Park',\n",
       " 'Hainault',\n",
       " 'Redbridge',\n",
       " 'Seven Kings',\n",
       " 'South Woodford',\n",
       " 'Wanstead',\n",
       " 'Woodford',\n",
       " 'Woodford Green',\n",
       " 'Snaresbrook',\n",
       " 'Aldborough Hatch',\n",
       " 'Barkingside']"
      ]
     },
     "execution_count": 8,
     "metadata": {},
     "output_type": "execute_result"
    }
   ],
   "source": [
    "redbridge"
   ]
  },
  {
   "cell_type": "code",
   "execution_count": 9,
   "metadata": {},
   "outputs": [
    {
     "data": {
      "text/plain": [
       "['Denmark Hill',\n",
       " 'Dulwich',\n",
       " 'Surrey Quays',\n",
       " 'East Dulwich',\n",
       " 'Elephant and Castle',\n",
       " 'Newington',\n",
       " 'Nunhead',\n",
       " 'Peckham',\n",
       " 'Rotherhithe',\n",
       " 'Surrey Quays',\n",
       " 'Nunhead',\n",
       " 'Walworth',\n",
       " 'Bermondsey',\n",
       " 'Camberwell',\n",
       " 'Bankside']"
      ]
     },
     "execution_count": 9,
     "metadata": {},
     "output_type": "execute_result"
    }
   ],
   "source": [
    "southwark"
   ]
  },
  {
   "cell_type": "code",
   "execution_count": null,
   "metadata": {},
   "outputs": [],
   "source": [
    "camden    ->['Bloomsbury','Gospel Oak','Somerstown']\n",
    "\n",
    "redbridge ->['Hainault','Snaresbrook']\n",
    "\n",
    "southwark ->['Nunhead','Surrey Quays']"
   ]
  },
  {
   "cell_type": "code",
   "execution_count": null,
   "metadata": {},
   "outputs": [],
   "source": []
  },
  {
   "cell_type": "code",
   "execution_count": null,
   "metadata": {},
   "outputs": [],
   "source": []
  },
  {
   "cell_type": "code",
   "execution_count": 101,
   "metadata": {},
   "outputs": [
    {
     "name": "stdout",
     "output_type": "stream",
     "text": [
      "camden->['Bloomsbury', 'Gospel Oak', 'Somerstown'] \n",
      "rb->['Snaresbrook', 'Hainault'] \n",
      "sw->['Surrey Quays', 'Nunhead'] \n"
     ]
    }
   ],
   "source": [
    "# Finding duplicates in all 3 regions\n",
    "\n",
    "dup_camden    = []\n",
    "dup_redbridge = []\n",
    "dup_southwark = []\n",
    "\n",
    "locs = [camden,redbridge,southwark]\n",
    "for lo in locs:\n",
    "        if lo==camden:\n",
    "            for c in lo:\n",
    "                if (lo.count(c))>1:\n",
    "                    vali = c in dup_camden\n",
    "                    if vali== False :\n",
    "                        dup_camden.append(c)                        \n",
    "               \n",
    "        if lo==redbridge:\n",
    "            for c in lo:\n",
    "                if (lo.count(c))>1:\n",
    "                    vali = c in dup_redbridge\n",
    "                    if vali== False :\n",
    "                        dup_redbridge.append(c)\n",
    "                        \n",
    "\n",
    "        if lo == southwark:\n",
    "            for c in lo:\n",
    "                if (lo.count(c))>1:\n",
    "                    vali = c in dup_southwark\n",
    "                    if vali== False :\n",
    "                        dup_southwark.append(c) \n",
    "                        \n",
    "# to print all duplicate locations            \n",
    "duplis = {'camden':dup_camden,'rb' : dup_redbridge,'sw' :dup_southwark}\n",
    "for key, value in duplis.items():\n",
    "    print(\"{}->{} \".format(key, value))"
   ]
  },
  {
   "cell_type": "code",
   "execution_count": 9,
   "metadata": {},
   "outputs": [],
   "source": [
    "# Removing duplicates and re assigning to the original locations\n",
    "\n",
    "camden    = list(set(camden))\n",
    "\n",
    "redbridge = list(set(redbridge))\n",
    "\n",
    "southwark = list(set(southwark))"
   ]
  },
  {
   "cell_type": "code",
   "execution_count": 14,
   "metadata": {},
   "outputs": [
    {
     "data": {
      "text/plain": [
       "19"
      ]
     },
     "execution_count": 14,
     "metadata": {},
     "output_type": "execute_result"
    }
   ],
   "source": [
    "# All the lengths of locations\n",
    "\n",
    "\n",
    "\n"
   ]
  },
  {
   "cell_type": "code",
   "execution_count": 10,
   "metadata": {},
   "outputs": [
    {
     "name": "stdout",
     "output_type": "stream",
     "text": [
      "Total Locations in brent : 19\n",
      "Total Locations in camden : 19\n",
      "Total Locations in redbridge : 16\n",
      "Total Locations in southwark : 13\n",
      "Total Locations : 67\n"
     ]
    }
   ],
   "source": [
    "\n",
    "\n",
    "# I need Locations in each and every loaction\n",
    "\n",
    "print('Total Locations in brent : {}'.format(len(brent)))\n",
    "print('Total Locations in camden : {}'.format(len(camden)))\n",
    "print('Total Locations in redbridge : {}'.format(len(redbridge)))\n",
    "print('Total Locations in southwark : {}'.format(len(southwark)))\n",
    "\n",
    "print('Total Locations : {}'.format(len(brent)+len(camden)+len(redbridge)+len(southwark)))"
   ]
  },
  {
   "cell_type": "code",
   "execution_count": 3,
   "metadata": {},
   "outputs": [],
   "source": [
    "# Cratre a dictionary with all the four modules locatios\n",
    "\n",
    "location_dict = {'Brent': brent, 'Camden': camden, 'Redbridge': redbridge, 'Southwark':southwark}\n"
   ]
  },
  {
   "cell_type": "code",
   "execution_count": 4,
   "metadata": {},
   "outputs": [
    {
     "data": {
      "text/plain": [
       "dict_items([('Brent', ['Brent Park', 'Church End', 'Dollis Hill', 'Harlesden', 'Kensal Green', 'Kingsbury', 'Neasden', 'Preston', \"Queen's Park\", 'Tokyngton', 'Wembley', 'Wembley Park', 'Willesden', 'Park Royal', 'Kenton', 'Kilburn', 'Sudbury', 'Brondesbury', 'Alperton']), ('Camden', ['Chalk Farm', 'Dartmouth Park', 'Fitzrovia', 'Frognal', 'Bloomsbury', 'Gospel Oak', 'Hampstead', 'Highgate', 'Holborn', 'Kentish Town', 'Gospel Oak', 'Primrose Hill', 'Somerstown', 'St Giles', 'St Pancras', 'Swiss Cottage', 'West Hampstead', \"King's Cross\", 'Somerstown', 'Belsize Park', 'Bloomsbury', 'Camden Town']), ('Redbridge', ['Chadwell Heath', 'Gants Hill', 'Goodmayes', 'Snaresbrook', 'Hainault', 'Ilford', 'Loxford', 'Newbury Park', 'Hainault', 'Redbridge', 'Seven Kings', 'South Woodford', 'Wanstead', 'Woodford', 'Woodford Green', 'Snaresbrook', 'Aldborough Hatch', 'Barkingside']), ('Southwark', ['Denmark Hill', 'Dulwich', 'Surrey Quays', 'East Dulwich', 'Elephant and Castle', 'Newington', 'Nunhead', 'Peckham', 'Rotherhithe', 'Surrey Quays', 'Nunhead', 'Walworth', 'Bermondsey', 'Camberwell', 'Bankside'])])"
      ]
     },
     "execution_count": 4,
     "metadata": {},
     "output_type": "execute_result"
    }
   ],
   "source": [
    "location_dict.items()"
   ]
  },
  {
   "cell_type": "code",
   "execution_count": 5,
   "metadata": {},
   "outputs": [
    {
     "data": {
      "text/plain": [
       "dict_keys(['Brent', 'Camden', 'Redbridge', 'Southwark'])"
      ]
     },
     "execution_count": 5,
     "metadata": {},
     "output_type": "execute_result"
    }
   ],
   "source": [
    "location_dict.keys()"
   ]
  },
  {
   "cell_type": "code",
   "execution_count": 19,
   "metadata": {},
   "outputs": [
    {
     "data": {
      "text/plain": [
       "dict_values([['Brent Park', 'Church End', 'Dollis Hill', 'Harlesden', 'Kensal Green', 'Kingsbury', 'Neasden', 'Preston', \"Queen's Park\", 'Tokyngton', 'Wembley', 'Wembley Park', 'Willesden', 'Park Royal', 'Kenton', 'Kilburn', 'Sudbury', 'Brondesbury', 'Alperton'], ['West Hampstead', 'Frognal', \"King's Cross\", 'Highgate', 'Bloomsbury', 'Dartmouth Park', 'Chalk Farm', 'St Pancras', 'Gospel Oak', 'Kentish Town', 'Swiss Cottage', 'Fitzrovia', 'Somerstown', 'Hampstead', 'Holborn', 'Primrose Hill', 'Camden Town', 'Belsize Park', 'St Giles'], ['Barkingside', 'Ilford', 'Seven Kings', 'Snaresbrook', 'Woodford', 'Woodford Green', 'Hainault', 'Chadwell Heath', 'Newbury Park', 'Gants Hill', 'South Woodford', 'Wanstead', 'Aldborough Hatch', 'Redbridge', 'Loxford', 'Goodmayes'], ['Peckham', 'Rotherhithe', 'Surrey Quays', 'East Dulwich', 'Dulwich', 'Bermondsey', 'Newington', 'Camberwell', 'Bankside', 'Walworth', 'Elephant and Castle', 'Nunhead', 'Denmark Hill']])"
      ]
     },
     "execution_count": 19,
     "metadata": {},
     "output_type": "execute_result"
    }
   ],
   "source": [
    "location_dict.values()"
   ]
  },
  {
   "cell_type": "code",
   "execution_count": 13,
   "metadata": {},
   "outputs": [
    {
     "name": "stdout",
     "output_type": "stream",
     "text": [
      "True\n",
      "True\n",
      "True\n",
      "True\n"
     ]
    }
   ],
   "source": [
    "for city in ['Brent', 'Camden', 'Redbridge', 'Southwark']:\n",
    "    print(city in location_dict)"
   ]
  },
  {
   "cell_type": "code",
   "execution_count": 14,
   "metadata": {},
   "outputs": [
    {
     "name": "stdout",
     "output_type": "stream",
     "text": [
      "True\n",
      "True\n",
      "True\n",
      "True\n"
     ]
    }
   ],
   "source": [
    "for city in ['Brent', 'Camden', 'Redbridge', 'Southwark']:\n",
    "    print(city in location_dict.keys())"
   ]
  },
  {
   "cell_type": "code",
   "execution_count": 15,
   "metadata": {},
   "outputs": [],
   "source": [
    "x,y,z = 12,23,24"
   ]
  },
  {
   "cell_type": "code",
   "execution_count": 6,
   "metadata": {},
   "outputs": [],
   "source": [
    "# Empyt all the four list\n",
    "brent, camden, redbridge, southwark = None, None, None, None"
   ]
  },
  {
   "cell_type": "code",
   "execution_count": null,
   "metadata": {},
   "outputs": [],
   "source": []
  },
  {
   "cell_type": "code",
   "execution_count": 17,
   "metadata": {},
   "outputs": [
    {
     "data": {
      "text/plain": [
       "NoneType"
      ]
     },
     "execution_count": 17,
     "metadata": {},
     "output_type": "execute_result"
    }
   ],
   "source": [
    "type(brent)"
   ]
  },
  {
   "cell_type": "code",
   "execution_count": 18,
   "metadata": {},
   "outputs": [],
   "source": [
    "brent"
   ]
  },
  {
   "cell_type": "code",
   "execution_count": 19,
   "metadata": {},
   "outputs": [
    {
     "data": {
      "text/plain": [
       "list"
      ]
     },
     "execution_count": 19,
     "metadata": {},
     "output_type": "execute_result"
    }
   ],
   "source": [
    "mm = []\n",
    "mm\n",
    "type(mm)"
   ]
  },
  {
   "cell_type": "code",
   "execution_count": 20,
   "metadata": {},
   "outputs": [
    {
     "data": {
      "text/plain": [
       "{'Brent': ['Brent Park',\n",
       "  'Church End',\n",
       "  'Dollis Hill',\n",
       "  'Harlesden',\n",
       "  'Kensal Green',\n",
       "  'Kingsbury',\n",
       "  'Neasden',\n",
       "  'Preston',\n",
       "  \"Queen's Park\",\n",
       "  'Tokyngton',\n",
       "  'Wembley',\n",
       "  'Wembley Park',\n",
       "  'Willesden',\n",
       "  'Park Royal',\n",
       "  'Kenton',\n",
       "  'Kilburn',\n",
       "  'Sudbury',\n",
       "  'Brondesbury',\n",
       "  'Alperton'],\n",
       " 'Camden': ['Kentish Town',\n",
       "  \"King's Cross\",\n",
       "  'Highgate',\n",
       "  'Somerstown',\n",
       "  'Bloomsbury',\n",
       "  'Holborn',\n",
       "  'Camden Town',\n",
       "  'St Pancras',\n",
       "  'Hampstead',\n",
       "  'Chalk Farm',\n",
       "  'Gospel Oak',\n",
       "  'Swiss Cottage',\n",
       "  'West Hampstead',\n",
       "  'Primrose Hill',\n",
       "  'Dartmouth Park',\n",
       "  'Belsize Park',\n",
       "  'St Giles',\n",
       "  'Frognal',\n",
       "  'Fitzrovia'],\n",
       " 'Redbridge': ['Redbridge',\n",
       "  'Snaresbrook',\n",
       "  'Goodmayes',\n",
       "  'Ilford',\n",
       "  'Hainault',\n",
       "  'Loxford',\n",
       "  'Newbury Park',\n",
       "  'Woodford Green',\n",
       "  'Barkingside',\n",
       "  'Aldborough Hatch',\n",
       "  'Seven Kings',\n",
       "  'Gants Hill',\n",
       "  'Woodford',\n",
       "  'Chadwell Heath',\n",
       "  'South Woodford',\n",
       "  'Wanstead'],\n",
       " 'Southwark': ['Denmark Hill',\n",
       "  'East Dulwich',\n",
       "  'Surrey Quays',\n",
       "  'Dulwich',\n",
       "  'Walworth',\n",
       "  'Nunhead',\n",
       "  'Bankside',\n",
       "  'Camberwell',\n",
       "  'Newington',\n",
       "  'Bermondsey',\n",
       "  'Rotherhithe',\n",
       "  'Elephant and Castle',\n",
       "  'Peckham']}"
      ]
     },
     "execution_count": 20,
     "metadata": {},
     "output_type": "execute_result"
    }
   ],
   "source": [
    "location_dict"
   ]
  },
  {
   "cell_type": "markdown",
   "metadata": {},
   "source": [
    "### All locations divided into 2 categories :\n",
    "1. INNER_LOCATIONS(camden+southwark)  \n",
    "2. OUTER_LOCATIONS(brent +redbridge)"
   ]
  },
  {
   "cell_type": "code",
   "execution_count": 14,
   "metadata": {},
   "outputs": [],
   "source": [
    "# adding \"Inner_locations to location_dict\"\n",
    "location_dict['inner_locations'] = location_dict['Camden'] +location_dict['Southwark']\n"
   ]
  },
  {
   "cell_type": "code",
   "execution_count": 15,
   "metadata": {},
   "outputs": [
    {
     "data": {
      "text/plain": [
       "dict_keys(['Brent', 'Camden', 'Redbridge', 'Southwark', 'inner_locations', 'outer_locations'])"
      ]
     },
     "execution_count": 15,
     "metadata": {},
     "output_type": "execute_result"
    }
   ],
   "source": [
    "location_dict.keys()"
   ]
  },
  {
   "cell_type": "code",
   "execution_count": 16,
   "metadata": {},
   "outputs": [
    {
     "data": {
      "text/plain": [
       "37"
      ]
     },
     "execution_count": 16,
     "metadata": {},
     "output_type": "execute_result"
    }
   ],
   "source": [
    "len(location_dict['inner_locations'])"
   ]
  },
  {
   "cell_type": "code",
   "execution_count": 17,
   "metadata": {},
   "outputs": [],
   "source": [
    "# adding \"Outer_locations to location_dict\"\n",
    "location_dict['outer_locations'] = location_dict['Brent'] +location_dict['Redbridge']"
   ]
  },
  {
   "cell_type": "code",
   "execution_count": 18,
   "metadata": {},
   "outputs": [
    {
     "data": {
      "text/plain": [
       "dict_keys(['Brent', 'Camden', 'Redbridge', 'Southwark', 'inner_locations', 'outer_locations'])"
      ]
     },
     "execution_count": 18,
     "metadata": {},
     "output_type": "execute_result"
    }
   ],
   "source": [
    "location_dict.keys()"
   ]
  },
  {
   "cell_type": "code",
   "execution_count": 19,
   "metadata": {},
   "outputs": [
    {
     "data": {
      "text/plain": [
       "37"
      ]
     },
     "execution_count": 19,
     "metadata": {},
     "output_type": "execute_result"
    }
   ],
   "source": [
    "len(location_dict['outer_locations'])"
   ]
  },
  {
   "cell_type": "code",
   "execution_count": 90,
   "metadata": {},
   "outputs": [
    {
     "name": "stdout",
     "output_type": "stream",
     "text": [
      "start your trip from Outer London\n"
     ]
    }
   ],
   "source": [
    "# to make a decission\n",
    "\n",
    "in_len=len(location_dict['inner_locations'])\n",
    "out_len=len(location_dict['outer_locations'])\n",
    "if in_len>out_len:\n",
    "    print(\"start your trip from Inner London\")\n",
    "elif out_len>in_len:\n",
    "    print(\"start your trip from Outer London\")\n",
    "else:\n",
    "    print(\"Pick one in random\")"
   ]
  },
  {
   "cell_type": "code",
   "execution_count": 91,
   "metadata": {},
   "outputs": [
    {
     "name": "stdout",
     "output_type": "stream",
     "text": [
      "Brent has 19 Locations\n",
      "Camden has 19 Locations\n",
      "Redbridge has 16 Locations\n",
      "Southwark has 13 Locations\n",
      "inner_locations has 32 Locations\n",
      "outer_locations has 35 Locations\n"
     ]
    }
   ],
   "source": [
    "# for each location how many locations are there?\n",
    "\n",
    "for key, value in location_dict.items():\n",
    "    print(\"{} has {} Locations\".format(key, len(value)))"
   ]
  },
  {
   "cell_type": "code",
   "execution_count": 4,
   "metadata": {},
   "outputs": [
    {
     "name": "stdout",
     "output_type": "stream",
     "text": [
      "2 * 9 = 18\n",
      "2 * 8 = 16\n",
      "2 * 7 = 14\n",
      "2 * 6 = 12\n",
      "2 * 5 = 10\n",
      "3 * 9 = 27\n",
      "3 * 8 = 24\n",
      "3 * 7 = 21\n",
      "3 * 6 = 18\n",
      "3 * 5 = 15\n",
      "4 * 9 = 36\n",
      "4 * 8 = 32\n",
      "4 * 7 = 28\n",
      "4 * 6 = 24\n",
      "4 * 5 = 20\n",
      "5 * 9 = 45\n",
      "5 * 8 = 40\n",
      "5 * 7 = 35\n",
      "5 * 6 = 30\n",
      "5 * 5 = 25\n",
      "6 * 9 = 54\n",
      "6 * 8 = 48\n",
      "6 * 7 = 42\n",
      "6 * 6 = 36\n",
      "6 * 5 = 30\n"
     ]
    }
   ],
   "source": [
    "# For loop \n",
    "a = [2,3,4,5,6]\n",
    "b = [9,8,7,6,5]\n",
    "\n",
    "for one in a:\n",
    "    for two in b:\n",
    "        print(one,'*', two,\"=\", one *two)\n",
    "#2 * 3 = 6\n",
    "#3 * 4 = 8"
   ]
  },
  {
   "cell_type": "code",
   "execution_count": 5,
   "metadata": {},
   "outputs": [
    {
     "data": {
      "text/plain": [
       "['Denmark Hill',\n",
       " 'Dulwich',\n",
       " 'Surrey Quays',\n",
       " 'East Dulwich',\n",
       " 'Elephant and Castle',\n",
       " 'Newington',\n",
       " 'Nunhead',\n",
       " 'Peckham',\n",
       " 'Rotherhithe',\n",
       " 'Surrey Quays',\n",
       " 'Nunhead',\n",
       " 'Walworth',\n",
       " 'Bermondsey',\n",
       " 'Camberwell',\n",
       " 'Bankside']"
      ]
     },
     "execution_count": 5,
     "metadata": {},
     "output_type": "execute_result"
    }
   ],
   "source": [
    "southwark"
   ]
  },
  {
   "cell_type": "code",
   "execution_count": 30,
   "metadata": {},
   "outputs": [
    {
     "ename": "TypeError",
     "evalue": "object of type 'NoneType' has no len()",
     "output_type": "error",
     "traceback": [
      "\u001b[1;31m---------------------------------------------------------------------------\u001b[0m",
      "\u001b[1;31mTypeError\u001b[0m                                 Traceback (most recent call last)",
      "\u001b[1;32m<ipython-input-30-fc7c2bee4e00>\u001b[0m in \u001b[0;36m<module>\u001b[1;34m\u001b[0m\n\u001b[1;32m----> 1\u001b[1;33m \u001b[0mlen\u001b[0m\u001b[1;33m(\u001b[0m\u001b[0msouthwark\u001b[0m\u001b[1;33m)\u001b[0m\u001b[1;33m\u001b[0m\u001b[1;33m\u001b[0m\u001b[0m\n\u001b[0m",
      "\u001b[1;31mTypeError\u001b[0m: object of type 'NoneType' has no len()"
     ]
    }
   ],
   "source": [
    "len(southwark)"
   ]
  },
  {
   "cell_type": "code",
   "execution_count": 33,
   "metadata": {},
   "outputs": [
    {
     "data": {
      "text/plain": [
       "13"
      ]
     },
     "execution_count": 33,
     "metadata": {},
     "output_type": "execute_result"
    }
   ],
   "source": [
    "len(location_dict['Southwark'])"
   ]
  },
  {
   "cell_type": "markdown",
   "metadata": {},
   "source": [
    "Note : \n",
    "    \n",
    "    Name has : Farm, Park, Hill, or Green  -> pleasent sound\n",
    "               \n",
    "               Royal, Queen, or King  -> Grand sounded"
   ]
  },
  {
   "cell_type": "code",
   "execution_count": null,
   "metadata": {},
   "outputs": [],
   "source": [
    "# Seperating locations into pleasent and Grand soundeings\n",
    "\n",
    "pleasent_sounded = ['Farm', 'Park', 'Hill','Green']\n",
    "\n",
    "grand_sounded    = ['Royal', 'Queen', 'King']"
   ]
  },
  {
   "cell_type": "code",
   "execution_count": 35,
   "metadata": {},
   "outputs": [
    {
     "data": {
      "text/plain": [
       "dict_keys(['Brent', 'Camden', 'Redbridge', 'Southwark', 'inner_locations', 'outer_locations'])"
      ]
     },
     "execution_count": 35,
     "metadata": {},
     "output_type": "execute_result"
    }
   ],
   "source": [
    "location_dict.keys()"
   ]
  },
  {
   "cell_type": "code",
   "execution_count": 92,
   "metadata": {},
   "outputs": [
    {
     "name": "stdout",
     "output_type": "stream",
     "text": [
      "King's Cross -> grand_souded\n",
      "Chalk Farm -> pleasent_souded\n",
      "Primrose Hill -> pleasent_souded\n",
      "Dartmouth Park -> pleasent_souded\n",
      "Belsize Park -> pleasent_souded\n"
     ]
    }
   ],
   "source": [
    "# to know soundings in location_dict['camden']\n",
    "pleasent_sounded = ['Farm', 'Park', 'Hill','Green']\n",
    "\n",
    "grand_sounded    = ['Royal', 'Queen', 'King']\n",
    "\n",
    "\n",
    "for na in location_dict['Camden']:\n",
    "    if any(word in na for word in pleasent_sounded):\n",
    "        print(na , '->', 'pleasent_souded')\n",
    "    \n",
    "    elif any(word in na for word in grand_sounded):\n",
    "        print(na , '->', 'grand_souded')"
   ]
  },
  {
   "cell_type": "code",
   "execution_count": 93,
   "metadata": {},
   "outputs": [
    {
     "name": "stdout",
     "output_type": "stream",
     "text": [
      "King's Cross -> grand_souded\n",
      "Chalk Farm -> pleasent_souded\n",
      "Primrose Hill -> pleasent_souded\n",
      "Dartmouth Park -> pleasent_souded\n",
      "Belsize Park -> pleasent_souded\n",
      "Denmark Hill -> pleasent_souded\n"
     ]
    }
   ],
   "source": [
    "# to know soundings in location_dict['inner_locations'] {camden +southwark}\n",
    "pleasent_sounded = ['Farm', 'Park', 'Hill','Green']\n",
    "\n",
    "grand_sounded    = ['Royal', 'Queen', 'King']\n",
    "\n",
    "\n",
    "for na in location_dict['inner_locations']:\n",
    "    if any(word in na for word in pleasent_sounded):\n",
    "        print(na , '->', 'pleasent_souded')\n",
    "    \n",
    "    elif any(word in na for word in grand_sounded):\n",
    "        print(na , '->', 'grand_souded')"
   ]
  },
  {
   "cell_type": "code",
   "execution_count": null,
   "metadata": {},
   "outputs": [],
   "source": []
  },
  {
   "cell_type": "code",
   "execution_count": 22,
   "metadata": {},
   "outputs": [],
   "source": [
    "pleasent_sounded = ['Farm', 'Park', 'Hill','Green']\n",
    "\n",
    "grand_sounded    = ['Royal', 'Queen', 'King']"
   ]
  },
  {
   "cell_type": "code",
   "execution_count": null,
   "metadata": {},
   "outputs": [],
   "source": []
  },
  {
   "cell_type": "code",
   "execution_count": null,
   "metadata": {},
   "outputs": [],
   "source": []
  },
  {
   "cell_type": "code",
   "execution_count": 43,
   "metadata": {},
   "outputs": [
    {
     "name": "stdout",
     "output_type": "stream",
     "text": [
      "Brent Park -> pleasent sounded\n",
      "Dollis Hill -> pleasent sounded\n",
      "Kensal Green -> pleasent sounded\n",
      "Kingsbury -> grand sounded\n",
      "Queen's Park -> pleasent sounded\n",
      "Wembley Park -> pleasent sounded\n",
      "Park Royal -> pleasent sounded\n",
      "Newbury Park -> pleasent sounded\n",
      "Woodford Green -> pleasent sounded\n",
      "Seven Kings -> grand sounded\n",
      "Gants Hill -> pleasent sounded\n"
     ]
    }
   ],
   "source": [
    "# how many pleasent sounded and grand sounded in outer_locations:\n",
    "\n",
    "pleasent_sounded = ['Farm', 'Park', 'Hill','Green']\n",
    "\n",
    "grand_sounded    = ['Royal', 'Queen', 'King']\n",
    "\n",
    "for na in location_dict['outer_locations']:\n",
    "    \n",
    "    if any (word in na for word in pleasent_sounded):\n",
    "        \n",
    "        print (na , '->', 'pleasent sounded')\n",
    "        \n",
    "    elif any (word in na for word in grand_sounded):\n",
    "        print (na , '->', 'grand sounded')\n",
    "        "
   ]
  },
  {
   "cell_type": "code",
   "execution_count": null,
   "metadata": {},
   "outputs": [],
   "source": [
    "# Need to create the pleasent_sounded locations list -> outer_locations\n"
   ]
  },
  {
   "cell_type": "code",
   "execution_count": null,
   "metadata": {},
   "outputs": [],
   "source": []
  },
  {
   "cell_type": "code",
   "execution_count": 45,
   "metadata": {},
   "outputs": [
    {
     "data": {
      "text/plain": [
       "[0, 1, 4, 9, 16, 25, 36, 49, 64, 81]"
      ]
     },
     "execution_count": 45,
     "metadata": {},
     "output_type": "execute_result"
    }
   ],
   "source": [
    "# list comprehensions  {for}\n",
    "\n",
    "squr = [number ** 2 for number in range(10)]\n",
    "squr"
   ]
  },
  {
   "cell_type": "code",
   "execution_count": 46,
   "metadata": {},
   "outputs": [],
   "source": [
    "# treditional loop to create square of numbers \n",
    "\n",
    "square_numbers = []\n",
    "\n",
    "for num in range(10):\n",
    "    num = num **2\n",
    "    square_numbers.append(num)\n",
    "    "
   ]
  },
  {
   "cell_type": "code",
   "execution_count": 47,
   "metadata": {},
   "outputs": [
    {
     "data": {
      "text/plain": [
       "[0, 1, 4, 9, 16, 25, 36, 49, 64, 81]"
      ]
     },
     "execution_count": 47,
     "metadata": {},
     "output_type": "execute_result"
    }
   ],
   "source": [
    "square_numbers"
   ]
  },
  {
   "cell_type": "code",
   "execution_count": 49,
   "metadata": {},
   "outputs": [
    {
     "data": {
      "text/plain": [
       "[0, 2, 4, 6, 8]"
      ]
     },
     "execution_count": 49,
     "metadata": {},
     "output_type": "execute_result"
    }
   ],
   "source": [
    "# list comprehensions with conditions\n",
    "\n",
    "even_list = []\n",
    "\n",
    "for num in range(10):\n",
    "    if num%2==0:\n",
    "        \n",
    "        even_list.append(num)\n",
    "    \n",
    "even_list"
   ]
  },
  {
   "cell_type": "code",
   "execution_count": 51,
   "metadata": {},
   "outputs": [
    {
     "data": {
      "text/plain": [
       "[0, 2, 4, 6, 8]"
      ]
     },
     "execution_count": 51,
     "metadata": {},
     "output_type": "execute_result"
    }
   ],
   "source": [
    "# list comprehension {for - if }\n",
    "ev_list = [num for num in range(10) if num %2==0]\n",
    "\n",
    "ev_list"
   ]
  },
  {
   "cell_type": "code",
   "execution_count": null,
   "metadata": {},
   "outputs": [],
   "source": []
  },
  {
   "cell_type": "code",
   "execution_count": null,
   "metadata": {},
   "outputs": [],
   "source": [
    "# list comprehension {for - if-else }"
   ]
  },
  {
   "cell_type": "code",
   "execution_count": 2,
   "metadata": {},
   "outputs": [
    {
     "ename": "SyntaxError",
     "evalue": "unexpected EOF while parsing (<ipython-input-2-6734b516f8ab>, line 3)",
     "output_type": "error",
     "traceback": [
      "\u001b[1;36m  File \u001b[1;32m\"<ipython-input-2-6734b516f8ab>\"\u001b[1;36m, line \u001b[1;32m3\u001b[0m\n\u001b[1;33m    \u001b[0m\n\u001b[1;37m    ^\u001b[0m\n\u001b[1;31mSyntaxError\u001b[0m\u001b[1;31m:\u001b[0m unexpected EOF while parsing\n"
     ]
    }
   ],
   "source": [
    "for num in range(10):\n",
    "    if num % 2==0:\n",
    "        print('Even')\n",
    "    else:\n",
    "        print('Odd')"
   ]
  },
  {
   "cell_type": "code",
   "execution_count": 54,
   "metadata": {},
   "outputs": [],
   "source": [
    "Eve_Odd_list = ['Even' if number % 2==0 else 'Odd' for number in range(10)]"
   ]
  },
  {
   "cell_type": "code",
   "execution_count": 55,
   "metadata": {},
   "outputs": [
    {
     "data": {
      "text/plain": [
       "['Even', 'Odd', 'Even', 'Odd', 'Even', 'Odd', 'Even', 'Odd', 'Even', 'Odd']"
      ]
     },
     "execution_count": 55,
     "metadata": {},
     "output_type": "execute_result"
    }
   ],
   "source": [
    "Eve_Odd_list"
   ]
  },
  {
   "cell_type": "code",
   "execution_count": 56,
   "metadata": {},
   "outputs": [],
   "source": [
    "Eve_Odd_list = {'Even' if number % 2==0 else 'Odd' for number in range(10)}"
   ]
  },
  {
   "cell_type": "code",
   "execution_count": 57,
   "metadata": {},
   "outputs": [
    {
     "data": {
      "text/plain": [
       "{'Even', 'Odd'}"
      ]
     },
     "execution_count": 57,
     "metadata": {},
     "output_type": "execute_result"
    }
   ],
   "source": [
    "Eve_Odd_list "
   ]
  },
  {
   "cell_type": "code",
   "execution_count": 60,
   "metadata": {},
   "outputs": [
    {
     "name": "stdout",
     "output_type": "stream",
     "text": [
      "[0, 2, 4, 6, 8, 10, 12, 14, 16, 18]\n"
     ]
    }
   ],
   "source": [
    "# dubling the number in range of 10 \n",
    "\n",
    "#Doubling\n",
    "doub = [number * 2 for number in range(10)]\n",
    "print (doub)"
   ]
  },
  {
   "cell_type": "code",
   "execution_count": 61,
   "metadata": {},
   "outputs": [
    {
     "name": "stdout",
     "output_type": "stream",
     "text": [
      "[0, 1, 4, 9, 16, 25, 36, 49, 64, 81]\n"
     ]
    }
   ],
   "source": [
    "#Doubling\n",
    "doub = [number * number for number in range(10)]\n",
    "print (doub)"
   ]
  },
  {
   "cell_type": "code",
   "execution_count": 64,
   "metadata": {},
   "outputs": [
    {
     "name": "stdout",
     "output_type": "stream",
     "text": [
      "[0, 2, 4, 6, 8, 10, 12, 14, 16, 18]\n"
     ]
    }
   ],
   "source": [
    "#Doubling\n",
    "doub = [number + number for number in range(10)]\n",
    "print (doub)"
   ]
  },
  {
   "cell_type": "code",
   "execution_count": null,
   "metadata": {},
   "outputs": [],
   "source": [
    "# camden\n",
    "# pleasent_sounded {6}\n",
    "# grand_sounded    {6}\n",
    "\n",
    "# brent\n",
    "# pleasent_sounded {6}\n",
    "# grand_sounded    {6}\n",
    "\n",
    "# redbridge\n",
    "# pleasent_sounded {6}\n",
    "# grand_sounded    {6}\n",
    "\n",
    "# southwark\n",
    "# pleasent_sounded {6}\n",
    "# grand_sounded    {6}\n",
    "\n"
   ]
  },
  {
   "cell_type": "code",
   "execution_count": 65,
   "metadata": {},
   "outputs": [
    {
     "ename": "NameError",
     "evalue": "name 'Dict1' is not defined",
     "output_type": "error",
     "traceback": [
      "\u001b[1;31m---------------------------------------------------------------------------\u001b[0m",
      "\u001b[1;31mNameError\u001b[0m                                 Traceback (most recent call last)",
      "\u001b[1;32m<ipython-input-65-f002c0594db6>\u001b[0m in \u001b[0;36m<module>\u001b[1;34m\u001b[0m\n\u001b[1;32m----> 1\u001b[1;33m \u001b[1;32mfor\u001b[0m \u001b[0mna\u001b[0m \u001b[1;32min\u001b[0m \u001b[0mDict1\u001b[0m\u001b[1;33m[\u001b[0m\u001b[1;34m'brent'\u001b[0m\u001b[1;33m]\u001b[0m\u001b[1;33m:\u001b[0m\u001b[1;33m\u001b[0m\u001b[1;33m\u001b[0m\u001b[0m\n\u001b[0m\u001b[0;32m      2\u001b[0m     \u001b[1;32mif\u001b[0m \u001b[0many\u001b[0m\u001b[1;33m(\u001b[0m\u001b[0mword\u001b[0m \u001b[1;32min\u001b[0m \u001b[0mna\u001b[0m \u001b[1;32mfor\u001b[0m \u001b[0mword\u001b[0m \u001b[1;32min\u001b[0m \u001b[0mpleasent_sounded\u001b[0m\u001b[1;33m)\u001b[0m\u001b[1;33m:\u001b[0m\u001b[1;33m\u001b[0m\u001b[1;33m\u001b[0m\u001b[0m\n\u001b[0;32m      3\u001b[0m         \u001b[0mbrent_plea\u001b[0m\u001b[1;33m.\u001b[0m\u001b[0mappend\u001b[0m\u001b[1;33m(\u001b[0m\u001b[0mna\u001b[0m\u001b[1;33m)\u001b[0m\u001b[1;33m\u001b[0m\u001b[1;33m\u001b[0m\u001b[0m\n",
      "\u001b[1;31mNameError\u001b[0m: name 'Dict1' is not defined"
     ]
    }
   ],
   "source": [
    "for na in Dict1['brent']:\n",
    "    if any(word in na for word in pleasent_sounded):  \n",
    "        brent_plea.append(na)"
   ]
  },
  {
   "cell_type": "code",
   "execution_count": 102,
   "metadata": {},
   "outputs": [
    {
     "ename": "KeyError",
     "evalue": "'sw'",
     "output_type": "error",
     "traceback": [
      "\u001b[1;31m---------------------------------------------------------------------------\u001b[0m",
      "\u001b[1;31mKeyError\u001b[0m                                  Traceback (most recent call last)",
      "\u001b[1;32m<ipython-input-102-2680a1b1b7ea>\u001b[0m in \u001b[0;36m<module>\u001b[1;34m\u001b[0m\n\u001b[0;32m      1\u001b[0m \u001b[1;31m#List Comprehension for Pleasent Location for all locations\u001b[0m\u001b[1;33m\u001b[0m\u001b[1;33m\u001b[0m\u001b[1;33m\u001b[0m\u001b[0m\n\u001b[1;32m----> 2\u001b[1;33m \u001b[0mpl_tmp_list\u001b[0m \u001b[1;33m=\u001b[0m \u001b[1;33m{\u001b[0m\u001b[0mna\u001b[0m \u001b[1;32mfor\u001b[0m \u001b[0mna\u001b[0m \u001b[1;32min\u001b[0m \u001b[0mlocation_dict\u001b[0m\u001b[1;33m[\u001b[0m\u001b[0mkey\u001b[0m\u001b[1;33m]\u001b[0m \u001b[1;32mfor\u001b[0m \u001b[0mkey\u001b[0m \u001b[1;32min\u001b[0m \u001b[0mlocation_dict\u001b[0m\u001b[1;33m.\u001b[0m\u001b[0mkeys\u001b[0m\u001b[1;33m(\u001b[0m\u001b[1;33m)\u001b[0m \u001b[1;32mif\u001b[0m \u001b[0many\u001b[0m \u001b[1;33m(\u001b[0m\u001b[0mword\u001b[0m \u001b[1;32min\u001b[0m \u001b[0mna\u001b[0m \u001b[1;32mfor\u001b[0m \u001b[0mword\u001b[0m \u001b[1;32min\u001b[0m \u001b[0mpleasent_sounded\u001b[0m\u001b[1;33m)\u001b[0m\u001b[1;33m}\u001b[0m\u001b[1;33m\u001b[0m\u001b[1;33m\u001b[0m\u001b[0m\n\u001b[0m\u001b[0;32m      3\u001b[0m \u001b[0mprint\u001b[0m \u001b[1;33m(\u001b[0m\u001b[1;34m'Pleasent List = '\u001b[0m \u001b[1;33m,\u001b[0m \u001b[0mpl_tmp_list\u001b[0m\u001b[1;33m)\u001b[0m\u001b[1;33m\u001b[0m\u001b[1;33m\u001b[0m\u001b[0m\n",
      "\u001b[1;31mKeyError\u001b[0m: 'sw'"
     ]
    }
   ],
   "source": [
    "#List Comprehension for Pleasent Location for all locations \n",
    "pl_tmp_list = {na for na in location_dict[key] for key in location_dict.keys() if any (word in na for word in pleasent_sounded)}\n",
    "print ('Pleasent List = ' , pl_tmp_list)\n"
   ]
  },
  {
   "cell_type": "code",
   "execution_count": 23,
   "metadata": {},
   "outputs": [],
   "source": [
    "# number of pleasent locationsw in outer london\n",
    "\n",
    "pleasent_locations_out = [name for name in location_dict['outer_locations'] \n",
    "                      if any(word in name for word in pleasent_sounded)]"
   ]
  },
  {
   "cell_type": "code",
   "execution_count": 25,
   "metadata": {},
   "outputs": [
    {
     "data": {
      "text/plain": [
       "['Brent Park',\n",
       " 'Dollis Hill',\n",
       " 'Kensal Green',\n",
       " \"Queen's Park\",\n",
       " 'Wembley Park',\n",
       " 'Park Royal',\n",
       " 'Gants Hill',\n",
       " 'Newbury Park',\n",
       " 'Woodford Green']"
      ]
     },
     "execution_count": 25,
     "metadata": {},
     "output_type": "execute_result"
    }
   ],
   "source": [
    "pleasent_locations_out"
   ]
  },
  {
   "cell_type": "code",
   "execution_count": 108,
   "metadata": {},
   "outputs": [
    {
     "data": {
      "text/plain": [
       "9"
      ]
     },
     "execution_count": 108,
     "metadata": {},
     "output_type": "execute_result"
    }
   ],
   "source": [
    "len(pleasent_locations)"
   ]
  },
  {
   "cell_type": "code",
   "execution_count": 26,
   "metadata": {},
   "outputs": [],
   "source": [
    "pleasent_locations_in = [name for name in location_dict['inner_locations'] \n",
    "                      if any(word in name for word in pleasent_sounded)]"
   ]
  },
  {
   "cell_type": "code",
   "execution_count": 27,
   "metadata": {},
   "outputs": [
    {
     "data": {
      "text/plain": [
       "['Chalk Farm',\n",
       " 'Dartmouth Park',\n",
       " 'Primrose Hill',\n",
       " 'Belsize Park',\n",
       " 'Denmark Hill']"
      ]
     },
     "execution_count": 27,
     "metadata": {},
     "output_type": "execute_result"
    }
   ],
   "source": [
    "pleasent_locations_in"
   ]
  },
  {
   "cell_type": "code",
   "execution_count": 120,
   "metadata": {},
   "outputs": [],
   "source": [
    "pleasent_locations_cm = [name for name in location_dict['Camden'] \n",
    "                      if any(word in name for word in pleasent_sounded)]"
   ]
  },
  {
   "cell_type": "code",
   "execution_count": 121,
   "metadata": {},
   "outputs": [
    {
     "data": {
      "text/plain": [
       "['Chalk Farm', 'Primrose Hill', 'Dartmouth Park', 'Belsize Park']"
      ]
     },
     "execution_count": 121,
     "metadata": {},
     "output_type": "execute_result"
    }
   ],
   "source": [
    "pleasent_locations_cm"
   ]
  },
  {
   "cell_type": "code",
   "execution_count": 123,
   "metadata": {},
   "outputs": [],
   "source": [
    "pleasent_locations_sw = [name for name in location_dict['Southwark'] \n",
    "                      if any(word in name for word in pleasent_sounded)]"
   ]
  },
  {
   "cell_type": "code",
   "execution_count": 124,
   "metadata": {},
   "outputs": [
    {
     "data": {
      "text/plain": [
       "['Denmark Hill']"
      ]
     },
     "execution_count": 124,
     "metadata": {},
     "output_type": "execute_result"
    }
   ],
   "source": [
    "pleasent_locations_sw"
   ]
  },
  {
   "cell_type": "code",
   "execution_count": null,
   "metadata": {},
   "outputs": [],
   "source": []
  },
  {
   "cell_type": "code",
   "execution_count": null,
   "metadata": {},
   "outputs": [],
   "source": [
    "1. # try to write a program which will print number of pleasent and grand sounded things \n",
    "\n",
    "1. Camden\n",
    "\n",
    "    pleasent souded (count) = []\n",
    "    royal_sounded (count)   = []\n",
    "    remining_locations ()   = []\n",
    "    \n",
    "2. brent\n",
    "\n",
    "    pleasent souded (count) = []\n",
    "    royal_sounded (count)   = []\n",
    "    remining_locations (count)   = []\n",
    "    \n",
    "    \n",
    "3. redbridge\n",
    "\n",
    "    pleasent souded (count) = []\n",
    "    royal_sounded (count)   = []\n",
    "    remining_locations (count)   = []\n",
    "    \n",
    "4. Southwark\n",
    "\n",
    "    pleasent souded (count) = []\n",
    "    royal_sounded (count)   = []\n",
    "    remining_locations (count)   = []\n",
    "    \n"
   ]
  },
  {
   "cell_type": "code",
   "execution_count": 127,
   "metadata": {},
   "outputs": [
    {
     "data": {
      "text/plain": [
       "['Brent Park',\n",
       " 'Church End',\n",
       " 'Dollis Hill',\n",
       " 'Harlesden',\n",
       " 'Kensal Green',\n",
       " 'Kingsbury',\n",
       " 'Neasden',\n",
       " 'Preston',\n",
       " \"Queen's Park\",\n",
       " 'Tokyngton',\n",
       " 'Wembley',\n",
       " 'Wembley Park',\n",
       " 'Willesden',\n",
       " 'Park Royal',\n",
       " 'Kenton',\n",
       " 'Kilburn',\n",
       " 'Sudbury',\n",
       " 'Brondesbury',\n",
       " 'Alperton']"
      ]
     },
     "execution_count": 127,
     "metadata": {},
     "output_type": "execute_result"
    }
   ],
   "source": [
    "brent"
   ]
  },
  {
   "cell_type": "code",
   "execution_count": 126,
   "metadata": {},
   "outputs": [
    {
     "data": {
      "text/plain": [
       "['Brent Park',\n",
       " 'Church End',\n",
       " 'Dollis Hill',\n",
       " 'Harlesden',\n",
       " 'Kensal Green',\n",
       " 'Kingsbury',\n",
       " 'Neasden',\n",
       " 'Preston',\n",
       " \"Queen's Park\",\n",
       " 'Tokyngton',\n",
       " 'Wembley',\n",
       " 'Wembley Park',\n",
       " 'Willesden',\n",
       " 'Park Royal',\n",
       " 'Kenton',\n",
       " 'Kilburn',\n",
       " 'Sudbury',\n",
       " 'Brondesbury',\n",
       " 'Alperton']"
      ]
     },
     "execution_count": 126,
     "metadata": {},
     "output_type": "execute_result"
    }
   ],
   "source": [
    "# 2. you need to sort out all the locations in the in alphabetical order.\n",
    "\n"
   ]
  },
  {
   "cell_type": "code",
   "execution_count": null,
   "metadata": {},
   "outputs": [],
   "source": [
    "camden_pl_list = [na for na in loc_dict['camden'] if any (word in na for word in pleasent_sounded)]\n",
    "print (camden_pl_list)"
   ]
  },
  {
   "cell_type": "code",
   "execution_count": null,
   "metadata": {},
   "outputs": [],
   "source": [
    "#3.  Identify the locations with both pleasent and royal sounded\n",
    "\n",
    "      a. Such type of location where you are observe ?"
   ]
  },
  {
   "cell_type": "code",
   "execution_count": null,
   "metadata": {},
   "outputs": [],
   "source": []
  },
  {
   "cell_type": "code",
   "execution_count": null,
   "metadata": {},
   "outputs": [],
   "source": [
    "# Assignment :\n",
    "\n",
    "1. We have 6 keys in dictionary, i need all the 4 categories names and count i.e those are \n",
    "\n",
    "1. pleasent sounded\n",
    "2. Royal Sounded\n",
    "3. both Pleaswent & royal sounded\n",
    "4. remining locations names "
   ]
  },
  {
   "cell_type": "code",
   "execution_count": 28,
   "metadata": {},
   "outputs": [
    {
     "ename": "TypeError",
     "evalue": "'NoneType' object is not iterable",
     "output_type": "error",
     "traceback": [
      "\u001b[1;31m---------------------------------------------------------------------------\u001b[0m",
      "\u001b[1;31mTypeError\u001b[0m                                 Traceback (most recent call last)",
      "\u001b[1;32m<ipython-input-28-0b5167df4fa7>\u001b[0m in \u001b[0;36m<module>\u001b[1;34m\u001b[0m\n\u001b[1;32m----> 1\u001b[1;33m \u001b[0mbrent\u001b[0m \u001b[1;33m=\u001b[0m \u001b[0mlist\u001b[0m\u001b[1;33m(\u001b[0m\u001b[0mset\u001b[0m\u001b[1;33m(\u001b[0m\u001b[0mbrent\u001b[0m\u001b[1;33m)\u001b[0m\u001b[1;33m)\u001b[0m\u001b[1;33m\u001b[0m\u001b[1;33m\u001b[0m\u001b[0m\n\u001b[0m",
      "\u001b[1;31mTypeError\u001b[0m: 'NoneType' object is not iterable"
     ]
    }
   ],
   "source": []
  },
  {
   "cell_type": "code",
   "execution_count": 32,
   "metadata": {},
   "outputs": [
    {
     "ename": "TypeError",
     "evalue": "unsupported operand type(s) for +: 'NoneType' and 'NoneType'",
     "output_type": "error",
     "traceback": [
      "\u001b[1;31m---------------------------------------------------------------------------\u001b[0m",
      "\u001b[1;31mTypeError\u001b[0m                                 Traceback (most recent call last)",
      "\u001b[1;32m<ipython-input-32-4e0305106d0a>\u001b[0m in \u001b[0;36m<module>\u001b[1;34m\u001b[0m\n\u001b[0;32m      1\u001b[0m \u001b[1;31m# both please3nt and grand sounded\u001b[0m\u001b[1;33m\u001b[0m\u001b[1;33m\u001b[0m\u001b[1;33m\u001b[0m\u001b[0m\n\u001b[0;32m      2\u001b[0m \u001b[1;33m\u001b[0m\u001b[0m\n\u001b[1;32m----> 3\u001b[1;33m \u001b[0mTot_list\u001b[0m\u001b[1;33m=\u001b[0m\u001b[0mbrent\u001b[0m\u001b[1;33m+\u001b[0m\u001b[0mcamden\u001b[0m\u001b[1;33m+\u001b[0m\u001b[0mredbridge\u001b[0m\u001b[1;33m+\u001b[0m\u001b[0msouthwark\u001b[0m\u001b[1;33m\u001b[0m\u001b[1;33m\u001b[0m\u001b[0m\n\u001b[0m\u001b[0;32m      4\u001b[0m \u001b[0mpleasent_sounded\u001b[0m \u001b[1;33m=\u001b[0m \u001b[1;33m[\u001b[0m\u001b[1;34m'Farm'\u001b[0m\u001b[1;33m,\u001b[0m \u001b[1;34m'Park'\u001b[0m\u001b[1;33m,\u001b[0m \u001b[1;34m'Hill'\u001b[0m\u001b[1;33m,\u001b[0m\u001b[1;34m'Green'\u001b[0m\u001b[1;33m]\u001b[0m\u001b[1;33m\u001b[0m\u001b[1;33m\u001b[0m\u001b[0m\n\u001b[0;32m      5\u001b[0m \u001b[0mgrand_sounded\u001b[0m    \u001b[1;33m=\u001b[0m \u001b[1;33m[\u001b[0m\u001b[1;34m'Royal'\u001b[0m\u001b[1;33m,\u001b[0m \u001b[1;34m'Queen'\u001b[0m\u001b[1;33m,\u001b[0m \u001b[1;34m'King'\u001b[0m\u001b[1;33m]\u001b[0m\u001b[1;33m\u001b[0m\u001b[1;33m\u001b[0m\u001b[0m\n",
      "\u001b[1;31mTypeError\u001b[0m: unsupported operand type(s) for +: 'NoneType' and 'NoneType'"
     ]
    }
   ],
   "source": [
    "# both please3nt and grand sounded\n",
    "\n",
    "Tot_list=location_dicbrent+camden+redbridge+southwark\n",
    "pleasent_sounded = ['Farm', 'Park', 'Hill','Green']\n",
    "grand_sounded    = ['Royal', 'Queen', 'King']\n",
    "Tot_ple_list=[]\n",
    "Tot_grand_list=[]\n",
    "for na in Tot_list:\n",
    "    if any(word in na for word in pleasent_sounded):  \n",
    "        Tot_ple_list.append(na)\n",
    "    if any(word in na for word in grand_sounded):  \n",
    "        Tot_grand_list.append(na)\n",
    "common_list=(set(Tot_ple_list).intersection(set(Tot_grand_list)))\n",
    "for key in Dict1.keys():\n",
    "    for x in common_list:\n",
    "        if any(word in x for word in Dict1[key]):\n",
    "            print('For location:',key,'Word',x,'is present in both pleasant & grand sounded')"
   ]
  },
  {
   "cell_type": "code",
   "execution_count": null,
   "metadata": {},
   "outputs": [],
   "source": [
    "for key in loc_dict.keys():\n",
    "    pl_tmp_list = [na for na in loc_dict[key] if any (word in na for word in grand_sounded)]\n",
    "    print (key, 'Grand List = ' , pl_tmp_list)"
   ]
  },
  {
   "cell_type": "code",
   "execution_count": null,
   "metadata": {},
   "outputs": [],
   "source": []
  },
  {
   "cell_type": "code",
   "execution_count": null,
   "metadata": {},
   "outputs": [],
   "source": []
  },
  {
   "cell_type": "markdown",
   "metadata": {},
   "source": [
    "# Functions"
   ]
  },
  {
   "cell_type": "code",
   "execution_count": 1,
   "metadata": {},
   "outputs": [],
   "source": [
    "# loading all the data\n",
    "\n",
    "with open('D:\\Online classess_Material\\Trip Planing/brent.txt','r') as f:\n",
    "    brent = f.read().splitlines()\n",
    "\n",
    "with open('D:\\Online classess_Material\\Trip Planing/camden.txt','r') as f:\n",
    "    camden = f.read().splitlines()\n",
    "\n",
    "with open('D:\\Online classess_Material\\Trip Planing/redbridge.txt','r') as f:\n",
    "    redbridge = f.read().splitlines()\n",
    "\n",
    "with open('D:\\Online classess_Material\\Trip Planing/southwark.txt','r') as f:\n",
    "    southwark = f.read().splitlines()\n",
    "\n",
    "    \n",
    "    \n",
    "    \n",
    "# removing duplicates\n",
    "\n",
    "brent = list(set(brent))\n",
    "camden = list(set(camden))\n",
    "redbridge = list(set(redbridge))\n",
    "southwark = list(set(southwark))\n",
    "\n",
    "\n",
    "\n",
    "# Cratre a dictionary with all the four modules locatios\n",
    "\n",
    "location_dict = {'Brent': brent, 'Camden': camden, 'Redbridge': redbridge, 'Southwark':southwark}\n",
    "\n",
    "\n",
    "# Adding \"Inner_locations to location_dict\"\n",
    "location_dict['inner_locations'] = location_dict['Camden'] +location_dict['Southwark']\n",
    "\n",
    "\n",
    "# Adding \"Outer_locations to location_dict\"\n",
    "location_dict['outer_locations'] = location_dict['Brent'] +location_dict['Redbridge']\n",
    "\n",
    "\n",
    "\n",
    "\n"
   ]
  },
  {
   "cell_type": "code",
   "execution_count": 2,
   "metadata": {},
   "outputs": [],
   "source": [
    "# locations names based on their sounding \n",
    "pleasent_sounded = ['Farm', 'Park', 'Hill','Green']\n",
    "\n",
    "grand_sounded    = ['Royal', 'Queen', 'King']"
   ]
  },
  {
   "cell_type": "code",
   "execution_count": 3,
   "metadata": {},
   "outputs": [],
   "source": [
    "# desining or / writing function\n",
    "\n",
    "def wish(message = 'Hello, World'):\n",
    "    text = message + \"!\"\n",
    "    return text\n",
    "\n"
   ]
  },
  {
   "cell_type": "code",
   "execution_count": 4,
   "metadata": {},
   "outputs": [
    {
     "data": {
      "text/plain": [
       "'Hello, World!'"
      ]
     },
     "execution_count": 4,
     "metadata": {},
     "output_type": "execute_result"
    }
   ],
   "source": [
    "wish()"
   ]
  },
  {
   "cell_type": "code",
   "execution_count": 5,
   "metadata": {},
   "outputs": [
    {
     "data": {
      "text/plain": [
       "'Welcome to world of Data sceince!'"
      ]
     },
     "execution_count": 5,
     "metadata": {},
     "output_type": "execute_result"
    }
   ],
   "source": [
    "wish(\"Welcome to world of Data sceince\")"
   ]
  },
  {
   "cell_type": "code",
   "execution_count": 6,
   "metadata": {},
   "outputs": [],
   "source": [
    "# multiplication function\n",
    "\n",
    "def multiplication(a = 3, b= 5):\n",
    "    result = a * b\n",
    "    return result"
   ]
  },
  {
   "cell_type": "code",
   "execution_count": 7,
   "metadata": {},
   "outputs": [
    {
     "data": {
      "text/plain": [
       "2000"
      ]
     },
     "execution_count": 7,
     "metadata": {},
     "output_type": "execute_result"
    }
   ],
   "source": [
    "multiplication(40,50)"
   ]
  },
  {
   "cell_type": "code",
   "execution_count": 11,
   "metadata": {},
   "outputs": [
    {
     "name": "stdout",
     "output_type": "stream",
     "text": [
      "1000\n",
      "2000\n",
      "3000\n",
      "4000\n",
      "2000\n",
      "4000\n",
      "6000\n",
      "8000\n",
      "3000\n",
      "6000\n",
      "9000\n",
      "12000\n",
      "4000\n",
      "8000\n",
      "12000\n",
      "16000\n"
     ]
    }
   ],
   "source": [
    "a = [10,20,30,40]\n",
    "b= [100,200,300,400]\n",
    "\n",
    "for num in a:\n",
    "    for nu in b:\n",
    "        print(multiplication(num,nu))\n",
    "        "
   ]
  },
  {
   "cell_type": "code",
   "execution_count": 43,
   "metadata": {},
   "outputs": [
    {
     "data": {
      "text/plain": [
       "function"
      ]
     },
     "execution_count": 43,
     "metadata": {},
     "output_type": "execute_result"
    }
   ],
   "source": []
  },
  {
   "cell_type": "code",
   "execution_count": 13,
   "metadata": {},
   "outputs": [],
   "source": [
    "# cube of a number \n",
    "\n",
    "def cube(a = 9):\n",
    "    result = a * a* a\n",
    "    \n",
    "    return result\n",
    "\n"
   ]
  },
  {
   "cell_type": "code",
   "execution_count": 14,
   "metadata": {},
   "outputs": [
    {
     "data": {
      "text/plain": [
       "1000"
      ]
     },
     "execution_count": 14,
     "metadata": {},
     "output_type": "execute_result"
    }
   ],
   "source": [
    "cube(10)"
   ]
  },
  {
   "cell_type": "code",
   "execution_count": 49,
   "metadata": {},
   "outputs": [],
   "source": [
    "# Defing filters\n",
    "\n",
    "pleasent_sounded = ['Farm', 'Park', 'Hill','Green']\n",
    "\n",
    "grand_sounded    = ['Royal', 'Queen', 'King']\n",
    "\n",
    "def filter_locations (location_list, word_list):\n",
    "    return [name for name in location_list if any (word in name for word in word_list)]"
   ]
  },
  {
   "cell_type": "code",
   "execution_count": 50,
   "metadata": {},
   "outputs": [
    {
     "data": {
      "text/plain": [
       "['Dollis Hill',\n",
       " 'Wembley Park',\n",
       " 'Brent Park',\n",
       " 'Kensal Green',\n",
       " \"Queen's Park\",\n",
       " 'Park Royal']"
      ]
     },
     "execution_count": 50,
     "metadata": {},
     "output_type": "execute_result"
    }
   ],
   "source": [
    "filter_locations(location_dict['Brent'], pleasent_sounded)"
   ]
  },
  {
   "cell_type": "code",
   "execution_count": 52,
   "metadata": {},
   "outputs": [
    {
     "data": {
      "text/plain": [
       "['Primrose Hill', 'Belsize Park', 'Dartmouth Park', 'Chalk Farm']"
      ]
     },
     "execution_count": 52,
     "metadata": {},
     "output_type": "execute_result"
    }
   ],
   "source": [
    "filter_locations(location_dict['Camden'], pleasent_sounded)"
   ]
  },
  {
   "cell_type": "code",
   "execution_count": null,
   "metadata": {},
   "outputs": [],
   "source": []
  },
  {
   "cell_type": "code",
   "execution_count": 70,
   "metadata": {},
   "outputs": [
    {
     "name": "stdout",
     "output_type": "stream",
     "text": [
      "_________________\n",
      "Brent\n",
      "['Dollis Hill', 'Wembley Park', 'Brent Park', 'Kensal Green', \"Queen's Park\", 'Park Royal']\n",
      "Length of pleasent sounded locations : 6\n",
      "['Kingsbury', \"Queen's Park\", 'Park Royal']\n",
      "Length of pleasent sounded locations : 3\n",
      "Common for both pleasent _sounded and grand sounded: \n",
      "{\"Queen's Park\", 'Park Royal'}\n",
      "_________________\n",
      "Camden\n",
      "['Primrose Hill', 'Belsize Park', 'Dartmouth Park', 'Chalk Farm']\n",
      "Length of pleasent sounded locations : 4\n",
      "[\"King's Cross\"]\n",
      "Length of pleasent sounded locations : 1\n",
      "Common for both pleasent _sounded and grand sounded: \n",
      "set()\n",
      "_________________\n",
      "Redbridge\n",
      "['Newbury Park', 'Woodford Green', 'Gants Hill']\n",
      "Length of pleasent sounded locations : 3\n",
      "['Seven Kings']\n",
      "Length of pleasent sounded locations : 1\n",
      "Common for both pleasent _sounded and grand sounded: \n",
      "set()\n",
      "_________________\n",
      "Southwark\n",
      "['Denmark Hill']\n",
      "Length of pleasent sounded locations : 1\n",
      "[]\n",
      "Length of pleasent sounded locations : 0\n",
      "Common for both pleasent _sounded and grand sounded: \n",
      "set()\n",
      "_________________\n",
      "inner_locations\n",
      "['Primrose Hill', 'Belsize Park', 'Dartmouth Park', 'Chalk Farm', 'Denmark Hill']\n",
      "Length of pleasent sounded locations : 5\n",
      "[\"King's Cross\"]\n",
      "Length of pleasent sounded locations : 1\n",
      "Common for both pleasent _sounded and grand sounded: \n",
      "set()\n",
      "_________________\n",
      "outer_locations\n",
      "['Dollis Hill', 'Wembley Park', 'Brent Park', 'Kensal Green', \"Queen's Park\", 'Park Royal', 'Newbury Park', 'Woodford Green', 'Gants Hill']\n",
      "Length of pleasent sounded locations : 9\n",
      "['Kingsbury', \"Queen's Park\", 'Park Royal', 'Seven Kings']\n",
      "Length of pleasent sounded locations : 4\n",
      "Common for both pleasent _sounded and grand sounded: \n",
      "{\"Queen's Park\", 'Park Royal'}\n"
     ]
    }
   ],
   "source": [
    "# to print all the locations \n",
    "\n",
    "for key, value in location_dict.items():\n",
    "    \n",
    "    print(\"_________________\")  \n",
    "    \n",
    "    print(key)\n",
    " \n",
    "    print(filter_locations(value, pleasent_sounded))\n",
    "    print('Length of pleasent sounded locations : {}'.format(len(filter_locations(value, pleasent_sounded))))\n",
    "    \n",
    "    \n",
    "    print(filter_locations(value, grand_sounded))\n",
    "    print('Length of pleasent sounded locations : {}'.format(len(filter_locations(value, grand_sounded))))\n",
    "    \n",
    "    \n",
    "    print(\"Common for both pleasent _sounded and grand sounded: \")\n",
    "    \n",
    "    print(set (filter_locations(value, pleasent_sounded)) & set(filter_locations(value, grand_sounded)))"
   ]
  },
  {
   "cell_type": "code",
   "execution_count": null,
   "metadata": {},
   "outputs": [],
   "source": []
  },
  {
   "cell_type": "code",
   "execution_count": null,
   "metadata": {},
   "outputs": [],
   "source": []
  },
  {
   "cell_type": "code",
   "execution_count": null,
   "metadata": {},
   "outputs": [],
   "source": []
  },
  {
   "cell_type": "code",
   "execution_count": 75,
   "metadata": {},
   "outputs": [
    {
     "name": "stdout",
     "output_type": "stream",
     "text": [
      "12\n",
      "graterthan 5\n"
     ]
    }
   ],
   "source": [
    "# List Comprehens  {If}\n",
    "inpu = int(input())\n",
    "\n",
    "if inpu > 5:\n",
    "    print(\"graterthan 5\")"
   ]
  },
  {
   "cell_type": "code",
   "execution_count": 74,
   "metadata": {},
   "outputs": [
    {
     "name": "stdout",
     "output_type": "stream",
     "text": [
      "Grater\n"
     ]
    }
   ],
   "source": [
    "inpu = 12\n",
    "\n",
    "if inpu >5:\n",
    "    print(\"Grater\")\n"
   ]
  },
  {
   "cell_type": "code",
   "execution_count": 76,
   "metadata": {},
   "outputs": [
    {
     "name": "stdout",
     "output_type": "stream",
     "text": [
      "12\n",
      "0\n",
      "1\n",
      "2\n",
      "3\n",
      "4\n",
      "5\n",
      "6\n",
      "7\n",
      "8\n",
      "9\n",
      "10\n",
      "11\n"
     ]
    }
   ],
   "source": [
    "# list comprehension {for} :\n",
    "\n",
    "i = int(input())\n",
    "\n",
    "inp = range(i)\n",
    "\n",
    "for ele in inp:\n",
    "    print(ele)"
   ]
  },
  {
   "cell_type": "code",
   "execution_count": 78,
   "metadata": {},
   "outputs": [
    {
     "name": "stdout",
     "output_type": "stream",
     "text": [
      "15\n"
     ]
    },
    {
     "data": {
      "text/plain": [
       "[0, 1, 2, 3, 4, 5, 6, 7, 8, 9, 10, 11, 12, 13, 14]"
      ]
     },
     "execution_count": 78,
     "metadata": {},
     "output_type": "execute_result"
    }
   ],
   "source": [
    "i = int(input())\n",
    "\n",
    "inp = range(i)\n",
    "\n",
    "[num for num in inp]"
   ]
  },
  {
   "cell_type": "code",
   "execution_count": 81,
   "metadata": {},
   "outputs": [
    {
     "name": "stdout",
     "output_type": "stream",
     "text": [
      "100\n",
      "['Even', 'Odd', 'Even', 'Odd', 'Even', 'Odd', 'Even', 'Odd', 'Even', 'Odd', 'Even', 'Odd', 'Even', 'Odd', 'Even', 'Odd', 'Even', 'Odd', 'Even', 'Odd', 'Even', 'Odd', 'Even', 'Odd', 'Even', 'Odd', 'Even', 'Odd', 'Even', 'Odd', 'Even', 'Odd', 'Even', 'Odd', 'Even', 'Odd', 'Even', 'Odd', 'Even', 'Odd', 'Even', 'Odd', 'Even', 'Odd', 'Even', 'Odd', 'Even', 'Odd', 'Even', 'Odd', 'Even', 'Odd', 'Even', 'Odd', 'Even', 'Odd', 'Even', 'Odd', 'Even', 'Odd', 'Even', 'Odd', 'Even', 'Odd', 'Even', 'Odd', 'Even', 'Odd', 'Even', 'Odd', 'Even', 'Odd', 'Even', 'Odd', 'Even', 'Odd', 'Even', 'Odd', 'Even', 'Odd', 'Even', 'Odd', 'Even', 'Odd', 'Even', 'Odd', 'Even', 'Odd', 'Even', 'Odd', 'Even', 'Odd', 'Even', 'Odd', 'Even', 'Odd', 'Even', 'Odd', 'Even', 'Odd']\n"
     ]
    }
   ],
   "source": [
    "# list comprehension for {if else}\n",
    "\n",
    "i = int(input())\n",
    "\n",
    "inp = range(i)\n",
    "\n",
    "even_odd_list = ['Even' if ele % 2==0 else 'Odd'  for ele in inp]\n",
    "\n",
    "print(even_odd_list)"
   ]
  },
  {
   "cell_type": "code",
   "execution_count": null,
   "metadata": {},
   "outputs": [],
   "source": [
    "\n"
   ]
  },
  {
   "cell_type": "code",
   "execution_count": null,
   "metadata": {},
   "outputs": [],
   "source": []
  },
  {
   "cell_type": "code",
   "execution_count": null,
   "metadata": {},
   "outputs": [],
   "source": []
  },
  {
   "cell_type": "code",
   "execution_count": null,
   "metadata": {},
   "outputs": [],
   "source": []
  },
  {
   "cell_type": "code",
   "execution_count": null,
   "metadata": {},
   "outputs": [],
   "source": []
  },
  {
   "cell_type": "code",
   "execution_count": null,
   "metadata": {},
   "outputs": [],
   "source": []
  },
  {
   "cell_type": "code",
   "execution_count": null,
   "metadata": {},
   "outputs": [],
   "source": []
  },
  {
   "cell_type": "code",
   "execution_count": null,
   "metadata": {},
   "outputs": [],
   "source": []
  },
  {
   "cell_type": "code",
   "execution_count": null,
   "metadata": {},
   "outputs": [],
   "source": []
  },
  {
   "cell_type": "code",
   "execution_count": null,
   "metadata": {},
   "outputs": [],
   "source": []
  },
  {
   "cell_type": "code",
   "execution_count": null,
   "metadata": {},
   "outputs": [],
   "source": []
  },
  {
   "cell_type": "code",
   "execution_count": null,
   "metadata": {},
   "outputs": [],
   "source": []
  }
 ],
 "metadata": {
  "kernelspec": {
   "display_name": "Python 3",
   "language": "python",
   "name": "python3"
  },
  "language_info": {
   "codemirror_mode": {
    "name": "ipython",
    "version": 3
   },
   "file_extension": ".py",
   "mimetype": "text/x-python",
   "name": "python",
   "nbconvert_exporter": "python",
   "pygments_lexer": "ipython3",
   "version": "3.7.3"
  }
 },
 "nbformat": 4,
 "nbformat_minor": 2
}
