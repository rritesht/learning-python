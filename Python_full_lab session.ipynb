{
 "cells": [
  {
   "cell_type": "code",
   "execution_count": 1,
   "metadata": {},
   "outputs": [
    {
     "ename": "SyntaxError",
     "evalue": "(unicode error) 'unicodeescape' codec can't decode bytes in position 2-3: truncated \\UXXXXXXXX escape (<ipython-input-1-a30f24cfa5bc>, line 3)",
     "output_type": "error",
     "traceback": [
      "\u001b[1;36m  File \u001b[1;32m\"<ipython-input-1-a30f24cfa5bc>\"\u001b[1;36m, line \u001b[1;32m3\u001b[0m\n\u001b[1;33m    with open(\"C:\\Users\\anilkumar\\Full_Cource\\Python_for_data_sceince\\data_python/brent.txt\", 'r') as f:\u001b[0m\n\u001b[1;37m             ^\u001b[0m\n\u001b[1;31mSyntaxError\u001b[0m\u001b[1;31m:\u001b[0m (unicode error) 'unicodeescape' codec can't decode bytes in position 2-3: truncated \\UXXXXXXXX escape\n"
     ]
    }
   ],
   "source": [
    "# Loading the data into environment -> Unicode error\n",
    "\n",
    "with open(\"C:\\Users\\anilkumar\\Full_Cource\\Python_for_data_sceince\\data_python/brent.txt\", 'r') as f:\n",
    "    brent = f.read().splitlines()"
   ]
  },
  {
   "cell_type": "code",
   "execution_count": 27,
   "metadata": {},
   "outputs": [],
   "source": [
    "\n",
    "# Loading all teh 4 datasets into the environment \n",
    "\n",
    "with open(r\"C:\\Users\\anilkumar\\Full_Cource\\Python_for_data_sceince\\data_python/brent.txt\") as f:\n",
    "    brent = f.read().splitlines()\n",
    "    \n",
    "    \n",
    "with open(r\"C:\\Users\\anilkumar\\Full_Cource\\Python_for_data_sceince\\data_python/camden.txt\", 'r') as f:\n",
    "    camden = f.read().splitlines()\n",
    "    \n",
    "with open(r\"C:\\Users\\anilkumar\\Full_Cource\\Python_for_data_sceince\\data_python/redbridge.txt\", 'r') as f:\n",
    "    redbridge = f.read().splitlines()\n",
    "    \n",
    "with open(r\"C:\\Users\\anilkumar\\Full_Cource\\Python_for_data_sceince\\data_python/southwark.txt\", 'r') as f:\n",
    "    southwark = f.read().splitlines()"
   ]
  },
  {
   "cell_type": "code",
   "execution_count": null,
   "metadata": {},
   "outputs": [],
   "source": [
    "\n"
   ]
  },
  {
   "cell_type": "markdown",
   "metadata": {},
   "source": [
    "# Questions"
   ]
  },
  {
   "cell_type": "markdown",
   "metadata": {},
   "source": [
    "1. Print the first 6 locations in all 4 regions?\n",
    "\n",
    "2. print all 4 regions length.\n",
    "\n",
    "3. Is \"Newbury Park\" in Redbridge ?\n",
    "\n",
    "4. Is \"Peckham\" in Brent?\n",
    "\n",
    "5. minimum and maximum values in each and every 4 regions? and need to give clarity on what bases min and max are working?\n",
    "\n",
    "6. You need to check is there any duplicates in the 4 regions or not? If there are any duplicates what are those and how many those are?\n",
    "\n",
    "7. I need unique locations in 4 regions?\n",
    "\n"
   ]
  }
 ],
 "metadata": {
  "kernelspec": {
   "display_name": "Python 3",
   "language": "python",
   "name": "python3"
  },
  "language_info": {
   "codemirror_mode": {
    "name": "ipython",
    "version": 3
   },
   "file_extension": ".py",
   "mimetype": "text/x-python",
   "name": "python",
   "nbconvert_exporter": "python",
   "pygments_lexer": "ipython3",
   "version": "3.7.3"
  }
 },
 "nbformat": 4,
 "nbformat_minor": 2
}
