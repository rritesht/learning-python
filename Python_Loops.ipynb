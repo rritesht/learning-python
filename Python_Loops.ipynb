{
 "cells": [
  {
   "cell_type": "code",
   "execution_count": null,
   "metadata": {},
   "outputs": [],
   "source": [
    "what is loop meaninig?\n",
    "\n",
    "why we are using loops?\n",
    "\n",
    "where we use loops?\n",
    "\n",
    "what is condition?\n",
    "\n",
    "where we use conditions?\n",
    "\n",
    "how we use ?\n",
    "\n",
    "# Yuvaraja\n",
    "\n",
    "his condition  # huge amount of dowary\n",
    "                \n",
    "               # looks\n",
    "        \n",
    "               # she need to earn more than him \n",
    "            \n",
    "               # But she need to do all house hold works\n",
    "                \n",
    "               # less anger & Hunger  than him \n",
    "            \n",
    "             -> select / differ/ filter /\n",
    "                \n",
    "Loops ? \n",
    "\n",
    "ram 3,4,5\n",
    "\n",
    "daily going to the office \n",
    "    \n",
    "    1. Need to go to chai \n",
    "    2. Need to speak about contry condition\n",
    "    3. Need to crack some jokes on people who are a little bit silent \n",
    "    4. You will check your mails/ you all your coleges imp mail/ work?\n",
    "    5. you plan what you need to do today \n",
    "    6. need to go for lunch \n",
    "    7. walking \n",
    "    8. contry condition\n",
    "    9. you will decreased the plned work.\n",
    "    10 1 hour time to give status \n",
    "    11. do the work \n",
    "    12. attending the call \n",
    "    13. closing the day with very hectic shedule \n"
   ]
  },
  {
   "cell_type": "markdown",
   "metadata": {},
   "source": [
    "# conditional statments / logics"
   ]
  },
  {
   "cell_type": "markdown",
   "metadata": {},
   "source": [
    " very importent  : indentation (Spacing/ 1 tab or 4 spaces)\n",
    "\n",
    " If statment check if the condition is met before running a block of code or not"
   ]
  },
  {
   "cell_type": "code",
   "execution_count": 1,
   "metadata": {},
   "outputs": [
    {
     "name": "stdout",
     "output_type": "stream",
     "text": [
      "His savings are more\n"
     ]
    }
   ],
   "source": [
    "\n",
    "\n",
    "# condition\n",
    "\n",
    "if ritesh >= 100000:\n",
    "    print(\"His savings are more\")\n",
    "    \n",
    "\n"
   ]
  },
  {
   "cell_type": "code",
   "execution_count": 3,
   "metadata": {},
   "outputs": [
    {
     "name": "stdout",
     "output_type": "stream",
     "text": [
      "Enter the number 12345678\n"
     ]
    }
   ],
   "source": [
    "# condition\n",
    "\n",
    "if ritesh >= 10000000:\n",
    "    print(\"His savings are more\")\n",
    "    \n",
    "#  joy (same)/ Error - Ritesh / naveen error "
   ]
  },
  {
   "cell_type": "code",
   "execution_count": null,
   "metadata": {},
   "outputs": [],
   "source": [
    "var_1 = input(\"Enter the number \")"
   ]
  },
  {
   "cell_type": "code",
   "execution_count": 8,
   "metadata": {},
   "outputs": [
    {
     "name": "stdout",
     "output_type": "stream",
     "text": [
      "Enter the number100\n",
      "Current enter number is bigger\n"
     ]
    }
   ],
   "source": [
    "# if - else \n",
    "\n",
    "a = int(input(\"Enter the number\"))\n",
    "\n",
    "if a> 20:\n",
    "    print(\"Current enter number is bigger\")\n",
    "    \n",
    "else:\n",
    "    print(\"20 is the hign numarical\")"
   ]
  },
  {
   "cell_type": "code",
   "execution_count": null,
   "metadata": {},
   "outputs": [],
   "source": [
    "# if- elif- else\n",
    "\n",
    "# conditions  600 - total marks  Telgu, Hindi, English , Sceince, Social , Maths\n",
    "\n",
    "# 550 - 600  -  Extraordinary \n",
    "\n",
    "# 500 - 550  -  good student\n",
    "\n",
    "# 450 - 500  -  Just okay\n",
    "\n",
    "# 400 - 450  -  Okay okay\n",
    "\n",
    "# <400       -  Waste person (myth)"
   ]
  },
  {
   "cell_type": "code",
   "execution_count": 15,
   "metadata": {},
   "outputs": [
    {
     "name": "stdout",
     "output_type": "stream",
     "text": [
      "Please enter your 'SSC' Marks : 7617625437\n",
      "Extra ordinary\n"
     ]
    }
   ],
   "source": [
    "marks = int(input(\"Please enter your 'SSC' Marks : \"))\n",
    "\n",
    "\n",
    "\n",
    "if 0<= marks< 400:\n",
    "    print(\"Waste Person (myth) \")\n",
    "    \n",
    "elif 400<= marks< 450:\n",
    "    print(\"okay okay \")\n",
    "    \n",
    "elif 450<= marks< 500:\n",
    "    print(\"just okay \")\n",
    "    \n",
    "elif 500<= marks< 550:\n",
    "    print(\"good student \")\n",
    "\n",
    "else :\n",
    "    print(\"Extra ordinary\")"
   ]
  },
  {
   "cell_type": "code",
   "execution_count": 18,
   "metadata": {},
   "outputs": [
    {
     "name": "stdout",
     "output_type": "stream",
     "text": [
      "Please enter your 'SSC' Marks : 12312312312321\n",
      "Enter the marks in proper way\n"
     ]
    }
   ],
   "source": [
    "marks = int(input(\"Please enter your 'SSC' Marks : \"))\n",
    "\n",
    "if 0<= marks< 400:\n",
    "    print(\"Waste Person (myth) \")\n",
    "    \n",
    "elif 4000<= marks< 450:\n",
    "    print(\"okay okay \")\n",
    "    \n",
    "elif 450<= marks< 500:\n",
    "    print(\"just okay \")\n",
    "    \n",
    "elif 500<= marks< 550:\n",
    "    print(\"good student \")\n",
    "\n",
    "elif 550<= marks< 600:\n",
    "    print(\"Extra ordinary\")\n",
    "    \n",
    "else:\n",
    "    print(\"Enter the marks in proper way\")"
   ]
  },
  {
   "cell_type": "code",
   "execution_count": 22,
   "metadata": {},
   "outputs": [
    {
     "name": "stdout",
     "output_type": "stream",
     "text": [
      "Enter you marks between 1 and 600: -123\n",
      "waste student\n"
     ]
    }
   ],
   "source": [
    "# Chandrika's\n",
    "\n",
    "marks = int(input(\"Enter you marks between 1 and 600: \"))\n",
    "\n",
    "if marks >=550 and marks <600:\n",
    "    print(\"Extraordinary\")\n",
    "\n",
    "elif marks >=500 and marks <550:\n",
    "    print(\"good student\")\n",
    "\n",
    "elif marks >=450 and marks <500:\n",
    "    print(\"just ok\")\n",
    "\n",
    "elif marks >=400 and marks <450:\n",
    "    print(\"ok ok\")\n",
    "\n",
    "elif marks >600:\n",
    "    print (\"Please enter marks between 1 and 600 only\")\n",
    "\n",
    "else:\n",
    "    print(\"waste student\")"
   ]
  },
  {
   "cell_type": "code",
   "execution_count": 23,
   "metadata": {},
   "outputs": [
    {
     "name": "stdout",
     "output_type": "stream",
     "text": [
      "0\n",
      "1\n",
      "2\n",
      "3\n",
      "4\n",
      "5\n",
      "6\n",
      "7\n",
      "8\n",
      "9\n"
     ]
    }
   ],
   "source": [
    "# for loop\n",
    "\n",
    "# When we need a repeat process across many objects, we will write for loop.\n",
    "\n",
    "for num in range(10):\n",
    "    print(num)"
   ]
  },
  {
   "cell_type": "code",
   "execution_count": 26,
   "metadata": {},
   "outputs": [
    {
     "name": "stdout",
     "output_type": "stream",
     "text": [
      "100\n",
      "200\n",
      "300\n",
      "400\n",
      "500\n",
      "600\n",
      "700\n",
      "800\n",
      "900\n",
      "1000\n",
      "1100\n",
      "1200\n",
      "1300\n",
      "1400\n",
      "1500\n",
      "1600\n",
      "1700\n",
      "1800\n",
      "1900\n"
     ]
    }
   ],
   "source": [
    "for num in range(100, 2000,100):\n",
    "    print(num)"
   ]
  },
  {
   "cell_type": "code",
   "execution_count": 28,
   "metadata": {},
   "outputs": [
    {
     "name": "stdout",
     "output_type": "stream",
     "text": [
      "0\n",
      "1\n",
      "2\n",
      "3\n",
      "4\n"
     ]
    }
   ],
   "source": [
    "for num in range(5):\n",
    "    print(num)"
   ]
  },
  {
   "cell_type": "code",
   "execution_count": 34,
   "metadata": {},
   "outputs": [
    {
     "name": "stdout",
     "output_type": "stream",
     "text": [
      "1\n",
      "2\n",
      "3\n",
      "4\n",
      "5\n",
      "6\n",
      "7\n",
      "8\n",
      "9\n",
      "10\n",
      "11\n",
      "12\n"
     ]
    }
   ],
   "source": [
    "for num in reversed(range(12, 0, -1)):\n",
    "    print(num)"
   ]
  },
  {
   "cell_type": "code",
   "execution_count": null,
   "metadata": {},
   "outputs": [],
   "source": [
    "# Assignment ?\n",
    "\n",
    "for , if , elif, else, int, float , str, list"
   ]
  },
  {
   "cell_type": "markdown",
   "metadata": {},
   "source": [
    "june 15 th 2019"
   ]
  },
  {
   "cell_type": "code",
   "execution_count": 71,
   "metadata": {},
   "outputs": [],
   "source": [
    "lis1 = [1,2,3,4,5,6]"
   ]
  },
  {
   "cell_type": "code",
   "execution_count": 74,
   "metadata": {},
   "outputs": [
    {
     "name": "stdout",
     "output_type": "stream",
     "text": [
      "Please enter the number: 13\n",
      "The number is already in the list \n",
      "[1, 2, 3, 4, 5, 6, 12, 13]\n"
     ]
    }
   ],
   "source": [
    "\n",
    "\n",
    "inp_number = int(input(\"Please enter the number: \"))\n",
    "\n",
    "if (inp_number in lis1)==True:\n",
    "    print(\"The number is already in the list \")\n",
    "else:\n",
    "    lis1.append(inp_number)\n",
    "\n",
    "\n",
    "print(lis1)"
   ]
  },
  {
   "cell_type": "code",
   "execution_count": 70,
   "metadata": {},
   "outputs": [
    {
     "name": "stdout",
     "output_type": "stream",
     "text": [
      "Please enter the number: 15\n",
      "The number is already in the list \n",
      "[1, 2, 3, 4, 5, 6, 13, 14, 15]\n"
     ]
    }
   ],
   "source": [
    "inp_number = int(input(\"Please enter the number: \"))\n",
    "\n",
    "if (inp_number in lis1)==True:\n",
    "    print(\"The number is already in the list \")\n",
    "else:\n",
    "    lis1.append(inp_number)\n",
    "\n",
    "\n",
    "print(lis1)"
   ]
  },
  {
   "cell_type": "code",
   "execution_count": 64,
   "metadata": {},
   "outputs": [
    {
     "name": "stdout",
     "output_type": "stream",
     "text": [
      "Please enter the number: 12\n",
      "yes\n",
      "yes\n",
      "yes\n",
      "yes\n",
      "yes\n",
      "yes\n"
     ]
    }
   ],
   "source": [
    "lis1 = [1,2,3,4,5,6]\n",
    "\n",
    "inp_number = int(input(\"Please enter the number: \"))\n",
    "\n",
    "for num in lis1:\n",
    "    if num==inp_number:\n",
    "        print(\"yes\")\n",
    "        \n",
    "    else:\n",
    "        lis1.append(inp_number)\n",
    "   "
   ]
  },
  {
   "cell_type": "code",
   "execution_count": null,
   "metadata": {},
   "outputs": [],
   "source": []
  },
  {
   "cell_type": "code",
   "execution_count": 54,
   "metadata": {},
   "outputs": [
    {
     "ename": "TypeError",
     "evalue": "'NoneType' object is not iterable",
     "output_type": "error",
     "traceback": [
      "\u001b[1;31m---------------------------------------------------------------------------\u001b[0m",
      "\u001b[1;31mTypeError\u001b[0m                                 Traceback (most recent call last)",
      "\u001b[1;32m<ipython-input-54-6eaa0e9037d7>\u001b[0m in \u001b[0;36m<module>\u001b[1;34m\u001b[0m\n\u001b[1;32m----> 1\u001b[1;33m \u001b[0mlist\u001b[0m\u001b[1;33m(\u001b[0m\u001b[0mlis1\u001b[0m\u001b[1;33m.\u001b[0m\u001b[0mappend\u001b[0m\u001b[1;33m(\u001b[0m\u001b[0minp_number\u001b[0m\u001b[1;33m)\u001b[0m\u001b[1;33m)\u001b[0m\u001b[1;33m\u001b[0m\u001b[1;33m\u001b[0m\u001b[0m\n\u001b[0m",
      "\u001b[1;31mTypeError\u001b[0m: 'NoneType' object is not iterable"
     ]
    }
   ],
   "source": [
    "list(lis1.append(inp_number))"
   ]
  },
  {
   "cell_type": "code",
   "execution_count": 35,
   "metadata": {},
   "outputs": [
    {
     "data": {
      "text/plain": [
       "True"
      ]
     },
     "execution_count": 35,
     "metadata": {},
     "output_type": "execute_result"
    }
   ],
   "source": [
    "lis1 = [1,2,3,4,5,6]\n",
    "a\n",
    "3 in lis1"
   ]
  },
  {
   "cell_type": "code",
   "execution_count": null,
   "metadata": {},
   "outputs": [],
   "source": [
    "\n",
    "lis1 = [1,2,3,4,5,6]\n",
    "length = (len(lis1))\n",
    "number = int(input(\"enter your number: \"))\n",
    "for i in range(length):\n",
    "    number = int(input(\"enter your number: \"))\n",
    "    if number in lis1:\n",
    "        print (\"number already exists in the list\")\n",
    "    else:\n",
    "        lis1.append(number)\n",
    "        lis"
   ]
  },
  {
   "cell_type": "markdown",
   "metadata": {},
   "source": [
    "For loop :\n",
    " \n",
    " When you need to repet a process across many objects , you can rigth for loop "
   ]
  },
  {
   "cell_type": "code",
   "execution_count": 76,
   "metadata": {},
   "outputs": [
    {
     "name": "stdout",
     "output_type": "stream",
     "text": [
      "1\n",
      "2\n",
      "3\n",
      "4\n",
      "5\n",
      "6\n",
      "7\n",
      "8\n",
      "9\n"
     ]
    }
   ],
   "source": [
    "for vamsi in [1,2,3,4,5,6,7,8,9]:\n",
    "    print(vamsi)"
   ]
  },
  {
   "cell_type": "code",
   "execution_count": 77,
   "metadata": {},
   "outputs": [
    {
     "name": "stdout",
     "output_type": "stream",
     "text": [
      "0\n",
      "1\n",
      "2\n",
      "3\n",
      "4\n"
     ]
    }
   ],
   "source": [
    "for num in range(5):\n",
    "    print(num)"
   ]
  },
  {
   "cell_type": "code",
   "execution_count": 78,
   "metadata": {},
   "outputs": [
    {
     "name": "stdout",
     "output_type": "stream",
     "text": [
      "4\n",
      "3\n",
      "2\n",
      "1\n",
      "0\n"
     ]
    }
   ],
   "source": [
    "for num in reversed(range(5)):\n",
    "    print(num)"
   ]
  },
  {
   "cell_type": "code",
   "execution_count": 79,
   "metadata": {},
   "outputs": [
    {
     "name": "stdout",
     "output_type": "stream",
     "text": [
      "yuvraj\n",
      "joy\n",
      "yuvraj\n",
      "joy\n",
      "yuvraj\n",
      "joy\n",
      "yuvraj\n",
      "joy\n",
      "yuvraj\n",
      "vamsi\n"
     ]
    }
   ],
   "source": [
    "# Nested control flow\n",
    "\n",
    "r_l = range(10)\n",
    "\n",
    "for num in reversed(r_l):\n",
    "    if num == 0:\n",
    "        print(\"vamsi\")\n",
    "    elif num % 2==0:\n",
    "        print(\"joy\")\n",
    "    else:\n",
    "        print(\"yuvraj\")"
   ]
  },
  {
   "cell_type": "code",
   "execution_count": 80,
   "metadata": {},
   "outputs": [
    {
     "name": "stdout",
     "output_type": "stream",
     "text": [
      "vamsi\n",
      "yuvraj\n",
      "joy\n",
      "yuvraj\n",
      "joy\n",
      "yuvraj\n",
      "joy\n",
      "yuvraj\n",
      "joy\n",
      "yuvraj\n"
     ]
    }
   ],
   "source": [
    "r_l = range(10)\n",
    "\n",
    "for num in r_l:\n",
    "    if num == 0:\n",
    "        print(\"vamsi\")\n",
    "    elif num % 2==0:\n",
    "        print(\"joy\")\n",
    "    else:\n",
    "        print(\"yuvraj\")"
   ]
  },
  {
   "cell_type": "code",
   "execution_count": null,
   "metadata": {},
   "outputs": [],
   "source": [
    "1 * 2 = 2\n",
    "1 * 3 = 3"
   ]
  },
  {
   "cell_type": "code",
   "execution_count": 84,
   "metadata": {},
   "outputs": [
    {
     "name": "stdout",
     "output_type": "stream",
     "text": [
      "1 * 1 = 1\n",
      "1 * 2 = 2\n",
      "1 * 3 = 3\n",
      "1 * 4 = 4\n",
      "1 * 5 = 5\n",
      "1 * 6 = 6\n",
      "1 * 7 = 7\n",
      "1 * 8 = 8\n",
      "1 * 9 = 9\n",
      "1 * 10 = 10\n",
      "2 * 1 = 2\n",
      "2 * 2 = 4\n",
      "2 * 3 = 6\n",
      "2 * 4 = 8\n",
      "2 * 5 = 10\n",
      "2 * 6 = 12\n",
      "2 * 7 = 14\n",
      "2 * 8 = 16\n",
      "2 * 9 = 18\n",
      "2 * 10 = 20\n",
      "3 * 1 = 3\n",
      "3 * 2 = 6\n",
      "3 * 3 = 9\n",
      "3 * 4 = 12\n",
      "3 * 5 = 15\n",
      "3 * 6 = 18\n",
      "3 * 7 = 21\n",
      "3 * 8 = 24\n",
      "3 * 9 = 27\n",
      "3 * 10 = 30\n",
      "4 * 1 = 4\n",
      "4 * 2 = 8\n",
      "4 * 3 = 12\n",
      "4 * 4 = 16\n",
      "4 * 5 = 20\n",
      "4 * 6 = 24\n",
      "4 * 7 = 28\n",
      "4 * 8 = 32\n",
      "4 * 9 = 36\n",
      "4 * 10 = 40\n",
      "5 * 1 = 5\n",
      "5 * 2 = 10\n",
      "5 * 3 = 15\n",
      "5 * 4 = 20\n",
      "5 * 5 = 25\n",
      "5 * 6 = 30\n",
      "5 * 7 = 35\n",
      "5 * 8 = 40\n",
      "5 * 9 = 45\n",
      "5 * 10 = 50\n",
      "6 * 1 = 6\n",
      "6 * 2 = 12\n",
      "6 * 3 = 18\n",
      "6 * 4 = 24\n",
      "6 * 5 = 30\n",
      "6 * 6 = 36\n",
      "6 * 7 = 42\n",
      "6 * 8 = 48\n",
      "6 * 9 = 54\n",
      "6 * 10 = 60\n",
      "7 * 1 = 7\n",
      "7 * 2 = 14\n",
      "7 * 3 = 21\n",
      "7 * 4 = 28\n",
      "7 * 5 = 35\n",
      "7 * 6 = 42\n",
      "7 * 7 = 49\n",
      "7 * 8 = 56\n",
      "7 * 9 = 63\n",
      "7 * 10 = 70\n",
      "8 * 1 = 8\n",
      "8 * 2 = 16\n",
      "8 * 3 = 24\n",
      "8 * 4 = 32\n",
      "8 * 5 = 40\n",
      "8 * 6 = 48\n",
      "8 * 7 = 56\n",
      "8 * 8 = 64\n",
      "8 * 9 = 72\n",
      "8 * 10 = 80\n",
      "9 * 1 = 9\n",
      "9 * 2 = 18\n",
      "9 * 3 = 27\n",
      "9 * 4 = 36\n",
      "9 * 5 = 45\n",
      "9 * 6 = 54\n",
      "9 * 7 = 63\n",
      "9 * 8 = 72\n",
      "9 * 9 = 81\n",
      "9 * 10 = 90\n",
      "10 * 1 = 10\n",
      "10 * 2 = 20\n",
      "10 * 3 = 30\n",
      "10 * 4 = 40\n",
      "10 * 5 = 50\n",
      "10 * 6 = 60\n",
      "10 * 7 = 70\n",
      "10 * 8 = 80\n",
      "10 * 9 = 90\n",
      "10 * 10 = 100\n"
     ]
    }
   ],
   "source": [
    "nums_1 = range(1,11)\n",
    "nums_2 = range(1,11)\n",
    "\n",
    "for a in nums_1:\n",
    "    for b in nums_2:\n",
    "        print(a, \"*\", b, \"=\" ,a*b)"
   ]
  },
  {
   "cell_type": "code",
   "execution_count": 87,
   "metadata": {},
   "outputs": [
    {
     "name": "stdout",
     "output_type": "stream",
     "text": [
      "enter a numbers12\n",
      "[12]\n",
      "[]\n"
     ]
    }
   ],
   "source": [
    "# you need to take input , after that need to print two list 1. even and another odd\n",
    "\n",
    "\n",
    "#ritesh\n",
    "inp=int(input('enter a numbers'))\n",
    "\n",
    "r=[]\n",
    "e=[]\n",
    "if inp%2==0:\n",
    "    r.append(inp)\n",
    "else:\n",
    " \n",
    "    e.append(inp)\n",
    "print(r)\n",
    "print(e)"
   ]
  },
  {
   "cell_type": "code",
   "execution_count": 94,
   "metadata": {},
   "outputs": [
    {
     "name": "stdout",
     "output_type": "stream",
     "text": [
      "enter the starting range :1\n",
      "enterthe end range : 10\n",
      "Enter the interval : 5\n",
      "Length of the even list :  1 [6]\n",
      "Length of the odd list :  1 [1]\n"
     ]
    }
   ],
   "source": [
    "inp_s = int(input('enter the starting range :'))\n",
    "inp_e = int(input('enterthe end range : '))\n",
    "inp_i = int(input(\"Enter the interval : \"))\n",
    "\n",
    "original = range(inp_s,inp_e, inp_i)\n",
    "r=[]\n",
    "e=[]\n",
    "\n",
    "for num in original:\n",
    "    \n",
    "    if num%2==0:\n",
    "        r.append(num)\n",
    "    else:\n",
    "        e.append(num)\n",
    "print(\"Length of the even list : \",len(r),r)\n",
    "print(\"Length of the odd list : \",len(e),e)b"
   ]
  },
  {
   "cell_type": "code",
   "execution_count": 104,
   "metadata": {},
   "outputs": [
    {
     "name": "stdout",
     "output_type": "stream",
     "text": [
      "12 15 111 119 120\n",
      "Length of the even list :  2 [12, 120]\n",
      "Length of the odd list :  3 [15, 111, 119]\n"
     ]
    }
   ],
   "source": [
    "original = [int(x) for x in input().split()]\n",
    "\n",
    "\n",
    "r=[]\n",
    "e=[]\n",
    "\n",
    "for num in original:\n",
    "    \n",
    "    if num%2==0:\n",
    "        r.append(num)\n",
    "    else:\n",
    "        e.append(num)\n",
    "print(\"Length of the even list : \",len(r),r)\n",
    "print(\"Length of the odd list : \",len(e),e)"
   ]
  },
  {
   "cell_type": "markdown",
   "metadata": {},
   "source": [
    "# list comprehensions"
   ]
  },
  {
   "cell_type": "code",
   "execution_count": 105,
   "metadata": {},
   "outputs": [
    {
     "name": "stdout",
     "output_type": "stream",
     "text": [
      "0\n",
      "1\n",
      "2\n",
      "3\n",
      "4\n",
      "5\n",
      "6\n",
      "7\n",
      "8\n",
      "9\n"
     ]
    }
   ],
   "source": [
    "for num in range(10):\n",
    "    print(num)"
   ]
  },
  {
   "cell_type": "code",
   "execution_count": 106,
   "metadata": {},
   "outputs": [],
   "source": [
    "# squaring a number \n",
    "square_list = [number **2 for number in range(10)]"
   ]
  },
  {
   "cell_type": "code",
   "execution_count": 107,
   "metadata": {},
   "outputs": [
    {
     "data": {
      "text/plain": [
       "[0, 1, 4, 9, 16, 25, 36, 49, 64, 81]"
      ]
     },
     "execution_count": 107,
     "metadata": {},
     "output_type": "execute_result"
    }
   ],
   "source": [
    "square_list"
   ]
  },
  {
   "cell_type": "code",
   "execution_count": 110,
   "metadata": {},
   "outputs": [
    {
     "data": {
      "text/plain": [
       "[0, 2, 4, 6, 8]"
      ]
     },
     "execution_count": 110,
     "metadata": {},
     "output_type": "execute_result"
    }
   ],
   "source": [
    "# even \n",
    "\n",
    "even_list = [number for number in range(10) if number %2==0]\n",
    "even_list"
   ]
  },
  {
   "cell_type": "code",
   "execution_count": 111,
   "metadata": {},
   "outputs": [
    {
     "data": {
      "text/plain": [
       "[1, 3, 5, 7, 9]"
      ]
     },
     "execution_count": 111,
     "metadata": {},
     "output_type": "execute_result"
    }
   ],
   "source": [
    "# odd list\n",
    "\n",
    "even_list = [number for number in range(10) if number %2!=0]\n",
    "even_list"
   ]
  },
  {
   "cell_type": "code",
   "execution_count": 113,
   "metadata": {},
   "outputs": [
    {
     "data": {
      "text/plain": [
       "['even', 'odd', 'even', 'odd', 'even', 'odd', 'even', 'odd', 'even', 'odd']"
      ]
     },
     "execution_count": 113,
     "metadata": {},
     "output_type": "execute_result"
    }
   ],
   "source": [
    "# even or odd in the same list  for the range 10\n",
    "\n",
    "even_odd_list = ['even' if number %2==0 else 'odd' for number in range(10)]\n",
    "even_odd_list"
   ]
  },
  {
   "cell_type": "code",
   "execution_count": null,
   "metadata": {},
   "outputs": [],
   "source": []
  },
  {
   "cell_type": "code",
   "execution_count": 1,
   "metadata": {},
   "outputs": [
    {
     "name": "stdout",
     "output_type": "stream",
     "text": [
      "tiwari\n",
      "kumar\n",
      "tiwari\n",
      "kumar\n",
      "tiwari\n",
      "kumar\n",
      "tiwari\n",
      "kumar\n",
      "tiwari\n",
      "ritesh\n"
     ]
    }
   ],
   "source": [
    "r_l = range(10)\n",
    "\n",
    "for num in reversed(r_l):\n",
    "    if num == 0:\n",
    "        print(\"ritesh\")\n",
    "    elif num % 2==0:\n",
    "        print(\"kumar\")\n",
    "    else:\n",
    "        print(\"tiwari\")"
   ]
  },
  {
   "cell_type": "code",
   "execution_count": 6,
   "metadata": {},
   "outputs": [
    {
     "name": "stdout",
     "output_type": "stream",
     "text": [
      "1 * 1 = 1\n",
      "1 * 2 = 2\n",
      "1 * 3 = 3\n",
      "1 * 4 = 4\n",
      "1 * 5 = 5\n",
      "1 * 6 = 6\n",
      "1 * 7 = 7\n",
      "1 * 8 = 8\n",
      "1 * 9 = 9\n",
      "1 * 10 = 10\n",
      "2 * 1 = 2\n",
      "2 * 2 = 4\n",
      "2 * 3 = 6\n",
      "2 * 4 = 8\n",
      "2 * 5 = 10\n",
      "2 * 6 = 12\n",
      "2 * 7 = 14\n",
      "2 * 8 = 16\n",
      "2 * 9 = 18\n",
      "2 * 10 = 20\n",
      "3 * 1 = 3\n",
      "3 * 2 = 6\n",
      "3 * 3 = 9\n",
      "3 * 4 = 12\n",
      "3 * 5 = 15\n",
      "3 * 6 = 18\n",
      "3 * 7 = 21\n",
      "3 * 8 = 24\n",
      "3 * 9 = 27\n",
      "3 * 10 = 30\n",
      "4 * 1 = 4\n",
      "4 * 2 = 8\n",
      "4 * 3 = 12\n",
      "4 * 4 = 16\n",
      "4 * 5 = 20\n",
      "4 * 6 = 24\n",
      "4 * 7 = 28\n",
      "4 * 8 = 32\n",
      "4 * 9 = 36\n",
      "4 * 10 = 40\n",
      "5 * 1 = 5\n",
      "5 * 2 = 10\n",
      "5 * 3 = 15\n",
      "5 * 4 = 20\n",
      "5 * 5 = 25\n",
      "5 * 6 = 30\n",
      "5 * 7 = 35\n",
      "5 * 8 = 40\n",
      "5 * 9 = 45\n",
      "5 * 10 = 50\n",
      "6 * 1 = 6\n",
      "6 * 2 = 12\n",
      "6 * 3 = 18\n",
      "6 * 4 = 24\n",
      "6 * 5 = 30\n",
      "6 * 6 = 36\n",
      "6 * 7 = 42\n",
      "6 * 8 = 48\n",
      "6 * 9 = 54\n",
      "6 * 10 = 60\n",
      "7 * 1 = 7\n",
      "7 * 2 = 14\n",
      "7 * 3 = 21\n",
      "7 * 4 = 28\n",
      "7 * 5 = 35\n",
      "7 * 6 = 42\n",
      "7 * 7 = 49\n",
      "7 * 8 = 56\n",
      "7 * 9 = 63\n",
      "7 * 10 = 70\n",
      "8 * 1 = 8\n",
      "8 * 2 = 16\n",
      "8 * 3 = 24\n",
      "8 * 4 = 32\n",
      "8 * 5 = 40\n",
      "8 * 6 = 48\n",
      "8 * 7 = 56\n",
      "8 * 8 = 64\n",
      "8 * 9 = 72\n",
      "8 * 10 = 80\n",
      "9 * 1 = 9\n",
      "9 * 2 = 18\n",
      "9 * 3 = 27\n",
      "9 * 4 = 36\n",
      "9 * 5 = 45\n",
      "9 * 6 = 54\n",
      "9 * 7 = 63\n",
      "9 * 8 = 72\n",
      "9 * 9 = 81\n",
      "9 * 10 = 90\n",
      "10 * 1 = 10\n",
      "10 * 2 = 20\n",
      "10 * 3 = 30\n",
      "10 * 4 = 40\n",
      "10 * 5 = 50\n",
      "10 * 6 = 60\n",
      "10 * 7 = 70\n",
      "10 * 8 = 80\n",
      "10 * 9 = 90\n",
      "10 * 10 = 100\n"
     ]
    }
   ],
   "source": [
    "num=range(1,11)\n",
    "num1=range(1,11)\n",
    "for i in num:\n",
    "    for b in num1:\n",
    "        print(i ,'*',b ,'=',i*b)\n",
    "    "
   ]
  },
  {
   "cell_type": "code",
   "execution_count": null,
   "metadata": {},
   "outputs": [],
   "source": []
  },
  {
   "cell_type": "code",
   "execution_count": null,
   "metadata": {},
   "outputs": [],
   "source": []
  },
  {
   "cell_type": "code",
   "execution_count": null,
   "metadata": {},
   "outputs": [],
   "source": []
  },
  {
   "cell_type": "code",
   "execution_count": 1,
   "metadata": {},
   "outputs": [
    {
     "name": "stdout",
     "output_type": "stream",
     "text": [
      "1 * 1 = 1\n",
      "1 * 2 = 2\n",
      "1 * 3 = 3\n",
      "1 * 4 = 4\n",
      "1 * 5 = 5\n",
      "1 * 6 = 6\n",
      "1 * 7 = 7\n",
      "1 * 8 = 8\n",
      "1 * 9 = 9\n",
      "1 * 10 = 10\n",
      "2 * 1 = 2\n",
      "2 * 2 = 4\n",
      "2 * 3 = 6\n",
      "2 * 4 = 8\n",
      "2 * 5 = 10\n",
      "2 * 6 = 12\n",
      "2 * 7 = 14\n",
      "2 * 8 = 16\n",
      "2 * 9 = 18\n",
      "2 * 10 = 20\n",
      "3 * 1 = 3\n",
      "3 * 2 = 6\n",
      "3 * 3 = 9\n",
      "3 * 4 = 12\n",
      "3 * 5 = 15\n",
      "3 * 6 = 18\n",
      "3 * 7 = 21\n",
      "3 * 8 = 24\n",
      "3 * 9 = 27\n",
      "3 * 10 = 30\n",
      "4 * 1 = 4\n",
      "4 * 2 = 8\n",
      "4 * 3 = 12\n",
      "4 * 4 = 16\n",
      "4 * 5 = 20\n",
      "4 * 6 = 24\n",
      "4 * 7 = 28\n",
      "4 * 8 = 32\n",
      "4 * 9 = 36\n",
      "4 * 10 = 40\n",
      "5 * 1 = 5\n",
      "5 * 2 = 10\n",
      "5 * 3 = 15\n",
      "5 * 4 = 20\n",
      "5 * 5 = 25\n",
      "5 * 6 = 30\n",
      "5 * 7 = 35\n",
      "5 * 8 = 40\n",
      "5 * 9 = 45\n",
      "5 * 10 = 50\n",
      "6 * 1 = 6\n",
      "6 * 2 = 12\n",
      "6 * 3 = 18\n",
      "6 * 4 = 24\n",
      "6 * 5 = 30\n",
      "6 * 6 = 36\n",
      "6 * 7 = 42\n",
      "6 * 8 = 48\n",
      "6 * 9 = 54\n",
      "6 * 10 = 60\n",
      "7 * 1 = 7\n",
      "7 * 2 = 14\n",
      "7 * 3 = 21\n",
      "7 * 4 = 28\n",
      "7 * 5 = 35\n",
      "7 * 6 = 42\n",
      "7 * 7 = 49\n",
      "7 * 8 = 56\n",
      "7 * 9 = 63\n",
      "7 * 10 = 70\n",
      "8 * 1 = 8\n",
      "8 * 2 = 16\n",
      "8 * 3 = 24\n",
      "8 * 4 = 32\n",
      "8 * 5 = 40\n",
      "8 * 6 = 48\n",
      "8 * 7 = 56\n",
      "8 * 8 = 64\n",
      "8 * 9 = 72\n",
      "8 * 10 = 80\n",
      "9 * 1 = 9\n",
      "9 * 2 = 18\n",
      "9 * 3 = 27\n",
      "9 * 4 = 36\n",
      "9 * 5 = 45\n",
      "9 * 6 = 54\n",
      "9 * 7 = 63\n",
      "9 * 8 = 72\n",
      "9 * 9 = 81\n",
      "9 * 10 = 90\n",
      "10 * 1 = 10\n",
      "10 * 2 = 20\n",
      "10 * 3 = 30\n",
      "10 * 4 = 40\n",
      "10 * 5 = 50\n",
      "10 * 6 = 60\n",
      "10 * 7 = 70\n",
      "10 * 8 = 80\n",
      "10 * 9 = 90\n",
      "10 * 10 = 100\n"
     ]
    }
   ],
   "source": [
    "for i in range(1,11):\n",
    "    for i2 in range(1,11):\n",
    "        print(i,'*',i2,'=',i*i2)"
   ]
  },
  {
   "cell_type": "code",
   "execution_count": 6,
   "metadata": {},
   "outputs": [
    {
     "name": "stdout",
     "output_type": "stream",
     "text": [
      "3.5\n"
     ]
    },
    {
     "data": {
      "text/plain": [
       "6"
      ]
     },
     "execution_count": 6,
     "metadata": {},
     "output_type": "execute_result"
    }
   ],
   "source": [
    "vicky=[1,2,3,4,5,6]\n",
    "bb=len(vicky)\n",
    "total=sum(vicky)\n",
    "print(total)\n",
    "\n"
   ]
  },
  {
   "cell_type": "code",
   "execution_count": 7,
   "metadata": {},
   "outputs": [
    {
     "name": "stdout",
     "output_type": "stream",
     "text": [
      "21\n"
     ]
    }
   ],
   "source": [
    "vicky=[1,2,3,4,5,6]\n",
    "bb=len(vicky)\n",
    "total=sum(vicky)\n",
    "print(total)\n"
   ]
  },
  {
   "cell_type": "code",
   "execution_count": 9,
   "metadata": {},
   "outputs": [
    {
     "name": "stdout",
     "output_type": "stream",
     "text": [
      "15\n"
     ]
    }
   ],
   "source": [
    "total=0\n",
    "gg=[1,2,3,4,5]\n",
    "for i in gg:\n",
    "    total+=i\n",
    "print(total)"
   ]
  },
  {
   "cell_type": "code",
   "execution_count": 16,
   "metadata": {},
   "outputs": [
    {
     "data": {
      "text/html": [
       "<div>\n",
       "<style scoped>\n",
       "    .dataframe tbody tr th:only-of-type {\n",
       "        vertical-align: middle;\n",
       "    }\n",
       "\n",
       "    .dataframe tbody tr th {\n",
       "        vertical-align: top;\n",
       "    }\n",
       "\n",
       "    .dataframe thead th {\n",
       "        text-align: right;\n",
       "    }\n",
       "</style>\n",
       "<table border=\"1\" class=\"dataframe\">\n",
       "  <thead>\n",
       "    <tr style=\"text-align: right;\">\n",
       "      <th></th>\n",
       "      <th>DETAILS</th>\n",
       "      <th>RITESH</th>\n",
       "    </tr>\n",
       "  </thead>\n",
       "  <tbody>\n",
       "    <tr>\n",
       "      <th>0</th>\n",
       "      <td>NAME</td>\n",
       "      <td>RITESH</td>\n",
       "    </tr>\n",
       "    <tr>\n",
       "      <th>1</th>\n",
       "      <td>EMAILID</td>\n",
       "      <td>RRITESH.TIWAIR</td>\n",
       "    </tr>\n",
       "    <tr>\n",
       "      <th>2</th>\n",
       "      <td>CELL NUMBER</td>\n",
       "      <td>9040398286</td>\n",
       "    </tr>\n",
       "    <tr>\n",
       "      <th>3</th>\n",
       "      <td>CURRENT DESIGNATION</td>\n",
       "      <td>ENGINNER</td>\n",
       "    </tr>\n",
       "    <tr>\n",
       "      <th>4</th>\n",
       "      <td>DOMAIN</td>\n",
       "      <td>KEPCOKPS</td>\n",
       "    </tr>\n",
       "    <tr>\n",
       "      <th>5</th>\n",
       "      <td>LOCATION</td>\n",
       "      <td>BRAJRAJNAGAR</td>\n",
       "    </tr>\n",
       "  </tbody>\n",
       "</table>\n",
       "</div>"
      ],
      "text/plain": [
       "               DETAILS          RITESH\n",
       "0                 NAME          RITESH\n",
       "1              EMAILID  RRITESH.TIWAIR\n",
       "2          CELL NUMBER      9040398286\n",
       "3  CURRENT DESIGNATION        ENGINNER\n",
       "4               DOMAIN        KEPCOKPS\n",
       "5             LOCATION    BRAJRAJNAGAR"
      ]
     },
     "execution_count": 16,
     "metadata": {},
     "output_type": "execute_result"
    }
   ],
   "source": [
    "import pandas as pd\n",
    "data=pd.DataFrame({'DETAILS':['NAME','EMAILID','CELL NUMBER','CURRENT DESIGNATION','DOMAIN','LOCATION'],'RITESH':['RITESH','rritesh.tiwari@gmail.com',9040398286,'ENGINEER','KEPCOKPS','BRAJRAJNAGAR']})\n",
    "data"
   ]
  },
  {
   "cell_type": "code",
   "execution_count": 18,
   "metadata": {},
   "outputs": [
    {
     "data": {
      "text/html": [
       "<div>\n",
       "<style scoped>\n",
       "    .dataframe tbody tr th:only-of-type {\n",
       "        vertical-align: middle;\n",
       "    }\n",
       "\n",
       "    .dataframe tbody tr th {\n",
       "        vertical-align: top;\n",
       "    }\n",
       "\n",
       "    .dataframe thead th {\n",
       "        text-align: right;\n",
       "    }\n",
       "</style>\n",
       "<table border=\"1\" class=\"dataframe\">\n",
       "  <thead>\n",
       "    <tr style=\"text-align: right;\">\n",
       "      <th></th>\n",
       "      <th>Details</th>\n",
       "      <th>Chandrika</th>\n",
       "      <th>JOY</th>\n",
       "      <th>Anilsharma</th>\n",
       "      <th>RITESH</th>\n",
       "    </tr>\n",
       "  </thead>\n",
       "  <tbody>\n",
       "    <tr>\n",
       "      <th>0</th>\n",
       "      <td>Name</td>\n",
       "      <td>Chandrika</td>\n",
       "      <td>JOY CHOUDHURY</td>\n",
       "      <td>anil</td>\n",
       "      <td>RITESH</td>\n",
       "    </tr>\n",
       "    <tr>\n",
       "      <th>1</th>\n",
       "      <td>Email_id</td>\n",
       "      <td>chandrika3772@gmail.com</td>\n",
       "      <td>joy2kcentury@gmail.com</td>\n",
       "      <td>anilsharmam@hotmail.com</td>\n",
       "      <td>ritish.tiwiari@gmail.com</td>\n",
       "    </tr>\n",
       "    <tr>\n",
       "      <th>2</th>\n",
       "      <td>Cell_Number</td>\n",
       "      <td>8977245972</td>\n",
       "      <td>+91 9853566499</td>\n",
       "      <td>9010464464</td>\n",
       "      <td>9040398286</td>\n",
       "    </tr>\n",
       "    <tr>\n",
       "      <th>3</th>\n",
       "      <td>Current_Designation</td>\n",
       "      <td>Student</td>\n",
       "      <td>Engineer</td>\n",
       "      <td>Finance consultant</td>\n",
       "      <td>Engineer</td>\n",
       "    </tr>\n",
       "    <tr>\n",
       "      <th>4</th>\n",
       "      <td>Domain</td>\n",
       "      <td>Information Systems and Business Analytics</td>\n",
       "      <td>Industrial Automation</td>\n",
       "      <td>Project Management-finance</td>\n",
       "      <td>KEPCOKPS</td>\n",
       "    </tr>\n",
       "    <tr>\n",
       "      <th>5</th>\n",
       "      <td>Location</td>\n",
       "      <td>United States</td>\n",
       "      <td>Odisha</td>\n",
       "      <td>Hyderabad</td>\n",
       "      <td>Odisha</td>\n",
       "    </tr>\n",
       "  </tbody>\n",
       "</table>\n",
       "</div>"
      ],
      "text/plain": [
       "               Details                                   Chandrika  \\\n",
       "0                 Name                                   Chandrika   \n",
       "1             Email_id                     chandrika3772@gmail.com   \n",
       "2          Cell_Number                                  8977245972   \n",
       "3  Current_Designation                                     Student   \n",
       "4               Domain  Information Systems and Business Analytics   \n",
       "5             Location                               United States   \n",
       "\n",
       "                      JOY                  Anilsharma  \\\n",
       "0           JOY CHOUDHURY                        anil   \n",
       "1  joy2kcentury@gmail.com     anilsharmam@hotmail.com   \n",
       "2          +91 9853566499                  9010464464   \n",
       "3                Engineer          Finance consultant   \n",
       "4   Industrial Automation  Project Management-finance   \n",
       "5                  Odisha                   Hyderabad   \n",
       "\n",
       "                     RITESH  \n",
       "0                    RITESH  \n",
       "1  ritish.tiwiari@gmail.com  \n",
       "2                9040398286  \n",
       "3                  Engineer  \n",
       "4                  KEPCOKPS  \n",
       "5                    Odisha  "
      ]
     },
     "execution_count": 18,
     "metadata": {},
     "output_type": "execute_result"
    }
   ],
   "source": [
    "# creation of sample table \n",
    "stu_df = pd.DataFrame({'Details': ['Name', 'Email_id', 'Cell_Number', 'Current_Designation', 'Domain', 'Location'],\n",
    "                       'Chandrika':['Chandrika', 'chandrika3772@gmail.com', '8977245972', 'Student', 'Information Systems and Business Analytics', 'United States'],\n",
    "'JOY':['JOY CHOUDHURY', 'joy2kcentury@gmail.com','+91 9853566499', 'Engineer', 'Industrial Automation', 'Odisha'],'Anilsharma':['anil', 'anilsharmam@hotmail.com', '9010464464', 'Finance consultant', 'Project Management-finance', 'Hyderabad'],'RITESH':['RITESH','ritish.tiwiari@gmail.com',9040398286,'Engineer','KEPCOKPS','Odisha']})\n",
    "stu_df"
   ]
  },
  {
   "cell_type": "code",
   "execution_count": 51,
   "metadata": {},
   "outputs": [
    {
     "ename": "TypeError",
     "evalue": "cannot do slice indexing on <class 'pandas.core.indexes.range.RangeIndex'> with these indexers [RITESH] of <class 'str'>",
     "output_type": "error",
     "traceback": [
      "\u001b[1;31m---------------------------------------------------------------------------\u001b[0m",
      "\u001b[1;31mTypeError\u001b[0m                                 Traceback (most recent call last)",
      "\u001b[1;32m<ipython-input-51-87e035f4c9fc>\u001b[0m in \u001b[0;36m<module>\u001b[1;34m\u001b[0m\n\u001b[1;32m----> 1\u001b[1;33m \u001b[0mstu_df\u001b[0m\u001b[1;33m[\u001b[0m\u001b[1;34m'RITESH'\u001b[0m\u001b[1;33m:\u001b[0m\u001b[1;34m'JOY'\u001b[0m\u001b[1;33m]\u001b[0m\u001b[1;33m\u001b[0m\u001b[1;33m\u001b[0m\u001b[0m\n\u001b[0m\u001b[0;32m      2\u001b[0m \u001b[1;33m\u001b[0m\u001b[0m\n\u001b[0;32m      3\u001b[0m \u001b[1;33m\u001b[0m\u001b[0m\n\u001b[0;32m      4\u001b[0m \u001b[1;33m\u001b[0m\u001b[0m\n",
      "\u001b[1;32mE:\\anaconda\\lib\\site-packages\\pandas\\core\\frame.py\u001b[0m in \u001b[0;36m__getitem__\u001b[1;34m(self, key)\u001b[0m\n\u001b[0;32m   2906\u001b[0m \u001b[1;33m\u001b[0m\u001b[0m\n\u001b[0;32m   2907\u001b[0m         \u001b[1;31m# Do we have a slicer (on rows)?\u001b[0m\u001b[1;33m\u001b[0m\u001b[1;33m\u001b[0m\u001b[1;33m\u001b[0m\u001b[0m\n\u001b[1;32m-> 2908\u001b[1;33m         \u001b[0mindexer\u001b[0m \u001b[1;33m=\u001b[0m \u001b[0mconvert_to_index_sliceable\u001b[0m\u001b[1;33m(\u001b[0m\u001b[0mself\u001b[0m\u001b[1;33m,\u001b[0m \u001b[0mkey\u001b[0m\u001b[1;33m)\u001b[0m\u001b[1;33m\u001b[0m\u001b[1;33m\u001b[0m\u001b[0m\n\u001b[0m\u001b[0;32m   2909\u001b[0m         \u001b[1;32mif\u001b[0m \u001b[0mindexer\u001b[0m \u001b[1;32mis\u001b[0m \u001b[1;32mnot\u001b[0m \u001b[1;32mNone\u001b[0m\u001b[1;33m:\u001b[0m\u001b[1;33m\u001b[0m\u001b[1;33m\u001b[0m\u001b[0m\n\u001b[0;32m   2910\u001b[0m             \u001b[1;32mreturn\u001b[0m \u001b[0mself\u001b[0m\u001b[1;33m.\u001b[0m\u001b[0m_slice\u001b[0m\u001b[1;33m(\u001b[0m\u001b[0mindexer\u001b[0m\u001b[1;33m,\u001b[0m \u001b[0maxis\u001b[0m\u001b[1;33m=\u001b[0m\u001b[1;36m0\u001b[0m\u001b[1;33m)\u001b[0m\u001b[1;33m\u001b[0m\u001b[1;33m\u001b[0m\u001b[0m\n",
      "\u001b[1;32mE:\\anaconda\\lib\\site-packages\\pandas\\core\\indexing.py\u001b[0m in \u001b[0;36mconvert_to_index_sliceable\u001b[1;34m(obj, key)\u001b[0m\n\u001b[0;32m   2454\u001b[0m     \u001b[0midx\u001b[0m \u001b[1;33m=\u001b[0m \u001b[0mobj\u001b[0m\u001b[1;33m.\u001b[0m\u001b[0mindex\u001b[0m\u001b[1;33m\u001b[0m\u001b[1;33m\u001b[0m\u001b[0m\n\u001b[0;32m   2455\u001b[0m     \u001b[1;32mif\u001b[0m \u001b[0misinstance\u001b[0m\u001b[1;33m(\u001b[0m\u001b[0mkey\u001b[0m\u001b[1;33m,\u001b[0m \u001b[0mslice\u001b[0m\u001b[1;33m)\u001b[0m\u001b[1;33m:\u001b[0m\u001b[1;33m\u001b[0m\u001b[1;33m\u001b[0m\u001b[0m\n\u001b[1;32m-> 2456\u001b[1;33m         \u001b[1;32mreturn\u001b[0m \u001b[0midx\u001b[0m\u001b[1;33m.\u001b[0m\u001b[0m_convert_slice_indexer\u001b[0m\u001b[1;33m(\u001b[0m\u001b[0mkey\u001b[0m\u001b[1;33m,\u001b[0m \u001b[0mkind\u001b[0m\u001b[1;33m=\u001b[0m\u001b[1;34m'getitem'\u001b[0m\u001b[1;33m)\u001b[0m\u001b[1;33m\u001b[0m\u001b[1;33m\u001b[0m\u001b[0m\n\u001b[0m\u001b[0;32m   2457\u001b[0m \u001b[1;33m\u001b[0m\u001b[0m\n\u001b[0;32m   2458\u001b[0m     \u001b[1;32melif\u001b[0m \u001b[0misinstance\u001b[0m\u001b[1;33m(\u001b[0m\u001b[0mkey\u001b[0m\u001b[1;33m,\u001b[0m \u001b[0mcompat\u001b[0m\u001b[1;33m.\u001b[0m\u001b[0mstring_types\u001b[0m\u001b[1;33m)\u001b[0m\u001b[1;33m:\u001b[0m\u001b[1;33m\u001b[0m\u001b[1;33m\u001b[0m\u001b[0m\n",
      "\u001b[1;32mE:\\anaconda\\lib\\site-packages\\pandas\\core\\indexes\\base.py\u001b[0m in \u001b[0;36m_convert_slice_indexer\u001b[1;34m(self, key, kind)\u001b[0m\n\u001b[0;32m   2926\u001b[0m             \"\"\"\n\u001b[0;32m   2927\u001b[0m             \u001b[1;32mif\u001b[0m \u001b[0mself\u001b[0m\u001b[1;33m.\u001b[0m\u001b[0mis_integer\u001b[0m\u001b[1;33m(\u001b[0m\u001b[1;33m)\u001b[0m \u001b[1;32mor\u001b[0m \u001b[0mis_index_slice\u001b[0m\u001b[1;33m:\u001b[0m\u001b[1;33m\u001b[0m\u001b[1;33m\u001b[0m\u001b[0m\n\u001b[1;32m-> 2928\u001b[1;33m                 return slice(self._validate_indexer('slice', key.start, kind),\n\u001b[0m\u001b[0;32m   2929\u001b[0m                              \u001b[0mself\u001b[0m\u001b[1;33m.\u001b[0m\u001b[0m_validate_indexer\u001b[0m\u001b[1;33m(\u001b[0m\u001b[1;34m'slice'\u001b[0m\u001b[1;33m,\u001b[0m \u001b[0mkey\u001b[0m\u001b[1;33m.\u001b[0m\u001b[0mstop\u001b[0m\u001b[1;33m,\u001b[0m \u001b[0mkind\u001b[0m\u001b[1;33m)\u001b[0m\u001b[1;33m,\u001b[0m\u001b[1;33m\u001b[0m\u001b[1;33m\u001b[0m\u001b[0m\n\u001b[0;32m   2930\u001b[0m                              self._validate_indexer('slice', key.step, kind))\n",
      "\u001b[1;32mE:\\anaconda\\lib\\site-packages\\pandas\\core\\indexes\\base.py\u001b[0m in \u001b[0;36m_validate_indexer\u001b[1;34m(self, form, key, kind)\u001b[0m\n\u001b[0;32m   4708\u001b[0m             \u001b[1;32mpass\u001b[0m\u001b[1;33m\u001b[0m\u001b[1;33m\u001b[0m\u001b[0m\n\u001b[0;32m   4709\u001b[0m         \u001b[1;32melif\u001b[0m \u001b[0mkind\u001b[0m \u001b[1;32min\u001b[0m \u001b[1;33m[\u001b[0m\u001b[1;34m'iloc'\u001b[0m\u001b[1;33m,\u001b[0m \u001b[1;34m'getitem'\u001b[0m\u001b[1;33m]\u001b[0m\u001b[1;33m:\u001b[0m\u001b[1;33m\u001b[0m\u001b[1;33m\u001b[0m\u001b[0m\n\u001b[1;32m-> 4710\u001b[1;33m             \u001b[0mself\u001b[0m\u001b[1;33m.\u001b[0m\u001b[0m_invalid_indexer\u001b[0m\u001b[1;33m(\u001b[0m\u001b[0mform\u001b[0m\u001b[1;33m,\u001b[0m \u001b[0mkey\u001b[0m\u001b[1;33m)\u001b[0m\u001b[1;33m\u001b[0m\u001b[1;33m\u001b[0m\u001b[0m\n\u001b[0m\u001b[0;32m   4711\u001b[0m         \u001b[1;32mreturn\u001b[0m \u001b[0mkey\u001b[0m\u001b[1;33m\u001b[0m\u001b[1;33m\u001b[0m\u001b[0m\n\u001b[0;32m   4712\u001b[0m \u001b[1;33m\u001b[0m\u001b[0m\n",
      "\u001b[1;32mE:\\anaconda\\lib\\site-packages\\pandas\\core\\indexes\\base.py\u001b[0m in \u001b[0;36m_invalid_indexer\u001b[1;34m(self, form, key)\u001b[0m\n\u001b[0;32m   3065\u001b[0m                         \"indexers [{key}] of {kind}\".format(\n\u001b[0;32m   3066\u001b[0m                             \u001b[0mform\u001b[0m\u001b[1;33m=\u001b[0m\u001b[0mform\u001b[0m\u001b[1;33m,\u001b[0m \u001b[0mklass\u001b[0m\u001b[1;33m=\u001b[0m\u001b[0mtype\u001b[0m\u001b[1;33m(\u001b[0m\u001b[0mself\u001b[0m\u001b[1;33m)\u001b[0m\u001b[1;33m,\u001b[0m \u001b[0mkey\u001b[0m\u001b[1;33m=\u001b[0m\u001b[0mkey\u001b[0m\u001b[1;33m,\u001b[0m\u001b[1;33m\u001b[0m\u001b[1;33m\u001b[0m\u001b[0m\n\u001b[1;32m-> 3067\u001b[1;33m                             kind=type(key)))\n\u001b[0m\u001b[0;32m   3068\u001b[0m \u001b[1;33m\u001b[0m\u001b[0m\n\u001b[0;32m   3069\u001b[0m     \u001b[1;31m# --------------------------------------------------------------------\u001b[0m\u001b[1;33m\u001b[0m\u001b[1;33m\u001b[0m\u001b[1;33m\u001b[0m\u001b[0m\n",
      "\u001b[1;31mTypeError\u001b[0m: cannot do slice indexing on <class 'pandas.core.indexes.range.RangeIndex'> with these indexers [RITESH] of <class 'str'>"
     ]
    }
   ],
   "source": [
    "stu_df['RITESH','JOY']\n",
    "    \n",
    "    \n",
    "    "
   ]
  },
  {
   "cell_type": "code",
   "execution_count": 44,
   "metadata": {},
   "outputs": [
    {
     "data": {
      "text/plain": [
       "[3, 1]"
      ]
     },
     "execution_count": 44,
     "metadata": {},
     "output_type": "execute_result"
    }
   ],
   "source": [
    "mydict = {'one': 1, 'two': 2, 'three': 3}\n",
    "mykeys = ['three', 'one']\n",
    "[mydict[x] for x in mykeys]\n"
   ]
  },
  {
   "cell_type": "code",
   "execution_count": null,
   "metadata": {},
   "outputs": [],
   "source": []
  }
 ],
 "metadata": {
  "kernelspec": {
   "display_name": "Python 3",
   "language": "python",
   "name": "python3"
  },
  "language_info": {
   "codemirror_mode": {
    "name": "ipython",
    "version": 3
   },
   "file_extension": ".py",
   "mimetype": "text/x-python",
   "name": "python",
   "nbconvert_exporter": "python",
   "pygments_lexer": "ipython3",
   "version": "3.7.3"
  }
 },
 "nbformat": 4,
 "nbformat_minor": 2
}
