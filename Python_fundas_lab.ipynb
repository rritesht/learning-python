{
 "cells": [
  {
   "cell_type": "code",
   "execution_count": 2,
   "metadata": {},
   "outputs": [],
   "source": [
    "\n",
    "# Loading all teh 4 datasets into the environment \n",
    "\n",
    "with open(r\"C:\\Users\\anilkumar\\Full_Cource\\Python_for_data_sceince\\data_python/brent.txt\") as f:\n",
    "    brent = f.read().splitlines()\n",
    "    \n",
    "    \n",
    "with open(r\"C:\\Users\\anilkumar\\Full_Cource\\Python_for_data_sceince\\data_python/camden.txt\", 'r') as f:\n",
    "    camden = f.read().splitlines()\n",
    "    \n",
    "with open(r\"C:\\Users\\anilkumar\\Full_Cource\\Python_for_data_sceince\\data_python/redbridge.txt\", 'r') as f:\n",
    "    redbridge = f.read().splitlines()\n",
    "    \n",
    "with open(r\"C:\\Users\\anilkumar\\Full_Cource\\Python_for_data_sceince\\data_python/southwark.txt\", 'r') as f:\n",
    "    southwark = f.read().splitlines()"
   ]
  },
  {
   "cell_type": "code",
   "execution_count": 5,
   "metadata": {},
   "outputs": [
    {
     "name": "stdout",
     "output_type": "stream",
     "text": [
      "['Brent Park', 'Church End', 'Dollis Hill', 'Harlesden', 'Kensal Green', 'Kingsbury', 'Neasden', 'Preston', \"Queen's Park\", 'Tokyngton', 'Wembley', 'Wembley Park', 'Willesden', 'Park Royal', 'Kenton', 'Kilburn', 'Sudbury', 'Brondesbury', 'Alperton']\n",
      "___________________________________________________________________\n",
      "['Chalk Farm', 'Dartmouth Park', 'Fitzrovia', 'Frognal', 'Bloomsbury', 'Gospel Oak', 'Hampstead', 'Highgate', 'Holborn', 'Kentish Town', 'Gospel Oak', 'Primrose Hill', 'Somerstown', 'St Giles', 'St Pancras', 'Swiss Cottage', 'West Hampstead', \"King's Cross\", 'Somerstown', 'Belsize Park', 'Bloomsbury', 'Camden Town']\n",
      "___________________________________________________________________\n",
      "['Chadwell Heath', 'Gants Hill', 'Goodmayes', 'Snaresbrook', 'Hainault', 'Ilford', 'Loxford', 'Newbury Park', 'Hainault', 'Redbridge', 'Seven Kings', 'South Woodford', 'Wanstead', 'Woodford', 'Woodford Green', 'Snaresbrook', 'Aldborough Hatch', 'Barkingside']\n",
      "___________________________________________________________________\n",
      "['Denmark Hill', 'Dulwich', 'Surrey Quays', 'East Dulwich', 'Elephant and Castle', 'Newington', 'Nunhead', 'Peckham', 'Rotherhithe', 'Surrey Quays', 'Nunhead', 'Walworth', 'Bermondsey', 'Camberwell', 'Bankside']\n"
     ]
    }
   ],
   "source": [
    "# displaying all the 4 regions along with it's locations\n",
    "\n",
    "print(brent)\n",
    "\n",
    "print(\"___________________________________________________________________\")\n",
    "\n",
    "print(camden)\n",
    "\n",
    "print(\"___________________________________________________________________\")\n",
    "\n",
    "print(redbridge)\n",
    "\n",
    "print(\"___________________________________________________________________\")\n",
    "\n",
    "print(southwark)"
   ]
  },
  {
   "cell_type": "code",
   "execution_count": 21,
   "metadata": {},
   "outputs": [
    {
     "name": "stdout",
     "output_type": "stream",
     "text": [
      "Length of --> 0 : 19\n",
      "Duplicates presence : False\n",
      "['Brent Park', 'Church End', 'Dollis Hill', 'Harlesden', 'Kensal Green', 'Kingsbury', 'Neasden', 'Preston', \"Queen's Park\", 'Tokyngton', 'Wembley', 'Wembley Park', 'Willesden', 'Park Royal', 'Kenton', 'Kilburn', 'Sudbury', 'Brondesbury', 'Alperton']\n",
      "___________________________________________________________________________________________\n",
      "Length of --> 1 : 22\n",
      "Duplicates presence : True\n",
      "['Chalk Farm', 'Dartmouth Park', 'Fitzrovia', 'Frognal', 'Bloomsbury', 'Gospel Oak', 'Hampstead', 'Highgate', 'Holborn', 'Kentish Town', 'Gospel Oak', 'Primrose Hill', 'Somerstown', 'St Giles', 'St Pancras', 'Swiss Cottage', 'West Hampstead', \"King's Cross\", 'Somerstown', 'Belsize Park', 'Bloomsbury', 'Camden Town']\n",
      "___________________________________________________________________________________________\n",
      "Length of --> 2 : 18\n",
      "Duplicates presence : True\n",
      "['Chadwell Heath', 'Gants Hill', 'Goodmayes', 'Snaresbrook', 'Hainault', 'Ilford', 'Loxford', 'Newbury Park', 'Hainault', 'Redbridge', 'Seven Kings', 'South Woodford', 'Wanstead', 'Woodford', 'Woodford Green', 'Snaresbrook', 'Aldborough Hatch', 'Barkingside']\n",
      "___________________________________________________________________________________________\n",
      "Length of --> 3 : 15\n",
      "Duplicates presence : True\n",
      "['Denmark Hill', 'Dulwich', 'Surrey Quays', 'East Dulwich', 'Elephant and Castle', 'Newington', 'Nunhead', 'Peckham', 'Rotherhithe', 'Surrey Quays', 'Nunhead', 'Walworth', 'Bermondsey', 'Camberwell', 'Bankside']\n",
      "___________________________________________________________________________________________\n"
     ]
    }
   ],
   "source": [
    "# way_2\n",
    "\n",
    "locs = [brent,camden,redbridge,southwark]\n",
    "\n",
    "for var in locs:\n",
    "    print(\"Length of -->\",locs.index(var),\":\",(len(var)))\n",
    "    print(\"Duplicates presence : {}\".format(len(var)>len(set(var))))\n",
    "    print(var)\n",
    "    print(\"___________________________________________________________________________________________\")"
   ]
  },
  {
   "cell_type": "code",
   "execution_count": 14,
   "metadata": {},
   "outputs": [],
   "source": [
    "# lists\n",
    "\n",
    "b = [1,2,3,4]\n",
    "c = [4,5,6,7,8]\n",
    "d = [0,1,2,3,4]\n",
    "e = [2,3,4,5,6]\n",
    "\n",
    "a = [b,c,d,e]"
   ]
  },
  {
   "cell_type": "code",
   "execution_count": 15,
   "metadata": {},
   "outputs": [
    {
     "data": {
      "text/plain": [
       "list"
      ]
     },
     "execution_count": 15,
     "metadata": {},
     "output_type": "execute_result"
    }
   ],
   "source": [
    "type(a)"
   ]
  },
  {
   "cell_type": "code",
   "execution_count": 16,
   "metadata": {},
   "outputs": [
    {
     "data": {
      "text/plain": [
       "[[1, 2, 3, 4], [4, 5, 6, 7, 8], [0, 1, 2, 3, 4], [2, 3, 4, 5, 6]]"
      ]
     },
     "execution_count": 16,
     "metadata": {},
     "output_type": "execute_result"
    }
   ],
   "source": [
    "a"
   ]
  },
  {
   "cell_type": "code",
   "execution_count": 17,
   "metadata": {},
   "outputs": [
    {
     "data": {
      "text/plain": [
       "[['Brent Park',\n",
       "  'Church End',\n",
       "  'Dollis Hill',\n",
       "  'Harlesden',\n",
       "  'Kensal Green',\n",
       "  'Kingsbury',\n",
       "  'Neasden',\n",
       "  'Preston',\n",
       "  \"Queen's Park\",\n",
       "  'Tokyngton',\n",
       "  'Wembley',\n",
       "  'Wembley Park',\n",
       "  'Willesden',\n",
       "  'Park Royal',\n",
       "  'Kenton',\n",
       "  'Kilburn',\n",
       "  'Sudbury',\n",
       "  'Brondesbury',\n",
       "  'Alperton'],\n",
       " ['Chalk Farm',\n",
       "  'Dartmouth Park',\n",
       "  'Fitzrovia',\n",
       "  'Frognal',\n",
       "  'Bloomsbury',\n",
       "  'Gospel Oak',\n",
       "  'Hampstead',\n",
       "  'Highgate',\n",
       "  'Holborn',\n",
       "  'Kentish Town',\n",
       "  'Gospel Oak',\n",
       "  'Primrose Hill',\n",
       "  'Somerstown',\n",
       "  'St Giles',\n",
       "  'St Pancras',\n",
       "  'Swiss Cottage',\n",
       "  'West Hampstead',\n",
       "  \"King's Cross\",\n",
       "  'Somerstown',\n",
       "  'Belsize Park',\n",
       "  'Bloomsbury',\n",
       "  'Camden Town'],\n",
       " ['Chadwell Heath',\n",
       "  'Gants Hill',\n",
       "  'Goodmayes',\n",
       "  'Snaresbrook',\n",
       "  'Hainault',\n",
       "  'Ilford',\n",
       "  'Loxford',\n",
       "  'Newbury Park',\n",
       "  'Hainault',\n",
       "  'Redbridge',\n",
       "  'Seven Kings',\n",
       "  'South Woodford',\n",
       "  'Wanstead',\n",
       "  'Woodford',\n",
       "  'Woodford Green',\n",
       "  'Snaresbrook',\n",
       "  'Aldborough Hatch',\n",
       "  'Barkingside'],\n",
       " ['Denmark Hill',\n",
       "  'Dulwich',\n",
       "  'Surrey Quays',\n",
       "  'East Dulwich',\n",
       "  'Elephant and Castle',\n",
       "  'Newington',\n",
       "  'Nunhead',\n",
       "  'Peckham',\n",
       "  'Rotherhithe',\n",
       "  'Surrey Quays',\n",
       "  'Nunhead',\n",
       "  'Walworth',\n",
       "  'Bermondsey',\n",
       "  'Camberwell',\n",
       "  'Bankside']]"
      ]
     },
     "execution_count": 17,
     "metadata": {},
     "output_type": "execute_result"
    }
   ],
   "source": [
    "locs"
   ]
  },
  {
   "cell_type": "code",
   "execution_count": 26,
   "metadata": {},
   "outputs": [
    {
     "name": "stdout",
     "output_type": "stream",
     "text": [
      "4 It is Duplicate 3\n",
      "5 It is Duplicate 2\n",
      "6 It is Duplicate 3\n",
      "6 It is Duplicate 3\n",
      "4 It is Duplicate 3\n",
      "6 It is Duplicate 3\n",
      "4 It is Duplicate 3\n",
      "5 It is Duplicate 2\n"
     ]
    }
   ],
   "source": [
    "# To identify duplicate elements in a list and to display those count as well as those names & \n",
    "# how many times thgose are repeted? and their index locations\n",
    "\n",
    "#1. how many duplicates are there ?\n",
    "#2. What are the duplicates?\n",
    "#3. count of individual duplicates?\n",
    "#4. location of duplicate elements?\n",
    "\n",
    "b = [4,5,6,7,8,6,4,3,6,4,5]\n",
    "\n",
    "for var in b:\n",
    "    if b.count(var)>1:\n",
    "        print(var, \"It is Duplicate\",b.count(var))"
   ]
  },
  {
   "cell_type": "code",
   "execution_count": 52,
   "metadata": {},
   "outputs": [],
   "source": [
    "\n",
    "# it will extract unique values from the list\n",
    "\n",
    "def unique_list_extraction(b):\n",
    "    b_1 = []\n",
    "    for var in b:\n",
    "        if var not in b_1:\n",
    "            b_1.append(var)\n",
    "    return b_1\n",
    "        "
   ]
  },
  {
   "cell_type": "code",
   "execution_count": 58,
   "metadata": {},
   "outputs": [
    {
     "name": "stdout",
     "output_type": "stream",
     "text": [
      "Length of : 19\n",
      "Length of : 19\n",
      "Length of : 16\n",
      "Length of : 13\n"
     ]
    }
   ],
   "source": [
    "# how to extract count of unique elements with help of loop\n",
    "locs = [brent,camden,redbridge,southwark]\n",
    "for var in locs:\n",
    "    \n",
    "    print(\"Count of unique locations in {}:\",len(unique_list_extraction(var)))"
   ]
  },
  {
   "cell_type": "code",
   "execution_count": 60,
   "metadata": {},
   "outputs": [
    {
     "data": {
      "text/plain": [
       "\"['Denmark Hill', 'Dulwich', 'Surrey Quays', 'East Dulwich', 'Elephant and Castle', 'Newington', 'Nunhead', 'Peckham', 'Rotherhithe', 'Surrey Quays', 'Nunhead', 'Walworth', 'Bermondsey', 'Camberwell', 'Bankside']\""
      ]
     },
     "execution_count": 60,
     "metadata": {},
     "output_type": "execute_result"
    }
   ],
   "source": [
    "str(var)"
   ]
  },
  {
   "cell_type": "code",
   "execution_count": null,
   "metadata": {},
   "outputs": [],
   "source": [
    "# len()\n",
    "# type()\n",
    "# .index()\n",
    "# .append()\n",
    "# .format()\n",
    "# in\n",
    "# not in \n",
    "# count()\n"
   ]
  },
  {
   "cell_type": "code",
   "execution_count": 12,
   "metadata": {},
   "outputs": [
    {
     "name": "stdout",
     "output_type": "stream",
     "text": [
      "19\n",
      "22\n",
      "18\n",
      "15\n"
     ]
    }
   ],
   "source": [
    "# After delting duplicates keep the same name to 4 locations\n",
    "\n",
    "locs = [brent,camden,redbridge,southwark]\n",
    "\n",
    "for var in locs:\n",
    "    print(len(var))"
   ]
  },
  {
   "cell_type": "code",
   "execution_count": 10,
   "metadata": {},
   "outputs": [
    {
     "name": "stdout",
     "output_type": "stream",
     "text": [
      "19\n",
      "19\n",
      "16\n",
      "13\n"
     ]
    }
   ],
   "source": [
    "# After delting duplicates keep the same name to 4 locations\n",
    "\n",
    "locs = [brent,camden,redbridge,southwark]\n",
    "\n",
    "for var in locs:\n",
    "    var = list(set(var))\n",
    "    print(len(var))\n",
    "\n",
    " "
   ]
  },
  {
   "cell_type": "code",
   "execution_count": 13,
   "metadata": {},
   "outputs": [],
   "source": [
    "# After delting duplicates and keeping with trhe same name\n",
    "\n",
    "brent= list(set(brent))\n",
    "camden = list(set(camden))\n",
    "redbridge= list(set(redbridge))\n",
    "southwark = list(set(southwark))"
   ]
  },
  {
   "cell_type": "code",
   "execution_count": 14,
   "metadata": {},
   "outputs": [
    {
     "name": "stdout",
     "output_type": "stream",
     "text": [
      "19\n",
      "19\n",
      "16\n",
      "13\n"
     ]
    }
   ],
   "source": [
    "# After delting duplicates\n",
    "\n",
    "locs = [brent,camden,redbridge,southwark]\n",
    "\n",
    "for var in locs:\n",
    "    print(len(var))"
   ]
  },
  {
   "cell_type": "code",
   "execution_count": 61,
   "metadata": {},
   "outputs": [
    {
     "ename": "IndentationError",
     "evalue": "unexpected indent (<ipython-input-61-a7a2e8b449b4>, line 5)",
     "output_type": "error",
     "traceback": [
      "\u001b[1;36m  File \u001b[1;32m\"<ipython-input-61-a7a2e8b449b4>\"\u001b[1;36m, line \u001b[1;32m5\u001b[0m\n\u001b[1;33m    =\u001b[0m\n\u001b[1;37m    ^\u001b[0m\n\u001b[1;31mIndentationError\u001b[0m\u001b[1;31m:\u001b[0m unexpected indent\n"
     ]
    }
   ],
   "source": [
    "# create a dictionary of this 4 locations with First letter with capital and name will be the same \n",
    "\n",
    "dict_1 = {key : value}\n",
    "\n",
    "       = {'Brent': brent}"
   ]
  },
  {
   "cell_type": "code",
   "execution_count": 15,
   "metadata": {},
   "outputs": [],
   "source": [
    "# creating a dictionary locations\n",
    "\n",
    "locations = {\"Brent\":brent,\"Camden\":camden,\"Redbridge\":redbridge,\"southwark\":southwark}"
   ]
  },
  {
   "cell_type": "code",
   "execution_count": 16,
   "metadata": {},
   "outputs": [
    {
     "data": {
      "text/plain": [
       "dict_keys(['Brent', 'Camden', 'Redbridge', 'southwark'])"
      ]
     },
     "execution_count": 16,
     "metadata": {},
     "output_type": "execute_result"
    }
   ],
   "source": [
    "locations.keys()"
   ]
  },
  {
   "cell_type": "code",
   "execution_count": 17,
   "metadata": {},
   "outputs": [
    {
     "data": {
      "text/plain": [
       "dict_values([['Church End', 'Kingsbury', 'Sudbury', 'Alperton', 'Brondesbury', 'Kenton', 'Wembley', 'Dollis Hill', 'Kilburn', 'Brent Park', \"Queen's Park\", 'Wembley Park', 'Park Royal', 'Harlesden', 'Willesden', 'Kensal Green', 'Preston', 'Tokyngton', 'Neasden'], [\"King's Cross\", 'Primrose Hill', 'Somerstown', 'Dartmouth Park', 'Highgate', 'Belsize Park', 'Bloomsbury', 'Hampstead', 'West Hampstead', 'St Giles', 'Camden Town', 'Kentish Town', 'Fitzrovia', 'Holborn', 'Swiss Cottage', 'St Pancras', 'Chalk Farm', 'Frognal', 'Gospel Oak'], ['Gants Hill', 'Hainault', 'South Woodford', 'Aldborough Hatch', 'Loxford', 'Newbury Park', 'Redbridge', 'Barkingside', 'Ilford', 'Woodford Green', 'Seven Kings', 'Woodford', 'Chadwell Heath', 'Snaresbrook', 'Goodmayes', 'Wanstead'], ['Nunhead', 'Bankside', 'Bermondsey', 'Elephant and Castle', 'Camberwell', 'Dulwich', 'Rotherhithe', 'East Dulwich', 'Denmark Hill', 'Newington', 'Peckham', 'Surrey Quays', 'Walworth']])"
      ]
     },
     "execution_count": 17,
     "metadata": {},
     "output_type": "execute_result"
    }
   ],
   "source": [
    "locations.values()"
   ]
  },
  {
   "cell_type": "code",
   "execution_count": 19,
   "metadata": {},
   "outputs": [
    {
     "data": {
      "text/plain": [
       "dict_items([('Brent', ['Church End', 'Kingsbury', 'Sudbury', 'Alperton', 'Brondesbury', 'Kenton', 'Wembley', 'Dollis Hill', 'Kilburn', 'Brent Park', \"Queen's Park\", 'Wembley Park', 'Park Royal', 'Harlesden', 'Willesden', 'Kensal Green', 'Preston', 'Tokyngton', 'Neasden']), ('Camden', [\"King's Cross\", 'Primrose Hill', 'Somerstown', 'Dartmouth Park', 'Highgate', 'Belsize Park', 'Bloomsbury', 'Hampstead', 'West Hampstead', 'St Giles', 'Camden Town', 'Kentish Town', 'Fitzrovia', 'Holborn', 'Swiss Cottage', 'St Pancras', 'Chalk Farm', 'Frognal', 'Gospel Oak']), ('Redbridge', ['Gants Hill', 'Hainault', 'South Woodford', 'Aldborough Hatch', 'Loxford', 'Newbury Park', 'Redbridge', 'Barkingside', 'Ilford', 'Woodford Green', 'Seven Kings', 'Woodford', 'Chadwell Heath', 'Snaresbrook', 'Goodmayes', 'Wanstead']), ('southwark', ['Nunhead', 'Bankside', 'Bermondsey', 'Elephant and Castle', 'Camberwell', 'Dulwich', 'Rotherhithe', 'East Dulwich', 'Denmark Hill', 'Newington', 'Peckham', 'Surrey Quays', 'Walworth'])])"
      ]
     },
     "execution_count": 19,
     "metadata": {},
     "output_type": "execute_result"
    }
   ],
   "source": [
    "locations.items()"
   ]
  },
  {
   "cell_type": "code",
   "execution_count": 23,
   "metadata": {},
   "outputs": [
    {
     "name": "stdout",
     "output_type": "stream",
     "text": [
      "Length of Brent is :19\n",
      "Length of Camden is :19\n",
      "Length of Redbridge is :16\n",
      "Length of southwark is :13\n"
     ]
    }
   ],
   "source": [
    "# looping inside to the dictionary\n",
    "\n",
    "for a,b in locations.items():\n",
    "    print(\"Length of {} is :{}\".format(a,len(b)))"
   ]
  },
  {
   "cell_type": "code",
   "execution_count": null,
   "metadata": {},
   "outputs": [],
   "source": [
    "# you need to add these below two into locations with the specified names\n",
    "\n",
    "# Inner_london  = camden + southwark\n",
    "# Outer_london  = brent + redbridge\n",
    "\n",
    "# number of locations in all 6 regions need to print with help of loop\n",
    "\n",
    "# by using conditional statment need to find from where i need to start my toure{more locs is my choice}"
   ]
  }
 ],
 "metadata": {
  "kernelspec": {
   "display_name": "Python 3",
   "language": "python",
   "name": "python3"
  },
  "language_info": {
   "codemirror_mode": {
    "name": "ipython",
    "version": 3
   },
   "file_extension": ".py",
   "mimetype": "text/x-python",
   "name": "python",
   "nbconvert_exporter": "python",
   "pygments_lexer": "ipython3",
   "version": "3.7.3"
  }
 },
 "nbformat": 4,
 "nbformat_minor": 2
}
