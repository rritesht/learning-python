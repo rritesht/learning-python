{
 "cells": [
  {
   "cell_type": "code",
   "execution_count": null,
   "metadata": {},
   "outputs": [],
   "source": [
    "cell/emty cell"
   ]
  },
  {
   "cell_type": "code",
   "execution_count": null,
   "metadata": {},
   "outputs": [],
   "source": [
    "cell 2 modes :\n",
    "                1. Edit mode      -- Green   {if curser is present  ->current} \n",
    "                2. Command mode   -- Blue    {no curser in the cell}"
   ]
  },
  {
   "cell_type": "code",
   "execution_count": null,
   "metadata": {},
   "outputs": [],
   "source": [
    "Cell type \"code\"  -->  In []  drop down ->code"
   ]
  },
  {
   "cell_type": "code",
   "execution_count": null,
   "metadata": {},
   "outputs": [],
   "source": [
    "why we are using cell ? to write a python code"
   ]
  },
  {
   "cell_type": "code",
   "execution_count": 1,
   "metadata": {},
   "outputs": [
    {
     "data": {
      "text/plain": [
       "5"
      ]
     },
     "execution_count": 1,
     "metadata": {},
     "output_type": "execute_result"
    }
   ],
   "source": [
    "2+3  # code cell/ code chunk "
   ]
  },
  {
   "cell_type": "code",
   "execution_count": 5,
   "metadata": {},
   "outputs": [
    {
     "data": {
      "text/plain": [
       "34"
      ]
     },
     "execution_count": 5,
     "metadata": {},
     "output_type": "execute_result"
    }
   ],
   "source": [
    "23+11  # shift + Enter"
   ]
  },
  {
   "cell_type": "code",
   "execution_count": 6,
   "metadata": {},
   "outputs": [
    {
     "data": {
      "text/plain": [
       "33"
      ]
     },
     "execution_count": 6,
     "metadata": {},
     "output_type": "execute_result"
    }
   ],
   "source": [
    "11+22  # Ctrl + enter"
   ]
  },
  {
   "cell_type": "code",
   "execution_count": null,
   "metadata": {},
   "outputs": [],
   "source": [
    "To execute a code :\n",
    "    \n",
    "    1. Rub Button\n",
    "    2. Shift + Enter  ->  Along with execution it will add new column under the current cell\n",
    "    3. Ctrl + Enter   ->  It executes code only."
   ]
  },
  {
   "cell_type": "code",
   "execution_count": null,
   "metadata": {},
   "outputs": [],
   "source": [
    "# to add a new cell above current cell"
   ]
  },
  {
   "cell_type": "code",
   "execution_count": null,
   "metadata": {},
   "outputs": [],
   "source": [
    "To add new cells:\n",
    "    \n",
    "    1. When we executed code with {Shift +Enter} one column will form under the current cell.\n",
    "    2. Tool bar  need to click on the  \"+\"\n",
    "    3. To add new cell above the current cell Esc + A {Above}\n",
    "    4. To add new cell below the current cell Esc + B {Below}"
   ]
  },
  {
   "cell_type": "code",
   "execution_count": null,
   "metadata": {},
   "outputs": [],
   "source": [
    "To delete a cell :\n",
    "    \n",
    "    We need top keep cursor on the cell which we want to delete and Esc +DD/dd"
   ]
  },
  {
   "cell_type": "markdown",
   "metadata": {},
   "source": [
    "\n",
    "\n",
    "To change code cell to mark down      -> Esc + M\n",
    "\n",
    "To change Markdown cell to code cell  -> Esc + y"
   ]
  },
  {
   "cell_type": "markdown",
   "metadata": {},
   "source": [
    "if you want to make notes what you need to do -> change to markdown(Esc +M)\n",
    "\n",
    "Headings  -> We have 5 types of headings\n",
    "\n",
    "# Heading1\n",
    "## Heading2\n",
    "### Heading3\n",
    "#### Heading4\n",
    "##### Heading5\n",
    " \n",
    " \n",
    "**Hi this is Bold**\n",
    "\n",
    "***Hi this is Italic***"
   ]
  },
  {
   "cell_type": "markdown",
   "metadata": {},
   "source": [
    "# <font color='red'> This is used for different colors</font>\n",
    "## <font color='blue'> This is used for different colors</font>\n",
    "### <font color='pink'> This is used for different colors</font>\n",
    "#### <font color='yellow'> This is used for different colors</font>\n",
    "##### <font color='red'> This is used for different colors</font>\n",
    "\n",
    "**<font color='black'> This is used for different colors</font>**\n",
    "\n",
    "***<font color='pink'> This is used for different colors</font>***"
   ]
  },
  {
   "cell_type": "markdown",
   "metadata": {},
   "source": [
    "# Python Introduction"
   ]
  },
  {
   "cell_type": "markdown",
   "metadata": {},
   "source": [
    "1. Python is a general purpose high level programming language.\n",
    "\n",
    "2. Python was devoloped by Guido Van Rossam in 1989 while he working at National research institute at Netherlands.\n",
    "\n",
    "3. But officially python was made avilable to public in 1991. {feb 20 th 1991}\n",
    "\n",
    "4. Python is recomenmded as a first programming language to all levels.\n",
    "\n",
    "5. THe name \"Python was taken from tv Show \" The complete Monty Pyhton Circus\" -BBC (1969 -1974)\n",
    "\n",
    "6. Guido Devoloped Python language by taking almost all programming features from different languages.\n",
    "\n",
    "    1. FUnctional programming features from c\n",
    "    \n",
    "    2. Object oriented programming Features from C++\n",
    "    \n",
    "    3. Scripting Language Features from peral and shell script\n",
    "    \n",
    "    4. Modular programming Features from Modula-3\n",
    "    \n",
    "    5. Most of the syntax in python language derived from C and ABC Languages."
   ]
  },
  {
   "cell_type": "markdown",
   "metadata": {},
   "source": [
    "# Where we can use Python?"
   ]
  },
  {
   "cell_type": "markdown",
   "metadata": {},
   "source": [
    "we can use Python everywhere. the most common important application areas are:\n",
    "\n",
    "    1. For devolop desktop Applications\n",
    "    2. Devolop Web based applications\n",
    "    3. For devolop Data base applications\n",
    "    4. For Network programming.\n",
    "    5. To devolop Games\n",
    "    6. For Data Analaysis\n",
    "    7. For data sceince Implimentations\n",
    "    8. For Machine Learning\n",
    "    9. To devolop Artificial Intelligence applications.\n",
    "    10. For IOT (Internet of things)\n",
    "    \n",
    "    Goggle/Youtube, NASA, Stock Exchange applications also devoloped by python\n",
    "    "
   ]
  },
  {
   "cell_type": "markdown",
   "metadata": {},
   "source": [
    "# Features of Python:"
   ]
  },
  {
   "cell_type": "markdown",
   "metadata": {},
   "source": [
    "1. Simple and Easy To learn:\n",
    "---------------------------\n",
    "      \n",
    "      a) Python is simple programming language. When we are reading Python Program, we can feel like reading engliash statments.\n",
    "      \n",
    "      b) The syntaxes are very simple and we have only 30 + Keywords.\n",
    "      \n",
    "      c) When compared with the other languages, we can write programs with very less number of lines. more readability and simplicity.\n",
    "      \n",
    "      d) We can reduce devolopment and cost of the project."
   ]
  },
  {
   "cell_type": "markdown",
   "metadata": {},
   "source": [
    "2. Freeware and open Source:\n",
    "----------------------------\n",
    "\n",
    "    a) we can use python software without any licence and it is freeware.\n",
    "    \n",
    "    b) Its source code is open, so that we can customise based on our requirments.\n",
    "    \n",
    "    eg : Jython is customised version of python to work with java applications.\n",
    "    \n",
    "    "
   ]
  },
  {
   "cell_type": "markdown",
   "metadata": {},
   "source": [
    "3. High Level Programming Language:\n",
    "-----------------------------------\n",
    "\n",
    "    a) It is a Programmer friendly language.\n",
    "    \n",
    "    b) Being a programmer we are not required to concentrate low lwvwl activities like  memory managment and security etc..\n"
   ]
  },
  {
   "cell_type": "markdown",
   "metadata": {},
   "source": [
    "4. Platform Independent:\n",
    "-----------------------\n",
    "\n",
    "    a) Once we write a python Program, it can run on any platform with out rewritting once again.\n",
    "    \n",
    "    b) Internally PVM(Python virtual machine) is responsible to convert into machine understandable form."
   ]
  },
  {
   "cell_type": "markdown",
   "metadata": {},
   "source": [
    "5. Portability:\n",
    "--------------\n",
    "\n",
    "    a) Python Programs are portable. ie we can migrate from one platform to another platform very easyly. Python programs will provide same results on any platform."
   ]
  },
  {
   "cell_type": "markdown",
   "metadata": {},
   "source": [
    "6. Dynamically Typed:\n",
    "--------------------\n",
    "\n",
    "    a) In python we are not required to declare type of variables. whenever we are assigning the value, based on value, type will be allocated automatically, because of this reason Python is called as Dynamically typed language.\n",
    "    \n",
    "    b) This dynamic typing nature will provide more flexibility to the programmer."
   ]
  },
  {
   "cell_type": "markdown",
   "metadata": {},
   "source": [
    "7. Both Proceduare oriented and Object oriented:\n",
    "------------------------------------------------\n",
    "\n",
    "    Python language supports both prodcedure oriented(c, pascal, etc.) object oriented(C++, Java) feature. Hence we cacn get benfits of both like security and reusability etc.."
   ]
  },
  {
   "cell_type": "markdown",
   "metadata": {},
   "source": [
    "8. Interpreted:\n",
    "---------------\n",
    "\n",
    "    a) We are not required to compile python programs explicitly. Internally Python interpreter will take care that compilation.\n",
    "    \n",
    "    b) If compilation fails interpreted raised syntax error. Once compilation success then PVM  is responsible to execute."
   ]
  },
  {
   "cell_type": "markdown",
   "metadata": {},
   "source": [
    "9. Extensible:\n",
    "--------------\n",
    "\n",
    "    a) We can use other language programs in pyhton.\n",
    "    \n",
    "    b) The main advantage of this approach are :\n",
    "    \n",
    "            1. We can use already existing lagacy non - python code.\n",
    "            \n",
    "            2. we can improve the performance of the application.\n",
    "    "
   ]
  },
  {
   "cell_type": "markdown",
   "metadata": {},
   "source": [
    "10. Embeddded:\n",
    "--------------\n",
    "\n",
    "    a) We can use python programs in any other language programs.\n",
    "    \n",
    "    b) We can embedded pyhton programs anywhere."
   ]
  },
  {
   "cell_type": "markdown",
   "metadata": {},
   "source": [
    "11. Extensive Library:\n",
    "---------------------\n",
    "\n",
    "    a) Python has a rich inbuilt library\n",
    "    \n",
    "    b) Being a programer we can use this library directly and we are not responsible to implement the functionality.. etc.."
   ]
  },
  {
   "cell_type": "markdown",
   "metadata": {},
   "source": [
    "# Limitations of Python"
   ]
  },
  {
   "cell_type": "markdown",
   "metadata": {},
   "source": [
    "1. Performance wise not upto the mark because it is interpreted language.\n",
    "\n",
    "2. Not using for mobile applications."
   ]
  },
  {
   "cell_type": "markdown",
   "metadata": {},
   "source": [
    "# Flavors of Python"
   ]
  },
  {
   "cell_type": "markdown",
   "metadata": {},
   "source": [
    "1. CPython : It is the standard flaovor of python. it can be worked with c alanguage application.\n",
    "\n",
    "2. jython Or JPython : It is for java Application. It can run on JVM.\n",
    "\n",
    "3. Iron Python:  It is for C#.net platform\n",
    "\n",
    "4. PyPy: The main advantage of PyPy is Performance will be improved JIT(Just in Time) compiler is avilable inside PVM.\n",
    "\n",
    "5. RubyPython : For Ruby Platforms.\n",
    "\n",
    "6. Anaconda Python: It is Specially designed for handling large volume of data processing."
   ]
  },
  {
   "cell_type": "markdown",
   "metadata": {},
   "source": [
    "# Python Versions:"
   ]
  },
  {
   "cell_type": "markdown",
   "metadata": {},
   "source": [
    "Python 1.0 v - jan 1994\n",
    "\n",
    "Python 2.0 V - Oct 2000\n",
    "\n",
    "Python 3.0 V - Dec 2008\n",
    "\n",
    "\n",
    "Note: Python 3 wont provide backward compatibility to python 2, there is no guarntee that python 2 programs will run in Pyhton 3\n",
    "\n",
    "Current version: Python 3.6.1  or 3.7.2/5/6"
   ]
  },
  {
   "cell_type": "code",
   "execution_count": 1,
   "metadata": {},
   "outputs": [],
   "source": [
    "\n",
    "class Calc:\n",
    "    def  add(a,b): return a + b\n",
    "    def  minus(a,b): return a - b\n",
    "    \n",
    "    \n",
    "\n",
    "\n",
    "\n",
    "\n",
    "    \n"
   ]
  },
  {
   "cell_type": "code",
   "execution_count": 2,
   "metadata": {},
   "outputs": [
    {
     "name": "stdout",
     "output_type": "stream",
     "text": [
      "-1\n"
     ]
    }
   ],
   "source": [
    "\n",
    "print(Calc.add(2,3))"
   ]
  },
  {
   "cell_type": "code",
   "execution_count": null,
   "metadata": {},
   "outputs": [],
   "source": []
  },
  {
   "cell_type": "code",
   "execution_count": null,
   "metadata": {},
   "outputs": [],
   "source": []
  },
  {
   "cell_type": "code",
   "execution_count": null,
   "metadata": {},
   "outputs": [],
   "source": []
  },
  {
   "cell_type": "code",
   "execution_count": null,
   "metadata": {},
   "outputs": [],
   "source": []
  },
  {
   "cell_type": "code",
   "execution_count": null,
   "metadata": {},
   "outputs": [],
   "source": []
  }
 ],
 "metadata": {
  "kernelspec": {
   "display_name": "Python 3",
   "language": "python",
   "name": "python3"
  },
  "language_info": {
   "codemirror_mode": {
    "name": "ipython",
    "version": 3
   },
   "file_extension": ".py",
   "mimetype": "text/x-python",
   "name": "python",
   "nbconvert_exporter": "python",
   "pygments_lexer": "ipython3",
   "version": "3.7.3"
  }
 },
 "nbformat": 4,
 "nbformat_minor": 2
}
