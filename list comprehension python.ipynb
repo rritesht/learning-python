{
 "cells": [
  {
   "cell_type": "code",
   "execution_count": 1,
   "metadata": {},
   "outputs": [
    {
     "data": {
      "text/plain": [
       "[0, 1, 2, 3, 4, 5, 6, 7, 8, 9]"
      ]
     },
     "execution_count": 1,
     "metadata": {},
     "output_type": "execute_result"
    }
   ],
   "source": [
    "num=[num for num in range(10)]\n",
    "num"
   ]
  },
  {
   "cell_type": "code",
   "execution_count": 3,
   "metadata": {},
   "outputs": [
    {
     "data": {
      "text/plain": [
       "['even',\n",
       " 'odd',\n",
       " 'even',\n",
       " 'odd',\n",
       " 'even',\n",
       " 'odd',\n",
       " 'even',\n",
       " 'odd',\n",
       " 'even',\n",
       " 'odd',\n",
       " 'even']"
      ]
     },
     "execution_count": 3,
     "metadata": {},
     "output_type": "execute_result"
    }
   ],
   "source": [
    "ram=['even' if num%2==0 else 'odd' for num in range (11)]\n",
    "ram"
   ]
  },
  {
   "cell_type": "code",
   "execution_count": 4,
   "metadata": {},
   "outputs": [
    {
     "data": {
      "text/plain": [
       "['r', 'i', 't', 'e', 's', 'h']"
      ]
     },
     "execution_count": 4,
     "metadata": {},
     "output_type": "execute_result"
    }
   ],
   "source": [
    "letter=[i for i in 'ritesh']\n",
    "letter"
   ]
  },
  {
   "cell_type": "code",
   "execution_count": 7,
   "metadata": {},
   "outputs": [
    {
     "data": {
      "text/plain": [
       "[0, 2, 4, 6, 8]"
      ]
     },
     "execution_count": 7,
     "metadata": {},
     "output_type": "execute_result"
    }
   ],
   "source": [
    "r=[x for x in range(10) if x%2==0]\n",
    "r"
   ]
  },
  {
   "cell_type": "code",
   "execution_count": 11,
   "metadata": {},
   "outputs": [
    {
     "data": {
      "text/plain": [
       "[0, 10, 20, 30, 40, 50, 60, 70, 80, 90, 100]"
      ]
     },
     "execution_count": 11,
     "metadata": {},
     "output_type": "execute_result"
    }
   ],
   "source": [
    "num_list=[y for y in range(110) if y %2==0 if y % 5==0]\n",
    "num_list"
   ]
  },
  {
   "cell_type": "code",
   "execution_count": 13,
   "metadata": {},
   "outputs": [
    {
     "name": "stdout",
     "output_type": "stream",
     "text": [
      "0\n",
      "10\n",
      "20\n",
      "30\n",
      "40\n",
      "50\n",
      "60\n",
      "70\n",
      "80\n",
      "90\n"
     ]
    }
   ],
   "source": [
    "num=range(100)\n",
    "for i in num:\n",
    "    if i%2==0:\n",
    "        if i%5==0:\n",
    "            print(i)\n",
    "            \n",
    "        \n",
    "        "
   ]
  },
  {
   "cell_type": "code",
   "execution_count": 14,
   "metadata": {},
   "outputs": [
    {
     "name": "stdout",
     "output_type": "stream",
     "text": [
      "[[1, 4], [2, 5], [3, 6], [4, 8]]\n"
     ]
    }
   ],
   "source": [
    "transposed = []\n",
    "matrix = [[1, 2, 3, 4], [4, 5, 6, 8]]\n",
    "\n",
    "for i in range(len(matrix[0])):\n",
    "    transposed_row = []\n",
    "\n",
    "    for row in matrix:\n",
    "        transposed_row.append(row[i])\n",
    "    transposed.append(transposed_row)\n",
    "\n",
    "print(transposed)\n",
    "\n",
    "#Output: [[1, 4], [2, 5], [3, 6]]"
   ]
  },
  {
   "cell_type": "code",
   "execution_count": 15,
   "metadata": {},
   "outputs": [
    {
     "data": {
      "text/plain": [
       "[]"
      ]
     },
     "execution_count": 15,
     "metadata": {},
     "output_type": "execute_result"
    }
   ],
   "source": [
    "matrix = [[1, 2, 3, 4], [4, 5, 6, 8]]\n",
    "\n",
    "for i in range(len(matrix[0])):\n",
    "    transposed_row = []\n",
    "   \n"
   ]
  },
  {
   "cell_type": "code",
   "execution_count": 16,
   "metadata": {},
   "outputs": [
    {
     "name": "stdout",
     "output_type": "stream",
     "text": [
      "[[1, 3, 5, 7], [2, 4, 6, 8]]\n"
     ]
    }
   ],
   "source": [
    "matrix = [[1, 2], [3,4], [5,6], [7,8]]\n",
    "transpose = [[row[i] for row in matrix] for i in range(2)]\n",
    "print (transpose)"
   ]
  },
  {
   "cell_type": "code",
   "execution_count": 18,
   "metadata": {},
   "outputs": [
    {
     "data": {
      "text/plain": [
       "[1, 3, 5, 7, 9]"
      ]
     },
     "execution_count": 18,
     "metadata": {},
     "output_type": "execute_result"
    }
   ],
   "source": [
    "bb=[a for a in range(1,11,2)]\n",
    "bb"
   ]
  },
  {
   "cell_type": "code",
   "execution_count": 20,
   "metadata": {},
   "outputs": [
    {
     "data": {
      "text/plain": [
       "[0, 1]"
      ]
     },
     "execution_count": 20,
     "metadata": {},
     "output_type": "execute_result"
    }
   ],
   "source": [
    "w=[s for s in range(2)]\n",
    "w"
   ]
  },
  {
   "cell_type": "code",
   "execution_count": 22,
   "metadata": {},
   "outputs": [
    {
     "data": {
      "text/plain": [
       "[100, 1000, 10000, 400, 8000, 160000, 900, 27000, 810000]"
      ]
     },
     "execution_count": 22,
     "metadata": {},
     "output_type": "execute_result"
    }
   ],
   "source": [
    "#using list comprehension\n",
    "number=[x**y for x in [10,20,30] for y in [2,3,4]]\n",
    "number"
   ]
  },
  {
   "cell_type": "code",
   "execution_count": 23,
   "metadata": {},
   "outputs": [
    {
     "name": "stdout",
     "output_type": "stream",
     "text": [
      "100\n",
      "1000\n",
      "10000\n",
      "400\n",
      "8000\n",
      "160000\n",
      "900\n",
      "27000\n",
      "810000\n"
     ]
    }
   ],
   "source": [
    "# using for loop\n",
    "a=[10,20,30]\n",
    "b=[2,3,4]\n",
    "for i in a:\n",
    "    for g in b:\n",
    "        print(i**g)"
   ]
  },
  {
   "cell_type": "code",
   "execution_count": 52,
   "metadata": {},
   "outputs": [
    {
     "data": {
      "text/plain": [
       "[[1, '*', 1, '=', 1],\n",
       " [1, '*', 2, '=', 2],\n",
       " [1, '*', 3, '=', 3],\n",
       " [1, '*', 4, '=', 4],\n",
       " [1, '*', 5, '=', 5],\n",
       " [1, '*', 6, '=', 6],\n",
       " [1, '*', 7, '=', 7],\n",
       " [1, '*', 8, '=', 8],\n",
       " [1, '*', 9, '=', 9],\n",
       " [1, '*', 10, '=', 10],\n",
       " [2, '*', 1, '=', 2],\n",
       " [2, '*', 2, '=', 4],\n",
       " [2, '*', 3, '=', 6],\n",
       " [2, '*', 4, '=', 8],\n",
       " [2, '*', 5, '=', 10],\n",
       " [2, '*', 6, '=', 12],\n",
       " [2, '*', 7, '=', 14],\n",
       " [2, '*', 8, '=', 16],\n",
       " [2, '*', 9, '=', 18],\n",
       " [2, '*', 10, '=', 20],\n",
       " [3, '*', 1, '=', 3],\n",
       " [3, '*', 2, '=', 6],\n",
       " [3, '*', 3, '=', 9],\n",
       " [3, '*', 4, '=', 12],\n",
       " [3, '*', 5, '=', 15],\n",
       " [3, '*', 6, '=', 18],\n",
       " [3, '*', 7, '=', 21],\n",
       " [3, '*', 8, '=', 24],\n",
       " [3, '*', 9, '=', 27],\n",
       " [3, '*', 10, '=', 30],\n",
       " [4, '*', 1, '=', 4],\n",
       " [4, '*', 2, '=', 8],\n",
       " [4, '*', 3, '=', 12],\n",
       " [4, '*', 4, '=', 16],\n",
       " [4, '*', 5, '=', 20],\n",
       " [4, '*', 6, '=', 24],\n",
       " [4, '*', 7, '=', 28],\n",
       " [4, '*', 8, '=', 32],\n",
       " [4, '*', 9, '=', 36],\n",
       " [4, '*', 10, '=', 40],\n",
       " [5, '*', 1, '=', 5],\n",
       " [5, '*', 2, '=', 10],\n",
       " [5, '*', 3, '=', 15],\n",
       " [5, '*', 4, '=', 20],\n",
       " [5, '*', 5, '=', 25],\n",
       " [5, '*', 6, '=', 30],\n",
       " [5, '*', 7, '=', 35],\n",
       " [5, '*', 8, '=', 40],\n",
       " [5, '*', 9, '=', 45],\n",
       " [5, '*', 10, '=', 50],\n",
       " [6, '*', 1, '=', 6],\n",
       " [6, '*', 2, '=', 12],\n",
       " [6, '*', 3, '=', 18],\n",
       " [6, '*', 4, '=', 24],\n",
       " [6, '*', 5, '=', 30],\n",
       " [6, '*', 6, '=', 36],\n",
       " [6, '*', 7, '=', 42],\n",
       " [6, '*', 8, '=', 48],\n",
       " [6, '*', 9, '=', 54],\n",
       " [6, '*', 10, '=', 60],\n",
       " [7, '*', 1, '=', 7],\n",
       " [7, '*', 2, '=', 14],\n",
       " [7, '*', 3, '=', 21],\n",
       " [7, '*', 4, '=', 28],\n",
       " [7, '*', 5, '=', 35],\n",
       " [7, '*', 6, '=', 42],\n",
       " [7, '*', 7, '=', 49],\n",
       " [7, '*', 8, '=', 56],\n",
       " [7, '*', 9, '=', 63],\n",
       " [7, '*', 10, '=', 70],\n",
       " [8, '*', 1, '=', 8],\n",
       " [8, '*', 2, '=', 16],\n",
       " [8, '*', 3, '=', 24],\n",
       " [8, '*', 4, '=', 32],\n",
       " [8, '*', 5, '=', 40],\n",
       " [8, '*', 6, '=', 48],\n",
       " [8, '*', 7, '=', 56],\n",
       " [8, '*', 8, '=', 64],\n",
       " [8, '*', 9, '=', 72],\n",
       " [8, '*', 10, '=', 80],\n",
       " [9, '*', 1, '=', 9],\n",
       " [9, '*', 2, '=', 18],\n",
       " [9, '*', 3, '=', 27],\n",
       " [9, '*', 4, '=', 36],\n",
       " [9, '*', 5, '=', 45],\n",
       " [9, '*', 6, '=', 54],\n",
       " [9, '*', 7, '=', 63],\n",
       " [9, '*', 8, '=', 72],\n",
       " [9, '*', 9, '=', 81],\n",
       " [9, '*', 10, '=', 90],\n",
       " [10, '*', 1, '=', 10],\n",
       " [10, '*', 2, '=', 20],\n",
       " [10, '*', 3, '=', 30],\n",
       " [10, '*', 4, '=', 40],\n",
       " [10, '*', 5, '=', 50],\n",
       " [10, '*', 6, '=', 60],\n",
       " [10, '*', 7, '=', 70],\n",
       " [10, '*', 8, '=', 80],\n",
       " [10, '*', 9, '=', 90],\n",
       " [10, '*', 10, '=', 100]]"
      ]
     },
     "execution_count": 52,
     "metadata": {},
     "output_type": "execute_result"
    }
   ],
   "source": [
    "dd=[[x,'*', y ,'=',x*y] for x in range(1,11) for y in range(1,11)]\n",
    "dd"
   ]
  },
  {
   "cell_type": "code",
   "execution_count": 57,
   "metadata": {},
   "outputs": [
    {
     "data": {
      "text/plain": [
       "9"
      ]
     },
     "execution_count": 57,
     "metadata": {},
     "output_type": "execute_result"
    }
   ],
   "source": [
    "m1=[[1,2,3],[4,5,6],[7,8,9]]\n",
    "m2=[[9,8,7],[6,5,4],[3,2,1]]\n",
    "m1[2][2]\n"
   ]
  },
  {
   "cell_type": "code",
   "execution_count": 58,
   "metadata": {},
   "outputs": [
    {
     "data": {
      "text/plain": [
       "[3, 6, 9]"
      ]
     },
     "execution_count": 58,
     "metadata": {},
     "output_type": "execute_result"
    }
   ],
   "source": [
    "m=[x[2] for x in m1 ]\n",
    "m"
   ]
  },
  {
   "cell_type": "code",
   "execution_count": 60,
   "metadata": {},
   "outputs": [
    {
     "data": {
      "text/plain": [
       "[0, 2, 4, 6, 8]"
      ]
     },
     "execution_count": 60,
     "metadata": {},
     "output_type": "execute_result"
    }
   ],
   "source": [
    "resulte=[]\n",
    "for x in range(10):\n",
    "    if x%2==0:\n",
    "        resulte.append(x)\n",
    "resulte"
   ]
  },
  {
   "cell_type": "code",
   "execution_count": 62,
   "metadata": {},
   "outputs": [
    {
     "data": {
      "text/plain": [
       "[0, 2, 4, 6, 8]"
      ]
     },
     "execution_count": 62,
     "metadata": {},
     "output_type": "execute_result"
    }
   ],
   "source": [
    "ee=[i for i in range(10) if i%2==0] \n",
    "ee"
   ]
  },
  {
   "cell_type": "code",
   "execution_count": 64,
   "metadata": {},
   "outputs": [
    {
     "name": "stdout",
     "output_type": "stream",
     "text": [
      "['s', 'h', 'a', 'r', 'k']\n"
     ]
    }
   ],
   "source": [
    "shark_letters = [letter for letter in 'shark']\n",
    "print(shark_letters)"
   ]
  },
  {
   "cell_type": "code",
   "execution_count": 76,
   "metadata": {},
   "outputs": [
    {
     "data": {
      "text/plain": [
       "['rohit', 'ram', 'syam']"
      ]
     },
     "execution_count": 76,
     "metadata": {},
     "output_type": "execute_result"
    }
   ],
   "source": [
    "ram=('rohit','ram','syam','gopi')\n",
    "w=[name for name in ram if name !='gopi']\n",
    "w"
   ]
  },
  {
   "cell_type": "code",
   "execution_count": 74,
   "metadata": {},
   "outputs": [
    {
     "name": "stdout",
     "output_type": "stream",
     "text": [
      "['blowfish', 'clownfish', 'octopus']\n"
     ]
    }
   ],
   "source": [
    "fish_tuple = ('blowfish', 'clownfish', 'catfish', 'octopus')\n",
    "\n",
    "fish_list = [fish for fish in fish_tuple if fish != 'catfish']\n",
    "print(fish_list)"
   ]
  },
  {
   "cell_type": "code",
   "execution_count": 75,
   "metadata": {},
   "outputs": [
    {
     "data": {
      "text/plain": [
       "['a', 'b']"
      ]
     },
     "execution_count": 75,
     "metadata": {},
     "output_type": "execute_result"
    }
   ],
   "source": [
    "ro=('a','b','c')\n",
    "ff=[i for i in ro if i != 'c']\n",
    "ff"
   ]
  },
  {
   "cell_type": "code",
   "execution_count": 77,
   "metadata": {},
   "outputs": [
    {
     "data": {
      "text/plain": [
       "[0, 6, 12, 18, 24, 30, 36, 42, 48, 54, 60, 66, 72, 78, 84, 90, 96]"
      ]
     },
     "execution_count": 77,
     "metadata": {},
     "output_type": "execute_result"
    }
   ],
   "source": [
    "q=[r for r in range(100) if r%2==0 if r%3==0]\n",
    "q"
   ]
  },
  {
   "cell_type": "code",
   "execution_count": 91,
   "metadata": {},
   "outputs": [
    {
     "name": "stdout",
     "output_type": "stream",
     "text": [
      "40\n",
      "60\n",
      "80\n",
      "60\n",
      "90\n",
      "120\n",
      "80\n",
      "120\n",
      "160\n"
     ]
    }
   ],
   "source": [
    "for x in [20,30,40]:\n",
    "    for y in [2,3,4]:\n",
    "        print(x*y)\n",
    "    \n",
    "        \n",
    "\n"
   ]
  },
  {
   "cell_type": "code",
   "execution_count": 79,
   "metadata": {},
   "outputs": [
    {
     "data": {
      "text/plain": [
       "[40, 60, 80, 60, 90, 120, 80, 120, 160]"
      ]
     },
     "execution_count": 79,
     "metadata": {},
     "output_type": "execute_result"
    }
   ],
   "source": [
    "ss=[w*t for w in [20,30,40] for t in [2,3,4]]\n",
    "ss"
   ]
  },
  {
   "cell_type": "code",
   "execution_count": 99,
   "metadata": {},
   "outputs": [
    {
     "data": {
      "text/plain": [
       "[0,\n",
       " 1,\n",
       " 1267650600228229401496703205376,\n",
       " 515377520732011331036461129765621272702107522001,\n",
       " 1606938044258990275541962092341162602522202993782792835301376,\n",
       " 7888609052210118054117285652827862296732064351090230047702789306640625,\n",
       " 653318623500070906096690267158057820537143710472954871543071966369497141477376,\n",
       " 3234476509624757991344647769100216810857203198904625400933895331391691459636928060001,\n",
       " 2037035976334486086268445688409378161051468393665936250636140449354381299763336706183397376,\n",
       " 265613988875874769338781322035779626829233452653394495974574961739092490901302182994384699044001,\n",
       " 10000000000000000000000000000000000000000000000000000000000000000000000000000000000000000000000000000,\n",
       " 137806123398222701841183371720896367762643312000384664331464775521549852095523076769401159497458526446001,\n",
       " 828179745220145502584084235957368498016122811853894435464201864103254919330121223037770283296858019385573376,\n",
       " 2479335110965972533511072884734865136238774467874941149812189099406158699837975560158285662939982180192171594001,\n",
       " 4100186088849932880529641652467097254580106752379202732219712635674892614660264830614790322190186581981413953765376,\n",
       " 4065611775352152373972797075670416710103878906323797634290517698787563831961701377171181093217455781996250152587890625,\n",
       " 2582249878086908589655919172003011874329705792829223512830659356540647622016841194629645353280137831435903171972747493376,\n",
       " 1108899372780783641306111715875094966436017167649879524402769841278887580501366697712424694256005093589248451503068397608001,\n",
       " 336705732427516898587460627772004697542605295316077247452351004740460372771448563031143507354757009822674618697405379563749376,\n",
       " 75051624198251984443456989853061891539043939434909537798332873934101480896578056472849915762891214746171016655874432115640378001]"
      ]
     },
     "execution_count": 99,
     "metadata": {},
     "output_type": "execute_result"
    }
   ],
   "source": [
    "harish=[j**100 for j in range(20)]\n",
    "harish"
   ]
  },
  {
   "cell_type": "code",
   "execution_count": 100,
   "metadata": {},
   "outputs": [
    {
     "data": {
      "text/plain": [
       "[1,\n",
       " 3,\n",
       " 5,\n",
       " 7,\n",
       " 9,\n",
       " 11,\n",
       " 13,\n",
       " 15,\n",
       " 17,\n",
       " 19,\n",
       " 21,\n",
       " 23,\n",
       " 25,\n",
       " 27,\n",
       " 29,\n",
       " 31,\n",
       " 33,\n",
       " 35,\n",
       " 37,\n",
       " 39,\n",
       " 41,\n",
       " 43,\n",
       " 45,\n",
       " 47,\n",
       " 49,\n",
       " 51,\n",
       " 53,\n",
       " 55,\n",
       " 57,\n",
       " 59,\n",
       " 61,\n",
       " 63,\n",
       " 65,\n",
       " 67,\n",
       " 69,\n",
       " 71,\n",
       " 73,\n",
       " 75,\n",
       " 77,\n",
       " 79,\n",
       " 81,\n",
       " 83,\n",
       " 85,\n",
       " 87,\n",
       " 89,\n",
       " 91,\n",
       " 93,\n",
       " 95,\n",
       " 97,\n",
       " 99]"
      ]
     },
     "execution_count": 100,
     "metadata": {},
     "output_type": "execute_result"
    }
   ],
   "source": [
    "vv=[r for r in range (1,100,2)]\n",
    "vv"
   ]
  },
  {
   "cell_type": "code",
   "execution_count": 105,
   "metadata": {},
   "outputs": [
    {
     "name": "stdout",
     "output_type": "stream",
     "text": [
      "[0, 1, 4, 9, 16, 25, 36, 49, 64, 81]\n",
      "[1, 2, 4, 8, 16, 32, 64, 128, 256, 512, 1024, 2048, 4096]\n",
      "[0, 4, 16, 36, 64]\n"
     ]
    }
   ],
   "source": [
    "S = [x**2 for x in range(10)]\n",
    "V = [2**i for i in range(13)]\n",
    "M = [x for x in S if x % 2 == 0]\n",
    "print(S)\n",
    "print(V)\n",
    "print(M)"
   ]
  },
  {
   "cell_type": "code",
   "execution_count": 5,
   "metadata": {},
   "outputs": [
    {
     "data": {
      "text/plain": [
       "[(1, '*', 1, '=', 1),\n",
       " (1, '*', 2, '=', 2),\n",
       " (1, '*', 3, '=', 3),\n",
       " (1, '*', 4, '=', 4),\n",
       " (1, '*', 5, '=', 5),\n",
       " (1, '*', 6, '=', 6),\n",
       " (1, '*', 7, '=', 7),\n",
       " (1, '*', 8, '=', 8),\n",
       " (1, '*', 9, '=', 9),\n",
       " (1, '*', 10, '=', 10),\n",
       " (2, '*', 1, '=', 2),\n",
       " (2, '*', 2, '=', 4),\n",
       " (2, '*', 3, '=', 6),\n",
       " (2, '*', 4, '=', 8),\n",
       " (2, '*', 5, '=', 10),\n",
       " (2, '*', 6, '=', 12),\n",
       " (2, '*', 7, '=', 14),\n",
       " (2, '*', 8, '=', 16),\n",
       " (2, '*', 9, '=', 18),\n",
       " (2, '*', 10, '=', 20),\n",
       " (3, '*', 1, '=', 3),\n",
       " (3, '*', 2, '=', 6),\n",
       " (3, '*', 3, '=', 9),\n",
       " (3, '*', 4, '=', 12),\n",
       " (3, '*', 5, '=', 15),\n",
       " (3, '*', 6, '=', 18),\n",
       " (3, '*', 7, '=', 21),\n",
       " (3, '*', 8, '=', 24),\n",
       " (3, '*', 9, '=', 27),\n",
       " (3, '*', 10, '=', 30),\n",
       " (4, '*', 1, '=', 4),\n",
       " (4, '*', 2, '=', 8),\n",
       " (4, '*', 3, '=', 12),\n",
       " (4, '*', 4, '=', 16),\n",
       " (4, '*', 5, '=', 20),\n",
       " (4, '*', 6, '=', 24),\n",
       " (4, '*', 7, '=', 28),\n",
       " (4, '*', 8, '=', 32),\n",
       " (4, '*', 9, '=', 36),\n",
       " (4, '*', 10, '=', 40),\n",
       " (5, '*', 1, '=', 5),\n",
       " (5, '*', 2, '=', 10),\n",
       " (5, '*', 3, '=', 15),\n",
       " (5, '*', 4, '=', 20),\n",
       " (5, '*', 5, '=', 25),\n",
       " (5, '*', 6, '=', 30),\n",
       " (5, '*', 7, '=', 35),\n",
       " (5, '*', 8, '=', 40),\n",
       " (5, '*', 9, '=', 45),\n",
       " (5, '*', 10, '=', 50),\n",
       " (6, '*', 1, '=', 6),\n",
       " (6, '*', 2, '=', 12),\n",
       " (6, '*', 3, '=', 18),\n",
       " (6, '*', 4, '=', 24),\n",
       " (6, '*', 5, '=', 30),\n",
       " (6, '*', 6, '=', 36),\n",
       " (6, '*', 7, '=', 42),\n",
       " (6, '*', 8, '=', 48),\n",
       " (6, '*', 9, '=', 54),\n",
       " (6, '*', 10, '=', 60),\n",
       " (7, '*', 1, '=', 7),\n",
       " (7, '*', 2, '=', 14),\n",
       " (7, '*', 3, '=', 21),\n",
       " (7, '*', 4, '=', 28),\n",
       " (7, '*', 5, '=', 35),\n",
       " (7, '*', 6, '=', 42),\n",
       " (7, '*', 7, '=', 49),\n",
       " (7, '*', 8, '=', 56),\n",
       " (7, '*', 9, '=', 63),\n",
       " (7, '*', 10, '=', 70),\n",
       " (8, '*', 1, '=', 8),\n",
       " (8, '*', 2, '=', 16),\n",
       " (8, '*', 3, '=', 24),\n",
       " (8, '*', 4, '=', 32),\n",
       " (8, '*', 5, '=', 40),\n",
       " (8, '*', 6, '=', 48),\n",
       " (8, '*', 7, '=', 56),\n",
       " (8, '*', 8, '=', 64),\n",
       " (8, '*', 9, '=', 72),\n",
       " (8, '*', 10, '=', 80),\n",
       " (9, '*', 1, '=', 9),\n",
       " (9, '*', 2, '=', 18),\n",
       " (9, '*', 3, '=', 27),\n",
       " (9, '*', 4, '=', 36),\n",
       " (9, '*', 5, '=', 45),\n",
       " (9, '*', 6, '=', 54),\n",
       " (9, '*', 7, '=', 63),\n",
       " (9, '*', 8, '=', 72),\n",
       " (9, '*', 9, '=', 81),\n",
       " (9, '*', 10, '=', 90),\n",
       " (10, '*', 1, '=', 10),\n",
       " (10, '*', 2, '=', 20),\n",
       " (10, '*', 3, '=', 30),\n",
       " (10, '*', 4, '=', 40),\n",
       " (10, '*', 5, '=', 50),\n",
       " (10, '*', 6, '=', 60),\n",
       " (10, '*', 7, '=', 70),\n",
       " (10, '*', 8, '=', 80),\n",
       " (10, '*', 9, '=', 90),\n",
       " (10, '*', 10, '=', 100)]"
      ]
     },
     "execution_count": 5,
     "metadata": {},
     "output_type": "execute_result"
    }
   ],
   "source": [
    "number=[(x,'*',y,'=',x*y) for x in range(1,11) for y in range(1,11)]\n",
    "number"
   ]
  },
  {
   "cell_type": "code",
   "execution_count": 8,
   "metadata": {},
   "outputs": [
    {
     "data": {
      "text/plain": [
       "{'a': 1, 'b': 2, 'c': 3, 'd': 5}"
      ]
     },
     "execution_count": 8,
     "metadata": {},
     "output_type": "execute_result"
    }
   ],
   "source": [
    "x={'a':1,'b':2}\n",
    "y={'c':3,'d':4,'d':5}\n",
    "z={**x,**y}\n",
    "z"
   ]
  },
  {
   "cell_type": "code",
   "execution_count": 11,
   "metadata": {},
   "outputs": [
    {
     "data": {
      "text/plain": [
       "[0, 2, 4, 6, 8]"
      ]
     },
     "execution_count": 11,
     "metadata": {},
     "output_type": "execute_result"
    }
   ],
   "source": [
    "dd=[c for c in range(10) if c%2==0]\n",
    "dd"
   ]
  },
  {
   "cell_type": "code",
   "execution_count": 30,
   "metadata": {},
   "outputs": [
    {
     "data": {
      "text/plain": [
       "[1, 2, 3, 4, 5, 6, 7, 8, 9, 10]"
      ]
     },
     "execution_count": 30,
     "metadata": {},
     "output_type": "execute_result"
    }
   ],
   "source": [
    "f=[1,2,3,4,5]\n",
    "g=[6,7,8,9,10]\n",
    "f.extend(g)\n",
    "f"
   ]
  },
  {
   "cell_type": "code",
   "execution_count": 45,
   "metadata": {},
   "outputs": [
    {
     "data": {
      "text/plain": [
       "30"
      ]
     },
     "execution_count": 45,
     "metadata": {},
     "output_type": "execute_result"
    }
   ],
   "source": [
    "squares = [1, 4, 9, 16]\n",
    "sum = 0\n",
    "for num in squares:\n",
    "    sum += num\n",
    "sum"
   ]
  },
  {
   "cell_type": "code",
   "execution_count": 62,
   "metadata": {},
   "outputs": [
    {
     "ename": "IndentationError",
     "evalue": "expected an indented block (<ipython-input-62-d3837df1cd46>, line 2)",
     "output_type": "error",
     "traceback": [
      "\u001b[1;36m  File \u001b[1;32m\"<ipython-input-62-d3837df1cd46>\"\u001b[1;36m, line \u001b[1;32m2\u001b[0m\n\u001b[1;33m    return (a+b)\u001b[0m\n\u001b[1;37m         ^\u001b[0m\n\u001b[1;31mIndentationError\u001b[0m\u001b[1;31m:\u001b[0m expected an indented block\n"
     ]
    }
   ],
   "source": [
    "def ram(a,b):\n",
    "return (a+b)\n",
    "print(ram(1,2))\n"
   ]
  },
  {
   "cell_type": "code",
   "execution_count": 64,
   "metadata": {},
   "outputs": [
    {
     "name": "stdout",
     "output_type": "stream",
     "text": [
      "26\n"
     ]
    }
   ],
   "source": [
    "def sum_1(a,b,c,d):\n",
    "    return (a+b+c+d)\n",
    "\n",
    "print(sum_1(5,6,7,8))"
   ]
  },
  {
   "cell_type": "code",
   "execution_count": 68,
   "metadata": {},
   "outputs": [
    {
     "name": "stdout",
     "output_type": "stream",
     "text": [
      "81\n"
     ]
    }
   ],
   "source": [
    "def sum_1(d):\n",
    "    return (d**2)\n",
    "\n",
    "print(sum_1(9))"
   ]
  }
 ],
 "metadata": {
  "kernelspec": {
   "display_name": "Python 3",
   "language": "python",
   "name": "python3"
  },
  "language_info": {
   "codemirror_mode": {
    "name": "ipython",
    "version": 3
   },
   "file_extension": ".py",
   "mimetype": "text/x-python",
   "name": "python",
   "nbconvert_exporter": "python",
   "pygments_lexer": "ipython3",
   "version": "3.7.3"
  }
 },
 "nbformat": 4,
 "nbformat_minor": 2
}
