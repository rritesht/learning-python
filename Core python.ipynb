{
 "cells": [
  {
   "cell_type": "markdown",
   "metadata": {},
   "source": [
    "# <Font color = 'red'> CORE  PYTHON INTRODUCTION</font>"
   ]
  },
  {
   "cell_type": "markdown",
   "metadata": {},
   "source": [
    "\n",
    "1. Python is general purpose high level Programming language.\n",
    "\n",
    "2. Python was Devoloped by Guido Van Rossam in 1989 while working at National Research institute at Netherlands.\n",
    "\n",
    "3. Officially Python was made avilable to public in 1991. DOB {feb 20 th 1991}.\n",
    "\n",
    "4. Python is recomended as first programming language for beginners.\n",
    "\n",
    "5. The Name Python was selected from the TV show \"The complete Monty Python's Circus\", which was broad casted in BBC from 1969 to 1974.\n",
    "\n",
    "6. Guido developed Pyhton language by taking almost all programming features from different programming languages.\n",
    "\n",
    "    * Functional Programming features from C\n",
    "    * Object Oriented Programming features from C++\n",
    "    * Scripting Language features from  peral and Shell Scripting\n",
    "    * Modular programming features from Modula -3\n",
    "    \n",
    "    * Most programming features of python from c and ABC programming languages."
   ]
  },
  {
   "cell_type": "markdown",
   "metadata": {},
   "source": [
    "### <font color ='red'> Where we can use Python ? </font>"
   ]
  },
  {
   "cell_type": "markdown",
   "metadata": {},
   "source": [
    "* We can use every where. the most common important applikmcations are \n",
    "\n",
    "    * For devoloping desktop applications\n",
    "    * For devoloping Web Applications\n",
    "    * For devoloping Data base Applications\n",
    "    * For Network Programming\n",
    "    * For Devoloping games\n",
    "    * For Data Analysis Applications\n",
    "    * For Machine Learning\n",
    "    * For devoloping Artificial intelligence applications\n",
    "    * For Internet Of Things (IOT)\n",
    "    \n",
    "    \n",
    " ####  NOTE :- \n",
    "     \n",
    "     * Internally Google and Youtube use Python Programming\n",
    "     * NASA and Network Stock Exchange Applications Devoloped by Python.,\n",
    "     * Top Software companies like Google, Microsoft, IBM, Yahoo using Pyhon."
   ]
  },
  {
   "cell_type": "markdown",
   "metadata": {},
   "source": [
    "## <font color ='Green'>Features of Python :</font>"
   ]
  },
  {
   "cell_type": "markdown",
   "metadata": {},
   "source": [
    "1. Simple and Easy to learn \n",
    "2. Freeware and Open Source\n",
    "3. High Level Programming Language\n",
    "4. Platform Independent\n",
    "5. Portability\n",
    "6. Dynamically Typed\n",
    "7. Both Procedure Oriented and PObject Oriented language\n",
    "8. Interpreted\n",
    "9. Extensible\n",
    "10. Embedded\n",
    "11. Extensive Library\n",
    "\n"
   ]
  },
  {
   "cell_type": "markdown",
   "metadata": {},
   "source": [
    "<font color ='red'>1. Simple and Easy to learn </font>\n",
    "\n",
    "* Python is a simple Programming Language. When we read Python Program, we can feel like reading english Statments.\n",
    "       \n",
    "* The syntaxes are very simple and only 30+ Keywordsw are avilable.\n",
    "\n",
    "* When compared with other Programming Languages, we can write Programs with very less number of lines. Hence more readability and simplicity.\n",
    "\n",
    "* We can reduce devolopment and cost of the project."
   ]
  },
  {
   "cell_type": "markdown",
   "metadata": {},
   "source": [
    "<font color = 'blue'>2. Freeware and Open Source</font>`\n",
    "\n",
    "* We can use Python Software with out any lisence and it is a freeware\n",
    "* It's Source code is Open , So that we can customize based on Our requirment\n",
    "* Example:-\n",
    "    * Jython is Customized version of Python to Work with java Applications."
   ]
  },
  {
   "cell_type": "markdown",
   "metadata": {},
   "source": [
    "<font color = 'radium'>3. High Level Programming Language</font>\n",
    "\n",
    "* Python is High level programming language and hence it is Programmer friendly language.\n",
    "* Being a programmer we are not required to concentrate low level activities like mwmory managment and security etc.."
   ]
  },
  {
   "cell_type": "markdown",
   "metadata": {},
   "source": [
    "<font color = 'indigo'>4. Platform Independent</font> \n",
    "\n",
    "* Once we write a python Program,it can run on any platform with out rewriting once again.\n",
    "* Internally PVM is Responsible for convert into machine understandable form."
   ]
  },
  {
   "cell_type": "markdown",
   "metadata": {},
   "source": [
    "<font color = 'violet'>5. Portability</font>\n",
    "\n",
    "* Python Programs are portable, ie we can migrate one platform to another plat form versy easily.\n",
    "* Python Programs will provide same results on any platform."
   ]
  },
  {
   "cell_type": "markdown",
   "metadata": {},
   "source": [
    "<font color = 'red'>6. Dynamically Typed</font>\n",
    "\n",
    "* In Python We are not Required to declare type of varaibles. whenever we are assigning the valu, based on value type will be allocated automatically. Hence Pythopn is considered as dynamically typed Programming language.\n",
    "\n",
    "* But, java , c, etc.  are statically Typed Languages , because we have to provide typed at the begining only\n",
    "\n",
    "* This dynamic typing nature will provide more flexible to the programmer."
   ]
  },
  {
   "cell_type": "markdown",
   "metadata": {},
   "source": [
    "<font color = 'blue'>7. Both Procedure Oriented and PObject Oriented language</font>\n",
    "\n",
    "* Python language supports both procedure oriented(c, pascal) and object oriented(C++, java) features. Hence we get benfits of both security and reusability. etc."
   ]
  },
  {
   "cell_type": "markdown",
   "metadata": {},
   "source": [
    "<font color = 'mezanta'>8. Interpreted</font>\n",
    "\n",
    "* We are nopt require to compile Python Programs explicitly. Internally Python interrpretor will take care that compilation.\n",
    "* If compilation fails interpreted raises syntax errors. Once compilation success then PVM is responsible to execute."
   ]
  },
  {
   "cell_type": "markdown",
   "metadata": {},
   "source": [
    "<font color ='cyan'>9. Extensible</font>\n",
    "\n",
    "* We can use other language programs in python.\n",
    "* The main Advantages of this approach are \n",
    "    * we can use already existing legacy non- Pyhton code\n",
    "    * We can improve Performance of the application"
   ]
  },
  {
   "cell_type": "markdown",
   "metadata": {},
   "source": [
    "<font color ='DarkOrchid '>10. Embedded</font>\n",
    "\n",
    "* We can use Python Programs in any Other programming languages.\n",
    "* We can Embedd Python Programs anywhere."
   ]
  },
  {
   "cell_type": "markdown",
   "metadata": {},
   "source": [
    "<font color = 'OrangeRed '>11. Extensive Library</font>\n",
    "\n",
    "* Python has a rich inbuilt library \n",
    "* Being a programmer we can use this library directly and we are not responsible to implement the functionality."
   ]
  },
  {
   "cell_type": "markdown",
   "metadata": {},
   "source": [
    "## <font color = 'YellowGreen '>Limitations of Python</font>\n",
    "\n",
    "1. Performance wise not up to the markbecause it is interpreted language.\n",
    "2. Not ujsing for mobile applications"
   ]
  },
  {
   "cell_type": "markdown",
   "metadata": {},
   "source": [
    "## <font color = 'red'>Flavors of Python</font>"
   ]
  },
  {
   "cell_type": "markdown",
   "metadata": {},
   "source": [
    "1. CPython: -  It is Standard flavor of Python. It can be used to work with C Language Applications.\n",
    "\n",
    "2. Jyhon or JPython : - It is for java Applications. It can run on JVM\n",
    "\n",
    "3. Iron Python:- It is for C #. Net Platform\n",
    "\n",
    "4. PyPy: - The main Advantage of PyPy is performance will be improved because JIT compiler is avilable inside PVM\n",
    "\n",
    "5. RubyPython: - For Ruby Platforms\n",
    "\n",
    "6. Anaconda Python :- It is Specially designed for handling large volume of data Handling."
   ]
  },
  {
   "cell_type": "markdown",
   "metadata": {},
   "source": [
    "## <font color = 'Red'>Python Versions</font>\n",
    "\n",
    "1. Python 1.0 --> jan 1994\n",
    "2. Python 2.0 --> oct 2000\n",
    "3. Python 3.0 --> December 2008\n",
    "\n",
    "#### Note:  Python3 won't provide backward compatibility to Python 2 , there is no0 guarantee that python2 program will run on python 3"
   ]
  },
  {
   "cell_type": "markdown",
   "metadata": {},
   "source": [
    "# <font color = 'red'> IDENTIFIERS</font>"
   ]
  },
  {
   "cell_type": "markdown",
   "metadata": {},
   "source": [
    "1. A name in Python Program is called Identifiers.\n",
    "\n",
    "2. It can be Variable Name or Function Name or Module Name OR Variable Name.\n",
    "\n",
    "       Example :  a = 9\n",
    "       \n",
    "       \n",
    "<font color ='red'>Rules to define Identifiers in Python</font>\n",
    "\n",
    "   "
   ]
  },
  {
   "cell_type": "markdown",
   "metadata": {},
   "source": [
    "1. The only allowed characters in Python are\n",
    "           -> (A -Z / a-z)\n",
    "           -> digits (0-9)\n",
    "           -> Underscore Symbol(_)\n",
    "           \n",
    "         Note: - If you used any other symbol apart from underscore(_) we will get syntax error.\n",
    "         \n",
    "                 cas@ = 20  {Wrong}\n",
    "                 \n",
    "  \n",
    "           "
   ]
  },
  {
   "cell_type": "code",
   "execution_count": null,
   "metadata": {},
   "outputs": [],
   "source": [
    "vari = 10\n",
    "vari"
   ]
  },
  {
   "cell_type": "code",
   "execution_count": null,
   "metadata": {},
   "outputs": [],
   "source": [
    "vari_ = 11\n",
    "vari_"
   ]
  },
  {
   "cell_type": "code",
   "execution_count": null,
   "metadata": {},
   "outputs": [],
   "source": [
    "VARI_=111\n",
    "VARI_"
   ]
  },
  {
   "cell_type": "code",
   "execution_count": null,
   "metadata": {},
   "outputs": [],
   "source": [
    "vari@ = 123"
   ]
  },
  {
   "cell_type": "markdown",
   "metadata": {},
   "source": [
    " 2. Identifiers should not started with digit.\n",
    "           \n",
    "           123csdfs  {wrong}\n",
    "           var123    {Write}\n",
    "           \n",
    "           \n",
    "   "
   ]
  },
  {
   "cell_type": "code",
   "execution_count": null,
   "metadata": {},
   "outputs": [],
   "source": [
    "vari123 = 12\n",
    "vari123"
   ]
  },
  {
   "cell_type": "code",
   "execution_count": null,
   "metadata": {},
   "outputs": [],
   "source": [
    "12vari1 = 12"
   ]
  },
  {
   "cell_type": "code",
   "execution_count": null,
   "metadata": {},
   "outputs": [],
   "source": [
    "3. Identifiers are case sensitive. Of course Python language is case sensitive language.\n",
    "   \n",
    "          "
   ]
  },
  {
   "cell_type": "code",
   "execution_count": null,
   "metadata": {},
   "outputs": [],
   "source": [
    "total = 10\n",
    "total"
   ]
  },
  {
   "cell_type": "code",
   "execution_count": null,
   "metadata": {},
   "outputs": [],
   "source": [
    "TOTAL = 12\n",
    "TOTAL"
   ]
  },
  {
   "cell_type": "markdown",
   "metadata": {},
   "source": [
    "### Note:\n",
    "\n",
    "1. There is no length limit for python identifiers. But not recomended to use too lengthy identifiers.\n",
    "\n",
    "2. If Identifier ius start with Underscore(_) then it indicates it is Private.\n",
    "\n",
    "3. If Identifiers starts with __ (Two under Score Symbols) indicating that strongly private identifier. "
   ]
  },
  {
   "cell_type": "markdown",
   "metadata": {},
   "source": [
    "## <font color = 'Red'> Reserved Words</font>\n",
    "\n",
    "In python some words are reserved to represent some meaning of functionality. such types of words are called reserved words.\n",
    "\n",
    "There are 33 reserved words avilable in Python.\n",
    "\n",
    "    1. True     2. False     3. None\n",
    "\n",
    "    4. and      5. or        6. not       7. is\n",
    "\n",
    "    8. else   \n",
    "    \n",
    "    9. while    10. For      11. Break    12. Continue    13. return    14. in    15. Yield \n",
    "    \n",
    "    16. try     17. except   18. finally  19. raise       20. assert\n",
    "    \n",
    "    \n",
    "    21. Import  22. From     23. As       24. Class       25. def   26. Pass   27. global   \n",
    "    \n",
    "    28. nonlocal  29. lambda   30. del    31. with\n",
    "    \n",
    "    \n",
    "    32. async     33. await        34. if       35. elif  \n"
   ]
  },
  {
   "cell_type": "code",
   "execution_count": null,
   "metadata": {},
   "outputs": [],
   "source": [
    "# Keywoards inbuilt \n",
    "\n",
    "import keyword\n",
    "print(len(set(keyword.kwlist)))\n",
    "keyword.kwlist"
   ]
  },
  {
   "cell_type": "markdown",
   "metadata": {},
   "source": [
    "### Note: \n",
    "\n",
    "1. All reserved words in python contain only alphabet symbols.\n",
    "\n",
    "2. Except the following 3 reserved words, all words contain only lower case alphabet symbols.\n",
    "\n",
    "        1. True\n",
    "        2. False\n",
    "        3. None"
   ]
  },
  {
   "cell_type": "markdown",
   "metadata": {},
   "source": [
    "## <font color = Green>DATA TYPES</font>\n",
    "\n",
    "1. Data types represents the type of data present inside a variable.\n",
    "2. In python we are not required to specify the type explicitly. Based on value provided, the type will be assigned automatically. Hence Python is Dynamically typed Language.\n",
    "\n",
    "3. Python contains the following inbuilt data types:\n",
    "    1. int\n",
    "    2. Float\n",
    "    3. Complex\n",
    "    4. Bool\n",
    "    5. Str\n",
    "    6. Bytes\n",
    "    7. Bytearray\n",
    "    8. Range\n",
    "    9. List\n",
    "    10. Tuple\n",
    "    11. Set\n",
    "    12. Frozenset\n",
    "    13. Dict\n",
    "    14. None\n",
    "\n",
    "    "
   ]
  },
  {
   "cell_type": "markdown",
   "metadata": {},
   "source": [
    "## Note: \n",
    "\n",
    "    Python contains several inbuilt functions.\n",
    "    \n",
    "    1. type()  ---> To check the type of variable\n",
    "    2. id()    ---> to get address of object\n",
    "    3. print() ---> To print the value\n",
    "    \n",
    "  In python everything is Object.\n",
    "    \n",
    "    "
   ]
  },
  {
   "cell_type": "markdown",
   "metadata": {},
   "source": [
    "### <font color = 'red'>1. int Data Type</font>\n",
    "\n",
    "Int data dype we can use to represent Whole Numbers(Integer values)\n"
   ]
  },
  {
   "cell_type": "code",
   "execution_count": null,
   "metadata": {},
   "outputs": [],
   "source": [
    "n = 9 \n",
    "type(n)\n",
    "print(n)"
   ]
  },
  {
   "cell_type": "markdown",
   "metadata": {},
   "source": [
    "### Note:\n",
    "\n",
    " 1. In python 2 we have long data type to represent very large integer values.\n",
    "\n",
    " 2. But in Python 3 there is no long type explicitly and we can represent long values also by using int type only.\n",
    "    \n",
    " 3. We can represent int values in the following ways\n",
    " \n",
    "     1. Decimal form \n",
    "     2. Binary form\n",
    "     3. Octal form \n",
    "     4. Hexa decimal form\n",
    "     \n",
    "     \n",
    "     Decimal Form(Base - 10):\n",
    "     ------------------------\n",
    "         It is the default number system in python \n",
    "         Allowed digits are : 0 to 9\n",
    "          \n",
    "          Example:\n",
    "          \n",
    "          a= 10 \n",
    "          \n",
    "          b = 12\n",
    "    \n",
    "    \n",
    "    Binary Form(Base - 2):\n",
    "     ---------------------\n",
    "     \n",
    "     The allowed digits are : 0 & 1\n",
    "     Literal value should be prefixed with 0b or OB.\n",
    "     \n",
    "     EG: a = 0b111\n",
    "     \n",
    "     \n",
    "    Octal Form(Base - 8):\n",
    "    --------------------\n",
    "    \n",
    "    The allowed Digits are :  0 to 7\n",
    "    Literal value should be prefixed with 0o or 0O\n",
    "    \n",
    "    \n",
    "    Eg: n = 0o123\n",
    "    \n",
    "    \n",
    "    HexaDecima Form:\n",
    "    ---------------\n",
    "    \n",
    "    The allowed digitas are : 0 to 9, a- f(both lower and Upper cases are allowed)\n",
    "    Literal value should be Prefixed with 0X or 0x \n",
    "    \n",
    "    eg: n = 0XABC\n",
    "    \n",
    "    \n",
    "    NOTE:\n",
    "         Being a programmer we can specify literal values in decimal, binary , octal and Hexadecimal forms. But PVM will always provide values only in decimal form."
   ]
  },
  {
   "cell_type": "code",
   "execution_count": null,
   "metadata": {},
   "outputs": [],
   "source": [
    "# Binary Form\n",
    "\n",
    "print(0b1)      # { 2 ^ 0 =1}\n",
    "print(0b11)     # { 2 ^ 0 + 2^ 1 = 3}\n",
    "print(0b111)    # { 2 ^ 0 + 2^ 1 + 2 ^2 = 7}\n",
    "print(0b1111)   # { 2 ^ 0 + 2^ 1 + 2 ^2 +2 ^3= 15}"
   ]
  },
  {
   "cell_type": "code",
   "execution_count": null,
   "metadata": {},
   "outputs": [],
   "source": [
    "# Octal form\n",
    "\n",
    "print(0o1)      #{ 8 ^ 0 = 1}\n",
    "print(0o11)     #{ 8 ^ 0 + 8 ^ 1 = 9}\n",
    "print(0o111)    #{ 8 ^ 0 + 8 ^ 1 +8 ^ 2 = 73}\n",
    "print(0O1111)   #{ 8 ^ 0 + 8 ^ 1 +8 ^ 2 +8 ^ 3 = 73}\n",
    "\n",
    "print(0O1234)"
   ]
  },
  {
   "cell_type": "code",
   "execution_count": null,
   "metadata": {},
   "outputs": [],
   "source": [
    "# Hexa decimal\n",
    "\n",
    "print(10)\n",
    "\n",
    "print(0X123)\n",
    "\n",
    "print(0x111)"
   ]
  },
  {
   "cell_type": "code",
   "execution_count": null,
   "metadata": {},
   "outputs": [],
   "source": [
    "# Note , PVM will always give in decimal forma only\n",
    "\n",
    "print(10)\n",
    "print(0b111)\n",
    "print(0o111)\n",
    "print(0x111)"
   ]
  },
  {
   "cell_type": "markdown",
   "metadata": {},
   "source": [
    "### Base conversions"
   ]
  },
  {
   "cell_type": "code",
   "execution_count": null,
   "metadata": {},
   "outputs": [],
   "source": [
    "\n",
    "#1.Any to Binary\n",
    "\n",
    "print(bin(10))    # decimal to binary\n",
    "\n",
    "print(bin(0o10))  # Octal to binary\n",
    "\n",
    "print(bin(0x10))  # Hexadecimal to binary"
   ]
  },
  {
   "cell_type": "code",
   "execution_count": null,
   "metadata": {},
   "outputs": [],
   "source": [
    "#2. Any to Octal\n",
    "\n",
    "print(oct(10))    # decimal to Octal\n",
    "\n",
    "print(oct(0b10))  # binar to Octal\n",
    "\n",
    "print(oct(0x10))  # Hexadecimal to Octal"
   ]
  },
  {
   "cell_type": "code",
   "execution_count": null,
   "metadata": {},
   "outputs": [],
   "source": [
    "#3. Any to Hexa decimal\n",
    "\n",
    "print(hex(10))    # decimal to Hexa decimal\n",
    "\n",
    "print(hex(0b10))  # Binary to Hexa decimal\n",
    "\n",
    "print(hex(0o10))  # Octal to Hexa decimal"
   ]
  },
  {
   "cell_type": "markdown",
   "metadata": {},
   "source": [
    "### <font color = 'red'>2. float Data Type</font>\n",
    "\n",
    "\n",
    "    We can use float data type to represent floating point values(Decimal values)\n",
    "    \n",
    "    Eg: n = 12.3\n",
    "    \n",
    "    We can also represent floating point values by using exponential form(Scientific notation)\n",
    "    \n",
    "    The main advantage of exponential form is we can represent big values in less memory.\n",
    "    \n",
    "    eg: n = 12.e3 \n",
    "    \n",
    "    Note : \n",
    "    \n",
    "    We can use \"E\" instead of \"e\"\n",
    "            \n",
    "    We can represent int values in decimal, binary , octal and Hexadecimal forms. But we can represent float values in decimal form only.\n",
    "    \n",
    "    "
   ]
  },
  {
   "cell_type": "code",
   "execution_count": null,
   "metadata": {},
   "outputs": [],
   "source": []
  },
  {
   "cell_type": "code",
   "execution_count": null,
   "metadata": {},
   "outputs": [],
   "source": [
    "# float\n",
    "\n",
    "n = 12.3\n",
    "\n",
    "print(n)\n",
    "print(type(n))"
   ]
  },
  {
   "cell_type": "code",
   "execution_count": null,
   "metadata": {},
   "outputs": [],
   "source": [
    "### we can represent float values in decimal form only."
   ]
  },
  {
   "cell_type": "code",
   "execution_count": null,
   "metadata": {},
   "outputs": [],
   "source": [
    "n = 0B111.1"
   ]
  },
  {
   "cell_type": "code",
   "execution_count": null,
   "metadata": {},
   "outputs": [],
   "source": [
    "n = 0x12.12"
   ]
  },
  {
   "cell_type": "code",
   "execution_count": null,
   "metadata": {},
   "outputs": [],
   "source": [
    "n = 0o12.12"
   ]
  },
  {
   "cell_type": "markdown",
   "metadata": {},
   "source": [
    "### <font color = 'red'>3. Complex Data Type</font>\n",
    "\n",
    "    A complex number in the form of  a +bj  {a - > Real Part , b ->  Imaginary part}\n",
    "\n",
    "    a & b contain Integers or float values.\n",
    "\n",
    "    eg: 2+3j , 4+5.7j\n",
    "    \n",
    "    In the real part we can specify decimal, octal, Hexadecimal and binary , but in imaginar part only decimal form.\n"
   ]
  },
  {
   "cell_type": "code",
   "execution_count": null,
   "metadata": {},
   "outputs": [],
   "source": [
    "# complex form correct notations\n",
    "\n",
    "print(2+3j)\n",
    "\n",
    "print(3.9 +4.5j)\n",
    "\n",
    "print(0b11 +4.5J)\n",
    "\n",
    "print(type(2+3j))"
   ]
  },
  {
   "cell_type": "code",
   "execution_count": null,
   "metadata": {},
   "outputs": [],
   "source": [
    "# wrong notation -> imaginary part with hexadecimal form throws synatax error.\n",
    "print(6 +0x111j)"
   ]
  },
  {
   "cell_type": "code",
   "execution_count": null,
   "metadata": {},
   "outputs": [],
   "source": [
    "#  Addition Operations on complex numbers\n",
    "\n",
    "print(2 +3j + 4+6j)\n",
    "\n",
    "print(3.5 +5.7j + 0b100 + 7J)\n",
    "\n",
    "print(0X100 +5.7j + 0b100 + 7J)  # you can use both lower case j and Upper case J also\n",
    "\n",
    "print(0o12345 +5.7j + 0b100 + 7J)"
   ]
  },
  {
   "cell_type": "code",
   "execution_count": null,
   "metadata": {},
   "outputs": [],
   "source": []
  },
  {
   "cell_type": "markdown",
   "metadata": {},
   "source": [
    "### <font color = 'red'>4. Bool Data Type</font>\n",
    "\n",
    "1. We can use this data type to represent boolean values\n",
    "\n",
    "2. The only allowed values for this data type are : True and False\n",
    "\n",
    "    Internally Python represents True as 1 and False as 0 "
   ]
  },
  {
   "cell_type": "code",
   "execution_count": null,
   "metadata": {},
   "outputs": [],
   "source": [
    "# bool data type\n",
    "\n",
    "a = True\n",
    "b = False\n",
    "\n",
    "print(a >b)\n",
    "\n",
    "print(a < b)\n",
    "\n",
    "c= 34\n",
    "\n",
    "d = 43\n",
    "\n",
    "print(c>d)\n",
    "\n",
    "\n",
    "# True = 1 , False = 0\n",
    "print(True + True)\n",
    "\n",
    "print(True + False)\n",
    "\n",
    "print(False +False)"
   ]
  },
  {
   "cell_type": "markdown",
   "metadata": {},
   "source": [
    "### <font color = 'red'>5. str float Data Type</font>\n",
    "\n",
    "1. str represents String data type.\n",
    "\n",
    "2. A string is a sequence of characters enclosed within single quotes or double quotes."
   ]
  },
  {
   "cell_type": "code",
   "execution_count": null,
   "metadata": {},
   "outputs": [],
   "source": [
    "# String representations\n",
    "\n",
    "a = \"This is Python From Scratch\"  # doble quotes\n",
    "\n",
    "b = 'This is Python From Scratch'  # single Quotes\n",
    "\n",
    "print(a >b)  # not grater thanm because \"\" & '' represents the same meaning \n",
    "\n",
    "print(a == b) "
   ]
  },
  {
   "cell_type": "code",
   "execution_count": null,
   "metadata": {},
   "outputs": [],
   "source": [
    "# String Wrong representation\n",
    "\n",
    "# One single quote and one Double quote \n",
    "\n",
    "s = 'This is Python From Scratch\"   "
   ]
  },
  {
   "cell_type": "code",
   "execution_count": null,
   "metadata": {},
   "outputs": [],
   "source": [
    "# By using single or double quotes we can not represent nultiple lines string literals.\n",
    "\n",
    "s = \"sdfkjhygskdfjasfdddddddddddddddddddddddddddddddddddddddddddddddddddd\n",
    "      dddddddddddddddddddddddddddddddddddddddddd\"\n"
   ]
  },
  {
   "cell_type": "code",
   "execution_count": null,
   "metadata": {},
   "outputs": [],
   "source": [
    "# By using \"\"\"   or '''  we can represent multiline string .\n",
    "\n",
    "# observe the \\n which indicates new line\n",
    "\n",
    "s = \"\"\"sdfkjhygskdfjasfdddddddddddddddddddddddddddddddddddddddddddddddddddd\n",
    "dddddddddddddddddddddddddddddddddddddddddd\"\"\"\n",
    "\n",
    "\n",
    "t = '''sdfkjhygskdfjasfdddddddddddddddddddddddddddddddddddddddddddddddddddd\n",
    "dddddddddddddddddddddddddddddddddddddddddd'''\n",
    "\n",
    "\n",
    "print(s)\n",
    "\n",
    "print(t)\n",
    "\n",
    "print(s ==t)"
   ]
  },
  {
   "cell_type": "code",
   "execution_count": null,
   "metadata": {},
   "outputs": [],
   "source": [
    "# special uses of Quotes {should cloase in the same way}\n",
    "\n",
    "# String embeding\n",
    "p = \"This is 'very' importent\"\n",
    "p"
   ]
  },
  {
   "cell_type": "code",
   "execution_count": null,
   "metadata": {},
   "outputs": [],
   "source": [
    "# string embeding\n",
    "\n",
    "p = 'this is \"very\" importent'\n",
    "p"
   ]
  },
  {
   "cell_type": "markdown",
   "metadata": {},
   "source": [
    "### <font color = 'blue'>String slicing</font>\n",
    "\n",
    "    Slice means a piece\n",
    "\n",
    "    [] -> is called slice Operator, which can be used to retrive parts of string.\n",
    "    \n",
    "    In python Strings follows Zero based index.\n",
    "    \n",
    "    The index can be either +ve or -ve\n",
    "    \n",
    "    Positive index means  forward direction from left to right\n",
    "    \n",
    "    Negetive index means Backward direction from right to left\n"
   ]
  },
  {
   "cell_type": "code",
   "execution_count": null,
   "metadata": {},
   "outputs": [],
   "source": [
    "# string slicing operations\n",
    "\n",
    "s = \"This is python class , very importent for machine learning and data sceince and web devolopment also\""
   ]
  },
  {
   "cell_type": "code",
   "execution_count": null,
   "metadata": {},
   "outputs": [],
   "source": [
    "s"
   ]
  },
  {
   "cell_type": "code",
   "execution_count": null,
   "metadata": {},
   "outputs": [],
   "source": [
    "# length of String'\n",
    "len(s)"
   ]
  },
  {
   "cell_type": "code",
   "execution_count": null,
   "metadata": {},
   "outputs": [],
   "source": [
    "s[0]"
   ]
  },
  {
   "cell_type": "code",
   "execution_count": null,
   "metadata": {},
   "outputs": [],
   "source": [
    "s[1]"
   ]
  },
  {
   "cell_type": "code",
   "execution_count": null,
   "metadata": {},
   "outputs": [],
   "source": [
    "s[:]"
   ]
  },
  {
   "cell_type": "code",
   "execution_count": null,
   "metadata": {},
   "outputs": [],
   "source": [
    "# [ : ] it fetches all the information\n",
    "\n",
    "print(len(s)== len(s[:]))"
   ]
  },
  {
   "cell_type": "code",
   "execution_count": null,
   "metadata": {},
   "outputs": [],
   "source": [
    "# if we dint provide any start index it will take \"Zero\"\n",
    "\n",
    "s[:3]"
   ]
  },
  {
   "cell_type": "code",
   "execution_count": null,
   "metadata": {},
   "outputs": [],
   "source": [
    "# If we dint provide end index it will take last index value defaultly.\n",
    "s[2:]"
   ]
  },
  {
   "cell_type": "markdown",
   "metadata": {},
   "source": [
    "###  When we are performing slicing need to remember [strat : end]  --> [include: exclude] , exclude = end-1"
   ]
  },
  {
   "cell_type": "code",
   "execution_count": null,
   "metadata": {},
   "outputs": [],
   "source": [
    "# it feteched value up to index value 3  not 4 (4-1)\n",
    "s[1:4]"
   ]
  },
  {
   "cell_type": "markdown",
   "metadata": {},
   "source": [
    "###  In Python the following data types are considered as Fundamental data types\n",
    "\n",
    "1. int\n",
    "2. float\n",
    "3. complex\n",
    "4. bool\n",
    "5. str"
   ]
  },
  {
   "cell_type": "markdown",
   "metadata": {},
   "source": [
    "### we can represent char values also by using str type only, explicitly char type is not avilable in python."
   ]
  },
  {
   "cell_type": "code",
   "execution_count": null,
   "metadata": {},
   "outputs": [],
   "source": [
    "# char representation\n",
    "\n",
    "ch = 'a'\n",
    "print(ch)\n",
    "print(type(ch))"
   ]
  },
  {
   "cell_type": "markdown",
   "metadata": {},
   "source": [
    "### <font color = 'brown'>Type Casting</font>\n",
    "\n",
    "We can convert one type values into another type. This conversion ios called Type casting.\n",
    "\n",
    "The following are the various inbuilt type casting functions.\n",
    "\n",
    "    1. int()\n",
    "    2. flaot()\n",
    "    3. complex()\n",
    "    4. bool()\n",
    "    5. str()"
   ]
  },
  {
   "cell_type": "code",
   "execution_count": null,
   "metadata": {},
   "outputs": [],
   "source": [
    "# int() usage in different conditions\n",
    "\n",
    "print(int(123.34))\n",
    "\n",
    "print(int(True))\n",
    "\n",
    "print(int(False))\n",
    "\n"
   ]
  },
  {
   "cell_type": "code",
   "execution_count": null,
   "metadata": {},
   "outputs": [],
   "source": [
    "# if we want to convert string to int , the characters in the string should be integral(base -10)\n",
    "\n",
    "int('123123')"
   ]
  },
  {
   "cell_type": "code",
   "execution_count": null,
   "metadata": {},
   "outputs": [],
   "source": [
    "# it can not convert string into int\n",
    "\n",
    "int(\"asde231\")"
   ]
  },
  {
   "cell_type": "code",
   "execution_count": null,
   "metadata": {},
   "outputs": [],
   "source": [
    "# binary, octal, decimal --> int\n",
    "print(int(0b11))  # binary to int\n",
    "print(int(0o11))  # octal to int\n",
    "print(int(0x11))  # Hexadecimal to int\n"
   ]
  },
  {
   "cell_type": "code",
   "execution_count": null,
   "metadata": {},
   "outputs": [],
   "source": [
    "# wrong format\n",
    "\n",
    "print(int('0b11'))  # binary to int\n",
    "print(int('0o11'))  # octal to int\n",
    "print(int('0x11'))  # Hexadecimal to int"
   ]
  },
  {
   "cell_type": "markdown",
   "metadata": {},
   "source": [
    "# float()"
   ]
  },
  {
   "cell_type": "code",
   "execution_count": null,
   "metadata": {},
   "outputs": [],
   "source": [
    "# we can use float() function to convert other type values to float type\n",
    "\n",
    "float(10)"
   ]
  },
  {
   "cell_type": "code",
   "execution_count": null,
   "metadata": {},
   "outputs": [],
   "source": [
    "# number string to float format\n",
    "float('123.44')"
   ]
  },
  {
   "cell_type": "code",
   "execution_count": null,
   "metadata": {},
   "outputs": [],
   "source": [
    "# we can not convert string into float\n",
    "float('ads')"
   ]
  },
  {
   "cell_type": "code",
   "execution_count": null,
   "metadata": {},
   "outputs": [],
   "source": [
    "#binary, octal, Hexadecimal --> flaot\n",
    "\n",
    "print(float(0b11))  # binary to float\n",
    "print(float(0o11))  # octal to float\n",
    "print(float(0x11))  # Hexadecimal to float"
   ]
  },
  {
   "cell_type": "code",
   "execution_count": null,
   "metadata": {},
   "outputs": [],
   "source": [
    "# wrong format\n",
    "\n",
    "print(oct('0b11'))  # binary to float\n",
    "print(oct('0o11'))  # octal to float\n",
    "print(oct('0x11'))  # Hexadecimal to float"
   ]
  },
  {
   "cell_type": "markdown",
   "metadata": {},
   "source": [
    "# complex()"
   ]
  },
  {
   "cell_type": "markdown",
   "metadata": {},
   "source": [
    "\n",
    "We can use complex() function to convert other types to complex type\n",
    "  \n",
    "Form-1: \n",
    " we can use this function to convert x in to complex number with real part x and imaginary part 0."
   ]
  },
  {
   "cell_type": "code",
   "execution_count": null,
   "metadata": {},
   "outputs": [],
   "source": [
    "# complex convertion\n",
    "\n",
    "complex(10)"
   ]
  },
  {
   "cell_type": "code",
   "execution_count": null,
   "metadata": {},
   "outputs": [],
   "source": [
    "complex(\"2\")"
   ]
  },
  {
   "cell_type": "code",
   "execution_count": null,
   "metadata": {},
   "outputs": [],
   "source": [
    "complex(0b11)"
   ]
  },
  {
   "cell_type": "code",
   "execution_count": null,
   "metadata": {},
   "outputs": [],
   "source": [
    "complex(0o111)"
   ]
  },
  {
   "cell_type": "code",
   "execution_count": null,
   "metadata": {},
   "outputs": [],
   "source": [
    "complex(0x111)"
   ]
  },
  {
   "cell_type": "code",
   "execution_count": null,
   "metadata": {},
   "outputs": [],
   "source": [
    "complex('asdas')"
   ]
  },
  {
   "cell_type": "code",
   "execution_count": null,
   "metadata": {},
   "outputs": [],
   "source": [
    "# ValueError: complex() arg is a malformed string\n",
    "complex('0b111')"
   ]
  },
  {
   "cell_type": "markdown",
   "metadata": {},
   "source": [
    "### Form -2 "
   ]
  },
  {
   "cell_type": "markdown",
   "metadata": {},
   "source": [
    "    complex(x,y)       {x -real part, y - Imaginary part}"
   ]
  },
  {
   "cell_type": "code",
   "execution_count": null,
   "metadata": {},
   "outputs": [],
   "source": [
    "print(complex(1,2))\n",
    "\n",
    "print(complex(True, False))"
   ]
  },
  {
   "cell_type": "markdown",
   "metadata": {},
   "source": [
    "## bool()"
   ]
  },
  {
   "cell_type": "code",
   "execution_count": null,
   "metadata": {},
   "outputs": [],
   "source": [
    "bool(1)"
   ]
  },
  {
   "cell_type": "code",
   "execution_count": null,
   "metadata": {},
   "outputs": [],
   "source": [
    "bool(0)"
   ]
  },
  {
   "cell_type": "code",
   "execution_count": null,
   "metadata": {},
   "outputs": [],
   "source": [
    "bool(12)"
   ]
  },
  {
   "cell_type": "code",
   "execution_count": null,
   "metadata": {},
   "outputs": [],
   "source": [
    "bool(000)"
   ]
  },
  {
   "cell_type": "code",
   "execution_count": null,
   "metadata": {},
   "outputs": [],
   "source": [
    "bool(12.5)"
   ]
  },
  {
   "cell_type": "code",
   "execution_count": null,
   "metadata": {},
   "outputs": [],
   "source": [
    "bool('type')"
   ]
  },
  {
   "cell_type": "code",
   "execution_count": null,
   "metadata": {},
   "outputs": [],
   "source": [
    "bool('12312')"
   ]
  },
  {
   "cell_type": "code",
   "execution_count": null,
   "metadata": {},
   "outputs": [],
   "source": [
    "bool()"
   ]
  },
  {
   "cell_type": "code",
   "execution_count": null,
   "metadata": {},
   "outputs": [],
   "source": [
    "bool(0b11)"
   ]
  },
  {
   "cell_type": "code",
   "execution_count": null,
   "metadata": {},
   "outputs": [],
   "source": [
    "bool(0o111)"
   ]
  },
  {
   "cell_type": "code",
   "execution_count": null,
   "metadata": {},
   "outputs": [],
   "source": [
    "bool(0x111)"
   ]
  },
  {
   "cell_type": "code",
   "execution_count": null,
   "metadata": {},
   "outputs": [],
   "source": [
    "bool(2+3j)"
   ]
  },
  {
   "cell_type": "code",
   "execution_count": null,
   "metadata": {},
   "outputs": [],
   "source": [
    "bool(0+0j)"
   ]
  },
  {
   "cell_type": "code",
   "execution_count": null,
   "metadata": {},
   "outputs": [],
   "source": [
    "bool(-2-0j)"
   ]
  },
  {
   "cell_type": "code",
   "execution_count": null,
   "metadata": {},
   "outputs": [],
   "source": [
    "bool('True')"
   ]
  },
  {
   "cell_type": "code",
   "execution_count": null,
   "metadata": {},
   "outputs": [],
   "source": [
    "bool('False')"
   ]
  },
  {
   "cell_type": "code",
   "execution_count": null,
   "metadata": {},
   "outputs": [],
   "source": [
    "bool(True)"
   ]
  },
  {
   "cell_type": "code",
   "execution_count": null,
   "metadata": {},
   "outputs": [],
   "source": [
    "bool(False)"
   ]
  },
  {
   "cell_type": "code",
   "execution_count": null,
   "metadata": {},
   "outputs": [],
   "source": [
    "bool('')"
   ]
  },
  {
   "cell_type": "code",
   "execution_count": null,
   "metadata": {},
   "outputs": [],
   "source": []
  },
  {
   "cell_type": "markdown",
   "metadata": {},
   "source": [
    "## str()"
   ]
  },
  {
   "cell_type": "code",
   "execution_count": null,
   "metadata": {},
   "outputs": [],
   "source": [
    "str(10)"
   ]
  },
  {
   "cell_type": "code",
   "execution_count": null,
   "metadata": {},
   "outputs": [],
   "source": [
    "str(12.8)"
   ]
  },
  {
   "cell_type": "code",
   "execution_count": null,
   "metadata": {},
   "outputs": [],
   "source": [
    "str('sadfsa')"
   ]
  },
  {
   "cell_type": "code",
   "execution_count": null,
   "metadata": {},
   "outputs": [],
   "source": [
    "str(0b111)"
   ]
  },
  {
   "cell_type": "code",
   "execution_count": null,
   "metadata": {},
   "outputs": [],
   "source": [
    "str(0x111)"
   ]
  },
  {
   "cell_type": "code",
   "execution_count": null,
   "metadata": {},
   "outputs": [],
   "source": [
    "str(0o111)"
   ]
  },
  {
   "cell_type": "code",
   "execution_count": null,
   "metadata": {},
   "outputs": [],
   "source": [
    "str(1+2j)"
   ]
  },
  {
   "cell_type": "code",
   "execution_count": null,
   "metadata": {},
   "outputs": [],
   "source": [
    "str(0+0j)"
   ]
  },
  {
   "cell_type": "code",
   "execution_count": null,
   "metadata": {},
   "outputs": [],
   "source": [
    "print(str(5j))\n",
    "print(type(5j))"
   ]
  },
  {
   "cell_type": "code",
   "execution_count": null,
   "metadata": {},
   "outputs": [],
   "source": [
    "str(True)"
   ]
  },
  {
   "cell_type": "code",
   "execution_count": null,
   "metadata": {},
   "outputs": [],
   "source": [
    "str(False)"
   ]
  },
  {
   "cell_type": "code",
   "execution_count": null,
   "metadata": {},
   "outputs": [],
   "source": []
  },
  {
   "cell_type": "markdown",
   "metadata": {},
   "source": [
    "### <font color = 'red'>2. Fundamental Data Types vs Immutability </font>"
   ]
  },
  {
   "cell_type": "markdown",
   "metadata": {},
   "source": [
    "#### 1.  All Fundamental data types are immutable . i.e once we creates an object, we can not perform any changes in that object.  If we are trying to change then with the those changes a new object will be created. This non -changable behaviour is called immutability.\n",
    "\n",
    "#### 2. In Python if a new object is required, then PVM wont create object immediatly. first it will check is any object avilable with the required content or not. if avilable then existing object will be reused. If it is not avilable a new object will be created. The advantage of this approach is memory utilization and performance will be improved.\n",
    "\n",
    "#### 3. But the problem in this approach is, several references pointing to the same object, by using one reference if we are allowed to change the content in the existing object then the remaining references will be efected. To prevent this immutability concept is required. According to this once we created object we are not allowing to change content. If we are trying to change with those changes a new object will be created.\n",
    "\n"
   ]
  },
  {
   "cell_type": "code",
   "execution_count": null,
   "metadata": {},
   "outputs": [],
   "source": [
    "a = 10 \n",
    "b = 10 "
   ]
  },
  {
   "cell_type": "code",
   "execution_count": null,
   "metadata": {},
   "outputs": [],
   "source": [
    "id(a)"
   ]
  },
  {
   "cell_type": "code",
   "execution_count": null,
   "metadata": {},
   "outputs": [],
   "source": [
    "a is b "
   ]
  },
  {
   "cell_type": "code",
   "execution_count": null,
   "metadata": {},
   "outputs": [],
   "source": [
    "id(b)"
   ]
  },
  {
   "cell_type": "code",
   "execution_count": null,
   "metadata": {},
   "outputs": [],
   "source": [
    "a = 123"
   ]
  },
  {
   "cell_type": "code",
   "execution_count": null,
   "metadata": {},
   "outputs": [],
   "source": [
    "id(a)"
   ]
  },
  {
   "cell_type": "code",
   "execution_count": null,
   "metadata": {},
   "outputs": [],
   "source": [
    "b = 'Mohan'\n",
    "id(b)"
   ]
  },
  {
   "cell_type": "code",
   "execution_count": null,
   "metadata": {},
   "outputs": [],
   "source": []
  },
  {
   "cell_type": "markdown",
   "metadata": {},
   "source": [
    "### <font color = 'red'>6. Bytes Data Type</font>\n",
    "\n",
    "Bytes data type represens a group of byte numbers just like an array.\n",
    "\n",
    "    Note: \n",
    "    1. The only allowed values for byte data type are 0 to 256. by mistake if we are trying to provide any other values then we will get value error.\n",
    "    \n",
    "    2. Once we creates bytes data type value, we cannot change its value, other wise we will get typo error\n",
    "\n"
   ]
  },
  {
   "cell_type": "code",
   "execution_count": null,
   "metadata": {},
   "outputs": [],
   "source": [
    "x = [10,20,30,40]\n",
    "\n",
    "b = bytes(x)"
   ]
  },
  {
   "cell_type": "code",
   "execution_count": null,
   "metadata": {},
   "outputs": [],
   "source": [
    "b[0]"
   ]
  },
  {
   "cell_type": "code",
   "execution_count": null,
   "metadata": {},
   "outputs": [],
   "source": [
    "b[1]"
   ]
  },
  {
   "cell_type": "code",
   "execution_count": null,
   "metadata": {},
   "outputs": [],
   "source": [
    "b[-1]"
   ]
  },
  {
   "cell_type": "code",
   "execution_count": null,
   "metadata": {},
   "outputs": [],
   "source": [
    "b[:2]"
   ]
  },
  {
   "cell_type": "code",
   "execution_count": null,
   "metadata": {},
   "outputs": [],
   "source": [
    "b"
   ]
  },
  {
   "cell_type": "code",
   "execution_count": null,
   "metadata": {},
   "outputs": [],
   "source": [
    "# type of bytes\n",
    "type(b)"
   ]
  },
  {
   "cell_type": "code",
   "execution_count": null,
   "metadata": {},
   "outputs": [],
   "source": [
    "# range of bytes\n",
    "y = [10,100,200,300]\n",
    "\n",
    "c= bytes(y)"
   ]
  },
  {
   "cell_type": "code",
   "execution_count": null,
   "metadata": {},
   "outputs": [],
   "source": [
    "# Item assignment is not supported in bytes\n",
    "\n",
    "b[0]= 100"
   ]
  },
  {
   "cell_type": "markdown",
   "metadata": {},
   "source": [
    "### <font color = 'red'>7. Byte array Data Type</font>\n",
    "\n",
    "Bytearray data types is exactly same as byte data type except that its elemets can be modified."
   ]
  },
  {
   "cell_type": "code",
   "execution_count": null,
   "metadata": {},
   "outputs": [],
   "source": [
    "w = [10,20,30,40,50,60]\n",
    "\n",
    "d = bytearray(w)\n",
    "\n",
    "d"
   ]
  },
  {
   "cell_type": "code",
   "execution_count": null,
   "metadata": {},
   "outputs": [],
   "source": [
    "d[0]"
   ]
  },
  {
   "cell_type": "code",
   "execution_count": null,
   "metadata": {},
   "outputs": [],
   "source": [
    "d[-1]"
   ]
  },
  {
   "cell_type": "code",
   "execution_count": null,
   "metadata": {},
   "outputs": [],
   "source": [
    "d[1:3]"
   ]
  },
  {
   "cell_type": "code",
   "execution_count": null,
   "metadata": {},
   "outputs": [],
   "source": [
    "len(d)"
   ]
  },
  {
   "cell_type": "code",
   "execution_count": null,
   "metadata": {},
   "outputs": [],
   "source": [
    "# data modification\n",
    "d[0]=12\n"
   ]
  },
  {
   "cell_type": "code",
   "execution_count": null,
   "metadata": {},
   "outputs": [],
   "source": [
    "d[0]"
   ]
  },
  {
   "cell_type": "code",
   "execution_count": null,
   "metadata": {},
   "outputs": [],
   "source": [
    "d[6]=111"
   ]
  },
  {
   "cell_type": "code",
   "execution_count": null,
   "metadata": {},
   "outputs": [],
   "source": [
    "# it should be in the range of 0 to 256\n",
    "\n",
    "z = [10,20,30,40,50,60,300]\n",
    "\n",
    "e = bytearray(z)\n",
    "\n",
    "e"
   ]
  },
  {
   "cell_type": "markdown",
   "metadata": {},
   "source": [
    "## <font color = 'red'>8. List Data Type</font>\n",
    "\n",
    "    If we want to represent a group of values as a single entity where insertion order required to preserve and duplicates are allowed the we should go for list data type.\n",
    "    \n",
    "    \n",
    "        1. Insertion Order is preserved\n",
    "        2. Heterogeneous Objects are allowed\n",
    "        3. Duplicates are allowed\n",
    "        4. Growable in nature\n",
    "        5. values should be enclosed with in the Square brackets."
   ]
  },
  {
   "cell_type": "markdown",
   "metadata": {},
   "source": [
    "### Lists\n",
    "     all the list operations\n",
    "        -> Creating list \n",
    "        -> Accessing elements from a list with index (Positive/Negetive)\n",
    "        -> Slicing a list using index (Positive/Negetive)\n",
    "        -> How  to update an existing element in List\n",
    "        -> How to add New element in list?\n",
    "        -> How to delete/remove an element from list and removing entire list\n",
    "        -> delete elements using remove(),pop()\n",
    "        -> By assigning an empty list to a slice of list also we can remove elements"
   ]
  },
  {
   "cell_type": "code",
   "execution_count": null,
   "metadata": {},
   "outputs": [],
   "source": [
    "# Creating list \n",
    "\n",
    "# we can create list by using \"[]\"\n",
    "\n",
    "a = []\n",
    "print(\"Empty List : \",a)\n",
    "print(type(a))\n",
    "\n",
    "#we can create list with any type of objects like sets, strings, dictionaries etc...\n",
    "\n",
    "mix_list = [1,2,3,\"Data Science\",'c',(1,2,3,4,5),{1,1,2,2,2,3,3,3},\n",
    "            {'np' : 'Numpy',\"pd\" :\"Pandas\",\"df\":'Dataframe'},[12,13,14,15]]\n",
    "print(mix_list)\n",
    "print(type(mix_list))"
   ]
  },
  {
   "cell_type": "code",
   "execution_count": null,
   "metadata": {},
   "outputs": [],
   "source": [
    "#Accessing elements from a list with index (Positive/Negetive)\n",
    "\n",
    "# Positive index {indexing start from 0 }\n",
    "\n",
    "list1 = [1,2,3,4,5,6,7,8,9,10,12,13,1,41,5,45,56,67,78,12]\n",
    "print(list1[0])\n",
    "print(list1[1]) \n",
    "\n",
    "\n",
    "# Negetive index {Start from -1}\n",
    "\n",
    "print(list1[-1])\n",
    "print(list1[-2])\n",
    "\n",
    "# to know the what is the maximum index in list\n",
    "\n",
    "a = len(list1)\n",
    "print(\"Length of list :\",a)\n",
    "\n",
    "#maximum index avilable in the list (+ve)\n",
    "\n",
    "print(\"maximum index avilable in the list  :\", a-1)\n",
    "print(list1[19])\n",
    "\n",
    "#maximum index avilable in the list (+ve)\n",
    "\n",
    "print(\"maximum index avilable in the list  :\", -(a))\n",
    "print(list1[-20])"
   ]
  },
  {
   "cell_type": "code",
   "execution_count": null,
   "metadata": {},
   "outputs": [],
   "source": [
    "#Slicing a list using index (Positive/Negetive)\n",
    "list1 = [1,2,3,4,5,6,7,8,9,10,12,13,1,41,5,45,56,67,78,12]\n",
    "\n",
    "\n",
    "# positive slicing\n",
    "print(list1[0:5]) # if you observe it omited the index with 5 because end index is less than one what we mentioned\n",
    "print(list1[1:6])\n",
    "\n",
    "print(list1[:7]) # it means select all the elements up to index (7-1)\n",
    "print(list1[6:]) # It means select all the elemts from index 6 to end.\n",
    "\n",
    "# Negetive index\n",
    "print(list1[-5:-1])  #  negetive numbers value decrease while increaseing {end index -1-1 =-2}\n",
    "print(list1[-9:-2])\n",
    "\n",
    "print(list1[-5:]) \n",
    "print(list1[:-2]) # It means select all the elemts from index 6 to end. (-2-1=-3)"
   ]
  },
  {
   "cell_type": "code",
   "execution_count": null,
   "metadata": {},
   "outputs": [],
   "source": [
    "# How  to update an existing element in List\n",
    "list1 = [1,2,3,4,5,6,7,8,9,10,12,13,1,41,5,45,56,67,78,12]\n",
    "\n",
    "list1[2] = 'updadte value of 3'\n",
    "print(list1)\n",
    "\n",
    "# updating an entire slice\n",
    "list2 = [11,22,33]\n",
    "list1[:2] = list2\n",
    "print(list1)"
   ]
  },
  {
   "cell_type": "code",
   "execution_count": null,
   "metadata": {},
   "outputs": [],
   "source": [
    "#How to add New element in list?\n",
    "\n",
    "# Adding individual element\n",
    "b = 999\n",
    "list1.append(b)\n",
    "print(list1)\n",
    "\n",
    "#Adding list/multiple elements\n",
    "a = [111,222,333]\n",
    "list1.append(a)\n",
    "print(list1)"
   ]
  },
  {
   "cell_type": "code",
   "execution_count": null,
   "metadata": {},
   "outputs": [],
   "source": [
    "# How to delete/remove an element from list and removing entire list\n",
    "# removing elements with index\n",
    "list1 = [1,2,3,4,5,6,7,8,9,10,12,13,1,41,5,45,56,67,78,12]\n",
    "print(list1)\n",
    "print(list1[1])\n",
    "del list1[1]\n",
    "print(list1)\n",
    "print(list1[1])"
   ]
  },
  {
   "cell_type": "code",
   "execution_count": null,
   "metadata": {},
   "outputs": [],
   "source": [
    "#Removing multiple elemets in list\n",
    "list1 = [1,2,3,4,5,6,7,8,9,10,12,13,1,41,5,45,56,67,78,12]\n",
    "del list1[2:5]\n",
    "print(list1)"
   ]
  },
  {
   "cell_type": "code",
   "execution_count": null,
   "metadata": {},
   "outputs": [],
   "source": [
    "# removing Entire list\n",
    "del list1\n",
    "print(list1)"
   ]
  },
  {
   "cell_type": "code",
   "execution_count": null,
   "metadata": {},
   "outputs": [],
   "source": [
    "# delete elements using remove()\n",
    "# remove () will remvoe the element not the index location\n",
    "list1 = [1,2,3,4,5,6,7,8,9,10,12,13,1,41,5,45,56,67,78,12]\n",
    "print(list1)\n",
    "list1.remove(1)"
   ]
  },
  {
   "cell_type": "code",
   "execution_count": null,
   "metadata": {},
   "outputs": [],
   "source": [
    "#Delete elements -->pop()  {It remvoe the element in the index location}\n",
    "print(list1)\n",
    "print(list1.pop(1))\n",
    "print(list1)"
   ]
  },
  {
   "cell_type": "code",
   "execution_count": null,
   "metadata": {},
   "outputs": [],
   "source": [
    "# By assigning an empty list to a slice of list also we can remove elements\n",
    "list1 = [1,2,3,4,5,6,7,8,9,10,12,13,1,41,5,45,56,67,78,12]\n",
    "print(list1)\n",
    "list1[2:6] = [] # assigning an empty set\n",
    "print(list1)"
   ]
  },
  {
   "cell_type": "code",
   "execution_count": null,
   "metadata": {},
   "outputs": [],
   "source": [
    "# count() # same elements are there then it will consider first occurence\n",
    "list_1 =[1,1,1,1,2,2,3,3,3,4,4,4]\n",
    "list_1.count(1)"
   ]
  },
  {
   "cell_type": "code",
   "execution_count": null,
   "metadata": {},
   "outputs": [],
   "source": [
    "#index() find the index of the value\n",
    "\n",
    "list_1.index(4)"
   ]
  },
  {
   "cell_type": "code",
   "execution_count": null,
   "metadata": {},
   "outputs": [],
   "source": []
  },
  {
   "cell_type": "markdown",
   "metadata": {},
   "source": [
    "## <font color = 'red'>9. Tuple Data Type</font>\n",
    "\n",
    "    Tuple data type is exactly same as list data type exact that it is immutable. i.e range Data type is  immutable.\n",
    "    \n",
    "    Tuple is read only version of list."
   ]
  },
  {
   "cell_type": "markdown",
   "metadata": {},
   "source": [
    "### All the tuple Operations\n",
    "\n",
    "    -> Creating Tuple\n",
    "    -> Accessing elements from a list with index (Positive/Negetive)\n",
    "    -> Slicing a list using index (Positive/Negetive)\n",
    "    -> How  to update an existing element in List\n",
    "    -> How to add New element in list?\n",
    "    -> How to delete/remove an element from list and removing entire list\n",
    "    -> delete elements using remove(),pop()\n",
    "    -> By assigning an empty list to a slice of list also we can remove elements"
   ]
  },
  {
   "cell_type": "code",
   "execution_count": null,
   "metadata": {},
   "outputs": [],
   "source": [
    "# tuples are immutable sequence of objects()\n",
    "tupl = (\"no updaton\",\"no addition\",5,6,7,8,9)\n",
    "tupl"
   ]
  },
  {
   "cell_type": "code",
   "execution_count": null,
   "metadata": {},
   "outputs": [],
   "source": [
    "# Accessing elements from a list with index (Positive/Negetive)\n",
    "\n",
    "tupl = (\"no updaton\",\"no addition\",5,6,7,8,9,(1,2,3),[1,2,3,4,5,6])\n",
    "\n",
    "print(tupl[1])  # Positive index\n",
    "\n",
    "print(tupl[-1]) # Negetive index"
   ]
  },
  {
   "cell_type": "code",
   "execution_count": null,
   "metadata": {},
   "outputs": [],
   "source": [
    "# Slicing a list using index (Positive/Negetive)\n",
    "\n",
    "tupl = (\"no updaton\",\"no addition\",5,6,7,8,9,(1,2,3),[1,2,3,4,5,6])\n",
    "\n",
    "print(tupl[1:5])  # Positive index slicing\n",
    "\n",
    "print(tupl[-3:-1]) # Negetive index slicing"
   ]
  },
  {
   "cell_type": "code",
   "execution_count": null,
   "metadata": {},
   "outputs": [],
   "source": [
    "# How  to update an existing element in List\n",
    "\n",
    "tupl = (\"no updaton\",\"no addition\",5,6,7,8,9,(1,2,3),[1,2,3,4,5,6])\n",
    "tupl[2] = \"Not updateable\"\n",
    "print(tupl)"
   ]
  },
  {
   "cell_type": "code",
   "execution_count": null,
   "metadata": {},
   "outputs": [],
   "source": [
    "# updating elements in list in tuple\n",
    "\n",
    "tupl = (\"no updaton\",\"no addition\",5,6,7,8,9,(1,2,3),[1,2,3,4,5,6])\n",
    "tupl[8][3] = 99999   # updating elements in list in tuple\n",
    "\n",
    "print(tupl)"
   ]
  },
  {
   "cell_type": "code",
   "execution_count": null,
   "metadata": {},
   "outputs": [],
   "source": [
    "# How to add New element in list?\n",
    "\n",
    "tupl.append(99)"
   ]
  },
  {
   "cell_type": "code",
   "execution_count": null,
   "metadata": {},
   "outputs": [],
   "source": [
    "# How to delete/remove an element from list and removing entire list\n",
    "\n",
    "del tupl[1]"
   ]
  },
  {
   "cell_type": "code",
   "execution_count": null,
   "metadata": {},
   "outputs": [],
   "source": [
    "# deleting entire tuple\n",
    "del tupl\n",
    "print(tupl)"
   ]
  },
  {
   "cell_type": "code",
   "execution_count": null,
   "metadata": {},
   "outputs": [],
   "source": [
    "# delete elements using remove(),pop()\n",
    "tupl = (\"no updaton\",\"no addition\",5,6,7,8,9,(1,2,3),[1,2,3,4,5,6])\n",
    "tupl.remove()"
   ]
  },
  {
   "cell_type": "code",
   "execution_count": null,
   "metadata": {},
   "outputs": [],
   "source": [
    "# delete elemetns pop()\n",
    "\n",
    "tupl.pop(4)"
   ]
  },
  {
   "cell_type": "code",
   "execution_count": null,
   "metadata": {},
   "outputs": [],
   "source": [
    "# By assigning an empty list to a slice of list also we can remove elements\n",
    "\n",
    "tupl[1:5] = ()"
   ]
  },
  {
   "cell_type": "code",
   "execution_count": null,
   "metadata": {},
   "outputs": [],
   "source": [
    "# count (frequence of element which is mentioned in argument)\n",
    "tupl_1 = (1,1,1,1,2,2,3,3,3,4,4,4)\n",
    "tupl_1.count(4)"
   ]
  },
  {
   "cell_type": "code",
   "execution_count": null,
   "metadata": {},
   "outputs": [],
   "source": [
    "# index() to know the index of element\n",
    "tupl_1.index(2)"
   ]
  },
  {
   "cell_type": "markdown",
   "metadata": {},
   "source": [
    "## <font color = 'red'>10. Range Data Type</font>\n",
    "\n",
    "    range data Type  represents a sequence of numbers\n",
    "    \n",
    "    The elements  present in range Data type are not modifiable. i.e range data type is immutable."
   ]
  },
  {
   "cell_type": "code",
   "execution_count": null,
   "metadata": {},
   "outputs": [],
   "source": [
    "range(10)"
   ]
  },
  {
   "cell_type": "code",
   "execution_count": null,
   "metadata": {},
   "outputs": [],
   "source": [
    "range(1,5)"
   ]
  },
  {
   "cell_type": "code",
   "execution_count": null,
   "metadata": {},
   "outputs": [],
   "source": [
    "range(1,10,2)"
   ]
  },
  {
   "cell_type": "code",
   "execution_count": null,
   "metadata": {},
   "outputs": [],
   "source": [
    "a = range(1,12)"
   ]
  },
  {
   "cell_type": "code",
   "execution_count": null,
   "metadata": {},
   "outputs": [],
   "source": [
    "a[1]"
   ]
  },
  {
   "cell_type": "code",
   "execution_count": null,
   "metadata": {},
   "outputs": [],
   "source": [
    "a[12]"
   ]
  },
  {
   "cell_type": "markdown",
   "metadata": {},
   "source": [
    "## <font color = 'red'>11. Set Data Type</font>\n",
    "\n",
    "\n",
    "    If we want to represent a group of values without duplicates where order is not importent then we should go for set data type.\n",
    "    \n",
    "        1. Insertion Order is not preserved\n",
    "        2. Duplicates are not Allowed\n",
    "        3. Heterogeneous objects are allowed\n",
    "        4. Index Concept is not acceptable\n",
    "        5. It is mutable collection\n",
    "        6. Growable in natute"
   ]
  },
  {
   "cell_type": "markdown",
   "metadata": {},
   "source": [
    "    -> Creating a set \n",
    "        -> Removing Duplicates\n",
    "        -> Concatination or Addition of 2 sets is not possible\n",
    "        -> un supported operations\n",
    "        -> accessing elements in set using index\n",
    "        -> we are not able to update are add elements to set.\n",
    "        -> Adding elements to set with help of add() function.\n",
    "        -> Removing the elements from set .remove\n",
    "        -> union of sets\n",
    "        -> intersection of sets\n",
    "        -> Difference of sets\n",
    "        -> converting list to set for remove duplicate "
   ]
  },
  {
   "cell_type": "code",
   "execution_count": null,
   "metadata": {},
   "outputs": [],
   "source": [
    "# sets are collection of unique objects, denoted with \"{}\"    -->lists[],tuples()\n",
    "\n",
    "# it remove the duplicates\n",
    "s1 = {99,98,97,96,87,456,345,4523,234,123,56,99,98,97,96}\n",
    "print(s1)\n",
    "print(len(s1)) # count gives only unique values"
   ]
  },
  {
   "cell_type": "code",
   "execution_count": null,
   "metadata": {},
   "outputs": [],
   "source": [
    "# Concatenation or addition of sets is not possible\n",
    "\n",
    "s1 = {99,98,97,96,87,456,345,4523,234,123,56,99,98,97,96,5,36,67,456,756,856,8567,9768976}\n",
    "s2 = {1234,234123,42,345,36,67,456,756,856,8567,9768976,8,1234,234123,42,345,36,67,456,}  # duplicates removed\n",
    "s3 = {99,98,97,96,87,4,345,4523,234,123,56,99,98,97,96}\n",
    "print(len(s2))\n",
    "print(s1+s3)"
   ]
  },
  {
   "cell_type": "code",
   "execution_count": null,
   "metadata": {},
   "outputs": [],
   "source": [
    "# un supported operations\n",
    "\n",
    "print(s1-2) # substraction with a single integer value\n",
    "print(s1/2) # diviosn\n",
    "print(s1*2) # multipllication"
   ]
  },
  {
   "cell_type": "code",
   "execution_count": null,
   "metadata": {},
   "outputs": [],
   "source": [
    "# accessing elements in set using index\n",
    "s1[:2]"
   ]
  },
  {
   "cell_type": "code",
   "execution_count": null,
   "metadata": {},
   "outputs": [],
   "source": [
    "# we are not able to update are add elements to set.\n",
    "#s1(99) =11111\n",
    "s1.append(1111)"
   ]
  },
  {
   "cell_type": "code",
   "execution_count": null,
   "metadata": {},
   "outputs": [],
   "source": [
    "# Adding Elements to set\n",
    "\n",
    "s1.add(111)"
   ]
  },
  {
   "cell_type": "code",
   "execution_count": null,
   "metadata": {},
   "outputs": [],
   "source": [
    "s1"
   ]
  },
  {
   "cell_type": "code",
   "execution_count": null,
   "metadata": {},
   "outputs": [],
   "source": [
    "# removing elements from set\n",
    "\n",
    "s1.remove(111)"
   ]
  },
  {
   "cell_type": "code",
   "execution_count": null,
   "metadata": {},
   "outputs": [],
   "source": [
    "s1"
   ]
  },
  {
   "cell_type": "code",
   "execution_count": null,
   "metadata": {},
   "outputs": [],
   "source": [
    "# union of sets\n",
    "print(s1 | s2)\n",
    "print(len(s1.union(s2)))"
   ]
  },
  {
   "cell_type": "code",
   "execution_count": null,
   "metadata": {},
   "outputs": [],
   "source": [
    "# intersection of sets\n",
    "\n",
    "print(s1 & s2)\n",
    "print(len(s1.intersection(s2)))"
   ]
  },
  {
   "cell_type": "code",
   "execution_count": null,
   "metadata": {},
   "outputs": [],
   "source": [
    "#Difference of sets\n",
    "print(s1)\n",
    "print(len(s1))\n",
    "\n",
    "print(s2)\n",
    "print(len(s2))\n",
    "\n",
    "print(s1-s2)\n",
    "print(len(s1-s2))\n",
    "\n",
    "print(s2-s1)\n",
    "print(len(s2-s1)) "
   ]
  },
  {
   "cell_type": "code",
   "execution_count": null,
   "metadata": {},
   "outputs": [],
   "source": [
    "# converting list to set for remove duplicate \n",
    "\n",
    "lis9 = [1,1,2,3,4,5,6,7,8,9,10,11,12,12,123,134,123,12,332,423,4]\n",
    "print(lis9)\n",
    "print(\"Elements count in list : \",len(lis9))\n",
    "\n",
    "listoset = set(lis9)\n",
    "print(listoset)\n",
    "print(\"Elements count in Set : \",len(listoset))\n",
    "\n",
    "print(\"Duplicate elements\",len(lis9)-len(listoset))"
   ]
  },
  {
   "cell_type": "code",
   "execution_count": null,
   "metadata": {},
   "outputs": [],
   "source": []
  },
  {
   "cell_type": "markdown",
   "metadata": {},
   "source": [
    "## <font color = 'red'>12. frozenSet Data Type</font>\n",
    "\n",
    "    It is exactly same as set except that it is immutable.\n",
    "    \n",
    "    Hence we can not use add or remove functions."
   ]
  },
  {
   "cell_type": "code",
   "execution_count": null,
   "metadata": {},
   "outputs": [],
   "source": [
    "s2 = {1,2,3,4,5,6,7}\n",
    "\n",
    "fs2 = frozenset(s2)\n",
    "\n",
    "print(type(s2))\n",
    "print(type(fs2))"
   ]
  },
  {
   "cell_type": "code",
   "execution_count": null,
   "metadata": {},
   "outputs": [],
   "source": [
    "# we can not add elements\n",
    "fs2.add(9)"
   ]
  },
  {
   "cell_type": "code",
   "execution_count": null,
   "metadata": {},
   "outputs": [],
   "source": [
    "# we can not remove elements\n",
    "\n",
    "fs2.remove(7)"
   ]
  },
  {
   "cell_type": "code",
   "execution_count": null,
   "metadata": {},
   "outputs": [],
   "source": []
  },
  {
   "cell_type": "markdown",
   "metadata": {},
   "source": [
    "## <font color = 'red'>13. Dict (Dictionary) Data Type</font>\n",
    "    \n",
    "        If we want to represent a group of values as key- value pairs then we should go for dict data type.\n",
    "        \n",
    "        Duplicate keys are not allowed but values can be duplicated. If we are trying to insert an entry with the duplicate key then old value will be replaced with new value.\n",
    "        \n",
    "        \n",
    "        Note :  Dict is mutable but order wont preserved.\n",
    "    "
   ]
  },
  {
   "cell_type": "markdown",
   "metadata": {},
   "source": [
    "        -> Creating the Dictionary\n",
    "        -> length of dictionary\n",
    "        -> Accessing elements using its key  in square brackets beside to dictionary name\n",
    "        -> We can assign integers also as a key values\n",
    "        -> To show up all keys in dictionary\n",
    "        -> To show up all the values in dictinary\n",
    "        -> To show up all the items in dictionay"
   ]
  },
  {
   "cell_type": "code",
   "execution_count": null,
   "metadata": {},
   "outputs": [],
   "source": [
    "# creating a dictionary\n",
    "\n",
    "dic1 = {'ds' :\"data science\", 'np' :'Numpy',\"pd\" :\"Pandas\",\"mplot\" :'Matplotlib','list1' : [1,2,3,4,5,6], 'set1' : {1,1,2,2,3,3,4,4},'tuple1' : (1,1,2,2,3,5,6,7,8), 134 : \"hi this is python\"}\n",
    "\n",
    "print(dic1)"
   ]
  },
  {
   "cell_type": "code",
   "execution_count": null,
   "metadata": {},
   "outputs": [],
   "source": [
    "#length of dictionary\n",
    "print(len(dic1))"
   ]
  },
  {
   "cell_type": "code",
   "execution_count": null,
   "metadata": {},
   "outputs": [],
   "source": [
    "# Accessing elements using its key  in square brackets beside to dictionary name\n",
    "print(dic1['ds'])"
   ]
  },
  {
   "cell_type": "code",
   "execution_count": null,
   "metadata": {},
   "outputs": [],
   "source": [
    "# we can assign integers also as a key values\n",
    "print(dic1[134])\n",
    "print(type(dic1[134]))"
   ]
  },
  {
   "cell_type": "code",
   "execution_count": null,
   "metadata": {},
   "outputs": [],
   "source": [
    "# To show up all keys in dictionary\n",
    "print(dic1.keys())\n",
    "print(type(dic1.keys()))"
   ]
  },
  {
   "cell_type": "code",
   "execution_count": null,
   "metadata": {},
   "outputs": [],
   "source": [
    "# To show up all the values in dictinary\n",
    "\n",
    "print(dic1.values())\n",
    "print(type(dic1.values()))"
   ]
  },
  {
   "cell_type": "code",
   "execution_count": null,
   "metadata": {},
   "outputs": [],
   "source": [
    "# to show up all the items in dictionay\n",
    "print(dic1.items())\n",
    "print(type(dic1.items()))"
   ]
  },
  {
   "cell_type": "code",
   "execution_count": null,
   "metadata": {},
   "outputs": [],
   "source": []
  },
  {
   "cell_type": "markdown",
   "metadata": {},
   "source": [
    "#### Note:\n",
    "1. In general we can use byte and bytarray data types to represent binary information like images, video files etc..\n",
    "\n",
    "2. In python 2 long data type is there but in python 3 int using instead of long data type.\n",
    "\n",
    "3. In python char is not avilable instead of it need to use str."
   ]
  },
  {
   "cell_type": "markdown",
   "metadata": {},
   "source": [
    "## <font color = 'red'>14. None Data Type</font>\n",
    "\n",
    "    1. None means nothing or No value associated.\n",
    "    2. If the value is not avilable, then to handle such type of cases None Introduced.\n",
    "    "
   ]
  },
  {
   "cell_type": "code",
   "execution_count": null,
   "metadata": {},
   "outputs": [],
   "source": [
    "def fun():\n",
    "    a= 10\n",
    "    "
   ]
  },
  {
   "cell_type": "code",
   "execution_count": null,
   "metadata": {},
   "outputs": [],
   "source": [
    "print(fun())"
   ]
  },
  {
   "cell_type": "code",
   "execution_count": null,
   "metadata": {},
   "outputs": [],
   "source": []
  },
  {
   "cell_type": "markdown",
   "metadata": {},
   "source": [
    "## <font color = 'pink'>Escape Characters in Python</font>\n",
    "\n",
    "\n",
    "1. \\n  --> new Line\n",
    "2. \\t  --> Horizontal Tab\n",
    "3. \\r  --> Carriage Tab\n",
    "4. \\b  --> Back Space\n",
    "5. \\f  --> Form feed\n",
    "6. \\v  --> Vertical Tab\n",
    "7. \\'  --> Single quote\n",
    "8. \\\"  --> Double Quote\n",
    "9. //  --> Back slash symbol"
   ]
  },
  {
   "cell_type": "code",
   "execution_count": null,
   "metadata": {},
   "outputs": [],
   "source": [
    "s = 'Mohan\\nKumar'\n",
    "s"
   ]
  },
  {
   "cell_type": "code",
   "execution_count": null,
   "metadata": {},
   "outputs": [],
   "source": [
    "print(s)"
   ]
  },
  {
   "cell_type": "markdown",
   "metadata": {},
   "source": [
    "# Mutable\n",
    "\n",
    "1. bytearray\n",
    "2. List\n",
    "3. set\n",
    "4. Dict\n"
   ]
  },
  {
   "cell_type": "markdown",
   "metadata": {},
   "source": [
    "# Immutable\n",
    "1. int\n",
    "2. Float\n",
    "3. Complex\n",
    "4. Bool\n",
    "5. Str\n",
    "6. Bytes\n",
    "7. range\n",
    "8. tuple\n",
    "9. Frozentset"
   ]
  },
  {
   "cell_type": "code",
   "execution_count": null,
   "metadata": {},
   "outputs": [],
   "source": []
  },
  {
   "cell_type": "markdown",
   "metadata": {},
   "source": [
    "# <font color = 'Red'>OPERATORS</font>"
   ]
  },
  {
   "cell_type": "markdown",
   "metadata": {},
   "source": [
    "1. OPerator is a symbol that performs certain Operations.\n",
    "2. Python Provides the following set of Operators\n",
    "\n",
    "        1. Arthmetic Operators\n",
    "        2. Relational/Comparsion Operators\n",
    "        3. Logical Operators\n",
    "        4. Bitwise Operators\n",
    "        5. Assignment Operators\n",
    "        6. Special Operators"
   ]
  },
  {
   "cell_type": "markdown",
   "metadata": {},
   "source": [
    "# <font color = 'Green'>1. Arthmetic Operators</font>\n",
    "\n",
    "    1. +     --> Addition\n",
    "    2. -     --> Substraction\n",
    "    3. *     --> Multiplication\n",
    "    4. /     --> Diviosn Operator\n",
    "    5. %     --> Modulo Operator\n",
    "    6. //    --> Floor Divison\n",
    "    7. **    --> Exponent or Power Operator"
   ]
  },
  {
   "cell_type": "code",
   "execution_count": null,
   "metadata": {},
   "outputs": [],
   "source": [
    "# Arthmetic Operations\n",
    "\n",
    "num_1 = 99\n",
    "num_2 = 9\n",
    "\n",
    "num_1,num_2 = 99,9\n",
    "\n",
    "\n",
    "# 1. +     --> Addition\n",
    "print(num_1 + num_2)\n",
    "\n",
    "# 2. -     --> Substraction\n",
    "print(num_1  - num_2)\n",
    "\n",
    "# 3. *     --> Multiplication\n",
    "print(num_1  * num_2)\n",
    "\n",
    "# 4. /     --> Diviosn Operator\n",
    "print(num_1 / num_2)\n",
    "\n",
    "# 5. %     --> Modulo Operator\n",
    "print(num_1 % num_2)\n",
    "\n",
    "# 6. //    --> Floor Divison\n",
    "print(num_1 //  num_2)\n",
    "\n",
    "# 7. **    --> Exponent or Power Operator\n",
    "print(num_1  ** num_2)\n",
    "\n"
   ]
  },
  {
   "cell_type": "markdown",
   "metadata": {},
   "source": [
    "### Note:\n",
    "\n",
    "    1. / Operator always performs floating point Arthmetic. Hence it will always returns float value.\n",
    "\n",
    "    2. But Floor division(//) can perform both floating point and integral arthmetic . if Arguments are int type then result in int type. If atleast one argument is a flaot type then result is a float type."
   ]
  },
  {
   "cell_type": "code",
   "execution_count": null,
   "metadata": {},
   "outputs": [],
   "source": [
    "# + , * operations on string \n",
    "\n",
    "sr = \"Hi this is PYthon\"\n",
    "\n",
    "st = 'Hi this is Data Sceince'\n",
    "\n",
    "addi = sr +st\n",
    "\n",
    "print(addi)"
   ]
  },
  {
   "cell_type": "markdown",
   "metadata": {},
   "source": [
    "#### Note : --  If we use + operator for str then compulsary both argument should be str , Other wise it will throw an error ."
   ]
  },
  {
   "cell_type": "markdown",
   "metadata": {},
   "source": [
    "#### Note : --  If we use * operator for str then compulsary one argument should be int and other argument should be str type."
   ]
  },
  {
   "cell_type": "code",
   "execution_count": null,
   "metadata": {},
   "outputs": [],
   "source": [
    "print(sr -st)"
   ]
  },
  {
   "cell_type": "code",
   "execution_count": null,
   "metadata": {},
   "outputs": [],
   "source": [
    "print(sr * st)"
   ]
  },
  {
   "cell_type": "code",
   "execution_count": null,
   "metadata": {},
   "outputs": [],
   "source": [
    "print(sr * 3)"
   ]
  },
  {
   "cell_type": "code",
   "execution_count": null,
   "metadata": {},
   "outputs": [],
   "source": []
  },
  {
   "cell_type": "code",
   "execution_count": null,
   "metadata": {},
   "outputs": [],
   "source": [
    "# Python Basics\n",
    "# Simple Arthimetic Operations\n",
    "# indentation TAB or 4 spaces\n",
    "\n",
    "a = 14\n",
    "b = 3\n",
    "print(\"Addition  :\", a + b ) # Add\n",
    "print(\"Substraction  :\",a - b ) # Subtract\n",
    "print(\"DIvision  :\",a / b ) # Divide\n",
    "print(\"Multiplication :\", a * b ) # Multiply\n",
    "print( \"Exponent\",a**b )  # Squared \n",
    "print(\"Modulo division\", a % b ) # Modulo "
   ]
  },
  {
   "cell_type": "code",
   "execution_count": null,
   "metadata": {},
   "outputs": [],
   "source": [
    "#Concatenation\n",
    "print(\"143\"+\"123\")\n",
    "print(\"mohan\" + \"Python\")\n",
    "print('mohan' + 'Python')\n",
    "print('mohan'+ \"python\")"
   ]
  },
  {
   "cell_type": "code",
   "execution_count": null,
   "metadata": {},
   "outputs": [],
   "source": [
    "# repetetion\n",
    "print('123'*5)\n",
    "print(123 * 5)\n",
    "print(\"abc\" *5)\n",
    "print(abc * 5)"
   ]
  },
  {
   "cell_type": "markdown",
   "metadata": {},
   "source": [
    "## Note:\n",
    "\n",
    "        + -> String Concatination Operator\n",
    "        * -> String Multiplication Operator\n",
    "        \n",
    "        \n",
    "        1. For any number X, x/0 and  x % 0  always raise \"ZeroDevisionError\""
   ]
  },
  {
   "cell_type": "markdown",
   "metadata": {},
   "source": [
    "# <font color = 'Green'>2.Relational/Comparision Operators</font>"
   ]
  },
  {
   "cell_type": "code",
   "execution_count": null,
   "metadata": {},
   "outputs": [],
   "source": [
    "#comparision Operators\n",
    "a = 14\n",
    "b = 3\n",
    "\n",
    "print(\"Graterthan :\", a > b )  # Greater than\n",
    "print( \"Graterthan or equal to :\",a >=b )  # Greater than or equal to\n",
    "print( \"Lessthan :\",a< b )  # Less than\n",
    "print( \"Lessthan or Equal to :\",a <=b )  # Less than or equal to\n",
    "print( \"Equal to\",a==b ) # Equal to\n",
    "print(\"Not equal to :\", a !=b ) # Not equal to"
   ]
  },
  {
   "cell_type": "code",
   "execution_count": null,
   "metadata": {},
   "outputs": [],
   "source": [
    "#comparision Operators/ Relational Operators we can apply to strings also\n",
    "a = 'Python'\n",
    "b = 'Python'\n",
    "\n",
    "print(\"Graterthan :\", a > b )  # Greater than\n",
    "print( \"Graterthan or equal to :\",a >=b )  # Greater than or equal to\n",
    "print( \"Lessthan :\",a< b )  # Less than\n",
    "print( \"Lessthan or Equal to :\",a <=b )  # Less than or equal to\n",
    "print( \"Equal to\",a==b ) # Equal to\n",
    "print(\"Not equal to :\", a !=b ) # Not equal to"
   ]
  },
  {
   "cell_type": "code",
   "execution_count": null,
   "metadata": {},
   "outputs": [],
   "source": [
    "# type functinoality\n",
    "\n",
    "print(type(32))\n",
    "print(type(32.0))\n",
    "\n",
    "print(type(True))\n",
    "print(type(False))\n",
    "\n",
    "print(type(1))\n",
    "print(type(0))\n",
    "\n",
    "print(type(3.14*6))\n",
    "print(type(12>14))\n",
    "\n",
    "print(type('String type'))"
   ]
  },
  {
   "cell_type": "code",
   "execution_count": null,
   "metadata": {},
   "outputs": [],
   "source": [
    "print(type(T))\n",
    "print(type(F))\n",
    "print(type(true))\n",
    "print(type(false))"
   ]
  },
  {
   "cell_type": "markdown",
   "metadata": {},
   "source": [
    "# <font color = 'Green'>3.Equality Operators Operators</font>\n",
    "\n",
    "\"==\" and \" != \""
   ]
  },
  {
   "cell_type": "code",
   "execution_count": null,
   "metadata": {},
   "outputs": [],
   "source": []
  },
  {
   "cell_type": "markdown",
   "metadata": {},
   "source": [
    "# <font color = 'Green'>4.Logical Operators Operators</font>\n",
    "\n",
    "1. and \n",
    "2. or \n",
    "3. not"
   ]
  },
  {
   "cell_type": "code",
   "execution_count": null,
   "metadata": {},
   "outputs": [],
   "source": [
    "True and True"
   ]
  },
  {
   "cell_type": "code",
   "execution_count": null,
   "metadata": {},
   "outputs": [],
   "source": [
    "True and False"
   ]
  },
  {
   "cell_type": "code",
   "execution_count": null,
   "metadata": {},
   "outputs": [],
   "source": [
    "False and False"
   ]
  },
  {
   "cell_type": "code",
   "execution_count": null,
   "metadata": {},
   "outputs": [],
   "source": [
    "True or True"
   ]
  },
  {
   "cell_type": "code",
   "execution_count": null,
   "metadata": {},
   "outputs": [],
   "source": [
    "True or False "
   ]
  },
  {
   "cell_type": "code",
   "execution_count": null,
   "metadata": {},
   "outputs": [],
   "source": [
    "False or True"
   ]
  },
  {
   "cell_type": "code",
   "execution_count": null,
   "metadata": {},
   "outputs": [],
   "source": [
    "not True"
   ]
  },
  {
   "cell_type": "code",
   "execution_count": null,
   "metadata": {},
   "outputs": [],
   "source": [
    "not False"
   ]
  },
  {
   "cell_type": "markdown",
   "metadata": {},
   "source": [
    "### For non- boolean Types Behaviour:\n",
    "\n",
    "0 means false\n",
    "\n",
    "non- zero means True\n",
    "\n",
    "empty string is always treated as false"
   ]
  },
  {
   "cell_type": "code",
   "execution_count": null,
   "metadata": {},
   "outputs": [],
   "source": [
    " 10 and 20 "
   ]
  },
  {
   "cell_type": "code",
   "execution_count": null,
   "metadata": {},
   "outputs": [],
   "source": [
    "10 and 5"
   ]
  },
  {
   "cell_type": "code",
   "execution_count": null,
   "metadata": {},
   "outputs": [],
   "source": [
    "12 and 30 "
   ]
  },
  {
   "cell_type": "code",
   "execution_count": null,
   "metadata": {},
   "outputs": [],
   "source": [
    "10 or 34"
   ]
  },
  {
   "cell_type": "code",
   "execution_count": null,
   "metadata": {},
   "outputs": [],
   "source": [
    "1 or 49"
   ]
  },
  {
   "cell_type": "code",
   "execution_count": null,
   "metadata": {},
   "outputs": [],
   "source": [
    "0 or 10"
   ]
  },
  {
   "cell_type": "code",
   "execution_count": null,
   "metadata": {},
   "outputs": [],
   "source": []
  },
  {
   "cell_type": "markdown",
   "metadata": {},
   "source": [
    "### Note : \n",
    "\n",
    "    AND\n",
    "\n",
    "    If the first argument is zero then the result is zero other wise result is Y\n",
    "    \n",
    "    \n",
    "    OR\n",
    "    \n",
    "    If x is True then result is true other wise result is Y"
   ]
  },
  {
   "cell_type": "code",
   "execution_count": null,
   "metadata": {},
   "outputs": [],
   "source": []
  },
  {
   "cell_type": "markdown",
   "metadata": {},
   "source": [
    "# <font color = 'Green'>5.Bitwise Operators</font>\n",
    "\n",
    "    - We can apply these operators bitwise.\n",
    "    \n",
    "    - These operators are applicable only for int and boolean types.\n",
    "    \n",
    "    - By mistake if we are trying to apply for any other type then we will get error.\n",
    "    \n",
    "    - &,|,^,~, <<,>>\n",
    "    "
   ]
  },
  {
   "cell_type": "code",
   "execution_count": null,
   "metadata": {},
   "outputs": [],
   "source": [
    "print(True & False)"
   ]
  },
  {
   "cell_type": "code",
   "execution_count": null,
   "metadata": {},
   "outputs": [],
   "source": [
    "print(12 & 13)"
   ]
  },
  {
   "cell_type": "code",
   "execution_count": null,
   "metadata": {},
   "outputs": [],
   "source": [
    "print(12 & True)"
   ]
  },
  {
   "cell_type": "code",
   "execution_count": null,
   "metadata": {},
   "outputs": [],
   "source": [
    "# & If both bits are 1 then only result is 1 otherwise result is 0\n",
    "\n",
    "print(True & True)"
   ]
  },
  {
   "cell_type": "code",
   "execution_count": null,
   "metadata": {},
   "outputs": [],
   "source": [
    "print(1 & 1)"
   ]
  },
  {
   "cell_type": "code",
   "execution_count": null,
   "metadata": {},
   "outputs": [],
   "source": [
    "print(1 & 2)"
   ]
  },
  {
   "cell_type": "code",
   "execution_count": null,
   "metadata": {},
   "outputs": [],
   "source": [
    "# It does not support float (only int and bool)\n",
    "print(12.3 &12)"
   ]
  },
  {
   "cell_type": "code",
   "execution_count": null,
   "metadata": {},
   "outputs": [],
   "source": [
    "# | If atleast one bit is 1 then result is one , Otherwise result is zero\n",
    "\n",
    "print(False| False)"
   ]
  },
  {
   "cell_type": "code",
   "execution_count": null,
   "metadata": {},
   "outputs": [],
   "source": [
    "print(True | False)"
   ]
  },
  {
   "cell_type": "code",
   "execution_count": null,
   "metadata": {},
   "outputs": [],
   "source": [
    "print(True| True)"
   ]
  },
  {
   "cell_type": "code",
   "execution_count": null,
   "metadata": {},
   "outputs": [],
   "source": [
    "print(False | 10)"
   ]
  },
  {
   "cell_type": "code",
   "execution_count": null,
   "metadata": {},
   "outputs": [],
   "source": [
    "# Special Case\n",
    "print(True | 10)"
   ]
  },
  {
   "cell_type": "code",
   "execution_count": null,
   "metadata": {},
   "outputs": [],
   "source": [
    "# unsuported operation\n",
    "\n",
    "print(10.5 | 12.6)"
   ]
  },
  {
   "cell_type": "code",
   "execution_count": null,
   "metadata": {},
   "outputs": [],
   "source": [
    "# ^ If bits are different hten only it gives result 1 otherwise 0 \n",
    "\n",
    "print(1 ^ 1)"
   ]
  },
  {
   "cell_type": "code",
   "execution_count": null,
   "metadata": {},
   "outputs": [],
   "source": [
    "print(True ^ True)"
   ]
  },
  {
   "cell_type": "code",
   "execution_count": null,
   "metadata": {},
   "outputs": [],
   "source": [
    "print(True ^ True)"
   ]
  },
  {
   "cell_type": "code",
   "execution_count": null,
   "metadata": {},
   "outputs": [],
   "source": [
    "print(12 ^ 13)"
   ]
  },
  {
   "cell_type": "markdown",
   "metadata": {},
   "source": [
    "###  \"~\" Bit wise complement operator {1 means 0 , 0 means one}\n",
    "\n",
    "    1. The most significant bit acts as sign bit. 0 value represents +ve number where as 1 represents -ve value.\n",
    "    \n",
    "    2. Positive numbers will be represented directly in the memory where as -ve numbers will be represented indirectly in 2 's complement form.\n",
    "\n",
    "\n"
   ]
  },
  {
   "cell_type": "code",
   "execution_count": null,
   "metadata": {},
   "outputs": [],
   "source": [
    "print(~True)"
   ]
  },
  {
   "cell_type": "code",
   "execution_count": null,
   "metadata": {},
   "outputs": [],
   "source": [
    "print(~False)"
   ]
  },
  {
   "cell_type": "code",
   "execution_count": null,
   "metadata": {},
   "outputs": [],
   "source": [
    "print(~1)"
   ]
  },
  {
   "cell_type": "code",
   "execution_count": null,
   "metadata": {},
   "outputs": [],
   "source": [
    "# << Bit wise left shift \n"
   ]
  },
  {
   "cell_type": "code",
   "execution_count": null,
   "metadata": {},
   "outputs": [],
   "source": [
    "# >> Bitwise right shift\n"
   ]
  },
  {
   "cell_type": "code",
   "execution_count": null,
   "metadata": {},
   "outputs": [],
   "source": [
    "print(4 ^5)"
   ]
  },
  {
   "cell_type": "code",
   "execution_count": null,
   "metadata": {},
   "outputs": [],
   "source": [
    "print(4 & 5)"
   ]
  },
  {
   "cell_type": "code",
   "execution_count": null,
   "metadata": {},
   "outputs": [],
   "source": [
    "print(4 | 5)"
   ]
  },
  {
   "cell_type": "markdown",
   "metadata": {},
   "source": [
    "# <font color = 'Green'>6.ShiftOperators</font>"
   ]
  },
  {
   "cell_type": "code",
   "execution_count": null,
   "metadata": {},
   "outputs": [],
   "source": []
  },
  {
   "cell_type": "markdown",
   "metadata": {},
   "source": [
    "# <font color = 'Green'>7.Assignment Operators</font>"
   ]
  },
  {
   "cell_type": "code",
   "execution_count": null,
   "metadata": {},
   "outputs": [],
   "source": []
  },
  {
   "cell_type": "markdown",
   "metadata": {},
   "source": [
    "# <font color = 'Green'>8.Ternary Operators or Conditional Operator</font>"
   ]
  },
  {
   "cell_type": "markdown",
   "metadata": {},
   "source": [
    "Syntax : x = firstvalue if condition else Secoend Value\n",
    "    \n",
    "  If Condition is True Then first value will be considered else secoend value will be Considered."
   ]
  },
  {
   "cell_type": "code",
   "execution_count": null,
   "metadata": {},
   "outputs": [],
   "source": [
    "a,b = 9,10 \n",
    "x= 10 if a>b else 9\n",
    "print(x)"
   ]
  },
  {
   "cell_type": "code",
   "execution_count": null,
   "metadata": {},
   "outputs": [],
   "source": [
    "# Reading two numbers from the keyboard and print minimum value\n",
    "\n",
    "a = int(input(\"Enter the first number :\"))\n",
    "b = int(input(\"Enter the Secoend number :\"))\n",
    "\n",
    "min = a if a<b else b\n",
    "print(min)"
   ]
  },
  {
   "cell_type": "code",
   "execution_count": null,
   "metadata": {},
   "outputs": [],
   "source": [
    "# Reading two numbers from the keyboard and print maximum value\n",
    "\n",
    "a = int(input(\"Enter the first number :\"))\n",
    "b = int(input(\"Enter the Secoend number :\"))\n",
    "\n",
    "min = a if a>b else b\n",
    "print(max)"
   ]
  },
  {
   "cell_type": "code",
   "execution_count": null,
   "metadata": {},
   "outputs": [],
   "source": [
    "## Reading three numbers from the keyboard and print minimum value\n",
    "a = int(input(\"Enter the first number :\"))\n",
    "b = int(input(\"Enter the Secoend number :\"))\n",
    "c = int(input(\"Enter the Third number :\"))\n",
    "\n",
    "min = a if a<b and a<c else b if a<c else c\n",
    "\n",
    "print(min)"
   ]
  },
  {
   "cell_type": "code",
   "execution_count": null,
   "metadata": {},
   "outputs": [],
   "source": [
    "## Reading three numbers from the keyboard and print Maximim value value\n",
    "a = int(input(\"Enter the first number :\"))\n",
    "b = int(input(\"Enter the Secoend number :\"))\n",
    "c = int(input(\"Enter the Third number :\"))\n",
    "\n",
    "max = a if a>b and a>c else b if a>c else c\n",
    "\n",
    "print(max)"
   ]
  },
  {
   "cell_type": "code",
   "execution_count": null,
   "metadata": {},
   "outputs": [],
   "source": []
  },
  {
   "cell_type": "code",
   "execution_count": null,
   "metadata": {},
   "outputs": [],
   "source": [
    "# Reading two numbers from the keyboard and print minimum value\n",
    "\n",
    "a = int(input(\"Enter the first number :\"))\n",
    "b = int(input(\"Enter the Secoend number :\"))\n",
    "\n",
    "print(\"Equal\" if a==b else \"a is Greater than b\" if a>b else \"b is Grater than a\")"
   ]
  },
  {
   "cell_type": "code",
   "execution_count": null,
   "metadata": {},
   "outputs": [],
   "source": []
  },
  {
   "cell_type": "markdown",
   "metadata": {},
   "source": [
    "# <font color = 'Green'>9.Special Operator</font>\n",
    "\n",
    "\n",
    "    Python defines the following 2 special Operators\n",
    "        1. Identity Operators\n",
    "        2. Membership Operators\n",
    "        \n",
    "        "
   ]
  },
  {
   "cell_type": "markdown",
   "metadata": {},
   "source": [
    "### Identity Operators\n",
    "\n",
    "1. We can use identity operators for address comparision.\n",
    "2. There are 2 identity operators are avilable\n",
    "            1. is \n",
    "            2. is not\n",
    "            \n",
    "      r1 is r2 return True if both r1 and r2 are pointing to the same object.\n",
    "      \n",
    "      r1 is not r2 returns True if both r1 and r2 are not poinitng to the same object.\n",
    "      \n",
    "      "
   ]
  },
  {
   "cell_type": "code",
   "execution_count": null,
   "metadata": {},
   "outputs": [],
   "source": [
    "a = 10 \n",
    "\n",
    "b = 10 \n",
    "\n",
    "print(a is b )"
   ]
  },
  {
   "cell_type": "code",
   "execution_count": null,
   "metadata": {},
   "outputs": [],
   "source": [
    "x = True \n",
    "\n",
    "y = True\n",
    "\n",
    "print(x is y)"
   ]
  },
  {
   "cell_type": "code",
   "execution_count": null,
   "metadata": {},
   "outputs": [],
   "source": [
    "a = \"Mohan\"\n",
    "\n",
    "b = 'Mohan'\n",
    "\n",
    "print(id(a))\n",
    "\n",
    "print(id(b))\n",
    "\n",
    "print(a is b )"
   ]
  },
  {
   "cell_type": "markdown",
   "metadata": {},
   "source": [
    "#### Note : -  We can use is operator for address comparision where as  \"==\" operator for content comparision."
   ]
  },
  {
   "cell_type": "code",
   "execution_count": null,
   "metadata": {},
   "outputs": [],
   "source": [
    "lis_1 = [\"Python\", \"Numpy\", \"Pandas\"]\n",
    "\n",
    "lis_2 = [\"Python\", \"Numpy\", \"Pandas\"]\n",
    "\n",
    "print(id(lis_1))\n",
    "\n",
    "print(id(lis_2))\n",
    "\n",
    "print(lis_1 is lis_2)\n",
    "\n",
    "print(lis_1 is not lis_2)\n",
    "\n",
    "print(lis_1 == lis_2)"
   ]
  },
  {
   "cell_type": "code",
   "execution_count": null,
   "metadata": {},
   "outputs": [],
   "source": [
    "## Membership Operators\n",
    "\n",
    "    We can use  Membership operators to check weather the given object present in the given collection.\n",
    "    {It may be list, Tuple, set , String or dict}\n",
    "    \n",
    "    In -> Returns True if the given Object present in the specified collection\n",
    "    \n",
    "    not in -> Returns True if the given Object not present in the specified collection"
   ]
  },
  {
   "cell_type": "code",
   "execution_count": null,
   "metadata": {},
   "outputs": [],
   "source": [
    "\n",
    "x  = 'This is python'\n",
    "\n",
    "print('p'  in x)\n",
    "\n",
    "print('z' not in x)\n",
    "\n",
    "print('is' in x)"
   ]
  },
  {
   "cell_type": "code",
   "execution_count": null,
   "metadata": {},
   "outputs": [],
   "source": [
    "# try this in list also "
   ]
  },
  {
   "cell_type": "code",
   "execution_count": null,
   "metadata": {},
   "outputs": [],
   "source": []
  },
  {
   "cell_type": "markdown",
   "metadata": {},
   "source": [
    "# <font color = 'Green'>Mathemetical Functions(math module)</font>"
   ]
  },
  {
   "cell_type": "markdown",
   "metadata": {},
   "source": [
    "A Module is collection of functions, variables and classes etc..\n",
    "\n",
    "Math is a module that contains several functions to perform mathematical operations.\n",
    "\n",
    "If we want to use any module in Pyhton, first we have to import that module.\n",
    "\n"
   ]
  },
  {
   "cell_type": "code",
   "execution_count": null,
   "metadata": {},
   "outputs": [],
   "source": [
    "import math"
   ]
  },
  {
   "cell_type": "code",
   "execution_count": null,
   "metadata": {},
   "outputs": [],
   "source": [
    "print(math.sqrt(16))\n",
    "\n",
    "print(math.pi)"
   ]
  },
  {
   "cell_type": "code",
   "execution_count": null,
   "metadata": {},
   "outputs": [],
   "source": []
  },
  {
   "cell_type": "code",
   "execution_count": null,
   "metadata": {},
   "outputs": [],
   "source": [
    "# write a python program to find area of circle\n",
    "\n",
    "import math\n",
    "\n",
    "from math import pi\n",
    "r= 10\n",
    "\n",
    "print(\"Area: {}\".format(pi * r ** 2))"
   ]
  },
  {
   "cell_type": "code",
   "execution_count": null,
   "metadata": {},
   "outputs": [],
   "source": []
  },
  {
   "cell_type": "markdown",
   "metadata": {},
   "source": [
    "# <font color = 'Green'>Input and Output Statements</font>"
   ]
  },
  {
   "cell_type": "markdown",
   "metadata": {},
   "source": [
    "####  Reading Dynamic iput from the Keyboard\n",
    "\n",
    "Python 2\n",
    "\n",
    "    1. raw_input()\n",
    "    2. input()\n",
    "    \n",
    "    raw_input(): This function always reads the data from the keyboard in the form of \"string\" format. We have to convert that string type to our required type by using type casting methods.\n",
    "    \n",
    "    EG - int()\n",
    "         float()\n",
    "         str()\n",
    "         complex()  - not importent \n",
    "         bool()\n",
    "         \n",
    "         \n",
    "Python 3 \n",
    "       \n",
    "           In python 3 we have only \"input()\" method and raw_input() method is not avilable.\n",
    "           \n",
    "           Python 3 input() function behaviour exactly same as raw_input() method of python 2.\n",
    "           \n",
    "           "
   ]
  },
  {
   "cell_type": "code",
   "execution_count": null,
   "metadata": {},
   "outputs": [],
   "source": [
    "# Giving input\n",
    "\n",
    "inp = int(input(\"Enter the number: \"))"
   ]
  },
  {
   "cell_type": "code",
   "execution_count": null,
   "metadata": {},
   "outputs": [],
   "source": [
    "# Giving input\n",
    "\n",
    "inp = int(input(\"Enter the number: \"))"
   ]
  },
  {
   "cell_type": "code",
   "execution_count": null,
   "metadata": {},
   "outputs": [],
   "source": [
    "# GIving input -> there is no restriction   \n",
    "\n",
    "inp = input(\"Enter the number: \")\n"
   ]
  },
  {
   "cell_type": "code",
   "execution_count": null,
   "metadata": {},
   "outputs": [],
   "source": [
    "# creating multiple input\n",
    "\n",
    "a = input(\"First Number : \")\n",
    "b = input(\"Secoend Number : \")\n",
    "c = input(\"Third Number : \")\n",
    "d = input(\"Fourth Number : \")\n",
    "\n",
    "# addition\n",
    "\n",
    "print(a +b+c+d)\n",
    "\n",
    "print(type(a+b+c+d))\n",
    "\n",
    "print(int(a+b+c+d))\n",
    "\n",
    "print(type(int(a+b+c+d)))\n",
    "\n",
    "# Small loop to convert strings to integers\n",
    "\n",
    "for var in a,b,c,d:\n",
    "    var = int(var)\n",
    "    print(var)\n",
    "    \n",
    "    print(a +b+c+d)"
   ]
  },
  {
   "cell_type": "code",
   "execution_count": null,
   "metadata": {},
   "outputs": [],
   "source": [
    "# write a program to read Employee Data from the keyboard and print that data\n",
    "\n",
    "eno = int(input(\"Employee Number : \"))\n",
    "ename = input(\"Enter the employee Nmae : \")\n",
    "esal = float(input(\"Enter Employee Salary : \"))\n",
    "eaddr = input(\"Employee Address :\" )\n",
    "Married = bool(input(\"Employee Married ? [True]/ [Flase] : \"))\n",
    "print(\"Please confirm information\")\n",
    "\n",
    "\n",
    "    \n",
    "print(\"Employee Number : {}\".format(eno))\n",
    "print(\"Employee Name : {}\".format(ename))\n",
    "print(\"Employee Salary : {}\".format(esal))\n",
    "print(\"Employee Address : {}\".format(eaddr))\n",
    "print(\"Employee Married :  {}\".format(Married))"
   ]
  },
  {
   "cell_type": "code",
   "execution_count": null,
   "metadata": {},
   "outputs": [],
   "source": [
    "# how to read multiuple values from the keyboard in a single line\n",
    "\n",
    "a, b = [int(x) for x in input(\"Enter two numbers : \").split()]\n",
    "print(\"Product of a & b is  : {}\".format(a*b))"
   ]
  },
  {
   "cell_type": "markdown",
   "metadata": {},
   "source": [
    "### Note: \n",
    "\n",
    "    split() function can take space as seperator by default. But we can pass anything as seperator."
   ]
  },
  {
   "cell_type": "code",
   "execution_count": null,
   "metadata": {},
   "outputs": [],
   "source": [
    "# Write a program to read 3 flaot numbers from the keyboard with , seperator and print their sum\n",
    "\n",
    "a,b,c = [float(x) for x in input(\"Enter three numbers : \").split(\",\")]\n",
    "print(\"Sum of a,b,c : {}\".format(a+b+c))"
   ]
  },
  {
   "cell_type": "markdown",
   "metadata": {},
   "source": [
    "### eval():\n",
    "\n",
    "    eval Function take a string and evaluate the result.\n",
    "    \n",
    "    eval() can evaluate the input to list, tuple, set, etc based on the provided input."
   ]
  },
  {
   "cell_type": "code",
   "execution_count": null,
   "metadata": {},
   "outputs": [],
   "source": [
    "x = eval(\"10+11+12\")\n",
    "print(x)"
   ]
  },
  {
   "cell_type": "code",
   "execution_count": null,
   "metadata": {},
   "outputs": [],
   "source": [
    "x = eval(input(\"Enter Expression : \"))\n",
    "x"
   ]
  },
  {
   "cell_type": "code",
   "execution_count": null,
   "metadata": {},
   "outputs": [],
   "source": [
    "i = eval(input(\"Enter List : \"))\n",
    "print(type(i))\n",
    "print(i)"
   ]
  },
  {
   "cell_type": "code",
   "execution_count": null,
   "metadata": {},
   "outputs": [],
   "source": []
  },
  {
   "cell_type": "code",
   "execution_count": null,
   "metadata": {},
   "outputs": [],
   "source": [
    "import sys\n",
    "print(sys.version)\n"
   ]
  },
  {
   "cell_type": "code",
   "execution_count": null,
   "metadata": {},
   "outputs": [],
   "source": []
  },
  {
   "cell_type": "markdown",
   "metadata": {},
   "source": [
    "## Command line Arguments   -> Need to get more clarity on it"
   ]
  },
  {
   "cell_type": "markdown",
   "metadata": {},
   "source": [
    "1. argv is not array it is a list. It is avilable sys Module.\n",
    "2. The Argument which are passing at the time of execution are called command line arguments."
   ]
  },
  {
   "cell_type": "markdown",
   "metadata": {},
   "source": []
  },
  {
   "cell_type": "code",
   "execution_count": null,
   "metadata": {},
   "outputs": [],
   "source": [
    "# Need to include image in Jupyter note book"
   ]
  },
  {
   "cell_type": "markdown",
   "metadata": {},
   "source": []
  },
  {
   "cell_type": "code",
   "execution_count": null,
   "metadata": {},
   "outputs": [],
   "source": [
    "# write a program to display command line Arguments\n",
    "\n",
    "from sys import argv\n",
    "print(\"The Number of Command Line Arguments : \", len(argv))\n",
    "print(\"The List of command line Arguments : \", argv)\n",
    "print(\"Command line Arguments one by one:\")\n",
    "\n",
    "for x in argv:\n",
    "    print(x)"
   ]
  },
  {
   "cell_type": "code",
   "execution_count": null,
   "metadata": {},
   "outputs": [],
   "source": []
  },
  {
   "cell_type": "code",
   "execution_count": null,
   "metadata": {},
   "outputs": [],
   "source": []
  },
  {
   "cell_type": "code",
   "execution_count": null,
   "metadata": {},
   "outputs": [],
   "source": []
  },
  {
   "cell_type": "markdown",
   "metadata": {},
   "source": [
    "## Output Statments\n",
    "\n",
    "    We can use print() function to display output.\n",
    "    \n",
    "    print() without any argument , it prints justnew line character\n"
   ]
  },
  {
   "cell_type": "code",
   "execution_count": null,
   "metadata": {},
   "outputs": [],
   "source": [
    "print(String):"
   ]
  },
  {
   "cell_type": "code",
   "execution_count": null,
   "metadata": {},
   "outputs": [],
   "source": [
    "print(\"Hellow World\")"
   ]
  },
  {
   "cell_type": "code",
   "execution_count": null,
   "metadata": {},
   "outputs": [],
   "source": [
    "# we can use escape character also\n",
    "\n",
    "print(\"Hellow \\n World\")"
   ]
  },
  {
   "cell_type": "code",
   "execution_count": null,
   "metadata": {},
   "outputs": [],
   "source": [
    "# tab Spaced\n",
    "print(\"Hellow \\t World\")"
   ]
  },
  {
   "cell_type": "code",
   "execution_count": null,
   "metadata": {},
   "outputs": [],
   "source": [
    "# We can use repetetion operator(*)in the String\n",
    "\n",
    "print('Repetition' *5)"
   ]
  },
  {
   "cell_type": "code",
   "execution_count": null,
   "metadata": {},
   "outputs": [],
   "source": [
    "# we can use  +{Concatination} operator also for the strings\n",
    "\n",
    "print(\"Python + Data Sceince\")"
   ]
  },
  {
   "cell_type": "markdown",
   "metadata": {},
   "source": [
    "### Note :\n",
    "\n",
    "    If both arguments are string type then + operator acts as concatination operator\n",
    "    \n",
    "    If one argument is string type and secoend is any other type like int then we will get error.\n",
    "    \n",
    "    If both the operators are number type then + operator acts as arthmetic addition operator."
   ]
  },
  {
   "cell_type": "code",
   "execution_count": null,
   "metadata": {},
   "outputs": [],
   "source": [
    "print(\"Hello\" +\"World\")\n",
    "print(\"Hello\",\"World\")"
   ]
  },
  {
   "cell_type": "code",
   "execution_count": null,
   "metadata": {},
   "outputs": [],
   "source": [
    "# print() with varaible number of arguments\n",
    "\n",
    "a,b,c = 9,8,7\n",
    "\n",
    "print(\"All the Varaibles : \",a,b,c)"
   ]
  },
  {
   "cell_type": "code",
   "execution_count": null,
   "metadata": {},
   "outputs": [],
   "source": [
    "# By Defaultly out put values are seperated by space. If we want we can specify seperator by using \"sep\"\n",
    "\n",
    "print(a,b,c,)\n",
    "\n",
    "print(a,b,c,sep = \",\")\n",
    "\n",
    "print(a,b,c,sep = \":\")\n",
    "\n",
    "print(a,b,c,sep = \"_\")"
   ]
  },
  {
   "cell_type": "code",
   "execution_count": null,
   "metadata": {},
   "outputs": [],
   "source": [
    "# print()with end attribute \n",
    "\n",
    "print(\"This\")\n",
    "print(\"is\")\n",
    "print(\"Python\")\n",
    " "
   ]
  },
  {
   "cell_type": "code",
   "execution_count": null,
   "metadata": {},
   "outputs": [],
   "source": [
    "# need to keep space in between \"\"\n",
    "\n",
    "print(\"This\",end = \"\")\n",
    "print(\"is\")\n",
    "print(\"Python\")"
   ]
  },
  {
   "cell_type": "code",
   "execution_count": null,
   "metadata": {},
   "outputs": [],
   "source": [
    "print(\"This\",end = \" \")\n",
    "print(\"is\",end = \" \")\n",
    "print(\"Python\",end = \" \")"
   ]
  },
  {
   "cell_type": "code",
   "execution_count": null,
   "metadata": {},
   "outputs": [],
   "source": [
    "print(\"This\",end = \"\")\n",
    "print(\"is\",end = \"\")\n",
    "print(\"Python\",end = \"\")"
   ]
  },
  {
   "cell_type": "code",
   "execution_count": null,
   "metadata": {},
   "outputs": [],
   "source": [
    "# print(object) statment\n",
    "lis = [1,2,3,4,5]\n",
    "tup = [6,7,8,9,10]\n",
    "print(lis)\n",
    "print(tup)"
   ]
  },
  {
   "cell_type": "code",
   "execution_count": null,
   "metadata": {},
   "outputs": [],
   "source": [
    "# print(formatted string )\n",
    "\n",
    "    %i  -> int\n",
    "    \n",
    "    %d  -> int"
   ]
  },
  {
   "cell_type": "code",
   "execution_count": null,
   "metadata": {},
   "outputs": [],
   "source": [
    "a = 9\n",
    "b = 19\n",
    "c = 29\n",
    "\n",
    "print(\"a value is %i\"%a, )\n",
    "\n",
    "print(\"a value is %d\"%a)\n",
    "\n",
    "print(\"a value is %f\"%a)\n",
    "\n",
    "print(\"a value is %s\"%a)\n",
    "\n",
    "print(\"a value is %i and b value is %f and c value is %s\" %(a,b,c))"
   ]
  },
  {
   "cell_type": "code",
   "execution_count": null,
   "metadata": {},
   "outputs": [],
   "source": [
    "# replacement operator {}\n",
    "\n",
    "Name = 'Mohan'\n",
    "\n",
    "Number = 9\n",
    "\n",
    "print(\"My Name is {} and Number is {}\".format(Name, Number))\n",
    "\n"
   ]
  },
  {
   "cell_type": "code",
   "execution_count": null,
   "metadata": {},
   "outputs": [],
   "source": []
  },
  {
   "cell_type": "markdown",
   "metadata": {},
   "source": [
    "# Flow control Staments"
   ]
  },
  {
   "cell_type": "markdown",
   "metadata": {},
   "source": [
    "    Flow control describes the order in which statments will be executed at runtime.\n",
    "    \n",
    "    \n",
    "    Control FLow \n",
    "    ------------\n",
    "    \n",
    "        1. Conditional Statments \n",
    "                    1. If\n",
    "                    2. If - elif\n",
    "                    3. If - elif -else\n",
    "        \n",
    "        2. Transfer Statments\n",
    "                    1. Break\n",
    "                    2. Continue\n",
    "                    3. Pass\n",
    "        \n",
    "        3. Iterative Statments\n",
    "                    1. For\n",
    "                    2. While"
   ]
  },
  {
   "cell_type": "markdown",
   "metadata": {},
   "source": [
    "# Conditional Statements\n",
    "\n",
    "## if\n",
    "\n",
    "    if condition:statment\n",
    "\n",
    "        or \n",
    "        \n",
    "    if condition:\n",
    "    \n",
    "        Statment -  1\n",
    "    \n",
    "        Statment -  2\n",
    "    \n",
    "        Statment -  3\n",
    "    \n",
    "#### If condition is true then statments will be executede."
   ]
  },
  {
   "cell_type": "markdown",
   "metadata": {},
   "source": [
    "## If -elif"
   ]
  },
  {
   "cell_type": "code",
   "execution_count": null,
   "metadata": {},
   "outputs": [],
   "source": []
  },
  {
   "cell_type": "markdown",
   "metadata": {},
   "source": [
    "## if- else"
   ]
  },
  {
   "cell_type": "code",
   "execution_count": null,
   "metadata": {},
   "outputs": [],
   "source": []
  },
  {
   "cell_type": "code",
   "execution_count": null,
   "metadata": {},
   "outputs": [],
   "source": []
  },
  {
   "cell_type": "markdown",
   "metadata": {},
   "source": [
    "## if-elif -else"
   ]
  },
  {
   "cell_type": "code",
   "execution_count": null,
   "metadata": {},
   "outputs": [],
   "source": []
  },
  {
   "cell_type": "code",
   "execution_count": null,
   "metadata": {},
   "outputs": [],
   "source": []
  },
  {
   "cell_type": "code",
   "execution_count": null,
   "metadata": {},
   "outputs": [],
   "source": [
    "# Write a program to find biggest of given 2 Numbers from the command Promt\n",
    "\n",
    "n1 = int(input(\"Enter the first Number :\"))\n",
    "\n",
    "n2 = int(input(\"ENter the secoend Number: \"))\n",
    "\n",
    "if n1 > n2:\n",
    "    print(\"{} is bigger than {}\".format(n1,n2))\n",
    "    \n",
    "else:\n",
    "    print(\"{} is bigger than {}\".format(n2,n1))"
   ]
  },
  {
   "cell_type": "code",
   "execution_count": null,
   "metadata": {},
   "outputs": [],
   "source": [
    "# Write a program to find biggest of given 2 Numbers from the command Promt\n",
    "\n",
    "n1 = int(input(\"Enter the first Number :\"))\n",
    "\n",
    "n2 = int(input(\"ENter the secoend Number: \"))\n",
    "\n",
    "n3 = int(input(\"Enter third Number : \"))\n",
    "\n",
    "if n1 > n2 and n1 > n3:\n",
    "    print(\"{} is bigger than {} and {}\".format(n1,n2,n3))\n",
    "    \n",
    "elif n2 > n3 :\n",
    "    print(\"{} is bigger than {} and {}\".format(n2,n1,n3))\n",
    "    \n",
    "else:\n",
    "    print(\"{} is bigger than {} and {}\".format(n3,n1,n2))"
   ]
  },
  {
   "cell_type": "code",
   "execution_count": null,
   "metadata": {},
   "outputs": [],
   "source": [
    "# Write a Program to check wheather the given Number is in Between 1 an100\n",
    "\n",
    "n1 = int(input(\"Enter the first Number :\"))\n",
    "\n",
    "if n1>=1 and n1<=100:\n",
    "    print(\"The {} in Between 1 & 100\".format(n1))\n",
    "    \n",
    "else:\n",
    "    print(\"The {} not in Between 1 & 100\".format(n1))"
   ]
  },
  {
   "cell_type": "code",
   "execution_count": null,
   "metadata": {},
   "outputs": [],
   "source": []
  },
  {
   "cell_type": "markdown",
   "metadata": {},
   "source": [
    "# Iterative Statments"
   ]
  },
  {
   "cell_type": "markdown",
   "metadata": {},
   "source": [
    "    If we want to execute a group of statments multiple times then we should go for Iterative statments.\n",
    "    \n",
    "    Python Supports two types of Iterative Statments.\n",
    "            1. For loop\n",
    "            2. While Loop\n",
    "            \n",
    "## For Loop:\n",
    "\n",
    "    If we want to execute some action for every element present in some sequence\n",
    "    (It may be string or collection) then we should go for \"for\" loop.\n",
    "    \n",
    "### Syntax:\n",
    "\n",
    "    for x in sequence:\n",
    "        \n",
    "        Body\n",
    "        \n",
    "    Where sequence can be string or any collection.\n",
    "    \n",
    "    Body will be executed for every element present in the sequence.\n"
   ]
  },
  {
   "cell_type": "code",
   "execution_count": null,
   "metadata": {},
   "outputs": [],
   "source": [
    "a = [1,2,3,4,5,6,7,8,9,10]\n",
    "for num in a:\n",
    "    print(num)"
   ]
  },
  {
   "cell_type": "code",
   "execution_count": null,
   "metadata": {},
   "outputs": [],
   "source": [
    "s = \"This is Python\"\n",
    "\n",
    "for let in s:\n",
    "    print(let)"
   ]
  },
  {
   "cell_type": "code",
   "execution_count": null,
   "metadata": {},
   "outputs": [],
   "source": [
    "# To print Characters present in string index wise\n",
    "\n",
    "s= input(\"Enter some String :\")\n",
    "\n",
    "i = 0 \n",
    "\n",
    "for let in s:\n",
    "    print(\"The caharacter present at \",i,\"index is \",let)\n",
    "    i = i+1"
   ]
  },
  {
   "cell_type": "code",
   "execution_count": null,
   "metadata": {},
   "outputs": [],
   "source": [
    "# To print Hello 10 times\n",
    "\n",
    "for x in range(10):\n",
    "    print(\"Hello\")"
   ]
  },
  {
   "cell_type": "code",
   "execution_count": null,
   "metadata": {},
   "outputs": [],
   "source": [
    "# To display numbers from 0 to 10 \n",
    "\n",
    "for x in range(11):\n",
    "    print(x)"
   ]
  },
  {
   "cell_type": "code",
   "execution_count": null,
   "metadata": {},
   "outputs": [],
   "source": [
    "# To display odd numbers from 0 to 20\n",
    "\n",
    "for num in range(20):\n",
    "    if (num%2!=0):\n",
    "        print(num)"
   ]
  },
  {
   "cell_type": "code",
   "execution_count": null,
   "metadata": {},
   "outputs": [],
   "source": [
    "# To display numbers from 10 to 1 in descending order\n",
    "\n",
    "for x in range(10,0,-1):\n",
    "    print(x)"
   ]
  },
  {
   "cell_type": "code",
   "execution_count": null,
   "metadata": {},
   "outputs": [],
   "source": [
    "# To print sum of numbers present inside a list\n",
    "\n",
    "lis_1 = eval(input(\"Enter a list : \"))\n",
    "sum = 0\n",
    "for num in lis_1:\n",
    "    sum = sum + num\n",
    "print(\"The sum of the List : \", sum)"
   ]
  },
  {
   "cell_type": "markdown",
   "metadata": {},
   "source": [
    "## 2. While Loop"
   ]
  },
  {
   "cell_type": "markdown",
   "metadata": {},
   "source": [
    "    If we want to execute a group of statments iterativelyuntil some condition false, then we should go for while loop.\n",
    "    \n",
    "    Synatax:\n",
    "            While condition:\n",
    "             Body of program"
   ]
  },
  {
   "cell_type": "code",
   "execution_count": null,
   "metadata": {},
   "outputs": [],
   "source": [
    "# To print numbers from 1 to 10 by using while loop\n",
    "\n",
    "num = 1\n",
    "while num<=10:\n",
    "    print(num)\n",
    "    num = num+1\n",
    "   "
   ]
  },
  {
   "cell_type": "code",
   "execution_count": null,
   "metadata": {},
   "outputs": [],
   "source": [
    "# To display the sum of first n numbers\n",
    "\n",
    "n = int(input(\"Enter the number :\"))\n",
    "\n",
    "sum = 0 \n",
    "i = 1\n",
    "\n",
    "while i <= n:\n",
    "    sum = sum+i\n",
    "    i = i +1\n",
    "print(sum)"
   ]
  },
  {
   "cell_type": "code",
   "execution_count": null,
   "metadata": {},
   "outputs": [],
   "source": [
    "# write a program to promt user to enter some name until entering \"Python\"\n",
    "\n",
    "name = \"\"\n",
    "\n",
    "while name!='Python':\n",
    "    name = input(\"Entert name\")\n",
    "print(\"Thanks for your confirmation\")"
   ]
  },
  {
   "cell_type": "code",
   "execution_count": null,
   "metadata": {},
   "outputs": [],
   "source": [
    "# Infinite Loop\n",
    "\n",
    "i = 0 \n",
    "\n",
    "# while True:\n",
    "    i = i +1\n",
    "    print(\"Hello\", i)"
   ]
  },
  {
   "cell_type": "code",
   "execution_count": null,
   "metadata": {},
   "outputs": [],
   "source": [
    "# Infinite Loop\n",
    "\n",
    "i = 0 \n",
    "\n",
    "# while i >=0:\n",
    "    i = i +1\n",
    "    print(\"Hello\", i)"
   ]
  },
  {
   "cell_type": "markdown",
   "metadata": {},
   "source": [
    "## Nested Loops\n",
    "\n",
    "    Some times we can take a loop inside another loop, which are also known as nested loops."
   ]
  },
  {
   "cell_type": "code",
   "execution_count": null,
   "metadata": {},
   "outputs": [],
   "source": [
    "for i in range(4):\n",
    "    for j in range(4):\n",
    "        print(\"i=\",i,\" j=\",j)"
   ]
  },
  {
   "cell_type": "code",
   "execution_count": null,
   "metadata": {},
   "outputs": [],
   "source": []
  },
  {
   "cell_type": "code",
   "execution_count": null,
   "metadata": {},
   "outputs": [],
   "source": []
  },
  {
   "cell_type": "code",
   "execution_count": null,
   "metadata": {},
   "outputs": [],
   "source": [
    "# write a program to display *'s' in right angle triangle form\n",
    "\n",
    "n = int(input(\"Enter the number of Rows : \"))\n",
    "for i in range(1, n+1):\n",
    "    for j in range(1, i+1):\n",
    "        print(\"*\")\n",
    "    print()\n",
    "    "
   ]
  },
  {
   "cell_type": "code",
   "execution_count": null,
   "metadata": {},
   "outputs": [],
   "source": [
    "# write a program to display *'s' in right angle triangle form\n",
    "\n",
    "n = int(input(\"Enter the number of Rows : \"))\n",
    "\n",
    "for i in range(1, n+1):\n",
    "    print(\"*\" * i)\n",
    "\n"
   ]
  },
  {
   "cell_type": "code",
   "execution_count": null,
   "metadata": {},
   "outputs": [],
   "source": [
    "# write a program to display *'s' in right angle triangle form\n",
    "\n",
    "n = int(input(\"Enter the number of Rows : \"))\n",
    "for i in range(1, n+1):\n",
    "    for j in range(1, i+1):\n",
    "        print(\"*\", end = \"\")\n",
    "    print()\n",
    "    "
   ]
  },
  {
   "cell_type": "code",
   "execution_count": null,
   "metadata": {},
   "outputs": [],
   "source": [
    "# write a program to display *'s in Pyramid Styel'{Equivalent Triangle}\n",
    "\n",
    "n = int(input(\"Enter the number of Rows : \"))\n",
    "for i in range(1, n+1):\n",
    "    print(\"\" * (n-1), end =\"\")\n",
    "    print(\"*\"*i)"
   ]
  },
  {
   "cell_type": "code",
   "execution_count": null,
   "metadata": {},
   "outputs": [],
   "source": [
    "# write a program to display *'s in Pyramid Styel'{Equivalent Triangle}\n",
    "\n",
    "n = int(input(\"Enter the number of Rows : \"))\n",
    "for i in range(1, n+1):\n",
    "    print(\" \" * (n-i), end =\"\")\n",
    "    print(\"*\"*i)"
   ]
  },
  {
   "cell_type": "code",
   "execution_count": null,
   "metadata": {},
   "outputs": [],
   "source": [
    "# write a program to display *'s in Pyramid Styel'{Equivalent Triangle}\n",
    "\n",
    "n = int(input(\"Enter the number of Rows : \"))\n",
    "for i in range(1, n+1):\n",
    "    print(\" \" * (n-i), end =\"\")\n",
    "    print(\"* \"*i)"
   ]
  },
  {
   "cell_type": "markdown",
   "metadata": {},
   "source": [
    "# 3. Transfer Statments"
   ]
  },
  {
   "cell_type": "markdown",
   "metadata": {},
   "source": [
    "## 1. break:\n",
    "\n",
    "    we can use break statment inside loops to break loop execution based on some condition."
   ]
  },
  {
   "cell_type": "code",
   "execution_count": null,
   "metadata": {},
   "outputs": [],
   "source": [
    "for i in range(10):\n",
    "    if i ==7:\n",
    "        print(\"Processing is enough.. plz break\")\n",
    "        break\n",
    "    print(i)"
   ]
  },
  {
   "cell_type": "code",
   "execution_count": null,
   "metadata": {},
   "outputs": [],
   "source": [
    "cart = [10,20,30,40,50,100,200,400,800,1000]\n",
    "\n",
    "for item in cart:\n",
    "    if item>50:\n",
    "        print(\"It should be less than 50\")\n",
    "        break\n",
    "    print(item)"
   ]
  },
  {
   "cell_type": "markdown",
   "metadata": {},
   "source": [
    "## 2. Continue\n",
    "\n",
    "    we can use continue statment to skip current iteration and continoue next iteration."
   ]
  },
  {
   "cell_type": "code",
   "execution_count": null,
   "metadata": {},
   "outputs": [],
   "source": [
    "for i in range(10):\n",
    "    if i%2==0:\n",
    "        continue\n",
    "    print(i)"
   ]
  },
  {
   "cell_type": "code",
   "execution_count": null,
   "metadata": {},
   "outputs": [],
   "source": [
    "cart = [10,20,100,200,400,800,1000,30,40,50,]\n",
    "\n",
    "for item in cart:\n",
    "    if item>500:\n",
    "        print(\"It should be less than 50\")\n",
    "        continue\n",
    "    print(item)"
   ]
  },
  {
   "cell_type": "markdown",
   "metadata": {},
   "source": [
    "### loops with else block:\n",
    "\n",
    "    Inside loop execution, if break statment not executed, then only else part will be executed.\n",
    "    \n",
    "    Else means loop without break.\n",
    "\n"
   ]
  },
  {
   "cell_type": "code",
   "execution_count": null,
   "metadata": {},
   "outputs": [],
   "source": [
    "cart = [10,20,30,40,50]\n",
    "\n",
    "for item in cart:\n",
    "    if item>=500:\n",
    "        print(\"It should be greater than 500\")\n",
    "        break\n",
    "    print(item)\n",
    "else:\n",
    "    print(\"successful\")"
   ]
  },
  {
   "cell_type": "markdown",
   "metadata": {},
   "source": [
    "#### What is the difference between for loop and while loop in python?\n",
    "\n",
    "    We can use loops to repeat code execution.\n",
    "    \n",
    "    Repeat code for every item in sequence     -> for loop\n",
    "    \n",
    "    Repeat code as long as condition is true   -> While Loop\n",
    "    \n",
    "    How to exit from the loop ?                -> By using break statment\n",
    "    \n",
    "    How to skip some iterations inside loop?   -> By using Continue\n",
    "    \n",
    "    When else part will be executed wrt loops? -> If loop executed without break\n",
    "\n"
   ]
  },
  {
   "cell_type": "markdown",
   "metadata": {},
   "source": [
    "## 3. Pass Statement: \n",
    "    \n",
    "    Pass is a keywoard in python.\n",
    "    \n",
    "    In our programming synatactically if block is required which won't do anything then we can define that empty block with pass keyword.\n",
    "\n",
    "\n",
    "### Pass:\n",
    "\n",
    "| - it is an empty statment\n",
    "\n",
    "| - it is null statment\n",
    "\n",
    "| - it won't do anything\n",
    "\n",
    "\n",
    "Eg :  If true:\n",
    "\n",
    "      SyntaxError: Unexpected EOF While Parsing\n",
    "      \n",
    "      If True: Pass -> Valid\n",
    "      \n",
    "      \n",
    "      \n",
    "      def m1()\n",
    "      \n",
    "          SynaxError : Unexpected EOF while Parsing\n",
    "          \n",
    "          def m1(): pass\n"
   ]
  },
  {
   "cell_type": "markdown",
   "metadata": {},
   "source": [
    "### Use case of Pass\n",
    "\n",
    "\n",
    "    Sometimes in the parent class we have to declare a function with empty body and child class responsible to provide proper implementation. such type of empty body we can define by using pass Keywoard. \n",
    "    \n",
    "    eg: def m1(): Pass"
   ]
  },
  {
   "cell_type": "code",
   "execution_count": null,
   "metadata": {},
   "outputs": [],
   "source": [
    "for i in range(100):\n",
    "    if i %9 ==0:\n",
    "        print(i)\n",
    "    else: pass"
   ]
  },
  {
   "cell_type": "markdown",
   "metadata": {},
   "source": [
    "## del statment:\n",
    "\n",
    "    del is a keywoard in Pyhton.\n",
    "    \n",
    "    After using a variable, It is highly recomended to delete that varaibale if it is no longer required, so that thte corresponding object is eligible for Garbage collecton.\n",
    "    \n",
    "    We can delete varaible by using del keyword.\n",
    "    \n",
    "    "
   ]
  },
  {
   "cell_type": "code",
   "execution_count": null,
   "metadata": {},
   "outputs": [],
   "source": []
  },
  {
   "cell_type": "code",
   "execution_count": null,
   "metadata": {},
   "outputs": [],
   "source": [
    "x= 10\n",
    "\n",
    "x"
   ]
  },
  {
   "cell_type": "code",
   "execution_count": null,
   "metadata": {},
   "outputs": [],
   "source": [
    "del x\n",
    "\n",
    "x"
   ]
  },
  {
   "cell_type": "markdown",
   "metadata": {},
   "source": [
    "## Note: \n",
    "    we can delete varibles which are pointing to immutable objects. But we cannot delete the elements present inside immutable objects."
   ]
  },
  {
   "cell_type": "code",
   "execution_count": null,
   "metadata": {},
   "outputs": [],
   "source": [
    "s = \"Python\"\n",
    "print(s)\n",
    "\n",
    "del s[0]"
   ]
  },
  {
   "cell_type": "markdown",
   "metadata": {},
   "source": [
    "## Difference between del and None:\n",
    "\n",
    "In the case del , the varaible will be removed and we cannot access theat variable(unbind operation)"
   ]
  },
  {
   "cell_type": "code",
   "execution_count": null,
   "metadata": {},
   "outputs": [],
   "source": [
    "s = 'Python'\n",
    "del s\n",
    "print(s)"
   ]
  },
  {
   "cell_type": "markdown",
   "metadata": {},
   "source": [
    "    But in the case of None assignment the varaible won't be removed but corresponding object is eligible for garbage collection(re bind operation). Hence after assigning with None Value, We can access that variable."
   ]
  },
  {
   "cell_type": "code",
   "execution_count": null,
   "metadata": {},
   "outputs": [],
   "source": [
    "s = 'Python'\n",
    "s = None\n",
    "print(s)"
   ]
  },
  {
   "cell_type": "markdown",
   "metadata": {},
   "source": [
    "## String dataType"
   ]
  },
  {
   "cell_type": "markdown",
   "metadata": {},
   "source": [
    "    The most commonly used object in any project and in any programming language is string only. Hence we should aware complete information about string data type."
   ]
  },
  {
   "cell_type": "markdown",
   "metadata": {},
   "source": [
    "### What is String ?\n",
    "\n",
    "    Any Sequence of characters within either single quotes or double quotes is considered as a string.\n",
    "    \n",
    "    Syntax :\n",
    "    \n",
    "        m = 'Mohan'\n",
    "    \n",
    "        m1 = \"Mohan\"\n",
    "    \n",
    "    \n",
    "    Note:-\n",
    "        In most of other languages like c, c++, java, a singlecharacter with in single quotes is treated as char data type value. But in python we are not having char data type. Hence it is treated as string only."
   ]
  },
  {
   "cell_type": "code",
   "execution_count": null,
   "metadata": {},
   "outputs": [],
   "source": [
    "m  = 'String'\n",
    "n = \"Python\"\n",
    "\n",
    "# not char its a string \n",
    "p = 's'\n",
    "\n",
    "print(type(m))\n",
    "\n",
    "print(type(n))\n",
    "\n",
    "print(type(p))  # its not a char"
   ]
  },
  {
   "cell_type": "code",
   "execution_count": null,
   "metadata": {},
   "outputs": [],
   "source": []
  },
  {
   "cell_type": "markdown",
   "metadata": {},
   "source": [
    "## How to define multi-line string Literals?\n",
    "\n",
    "    We can define multi-line String literals by using triple signle or double quotes."
   ]
  },
  {
   "cell_type": "code",
   "execution_count": null,
   "metadata": {},
   "outputs": [],
   "source": [
    "s = '''Python \n",
    "is Very \n",
    "Easy and powerfull Language'''\n",
    "s"
   ]
  },
  {
   "cell_type": "code",
   "execution_count": null,
   "metadata": {},
   "outputs": [],
   "source": [
    "s = 'This is' single quote Symbol'    # invalid\n",
    "\n"
   ]
  },
  {
   "cell_type": "code",
   "execution_count": null,
   "metadata": {},
   "outputs": [],
   "source": [
    "s = 'This is \\' single quote symbol'  # valid"
   ]
  },
  {
   "cell_type": "code",
   "execution_count": null,
   "metadata": {},
   "outputs": [],
   "source": [
    "s = \"This is 'single quuote symbol\"   # valid"
   ]
  },
  {
   "cell_type": "code",
   "execution_count": null,
   "metadata": {},
   "outputs": [],
   "source": [
    "s= 'this is\" double quote symbol'     # valid"
   ]
  },
  {
   "cell_type": "code",
   "execution_count": null,
   "metadata": {},
   "outputs": [],
   "source": [
    "s = 'The\"Python Notes\"by'is very helpfull'  # invalid"
   ]
  },
  {
   "cell_type": "code",
   "execution_count": null,
   "metadata": {},
   "outputs": [],
   "source": [
    "s = \"The \"Python Notes\" by 'durga' is very helpfull\"  # invalid"
   ]
  },
  {
   "cell_type": "code",
   "execution_count": null,
   "metadata": {},
   "outputs": [],
   "source": [
    "s = 'The \\\" Python Notes\" by \\'durga\\' is very helpful'   # valid"
   ]
  },
  {
   "cell_type": "code",
   "execution_count": null,
   "metadata": {},
   "outputs": [],
   "source": [
    "s = '''The \"Python Notes\"by'durga'is very helpfull'''     # Valid"
   ]
  },
  {
   "cell_type": "code",
   "execution_count": null,
   "metadata": {},
   "outputs": [],
   "source": []
  },
  {
   "cell_type": "code",
   "execution_count": null,
   "metadata": {},
   "outputs": [],
   "source": [
    "## How to access characters of a string ?\n",
    "\n",
    "    We can access characters of a string by using the following ways\n",
    "    \n",
    "        1. By Using index   {+ve index, -ve index}\n",
    "        2. By Using slice operator"
   ]
  },
  {
   "cell_type": "markdown",
   "metadata": {},
   "source": [
    "1. write a program to accept some string from the keyboard and display it's  characters by index wise (Both Positive and Negetive)"
   ]
  },
  {
   "cell_type": "code",
   "execution_count": null,
   "metadata": {},
   "outputs": [],
   "source": [
    "s = input(\"Enter the String : \")\n",
    "\n",
    "i = 0 \n",
    "\n",
    "for c in s:\n",
    "    print(\"The caharater present at the +ve index {} and at -ve index {} is {}\".format(i,i-len(s),c))\n",
    "    i = i +1"
   ]
  },
  {
   "cell_type": "markdown",
   "metadata": {},
   "source": [
    " --> slicing of string with positive and -ve indexes"
   ]
  },
  {
   "cell_type": "markdown",
   "metadata": {},
   "source": [
    "2. Write a program to access each character of string in Forward and backwoard Direction by using while loop?"
   ]
  },
  {
   "cell_type": "code",
   "execution_count": null,
   "metadata": {},
   "outputs": [],
   "source": [
    "s = \"This is Python\"\n",
    "\n",
    "n= len(s)\n",
    "i = 0\n",
    "print(\"Forward direction\")\n",
    "while i < n:\n",
    "    print(s[i])\n",
    "    i = i +1\n",
    "    \n",
    "print(\"Backwoard direction\")\n",
    "\n",
    "i = -1\n",
    "\n",
    "while i >= -n:\n",
    "    print(s[i])\n",
    "    i = i-1"
   ]
  },
  {
   "cell_type": "code",
   "execution_count": null,
   "metadata": {},
   "outputs": [],
   "source": [
    "s = \"This is Python\"\n",
    "\n",
    "n= len(s)\n",
    "i = 0\n",
    "print(\"Forward direction\")\n",
    "while i < n:\n",
    "    print(s[i],end = '')\n",
    "    i = i +1\n",
    "    \n",
    "print(\"Backwoard direction\")\n",
    "\n",
    "i = -1\n",
    "\n",
    "while i >= -n:\n",
    "    print(s[i],end = '')\n",
    "    i = i-1"
   ]
  },
  {
   "cell_type": "code",
   "execution_count": null,
   "metadata": {},
   "outputs": [],
   "source": [
    "# checking membership\n",
    "\n",
    "m = \"This is python\"\n",
    "\n",
    "print('q' in m )\n",
    "\n",
    "print('t' in m )"
   ]
  },
  {
   "cell_type": "code",
   "execution_count": null,
   "metadata": {},
   "outputs": [],
   "source": []
  },
  {
   "cell_type": "code",
   "execution_count": null,
   "metadata": {},
   "outputs": [],
   "source": []
  },
  {
   "cell_type": "code",
   "execution_count": null,
   "metadata": {},
   "outputs": [],
   "source": []
  },
  {
   "cell_type": "code",
   "execution_count": null,
   "metadata": {},
   "outputs": [],
   "source": []
  },
  {
   "cell_type": "code",
   "execution_count": null,
   "metadata": {},
   "outputs": [],
   "source": []
  },
  {
   "cell_type": "code",
   "execution_count": null,
   "metadata": {},
   "outputs": [],
   "source": []
  },
  {
   "cell_type": "code",
   "execution_count": null,
   "metadata": {},
   "outputs": [],
   "source": []
  },
  {
   "cell_type": "code",
   "execution_count": null,
   "metadata": {},
   "outputs": [],
   "source": []
  },
  {
   "cell_type": "code",
   "execution_count": null,
   "metadata": {},
   "outputs": [],
   "source": []
  },
  {
   "cell_type": "code",
   "execution_count": null,
   "metadata": {},
   "outputs": [],
   "source": []
  },
  {
   "cell_type": "code",
   "execution_count": null,
   "metadata": {},
   "outputs": [],
   "source": []
  },
  {
   "cell_type": "code",
   "execution_count": null,
   "metadata": {},
   "outputs": [],
   "source": []
  },
  {
   "cell_type": "code",
   "execution_count": null,
   "metadata": {},
   "outputs": [],
   "source": []
  },
  {
   "cell_type": "code",
   "execution_count": null,
   "metadata": {},
   "outputs": [],
   "source": []
  },
  {
   "cell_type": "code",
   "execution_count": null,
   "metadata": {},
   "outputs": [],
   "source": []
  },
  {
   "cell_type": "code",
   "execution_count": null,
   "metadata": {},
   "outputs": [],
   "source": []
  },
  {
   "cell_type": "code",
   "execution_count": null,
   "metadata": {},
   "outputs": [],
   "source": []
  },
  {
   "cell_type": "code",
   "execution_count": null,
   "metadata": {},
   "outputs": [],
   "source": []
  },
  {
   "cell_type": "code",
   "execution_count": null,
   "metadata": {},
   "outputs": [],
   "source": []
  },
  {
   "cell_type": "code",
   "execution_count": null,
   "metadata": {},
   "outputs": [],
   "source": []
  },
  {
   "cell_type": "code",
   "execution_count": null,
   "metadata": {},
   "outputs": [],
   "source": []
  },
  {
   "cell_type": "code",
   "execution_count": null,
   "metadata": {},
   "outputs": [],
   "source": []
  },
  {
   "cell_type": "code",
   "execution_count": null,
   "metadata": {},
   "outputs": [],
   "source": []
  },
  {
   "cell_type": "code",
   "execution_count": null,
   "metadata": {},
   "outputs": [],
   "source": []
  },
  {
   "cell_type": "code",
   "execution_count": null,
   "metadata": {},
   "outputs": [],
   "source": []
  },
  {
   "cell_type": "code",
   "execution_count": null,
   "metadata": {},
   "outputs": [],
   "source": []
  },
  {
   "cell_type": "code",
   "execution_count": null,
   "metadata": {},
   "outputs": [],
   "source": []
  },
  {
   "cell_type": "code",
   "execution_count": null,
   "metadata": {},
   "outputs": [],
   "source": []
  },
  {
   "cell_type": "code",
   "execution_count": null,
   "metadata": {},
   "outputs": [],
   "source": []
  },
  {
   "cell_type": "code",
   "execution_count": null,
   "metadata": {},
   "outputs": [],
   "source": []
  },
  {
   "cell_type": "code",
   "execution_count": null,
   "metadata": {},
   "outputs": [],
   "source": []
  },
  {
   "cell_type": "code",
   "execution_count": null,
   "metadata": {},
   "outputs": [],
   "source": []
  },
  {
   "cell_type": "code",
   "execution_count": null,
   "metadata": {},
   "outputs": [],
   "source": []
  },
  {
   "cell_type": "code",
   "execution_count": null,
   "metadata": {},
   "outputs": [],
   "source": []
  },
  {
   "cell_type": "code",
   "execution_count": null,
   "metadata": {},
   "outputs": [],
   "source": []
  },
  {
   "cell_type": "code",
   "execution_count": null,
   "metadata": {},
   "outputs": [],
   "source": []
  },
  {
   "cell_type": "code",
   "execution_count": null,
   "metadata": {},
   "outputs": [],
   "source": []
  },
  {
   "cell_type": "code",
   "execution_count": null,
   "metadata": {},
   "outputs": [],
   "source": []
  },
  {
   "cell_type": "code",
   "execution_count": null,
   "metadata": {},
   "outputs": [],
   "source": []
  },
  {
   "cell_type": "code",
   "execution_count": null,
   "metadata": {},
   "outputs": [],
   "source": []
  },
  {
   "cell_type": "code",
   "execution_count": null,
   "metadata": {},
   "outputs": [],
   "source": []
  },
  {
   "cell_type": "code",
   "execution_count": null,
   "metadata": {},
   "outputs": [],
   "source": []
  },
  {
   "cell_type": "code",
   "execution_count": null,
   "metadata": {},
   "outputs": [],
   "source": []
  },
  {
   "cell_type": "code",
   "execution_count": null,
   "metadata": {},
   "outputs": [],
   "source": []
  },
  {
   "cell_type": "code",
   "execution_count": null,
   "metadata": {},
   "outputs": [],
   "source": []
  },
  {
   "cell_type": "code",
   "execution_count": null,
   "metadata": {},
   "outputs": [],
   "source": [
    "## Practice programs \n",
    " # Exam marks (if -elif - else)\n",
    "\n",
    "# 1. Model\n",
    "\n",
    "\n",
    "\n",
    "\n",
    "\n",
    "\n",
    "marks = int(input(\"Enter the marks Obtained in the exam: \"))\n",
    "\n",
    "# marks = 600\n",
    "\n",
    "if 0<marks<=200:\n",
    "    print(\"Student Failed examination\")\n",
    "    \n",
    "elif 201<marks<=400:\n",
    "    print(\"Grade c\")\n",
    "    \n",
    "elif 401<marks<=700:\n",
    "    print(\"Grade B\")\n",
    "    \n",
    "elif 701<marks<=900:\n",
    "    print(\"Grade A\")\n",
    "\n",
    "elif 900<marks<=1000:\n",
    "    print('Grade A+')\n",
    "    \n",
    "else:\n",
    "    print(\"Enter the marks in the corrfect format\")\n",
    "    \n",
    "if marks%2==0:\n",
    "    print(\"Marks Obtained are even\")\n",
    "    \n",
    "else:\n",
    "    print(\"Marks Obtained are Odd\")\n",
    "\n",
    "    \n"
   ]
  },
  {
   "cell_type": "code",
   "execution_count": null,
   "metadata": {},
   "outputs": [],
   "source": [
    "marks = input(\"Enter the Marks Obtained :\")\n",
    "\n",
    "if(type(marks)==int):\n",
    "    \n",
    "    if(marks <0):\n",
    "        print(\"There are no negitive marks please enter proper marks.\")\n",
    "\n",
    "    elif(0<= marks <300):\n",
    "        print(\"He is Failed :\" )\n",
    "\n",
    "    elif(300<=marks<400):\n",
    "        print(\"This strudent belongs to Bronze group\")\n",
    "\n",
    "    elif(400<= marks <500):\n",
    "        print(\"This strudent belongs to silver group\")\n",
    "\n",
    "    elif(500<= marks <550):\n",
    "        print(\"This strudent belongs to Gold group\")\n",
    "\n",
    "    elif(550<marks<=600):\n",
    "        print(\"This strudent belongs to Platinum group\")\n",
    "\n",
    "    elif(marks >600):\n",
    "        \n",
    "        print(\"Actually this exams max marks are 600 only no chance to get this many marks.\")\n",
    "               \n",
    "\n",
    "else:\n",
    "\n",
    "    print(\"Enter marks in Proper format\")"
   ]
  },
  {
   "cell_type": "code",
   "execution_count": null,
   "metadata": {},
   "outputs": [],
   "source": [
    "1 - 1000   divide 10 grades  -> ABCDEFGHIJ"
   ]
  },
  {
   "cell_type": "code",
   "execution_count": null,
   "metadata": {},
   "outputs": [],
   "source": [
    "# while loop\n",
    "\n",
    "a = 100 \n",
    "while a<120:\n",
    "    print(\"A\")\n",
    "    a +=1"
   ]
  },
  {
   "cell_type": "code",
   "execution_count": 5,
   "metadata": {},
   "outputs": [
    {
     "name": "stdout",
     "output_type": "stream",
     "text": [
      "enter your age 25\n",
      "your tiket cost is 300\n"
     ]
    }
   ],
   "source": [
    "name=int(input('enter your age '))\n",
    "\n",
    "if name>=25:\n",
    "    print('your tiket cost is 300')\n",
    "    \n",
    "else :\n",
    "    print('your tiket cost is 100')"
   ]
  },
  {
   "cell_type": "code",
   "execution_count": 3,
   "metadata": {},
   "outputs": [],
   "source": [
    "dict={'Fruit_Name':[2,3,4,5]}"
   ]
  },
  {
   "cell_type": "code",
   "execution_count": 5,
   "metadata": {},
   "outputs": [
    {
     "data": {
      "text/plain": [
       "<function dict.keys>"
      ]
     },
     "execution_count": 5,
     "metadata": {},
     "output_type": "execute_result"
    }
   ],
   "source": [
    "dict.vs"
   ]
  },
  {
   "cell_type": "code",
   "execution_count": 8,
   "metadata": {},
   "outputs": [
    {
     "name": "stdout",
     "output_type": "stream",
     "text": [
      "1D Array filled with random values : \n",
      " [0.62450251 0.19439613 0.99110446 0.90184766 0.57925622]\n"
     ]
    }
   ],
   "source": [
    "import numpy as geek \n",
    "   \n",
    "# 1D Array \n",
    "array = geek.random.rand(5) \n",
    "print(\"1D Array filled with random values : \\n\", array)"
   ]
  },
  {
   "cell_type": "code",
   "execution_count": 9,
   "metadata": {},
   "outputs": [],
   "source": [
    "def string_test(s):\n",
    "    d={\"UPPER_CASE\":0, \"LOWER_CASE\":0}\n",
    "    for c in s:\n",
    "        if c.isupper():\n",
    "           d[\"UPPER_CASE\"]+=1\n",
    "        elif c.islower():\n",
    "           d[\"LOWER_CASE\"]+=1\n",
    "        else:\n",
    "           pass\n",
    "    print (\"Original String : \", s)\n",
    "    print (\"No. of Upper case characters : \", d[\"UPPER_CASE\"])\n",
    "    print (\"No. of Lower case Characters : \", d[\"LOWER_CASE\"])\n"
   ]
  },
  {
   "cell_type": "code",
   "execution_count": 10,
   "metadata": {},
   "outputs": [
    {
     "name": "stdout",
     "output_type": "stream",
     "text": [
      "Original String :  The quick Brown Fox\n",
      "No. of Upper case characters :  3\n",
      "No. of Lower case Characters :  13\n"
     ]
    }
   ],
   "source": [
    "string_test('The quick Brown Fox')"
   ]
  },
  {
   "cell_type": "code",
   "execution_count": 12,
   "metadata": {},
   "outputs": [
    {
     "name": "stdout",
     "output_type": "stream",
     "text": [
      "[1, 2, 3, 4]\n"
     ]
    }
   ],
   "source": [
    "numbers = [1, 3, 4, 2] \n",
    "  \n",
    "# Sorting list of Integers in ascending \n",
    "numbers.sort() \n",
    "  \n",
    "print(numbers) \n"
   ]
  },
  {
   "cell_type": "code",
   "execution_count": 15,
   "metadata": {},
   "outputs": [
    {
     "name": "stdout",
     "output_type": "stream",
     "text": [
      "[4, 3, 2, 1]\n"
     ]
    }
   ],
   "source": [
    "numbers = [1,2,3,4] \n",
    "  \n",
    "# Sorting list of Integers in ascending \n",
    "numbers.sort() \n",
    "  \n",
    "print(numbers[-1::-1]) \n"
   ]
  },
  {
   "cell_type": "code",
   "execution_count": 27,
   "metadata": {},
   "outputs": [
    {
     "name": "stdout",
     "output_type": "stream",
     "text": [
      "2\n",
      "3\n",
      "4\n",
      "5\n",
      "2 3 4 5 5 "
     ]
    }
   ],
   "source": [
    "a=[1,2,3,4,5]\n",
    "for i in range (1,5):\n",
    "    a[i-1] = a[i]\n",
    "    print(a[i])\n",
    "for i in range (0,5):\n",
    "    print(a[i],end = ' ')"
   ]
  },
  {
   "cell_type": "code",
   "execution_count": 26,
   "metadata": {},
   "outputs": [
    {
     "name": "stdout",
     "output_type": "stream",
     "text": [
      "1\n",
      "2\n",
      "3\n",
      "4\n"
     ]
    }
   ],
   "source": [
    "for i in range (1,5):\n",
    "    print(i)"
   ]
  }
 ],
 "metadata": {
  "kernelspec": {
   "display_name": "Python 3",
   "language": "python",
   "name": "python3"
  },
  "language_info": {
   "codemirror_mode": {
    "name": "ipython",
    "version": 3
   },
   "file_extension": ".py",
   "mimetype": "text/x-python",
   "name": "python",
   "nbconvert_exporter": "python",
   "pygments_lexer": "ipython3",
   "version": "3.7.3"
  }
 },
 "nbformat": 4,
 "nbformat_minor": 2
}
